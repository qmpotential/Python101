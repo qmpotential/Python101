{
  "nbformat": 4,
  "nbformat_minor": 0,
  "metadata": {
    "colab": {
      "provenance": [],
      "toc_visible": true,
      "authorship_tag": "ABX9TyMgc2kOYVLWHXpQzB6joNyd",
      "include_colab_link": true
    },
    "kernelspec": {
      "name": "python3",
      "display_name": "Python 3"
    },
    "language_info": {
      "name": "python"
    }
  },
  "cells": [
    {
      "cell_type": "markdown",
      "metadata": {
        "id": "view-in-github",
        "colab_type": "text"
      },
      "source": [
        "<a href=\"https://colab.research.google.com/github/qmpotential/Python101/blob/main/Python101.ipynb\" target=\"_parent\"><img src=\"https://colab.research.google.com/assets/colab-badge.svg\" alt=\"Open In Colab\"/></a>"
      ]
    },
    {
      "cell_type": "markdown",
      "source": [
        "**Introductin to Python**\n",
        "\n",
        "by Oleg N. Starovoytov\n",
        "\n",
        "Date: 03/22/2023"
      ],
      "metadata": {
        "id": "IIB88iwPO5F-"
      }
    },
    {
      "cell_type": "markdown",
      "source": [
        "# Python *101*\n",
        "1. Comments\n",
        "2. Variables\n",
        "3. Operators\n",
        "4. Data types\n",
        "5. Control flows\n",
        "6. File I/O\n",
        "7. Python modules\n",
        "8. Classes"
      ],
      "metadata": {
        "id": "Ptut8gykhIuv"
      }
    },
    {
      "cell_type": "markdown",
      "source": [
        "# 1. Comments"
      ],
      "metadata": {
        "id": "fKMS-GhxE04A"
      }
    },
    {
      "cell_type": "markdown",
      "source": [
        "Comments are usually used to indicate important details about the code.\n",
        "\n",
        "\"#\" - sign is used for comments in python, it can be placed right after the code. \n",
        "\n",
        "You can use triple quotes to make a multiline comments\n",
        "\n",
        "\"\"\" Your comments can be placed here \"\"\""
      ],
      "metadata": {
        "id": "95f_6_PbFDsk"
      }
    },
    {
      "cell_type": "code",
      "source": [
        "# This is a comment\n",
        "print(\"Hello World!\")"
      ],
      "metadata": {
        "colab": {
          "base_uri": "https://localhost:8080/"
        },
        "id": "EzgnB7SAF2Hs",
        "outputId": "613767df-1978-4e55-f2b3-5d7b519b0dfe"
      },
      "execution_count": null,
      "outputs": [
        {
          "output_type": "stream",
          "name": "stdout",
          "text": [
            "Hello World!\n"
          ]
        }
      ]
    },
    {
      "cell_type": "code",
      "source": [
        "# This is a first comment\n",
        "print(\"Hello World!\") # This is my second comment"
      ],
      "metadata": {
        "colab": {
          "base_uri": "https://localhost:8080/"
        },
        "id": "NHQIdP0nF8IZ",
        "outputId": "54812f45-9d14-4c5b-935a-9f165e221b06"
      },
      "execution_count": null,
      "outputs": [
        {
          "output_type": "stream",
          "name": "stdout",
          "text": [
            "Hello World!\n"
          ]
        }
      ]
    },
    {
      "cell_type": "code",
      "source": [
        "\"\"\" This is a multiple \n",
        "line\n",
        "commnet \"\"\"\n",
        "print(\"Hello World!\")"
      ],
      "metadata": {
        "colab": {
          "base_uri": "https://localhost:8080/"
        },
        "id": "oVfXjlu-GHb3",
        "outputId": "6cd8f02b-38a5-460d-e4ad-59349df6846c"
      },
      "execution_count": null,
      "outputs": [
        {
          "output_type": "stream",
          "name": "stdout",
          "text": [
            "Hello World!\n"
          ]
        }
      ]
    },
    {
      "cell_type": "markdown",
      "source": [
        "# 2. Variables\n",
        "\n",
        "**A variable's name references or points to an object. Each object can have various data types with some stored values. No particular type is used upon variable declaration.**\n",
        "\n",
        "There are some rules for creating a variable name: \n",
        "\n",
        "a) A variable name can start with alpha-numeric characters and/or underscore (A-z, 0-9, and _ ),\n",
        "\n",
        "b) a variable name is case-sensitive,\n",
        "\n",
        "c) there is no limit on varable length,\n",
        "\n",
        "d) there should not be any spaces for a multi-word variable,\n",
        "\n",
        "e) no python keywords can be used to create a variable name,\n",
        "   \n",
        "   Examples: **for, while, print, ...**\n",
        "\n",
        "To assign an object to the variable you need to use assign operator"
      ],
      "metadata": {
        "id": "Obdgar5uk9bO"
      }
    },
    {
      "cell_type": "code",
      "source": [
        "#Correct declaration of variables\n",
        "myFirstVariable = \"John\"\n",
        "MyFirstVariable = \"John\"\n",
        "my_first_variable = \"John\"\n",
        "_my_first_Variable = \"John\"\n",
        "MY_FIRST_VARIABLE = \"John\"\n",
        "myFirst_Variable363 = \"John\""
      ],
      "metadata": {
        "id": "7hkrjOPCLysP"
      },
      "execution_count": null,
      "outputs": []
    },
    {
      "cell_type": "code",
      "source": [
        "#Illegal declaration of variables\n",
        "\n",
        "100myFirstVariable = \"John\" # can not start with a number\n",
        "my-first-variable = \"John\". # can not have dash in the name\n",
        "my first variable = \"John\"  # can not have spaces in the variable name\n",
        "&myFirstVariable=\"John\"     # can not have special characters in the name \n",
        "for = \"John\"                # can not use reserved python keywords"
      ],
      "metadata": {
        "id": "WkzKQsuNMQbN"
      },
      "execution_count": null,
      "outputs": []
    },
    {
      "cell_type": "code",
      "source": [
        "# Declaration of variables \n",
        "TestVariable = 1.0\n",
        "print(type(TestVariable))\n",
        "print(TestVariable)\n",
        "TestVariable = \"Python is fun!\"\n",
        "print(type(TestVariable))\n",
        "print(TestVariable)"
      ],
      "metadata": {
        "colab": {
          "base_uri": "https://localhost:8080/"
        },
        "id": "ulQ1wucCJWm_",
        "outputId": "cc4bbbb9-46f0-4f15-bde9-c61047d863ed"
      },
      "execution_count": null,
      "outputs": [
        {
          "output_type": "stream",
          "name": "stdout",
          "text": [
            "<class 'float'>\n",
            "1.0\n",
            "<class 'str'>\n",
            "Python is fun!\n"
          ]
        }
      ]
    },
    {
      "cell_type": "markdown",
      "source": [
        "Some other rules and conventions:\n"
      ],
      "metadata": {
        "id": "KbhL2URwEWcM"
      }
    },
    {
      "cell_type": "markdown",
      "source": [
        "   **Camel Case** - each word starts with a capital letter except the first one.\n",
        "\n",
        "   Example: **myVariableName**\n",
        "\n",
        "   **Pascal Case** - each word starts with a capital letter.\n",
        "\n",
        "   Example: **MyVariableName**\n",
        "\n",
        "   **Snake Case** - each word is connected by underscore.\n",
        "\n",
        "   Example: **my_variable_name**"
      ],
      "metadata": {
        "id": "PHyhHsIAEayp"
      }
    },
    {
      "cell_type": "code",
      "source": [
        "# Declaration of a variable using Camel Case\n",
        "myFirstVariable = \"Camel Case\"\n",
        "print(myFirstVariable)"
      ],
      "metadata": {
        "colab": {
          "base_uri": "https://localhost:8080/"
        },
        "id": "ulabfaGSKdH2",
        "outputId": "6ed8f028-521b-414b-f9d2-f0d7410b1e1b"
      },
      "execution_count": null,
      "outputs": [
        {
          "output_type": "stream",
          "name": "stdout",
          "text": [
            "Camel Case\n"
          ]
        }
      ]
    },
    {
      "cell_type": "code",
      "source": [
        "# Declaration of a variable using Pascal Case\n",
        "MyFirstVariable = \"Pascal Case\"\n",
        "print(MyFirstVariable)"
      ],
      "metadata": {
        "colab": {
          "base_uri": "https://localhost:8080/"
        },
        "id": "kzDovAizKr9o",
        "outputId": "b6187863-dc81-4b7e-ff8a-dc13ba90e112"
      },
      "execution_count": null,
      "outputs": [
        {
          "output_type": "stream",
          "name": "stdout",
          "text": [
            "Pascal Case\n"
          ]
        }
      ]
    },
    {
      "cell_type": "code",
      "source": [
        "# Declaration of a variable using Snake Case\n",
        "my_first_variable = \"Snake Case\"\n",
        "print(my_first_variable)"
      ],
      "metadata": {
        "colab": {
          "base_uri": "https://localhost:8080/"
        },
        "id": "vW3-ecGDK6Lu",
        "outputId": "a464e462-fd09-495e-9e9c-cb617d385b6c"
      },
      "execution_count": null,
      "outputs": [
        {
          "output_type": "stream",
          "name": "stdout",
          "text": [
            "Snake Case\n"
          ]
        }
      ]
    },
    {
      "cell_type": "markdown",
      "source": [
        "Assign multiple values"
      ],
      "metadata": {
        "id": "jQP8DqfbOszc"
      }
    },
    {
      "cell_type": "code",
      "source": [
        "# Assign multiple values to multiple variables in one line \n",
        "x, y, z = 23.4, 35.6, 45.1\n",
        "print(x)\n",
        "print(y)\n",
        "print(z)"
      ],
      "metadata": {
        "colab": {
          "base_uri": "https://localhost:8080/"
        },
        "id": "6PUy49h1Ov7F",
        "outputId": "4ddc6611-60c2-4dcc-f813-0ae8039ef13f"
      },
      "execution_count": null,
      "outputs": [
        {
          "output_type": "stream",
          "name": "stdout",
          "text": [
            "23.4\n",
            "35.6\n",
            "45.1\n"
          ]
        }
      ]
    },
    {
      "cell_type": "code",
      "source": [],
      "metadata": {
        "id": "jKP6ZvdhPmVe"
      },
      "execution_count": null,
      "outputs": []
    },
    {
      "cell_type": "code",
      "source": [
        "# Assign multiple values of multiple data types to multiple variables in one line \n",
        "x, y, z, e, f, g = 23.4, 35.6, 45.1, \"John\", \"Karl\", True\n",
        "print(x)\n",
        "print(y)\n",
        "print(z)\n",
        "print(e)\n",
        "print(f)\n",
        "print(g)"
      ],
      "metadata": {
        "colab": {
          "base_uri": "https://localhost:8080/"
        },
        "outputId": "95fcb394-51d0-4794-910d-5a34d983e648",
        "id": "utu2h8QPPpog"
      },
      "execution_count": null,
      "outputs": [
        {
          "output_type": "stream",
          "name": "stdout",
          "text": [
            "23.4\n",
            "35.6\n",
            "45.1\n",
            "John\n",
            "Karl\n",
            "True\n"
          ]
        }
      ]
    },
    {
      "cell_type": "code",
      "source": [
        "# Assign one value to multiple variables\n",
        "x=y=z=2.25\n",
        "print(x)\n",
        "print(y)\n",
        "print(z)"
      ],
      "metadata": {
        "colab": {
          "base_uri": "https://localhost:8080/"
        },
        "id": "cxAe_TDSQGy2",
        "outputId": "ccf73957-08df-49a0-bac6-14230af981fa"
      },
      "execution_count": null,
      "outputs": [
        {
          "output_type": "stream",
          "name": "stdout",
          "text": [
            "2.25\n",
            "2.25\n",
            "2.25\n"
          ]
        }
      ]
    },
    {
      "cell_type": "code",
      "source": [
        "#Using unpacking\n",
        "coordinates=[2.35, 6.37, -8.94]\n",
        "x,y,z = coordinates\n",
        "print(x)\n",
        "print(y)\n",
        "print(z)"
      ],
      "metadata": {
        "colab": {
          "base_uri": "https://localhost:8080/"
        },
        "id": "x5i3eTHMQerG",
        "outputId": "ec3efed8-ac96-4e95-9dc2-0c00b2537cfa"
      },
      "execution_count": null,
      "outputs": [
        {
          "output_type": "stream",
          "name": "stdout",
          "text": [
            "2.35\n",
            "6.37\n",
            "-8.94\n"
          ]
        }
      ]
    },
    {
      "cell_type": "code",
      "source": [
        "#Output variables\n",
        "coordinates=[2.35, 6.37, -8.94]\n",
        "x,y,z = coordinates\n",
        "print(x, y, z)\n",
        "print(x+y+z)"
      ],
      "metadata": {
        "colab": {
          "base_uri": "https://localhost:8080/"
        },
        "outputId": "f8b412f9-f941-40b1-f65d-6271a9370788",
        "id": "9004FlukQ5mA"
      },
      "execution_count": null,
      "outputs": [
        {
          "output_type": "stream",
          "name": "stdout",
          "text": [
            "2.35 6.37 -8.94\n",
            "-0.21999999999999886\n"
          ]
        }
      ]
    },
    {
      "cell_type": "code",
      "source": [
        "#Output variables\n",
        "coordinates=[\"John\", \"Lisa\", \"Michelle\"]\n",
        "x,y,z = coordinates\n",
        "print(x, y, z)\n",
        "print(x+y+z)\n",
        "print(\"*\"*5)"
      ],
      "metadata": {
        "colab": {
          "base_uri": "https://localhost:8080/"
        },
        "outputId": "7f7889bf-b742-46a0-e3c9-0009424500a7",
        "id": "HO6UumH4RNWv"
      },
      "execution_count": null,
      "outputs": [
        {
          "output_type": "stream",
          "name": "stdout",
          "text": [
            "John Lisa Michelle\n",
            "JohnLisaMichelle\n",
            "*****\n"
          ]
        }
      ]
    },
    {
      "cell_type": "markdown",
      "source": [
        "**Global and local variables**\n",
        "\n",
        "**Global variables** are the variables that can be accessed from anywhere in your code.\n",
        "\n",
        "**Local variables** are accessable withing a local scope."
      ],
      "metadata": {
        "id": "P9P61uxDRk-I"
      }
    },
    {
      "cell_type": "code",
      "source": [
        "mySecondVariable = \"cool!\"\n",
        "\n",
        "def myfunc():\n",
        "  print(\"Python is \" + mySecondVariable)\n",
        "\n",
        "myfunc()"
      ],
      "metadata": {
        "id": "MdPiV7DsR2iP"
      },
      "execution_count": null,
      "outputs": []
    },
    {
      "cell_type": "code",
      "source": [
        "myThirdVariable = \"awesome\"\n",
        "\n",
        "def myfunc():\n",
        "  myLocalVariable = \"fantastic\"\n",
        "  print(\"Python is \" + myThirdVariable)\n",
        "  print(\"Python is \" + myLocalVariable)\n",
        "\n",
        "myfunc()\n",
        "\n",
        "print(\"Python is \" + myLocalVariable)"
      ],
      "metadata": {
        "id": "o7apT8-SSt8z"
      },
      "execution_count": null,
      "outputs": []
    },
    {
      "cell_type": "code",
      "source": [
        "myThirdVariable = \"awesome\"\n",
        "\n",
        "def myfunc():\n",
        "    global myLocalVariable \n",
        "    myLocalVariable = \"fantastic\"\n",
        "    print(\"Python is \" + myThirdVariable)\n",
        "    print(\"Python is \" + myLocalVariable)\n",
        "\n",
        "myfunc()\n",
        "\n",
        "print(\"Python is \" + myLocalVariable)"
      ],
      "metadata": {
        "id": "-SYqmQRRT_fm"
      },
      "execution_count": null,
      "outputs": []
    },
    {
      "cell_type": "markdown",
      "source": [
        "# 3. Data types"
      ],
      "metadata": {
        "id": "WMmwlGM-hbfY"
      }
    },
    {
      "cell_type": "markdown",
      "source": [
        "Variables can store different types of data.\n",
        "There are **built-in data types** in python:\n",
        "\n",
        "Numeric Types:\t**int, float, complex**\n",
        "\n",
        "Boolean Type:\t**bool**\n",
        "\n",
        "Sequence Types:\t**string, list, tuple, range**\n",
        "\n",
        "Dictionary Type:\t**dict**\n",
        "\n",
        "Set Types:\t**set, frozenset**\n",
        "\n",
        "Binary Types:\t**bytes, bytearray, memoryview**\n",
        "\n",
        "None Type:\t**NoneType**\n",
        "\n",
        "*Primitive types are **integer, float, string, and boolean**. All other are non-primitive types including lists, tuples, dictionary, and etc.*"
      ],
      "metadata": {
        "id": "Ge9dBHDtEANE"
      }
    },
    {
      "cell_type": "markdown",
      "source": [
        "The data type can be accessed by using type function."
      ],
      "metadata": {
        "id": "AoM7m5jQWQNl"
      }
    },
    {
      "cell_type": "code",
      "source": [
        "#Using type function\n",
        "\n",
        "MyFirstVariable = 23\n",
        "mySecondVariable = 0.00036\n",
        "myThirdVariable = 10+5j\n",
        "myFourthVariable = True\n",
        "\n",
        "myFirstVariable = \"Hello World!\"\n",
        "myFifthVariable = [0,1,2,3,4,5,6,7,8,9]\n",
        "mySixthVariable = (\"John\", \"Mikle\", \"Desbey\")\n",
        "\n",
        "MySeventhVariable = {\"Name\":\"John\", \"age\":41, \"Occupation\":\"CEO\"}\n",
        "\n",
        "MyEighthVariable = {\"apple\", \"banana\", \"cherry\"}\n",
        "MyNinthVariable = frozenset({\"apple\", \"banana\", \"cherry\"})\n",
        "\n",
        "myTenthVariable = b\"Hello\"\n",
        "myEleventhVariable = bytearray(5)\n",
        "myTwelvefthVariable = memoryview(bytes(5))\n",
        "\n",
        "myThirteenthVariable = None\n",
        "myFourteenthVariable = range(12)\n",
        "\n",
        "print(type(myFirstVariable))\n",
        "print(type(mySecondVariable))\n",
        "print(type(myThirdVariable))\n",
        "print(type(myFourthVariable))\n",
        "print(type(myFifthVariable))\n",
        "print(type(mySixthVariable))\n",
        "print(type(MySeventhVariable))\n",
        "print(type(MyEighthVariable))\n",
        "print(type(MyNinthVariable))\n",
        "print(type(myTenthVariable))\n",
        "print(type(myEleventhVariable))\n",
        "print(type(myTwelvefthVariable))\n",
        "print(type(myThirteenthVariable))\n",
        "print(type(myFourteenthVariable))"
      ],
      "metadata": {
        "colab": {
          "base_uri": "https://localhost:8080/"
        },
        "id": "jixgkK8OWZgi",
        "outputId": "38e75e59-c09f-4d00-cbfe-b899ada1674c"
      },
      "execution_count": 38,
      "outputs": [
        {
          "output_type": "stream",
          "name": "stdout",
          "text": [
            "<class 'str'>\n",
            "<class 'float'>\n",
            "<class 'complex'>\n",
            "<class 'bool'>\n",
            "<class 'list'>\n",
            "<class 'tuple'>\n",
            "<class 'dict'>\n",
            "<class 'set'>\n",
            "<class 'frozenset'>\n",
            "<class 'bytes'>\n",
            "<class 'bytearray'>\n",
            "<class 'memoryview'>\n",
            "<class 'NoneType'>\n",
            "<class 'range'>\n"
          ]
        }
      ]
    },
    {
      "cell_type": "code",
      "source": [
        "#Using random module\n",
        "import random\n",
        "print(random.randrange(1,10))\n"
      ],
      "metadata": {
        "id": "Wu5uf2B-e0q7"
      },
      "execution_count": null,
      "outputs": []
    },
    {
      "cell_type": "markdown",
      "source": [
        "Python uses classes to define its data types, including its primitive types."
      ],
      "metadata": {
        "id": "kZfcjYHcfyJJ"
      }
    },
    {
      "cell_type": "code",
      "source": [
        "#Using casting to specify the data type\n",
        "myFirstVariable = int(1)        # will be 1\n",
        "mySecondVariable = int(2.8)     # will be 2\n",
        "myThirdVariable = int(\"3\")      # will be 3"
      ],
      "metadata": {
        "id": "Se0TPm9pfpS5"
      },
      "execution_count": null,
      "outputs": []
    },
    {
      "cell_type": "code",
      "source": [
        "#Using casting to specify the data type\n",
        "myFirstVariable = float(10)     # will be 10.0\n",
        "mySecondVariable = float(2.8)   # will be 2.8\n",
        "myThirdVariable = float(\"4.2\")  # will be 4.2"
      ],
      "metadata": {
        "id": "pWNQ8_zigJKw"
      },
      "execution_count": null,
      "outputs": []
    },
    {
      "cell_type": "code",
      "source": [
        "#Using casting to specify the data type\n",
        "myFirstVariable = str(1)   # will be 1\n",
        "mySecondVariable = str(2.890) # will be 2.890\n",
        "myThirdVariable = str(\"3.498\") # will be 3.498"
      ],
      "metadata": {
        "id": "al44xSRcgKav"
      },
      "execution_count": null,
      "outputs": []
    },
    {
      "cell_type": "markdown",
      "source": [
        "Binary only uses the digits 0 and 1. "
      ],
      "metadata": {
        "id": "eLpdZ1E4e2nq"
      }
    },
    {
      "cell_type": "code",
      "source": [
        "#Binary numbers uses bin()\n",
        "myFirstVariable = 0b101 #The binary numbers start with 0b\n",
        "mySecondVariable = 5\n",
        "\n",
        "print(myFirstVariable)\n",
        "print(mySecondVariable)\n",
        "\n",
        "print(myFirstVariable==mySecondVariable)\n",
        "print(myFirstVariable is mySecondVariable)\n",
        "\n",
        "print(bin(5))\n",
        "print(type(bin(mySecondVariable)))\n"
      ],
      "metadata": {
        "colab": {
          "base_uri": "https://localhost:8080/"
        },
        "id": "iwhNYh20YtCN",
        "outputId": "6b74b511-91db-4ac5-f6db-b1fcf25c6f7a"
      },
      "execution_count": 61,
      "outputs": [
        {
          "output_type": "stream",
          "name": "stdout",
          "text": [
            "5\n",
            "5\n",
            "True\n",
            "True\n",
            "0b101\n",
            "<class 'str'>\n"
          ]
        }
      ]
    },
    {
      "cell_type": "markdown",
      "source": [
        "There are 16 digits in hexadecimal: 0, 1, 2, 3, 4, 5, 6, 7, 8, 9, A, B, C, D, E, and F. Where A is ten, B is eleven, C is twelve, D is thirteen, E is fourteen, and F is fifteen. "
      ],
      "metadata": {
        "id": "6VG8LTuzg2bZ"
      }
    },
    {
      "cell_type": "code",
      "source": [
        "#Hexadecimal numbers uses hex()\n",
        "myFirstVariable = 0x1F #The hexadecimal numbers start with \"0x\"\n",
        "mySecondVariable = 26\n",
        "\n",
        "print(myFirstVariable==mySecondVariable)\n",
        "print(myFirstVariable is mySecondVariable)\n",
        "\n",
        "print(hex(26))\n",
        "print(myFirstVariable)\n",
        "print(type(hex(mySecondVariable)))"
      ],
      "metadata": {
        "colab": {
          "base_uri": "https://localhost:8080/"
        },
        "id": "UebpCLJ0cUdB",
        "outputId": "173184f8-edf6-48b6-a10e-62466ff1e871"
      },
      "execution_count": 62,
      "outputs": [
        {
          "output_type": "stream",
          "name": "stdout",
          "text": [
            "False\n",
            "False\n",
            "0x1a\n",
            "31\n",
            "<class 'str'>\n"
          ]
        }
      ]
    },
    {
      "cell_type": "markdown",
      "source": [
        "Finally, how many digits are in the octal number system? Octal contains eight digits. The oct() is used to convert numbers to octal in Python. The prefix ‘0o’ is used with octal numbers with a zero followed by a lowercase o.\n",
        "\n",
        "The eight digits of octal are 0, 1, 2, 3, 4, 5, 6, 7."
      ],
      "metadata": {
        "id": "723mcHbpfMDh"
      }
    },
    {
      "cell_type": "code",
      "source": [
        "#Octal numbers use oct()\n",
        "myFirstVariable = 0o12 #The octal numbers start with \"0o\"\n",
        "mySecondVariable = 0o12\n",
        "print(myFirstVariable)\n",
        "print(myFirstVariable==mySecondVariable)\n",
        "print(myFirstVariable is mySecondVariable)\n",
        "\n",
        "\n",
        "sumOct = int(myFirstVariable)+ int(mySecondVariable)\n",
        "print(sumOct)\n",
        "\n",
        "print(oct(sumOct))\n",
        "print(type(oct(sumOct)))\n",
        "\n"
      ],
      "metadata": {
        "colab": {
          "base_uri": "https://localhost:8080/"
        },
        "id": "zuBmZkUzdAAT",
        "outputId": "283b2932-4b3f-4d15-efa1-94c08db566a1"
      },
      "execution_count": 63,
      "outputs": [
        {
          "output_type": "stream",
          "name": "stdout",
          "text": [
            "10\n",
            "True\n",
            "True\n",
            "20\n",
            "0o24\n",
            "<class 'str'>\n"
          ]
        }
      ]
    },
    {
      "cell_type": "code",
      "source": [
        "#Octal numbers use oct()\n",
        "myFirstVariable = 0o123 #The octal numbers start with \"0o\"\n",
        "mySecondVariable = 83\n",
        "print(myFirstVariable)\n",
        "print(myFirstVariable==mySecondVariable)\n",
        "print(myFirstVariable is mySecondVariable)\n",
        "\n",
        "sumOct = int(myFirstVariable,8)+ int(mysecondVariable,8)\n",
        "print(sumOct)\n",
        "\n"
      ],
      "metadata": {
        "colab": {
          "base_uri": "https://localhost:8080/"
        },
        "outputId": "8fe93c38-652f-4ae0-fc86-7bb83609b267",
        "id": "-PSWdOmWftci"
      },
      "execution_count": null,
      "outputs": [
        {
          "output_type": "stream",
          "name": "stdout",
          "text": [
            "83\n",
            "True\n",
            "True\n"
          ]
        }
      ]
    },
    {
      "cell_type": "code",
      "source": [
        "#String\n",
        "myTestVariable = \"\"\"Lorem ipsum dolor sit amet,\n",
        "consectetur adipiscing elit,\n",
        "sed do eiusmod tempor incididunt\n",
        "ut labore et dolore magna aliqua.\"\"\"\n",
        "print(myTestVariable)"
      ],
      "metadata": {
        "colab": {
          "base_uri": "https://localhost:8080/"
        },
        "id": "QOwBfXwLhlcl",
        "outputId": "8439d6ec-00f0-47f9-d793-5bc082068452"
      },
      "execution_count": null,
      "outputs": [
        {
          "output_type": "stream",
          "name": "stdout",
          "text": [
            "Lorem ipsum dolor sit amet,\n",
            "consectetur adipiscing elit,\n",
            "sed do eiusmod tempor incididunt\n",
            "ut labore et dolore magna aliqua.\n"
          ]
        }
      ]
    },
    {
      "cell_type": "code",
      "source": [
        "myTestVariable = '''Lorem ipsum dolor sit amet,\n",
        "consectetur adipiscing elit,\n",
        "sed do eiusmod tempor incididunt\n",
        "ut labore et dolore magna aliqua.'''\n",
        "print(myTestVariable)"
      ],
      "metadata": {
        "colab": {
          "base_uri": "https://localhost:8080/"
        },
        "id": "oB6SzZ4phtlO",
        "outputId": "67d0af54-c245-40f5-929a-9dffc5a776b9"
      },
      "execution_count": null,
      "outputs": [
        {
          "output_type": "stream",
          "name": "stdout",
          "text": [
            "Lorem ipsum dolor sit amet,\n",
            "consectetur adipiscing elit,\n",
            "sed do eiusmod tempor incididunt\n",
            "ut labore et dolore magna aliqua.\n"
          ]
        }
      ]
    },
    {
      "cell_type": "code",
      "source": [
        "#Strings are arrays\n",
        "#The element of a string can be accessed \n"
      ],
      "metadata": {
        "id": "QZAktJJks_ix"
      },
      "execution_count": null,
      "outputs": []
    },
    {
      "cell_type": "markdown",
      "source": [
        "# 4. Operators"
      ],
      "metadata": {
        "id": "RxTdq2qZb8LP"
      }
    },
    {
      "cell_type": "markdown",
      "source": [
        "**Assignment operators**\n",
        "\n",
        "* arithmetic: =, +=, -=, *=, /=, %=, //=\t\t\n",
        "* bitwise: **=, &=, |=, ^=, <<=\t\n"
      ],
      "metadata": {
        "id": "QvjMM-n7jVuT"
      }
    },
    {
      "cell_type": "code",
      "source": [
        "#Bitwise operations XOR\n",
        "\n",
        "myFirstVariable = 0b1101^0b0110\n",
        "print(myFirstVariable)\n",
        "print(type(myFirstVariable))"
      ],
      "metadata": {
        "colab": {
          "base_uri": "https://localhost:8080/"
        },
        "id": "43hdLurcjIu_",
        "outputId": "6be85b68-959f-474f-d325-02cfdb58f1d3"
      },
      "execution_count": 66,
      "outputs": [
        {
          "output_type": "stream",
          "name": "stdout",
          "text": [
            "11\n",
            "<class 'int'>\n"
          ]
        }
      ]
    },
    {
      "cell_type": "markdown",
      "source": [
        "**Arithmetic operators**\n",
        "* Addition:\tx + y\t\n",
        "* Subtraction:\tx - y\t\n",
        "*\tMultiplication:\tx * y\t\n",
        "* Division:\tx / y\t\n",
        "* Modulus:\tx % y\t\n",
        "* Exponentiation:\tx ** y\t\n",
        "* Floor division:\tx // y"
      ],
      "metadata": {
        "id": "6WqQR3Fvi0fB"
      }
    },
    {
      "cell_type": "markdown",
      "source": [
        "**Bitwise operators**\n",
        "\n",
        "You can use bitwise operators to perform Boolean logic on individual bits. That’s very similar to using logical operators such as and, or, and not.\n",
        "\n",
        "You can evaluate Boolean expressions with bitwise operators instead of logical operators.\n",
        "\n",
        "* &(AND), | (OR), ^(XOR), ~(NOT)\n",
        "* << (left shift), >>(right shift)"
      ],
      "metadata": {
        "id": "dSv1JWhXWWWj"
      }
    },
    {
      "cell_type": "code",
      "source": [
        "#Bitwise AND (&) operator - logical conjuction\n",
        "myFirstVariable = 0b1101 & 0b0110\n",
        "print(myFirstVariable)\n",
        "print(type(myFirstVariable))"
      ],
      "metadata": {
        "colab": {
          "base_uri": "https://localhost:8080/"
        },
        "id": "IUpUlclzkhLO",
        "outputId": "71d93fff-b40c-4ce0-e084-770c7c05b8e0"
      },
      "execution_count": 68,
      "outputs": [
        {
          "output_type": "stream",
          "name": "stdout",
          "text": [
            "4\n",
            "<class 'int'>\n"
          ]
        }
      ]
    },
    {
      "cell_type": "code",
      "source": [],
      "metadata": {
        "id": "t6y3AL-YlMBE"
      },
      "execution_count": null,
      "outputs": []
    },
    {
      "cell_type": "code",
      "source": [
        "#Bitwise OR (|) operator - logical disjunction\n",
        "myFirstVariable = 0b1101 | 0b0110\n",
        "print(myFirstVariable)\n",
        "print(type(myFirstVariable))"
      ],
      "metadata": {
        "colab": {
          "base_uri": "https://localhost:8080/"
        },
        "outputId": "dd46bb67-5efc-48d6-ec3e-fab2bf2354e7",
        "id": "rfp-ZSTRlMVX"
      },
      "execution_count": 69,
      "outputs": [
        {
          "output_type": "stream",
          "name": "stdout",
          "text": [
            "15\n",
            "<class 'int'>\n"
          ]
        }
      ]
    },
    {
      "cell_type": "code",
      "source": [
        "#Bitwise NOT (~) operator - logical negation\n",
        "myFirstVariable = ~0b1101\n",
        "print(myFirstVariable)\n",
        "print(type(myFirstVariable))"
      ],
      "metadata": {
        "colab": {
          "base_uri": "https://localhost:8080/"
        },
        "outputId": "d24c45be-bf96-4838-9132-cad8757ddba4",
        "id": "FjBa65fHlc90"
      },
      "execution_count": 72,
      "outputs": [
        {
          "output_type": "stream",
          "name": "stdout",
          "text": [
            "-14\n",
            "<class 'int'>\n"
          ]
        }
      ]
    },
    {
      "cell_type": "code",
      "source": [
        "#Bitwise XOR (^) operator - \"exclusive or\"\n",
        "#It evaluates two mutually exclusive conditions and\n",
        "#returns exactly one of them if conditions are met.\n",
        "\n",
        "myFirstVariable = 0b1101^0b0110\n",
        "print(myFirstVariable)\n",
        "print(type(myFirstVariable))"
      ],
      "metadata": {
        "colab": {
          "base_uri": "https://localhost:8080/"
        },
        "outputId": "6be85b68-959f-474f-d325-02cfdb58f1d3",
        "id": "ZsOpTWkrkA7q"
      },
      "execution_count": null,
      "outputs": [
        {
          "output_type": "stream",
          "name": "stdout",
          "text": [
            "11\n",
            "<class 'int'>\n"
          ]
        }
      ]
    },
    {
      "cell_type": "markdown",
      "source": [
        "**Comparison operators**\n",
        "\n",
        "* Equal:\tx == y\t\n",
        "* Not equal:\tx != y\t\n",
        "* Greater than:\tx > y\t\n",
        "* Less than:\tx < y\t\n",
        "* Greater than or equal to:\tx >= y\t\n",
        "* Less than or equal to:\tx <= y\n",
        "\n",
        "\n",
        "---\n",
        "\n",
        "\n",
        "* is, is not"
      ],
      "metadata": {
        "id": "uagFWAzYlKYW"
      }
    },
    {
      "cell_type": "code",
      "source": [
        "# Equal\n",
        "myFirstVariable = 10.0\n",
        "mySecondVariable = 10.0\n",
        "if myFirstVariable==mySecondVariable:\n",
        "  print(\"True\")"
      ],
      "metadata": {
        "colab": {
          "base_uri": "https://localhost:8080/"
        },
        "id": "_kQ7xO_WQ6Wo",
        "outputId": "89361a80-7185-4e5d-f4ed-90f24212b430"
      },
      "execution_count": 3,
      "outputs": [
        {
          "output_type": "stream",
          "name": "stdout",
          "text": [
            "True\n"
          ]
        }
      ]
    },
    {
      "cell_type": "code",
      "source": [
        "# Not equal\n",
        "myFirstVariable = 10.0\n",
        "mySecondVariable = 10.0\n",
        "if myFirstVariable!=mySecondVariable:\n",
        "  print(\"True\")\n",
        "elif myFirstVariable==mySecondVariable:\n",
        "  print(\"False\")"
      ],
      "metadata": {
        "colab": {
          "base_uri": "https://localhost:8080/"
        },
        "outputId": "0e889983-96c1-464d-d700-f8104cf6fd67",
        "id": "npZBbm8BRpr8"
      },
      "execution_count": 10,
      "outputs": [
        {
          "output_type": "stream",
          "name": "stdout",
          "text": [
            "False\n"
          ]
        }
      ]
    },
    {
      "cell_type": "code",
      "source": [
        "# Grater than\n",
        "myFirstVariable = 10.0\n",
        "mySecondVariable = 10.0\n",
        "if myFirstVariable>mySecondVariable:\n",
        "  print(\"True\")\n",
        "else:\n",
        "  print(\"False\")"
      ],
      "metadata": {
        "colab": {
          "base_uri": "https://localhost:8080/"
        },
        "outputId": "4ea621b1-db56-42c5-f205-9529b7cb12d9",
        "id": "lX72d5SJSVOK"
      },
      "execution_count": 11,
      "outputs": [
        {
          "output_type": "stream",
          "name": "stdout",
          "text": [
            "False\n"
          ]
        }
      ]
    },
    {
      "cell_type": "code",
      "source": [
        "# Less than\n",
        "myFirstVariable = 10.0\n",
        "mySecondVariable = 10.0\n",
        "if myFirstVariable>mySecondVariable:\n",
        "  print(\"True\")\n",
        "else:\n",
        "  print(\"False\")"
      ],
      "metadata": {
        "colab": {
          "base_uri": "https://localhost:8080/"
        },
        "outputId": "5a0cc7cf-af49-4a50-b04b-90e86ef50a31",
        "id": "x8Up6YBhSvnr"
      },
      "execution_count": 14,
      "outputs": [
        {
          "output_type": "stream",
          "name": "stdout",
          "text": [
            "False\n"
          ]
        }
      ]
    },
    {
      "cell_type": "code",
      "source": [
        "# Greater than or equal to\n",
        "myFirstVariable = 10.0\n",
        "mySecondVariable = 10.0\n",
        "if myFirstVariable>=mySecondVariable:\n",
        "  print(\"True\")\n",
        "else:\n",
        "  print(\"False\")"
      ],
      "metadata": {
        "colab": {
          "base_uri": "https://localhost:8080/"
        },
        "id": "VgG7LVQFSzTV",
        "outputId": "1b9decac-0940-4e81-8d39-416dc6bd37b3"
      },
      "execution_count": 15,
      "outputs": [
        {
          "output_type": "stream",
          "name": "stdout",
          "text": [
            "True\n"
          ]
        }
      ]
    },
    {
      "cell_type": "code",
      "source": [
        "# Less than or equal to\n",
        "myFirstVariable = 10.0\n",
        "mySecondVariable = 10.0\n",
        "if myFirstVariable<=mySecondVariable:\n",
        "  print(\"True\")\n",
        "else:\n",
        "  print(\"False\")"
      ],
      "metadata": {
        "colab": {
          "base_uri": "https://localhost:8080/"
        },
        "id": "eSQ4W84gTDFO",
        "outputId": "ec4b6a02-bb41-40df-bbed-e8a27eb19abe"
      },
      "execution_count": 16,
      "outputs": [
        {
          "output_type": "stream",
          "name": "stdout",
          "text": [
            "True\n"
          ]
        }
      ]
    },
    {
      "cell_type": "code",
      "source": [
        "# Short hand 1\n",
        "myFirstVariable = 10.0\n",
        "mySecondVariable = 10.0\n",
        "if myFirstVariable<=mySecondVariable:print(\"True\")\n",
        "else:print(\"False\")"
      ],
      "metadata": {
        "colab": {
          "base_uri": "https://localhost:8080/"
        },
        "outputId": "1bc70aae-4150-4530-bf7d-e1db6e8c3481",
        "id": "QvYoGjp7TTsn"
      },
      "execution_count": 18,
      "outputs": [
        {
          "output_type": "stream",
          "name": "stdout",
          "text": [
            "True\n"
          ]
        }
      ]
    },
    {
      "cell_type": "code",
      "source": [
        "# Short hand 2\n",
        "myFirstVariable = 10.0\n",
        "mySecondVariable = 10.0\n",
        "print(\"True\")if myFirstVariable<=mySecondVariable else print(\"False\")"
      ],
      "metadata": {
        "colab": {
          "base_uri": "https://localhost:8080/"
        },
        "outputId": "2908b000-f916-4fdb-8225-21a46baa93d4",
        "id": "utE1Y3HzTk_I"
      },
      "execution_count": 35,
      "outputs": [
        {
          "output_type": "stream",
          "name": "stdout",
          "text": [
            "True\n"
          ]
        }
      ]
    },
    {
      "cell_type": "code",
      "source": [
        "# is and is not comparison operators\n",
        "myFirstList  = [1,2,3,4,5]\n",
        "mySecondList = [1,2,3,4,5]\n",
        "\n",
        "print(myFirstList==mySecondList)\n",
        "print(myFirstList is mySecondList)\n",
        "print(myFirstList is not mySecondList)"
      ],
      "metadata": {
        "colab": {
          "base_uri": "https://localhost:8080/"
        },
        "id": "0e1k7IvmWwcD",
        "outputId": "8996146f-48b9-48e7-f579-4ef08c3b0cab"
      },
      "execution_count": 37,
      "outputs": [
        {
          "output_type": "stream",
          "name": "stdout",
          "text": [
            "True\n",
            "False\n",
            "True\n"
          ]
        }
      ]
    },
    {
      "cell_type": "markdown",
      "source": [
        "**Logical operators**\n",
        "\n",
        "* and, \tor, not"
      ],
      "metadata": {
        "id": "FkVIp8LinL5v"
      }
    },
    {
      "cell_type": "code",
      "source": [
        "# Logical and operator\n",
        "myFirstVariable = 10.0\n",
        "mySecondVariable = 10.0\n",
        "myThirdVariable = 20.0\n",
        "if myFirstVariable<myThirdVariable and myFirstVariable==mySecondVariable:\n",
        "  print(\"Both conditions are True\")\n",
        "else:\n",
        "  print(\"False\")"
      ],
      "metadata": {
        "colab": {
          "base_uri": "https://localhost:8080/"
        },
        "outputId": "0d372aa9-edbc-4b9f-de89-ec112d717324",
        "id": "MX4a36a_URRQ"
      },
      "execution_count": 31,
      "outputs": [
        {
          "output_type": "stream",
          "name": "stdout",
          "text": [
            "Both conditions are True\n"
          ]
        }
      ]
    },
    {
      "cell_type": "code",
      "source": [
        "# Logical or operator\n",
        "myFirstVariable = 10.0\n",
        "mySecondVariable = 10.0\n",
        "myThirdVariable = 20.0\n",
        "if myFirstVariable<myThirdVariable or myFirstVariable<mySecondVariable:\n",
        "  print(\"At least one of the conditions is True\")\n",
        "else:\n",
        "  print(\"False\")"
      ],
      "metadata": {
        "colab": {
          "base_uri": "https://localhost:8080/"
        },
        "outputId": "c152ee00-bdc5-4632-aff3-c9518d8c012a",
        "id": "UCX_07cjUpyO"
      },
      "execution_count": 30,
      "outputs": [
        {
          "output_type": "stream",
          "name": "stdout",
          "text": [
            "At least one of the conditions is True\n"
          ]
        }
      ]
    },
    {
      "cell_type": "code",
      "source": [
        "# Logical not operator\n",
        "myFirstVariable = 10.0\n",
        "mySecondVariable = 10.0\n",
        "myThirdVariable = 20.0\n",
        "if not myFirstVariable>myThirdVariable:\n",
        "  print(\"myFirstVariable is not greater than myThirdVariable\")\n",
        "else:\n",
        "  print(\"False\")"
      ],
      "metadata": {
        "colab": {
          "base_uri": "https://localhost:8080/"
        },
        "outputId": "125f680c-04a6-45d2-8856-5462c4257895",
        "id": "w5ZWafmIUvlW"
      },
      "execution_count": 33,
      "outputs": [
        {
          "output_type": "stream",
          "name": "stdout",
          "text": [
            "myFirstVariable is not greater than myThirdVariable\n"
          ]
        }
      ]
    },
    {
      "cell_type": "markdown",
      "source": [
        "**Operator precedence**\n",
        "\n",
        "* Parentheses: ()\t\n",
        "* Exponentiation: **\t\n",
        "* Unary: +x,  -x,  ~x\t\n",
        "* Arithmetic: *,  /,  //,  %, +, -\n",
        "* Bitwise: <<, >>, AND, ^, |\t\n",
        "* Comparison: ==,  !=,  >,  >=,  <,  <=  \n",
        "* Identity: is,  is not,  in,  not in"
      ],
      "metadata": {
        "id": "nlZDopcUp9wr"
      }
    },
    {
      "cell_type": "markdown",
      "source": [
        "More details on operators can be found at https://www.w3schools.com/python/default.asp"
      ],
      "metadata": {
        "id": "cQfnKrvou5LP"
      }
    },
    {
      "cell_type": "markdown",
      "source": [
        "# 5. Control flows"
      ],
      "metadata": {
        "id": "ufdAAkIbhk9M"
      }
    },
    {
      "cell_type": "markdown",
      "source": [
        "# 6. File I/O"
      ],
      "metadata": {
        "id": "1tFhadtVhsYr"
      }
    },
    {
      "cell_type": "markdown",
      "source": [
        "# 7. Python modules"
      ],
      "metadata": {
        "id": "MM0wR2SEiFsa"
      }
    },
    {
      "cell_type": "markdown",
      "source": [
        "A file that contains a set of functions is called a module. This module can be accessed from a program using \"**import**\" keyword. A module can also contain variables of all data types. There are several built-in module that you can import. "
      ],
      "metadata": {
        "id": "7ouik1jTrxm-"
      }
    },
    {
      "cell_type": "code",
      "source": [
        "# import "
      ],
      "metadata": {
        "id": "uDTfAqzir-gN"
      },
      "execution_count": null,
      "outputs": []
    },
    {
      "cell_type": "markdown",
      "source": [
        "# 8. Classes"
      ],
      "metadata": {
        "id": "-G6SVv9MmBAR"
      }
    }
  ]
}