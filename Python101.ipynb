{
  "nbformat": 4,
  "nbformat_minor": 0,
  "metadata": {
    "colab": {
      "provenance": [],
      "toc_visible": true,
      "authorship_tag": "ABX9TyOq+xH4N6LHhh7+i6ctulCs",
      "include_colab_link": true
    },
    "kernelspec": {
      "name": "python3",
      "display_name": "Python 3"
    },
    "language_info": {
      "name": "python"
    }
  },
  "cells": [
    {
      "cell_type": "markdown",
      "metadata": {
        "id": "view-in-github",
        "colab_type": "text"
      },
      "source": [
        "<a href=\"https://colab.research.google.com/github/qmpotential/Python101/blob/main/Python101.ipynb\" target=\"_parent\"><img src=\"https://colab.research.google.com/assets/colab-badge.svg\" alt=\"Open In Colab\"/></a>"
      ]
    },
    {
      "cell_type": "markdown",
      "source": [
        "**Introduction to Python**\n",
        "\n",
        "Date: May 25th, 2023\n",
        "\n",
        "LONI Scientific Computing Bootcamp\n",
        "\n",
        "by Oleg N. Starovoytov\n",
        "\n",
        "olegs@lsu.edu"
      ],
      "metadata": {
        "id": "IIB88iwPO5F-"
      }
    },
    {
      "cell_type": "markdown",
      "source": [
        "# Outline\n",
        "\n",
        "*   **Introduction**\n",
        "  About Python\n",
        "  Advantages and disadvantages\n",
        "  Interactive python environment\n",
        "  Differences between 2.x and 3.x\n",
        "*   **Python programming basics**\n",
        "1. Comments\n",
        "2. Variables\n",
        "3. Operators\n",
        "4. Data types: Strings\n",
        "*   **Control structures**\n",
        "\n",
        "5. Control flows\n",
        "   5.1 If else statements\n",
        "   5.2 For loop\n",
        "   5.3 While loop\n",
        "6. Lists, Tuples, Sets, and Dictionaries\n",
        "7. Function\n",
        "8. File I/O\n",
        "9. Python modules\n",
        "10. Classes"
      ],
      "metadata": {
        "id": "Ptut8gykhIuv"
      }
    },
    {
      "cell_type": "markdown",
      "source": [
        "# 1. Comments\n",
        "\n",
        "\n",
        "---\n",
        "* \"#\" - sign is used for comments in python, it can be placed right after the code. \n",
        "\n",
        "* \"\"\" Your comments can be placed here \"\"\"\n"
      ],
      "metadata": {
        "id": "fKMS-GhxE04A"
      }
    },
    {
      "cell_type": "code",
      "source": [
        "# This is my first comment\n",
        "print(\"Hello World!\")"
      ],
      "metadata": {
        "colab": {
          "base_uri": "https://localhost:8080/"
        },
        "id": "EzgnB7SAF2Hs",
        "outputId": "f97dd647-f289-460f-e4e0-ed95cf8eaeb0"
      },
      "execution_count": null,
      "outputs": [
        {
          "output_type": "stream",
          "name": "stdout",
          "text": [
            "Hello World!\n"
          ]
        }
      ]
    },
    {
      "cell_type": "code",
      "source": [
        "# This is my second comment\n",
        "print(\"Hello World!\") # This is my third comment"
      ],
      "metadata": {
        "colab": {
          "base_uri": "https://localhost:8080/"
        },
        "id": "NHQIdP0nF8IZ",
        "outputId": "cf181202-46ef-4f04-f944-001fc4c823d8"
      },
      "execution_count": null,
      "outputs": [
        {
          "output_type": "stream",
          "name": "stdout",
          "text": [
            "Hello World!\n"
          ]
        }
      ]
    },
    {
      "cell_type": "code",
      "source": [
        "#This is my fourth comment\n",
        "\n",
        "\"\"\" This is a multiple \n",
        "    line\n",
        "    comment \"\"\"\n",
        "\n",
        "print(\"Hello World!\")"
      ],
      "metadata": {
        "colab": {
          "base_uri": "https://localhost:8080/"
        },
        "id": "oVfXjlu-GHb3",
        "outputId": "8e3364a3-9e22-44f0-bd56-697f6aa610eb"
      },
      "execution_count": null,
      "outputs": [
        {
          "output_type": "stream",
          "name": "stdout",
          "text": [
            "Hello World!\n"
          ]
        }
      ]
    },
    {
      "cell_type": "markdown",
      "source": [
        "# 2. Variables\n",
        "\n",
        "\n",
        "---\n",
        "\n",
        "\n",
        "**A variable's name references or points to an object. Each object can have various data types with some stored values. No particular type is used upon variable declaration.**\n",
        "\n",
        "There are some rules for creating a variable name: \n",
        "\n",
        "a) A variable name can start with characters and/or underscore (A-z, and _ );\n",
        "\n",
        "b) a variable name is case-sensitive;\n",
        "\n",
        "c) there is no limit on varable length;\n",
        "\n",
        "d) there should not be any spaces for a multi-word variable;\n",
        "\n",
        "e) no python keywords can be used to create a variable name;\n",
        "   \n",
        "   Examples: **for, while, print, ...**\n",
        "\n",
        "To assign an object to the variable you need to use assign operator"
      ],
      "metadata": {
        "id": "Obdgar5uk9bO"
      }
    },
    {
      "cell_type": "code",
      "source": [
        "#Correct declaration of variables\n",
        "myFirstVariable = \"John\"\n",
        "MyFirstVariable = \"John\"\n",
        "my_first_variable = \"John\"\n",
        "_my_first_Variable = \"John\"\n",
        "MY_FIRST_VARIABLE = \"John\"\n",
        "myFirst_Variable363 = \"John\""
      ],
      "metadata": {
        "id": "7hkrjOPCLysP"
      },
      "execution_count": null,
      "outputs": []
    },
    {
      "cell_type": "code",
      "source": [
        "#Illegal declaration of variables\n",
        "\n",
        "100myFirstVariable = \"John\" # can not start with a number\n",
        "my-first-variable = \"John\". # can not have dash in the name\n",
        "my first variable = \"John\"  # can not have spaces in the variable name\n",
        "&myFirstVariable=\"John\"     # can not have special characters in the name \n",
        "for = \"John\"                # can not use reserved python keywords"
      ],
      "metadata": {
        "id": "WkzKQsuNMQbN"
      },
      "execution_count": null,
      "outputs": []
    },
    {
      "cell_type": "code",
      "source": [
        "# Declaration of variables \n",
        "TestVariable = 1.0\n",
        "\n",
        "print(TestVariable)\n",
        "print(type(TestVariable))\n",
        "\n",
        "TestVariable = \"Python is fun!\"\n",
        "\n",
        "print(TestVariable)\n",
        "print(type(TestVariable))"
      ],
      "metadata": {
        "id": "ulQ1wucCJWm_"
      },
      "execution_count": null,
      "outputs": []
    },
    {
      "cell_type": "markdown",
      "source": [
        "**Other rules and conventions**\n",
        "\n",
        "\n",
        "---\n",
        "\n"
      ],
      "metadata": {
        "id": "KbhL2URwEWcM"
      }
    },
    {
      "cell_type": "markdown",
      "source": [
        "   **Camel Case** - each word starts with a capital letter except the first one.\n",
        "\n",
        "   Example: **myVariableName**\n",
        "\n",
        "   **Pascal Case** - each word starts with a capital letter.\n",
        "\n",
        "   Example: **MyVariableName**\n",
        "\n",
        "   **Snake Case** - each word is connected by underscore.\n",
        "\n",
        "   Example: **my_variable_name**"
      ],
      "metadata": {
        "id": "PHyhHsIAEayp"
      }
    },
    {
      "cell_type": "code",
      "source": [
        "# Declaration of a variable using Camel Case\n",
        "myFirstVariable = \"Camel Case\"\n",
        "print(myFirstVariable)"
      ],
      "metadata": {
        "colab": {
          "base_uri": "https://localhost:8080/"
        },
        "id": "ulabfaGSKdH2",
        "outputId": "4d9e726f-7392-49df-aeec-4b373ab0f73f"
      },
      "execution_count": null,
      "outputs": [
        {
          "output_type": "stream",
          "name": "stdout",
          "text": [
            "Camel Case\n"
          ]
        }
      ]
    },
    {
      "cell_type": "code",
      "source": [
        "# Declaration of a variable using Pascal Case\n",
        "MyFirstVariable = \"Pascal Case\"\n",
        "print(MyFirstVariable)"
      ],
      "metadata": {
        "colab": {
          "base_uri": "https://localhost:8080/"
        },
        "id": "kzDovAizKr9o",
        "outputId": "f944ba8c-e62f-4cdb-c81f-8533d1447b81"
      },
      "execution_count": null,
      "outputs": [
        {
          "output_type": "stream",
          "name": "stdout",
          "text": [
            "Pascal Case\n"
          ]
        }
      ]
    },
    {
      "cell_type": "code",
      "source": [
        "# Declaration of a variable using Snake Case\n",
        "my_first_variable = \"Snake Case\"\n",
        "print(my_first_variable)"
      ],
      "metadata": {
        "colab": {
          "base_uri": "https://localhost:8080/"
        },
        "id": "vW3-ecGDK6Lu",
        "outputId": "26708b58-616d-42f7-aab9-869b415ff4a3"
      },
      "execution_count": null,
      "outputs": [
        {
          "output_type": "stream",
          "name": "stdout",
          "text": [
            "Snake Case\n"
          ]
        }
      ]
    },
    {
      "cell_type": "markdown",
      "source": [
        "Assign multiple values to multiple variables"
      ],
      "metadata": {
        "id": "jQP8DqfbOszc"
      }
    },
    {
      "cell_type": "code",
      "source": [
        "# Assign multiple values to multiple variables in one line \n",
        "\n",
        "x, y, z = 23.4, 35.6, 45.1\n",
        "print(x)\n",
        "print(y)\n",
        "print(z)"
      ],
      "metadata": {
        "colab": {
          "base_uri": "https://localhost:8080/"
        },
        "id": "6PUy49h1Ov7F",
        "outputId": "054c0193-2a94-4472-bfaa-3042afb0fc55"
      },
      "execution_count": null,
      "outputs": [
        {
          "output_type": "stream",
          "name": "stdout",
          "text": [
            "23.4\n",
            "35.6\n",
            "45.1\n"
          ]
        }
      ]
    },
    {
      "cell_type": "code",
      "source": [
        "# Assign multiple values of multiple data types to multiple variables in one line \n",
        "x, y, z, e, f, g = 23.4, 35.6, 45.1, \"John\", \"Karl\", True\n",
        "print(x)\n",
        "print(y)\n",
        "print(z)\n",
        "print(e)\n",
        "print(f)\n",
        "print(g)"
      ],
      "metadata": {
        "colab": {
          "base_uri": "https://localhost:8080/"
        },
        "outputId": "e5c84ca2-2c35-4684-9dda-6793a5ce6787",
        "id": "utu2h8QPPpog"
      },
      "execution_count": null,
      "outputs": [
        {
          "output_type": "stream",
          "name": "stdout",
          "text": [
            "23.4\n",
            "35.6\n",
            "45.1\n",
            "John\n",
            "Karl\n",
            "True\n"
          ]
        }
      ]
    },
    {
      "cell_type": "code",
      "source": [
        "# Assign one value to multiple variables\n",
        "x=y=z=2.25\n",
        "print(x)\n",
        "print(y)\n",
        "print(z)"
      ],
      "metadata": {
        "colab": {
          "base_uri": "https://localhost:8080/"
        },
        "id": "cxAe_TDSQGy2",
        "outputId": "8346ca9e-46da-4aa9-de7d-a87fa9d3c0fe"
      },
      "execution_count": null,
      "outputs": [
        {
          "output_type": "stream",
          "name": "stdout",
          "text": [
            "2.25\n",
            "2.25\n",
            "2.25\n"
          ]
        }
      ]
    },
    {
      "cell_type": "code",
      "source": [
        "#Using unpacking\n",
        "coordinates=[2.35, 6.37, -8.94]\n",
        "x,y,z = coordinates\n",
        "print(x)\n",
        "print(y)\n",
        "print(z)"
      ],
      "metadata": {
        "colab": {
          "base_uri": "https://localhost:8080/"
        },
        "id": "x5i3eTHMQerG",
        "outputId": "ad1af99b-a645-4d71-f4e4-6025129a6c58"
      },
      "execution_count": null,
      "outputs": [
        {
          "output_type": "stream",
          "name": "stdout",
          "text": [
            "2.35\n",
            "6.37\n",
            "-8.94\n"
          ]
        }
      ]
    },
    {
      "cell_type": "code",
      "source": [
        "#Output variables using unpacking\n",
        "coordinates=[2.35, 6.37, -8.94]\n",
        "x,y,z = coordinates\n",
        "print(x, y, z)\n",
        "print(x+y+z)"
      ],
      "metadata": {
        "colab": {
          "base_uri": "https://localhost:8080/"
        },
        "outputId": "33f2ac3e-a2fa-4cb6-a299-fb7851ab1942",
        "id": "9004FlukQ5mA"
      },
      "execution_count": null,
      "outputs": [
        {
          "output_type": "stream",
          "name": "stdout",
          "text": [
            "2.35 6.37 -8.94\n",
            "-0.21999999999999886\n"
          ]
        }
      ]
    },
    {
      "cell_type": "code",
      "source": [
        "#Output variables using unpacking\n",
        "coordinates=[\"John\", \"Lisa\", \"Michelle\"]\n",
        "x,y,z = coordinates\n",
        "print(x, y, z)\n",
        "print(x+y+z)\n",
        "print(\"*\"*5)"
      ],
      "metadata": {
        "colab": {
          "base_uri": "https://localhost:8080/"
        },
        "outputId": "7f7889bf-b742-46a0-e3c9-0009424500a7",
        "id": "HO6UumH4RNWv"
      },
      "execution_count": null,
      "outputs": [
        {
          "output_type": "stream",
          "name": "stdout",
          "text": [
            "John Lisa Michelle\n",
            "JohnLisaMichelle\n",
            "*****\n"
          ]
        }
      ]
    },
    {
      "cell_type": "markdown",
      "source": [
        "**Global and local variables**\n",
        "\n",
        "\n",
        "---\n",
        "\n",
        "\n",
        "**Global variables** are the variables that can be accessed from anywhere in your code.\n",
        "\n",
        "**Local variables** are accessable withing a local scope."
      ],
      "metadata": {
        "id": "P9P61uxDRk-I"
      }
    },
    {
      "cell_type": "code",
      "source": [
        "#Global variable\n",
        "myGlobalVariable = \"cool!\"\n",
        "\n",
        "def myfunc():\n",
        "  print(\"Python is \" + myGlobalVariable)\n",
        "\n",
        "myfunc()"
      ],
      "metadata": {
        "id": "MdPiV7DsR2iP"
      },
      "execution_count": null,
      "outputs": []
    },
    {
      "cell_type": "code",
      "source": [
        "#Global and local variables\n",
        "\n",
        "myGlobalVariable = \"awesome\"\n",
        "\n",
        "def myfunc():\n",
        "  myLocalVariable = \"fantastic\"\n",
        "  print(\"Python is \" + myGlobalVariable)\n",
        "  print(\"Python is \" + myLocalVariable)\n",
        "\n",
        "myfunc()\n",
        "\n",
        "print(\"Python is \" + myLocalVariable)"
      ],
      "metadata": {
        "id": "o7apT8-SSt8z"
      },
      "execution_count": null,
      "outputs": []
    },
    {
      "cell_type": "code",
      "source": [
        "#How can you create a variable in local scope\n",
        "myGlobalVariable = \"awesome\"\n",
        "\n",
        "def myfunc():\n",
        "    global myLocalVariable \n",
        "    myLocalVariable = \"fantastic\"\n",
        "    print(\"Python is \" + myGlobalVariable)\n",
        "    print(\"Python is \" + myLocalVariable)\n",
        "\n",
        "myfunc()\n",
        "\n",
        "print(\"Python is \" + myLocalVariable)"
      ],
      "metadata": {
        "id": "-SYqmQRRT_fm",
        "colab": {
          "base_uri": "https://localhost:8080/"
        },
        "outputId": "879f5d16-61f7-4566-89fb-95423622e3ca"
      },
      "execution_count": null,
      "outputs": [
        {
          "output_type": "stream",
          "name": "stdout",
          "text": [
            "Python is awesome\n",
            "Python is fantastic\n",
            "Python is fantastic\n"
          ]
        }
      ]
    },
    {
      "cell_type": "markdown",
      "source": [
        "# 3. Data types\n",
        "\n",
        "\n",
        "---\n",
        "\n",
        "\n",
        "Variables can store different types of data.\n",
        "\n",
        "There are **built-in data types** in python:\n",
        "\n",
        "Numeric Types:\t**int, float, complex**\n",
        "\n",
        "Boolean Type:\t**bool**\n",
        "\n",
        "Sequence Types:\t**string, list, tuple**\n",
        "\n",
        "Dictionary Type:\t**dict**\n",
        "\n",
        "Set Types:\t**set, frozenset**\n",
        "\n",
        "Binary Types:\t**bytes, bytearray, memoryview**\n",
        "\n",
        "None Type:\t**NoneType**\n",
        "\n",
        "\n",
        "---\n",
        "\n",
        "\n",
        "* Primitive types are **integer, float, string, and boolean**. \n",
        "* All other are types are non-primitive, including **lists**, **tuples**, **dictionary**, **set**, **file**, and etc. \n",
        "* Python uses classes to define its data types, including its primitive types."
      ],
      "metadata": {
        "id": "WMmwlGM-hbfY"
      }
    },
    {
      "cell_type": "code",
      "source": [
        "#Using type function\n",
        "myFirstVariable = 23\n",
        "mySecondVariable = 0.00036\n",
        "myThirdVariable = 10+5j\n",
        "myFourthVariable = True\n",
        "\n",
        "myFifthVariable = \"Hello World!\"\n",
        "mySixthVariable = [0,1,2,3,4,5,6,7,8,9]\n",
        "mySeventhVariable = (\"John\", \"Mikle\", \"Desbey\")\n",
        "\n",
        "myEighthVariable = {\"Name\":\"John\", \"age\":41, \"Occupation\":\"Doctor\"} \n",
        "\n",
        "myNinthVariable  = {\"apple\", \"banana\", \"cherry\"}\n",
        "\n",
        "myTenthVariable = frozenset({\"apple\", \"banana\", \"cherry\"})\n",
        "\n",
        "myEleventhVariable = b\"Hello\"\n",
        "myTwelvefthVariable = bytearray(5)\n",
        "myThirteenthVariable = memoryview(bytes(5))\n",
        "\n",
        "myFourteenthVariable = None\n",
        "myFifteenthVariable = range(12)\n",
        "\n",
        "print(type(myFirstVariable))\n",
        "print(type(mySecondVariable))\n",
        "print(type(myThirdVariable))\n",
        "print(type(myFourthVariable))\n",
        "print(type(myFifthVariable))\n",
        "print(type(mySixthVariable))\n",
        "print(type(mySeventhVariable))\n",
        "print(type(myEighthVariable))\n",
        "print(type(myNinthVariable))\n",
        "print(type(myTenthVariable))\n",
        "print(type(myEleventhVariable))\n",
        "print(type(myTwelvefthVariable))\n",
        "print(type(myThirteenthVariable))\n",
        "print(type(myFourteenthVariable))\n",
        "print(type(myFifteenthVariable))"
      ],
      "metadata": {
        "colab": {
          "base_uri": "https://localhost:8080/"
        },
        "id": "jixgkK8OWZgi",
        "outputId": "1bc9ed4e-f1ee-4bfc-ab76-e9f95a7d0a9e"
      },
      "execution_count": null,
      "outputs": [
        {
          "output_type": "stream",
          "name": "stdout",
          "text": [
            "<class 'int'>\n",
            "<class 'float'>\n",
            "<class 'complex'>\n",
            "<class 'bool'>\n",
            "<class 'str'>\n",
            "<class 'list'>\n",
            "<class 'tuple'>\n",
            "<class 'dict'>\n",
            "<class 'set'>\n",
            "<class 'frozenset'>\n",
            "<class 'bytes'>\n",
            "<class 'bytearray'>\n",
            "<class 'memoryview'>\n",
            "<class 'NoneType'>\n",
            "<class 'range'>\n"
          ]
        }
      ]
    },
    {
      "cell_type": "code",
      "source": [
        "#Using casting to specify the data type\n",
        "myFirstVariable = int(1)        # will be 1\n",
        "mySecondVariable = int(2.8)     # will be 2\n",
        "myThirdVariable = int(\"3\")      # will be 3"
      ],
      "metadata": {
        "id": "Se0TPm9pfpS5"
      },
      "execution_count": null,
      "outputs": []
    },
    {
      "cell_type": "code",
      "source": [
        "#Using casting to specify the data type\n",
        "myFirstVariable = float(10)     # will be 10.0\n",
        "mySecondVariable = float(2.8)   # will be 2.8\n",
        "myThirdVariable = float(\"4.2\")  # will be 4.2"
      ],
      "metadata": {
        "id": "pWNQ8_zigJKw"
      },
      "execution_count": null,
      "outputs": []
    },
    {
      "cell_type": "code",
      "source": [
        "#Using casting to specify the data type\n",
        "myFirstVariable = str(1)   # will be 1\n",
        "mySecondVariable = str(2.890) # will be 2.890\n",
        "myThirdVariable = str(\"3.498\") # will be 3.498"
      ],
      "metadata": {
        "id": "al44xSRcgKav"
      },
      "execution_count": null,
      "outputs": []
    },
    {
      "cell_type": "markdown",
      "source": [
        "Numbers\n",
        "\n",
        "\n",
        "---\n",
        "\n",
        "* **int** - represents a whole number from negative to positive\n",
        "* **float** - floating point number, used for rational numbers with decimals.\n"
      ],
      "metadata": {
        "id": "pzwaES8qVO_z"
      }
    },
    {
      "cell_type": "markdown",
      "source": [
        "**Binary (base 2)** can be represented by two digits [0,1] Base 2. The **bin()** can be used to convert numbers to octal in Python. The prefix **‘0b’** is used with octal numbers with a zero followed by a lowercase **b**."
      ],
      "metadata": {
        "id": "eLpdZ1E4e2nq"
      }
    },
    {
      "cell_type": "code",
      "source": [
        "#Binary numbers uses bin()\n",
        "myFirstVariable = 0b101 #The binary numbers start with 0b\n",
        "mySecondVariable = 5\n",
        "\n",
        "print(myFirstVariable)\n",
        "print(mySecondVariable)\n",
        "\n",
        "print(myFirstVariable==mySecondVariable)\n",
        "print(myFirstVariable is mySecondVariable)\n",
        "\n",
        "print(bin(5))\n",
        "print(type(bin(mySecondVariable)))\n"
      ],
      "metadata": {
        "colab": {
          "base_uri": "https://localhost:8080/"
        },
        "id": "iwhNYh20YtCN",
        "outputId": "6b74b511-91db-4ac5-f6db-b1fcf25c6f7a"
      },
      "execution_count": null,
      "outputs": [
        {
          "output_type": "stream",
          "name": "stdout",
          "text": [
            "5\n",
            "5\n",
            "True\n",
            "True\n",
            "0b101\n",
            "<class 'str'>\n"
          ]
        }
      ]
    },
    {
      "cell_type": "markdown",
      "source": [
        "**Octal (Base 8)** — can be represented by 8 digits [0–7] Base 8. The **oct()** can be used to convert numbers to octal in Python. The prefix **‘0o’** is used with octal numbers with a zero followed by a lowercase **o**."
      ],
      "metadata": {
        "id": "723mcHbpfMDh"
      }
    },
    {
      "cell_type": "code",
      "source": [
        "#Octal numbers use oct()\n",
        "myFirstVariable = 0o12 #The octal numbers start with \"0o\"\n",
        "mySecondVariable = 0o12\n",
        "print(myFirstVariable)\n",
        "print(myFirstVariable==mySecondVariable)\n",
        "print(myFirstVariable is mySecondVariable)\n",
        "\n",
        "\n",
        "sumOct = int(myFirstVariable)+ int(mySecondVariable)\n",
        "print(sumOct)\n",
        "\n",
        "print(oct(sumOct))\n",
        "print(type(oct(sumOct)))\n",
        "\n"
      ],
      "metadata": {
        "colab": {
          "base_uri": "https://localhost:8080/"
        },
        "id": "zuBmZkUzdAAT",
        "outputId": "320a9298-2aaf-42d3-939a-2b4879e22391"
      },
      "execution_count": null,
      "outputs": [
        {
          "output_type": "stream",
          "name": "stdout",
          "text": [
            "10\n",
            "True\n",
            "True\n",
            "20\n",
            "0o24\n",
            "<class 'str'>\n"
          ]
        }
      ]
    },
    {
      "cell_type": "markdown",
      "source": [
        "**Hexadecimal (Base 16)** — can be represented by 10 digits [0–9] and 6 characters [A, B, C, D, E, F] Base 16. Where A is ten, B is eleven, C is twelve, D is thirteen, E is fourteen, and F is fifteen. The **hex()** can be used to convert numbers to hexadecimal in Python. The prefix **‘0x’** is used with octal numbers with a zero followed by a lowercase **x**."
      ],
      "metadata": {
        "id": "6VG8LTuzg2bZ"
      }
    },
    {
      "cell_type": "code",
      "source": [
        "#Hexadecimal numbers uses hex()\n",
        "myFirstVariable = 0x1F #The hexadecimal numbers start with \"0x\"\n",
        "mySecondVariable = 31\n",
        "\n",
        "print(myFirstVariable==mySecondVariable)\n",
        "print(myFirstVariable is mySecondVariable)\n",
        "\n",
        "print(hex(26))\n",
        "print(myFirstVariable)\n",
        "print(type(hex(mySecondVariable)))"
      ],
      "metadata": {
        "id": "UebpCLJ0cUdB"
      },
      "execution_count": null,
      "outputs": []
    },
    {
      "cell_type": "code",
      "source": [
        "#Octal numbers use oct()\n",
        "myFirstVariable = 0o123 #The octal numbers start with \"0o\"\n",
        "mySecondVariable = 83\n",
        "print(myFirstVariable)\n",
        "print(myFirstVariable==mySecondVariable)\n",
        "print(myFirstVariable is mySecondVariable)\n",
        "\n",
        "sumOct = int(myFirstVariable)+ int(mySecondVariable)\n",
        "print(sumOct)\n",
        "\n"
      ],
      "metadata": {
        "colab": {
          "base_uri": "https://localhost:8080/"
        },
        "outputId": "23bf88eb-7655-4501-beff-5a9e8e61237e",
        "id": "-PSWdOmWftci"
      },
      "execution_count": null,
      "outputs": [
        {
          "output_type": "stream",
          "name": "stdout",
          "text": [
            "83\n",
            "True\n",
            "True\n",
            "166\n"
          ]
        }
      ]
    },
    {
      "cell_type": "markdown",
      "source": [
        "Strings\n",
        "\n",
        "\n",
        "---\n",
        "Strings are a collection of alphanumeric characters that are inclosed in single or double quotes. \n",
        "\n",
        "* Strings are enclosed by single quotation marks ' or double quotation marks \".\n",
        "\n",
        "* 'Hello World!' is the same as \"Hello World!\".\n"
      ],
      "metadata": {
        "id": "J1qJwmTj40sQ"
      }
    },
    {
      "cell_type": "code",
      "source": [
        "#String using single quotes\n",
        "\n",
        "myFirstString='This is my first string'\n",
        "\n",
        "print(myFirstString)"
      ],
      "metadata": {
        "colab": {
          "base_uri": "https://localhost:8080/"
        },
        "id": "4eNwO4Uk5SOg",
        "outputId": "c89079a2-2d93-4d1e-9d78-506f1731b7dc"
      },
      "execution_count": null,
      "outputs": [
        {
          "output_type": "stream",
          "name": "stdout",
          "text": [
            "This is my first string\n"
          ]
        }
      ]
    },
    {
      "cell_type": "code",
      "source": [
        "#String using double quotes\n",
        "\n",
        "mySecondString = \"This is my second string\"\n",
        "\n",
        "print(mySecondString)"
      ],
      "metadata": {
        "colab": {
          "base_uri": "https://localhost:8080/"
        },
        "id": "_g1SyRCS5ee2",
        "outputId": "9e3a01a4-6041-4656-a7c5-2323ea3969e2"
      },
      "execution_count": null,
      "outputs": [
        {
          "output_type": "stream",
          "name": "stdout",
          "text": [
            "This is my second string\n"
          ]
        }
      ]
    },
    {
      "cell_type": "code",
      "source": [
        "#String, using single and double quotes\n",
        "\n",
        "myThirdString=\"This's my third string\"\n",
        "\n",
        "print(myThirdString)"
      ],
      "metadata": {
        "colab": {
          "base_uri": "https://localhost:8080/"
        },
        "id": "z3uhsXjW5pJj",
        "outputId": "1c8eeaf5-2048-4444-c805-eedef4f1cce1"
      },
      "execution_count": null,
      "outputs": [
        {
          "output_type": "stream",
          "name": "stdout",
          "text": [
            "This's my third string\n"
          ]
        }
      ]
    },
    {
      "cell_type": "code",
      "source": [
        "#String, using single quotes\n",
        "\n",
        "myFourthString='That's my fourth myTestString'\n",
        "\n",
        "print(myFourthString)"
      ],
      "metadata": {
        "id": "L0XxJ4Sz5-yS"
      },
      "execution_count": null,
      "outputs": []
    },
    {
      "cell_type": "code",
      "source": [
        "#Multiple line string - single quotes\n",
        "\n",
        "myTestVariable = '''Lorem ipsum dolor sit amet,\n",
        "consectetur adipiscing elit,\n",
        "sed do eiusmod tempor incididunt\n",
        "ut labore et dolore magna aliqua.'''\n",
        "\n",
        "print(myTestVariable)"
      ],
      "metadata": {
        "colab": {
          "base_uri": "https://localhost:8080/"
        },
        "id": "oB6SzZ4phtlO",
        "outputId": "8e3f03f6-0996-4c35-d06c-2495255cbbb9"
      },
      "execution_count": null,
      "outputs": [
        {
          "output_type": "stream",
          "name": "stdout",
          "text": [
            "Lorem ipsum dolor sit amet,\n",
            "consectetur adipiscing elit,\n",
            "sed do eiusmod tempor incididunt\n",
            "ut labore et dolore magna aliqua.\n"
          ]
        }
      ]
    },
    {
      "cell_type": "code",
      "source": [
        "#Multiple line string - double quotes\n",
        "\n",
        "myTestVariable = \"\"\"Lorem ipsum dolor sit amet,\n",
        "consectetur adipiscing elit,\n",
        "sed do eiusmod tempor incididunt\n",
        "ut labore et dolore magna aliqua.\"\"\"\n",
        "\n",
        "print(myTestVariable)"
      ],
      "metadata": {
        "colab": {
          "base_uri": "https://localhost:8080/"
        },
        "id": "QOwBfXwLhlcl",
        "outputId": "4d13ed52-27af-45a6-f0ea-9fa3715f69c1"
      },
      "execution_count": null,
      "outputs": [
        {
          "output_type": "stream",
          "name": "stdout",
          "text": [
            "Lorem ipsum dolor sit amet,\n",
            "consectetur adipiscing elit,\n",
            "sed do eiusmod tempor incididunt\n",
            "ut labore et dolore magna aliqua.\n"
          ]
        }
      ]
    },
    {
      "cell_type": "markdown",
      "source": [
        "Strings\n",
        "\n",
        "\n",
        "---\n",
        "The element of a string can be accessed using index\n",
        "\n"
      ],
      "metadata": {
        "id": "6tczVnHv6dGx"
      }
    },
    {
      "cell_type": "code",
      "source": [
        "#Strings elements can be accessed by index\n",
        "\n",
        "myTestString=\"Lorem ipsum dolor sit amet\"\n",
        "\n",
        "print(myTestString[0:7])\n",
        "print(myTestString[:])\n",
        "print(myTestString[10:22])"
      ],
      "metadata": {
        "id": "QZAktJJks_ix",
        "colab": {
          "base_uri": "https://localhost:8080/"
        },
        "outputId": "f6fd35b9-29ba-4da6-e6bd-f7b467251f77"
      },
      "execution_count": null,
      "outputs": [
        {
          "output_type": "stream",
          "name": "stdout",
          "text": [
            "Lorem i\n",
            "Lorem ipsum dolor sit amet\n",
            "m dolor sit \n"
          ]
        }
      ]
    },
    {
      "cell_type": "markdown",
      "source": [
        "Lists\n",
        "\n",
        "\n",
        "---\n",
        "List is used to store several items in a single variable. List is one of the 4th built-in types in Python.\n"
      ],
      "metadata": {
        "id": "8RxoLXrp4xh5"
      }
    },
    {
      "cell_type": "code",
      "source": [
        "#List - square brackets\n",
        "\n",
        "myFirstList=[\"Red Snapper\", \"Carp\", \"Bass\"]\n",
        "print(myFirstList)\n"
      ],
      "metadata": {
        "id": "Wu5uf2B-e0q7",
        "colab": {
          "base_uri": "https://localhost:8080/"
        },
        "outputId": "4033e41f-de71-469f-cf6b-2a26116af7c4"
      },
      "execution_count": null,
      "outputs": [
        {
          "output_type": "stream",
          "name": "stdout",
          "text": [
            "['Red Snapper', 'Carp', 'Bass']\n"
          ]
        }
      ]
    },
    {
      "cell_type": "markdown",
      "source": [
        "List is a container for many items, these items are indexed starting with the first one being \"0\"."
      ],
      "metadata": {
        "id": "lUHOTjRe413Z"
      }
    },
    {
      "cell_type": "code",
      "source": [
        "#The indexes\n",
        "#myFirstList = [1,  2,  3,  4,  5]\n",
        "#--------------------------\n",
        "#index          0,  1,  2,  3,  4\n",
        "#index         -5, -4, -3, -2, -1\n",
        "\n",
        "myFirstList = [1,2,3,4,5]\n",
        "\n",
        "print(myFirstList)\n",
        "print(myFirstList[:])\n",
        "print(myFirstList[1:])\n",
        "print(myFirstList[0:3])\n",
        "print(myFirstList[3:4])\n",
        "print(myFirstList[3:5])\n",
        "print(myFirstList[-4:])\n",
        "print(myFirstList[-4:-1])\n",
        "print(myFirstList[-5])"
      ],
      "metadata": {
        "colab": {
          "base_uri": "https://localhost:8080/"
        },
        "id": "8vwyYJXN5GTg",
        "outputId": "0d64dee7-290a-4c08-f1e7-9183453e29c2"
      },
      "execution_count": null,
      "outputs": [
        {
          "output_type": "stream",
          "name": "stdout",
          "text": [
            "[1, 2, 3, 4, 5]\n",
            "[1, 2, 3, 4, 5]\n",
            "[2, 3, 4, 5]\n",
            "[1, 2, 3]\n",
            "[4]\n",
            "[4, 5]\n",
            "[2, 3, 4, 5]\n",
            "[2, 3, 4]\n",
            "1\n"
          ]
        }
      ]
    },
    {
      "cell_type": "code",
      "source": [
        "#The list\n",
        "\n",
        "myFirstList=[\"Carp\", \"Red Snapper\", \"Bass\"]\n",
        "\n",
        "print(type(myFirstList))"
      ],
      "metadata": {
        "colab": {
          "base_uri": "https://localhost:8080/"
        },
        "id": "DcITk1IM9RMp",
        "outputId": "5af4bbaa-f095-41fd-e20e-f3cd827867c2"
      },
      "execution_count": null,
      "outputs": [
        {
          "output_type": "stream",
          "name": "stdout",
          "text": [
            "<class 'list'>\n"
          ]
        }
      ]
    },
    {
      "cell_type": "markdown",
      "source": [
        "The list constructor can be used to built a list"
      ],
      "metadata": {
        "id": "qwmRtBLy9fPs"
      }
    },
    {
      "cell_type": "code",
      "source": [
        "#The list constructor\n",
        "\n",
        "myFirstList = list((\"Carp\", \"Brass\", \"Red Snapper\")) #use round brackets\n",
        "\n",
        "print(myFirstList)"
      ],
      "metadata": {
        "colab": {
          "base_uri": "https://localhost:8080/"
        },
        "id": "hj3kO3pB9knr",
        "outputId": "7d192227-04a2-423b-e10d-b3aa5b701eff"
      },
      "execution_count": null,
      "outputs": [
        {
          "output_type": "stream",
          "name": "stdout",
          "text": [
            "['Carp', 'Brass', 'Red Snapper']\n"
          ]
        }
      ]
    },
    {
      "cell_type": "code",
      "source": [
        "#Check if item is in the list\n",
        "\n",
        "mySecondList = [\"Carp\", \"Brass\", \"Fly\"]\n",
        "\n",
        "if \"Fly\" in mySecondList:\n",
        "  print(\"Yes, there is a fly in the list\")"
      ],
      "metadata": {
        "colab": {
          "base_uri": "https://localhost:8080/"
        },
        "id": "_s9EVQHx-B6e",
        "outputId": "9f0076bc-7ec5-4fc8-ec1e-16c4f52eb8fa"
      },
      "execution_count": null,
      "outputs": [
        {
          "output_type": "stream",
          "name": "stdout",
          "text": [
            "Yes, there is a fly in the list\n"
          ]
        }
      ]
    },
    {
      "cell_type": "code",
      "source": [
        "#Change values in the list\n",
        "\n",
        "mySecondList = [\"Carp\", \"Brass\", \"Fly\", \"Spider\"]\n",
        "\n",
        "mySecondList[2:3] = [\"Red Snapper\", \"Shark\"]\n",
        "\n",
        "print(mySecondList)\n",
        "\n"
      ],
      "metadata": {
        "colab": {
          "base_uri": "https://localhost:8080/"
        },
        "id": "7BVrP7bU-d3Q",
        "outputId": "869e950f-bf68-411b-888f-2a5501c2c268"
      },
      "execution_count": null,
      "outputs": [
        {
          "output_type": "stream",
          "name": "stdout",
          "text": [
            "['Carp', 'Brass', 'Red Snapper', 'Shark', 'Spider']\n"
          ]
        }
      ]
    },
    {
      "cell_type": "code",
      "source": [
        "#Insert items to the list\n",
        "myThirdList = [\"Carp\", \"Brass\", \"Fly\", \"Spider\"]\n",
        "\n",
        "myThirdList.insert(2, \"Red Snapper\")\n",
        "myThirdList.insert(3, \"Shark\")\n",
        "\n",
        "print(myThirdList)"
      ],
      "metadata": {
        "colab": {
          "base_uri": "https://localhost:8080/"
        },
        "id": "9vRYmexW-_3d",
        "outputId": "67bf70b5-70fe-4fd5-f943-20418683d663"
      },
      "execution_count": null,
      "outputs": [
        {
          "output_type": "stream",
          "name": "stdout",
          "text": [
            "['Carp', 'Brass', 'Red Snapper', 'Shark', 'Fly', 'Spider']\n"
          ]
        }
      ]
    },
    {
      "cell_type": "code",
      "source": [
        "#Append the list\n",
        "\n",
        "myThirdList = [\"Carp\"]\n",
        "\n",
        "myThirdList.append(\"Brass\")\n",
        "myThirdList.append(\"Red Snapper\")\n",
        "myThirdList.append(\"Shark\")\n",
        "\n",
        "print(myThirdList)"
      ],
      "metadata": {
        "colab": {
          "base_uri": "https://localhost:8080/"
        },
        "id": "MxfnnnCN_jis",
        "outputId": "58f0ea50-babc-4859-d465-b8da8e8a9fb2"
      },
      "execution_count": null,
      "outputs": [
        {
          "output_type": "stream",
          "name": "stdout",
          "text": [
            "['Carp', 'Brass', 'Red Snapper', 'Shark']\n"
          ]
        }
      ]
    },
    {
      "cell_type": "code",
      "source": [
        "#Extend the list\n",
        "\n",
        "myFishList=[\"Carp\", \"Brass\", \"Red Snapper\"]\n",
        "myLureList=[\"Fly\", \"Spider\", \"Worm\"]\n",
        "\n",
        "myFishList.extend(myLureList)\n",
        "\n",
        "print(myFishList)"
      ],
      "metadata": {
        "colab": {
          "base_uri": "https://localhost:8080/"
        },
        "id": "YOMumLiF_-DH",
        "outputId": "4052e347-0382-4f10-b51e-04ecae71e738"
      },
      "execution_count": null,
      "outputs": [
        {
          "output_type": "stream",
          "name": "stdout",
          "text": [
            "['Carp', 'Brass', 'Red Snapper', 'Fly', 'Spider', 'Worm']\n"
          ]
        }
      ]
    },
    {
      "cell_type": "code",
      "source": [
        "#Remove items from the lists\n",
        "\n",
        "myFishList=[\"Carp\", \"Brass\", \"Red Snapper\"]\n",
        "\n",
        "myFishList.remove(\"Carp\")\n",
        "\n",
        "print(myFishList)"
      ],
      "metadata": {
        "colab": {
          "base_uri": "https://localhost:8080/"
        },
        "id": "hnxj0xWRAjaF",
        "outputId": "650b2c5b-8102-4692-b91d-1c2b11de56f2"
      },
      "execution_count": null,
      "outputs": [
        {
          "output_type": "stream",
          "name": "stdout",
          "text": [
            "['Brass', 'Red Snapper']\n"
          ]
        }
      ]
    },
    {
      "cell_type": "code",
      "source": [
        "#Remove a specific index, if you do not specify, removes the last one\n",
        "\n",
        "myFishList=[\"Carp\", \"Brass\", \"Red Snapper\", \"Fly\"]\n",
        "\n",
        "myFishList.pop(3)\n",
        "\n",
        "print(myFishList)\n",
        "\n",
        "myFishList.pop()\n",
        "\n",
        "print(myFishList)"
      ],
      "metadata": {
        "colab": {
          "base_uri": "https://localhost:8080/"
        },
        "id": "oFhEEsOtA1Tt",
        "outputId": "072f81b4-58bb-47b8-d3cb-808af4400165"
      },
      "execution_count": null,
      "outputs": [
        {
          "output_type": "stream",
          "name": "stdout",
          "text": [
            "['Carp', 'Brass', 'Red Snapper']\n",
            "['Carp', 'Brass']\n"
          ]
        }
      ]
    },
    {
      "cell_type": "code",
      "source": [
        "#Clear the list\n",
        "\n",
        "myFishList=[\"Fly\", \"Spider\", \"Worm\"]\n",
        "\n",
        "myFishList.clear()\n",
        "\n",
        "print(myFishList)"
      ],
      "metadata": {
        "colab": {
          "base_uri": "https://localhost:8080/"
        },
        "id": "dt7BbOgsB1pr",
        "outputId": "8e12e4b7-b846-4e90-ccbd-bd5489b227b0"
      },
      "execution_count": null,
      "outputs": [
        {
          "output_type": "stream",
          "name": "stdout",
          "text": [
            "[]\n"
          ]
        }
      ]
    },
    {
      "cell_type": "code",
      "source": [
        "#Delete the entire list\n",
        "\n",
        "myFishList=[\"Carp\", \"Brass\", \"Red Snapper\"]\n",
        "\n",
        "del myFishList "
      ],
      "metadata": {
        "id": "jtwD7K8vBj2C"
      },
      "execution_count": null,
      "outputs": []
    },
    {
      "cell_type": "code",
      "source": [
        "#Loop through the lists\n",
        "\n",
        "myFishList=[\"Carp\", \"Brass\", \"Red Snapper\"]\n",
        "\n",
        "for i in myFishList:\n",
        "  print(i)"
      ],
      "metadata": {
        "colab": {
          "base_uri": "https://localhost:8080/"
        },
        "id": "9-GtZGEPCJJh",
        "outputId": "263fdb5d-5b75-4e6f-f869-d4b106137881"
      },
      "execution_count": null,
      "outputs": [
        {
          "output_type": "stream",
          "name": "stdout",
          "text": [
            "Carp\n",
            "Brass\n",
            "Red Snapper\n"
          ]
        }
      ]
    },
    {
      "cell_type": "code",
      "source": [
        "#Loop through the index numbers using range() and len() functions\n",
        "\n",
        "myFishList=[\"Carp\", \"Brass\", \"Red Snapper\"]\n",
        "\n",
        "for i in range(len(myFishList)):\n",
        "  print(myFishList[i])"
      ],
      "metadata": {
        "colab": {
          "base_uri": "https://localhost:8080/"
        },
        "id": "5t8oprYQDJJB",
        "outputId": "0f0a2650-004c-4396-b6c1-cfaae98d6398"
      },
      "execution_count": null,
      "outputs": [
        {
          "output_type": "stream",
          "name": "stdout",
          "text": [
            "Carp\n",
            "Brass\n",
            "Red Snapper\n"
          ]
        }
      ]
    },
    {
      "cell_type": "code",
      "source": [
        "#Access a list using a while loop\n",
        "\n",
        "myFishList=[\"Carp\", \"Brass\", \"Red Snapper\"]\n",
        "\n",
        "i=0\n",
        "\n",
        "while i < len(myFishList):\n",
        "  print(myFishList[i])\n",
        "\n",
        "  i+=1"
      ],
      "metadata": {
        "colab": {
          "base_uri": "https://localhost:8080/"
        },
        "id": "RAka3lDNDl_C",
        "outputId": "f7755264-d0c4-4e4b-c5ac-c7cce4b263c6"
      },
      "execution_count": null,
      "outputs": [
        {
          "output_type": "stream",
          "name": "stdout",
          "text": [
            "Carp\n",
            "Brass\n",
            "Red Snapper\n"
          ]
        }
      ]
    },
    {
      "cell_type": "code",
      "source": [
        "#List comprehension\n",
        "\n",
        "myFishList=[\"Carp\", \"Brass\", \"Red Snapper\"]\n",
        "[print(i) for i in myFishList]"
      ],
      "metadata": {
        "colab": {
          "base_uri": "https://localhost:8080/"
        },
        "id": "jCSOx01TEPbr",
        "outputId": "80fcac32-6ceb-43d3-8fb7-f192be03376d"
      },
      "execution_count": null,
      "outputs": [
        {
          "output_type": "stream",
          "name": "stdout",
          "text": [
            "Carp\n",
            "Brass\n",
            "Red Snapper\n"
          ]
        },
        {
          "output_type": "execute_result",
          "data": {
            "text/plain": [
              "[None, None, None]"
            ]
          },
          "metadata": {},
          "execution_count": 246
        }
      ]
    },
    {
      "cell_type": "code",
      "source": [
        "#List comprehension\n",
        "\n",
        "myFishList=[\"Carp\", \"Brass\", \"Red Snapper\"]\n",
        "myNewList=[]\n",
        "\n",
        "for i in myFishList:\n",
        "  if \"e\" in i:\n",
        "    myNewList.append(i)\n",
        "\n",
        "print(myNewList)"
      ],
      "metadata": {
        "colab": {
          "base_uri": "https://localhost:8080/"
        },
        "id": "ooXN0jaGFnSB",
        "outputId": "21b5e291-8bd8-4c1f-d4c3-c7c6bebffa61"
      },
      "execution_count": null,
      "outputs": [
        {
          "output_type": "stream",
          "name": "stdout",
          "text": [
            "['Red Snapper']\n"
          ]
        }
      ]
    },
    {
      "cell_type": "code",
      "source": [
        "#Sorting\n",
        "\n",
        "myFishList=[\"Carp\", \"Brass\", \"Red Snapper\", \"Shark\", \"Arowana\", \"Catfish\"]\n",
        "\n",
        "myFishList.sort()\n",
        "\n",
        "print(myFishList)"
      ],
      "metadata": {
        "colab": {
          "base_uri": "https://localhost:8080/"
        },
        "id": "cvT_cYVZGjSe",
        "outputId": "7242102a-63f5-4f0c-d6d0-8950e57f798d"
      },
      "execution_count": null,
      "outputs": [
        {
          "output_type": "stream",
          "name": "stdout",
          "text": [
            "['Arowana', 'Brass', 'Carp', 'Catfish', 'Red Snapper', 'Shark']\n"
          ]
        }
      ]
    },
    {
      "cell_type": "code",
      "source": [
        "#Sorting - default it is case sensitive\n",
        "\n",
        "myFishList=[\"Carp\", \"Brass\", \"Red Snapper\", \"Shark\", \"Arowana\", \"Catfish\"]\n",
        "\n",
        "myFishList.sort(reverse = True)\n",
        "\n",
        "print(myFishList)"
      ],
      "metadata": {
        "colab": {
          "base_uri": "https://localhost:8080/"
        },
        "id": "n6PDuRQtG_Vj",
        "outputId": "281861cb-c495-4c87-a177-500915ac3d3e"
      },
      "execution_count": null,
      "outputs": [
        {
          "output_type": "stream",
          "name": "stdout",
          "text": [
            "['Shark', 'Red Snapper', 'Catfish', 'Carp', 'Brass', 'Arowana']\n"
          ]
        }
      ]
    },
    {
      "cell_type": "code",
      "source": [
        "#Sorting - with case insensitive method\n",
        "\n",
        "myFishList=[\"Carp\", \"Brass\", \"red Snapper\", \"shark\", \"Arowana\", \"catfish\"]\n",
        "\n",
        "myFishList.sort(key=str.lower)\n",
        "\n",
        "print(myFishList)"
      ],
      "metadata": {
        "colab": {
          "base_uri": "https://localhost:8080/"
        },
        "id": "-dEkZ-qeHiBB",
        "outputId": "f612196b-6bbb-44a4-d986-e2871aeefabb"
      },
      "execution_count": null,
      "outputs": [
        {
          "output_type": "stream",
          "name": "stdout",
          "text": [
            "['Arowana', 'Brass', 'Carp', 'catfish', 'red Snapper', 'shark']\n"
          ]
        }
      ]
    },
    {
      "cell_type": "code",
      "source": [
        "#Copy Lists - using copy() function\n",
        "\n",
        "myFishList=[\"Carp\", \"Brass\", \"Salmon\", \"Red Snapper\"]\n",
        "\n",
        "myNewList=myFishList.copy()\n",
        "\n",
        "print(myNewList)"
      ],
      "metadata": {
        "colab": {
          "base_uri": "https://localhost:8080/"
        },
        "id": "fcVDkWeSIFzp",
        "outputId": "a10e0bf3-bc81-49cb-9555-5be234716436"
      },
      "execution_count": null,
      "outputs": [
        {
          "output_type": "stream",
          "name": "stdout",
          "text": [
            "['Carp', 'Brass', 'Salmon', 'Red Snapper']\n"
          ]
        }
      ]
    },
    {
      "cell_type": "code",
      "source": [
        "#Copy Lists - using built-in method list()\n",
        "\n",
        "myFishList=[\"Carp\", \"Brass\", \"Salmon\", \"Red Snapper\"]\n",
        "\n",
        "myNewList=list(myFishList)\n",
        "\n",
        "print(myNewList)"
      ],
      "metadata": {
        "colab": {
          "base_uri": "https://localhost:8080/"
        },
        "outputId": "9eb732b4-4905-4370-ebdd-721fdf587739",
        "id": "T3OEIK4DIctb"
      },
      "execution_count": null,
      "outputs": [
        {
          "output_type": "stream",
          "name": "stdout",
          "text": [
            "['Carp', 'Brass', 'Salmon', 'Red Snapper']\n"
          ]
        }
      ]
    },
    {
      "cell_type": "code",
      "source": [
        "#Join lists\n",
        "\n",
        "myFishList=[\"Carp\", \"Brass\", \"Salmon\", \"Red Snapper\"]\n",
        "myInsectList=[\"Fly\", \"Beetle\", \"Ant\", \"Dragonfly\"]\n",
        "\n",
        "myNewList = myFishList + myInsectList\n",
        "\n",
        "print(myNewList)"
      ],
      "metadata": {
        "colab": {
          "base_uri": "https://localhost:8080/"
        },
        "id": "1q4S9ISCIsr9",
        "outputId": "0db58490-96ba-47c5-f5bf-f82a7da6972c"
      },
      "execution_count": null,
      "outputs": [
        {
          "output_type": "stream",
          "name": "stdout",
          "text": [
            "['Carp', 'Brass', 'Salmon', 'Red Snapper', 'Fly', 'Beetle', 'Ant', 'Dragonfly']\n"
          ]
        }
      ]
    },
    {
      "cell_type": "markdown",
      "source": [
        "Other list's methods can be found at https://www.w3schools.com/python/python_lists_methods.asp"
      ],
      "metadata": {
        "id": "pZC4skKKJPLc"
      }
    },
    {
      "cell_type": "markdown",
      "source": [
        "Tuples\n",
        "\n",
        "\n",
        "---\n",
        "Tuples are used to store multiple values in a single variable. Once tuple created it can not be changed. You can have duplicates. It is also indexed as lists starting with 0.\n"
      ],
      "metadata": {
        "id": "WDg2CPv6JrwG"
      }
    },
    {
      "cell_type": "code",
      "source": [
        "#Tuple\n",
        "\n",
        "myFirstTuple = (\"Carp\", \"Anaconda\", \"Shark\") # packing\n",
        "\n",
        "print(myFirstTuple)"
      ],
      "metadata": {
        "colab": {
          "base_uri": "https://localhost:8080/"
        },
        "id": "wzavr6HZJ8Vh",
        "outputId": "f75be38d-d55f-4f9d-a7ab-9d5d74e45ce8"
      },
      "execution_count": null,
      "outputs": [
        {
          "output_type": "stream",
          "name": "stdout",
          "text": [
            "('Carp', 'Anaconda', 'Shark')\n"
          ]
        }
      ]
    },
    {
      "cell_type": "code",
      "source": [
        "#Tuple\n",
        "\n",
        "myFirstTuple = (\"Carp\", \"Anaconda\", \"Shark\") # packing\n",
        "\n",
        "(Carp, Anaconda, Shark) = myFirstTuple #unpacking\n",
        "\n",
        "print(Carp)\n",
        "print(Anaconda)\n",
        "print(Shark)"
      ],
      "metadata": {
        "colab": {
          "base_uri": "https://localhost:8080/"
        },
        "id": "PQwcFQ42YJEc",
        "outputId": "738025c0-938c-4f18-d210-f68b36f6bc75"
      },
      "execution_count": null,
      "outputs": [
        {
          "output_type": "stream",
          "name": "stdout",
          "text": [
            "Carp\n",
            "Anaconda\n",
            "Shark\n"
          ]
        }
      ]
    },
    {
      "cell_type": "code",
      "source": [
        "#Tuple\n",
        "\n",
        "myFamilyTuple = (\"Boa\", \"Pythonidae\", \"Elapidae\", \"Crotalinae\", \"Boa\")\n",
        "\n",
        "print(myFamilyTuple)\n",
        "\n"
      ],
      "metadata": {
        "colab": {
          "base_uri": "https://localhost:8080/"
        },
        "id": "jPKGIjrGKkV7",
        "outputId": "ddeb7295-d104-45c4-8dcd-200907fe7623"
      },
      "execution_count": null,
      "outputs": [
        {
          "output_type": "stream",
          "name": "stdout",
          "text": [
            "('Boa', 'Pythonidae', 'Elapidae', 'Crotalinae', 'Boa')\n"
          ]
        }
      ]
    },
    {
      "cell_type": "code",
      "source": [
        "#Creating a tuple with one item\n",
        "\n",
        "myOneItemTuple = (\"Anaconda\",)\n",
        "\n",
        "print(type(myOneItemTuple))\n",
        "\n",
        "#THIS IS NOT A TUPLE\n",
        "myNotTuple=(\"Anaconda\")\n",
        "print(type(myNotTuple))"
      ],
      "metadata": {
        "colab": {
          "base_uri": "https://localhost:8080/"
        },
        "id": "N7u-Tt1lLTDl",
        "outputId": "8289ffdd-635f-4a57-a0f4-6723a8d4f31f"
      },
      "execution_count": null,
      "outputs": [
        {
          "output_type": "stream",
          "name": "stdout",
          "text": [
            "<class 'tuple'>\n",
            "<class 'str'>\n"
          ]
        }
      ]
    },
    {
      "cell_type": "code",
      "source": [
        "#You can use tuple() constructor to build a tuple\n",
        "\n",
        "mySecondTuple=tuple((\"Wolf\", \"Rabbit\"))\n",
        "\n",
        "print(mySecondTuple)"
      ],
      "metadata": {
        "colab": {
          "base_uri": "https://localhost:8080/"
        },
        "id": "OIbk29LUL1Ej",
        "outputId": "9b3f690b-9c42-44d3-dc35-22e9285325b2"
      },
      "execution_count": null,
      "outputs": [
        {
          "output_type": "stream",
          "name": "stdout",
          "text": [
            "('Wolf', 'Rabbit')\n"
          ]
        }
      ]
    },
    {
      "cell_type": "markdown",
      "source": [
        "Dictionary\n",
        "\n",
        "\n",
        "---\n",
        "Dictionaries store data using key:value pairs.\n",
        "\n",
        "A dictionary is an ordered collection, changeable and do not allow duplicates. The items can be removed, changed, and added. The dictionary can not have duplicates. \n"
      ],
      "metadata": {
        "id": "LrEJ_oZiIq2d"
      }
    },
    {
      "cell_type": "code",
      "source": [
        "#Dictionary\n",
        "\n",
        "myFirstDictionary={\"Name\":\"Kirill\", \"Age\":72, \"Occupation\":\"Doctor\"}\n",
        "\n",
        "print(myFirstDictionary)"
      ],
      "metadata": {
        "colab": {
          "base_uri": "https://localhost:8080/"
        },
        "id": "AmUQHGAZI9Nv",
        "outputId": "670276a5-da2f-499f-f98f-99c8be8e4c2d"
      },
      "execution_count": null,
      "outputs": [
        {
          "output_type": "stream",
          "name": "stdout",
          "text": [
            "{'Name': 'Kirill', 'Age': 72, 'Occupation': 'Doctor'}\n"
          ]
        }
      ]
    },
    {
      "cell_type": "code",
      "source": [
        "#Dictionary\n",
        "myFirstDictionary={\"Name\":\"Kirill\", \"Age\":25, \"Occupation\":\"Student\", \"Age\":36}\n",
        "\n",
        "print(myFirstDictionary)"
      ],
      "metadata": {
        "colab": {
          "base_uri": "https://localhost:8080/"
        },
        "id": "r0yWQt_MKKpY",
        "outputId": "627479c3-e771-4477-e157-2acd274a232e"
      },
      "execution_count": null,
      "outputs": [
        {
          "output_type": "stream",
          "name": "stdout",
          "text": [
            "{'Name': 'Kirill', 'Age': 36, 'Occupation': 'Student'}\n"
          ]
        }
      ]
    },
    {
      "cell_type": "code",
      "source": [
        "#Dictionary length\n",
        "\n",
        "myFirstDictionary={\"Name\":\"Kirill\", \"Age\":25, \"Occupation\":\"Student\"}\n",
        "print(len(myFirstDictionary))"
      ],
      "metadata": {
        "colab": {
          "base_uri": "https://localhost:8080/"
        },
        "id": "0kCHLuJAKhyq",
        "outputId": "af9a6bfe-9afe-4382-9420-52039a56ba1a"
      },
      "execution_count": null,
      "outputs": [
        {
          "output_type": "stream",
          "name": "stdout",
          "text": [
            "3\n"
          ]
        }
      ]
    },
    {
      "cell_type": "code",
      "source": [
        "#Dictionary type\n",
        "\n",
        "myFirstDictionary={\"Name\":\"Kirill\", \"Age\":25, \"Occupation\":\"Student\"}\n",
        "print(type(myFirstDictionary))"
      ],
      "metadata": {
        "colab": {
          "base_uri": "https://localhost:8080/"
        },
        "id": "LocTGZLzK6JT",
        "outputId": "c7e48c04-796d-40c0-a7f3-13a6717a812a"
      },
      "execution_count": null,
      "outputs": [
        {
          "output_type": "stream",
          "name": "stdout",
          "text": [
            "<class 'dict'>\n"
          ]
        }
      ]
    },
    {
      "cell_type": "code",
      "source": [
        "#Dictionary constractor dict()\n",
        "myFirstDictionary = dict(Name=\"Kirill\", Age=25, Occupation=\"Student\")\n",
        "print(myFirstDictionary)"
      ],
      "metadata": {
        "colab": {
          "base_uri": "https://localhost:8080/"
        },
        "id": "wqzD_rpwLO0W",
        "outputId": "10c79ff6-6fbd-4618-8283-509f56973140"
      },
      "execution_count": null,
      "outputs": [
        {
          "output_type": "stream",
          "name": "stdout",
          "text": [
            "{'Name': 'Kirill', 'Age': 25, 'Occupation': 'Student'}\n"
          ]
        }
      ]
    },
    {
      "cell_type": "code",
      "source": [
        "#Get the value of the age: \"key:value\"\n",
        "\n",
        "myFirstDictionary = dict(Name=\"Kirill\", Age=25, Occupation=\"Student\")\n",
        "print(myFirstDictionary[\"Age\"])"
      ],
      "metadata": {
        "colab": {
          "base_uri": "https://localhost:8080/"
        },
        "id": "fp6PHb62L1u9",
        "outputId": "28fcd1d6-eb79-4a3f-8c63-fa138b2811dd"
      },
      "execution_count": null,
      "outputs": [
        {
          "output_type": "stream",
          "name": "stdout",
          "text": [
            "25\n"
          ]
        }
      ]
    },
    {
      "cell_type": "code",
      "source": [
        "#Method get() can be used to access dictionary value using the keyword\n",
        "myFirstDictionary = dict(Name=\"Kirill\", Age=25, Occupation=\"Student\")\n",
        "\n",
        "print(myFirstDictionary.get(\"Age\"))\n"
      ],
      "metadata": {
        "colab": {
          "base_uri": "https://localhost:8080/"
        },
        "id": "_5jYofrGMQeO",
        "outputId": "4681e7a9-ba59-47b9-d4fc-c04f3829e33f"
      },
      "execution_count": null,
      "outputs": [
        {
          "output_type": "stream",
          "name": "stdout",
          "text": [
            "25\n"
          ]
        }
      ]
    },
    {
      "cell_type": "code",
      "source": [
        "#Get the list of keys\n",
        "myFirstDictionary = dict(Name=\"Kirill\", Age=25, Occupation=\"Student\")\n",
        "print(myFirstDictionary.keys())"
      ],
      "metadata": {
        "colab": {
          "base_uri": "https://localhost:8080/"
        },
        "id": "k81BrfGlMwB7",
        "outputId": "37c07d31-02c6-4827-fc2e-1b991c3bf526"
      },
      "execution_count": null,
      "outputs": [
        {
          "output_type": "stream",
          "name": "stdout",
          "text": [
            "dict_keys(['Name', 'Age', 'Occupation'])\n"
          ]
        }
      ]
    },
    {
      "cell_type": "code",
      "source": [
        "#Adding a new item to the dicitonary\n",
        "myFirstDictionary = dict(Name=\"Kirill\", Age=25, Occupation=\"Student\")\n",
        "myFirstDictionary[\"Age\"] = 55\n",
        "\n",
        "print(myFirstDictionary)"
      ],
      "metadata": {
        "colab": {
          "base_uri": "https://localhost:8080/"
        },
        "id": "8OUIAF3WNCFw",
        "outputId": "d745deea-e99b-4f1f-82dd-2e0fac8c4e7a"
      },
      "execution_count": null,
      "outputs": [
        {
          "output_type": "stream",
          "name": "stdout",
          "text": [
            "{'Name': 'Kirill', 'Age': 55, 'Occupation': 'Student'}\n"
          ]
        }
      ]
    },
    {
      "cell_type": "code",
      "source": [
        "#Get list of values\n",
        "myFirstDictionary = dict(Name=\"Kirill\", Age=25, Occupation=\"Student\")\n",
        "print(myFirstDictionary.values())"
      ],
      "metadata": {
        "colab": {
          "base_uri": "https://localhost:8080/"
        },
        "id": "LIH3CV1RNi4v",
        "outputId": "ecdbd8e5-a760-4de6-af2b-15318274d9a3"
      },
      "execution_count": null,
      "outputs": [
        {
          "output_type": "stream",
          "name": "stdout",
          "text": [
            "dict_values(['Kirill', 25, 'Student'])\n"
          ]
        }
      ]
    },
    {
      "cell_type": "code",
      "source": [
        "#Get list of key:values using item\n",
        "myFirstDictionary = dict(Name=\"Kirill\", Age=25, Occupation=\"Student\")\n",
        "print(myFirstDictionary.items())"
      ],
      "metadata": {
        "colab": {
          "base_uri": "https://localhost:8080/"
        },
        "id": "DfxebHnJN581",
        "outputId": "2050a6b0-7230-407d-fd5e-3d647e0d0e6f"
      },
      "execution_count": null,
      "outputs": [
        {
          "output_type": "stream",
          "name": "stdout",
          "text": [
            "dict_items([('Name', 'Kirill'), ('Age', 25), ('Occupation', 'Student')])\n"
          ]
        }
      ]
    },
    {
      "cell_type": "code",
      "source": [
        "#Checking if a key present in a dictionary\n",
        "myFirstDictionary = dict(Name=\"Kirill\", Age=25, Occupation=\"Student\")\n",
        "if \"Age\" in myFirstDictionary: print(\"Yes, Age is in the dictionary\")"
      ],
      "metadata": {
        "colab": {
          "base_uri": "https://localhost:8080/"
        },
        "id": "N0WRzhLwOTWg",
        "outputId": "e25f84a3-db33-40c6-f99c-7c20f8deaecf"
      },
      "execution_count": null,
      "outputs": [
        {
          "output_type": "stream",
          "name": "stdout",
          "text": [
            "Yes, Age is in the dictionary\n"
          ]
        }
      ]
    },
    {
      "cell_type": "code",
      "source": [
        "#Update the dictionary\n",
        "myFirstDictionary = dict(Name=\"Kirill\", Age=25, Occupation=\"Student\")\n",
        "myFirstDictionary.update({\"Age\":33})\n",
        "\n",
        "print(myFirstDictionary)"
      ],
      "metadata": {
        "colab": {
          "base_uri": "https://localhost:8080/"
        },
        "id": "_mdgODj4O-09",
        "outputId": "92d82fdb-aa4b-4a7f-aa86-49d8548ae013"
      },
      "execution_count": null,
      "outputs": [
        {
          "output_type": "stream",
          "name": "stdout",
          "text": [
            "{'Name': 'Kirill', 'Age': 33, 'Occupation': 'Student'}\n"
          ]
        }
      ]
    },
    {
      "cell_type": "code",
      "source": [
        "#Update the dictionary\n",
        "myFirstDictionary = dict(Name=\"Kirill\", Age=25, Occupation=\"Student\")\n",
        "myFirstDictionary.update({\"Age\":33})\n",
        "print(myFirstDictionary)"
      ],
      "metadata": {
        "colab": {
          "base_uri": "https://localhost:8080/"
        },
        "id": "4m-GpVpUP09W",
        "outputId": "42c4ab6d-3b1d-4ebb-cc3e-4cf0878cc8c8"
      },
      "execution_count": null,
      "outputs": [
        {
          "output_type": "stream",
          "name": "stdout",
          "text": [
            "{'Name': 'Kirill', 'Age': 33, 'Occupation': 'Student'}\n"
          ]
        }
      ]
    },
    {
      "cell_type": "code",
      "source": [
        "#Remove items from the dictionary\n",
        "myFirstDictionary = dict(Name=\"Kirill\", Age=25, Occupation=\"Student\")\n",
        "myFirstDictionary.pop(\"Age\")\n",
        "print(myFirstDictionary)\n"
      ],
      "metadata": {
        "colab": {
          "base_uri": "https://localhost:8080/"
        },
        "id": "gE9SoknNQZmU",
        "outputId": "8499e4e5-900f-44d3-b55c-82b8b5445d8b"
      },
      "execution_count": null,
      "outputs": [
        {
          "output_type": "stream",
          "name": "stdout",
          "text": [
            "{'Name': 'Kirill', 'Occupation': 'Student'}\n"
          ]
        }
      ]
    },
    {
      "cell_type": "code",
      "source": [
        "#Delete item from the Dictionary\n",
        "myFirstDictionary = dict(Name=\"Kirill\", Age=25, Occupation=\"Student\")\n",
        "\n",
        "del myFirstDictionary[\"Age\"]\n",
        "print(myFirstDictionary)"
      ],
      "metadata": {
        "colab": {
          "base_uri": "https://localhost:8080/"
        },
        "id": "fPBTRj2xRABQ",
        "outputId": "08e62e12-8f90-4a42-f677-feb224780ef2"
      },
      "execution_count": null,
      "outputs": [
        {
          "output_type": "stream",
          "name": "stdout",
          "text": [
            "{'Name': 'Kirill', 'Occupation': 'Student'}\n"
          ]
        }
      ]
    },
    {
      "cell_type": "markdown",
      "source": [
        "Sets\n",
        "\n",
        "---\n",
        "\n",
        "\n",
        "Sets are used to store maltiple values in a single variable.\n",
        "It is unodered, unchagable, and unindexed, but you can add and remove items."
      ],
      "metadata": {
        "id": "aug2ii2_MNbv"
      }
    },
    {
      "cell_type": "code",
      "source": [
        "#Sets\n",
        "\n",
        "myFirstSet = {\"Carp\", \"Bass\", \"Salmon\"} # It is one order\n",
        "print(myFirstSet)"
      ],
      "metadata": {
        "colab": {
          "base_uri": "https://localhost:8080/"
        },
        "id": "l1nS-WtVY1Sh",
        "outputId": "8a47d1d4-1ded-4698-8b9b-703a47801f85"
      },
      "execution_count": null,
      "outputs": [
        {
          "output_type": "stream",
          "name": "stdout",
          "text": [
            "{'Bass', 'Carp', 'Salmon'}\n"
          ]
        }
      ]
    },
    {
      "cell_type": "code",
      "source": [
        "#Sets\n",
        "\n",
        "myFirstSet = {\"apple\", \"banana\", \"cherry\", \"apple\"}\n",
        "print(myFirstSet)"
      ],
      "metadata": {
        "colab": {
          "base_uri": "https://localhost:8080/"
        },
        "id": "6DUwz-mYZNF-",
        "outputId": "339fe9a8-0200-4b0d-a351-6cb95c188823"
      },
      "execution_count": null,
      "outputs": [
        {
          "output_type": "stream",
          "name": "stdout",
          "text": [
            "{'cherry', 'banana', 'apple'}\n"
          ]
        }
      ]
    },
    {
      "cell_type": "code",
      "source": [
        "#Sets\n",
        "\n",
        "myFirstSet = {\"apple\", \"banana\", \"cherry\", \"apple\", True, 1, 2} True and 1 are the same\n",
        "print(myFirstSet)"
      ],
      "metadata": {
        "colab": {
          "base_uri": "https://localhost:8080/"
        },
        "id": "4cgo_2HnZdqW",
        "outputId": "9e60ba52-0d62-4475-d9de-3a6e4fbb52a1"
      },
      "execution_count": null,
      "outputs": [
        {
          "output_type": "stream",
          "name": "stdout",
          "text": [
            "{'cherry', True, 2, 'banana', 'apple'}\n"
          ]
        }
      ]
    },
    {
      "cell_type": "code",
      "source": [
        "#Set's length\n",
        "\n",
        "mySecondSet = {\"Carp\", \"Bass\", \"Red Snapper\", \"Salmon\"}\n",
        "print(len(mySecondSet))"
      ],
      "metadata": {
        "colab": {
          "base_uri": "https://localhost:8080/"
        },
        "id": "vVh-kbCLZzOd",
        "outputId": "b26f5d61-531c-4e70-95b3-33a78b8b47ae"
      },
      "execution_count": null,
      "outputs": [
        {
          "output_type": "stream",
          "name": "stdout",
          "text": [
            "4\n"
          ]
        }
      ]
    },
    {
      "cell_type": "code",
      "source": [
        "#Sets' data types\n",
        "\n",
        "myFirstSet={\"Carp\", \"Bass\", \"Red Snapper\", \"Salmon\"}\n",
        "mySecondSet={1,2,3,4,5,4,6,3,21}\n",
        "myThirdSet={True, False, False, True,False}\n",
        "\n",
        "myFourthSet={\"Carp\", True, 23, 40, \"Bass\", \"Salmon\"}\n",
        "\n",
        "print(myFirstSet)\n",
        "print(mySecondSet)\n",
        "print(myThirdSet)\n",
        "print(myFourthSet)"
      ],
      "metadata": {
        "colab": {
          "base_uri": "https://localhost:8080/"
        },
        "id": "01sJnNKcaC18",
        "outputId": "3c081efe-1ab9-4624-f8e8-6970fae9c56f"
      },
      "execution_count": null,
      "outputs": [
        {
          "output_type": "stream",
          "name": "stdout",
          "text": [
            "{'Bass', 'Salmon', 'Carp', 'Red Snapper'}\n",
            "{1, 2, 3, 4, 5, 6, 21}\n",
            "{False, True}\n",
            "{True, 'Salmon', 23, 40, 'Bass', 'Carp'}\n"
          ]
        }
      ]
    },
    {
      "cell_type": "code",
      "source": [
        "#Set's type\n",
        "myFirstSet={\"Carp\", \"Bass\", \"Red Snapper\", \"Salmon\"}\n",
        "mySecondSet={1,2,3,4,5,4,6,3,21}\n",
        "\n",
        "print(type(myFirstSet))\n",
        "print(type(mySecondSet))"
      ],
      "metadata": {
        "colab": {
          "base_uri": "https://localhost:8080/"
        },
        "id": "Q9EyFAFWaxMP",
        "outputId": "ce8212d7-3340-49e1-96c5-9055c1eccf73"
      },
      "execution_count": null,
      "outputs": [
        {
          "output_type": "stream",
          "name": "stdout",
          "text": [
            "<class 'set'>\n",
            "<class 'set'>\n"
          ]
        }
      ]
    },
    {
      "cell_type": "code",
      "source": [
        "#Using the constructor to create a set\n",
        "\n",
        "myFirstSet=set((\"Carp\", \"Bass\", \"Red Snapper\", \"Salmon\")) #double parenthesis\n",
        "\n",
        "print(type(myFirstSet))"
      ],
      "metadata": {
        "colab": {
          "base_uri": "https://localhost:8080/"
        },
        "id": "ZBFNcpP0bCfp",
        "outputId": "bb011a91-e5b0-4312-810b-e3b9efaed226"
      },
      "execution_count": null,
      "outputs": [
        {
          "output_type": "stream",
          "name": "stdout",
          "text": [
            "<class 'set'>\n"
          ]
        }
      ]
    },
    {
      "cell_type": "code",
      "source": [
        "#Access items of a set\n",
        "myFirstSet=set((\"Carp\", \"Bass\", \"Red Snapper\", \"Salmon\"))\n",
        "\n",
        "for i in myFirstSet:\n",
        "  print(i)\n"
      ],
      "metadata": {
        "colab": {
          "base_uri": "https://localhost:8080/"
        },
        "id": "7OwQ_cx0bWtQ",
        "outputId": "1cd44127-c8fd-4547-ea50-5d8f1998ce97"
      },
      "execution_count": null,
      "outputs": [
        {
          "output_type": "stream",
          "name": "stdout",
          "text": [
            "Bass\n",
            "Salmon\n",
            "Carp\n",
            "Red Snapper\n"
          ]
        }
      ]
    },
    {
      "cell_type": "code",
      "source": [
        "#Checking if item is present in a set\n",
        "\n",
        "myFirstSet=set((\"Carp\", \"Bass\", \"Red Snapper\", \"Salmon\"))\n",
        "\n",
        "print(\"Carp\" in myFirstSet)"
      ],
      "metadata": {
        "colab": {
          "base_uri": "https://localhost:8080/"
        },
        "id": "9h_JdheJbnWl",
        "outputId": "5de03bc5-810b-4235-c215-1428d0e290fa"
      },
      "execution_count": null,
      "outputs": [
        {
          "output_type": "stream",
          "name": "stdout",
          "text": [
            "True\n"
          ]
        }
      ]
    },
    {
      "cell_type": "code",
      "source": [
        "#Adding items in a set, you can not change the items\n",
        "\n",
        "myFirstSet=set((\"Carp\", \"Bass\", \"Red Snapper\"))\n",
        "myFirstSet.add(\"Salmon\")\n",
        "print(myFirstSet)"
      ],
      "metadata": {
        "colab": {
          "base_uri": "https://localhost:8080/"
        },
        "id": "PIl_tV42b1lw",
        "outputId": "ec295f90-2286-4eca-dae3-b8406e0d7097"
      },
      "execution_count": null,
      "outputs": [
        {
          "output_type": "stream",
          "name": "stdout",
          "text": [
            "{'Bass', 'Salmon', 'Carp', 'Red Snapper'}\n"
          ]
        }
      ]
    },
    {
      "cell_type": "code",
      "source": [
        "#Using update function\n",
        "myFirstSet=set((\"Carp\", \"Bass\"))\n",
        "mySecondSet=set((\"Red Snapper\", \"Salmon\"))\n",
        "\n",
        "myFirstSet.update(mySecondSet)\n",
        "\n",
        "print(myFirstSet)"
      ],
      "metadata": {
        "colab": {
          "base_uri": "https://localhost:8080/"
        },
        "id": "ueHCgxgycIZs",
        "outputId": "320cc121-dbf4-4a82-cced-9aa3fd97b6ef"
      },
      "execution_count": null,
      "outputs": [
        {
          "output_type": "stream",
          "name": "stdout",
          "text": [
            "{'Bass', 'Red Snapper', 'Carp', 'Salmon'}\n"
          ]
        }
      ]
    },
    {
      "cell_type": "code",
      "source": [
        "#Using update function\n",
        "myFirstSet=set((\"Carp\", \"Bass\"))\n",
        "mySecondList=list((\"Red Snapper\", \"Salmon\"))\n",
        "\n",
        "myFirstSet.update(mySecondList)\n",
        "\n",
        "print(myFirstSet)"
      ],
      "metadata": {
        "colab": {
          "base_uri": "https://localhost:8080/"
        },
        "id": "RHxfA-bzco7O",
        "outputId": "120210bc-70df-4c49-908c-3611d184f442"
      },
      "execution_count": null,
      "outputs": [
        {
          "output_type": "stream",
          "name": "stdout",
          "text": [
            "{'Bass', 'Salmon', 'Carp', 'Red Snapper'}\n"
          ]
        }
      ]
    },
    {
      "cell_type": "code",
      "source": [
        "#Remove items you can use remove or discard methods\n",
        "myFirstSet=set((\"Carp\", \"Bass\", \"Red Snapper\", \"Salmon\"))\n",
        "\n",
        "myFirstSet.remove(\"Carp\")\n",
        "myFirstSet.discard(\"Bass\") # if there is no item discard method will not error\n",
        "\n",
        "print(myFirstSet)"
      ],
      "metadata": {
        "colab": {
          "base_uri": "https://localhost:8080/"
        },
        "id": "siByvL9jdAP3",
        "outputId": "04d1166e-8992-42be-b846-636d36218f2c"
      },
      "execution_count": null,
      "outputs": [
        {
          "output_type": "stream",
          "name": "stdout",
          "text": [
            "{'Salmon', 'Red Snapper'}\n"
          ]
        }
      ]
    },
    {
      "cell_type": "code",
      "source": [
        "#Removing item with pop() method - you do not know which item gets removed\n",
        "\n",
        "myFirstSet=set((\"Carp\", \"Bass\", \"Red Snapper\", \"Salmon\"))\n",
        "\n",
        "myFirstSet.pop()\n",
        "\n",
        "print(myFirstSet)"
      ],
      "metadata": {
        "colab": {
          "base_uri": "https://localhost:8080/"
        },
        "id": "f24DGQRxdhwv",
        "outputId": "e44ad035-50f3-4f80-8c27-5dad5e59fe6c"
      },
      "execution_count": null,
      "outputs": [
        {
          "output_type": "stream",
          "name": "stdout",
          "text": [
            "{'Salmon', 'Carp', 'Red Snapper'}\n"
          ]
        }
      ]
    },
    {
      "cell_type": "code",
      "source": [
        "#Clear method makes the set empty\n",
        "myFirstSet=set((\"Carp\", \"Bass\", \"Red Snapper\", \"Salmon\"))\n",
        "\n",
        "myFirstSet.clear()\n",
        "\n",
        "print(myFirstSet)"
      ],
      "metadata": {
        "colab": {
          "base_uri": "https://localhost:8080/"
        },
        "id": "yoDoL6GYd8ru",
        "outputId": "f37c3a99-0d7d-49cd-9bd7-b17f2cac45c3"
      },
      "execution_count": null,
      "outputs": [
        {
          "output_type": "stream",
          "name": "stdout",
          "text": [
            "set()\n"
          ]
        }
      ]
    },
    {
      "cell_type": "code",
      "source": [
        "#del will delete the set completely\n",
        "\n",
        "myFirstSet=set((\"Carp\", \"Bass\", \"Red Snapper\", \"Salmon\"))\n",
        "\n",
        "del myFirstSet"
      ],
      "metadata": {
        "id": "yOsBYLkmeI-i"
      },
      "execution_count": null,
      "outputs": []
    },
    {
      "cell_type": "code",
      "source": [
        "#Join two sets\n",
        "\n",
        "myFirstSet=set((\"Red Snapper\", \"Salmon\"))\n",
        "mySecondSet=set((\"Carp\", \"Bass\"))\n",
        "\n",
        "myThirdSet = myFirstSet.union(mySecondSet) # union will exclude anyduplicates\n",
        "\n",
        "print(myThirdSet)"
      ],
      "metadata": {
        "colab": {
          "base_uri": "https://localhost:8080/"
        },
        "id": "_ZGA5yLTebn2",
        "outputId": "c6271f2f-daf7-41c8-890d-4e30ed232710"
      },
      "execution_count": null,
      "outputs": [
        {
          "output_type": "stream",
          "name": "stdout",
          "text": [
            "{'Bass', 'Salmon', 'Carp', 'Red Snapper'}\n"
          ]
        }
      ]
    },
    {
      "cell_type": "code",
      "source": [
        "#keep only duplicates - intersection_update method\n",
        "myFirstSet=set((\"Carp\", \"Bass\", \"Red Snapper\", \"Salmon\"))\n",
        "mySecondSet=set((\"Carp\", \"Bass\", \"Red Snapper\", \"Salmon\"))\n",
        "\n",
        "myFirstSet.intersection_update(mySecondSet)\n",
        "\n",
        "print(myFirstSet)"
      ],
      "metadata": {
        "colab": {
          "base_uri": "https://localhost:8080/"
        },
        "id": "WTQJAXoDfDAY",
        "outputId": "1e7332f9-52ed-45c9-e7d9-d1b92aa2c984"
      },
      "execution_count": null,
      "outputs": [
        {
          "output_type": "stream",
          "name": "stdout",
          "text": [
            "{'Bass', 'Red Snapper', 'Salmon', 'Carp'}\n"
          ]
        }
      ]
    },
    {
      "cell_type": "code",
      "source": [
        "#keep only duplicates - intersection method items that are present in both\n",
        "\n",
        "myFirstSet=set((\"Carp\", \"Red Snapper\"))\n",
        "mySecondSet=set((\"Carp\", \"Bass\", \"Red Snapper\", \"Salmon\"))\n",
        "\n",
        "myThirdSet=myFirstSet.intersection(mySecondSet)\n",
        "\n",
        "print(myThirdSet)"
      ],
      "metadata": {
        "colab": {
          "base_uri": "https://localhost:8080/"
        },
        "id": "Zk7dqs_CfULP",
        "outputId": "9c6f3cc6-8721-4f44-ae74-e80c35b5395e"
      },
      "execution_count": null,
      "outputs": [
        {
          "output_type": "stream",
          "name": "stdout",
          "text": [
            "{'Carp', 'Red Snapper'}\n"
          ]
        }
      ]
    },
    {
      "cell_type": "code",
      "source": [
        "#keep all but the duplicates - symmetric difference update\n",
        "\n",
        "myFirstSet=set((\"Carp\", \"Bass\", \"Red Snapper\", \"Salmon\"))\n",
        "mySecondSet=set((\"Red Snapper\", \"Salmon\"))\n",
        "\n",
        "myFirstSet.symmetric_difference_update(mySecondSet)\n",
        "\n",
        "print(myFirstSet)\n"
      ],
      "metadata": {
        "colab": {
          "base_uri": "https://localhost:8080/"
        },
        "id": "q0HLwdScf3Jb",
        "outputId": "6672870f-df0c-4b70-a576-e6a0c65e01df"
      },
      "execution_count": null,
      "outputs": [
        {
          "output_type": "stream",
          "name": "stdout",
          "text": [
            "{'Bass', 'Carp'}\n"
          ]
        }
      ]
    },
    {
      "cell_type": "code",
      "source": [
        "#keep all but the duplicates - symmetric_difference() method\n",
        "\n",
        "myFirstSet=set((\"Bass\", \"Red Snapper\", \"Salmon\"))\n",
        "mySecondSet=set((\"Carp\", \"Red Snapper\", \"Salmon\"))\n",
        "\n",
        "myThirdSet = myFirstSet.symmetric_difference(mySecondSet)\n",
        "\n",
        "print(myThirdSet)"
      ],
      "metadata": {
        "colab": {
          "base_uri": "https://localhost:8080/"
        },
        "id": "i7cHAn0ngWI6",
        "outputId": "811f3513-ba9d-4fdc-f129-47f30c980a18"
      },
      "execution_count": null,
      "outputs": [
        {
          "output_type": "stream",
          "name": "stdout",
          "text": [
            "{'Bass', 'Carp'}\n"
          ]
        }
      ]
    },
    {
      "cell_type": "code",
      "source": [
        "#True and 1 are the same in sets\n",
        "\n",
        "myFirstSet=set((\"Carp\", \"Bass\", \"Red Snapper\", 1))\n",
        "mySecondSet=set((True, \"Red Snapper\", \"Salmon\"))\n",
        "\n",
        "myThirdSet=myFirstSet.symmetric_difference(mySecondSet)\n",
        "\n",
        "print(myThirdSet)\n"
      ],
      "metadata": {
        "colab": {
          "base_uri": "https://localhost:8080/"
        },
        "id": "0Xg2jBUtg1l5",
        "outputId": "34811f40-11e3-4e26-ead9-eaf72cc71a5a"
      },
      "execution_count": null,
      "outputs": [
        {
          "output_type": "stream",
          "name": "stdout",
          "text": [
            "{'Bass', 'Salmon', 'Carp'}\n"
          ]
        }
      ]
    },
    {
      "cell_type": "markdown",
      "source": [
        "Summary for all set methods can be found in here https://www.w3schools.com/python/python_sets_methods.asp"
      ],
      "metadata": {
        "id": "qdIy2pYRhSdq"
      }
    },
    {
      "cell_type": "markdown",
      "source": [
        "# 4. Operators\n",
        "\n",
        "\n",
        "---\n",
        "\n",
        "The operators are used to perform some operations on two operands."
      ],
      "metadata": {
        "id": "RxTdq2qZb8LP"
      }
    },
    {
      "cell_type": "markdown",
      "source": [
        "**Assignment operators**\n",
        "\n",
        "* arithmetic: =, +=, -=, *=, /=, %=, //=\t\t\n",
        "* bitwise: **=, &=, |=, ^=, <<=\t\n"
      ],
      "metadata": {
        "id": "QvjMM-n7jVuT"
      }
    },
    {
      "cell_type": "code",
      "source": [
        "# Assignment operators\n",
        "\n",
        "myFirstVariable = 5\n",
        "mySecondVariable = 6\n",
        "\n",
        "mySum = myFirstVariable + mySecondVariable\n",
        "\n",
        "print(mySum)\n",
        "print(myFirstVariable+mySecondVariable)\n"
      ],
      "metadata": {
        "colab": {
          "base_uri": "https://localhost:8080/"
        },
        "id": "43hdLurcjIu_",
        "outputId": "76068842-8f23-4e26-d3e7-60e2f97d1107"
      },
      "execution_count": null,
      "outputs": [
        {
          "output_type": "stream",
          "name": "stdout",
          "text": [
            "11\n",
            "11\n"
          ]
        }
      ]
    },
    {
      "cell_type": "code",
      "source": [
        "# += assignment operator\n",
        "\n",
        "myFirstVariable = 5\n",
        "\n",
        "myFirstVariable += 30 # myFirstVariable = myFirstVariable + 30\n",
        "\n",
        "print(myFirstVariable)\n"
      ],
      "metadata": {
        "colab": {
          "base_uri": "https://localhost:8080/"
        },
        "outputId": "859ef25a-5556-4034-e49d-e5ec3fc7b044",
        "id": "VXWzd2NA9WMG"
      },
      "execution_count": null,
      "outputs": [
        {
          "output_type": "stream",
          "name": "stdout",
          "text": [
            "35\n"
          ]
        }
      ]
    },
    {
      "cell_type": "code",
      "source": [
        "# *= assignment operator\n",
        "\n",
        "myFirstVariable = 3\n",
        "\n",
        "myFirstVariable*=3\n",
        "\n",
        "print(myFirstVariable)"
      ],
      "metadata": {
        "colab": {
          "base_uri": "https://localhost:8080/"
        },
        "id": "5j-wYne__R2L",
        "outputId": "9db73674-8757-498c-94d5-c283f17c4376"
      },
      "execution_count": null,
      "outputs": [
        {
          "output_type": "stream",
          "name": "stdout",
          "text": [
            "9\n"
          ]
        }
      ]
    },
    {
      "cell_type": "code",
      "source": [
        "# //= assignment operator (divident/divisor = quotient returns a quotient)\n",
        "\n",
        "myFirstVariable = 6\n",
        "\n",
        "myFirstVariable//=4 # myFirstVariable = myFirstVariable // 4\n",
        "\n",
        "print(myFirstVariable)"
      ],
      "metadata": {
        "colab": {
          "base_uri": "https://localhost:8080/"
        },
        "outputId": "d1399150-16e4-4f0c-f819-091b61ab4fb0",
        "id": "58WqiyVJ9f_D"
      },
      "execution_count": null,
      "outputs": [
        {
          "output_type": "stream",
          "name": "stdout",
          "text": [
            "1\n"
          ]
        }
      ]
    },
    {
      "cell_type": "code",
      "source": [
        "# %= assignment operator (divident/divisor = quotient returns a remainder)\n",
        "\n",
        "myFirstVariable = 6\n",
        "\n",
        "myFirstVariable %= 4 # myFirstVariable = myFirstVariable % 4\n",
        "\n",
        "print(myFirstVariable) "
      ],
      "metadata": {
        "colab": {
          "base_uri": "https://localhost:8080/"
        },
        "id": "T4sKp7XW_Css",
        "outputId": "671ff69a-7372-4f55-9994-b8e60519427f"
      },
      "execution_count": null,
      "outputs": [
        {
          "output_type": "stream",
          "name": "stdout",
          "text": [
            "2\n"
          ]
        }
      ]
    },
    {
      "cell_type": "markdown",
      "source": [
        "**Arithmetic operators**\n",
        "* Addition:\tx + y\t\n",
        "* Subtraction:\tx - y\t\n",
        "*\tMultiplication:\tx * y\t\n",
        "* Division:\tx / y\t\n",
        "* Modulus:\tx % y\t\n",
        "* Exponentiation:\tx ** y\t\n",
        "* Floor division:\tx // y"
      ],
      "metadata": {
        "id": "6WqQR3Fvi0fB"
      }
    },
    {
      "cell_type": "markdown",
      "source": [
        "**Bitwise operators**\n",
        "\n",
        "You can use bitwise operators to perform Boolean logic on individual bits. That’s very similar to using logical operators such as and, or, and not.\n",
        "\n",
        "You can evaluate Boolean expressions with bitwise operators instead of logical operators.\n",
        "\n",
        "* &(AND) \"This operator compares each bit and sets it to 1 if both are 1, otherwise it is set to 0.\"\n",
        "\n",
        "* | (OR) \"This operator compares each bit and sets it to 1 if one or both is 1, otherwise it is set to 0.\"\n",
        "\n",
        "* ^(XOR) \"This operator compares each bit and sets it to 1 if only one is 1, otherwise (if both are 1 or both are 0) it is set to 0.\"\n",
        "\n",
        "* ~(NOT) \"This operator inverts each bit (0 becomes 1 and 1 becomes 0).\" \n",
        "\n",
        "* << (left shift) \"This operator inserts a number of 0's from the right \n",
        "and let the same amount of leftmost bits fall off.\"\n",
        "\n",
        "* \\>> (right shift) \"This operator moves each bit the specified number of times to the right. Empty holes at the left are filled with 0's.\"\n",
        "\n",
        "\n",
        "---\n",
        "\n",
        "Decimal numbers and their binary values:\n",
        "\n",
        " 0 = 0000000000000000\n",
        "\n",
        " 1 = 0000000000000001\n",
        " \n",
        " 2 = 0000000000000010\n",
        " \n",
        " 3 = 0000000000000011\n",
        " \n",
        " 4 = 0000000000000100\n",
        " \n",
        " 5 = 0000000000000101\n",
        " \n",
        " 6 = 0000000000000110\n",
        " \n",
        " 7 = 0000000000000111\n",
        " \n",
        " 8 = 0000000000001000\n",
        " \n",
        " 9 = 0000000000001001\n",
        "\n",
        "10 = 0000000000001010\n",
        "\n",
        "11 = 0000000000001011\n",
        "\n",
        "12 = 0000000000001100"
      ],
      "metadata": {
        "id": "dSv1JWhXWWWj"
      }
    },
    {
      "cell_type": "code",
      "source": [
        "#Bitwise AND (&) operator - logical conjuction\n",
        "# 6 = 0000000000000110\n",
        "# 3 = 0000000000000011\n",
        "#----------------------\n",
        "# 2 = 0000000000000010\n",
        "\n",
        "print(6&3)"
      ],
      "metadata": {
        "colab": {
          "base_uri": "https://localhost:8080/"
        },
        "id": "IUpUlclzkhLO",
        "outputId": "c2d4b74f-5bc8-4fd7-da31-3b673bac9476"
      },
      "execution_count": null,
      "outputs": [
        {
          "output_type": "stream",
          "name": "stdout",
          "text": [
            "2\n"
          ]
        }
      ]
    },
    {
      "cell_type": "code",
      "source": [
        "#Bitwise OR (|) operator - logical conjuction\n",
        "# 6 = 0000000000000110\n",
        "# 3 = 0000000000000011\n",
        "#----------------------\n",
        "# 2 = 0000000000000111\n",
        "\n",
        "print(6|3)"
      ],
      "metadata": {
        "colab": {
          "base_uri": "https://localhost:8080/"
        },
        "outputId": "e1c5d1ee-eddd-4868-a70b-9e092fc505e1",
        "id": "picPCJwPFNUW"
      },
      "execution_count": null,
      "outputs": [
        {
          "output_type": "stream",
          "name": "stdout",
          "text": [
            "7\n"
          ]
        }
      ]
    },
    {
      "cell_type": "code",
      "source": [
        "#Bitwise NOT (~) operator - logical negation\n",
        "#  3 = 0000000000000011\n",
        "#--------------------------\n",
        "# -4 = 1111111111111100\n",
        "\n",
        "print(~3)"
      ],
      "metadata": {
        "colab": {
          "base_uri": "https://localhost:8080/"
        },
        "outputId": "c6f94e6f-061c-4bab-e486-0f405714d349",
        "id": "FjBa65fHlc90"
      },
      "execution_count": null,
      "outputs": [
        {
          "output_type": "stream",
          "name": "stdout",
          "text": [
            "-4\n"
          ]
        }
      ]
    },
    {
      "cell_type": "code",
      "source": [
        "#Bitwise XOR (^) operator - \"exclusive or\"\n",
        "# 6 = 0000000000000110\n",
        "# 3 = 0000000000000011\n",
        "#--------------------------\n",
        "# 5 = 0000000000000101\n",
        "\n",
        "print(6^3)"
      ],
      "metadata": {
        "colab": {
          "base_uri": "https://localhost:8080/"
        },
        "outputId": "d2ef22bd-67e4-4838-cc68-89ade9b60347",
        "id": "ZsOpTWkrkA7q"
      },
      "execution_count": null,
      "outputs": [
        {
          "output_type": "stream",
          "name": "stdout",
          "text": [
            "5\n"
          ]
        }
      ]
    },
    {
      "cell_type": "code",
      "source": [
        "#Bitwise << operator - \"inserts zeroes to the right side\"\n",
        "# 3 = 00000000000000011\n",
        "#-------------------------\n",
        "# 12 = 0000000000001100\n",
        "\n",
        "print(3<<2)"
      ],
      "metadata": {
        "colab": {
          "base_uri": "https://localhost:8080/"
        },
        "id": "Ou_V-jQmUTNS",
        "outputId": "95dd90ec-44ca-455b-ea03-11dff48c63e4"
      },
      "execution_count": null,
      "outputs": [
        {
          "output_type": "stream",
          "name": "stdout",
          "text": [
            "12\n"
          ]
        }
      ]
    },
    {
      "cell_type": "code",
      "source": [
        "#Bitwise >> operator - \"inserts zeroes to the left side\"\n",
        "# 8 = 0000000000001000\n",
        "#------------------------\n",
        "# 2 = 0000000000000010\n",
        "\n",
        "print(8>>2)"
      ],
      "metadata": {
        "colab": {
          "base_uri": "https://localhost:8080/"
        },
        "id": "ULHxaUvxVfOO",
        "outputId": "c2b9ec5d-c5e8-463d-9b5f-3931a4f18925"
      },
      "execution_count": null,
      "outputs": [
        {
          "output_type": "stream",
          "name": "stdout",
          "text": [
            "2\n"
          ]
        }
      ]
    },
    {
      "cell_type": "markdown",
      "source": [
        "**Comparison operators**\n",
        "\n",
        "* Equal:\tx == y\t\n",
        "* Not equal:\tx != y\t\n",
        "* Greater than:\tx > y\t\n",
        "* Less than:\tx < y\t\n",
        "* Greater than or equal to:\tx >= y\t\n",
        "* Less than or equal to:\tx <= y"
      ],
      "metadata": {
        "id": "uagFWAzYlKYW"
      }
    },
    {
      "cell_type": "code",
      "source": [
        "# Equal\n",
        "myFirstVariable = 10.0\n",
        "mySecondVariable = 10.0\n",
        "if myFirstVariable==mySecondVariable:\n",
        "  print(\"True\")"
      ],
      "metadata": {
        "colab": {
          "base_uri": "https://localhost:8080/"
        },
        "id": "_kQ7xO_WQ6Wo",
        "outputId": "89361a80-7185-4e5d-f4ed-90f24212b430"
      },
      "execution_count": null,
      "outputs": [
        {
          "output_type": "stream",
          "name": "stdout",
          "text": [
            "True\n"
          ]
        }
      ]
    },
    {
      "cell_type": "code",
      "source": [
        "# Not equal\n",
        "myFirstVariable = 10.0\n",
        "mySecondVariable = 10.0\n",
        "if myFirstVariable!=mySecondVariable:\n",
        "  print(\"True\")\n",
        "elif myFirstVariable==mySecondVariable:\n",
        "  print(\"False\")"
      ],
      "metadata": {
        "colab": {
          "base_uri": "https://localhost:8080/"
        },
        "outputId": "0e889983-96c1-464d-d700-f8104cf6fd67",
        "id": "npZBbm8BRpr8"
      },
      "execution_count": null,
      "outputs": [
        {
          "output_type": "stream",
          "name": "stdout",
          "text": [
            "False\n"
          ]
        }
      ]
    },
    {
      "cell_type": "code",
      "source": [
        "# Grater than\n",
        "myFirstVariable = 10.0\n",
        "mySecondVariable = 10.0\n",
        "if myFirstVariable>mySecondVariable:\n",
        "  print(\"True\")\n",
        "else:\n",
        "  print(\"False\")"
      ],
      "metadata": {
        "colab": {
          "base_uri": "https://localhost:8080/"
        },
        "outputId": "4ea621b1-db56-42c5-f205-9529b7cb12d9",
        "id": "lX72d5SJSVOK"
      },
      "execution_count": null,
      "outputs": [
        {
          "output_type": "stream",
          "name": "stdout",
          "text": [
            "False\n"
          ]
        }
      ]
    },
    {
      "cell_type": "code",
      "source": [
        "# Less than\n",
        "myFirstVariable = 10.0\n",
        "mySecondVariable = 10.0\n",
        "if myFirstVariable>mySecondVariable:\n",
        "  print(\"True\")\n",
        "else:\n",
        "  print(\"False\")"
      ],
      "metadata": {
        "colab": {
          "base_uri": "https://localhost:8080/"
        },
        "outputId": "5a0cc7cf-af49-4a50-b04b-90e86ef50a31",
        "id": "x8Up6YBhSvnr"
      },
      "execution_count": null,
      "outputs": [
        {
          "output_type": "stream",
          "name": "stdout",
          "text": [
            "False\n"
          ]
        }
      ]
    },
    {
      "cell_type": "code",
      "source": [
        "# Greater than or equal to\n",
        "myFirstVariable = 10.0\n",
        "mySecondVariable = 10.0\n",
        "if myFirstVariable>=mySecondVariable:\n",
        "  print(\"True\")\n",
        "else:\n",
        "  print(\"False\")"
      ],
      "metadata": {
        "colab": {
          "base_uri": "https://localhost:8080/"
        },
        "id": "VgG7LVQFSzTV",
        "outputId": "1b9decac-0940-4e81-8d39-416dc6bd37b3"
      },
      "execution_count": null,
      "outputs": [
        {
          "output_type": "stream",
          "name": "stdout",
          "text": [
            "True\n"
          ]
        }
      ]
    },
    {
      "cell_type": "code",
      "source": [
        "# Less than or equal to\n",
        "myFirstVariable = 10.0\n",
        "mySecondVariable = 10.0\n",
        "if myFirstVariable<=mySecondVariable:\n",
        "  print(\"True\")\n",
        "else:\n",
        "  print(\"False\")"
      ],
      "metadata": {
        "colab": {
          "base_uri": "https://localhost:8080/"
        },
        "id": "eSQ4W84gTDFO",
        "outputId": "ec4b6a02-bb41-40df-bbed-e8a27eb19abe"
      },
      "execution_count": null,
      "outputs": [
        {
          "output_type": "stream",
          "name": "stdout",
          "text": [
            "True\n"
          ]
        }
      ]
    },
    {
      "cell_type": "code",
      "source": [
        "# Short hand 1\n",
        "myFirstVariable = 10.0\n",
        "mySecondVariable = 10.0\n",
        "if myFirstVariable<=mySecondVariable:print(\"True\")\n",
        "else:print(\"False\")"
      ],
      "metadata": {
        "colab": {
          "base_uri": "https://localhost:8080/"
        },
        "outputId": "1bc70aae-4150-4530-bf7d-e1db6e8c3481",
        "id": "QvYoGjp7TTsn"
      },
      "execution_count": null,
      "outputs": [
        {
          "output_type": "stream",
          "name": "stdout",
          "text": [
            "True\n"
          ]
        }
      ]
    },
    {
      "cell_type": "code",
      "source": [
        "# Short hand 2\n",
        "myFirstVariable = 10.0\n",
        "mySecondVariable = 10.0\n",
        "print(\"True\")if myFirstVariable<=mySecondVariable else print(\"False\")"
      ],
      "metadata": {
        "colab": {
          "base_uri": "https://localhost:8080/"
        },
        "outputId": "2908b000-f916-4fdb-8225-21a46baa93d4",
        "id": "utE1Y3HzTk_I"
      },
      "execution_count": null,
      "outputs": [
        {
          "output_type": "stream",
          "name": "stdout",
          "text": [
            "True\n"
          ]
        }
      ]
    },
    {
      "cell_type": "markdown",
      "source": [
        "**Identity operators**\n",
        "\n",
        "\n",
        "---\n",
        "\n",
        "\n",
        "Identity operators compare the objects, they do not compare the values stored in the objects but the memory locations.\n",
        "\n",
        "\n",
        "\n",
        "---\n",
        "\n",
        "is \n",
        "\n",
        "is not"
      ],
      "metadata": {
        "id": "xh2UcC1mBS8z"
      }
    },
    {
      "cell_type": "code",
      "source": [
        "# is identity operator\n",
        "\n",
        "myFirstVariable = [1,2,3,4,5]\n",
        "mySecondVariable = [1,2,3,4,5]\n",
        "\n",
        "myThirdVariable = myFirstVariable\n",
        "\n",
        "print(myFirstVariable is myThirdVariable) # should return true, the same object\n",
        "print(myFirstVariable is mySecondVariable)\n",
        "print(myFirstVariable is not mySecondVariable)\n",
        "\n",
        "print(myFirstVariable==mySecondVariable) # True, because myFirstVariable is equal to mySecondVariable\n",
        "\n",
        "myThirdVariable.append(6)\n",
        "print(myFirstVariable)\n"
      ],
      "metadata": {
        "colab": {
          "base_uri": "https://localhost:8080/"
        },
        "id": "zY2EO7uXBohH",
        "outputId": "57ffaf9e-2f99-4208-8e98-1e65ef7a2d4e"
      },
      "execution_count": null,
      "outputs": [
        {
          "output_type": "stream",
          "name": "stdout",
          "text": [
            "True\n",
            "False\n",
            "True\n",
            "True\n",
            "[1, 2, 3, 4, 5, 6]\n"
          ]
        }
      ]
    },
    {
      "cell_type": "markdown",
      "source": [
        "**Logical operators**\n",
        "\n",
        "* and, \tor, not"
      ],
      "metadata": {
        "id": "FkVIp8LinL5v"
      }
    },
    {
      "cell_type": "code",
      "source": [
        "# Logical and operator\n",
        "myFirstVariable = 10.0\n",
        "mySecondVariable = 10.0\n",
        "myThirdVariable = 20.0\n",
        "if myFirstVariable<myThirdVariable and myFirstVariable==mySecondVariable:\n",
        "  print(\"Both conditions are True\")\n",
        "else:\n",
        "  print(\"False\")"
      ],
      "metadata": {
        "colab": {
          "base_uri": "https://localhost:8080/"
        },
        "outputId": "0d372aa9-edbc-4b9f-de89-ec112d717324",
        "id": "MX4a36a_URRQ"
      },
      "execution_count": null,
      "outputs": [
        {
          "output_type": "stream",
          "name": "stdout",
          "text": [
            "Both conditions are True\n"
          ]
        }
      ]
    },
    {
      "cell_type": "code",
      "source": [
        "# Logical or operator\n",
        "myFirstVariable = 10.0\n",
        "mySecondVariable = 10.0\n",
        "myThirdVariable = 20.0\n",
        "if myFirstVariable<myThirdVariable or myFirstVariable<mySecondVariable:\n",
        "  print(\"At least one of the conditions is True\")\n",
        "else:\n",
        "  print(\"False\")"
      ],
      "metadata": {
        "colab": {
          "base_uri": "https://localhost:8080/"
        },
        "outputId": "c152ee00-bdc5-4632-aff3-c9518d8c012a",
        "id": "UCX_07cjUpyO"
      },
      "execution_count": null,
      "outputs": [
        {
          "output_type": "stream",
          "name": "stdout",
          "text": [
            "At least one of the conditions is True\n"
          ]
        }
      ]
    },
    {
      "cell_type": "code",
      "source": [
        "# Logical not operator\n",
        "myFirstVariable = 10.0\n",
        "mySecondVariable = 10.0\n",
        "myThirdVariable = 20.0\n",
        "if not myFirstVariable>myThirdVariable:\n",
        "  print(\"myFirstVariable is not greater than myThirdVariable\")\n",
        "else:\n",
        "  print(\"False\")"
      ],
      "metadata": {
        "colab": {
          "base_uri": "https://localhost:8080/"
        },
        "outputId": "125f680c-04a6-45d2-8856-5462c4257895",
        "id": "w5ZWafmIUvlW"
      },
      "execution_count": null,
      "outputs": [
        {
          "output_type": "stream",
          "name": "stdout",
          "text": [
            "myFirstVariable is not greater than myThirdVariable\n"
          ]
        }
      ]
    },
    {
      "cell_type": "markdown",
      "source": [
        "**Operator precedence**\n",
        "\n",
        "* Parentheses: ()\t\n",
        "* Exponentiation: **\t\n",
        "* Unary: +x,  -x,  ~x\t\n",
        "* Arithmetic: *,  /,  //,  %, +, -\n",
        "* Bitwise: <<, >>, AND, ^, |\t\n",
        "* Comparison: ==,  !=,  >,  >=,  <,  <=  \n",
        "* Identity: is,  is not,  in,  not in"
      ],
      "metadata": {
        "id": "nlZDopcUp9wr"
      }
    },
    {
      "cell_type": "markdown",
      "source": [
        "More details on operators can be found at https://www.w3schools.com/python/default.asp"
      ],
      "metadata": {
        "id": "cQfnKrvou5LP"
      }
    },
    {
      "cell_type": "markdown",
      "source": [
        "# 5. Control flows\n",
        "\n",
        "* Sequential\n",
        "* Decision\n",
        "* Repetition\n",
        "* Functions"
      ],
      "metadata": {
        "id": "ufdAAkIbhk9M"
      }
    },
    {
      "cell_type": "code",
      "source": [
        "#The sequential control flow\n",
        "myFirstVariable = 20\n",
        "mySecondVariable = 15\n",
        "\n",
        "Subtraction = myFirstVariable - mySecondVariable\n",
        "\n",
        "print(Subtraction)"
      ],
      "metadata": {
        "colab": {
          "base_uri": "https://localhost:8080/"
        },
        "id": "5jONu7HDWlJb",
        "outputId": "423acca3-c3e2-4697-94b6-524e842bf532"
      },
      "execution_count": null,
      "outputs": [
        {
          "output_type": "stream",
          "name": "stdout",
          "text": [
            "5\n"
          ]
        }
      ]
    },
    {
      "cell_type": "code",
      "source": [
        "#The decision control statements\n",
        "\n",
        "# if\n",
        "# if-else\n",
        "# nested if\n",
        "# if-elif-else"
      ],
      "metadata": {
        "id": "jjOHDceqejZh"
      },
      "execution_count": null,
      "outputs": []
    },
    {
      "cell_type": "code",
      "source": [
        "#The if statement\n",
        "myFirstVariable = 10\n",
        "if (myFirstVariable <=10): print(\"True\")"
      ],
      "metadata": {
        "colab": {
          "base_uri": "https://localhost:8080/"
        },
        "id": "oRWucK3we3g6",
        "outputId": "681c0cad-1dd4-473a-a265-db853ddee7f6"
      },
      "execution_count": null,
      "outputs": [
        {
          "output_type": "stream",
          "name": "stdout",
          "text": [
            "True\n"
          ]
        }
      ]
    },
    {
      "cell_type": "code",
      "source": [
        "#The if statement\n",
        "myFirstVariable = 20\n",
        "if (myFirstVariable%2==0): print(\"myFirstVariable is an even number\")"
      ],
      "metadata": {
        "colab": {
          "base_uri": "https://localhost:8080/"
        },
        "id": "arypVhlrfb87",
        "outputId": "edc5e2bd-4b8a-4508-d35a-80ccfadca677"
      },
      "execution_count": null,
      "outputs": [
        {
          "output_type": "stream",
          "name": "stdout",
          "text": [
            "myFirstVariable is an even number\n"
          ]
        }
      ]
    },
    {
      "cell_type": "code",
      "source": [
        "#The if-else statement\n",
        "myFirstVariable = 10\n",
        "if (myFirstVariable == 5): print(\"The value is 5\")\n",
        "else: print(\"The vlue is 10\")"
      ],
      "metadata": {
        "colab": {
          "base_uri": "https://localhost:8080/"
        },
        "id": "EeXiXiMcfMkz",
        "outputId": "1101640e-3a08-4ee3-a9f4-440f39aed0d3"
      },
      "execution_count": null,
      "outputs": [
        {
          "output_type": "stream",
          "name": "stdout",
          "text": [
            "The vlue is 10\n"
          ]
        }
      ]
    },
    {
      "cell_type": "code",
      "source": [
        "#The if-else statement - one line statements\n",
        "myFirstVariable = 11\n",
        "if (myFirstVariable % 2 == 0): print(\"My variable is even number\")\n",
        "else: print(\"My variable is an odd number\")"
      ],
      "metadata": {
        "colab": {
          "base_uri": "https://localhost:8080/"
        },
        "id": "IP_hJ45UgJeX",
        "outputId": "3df170f8-3c4c-42ac-b8df-0bd186c4bd05"
      },
      "execution_count": null,
      "outputs": [
        {
          "output_type": "stream",
          "name": "stdout",
          "text": [
            "My variable is an odd number\n"
          ]
        }
      ]
    },
    {
      "cell_type": "code",
      "source": [
        "#The nested if statements\n",
        "myFistVaraiable = 10\n",
        "mySecondVariable = 20\n",
        "myThirdVariable =30\n",
        "\n",
        "if (myFirstVariable > mySecondVariable):\n",
        "\n",
        "    if (myFirstVariable > myThirdVariable):\n",
        "      print(\"The value of myFirstVariable is too big\")\n",
        "    else:\n",
        "      print(\"My second variable is too big\")\n",
        "\n",
        "elif (mySecondVariable > myThirdVariable):\n",
        "  print(\"My second variable is too big\")\n",
        "\n",
        "else:\n",
        "  print(\"My first variable is too small\")"
      ],
      "metadata": {
        "colab": {
          "base_uri": "https://localhost:8080/"
        },
        "id": "J0oBb9LZhdIJ",
        "outputId": "ad01d2c5-c684-4493-e594-4cf9a7e2fb39"
      },
      "execution_count": null,
      "outputs": [
        {
          "output_type": "stream",
          "name": "stdout",
          "text": [
            "My first variable is too small\n"
          ]
        }
      ]
    },
    {
      "cell_type": "code",
      "source": [
        "#The if-elif-else statement\n",
        "myFirstVariable = 10\n",
        "mySecondVariable = 20\n",
        "\n",
        "if (myFirstVariable==mySecondVariable):\n",
        "  print(\"Both variables are equal\")\n",
        "elif (myFirstVariable > mySecondVariable):\n",
        "  print(\"The first variable is greater then the second one\")\n",
        "else:\n",
        "  print(\"My first variable is smaller than my second one\")"
      ],
      "metadata": {
        "colab": {
          "base_uri": "https://localhost:8080/"
        },
        "id": "lAbgucsvi70W",
        "outputId": "5def016f-05f7-4400-f22e-3384126c1623"
      },
      "execution_count": null,
      "outputs": [
        {
          "output_type": "stream",
          "name": "stdout",
          "text": [
            "My first variable is smaller than my second one\n"
          ]
        }
      ]
    },
    {
      "cell_type": "code",
      "source": [
        "#The repetition control statements\n",
        "# for loop\n",
        "# while loop"
      ],
      "metadata": {
        "id": "GG5MLHQrkCNn"
      },
      "execution_count": null,
      "outputs": []
    },
    {
      "cell_type": "code",
      "source": [
        "#The \"for\" loop\n",
        "myFirsrtList = [1,2,3,4,5]\n",
        "\n",
        "for i in myFirstList:\n",
        "  print(\"i \" + str(i))"
      ],
      "metadata": {
        "colab": {
          "base_uri": "https://localhost:8080/"
        },
        "id": "tWpwraWylN5H",
        "outputId": "1592520a-b501-4ae9-8cf5-78215f1a7cc4"
      },
      "execution_count": null,
      "outputs": [
        {
          "output_type": "stream",
          "name": "stdout",
          "text": [
            "i 1\n",
            "i 2\n",
            "i 3\n",
            "i 4\n",
            "i 5\n"
          ]
        }
      ]
    },
    {
      "cell_type": "code",
      "source": [
        "#The \"for\" loop statement\n",
        "\n",
        "myFirstList = [1,2,3,4,5]\n",
        "\n",
        "for i in range(len(myFirstList)):\n",
        "  print(myFirstList[i], end = \"\")\n",
        "\n",
        "  "
      ],
      "metadata": {
        "colab": {
          "base_uri": "https://localhost:8080/"
        },
        "id": "vWqvbDWAllpR",
        "outputId": "fbe8ac8f-4d59-4d50-8f1c-c3746463ebfc"
      },
      "execution_count": null,
      "outputs": [
        {
          "output_type": "stream",
          "name": "stdout",
          "text": [
            "12345"
          ]
        }
      ]
    },
    {
      "cell_type": "markdown",
      "source": [
        "While \n",
        "\n",
        "\n",
        "---\n",
        "\n"
      ],
      "metadata": {
        "id": "ilRCeQflNdkk"
      }
    },
    {
      "cell_type": "code",
      "source": [
        "# The \"while\" loop statement\n",
        "\n",
        "myFirstVariable = 5\n",
        "i = 0\n",
        "\n",
        "while i < myFirstVariable:\n",
        "  print(i, end=\"\")\n",
        "  i+=1 # i = i +1"
      ],
      "metadata": {
        "colab": {
          "base_uri": "https://localhost:8080/"
        },
        "id": "iONeLn_OmUML",
        "outputId": "632621d7-622d-4f33-8b54-b507a690dd55"
      },
      "execution_count": null,
      "outputs": [
        {
          "output_type": "stream",
          "name": "stdout",
          "text": [
            "01234"
          ]
        }
      ]
    },
    {
      "cell_type": "code",
      "source": [
        "#The \"while\" loop statement\n",
        "myFirstVariable = 10\n",
        "i = 0\n",
        "\n",
        "while i<=myFirstVariable:\n",
        "  i+=1\n",
        "  print(i, end=\"\")"
      ],
      "metadata": {
        "colab": {
          "base_uri": "https://localhost:8080/"
        },
        "id": "O6w9WQ6Km_Jv",
        "outputId": "51d6eca2-4307-4054-f2c6-3618ca352c2f"
      },
      "execution_count": null,
      "outputs": [
        {
          "output_type": "stream",
          "name": "stdout",
          "text": [
            "1234567891011"
          ]
        }
      ]
    },
    {
      "cell_type": "markdown",
      "source": [
        "The break and continue statements"
      ],
      "metadata": {
        "id": "bM6lXGQ0nu98"
      }
    },
    {
      "cell_type": "code",
      "source": [
        "#The break statement\n",
        "\n",
        "i = 0\n",
        "while i < 5:\n",
        "  print(i)\n",
        "  if i ==4: \n",
        "    break     #stops the loop even with the while condition is being true\n",
        "  i+=1"
      ],
      "metadata": {
        "colab": {
          "base_uri": "https://localhost:8080/"
        },
        "id": "KegP_whenyWD",
        "outputId": "e3882358-7acf-4d4b-9466-f4b6976a9e3c"
      },
      "execution_count": null,
      "outputs": [
        {
          "output_type": "stream",
          "name": "stdout",
          "text": [
            "0\n",
            "1\n",
            "2\n",
            "3\n",
            "4\n"
          ]
        }
      ]
    },
    {
      "cell_type": "code",
      "source": [
        "#The while continue statement\n",
        "\n",
        "i = 0\n",
        "while i < 5:\n",
        "  i+=1\n",
        "  if i==4:\n",
        "    continue\n",
        "  print(i)"
      ],
      "metadata": {
        "colab": {
          "base_uri": "https://localhost:8080/"
        },
        "id": "GL4LSwifoWp_",
        "outputId": "e4548a31-5d53-4359-b49f-743dfb55b310"
      },
      "execution_count": null,
      "outputs": [
        {
          "output_type": "stream",
          "name": "stdout",
          "text": [
            "1\n",
            "2\n",
            "3\n",
            "5\n"
          ]
        }
      ]
    },
    {
      "cell_type": "code",
      "source": [
        "#The else statement\n",
        "\n",
        "i = 0\n",
        "\n",
        "while i < 5:\n",
        "  print(i)\n",
        "  i+=1\n",
        "else:\n",
        "  print(\"i is not less than 5 anymore\")\n"
      ],
      "metadata": {
        "colab": {
          "base_uri": "https://localhost:8080/"
        },
        "id": "6kiTek88oo5y",
        "outputId": "3a08c3e8-15b9-4a60-e614-958d3e956576"
      },
      "execution_count": null,
      "outputs": [
        {
          "output_type": "stream",
          "name": "stdout",
          "text": [
            "0\n",
            "1\n",
            "2\n",
            "3\n",
            "4\n",
            "i is not less than 5 anymore\n"
          ]
        }
      ]
    },
    {
      "cell_type": "code",
      "source": [
        "# Functions\n",
        "\n",
        "def myFirstFunction():\n",
        "  print(\"Hello World!\")\n",
        "\n",
        "myFirstFunction()"
      ],
      "metadata": {
        "colab": {
          "base_uri": "https://localhost:8080/"
        },
        "id": "CmxKjXaipd6l",
        "outputId": "13600836-b854-4ac9-a241-5d9a5e487864"
      },
      "execution_count": null,
      "outputs": [
        {
          "output_type": "stream",
          "name": "stdout",
          "text": [
            "Hello World!\n"
          ]
        }
      ]
    },
    {
      "cell_type": "code",
      "source": [
        "# Functions\n",
        "\n",
        "def mySecondFunction(PersonsName):\n",
        "  print(PersonsName)\n",
        "\n",
        "mySecondFunction(\"Oleg\")\n",
        "mySecondFunction(\"Jason\")"
      ],
      "metadata": {
        "colab": {
          "base_uri": "https://localhost:8080/"
        },
        "id": "boytjDE8pq3n",
        "outputId": "a162ac19-70c1-4984-fd7c-d418404c7d90"
      },
      "execution_count": null,
      "outputs": [
        {
          "output_type": "stream",
          "name": "stdout",
          "text": [
            "Oleg\n",
            "Jason\n"
          ]
        }
      ]
    },
    {
      "cell_type": "code",
      "source": [
        "# Functions: parameter - inside of the parenthesis of function defenition.\n",
        "# Functions: argument - the value passed to the function when it is called.\n",
        "\n",
        "def myThirdFunction(myFirstName, mySecondName ): #parameters inside of the ()\n",
        "  print(myFirstName + \"  \" + mySecondName)\n",
        "\n",
        "myThirdFunction(\"Olaf\", \"Kalfeoie\") #arguments passed to the function"
      ],
      "metadata": {
        "colab": {
          "base_uri": "https://localhost:8080/"
        },
        "id": "5i5F-obtqTLl",
        "outputId": "1679bab8-903c-4686-a36a-8c2ed7ca0de8"
      },
      "execution_count": null,
      "outputs": [
        {
          "output_type": "stream",
          "name": "stdout",
          "text": [
            "Olaf  Kalfeoie\n"
          ]
        }
      ]
    },
    {
      "cell_type": "code",
      "source": [
        "#Arbitrary number of arguments\n",
        "\n",
        "def myFifthFunction(*names):\n",
        "  print(names)\n",
        "\n",
        "myFifthFunction(\"Olaf\", \"Stella\", \"Klaus\")"
      ],
      "metadata": {
        "colab": {
          "base_uri": "https://localhost:8080/"
        },
        "id": "nqFeTyLUrQeW",
        "outputId": "55a5ca03-9d57-46fe-ddd5-7eafcc28da01"
      },
      "execution_count": null,
      "outputs": [
        {
          "output_type": "stream",
          "name": "stdout",
          "text": [
            "('Olaf', 'Stella', 'Klaus')\n"
          ]
        }
      ]
    },
    {
      "cell_type": "code",
      "source": [
        "# Sending arguments with the key=value syntax\n",
        "\n",
        "def myRegularFunction(name1, name2, name3):\n",
        "  print(name1, name2, name3)\n",
        "\n",
        "myRegularFunction(name1=\"Olaf\", name2=\"Holiaf\", name3=\"Linux\")"
      ],
      "metadata": {
        "colab": {
          "base_uri": "https://localhost:8080/"
        },
        "id": "oCkZZY-GsPdH",
        "outputId": "0d5b8c0b-3fc0-4ca4-8c31-3671ca03a5ce"
      },
      "execution_count": null,
      "outputs": [
        {
          "output_type": "stream",
          "name": "stdout",
          "text": [
            "Olaf Holiaf Linux\n"
          ]
        }
      ]
    },
    {
      "cell_type": "markdown",
      "source": [
        "The keyword arguments are often shortened as kwargs "
      ],
      "metadata": {
        "id": "2FBaqL8XsuBm"
      }
    },
    {
      "cell_type": "code",
      "source": [
        "#If the number of key words arguments is unknown\n",
        "\n",
        "def myRegularFunction(**name):\n",
        "  print(name)\n",
        "\n",
        "myRegularFunction(myFirstName = \"Oleaf\", myLastName=\"Kwwiec\", myMiddleName = \"Komntras\")"
      ],
      "metadata": {
        "colab": {
          "base_uri": "https://localhost:8080/"
        },
        "id": "OFBpGrPCs21Z",
        "outputId": "cf246353-9d62-4ed9-b32a-1b3a7829c805"
      },
      "execution_count": null,
      "outputs": [
        {
          "output_type": "stream",
          "name": "stdout",
          "text": [
            "{'myFirstName': 'Oleaf', 'myLastName': 'Kwwiec', 'myMiddleName': 'Komntras'}\n"
          ]
        }
      ]
    },
    {
      "cell_type": "code",
      "source": [
        "# default parameter in function statement\n",
        "\n",
        "def myRegularFunction(x,y,z=10):\n",
        "  print(x,\" \",y,\" \", z)\n",
        "\n",
        "myRegularFunction(0.2, 0.35)\n",
        "myRegularFunction(0.3, 0.45, 23456)"
      ],
      "metadata": {
        "colab": {
          "base_uri": "https://localhost:8080/"
        },
        "id": "LwyW8wd8tx1Y",
        "outputId": "7f197bec-14fc-4b8a-c225-291e8bf13975"
      },
      "execution_count": null,
      "outputs": [
        {
          "output_type": "stream",
          "name": "stdout",
          "text": [
            "0.2   0.35   10\n",
            "0.3   0.45   23456\n"
          ]
        }
      ]
    },
    {
      "cell_type": "code",
      "source": [
        "#Function overlaoding is not supported\n",
        "\n",
        "def MyOverloadingFunction(x=52):\n",
        "  print(x)\n",
        "\n",
        "MyOverloadingFunction(1.0)\n",
        "print(MyOverloadingFunction())\n"
      ],
      "metadata": {
        "colab": {
          "base_uri": "https://localhost:8080/"
        },
        "id": "uFksla-JudRS",
        "outputId": "22c72016-f443-4380-91f8-2cb251b2f04f"
      },
      "execution_count": null,
      "outputs": [
        {
          "output_type": "stream",
          "name": "stdout",
          "text": [
            "1.0\n",
            "52\n",
            "None\n"
          ]
        }
      ]
    },
    {
      "cell_type": "code",
      "source": [
        "#Passing a list of arguments\n",
        "\n",
        "def myRegularFunction(fish):\n",
        "  for i in fish:\n",
        "    print(i)\n",
        "\n",
        "fish=[\"Carp\",\"Bass\",\"Red Snapper\", \"Labeo culbasu\", \"Chanda Nama\", \"Ruffe\"]\n",
        "\n",
        "myRegularFunction(fish)"
      ],
      "metadata": {
        "colab": {
          "base_uri": "https://localhost:8080/"
        },
        "id": "ylLWPkYKvhGi",
        "outputId": "c9a6a178-64e4-4986-8938-f42e5a5da6ae"
      },
      "execution_count": null,
      "outputs": [
        {
          "output_type": "stream",
          "name": "stdout",
          "text": [
            "Carp\n",
            "Bass\n",
            "Red Snapper\n",
            "Labeo culbasu\n",
            "Chanda Nama\n",
            "Ruffe\n"
          ]
        }
      ]
    },
    {
      "cell_type": "code",
      "source": [
        "#To return the value of the function use return statement\n",
        "\n",
        "def myMathFunction(x,y,z):\n",
        "  return(x+y+z)\n",
        "\n",
        "myMathFunction(1,2,3)"
      ],
      "metadata": {
        "colab": {
          "base_uri": "https://localhost:8080/"
        },
        "id": "O-Br9VO4wAKo",
        "outputId": "f297ec56-c0ac-494a-d1be-04569bec9520"
      },
      "execution_count": null,
      "outputs": [
        {
          "output_type": "execute_result",
          "data": {
            "text/plain": [
              "6"
            ]
          },
          "metadata": {},
          "execution_count": 188
        }
      ]
    },
    {
      "cell_type": "code",
      "source": [
        "#Empty function\n",
        "\n",
        "def myRegularFunction():\n",
        "  pass"
      ],
      "metadata": {
        "id": "4Rsre7NGxaTz"
      },
      "execution_count": null,
      "outputs": []
    },
    {
      "cell_type": "code",
      "source": [
        "#Recursion function - can call itself (5! = 1*2*3*4*5)\n",
        "\n",
        "def myRecursiveFunction(x):\n",
        "  \"\"\" This is a recursive function to find a fuctorial\"\"\"\n",
        "  if x ==1:\n",
        "    return 1;\n",
        "  else:\n",
        "    return (x * myRecursiveFunction(x-1))\n",
        "\n",
        "x = 5\n",
        "print(\"The factorial of x\", x, \"is\", myRecursiveFunction(x))\n"
      ],
      "metadata": {
        "colab": {
          "base_uri": "https://localhost:8080/"
        },
        "id": "p3SipIbNxsp1",
        "outputId": "94f26048-ca87-4f11-cb17-02fe14c4e554"
      },
      "execution_count": null,
      "outputs": [
        {
          "output_type": "stream",
          "name": "stdout",
          "text": [
            "The factorial of x 5 is 120\n"
          ]
        }
      ]
    },
    {
      "cell_type": "code",
      "source": [
        "# A lambda function can take any number of arguments but have only one expression\n",
        "# lambda arguments : expression\n",
        "\n",
        "myLambdaFunction = lambda a: a+10\n",
        "print(myLambdaFunction(10))"
      ],
      "metadata": {
        "colab": {
          "base_uri": "https://localhost:8080/"
        },
        "id": "42tLupuqzKxu",
        "outputId": "2f1a9796-6cbd-4db3-b678-d5ffae941629"
      },
      "execution_count": null,
      "outputs": [
        {
          "output_type": "stream",
          "name": "stdout",
          "text": [
            "20\n"
          ]
        }
      ]
    },
    {
      "cell_type": "code",
      "source": [
        "# Multiple arguments\n",
        "\n",
        "myLambdaFunction = lambda a, b : a*b\n",
        "print(myLambdaFunction(64, 256))"
      ],
      "metadata": {
        "colab": {
          "base_uri": "https://localhost:8080/"
        },
        "id": "jxCiwzbN0PP8",
        "outputId": "e25d450e-4cf9-4e8a-86be-938860b7aecb"
      },
      "execution_count": null,
      "outputs": [
        {
          "output_type": "stream",
          "name": "stdout",
          "text": [
            "16384\n"
          ]
        }
      ]
    },
    {
      "cell_type": "code",
      "source": [
        "# Multiple arguments\n",
        "\n",
        "myLambdaFunction = lambda a, b, c : (a + b)/c\n",
        "\n",
        "print(myLambdaFunction(0.3, 0.4, 1.23))\n"
      ],
      "metadata": {
        "colab": {
          "base_uri": "https://localhost:8080/"
        },
        "id": "hXOZHJET0j2h",
        "outputId": "df0604c4-597c-4e21-97ae-c604fcd593ac"
      },
      "execution_count": null,
      "outputs": [
        {
          "output_type": "stream",
          "name": "stdout",
          "text": [
            "0.5691056910569106\n"
          ]
        }
      ]
    },
    {
      "cell_type": "markdown",
      "source": [
        "**User input**\n",
        "\n",
        "\n",
        "---\n",
        "User input is allowed in python. The input() method (python 3.6) or raw_input method in python (2.7) can be used.\n"
      ],
      "metadata": {
        "id": "Qww9K1IrvtMy"
      }
    },
    {
      "cell_type": "code",
      "source": [
        "#The user input\n",
        "\n",
        "userName = input(\"Enter your user name plz: \\n\")\n",
        "\n",
        "print(\"Your username is: \" + userName)"
      ],
      "metadata": {
        "colab": {
          "base_uri": "https://localhost:8080/"
        },
        "id": "MCyFZIP6wN8F",
        "outputId": "07d52a4c-e105-4749-eb11-1743f1d511bb"
      },
      "execution_count": null,
      "outputs": [
        {
          "output_type": "stream",
          "name": "stdout",
          "text": [
            "Enter your user name plz: \n",
            "Daniel\n",
            "Your username is: Daniel\n"
          ]
        }
      ]
    },
    {
      "cell_type": "markdown",
      "source": [
        "# 6. File I/O"
      ],
      "metadata": {
        "id": "1tFhadtVhsYr"
      }
    },
    {
      "cell_type": "markdown",
      "source": [
        "Files in pyhton can be created, read, appended, ...\n",
        "**open()** function can be used to work with files in python. This function takes to parameters: **filename** and **mode**. \n",
        "\n",
        "\n",
        "---\n",
        "**Methods for opening a file**\n",
        "\n",
        "\"**r**\" - **Read** - Default value. Opens a file for reading, error if the file does not exist\n",
        "\n",
        "\"**a**\" - **Append** - Opens a file for appending, creates the file if it does not exist\n",
        "\n",
        "\"**w**\" - **Write** - Opens a file for writing, creates the file if it does not exist\n",
        "\n",
        "\"**x**\" - **Create** - Creates the specified file, returns an error if the file exists\n",
        "\n",
        "\n",
        "---\n",
        "\n",
        "**In the text or binary modes**\n",
        "\n",
        "\"**t**\" - Text - Default value. Text mode\n",
        "\n",
        "\"**b**\" - Binary - Binary mode (e.g. images)\n",
        "\n",
        "---\n",
        "\n",
        "**file_object = open(\"filename\", \"mode\")**\n"
      ],
      "metadata": {
        "id": "VWNT4omSyZJd"
      }
    },
    {
      "cell_type": "code",
      "source": [
        "#To open a file - requires explicit closing\n",
        "myFirstFile=open(\"myDataFile.txt\", \"rt\")\n",
        "myFirstFile.close() #Close the file when you are finished.\n"
      ],
      "metadata": {
        "id": "atZC5_fvzbE4"
      },
      "execution_count": null,
      "outputs": []
    },
    {
      "cell_type": "code",
      "source": [
        "#to open a file\n",
        "myFirstFile=open(\"myDataFile.txt\", \"r\")\n",
        "\n",
        "myFirstFile.read()\n",
        "myFirstFile.readline()\n",
        "\n",
        "myFirstFile.close() #Close the file when you are finished."
      ],
      "metadata": {
        "id": "NOXK2KZizzPo"
      },
      "execution_count": null,
      "outputs": []
    },
    {
      "cell_type": "code",
      "source": [
        "#loop for the entire file\n",
        "myFirstFile=open(\"myDataFile.txt\", \"r\")\n",
        "\n",
        "for i in myFirstFile:\n",
        "  print(i)\n",
        "\n",
        "myFirstFile.close() #Close the file when you are finished."
      ],
      "metadata": {
        "id": "ZXnx5l380U6c"
      },
      "execution_count": null,
      "outputs": []
    },
    {
      "cell_type": "code",
      "source": [
        "#To write to a file you need to use \"a\" parameter\n",
        "\n",
        "myFirstFile=open(\"myDataFile.txt\", \"a\")\n",
        "myFirstFile.write(\"It is going to the end of a file\")\n",
        "\n",
        "myFirstFile.close() #Close the file when you are finished.\n",
        "\n",
        "#open and read the file after the appending\n",
        "\n",
        "myFirstFile=open(\"myDataFile.txt\", \"r\")\n",
        "print(myFirstFile.read())\n",
        "\n",
        "myFirstFile.close() #Close the file when you are finished."
      ],
      "metadata": {
        "id": "9Rig5pof07Ex"
      },
      "execution_count": null,
      "outputs": []
    },
    {
      "cell_type": "markdown",
      "source": [
        "Creating a new file\n",
        "\n",
        "\n",
        "---\n",
        "**\"x\"** - **Create** - \"will create a file, returns an error if the file exist.\"\n",
        "\n",
        "**\"a\"** - **Append** - \"will create a file if the specified file does not exist.\"\n",
        "\n",
        "**\"w\"** - **Write** - \"will create a file if the specified file does not exist.\"\n"
      ],
      "metadata": {
        "id": "Vp08HtUm1mIo"
      }
    },
    {
      "cell_type": "code",
      "source": [
        "#Creating a new file\n",
        "myFirstFile=open(\"myDataFile.txt\", \"x\") # a new and empty file is created\n",
        "myFirstFile=open(\"myDataFile.txt\", \"w\") # if there is no file, it will be created."
      ],
      "metadata": {
        "id": "5pPLB68H1ju1"
      },
      "execution_count": null,
      "outputs": []
    },
    {
      "cell_type": "code",
      "source": [
        "#Deleting the file you need to iport the os module\n",
        "import os\n",
        "if os.path.exists(\"myDataFile.txt\"):\n",
        "  os.remove(\"myDataFile.txt\")\n",
        "else:\n",
        "  print(\"This file does not exist\")"
      ],
      "metadata": {
        "colab": {
          "base_uri": "https://localhost:8080/"
        },
        "id": "IxNAreqU2S12",
        "outputId": "093ddd10-7e84-463b-abac-62ef0c818ce1"
      },
      "execution_count": null,
      "outputs": [
        {
          "output_type": "stream",
          "name": "stdout",
          "text": [
            "This file does not exist\n"
          ]
        }
      ]
    },
    {
      "cell_type": "code",
      "source": [
        "#Deleting the entire folder\n",
        "import os\n",
        "\n",
        "os.rmdir(\"myFolder\")"
      ],
      "metadata": {
        "id": "ujyMAxjC2wJR"
      },
      "execution_count": null,
      "outputs": []
    },
    {
      "cell_type": "markdown",
      "source": [
        "Using the **open()** method requires you to use **close()** method to close the file.\n",
        "\n",
        "**\"with\"** option allows to open files as it returns a file object, which has methods and attributes to manipulate the files.\n",
        "\n",
        "---\n",
        "**with open(\"myDataFile.txt) as file:**\n",
        "\n"
      ],
      "metadata": {
        "id": "QtKPdXsP3maX"
      }
    },
    {
      "cell_type": "code",
      "source": [
        "#Using \"with\" - no explicit closing of a file\n",
        "\n",
        "with open(\"myDataFile.txt\", \"w\") as myFirstFile:\n",
        "  myFirstFile.write(\"Hello World!\")\n",
        "\n",
        "#You do not need to close it explicitely "
      ],
      "metadata": {
        "id": "496pG5655Div"
      },
      "execution_count": null,
      "outputs": []
    },
    {
      "cell_type": "markdown",
      "source": [
        "**print()**\n",
        "\n",
        "\n",
        "---\n",
        "Print function is usually used for to print python objects \n",
        "as standard output.\n",
        "\n",
        "The syntax of this function is as follows:\n",
        "\n",
        "**print(objects, sep, end, file, flush)**\n",
        "\n",
        "**objects** - strings, tuples, lists, etc. \n",
        "\n",
        "**sep** - an optional parameter that is used to define a separation.\n",
        "\n",
        "**end** - an optional parameter that is used to define an end of a string printed.\n",
        "\n",
        "**file** - an optional parameter when writing to the file.\n",
        "\n",
        "**flush** - an optional boolean parameter setting flushed or buffered output.\n"
      ],
      "metadata": {
        "id": "Zk_SMAm04wBR"
      }
    },
    {
      "cell_type": "code",
      "source": [
        "#Printing the objects\n",
        "\n",
        "myList=[1,2,3,4,5]\n",
        "myTuple=(1,2,3,4,5)\n",
        "myString=\"1,2,3,4,5\"\n",
        "\n",
        "print(myList, myTuple, myString)"
      ],
      "metadata": {
        "colab": {
          "base_uri": "https://localhost:8080/"
        },
        "id": "5PogbvQP6fF4",
        "outputId": "829843ed-1e7d-4694-abfe-35526ed09aef"
      },
      "execution_count": null,
      "outputs": [
        {
          "output_type": "stream",
          "name": "stdout",
          "text": [
            "[1, 2, 3, 4, 5] (1, 2, 3, 4, 5) 1,2,3,4,5\n"
          ]
        }
      ]
    },
    {
      "cell_type": "code",
      "source": [
        "#Printing objects with a separator\n",
        "myList=[1,2,3,4,5]\n",
        "myTuple=(1,2,3,4,5)\n",
        "myString=\"1,2,3,4,5\"\n",
        "\n",
        "print(myList, myTuple, myString, sep=\"/\")"
      ],
      "metadata": {
        "colab": {
          "base_uri": "https://localhost:8080/"
        },
        "id": "_m1jkA966-ZC",
        "outputId": "0fc1faa2-ba2d-4ab4-ba58-21c5e56e5e67"
      },
      "execution_count": null,
      "outputs": [
        {
          "output_type": "stream",
          "name": "stdout",
          "text": [
            "[1, 2, 3, 4, 5]/(1, 2, 3, 4, 5)/1,2,3,4,5\n"
          ]
        }
      ]
    },
    {
      "cell_type": "code",
      "source": [
        "#String to be printed to the end\n",
        "myList=[1,2,3,4,5]\n",
        "myTuple=(1,2,3,4,5)\n",
        "myString=\"1,2,3,4,5\"\n",
        "\n",
        "print(myList, myTuple, myString, sep=\"*\", end=\"/\")"
      ],
      "metadata": {
        "colab": {
          "base_uri": "https://localhost:8080/"
        },
        "id": "kRAkXYEC7NRb",
        "outputId": "e7302edd-d4f1-4b49-839b-f09b0810cf35"
      },
      "execution_count": null,
      "outputs": [
        {
          "output_type": "stream",
          "name": "stdout",
          "text": [
            "[1, 2, 3, 4, 5]*(1, 2, 3, 4, 5)*1,2,3,4,5/"
          ]
        }
      ]
    },
    {
      "cell_type": "code",
      "source": [
        "#Using flush command\n",
        "import time \n",
        "countSeconds = 3\n",
        "for i in reversed(range(countSeconds + 1)):\n",
        "  if i> 0:\n",
        "    print(i, end=\"/\", flush=True) #flush specifies if it is flushed (True) or buffered (False)\n",
        "    time.sleep(1)\n",
        "  else:\n",
        "    print('End of a file')"
      ],
      "metadata": {
        "colab": {
          "base_uri": "https://localhost:8080/"
        },
        "id": "DoHFBSLi8_wx",
        "outputId": "42434187-3b9f-42fe-a6c2-94f8c75518fa"
      },
      "execution_count": null,
      "outputs": [
        {
          "output_type": "stream",
          "name": "stdout",
          "text": [
            "3/2/1/End of a file\n"
          ]
        }
      ]
    },
    {
      "cell_type": "markdown",
      "source": [
        "print() output formatting\n",
        "\n",
        "---\n",
        "General syntax for a format placeholder: \n",
        "\n",
        "**%**[flags][width][.precision]**type**\n",
        "\n",
        "**type:** **%s** -string; **%d** - integer, **%f** - float, **%e** - exponent \n",
        "\n",
        "**%x** - hexadecimal integer"
      ],
      "metadata": {
        "id": "RP6FalHu_XVv"
      }
    },
    {
      "cell_type": "code",
      "source": [
        "# Output formatting in python \n",
        "# This program is showing how to use\n",
        "# string modulo operator(%) to print various data types\n",
        " \n",
        "# print integer and float value\n",
        "print(\"Integer number : %2d, float number : %5.2f\" % (11, 05.333))\n",
        " \n",
        "# print integer value\n",
        "print(\"Total students : %3d, Boys : %2d\" % (240, 120))\n",
        "\n",
        "# print octal value\n",
        "print(\"%7.3o\" % (25))\n",
        "\n",
        "# print integer value\n",
        "print(\"%7.3d\" % (25))\n",
        "\n",
        "# print exponential value\n",
        "print(\"%10.3e\" % (356.08977))"
      ],
      "metadata": {
        "colab": {
          "base_uri": "https://localhost:8080/"
        },
        "id": "wvwhB3nG-HeZ",
        "outputId": "45a0c390-96a6-4bc4-80f9-50b08914d61b"
      },
      "execution_count": null,
      "outputs": [
        {
          "output_type": "stream",
          "name": "stdout",
          "text": [
            "Integer number : 11, float number :  5.33\n",
            "Total students : 240, Boys : 120\n",
            "    031\n",
            "    025\n",
            " 3.561e+02\n"
          ]
        }
      ]
    },
    {
      "cell_type": "code",
      "source": [
        "# Output formatting in python \n",
        "# This program is showing how to use\n",
        "# string modulo operator(%) to print various data types\n",
        "print('%d %s cost $%.2f' % (3, 'oranges', 5.11))"
      ],
      "metadata": {
        "colab": {
          "base_uri": "https://localhost:8080/"
        },
        "id": "wLuaHaR8F_Y9",
        "outputId": "1bfcdd40-0bed-4e85-ca22-af68821c35fd"
      },
      "execution_count": null,
      "outputs": [
        {
          "output_type": "stream",
          "name": "stdout",
          "text": [
            "3 oranges cost $5.11\n"
          ]
        }
      ]
    },
    {
      "cell_type": "code",
      "source": [
        "#Python’s string.format() method is used instead\n",
        "print('{0} {1} cost ${2}'.format(3, 'oranges', 5.11))\n",
        "#     |-----------------|.format|--------------------------|\n",
        "#           template     .format    positional arguments"
      ],
      "metadata": {
        "colab": {
          "base_uri": "https://localhost:8080/"
        },
        "id": "7doVvSOuGnvT",
        "outputId": "9594e93d-70b8-4096-8d9a-c03ea7a40060"
      },
      "execution_count": null,
      "outputs": [
        {
          "output_type": "stream",
          "name": "stdout",
          "text": [
            "3 oranges cost $5.11\n"
          ]
        }
      ]
    },
    {
      "cell_type": "code",
      "source": [
        "#Using keword parameters instead of positional arguments\n",
        "print('{quantity} {item} cost ${price}'.format(quantity=3,item='oranges',price=5.11))"
      ],
      "metadata": {
        "colab": {
          "base_uri": "https://localhost:8080/"
        },
        "id": "e38SwInxH-6J",
        "outputId": "df55b540-7046-4f1c-b383-68d43ffbd5f6"
      },
      "execution_count": null,
      "outputs": [
        {
          "output_type": "stream",
          "name": "stdout",
          "text": [
            "3 oranges cost $5.11\n"
          ]
        }
      ]
    },
    {
      "cell_type": "code",
      "source": [
        "# Output formatting in python \n",
        "# This program is showing how to use\n",
        "# f-string to print various data types\n",
        "\n",
        "quantity = 3\n",
        "item = 'oranges'\n",
        "price = 5.11\n",
        "\n",
        "print(f'{quantity} {item} cost ${price}')"
      ],
      "metadata": {
        "colab": {
          "base_uri": "https://localhost:8080/"
        },
        "id": "XB9582OjVOqt",
        "outputId": "72559850-8fe8-45a4-feca-a544733b909a"
      },
      "execution_count": null,
      "outputs": [
        {
          "output_type": "stream",
          "name": "stdout",
          "text": [
            "3 oranges cost $5.11\n"
          ]
        }
      ]
    },
    {
      "cell_type": "markdown",
      "source": [
        "# 7. Python modules and packages"
      ],
      "metadata": {
        "id": "MM0wR2SEiFsa"
      }
    },
    {
      "cell_type": "markdown",
      "source": [
        "We decompose our code in smaller pieces to make a code more readable. The way we can do this is to import modules to our code. A file that contains a set of functions is called a module. This module can be accessed from a program using \"**import**\" keyword. A module can also contain variables of all data types. There are several built-in modules that you can import. \n",
        "\n",
        "https://docs.python.org/3/library/index.html#the-python-standard-library"
      ],
      "metadata": {
        "id": "7ouik1jTrxm-"
      }
    },
    {
      "cell_type": "markdown",
      "source": [
        "Available, built-in modules in python\n",
        "\n",
        "\n",
        "---\n",
        "os, sys, time, math, Numpy, SciPy, Pandas, Jango, Keras, Tensorflow, MySQL,... \n",
        "https://docs.python.org/3/py-modindex.html\n"
      ],
      "metadata": {
        "id": "F9HOfzyJj6BF"
      }
    },
    {
      "cell_type": "code",
      "source": [
        "# How to use os module\n",
        "import os\n",
        "\n",
        "cwd = os.getcwd()\n",
        "\n",
        "print(\"My current working directory: \", cwd)"
      ],
      "metadata": {
        "colab": {
          "base_uri": "https://localhost:8080/"
        },
        "id": "ldJduVgxuTUc",
        "outputId": "a5821aaf-5861-46f2-c9ec-d29b12ccaef5"
      },
      "execution_count": 32,
      "outputs": [
        {
          "output_type": "stream",
          "name": "stdout",
          "text": [
            "My current working directory:  /content\n"
          ]
        }
      ]
    },
    {
      "cell_type": "code",
      "source": [
        "# How to use os module \n",
        "import os\n",
        "\n",
        "path=\"/content\"\n",
        "\n",
        "dir_content=os.listdir(path)\n",
        "\n",
        "print(\"Content of my directory: \", dir_content)"
      ],
      "metadata": {
        "colab": {
          "base_uri": "https://localhost:8080/"
        },
        "id": "YYDu5IL9u6oi",
        "outputId": "fbb17b35-0780-495b-97f4-04a2cc621937"
      },
      "execution_count": 34,
      "outputs": [
        {
          "output_type": "stream",
          "name": "stdout",
          "text": [
            "Content of my directory:  ['.config', 'sample_data']\n"
          ]
        }
      ]
    },
    {
      "cell_type": "code",
      "source": [
        "# How to use sys module\n",
        "# In this example the version of Python interpreter is return as string \n",
        "import sys\n",
        "\n",
        "print(sys.version)"
      ],
      "metadata": {
        "colab": {
          "base_uri": "https://localhost:8080/"
        },
        "id": "UOIGTJNDp8Og",
        "outputId": "d0919c1d-e5e0-49c4-ba9c-07573fa626dd"
      },
      "execution_count": 23,
      "outputs": [
        {
          "output_type": "stream",
          "name": "stdout",
          "text": [
            "3.10.11 (main, Apr  5 2023, 14:15:10) [GCC 9.4.0]\n"
          ]
        }
      ]
    },
    {
      "cell_type": "code",
      "source": [
        "# How to use sys module\n",
        "# In this example we use sys.path that returns a list of directories \n",
        "# where the Python interpreter will search for the available modules.\n",
        "import sys\n",
        "\n",
        "print(sys.path)"
      ],
      "metadata": {
        "colab": {
          "base_uri": "https://localhost:8080/"
        },
        "id": "qMZ_QbSSsVyv",
        "outputId": "a2c7ded3-6568-4b94-bb38-695b0486c959"
      },
      "execution_count": 29,
      "outputs": [
        {
          "output_type": "stream",
          "name": "stdout",
          "text": [
            "['/content', '/env/python', '/usr/lib/python310.zip', '/usr/lib/python3.10', '/usr/lib/python3.10/lib-dynload', '', '/usr/local/lib/python3.10/dist-packages', '/usr/lib/python3/dist-packages', '/usr/local/lib/python3.10/dist-packages/IPython/extensions', '/root/.ipython']\n"
          ]
        }
      ]
    },
    {
      "cell_type": "code",
      "source": [
        "# How to use sys module\n",
        "# In this example we exit a program id \n",
        "import sys\n",
        "\n",
        "def exit():\n",
        "  print(\"My own exit function\")\n",
        "\n",
        "exit()\n",
        "sys.exit()"
      ],
      "metadata": {
        "colab": {
          "base_uri": "https://localhost:8080/",
          "height": 133
        },
        "id": "PhAj3PcFr1I2",
        "outputId": "c2d91db8-fe9a-40aa-f68f-31bee5a9d156"
      },
      "execution_count": 31,
      "outputs": [
        {
          "output_type": "stream",
          "name": "stdout",
          "text": [
            "My own exit function\n"
          ]
        },
        {
          "output_type": "error",
          "ename": "SystemExit",
          "evalue": "ignored",
          "traceback": [
            "An exception has occurred, use %tb to see the full traceback.\n",
            "\u001b[0;31mSystemExit\u001b[0m\n"
          ]
        }
      ]
    },
    {
      "cell_type": "code",
      "source": [
        "# How to use time module\n",
        "import time\n",
        "\n",
        "print(time.strftime(\"%H:%M:%S\"))\n"
      ],
      "metadata": {
        "colab": {
          "base_uri": "https://localhost:8080/"
        },
        "id": "IQAmTZrWlJGL",
        "outputId": "2f52a3cf-d159-4d89-eb6b-91acc169ad52"
      },
      "execution_count": 51,
      "outputs": [
        {
          "output_type": "stream",
          "name": "stdout",
          "text": [
            "19:43:27\n"
          ]
        }
      ]
    },
    {
      "cell_type": "code",
      "source": [
        "# How to use math module\n",
        "#import math\n",
        "\n",
        "#PI=(math.acos(-1)) #To use in scientific calculations \n",
        "\n",
        "#print(PI)\n",
        "#print(math.pi) # Built in "
      ],
      "metadata": {
        "id": "uDTfAqzir-gN"
      },
      "execution_count": 52,
      "outputs": []
    },
    {
      "cell_type": "code",
      "source": [
        "# Date time now\n",
        "import datetime\n",
        "\n",
        "print(datetime.datetime.now())"
      ],
      "metadata": {
        "colab": {
          "base_uri": "https://localhost:8080/"
        },
        "id": "TGU64hC9mGBT",
        "outputId": "2b015885-efc9-4251-9c55-82fe570defca"
      },
      "execution_count": 50,
      "outputs": [
        {
          "output_type": "stream",
          "name": "stdout",
          "text": [
            "2023-05-14 19:43:24.463649\n"
          ]
        }
      ]
    },
    {
      "cell_type": "code",
      "source": [
        "# To specify exact entity we need to use the following syntax.\n",
        "from math import tan\n",
        "\n",
        "print(pi)"
      ],
      "metadata": {
        "colab": {
          "base_uri": "https://localhost:8080/"
        },
        "id": "_J3FKW-GwZ1F",
        "outputId": "34b0eb37-5996-4ec2-c5e7-e40af145e1ae"
      },
      "execution_count": 61,
      "outputs": [
        {
          "output_type": "stream",
          "name": "stdout",
          "text": [
            "3.141592653589793\n"
          ]
        }
      ]
    },
    {
      "cell_type": "code",
      "source": [
        "# If you have two entities with the same name Python will take the first one.\n",
        "from math import pi\n",
        "\n",
        "pi=3.14\n",
        "\n",
        "print(\"My own variable:\", pi)"
      ],
      "metadata": {
        "id": "DUZKTzq-xFut"
      },
      "execution_count": 48,
      "outputs": []
    },
    {
      "cell_type": "code",
      "source": [
        "# You can import more than one entity using the following syntax\n",
        "from math import sin, cos, tan\n",
        "\n",
        "print(\"Sin: \", sin(0.2))\n",
        "print(\"Cos: \", cos(0.2))\n",
        "print(\"Tan number: \", tan(0.2))\n"
      ],
      "metadata": {
        "colab": {
          "base_uri": "https://localhost:8080/"
        },
        "id": "ZTn172qvx10n",
        "outputId": "4762934e-3de1-4898-eccc-d8db2fd90cb4"
      },
      "execution_count": 60,
      "outputs": [
        {
          "output_type": "stream",
          "name": "stdout",
          "text": [
            "Sin:  0.19866933079506122\n",
            "Cos:  0.9800665778412416\n",
            "Tan number:  0.2027100355086725\n"
          ]
        }
      ]
    },
    {
      "cell_type": "markdown",
      "source": [
        "Import your own modules"
      ],
      "metadata": {
        "id": "Sx9dS5rmdY6Z"
      }
    },
    {
      "cell_type": "code",
      "source": [
        "# Save your file as myFirstModule.py\n",
        "\n",
        "def greeting(name):\n",
        "  print(\"Hello, \" + name)\n",
        "\n",
        "worker={\"name\":\"John\", \"age\":48, \"country\":\"Germany\"}"
      ],
      "metadata": {
        "id": "grEllPwTmn7k"
      },
      "execution_count": null,
      "outputs": []
    },
    {
      "cell_type": "code",
      "source": [
        "# Import my own module\n",
        "import myFirstModule\n",
        "\n",
        "myFirstModule.greeting(\"Daniel\")\n",
        "myFirstModule.worker[\"age\"]"
      ],
      "metadata": {
        "id": "MPgybNvQm0oY"
      },
      "execution_count": null,
      "outputs": []
    },
    {
      "cell_type": "markdown",
      "source": [
        "You can create an alias to the module using \"as\" keyword"
      ],
      "metadata": {
        "id": "N4X2mFTnnwLI"
      }
    },
    {
      "cell_type": "code",
      "source": [
        "# Creating an alias\n",
        "import math as mt\n",
        "\n",
        "PI=(mt.acos(-1))\n",
        "\n",
        "print(PI)"
      ],
      "metadata": {
        "colab": {
          "base_uri": "https://localhost:8080/"
        },
        "id": "qvZrFf8nn3-8",
        "outputId": "f8d32994-90cf-4aec-a503-ed21c401f066"
      },
      "execution_count": null,
      "outputs": [
        {
          "output_type": "stream",
          "name": "stdout",
          "text": [
            "3.141592653589793\n"
          ]
        }
      ]
    },
    {
      "cell_type": "code",
      "source": [
        "# There is a dir() function that lists all the functions inside of a module\n",
        "\n",
        "import math\n",
        "\n",
        "myFirstList=dir(math)\n",
        "print(myFirstList)"
      ],
      "metadata": {
        "colab": {
          "base_uri": "https://localhost:8080/"
        },
        "id": "uPkzXV5soOd4",
        "outputId": "9a77fc5d-1188-4288-ca56-f3aa57fd4f99"
      },
      "execution_count": null,
      "outputs": [
        {
          "output_type": "stream",
          "name": "stdout",
          "text": [
            "['__doc__', '__loader__', '__name__', '__package__', '__spec__', 'acos', 'acosh', 'asin', 'asinh', 'atan', 'atan2', 'atanh', 'ceil', 'comb', 'copysign', 'cos', 'cosh', 'degrees', 'dist', 'e', 'erf', 'erfc', 'exp', 'expm1', 'fabs', 'factorial', 'floor', 'fmod', 'frexp', 'fsum', 'gamma', 'gcd', 'hypot', 'inf', 'isclose', 'isfinite', 'isinf', 'isnan', 'isqrt', 'lcm', 'ldexp', 'lgamma', 'log', 'log10', 'log1p', 'log2', 'modf', 'nan', 'nextafter', 'perm', 'pi', 'pow', 'prod', 'radians', 'remainder', 'sin', 'sinh', 'sqrt', 'tan', 'tanh', 'tau', 'trunc', 'ulp']\n"
          ]
        }
      ]
    },
    {
      "cell_type": "markdown",
      "source": [
        "You can import only some parts of a module and not the entire one"
      ],
      "metadata": {
        "id": "IFXLHWuGoq6l"
      }
    },
    {
      "cell_type": "code",
      "source": [
        "# Choosing the parts\n",
        "from math import acos\n",
        "\n",
        "print(acos(-1))"
      ],
      "metadata": {
        "colab": {
          "base_uri": "https://localhost:8080/"
        },
        "id": "82t5Q1a4oxXE",
        "outputId": "e14b152c-085a-4b78-bad2-d59f4ac23413"
      },
      "execution_count": null,
      "outputs": [
        {
          "output_type": "stream",
          "name": "stdout",
          "text": [
            "3.141592653589793\n"
          ]
        }
      ]
    },
    {
      "cell_type": "code",
      "source": [
        "# Generating a random number\n",
        "\n",
        "import random as rnd\n",
        "\n",
        "print(rnd.randint(0,9)) #Returns a number in a<=N<=b or [a,b] inclusive\n"
      ],
      "metadata": {
        "colab": {
          "base_uri": "https://localhost:8080/"
        },
        "id": "oIFdB3bupc87",
        "outputId": "b27926ec-d871-47d7-970a-8757e8901b31"
      },
      "execution_count": null,
      "outputs": [
        {
          "output_type": "stream",
          "name": "stdout",
          "text": [
            "9\n"
          ]
        }
      ]
    },
    {
      "cell_type": "code",
      "source": [
        "# Generating an array of random numbers\n",
        "from numpy.random import seed\n",
        "from numpy.random import randint\n",
        "\n",
        "seed(1)\n",
        "\n",
        "randomValues = randint(0,10,20)\n",
        "print(randomValues)\n"
      ],
      "metadata": {
        "colab": {
          "base_uri": "https://localhost:8080/"
        },
        "id": "XHdJnkxYp8Ux",
        "outputId": "63a501e5-2a7e-4693-ac49-4922c5e05324"
      },
      "execution_count": null,
      "outputs": [
        {
          "output_type": "stream",
          "name": "stdout",
          "text": [
            "[5 8 9 5 0 0 1 7 6 9 2 4 5 2 4 2 4 7 7 9]\n"
          ]
        }
      ]
    },
    {
      "cell_type": "markdown",
      "source": [
        "Most popular python modules are \n",
        "\n",
        "\n",
        "---\n",
        "**Numpy** - module is used for variety of mathematical operations on arrays.\n",
        "\n",
        "**SciPy** - module with a lot of mathematical algorithms and functions.\n",
        "\n",
        "**Pandas** - module designed to work with the datasets, data analysis.\n",
        "\n",
        "**Jiango** - module designed to help build webpages using pyhton.\n",
        "\n",
        "**PyTorch** - module with the largest machine learning library.\n",
        "\n",
        "**Keras** - module with machine learning libraries.\n",
        "\n",
        "**TensorFlow** - end-to-end machine learning module.\n",
        "\n",
        "**MatplotLib** - module for creating static, animated, and interactive graphs.\n",
        ".\n",
        ".\n",
        "."
      ],
      "metadata": {
        "id": "_7hiGX6arYIG"
      }
    },
    {
      "cell_type": "code",
      "source": [
        "import matplotlib.pyplot as plt\n",
        "import numpy as np\n",
        "\n",
        "xpoints = np.array([1, 8])\n",
        "ypoints = np.array([3, 10])\n",
        "\n",
        "plt.plot(xpoints, ypoints)\n",
        "plt.show()"
      ],
      "metadata": {
        "colab": {
          "base_uri": "https://localhost:8080/",
          "height": 186
        },
        "id": "1sylivpD3Bqq",
        "outputId": "8e858533-3ac4-4cd1-dae6-be97beac7a7b"
      },
      "execution_count": null,
      "outputs": [
        {
          "output_type": "display_data",
          "data": {
            "text/plain": [
              "<Figure size 144x144 with 1 Axes>"
            ],
            "image/png": "[encoded data removed]"
          },
          "metadata": {
            "needs_background": "light"
          }
        }
      ]
    },
    {
      "cell_type": "code",
      "source": [
        "# importing the required module as alias plt\n",
        "import math as mt\n",
        "import numpy as np\n",
        "import matplotlib.pyplot as plt \n",
        "    \n",
        "# x axis values \n",
        "x = np.arange(0,2*mt.pi,0.1)\n",
        "# y axis values \n",
        "y = np.cos(x)\n",
        "    \n",
        "# plotting the points  \n",
        "plt.plot(x, y) \n",
        "plt.grid()\n",
        "# function to show the plot \n",
        "plt.show() "
      ],
      "metadata": {
        "colab": {
          "base_uri": "https://localhost:8080/",
          "height": 430
        },
        "id": "CqI6cVNLuCGq",
        "outputId": "a32f595e-4d6f-4d21-9968-c23a8bfee533"
      },
      "execution_count": 17,
      "outputs": [
        {
          "output_type": "display_data",
          "data": {
            "text/plain": [
              "<Figure size 640x480 with 1 Axes>"
            ],
            "image/png": "[encoded data removed]"
          },
          "metadata": {}
        }
      ]
    },
    {
      "cell_type": "markdown",
      "source": [
        "# 8. Classes\n",
        "\n",
        "\n",
        "\n",
        "---\n",
        "Python is an object-oriented high-level language. Everything is an object in python that contians properties and methods. \n"
      ],
      "metadata": {
        "id": "-G6SVv9MmBAR"
      }
    },
    {
      "cell_type": "code",
      "source": [
        "#Creating your first class\n",
        "\n",
        "class myFirstClass:\n",
        "      myFirstVariable = \"Name\"\n",
        "\n",
        "# Create an object named myFirstObject\n",
        "\n",
        "myFirstObject = myFirstClass()\n",
        "\n",
        "print(myFirstObject.myFirstVariable)"
      ],
      "metadata": {
        "colab": {
          "base_uri": "https://localhost:8080/"
        },
        "id": "dnPGxwL1XEdK",
        "outputId": "73576085-59f3-4c70-e19e-ace87544511e"
      },
      "execution_count": null,
      "outputs": [
        {
          "output_type": "stream",
          "name": "stdout",
          "text": [
            "Name\n"
          ]
        }
      ]
    },
    {
      "cell_type": "code",
      "source": [
        "#Using _init_() function with classes\n",
        "\n",
        "class mySecondClass:\n",
        "      def __init__(self, name, age, occupation): #parameterized constructor\n",
        "        self.name = name\n",
        "        self.age = age\n",
        "        self.occupation = occupation\n",
        "\n",
        "mySecondObject = mySecondClass(\"John\", 48, \"Doctor\") #creating object of a class\n",
        "\n",
        "print(mySecondObject.name) #calling the instance variable using object \n",
        "print(mySecondObject.age)\n",
        "print(mySecondObject.occupation)"
      ],
      "metadata": {
        "colab": {
          "base_uri": "https://localhost:8080/"
        },
        "id": "bYjwcX9ZX97R",
        "outputId": "7b359b9e-2e32-42ae-98ed-185039e88b03"
      },
      "execution_count": null,
      "outputs": [
        {
          "output_type": "stream",
          "name": "stdout",
          "text": [
            "John\n",
            "48\n",
            "Doctor\n"
          ]
        }
      ]
    },
    {
      "cell_type": "markdown",
      "source": [
        "The __init__() function is called automatically everytime new object is created."
      ],
      "metadata": {
        "id": "6wgruaYIY95g"
      }
    },
    {
      "cell_type": "markdown",
      "source": [
        "\"The __str__() function controls what should be returned when the class object is represented as a string.\"\n",
        "\n",
        "\"If the __str__() function is not set, the string representation of the object is returned.\""
      ],
      "metadata": {
        "id": "z85vtZemadcB"
      }
    },
    {
      "cell_type": "code",
      "source": [
        "#The __str__() function\n",
        "\n",
        "class myThirdClass:\n",
        "  def __init__(self, name, age, occupation):\n",
        "    self.name = name\n",
        "    self.age = age\n",
        "    self.occupation = occupation\n",
        "\n",
        "  def __str__(self):\n",
        "    return f\"{self.name}\\\\{self.age}\\\\{self.occupation}\"\n",
        "\n",
        "myThirdObject = myThirdClass(\"John\", 48, \"Doctor\")\n",
        "\n",
        "print(myThirdObject)"
      ],
      "metadata": {
        "colab": {
          "base_uri": "https://localhost:8080/"
        },
        "id": "msteLr7XZVM9",
        "outputId": "adb4bcb1-b918-49a3-fcd6-9f64440f80ee"
      },
      "execution_count": null,
      "outputs": [
        {
          "output_type": "stream",
          "name": "stdout",
          "text": [
            "John\\48\\Doctor\n",
            "<class '__main__.myThirdClass'>\n"
          ]
        }
      ]
    },
    {
      "cell_type": "markdown",
      "source": [
        "Object Methods"
      ],
      "metadata": {
        "id": "baYgOUGtank2"
      }
    },
    {
      "cell_type": "code",
      "source": [
        "#Methods in classes\n",
        "\n",
        "class myFourthClass:\n",
        "  def __init__(self,name, age, occupation):\n",
        "    self.name = name\n",
        "    self.age = age\n",
        "    self.occupation = occupation\n",
        "\n",
        "  def myName(self):\n",
        "      print(\"Hello my name is \" + self.name)\n",
        "\n",
        "  def myAge(self):\n",
        "      print(\"My age is \" + str(self.age))\n",
        "\n",
        "  def myOccupation(self):\n",
        "      print(\"My occupation is \" + self.occupation)\n",
        "\n",
        "myFourthObject = myFourthClass(\"John\", 48, \"Doctor\")\n",
        "\n",
        "myFourthObject.myName()\n",
        "myFourthObject.myAge()\n",
        "myFourthObject.myOccupation()"
      ],
      "metadata": {
        "colab": {
          "base_uri": "https://localhost:8080/"
        },
        "id": "D6sfzGZ4apvL",
        "outputId": "867f11ba-e120-4c61-e801-3c211850172a"
      },
      "execution_count": null,
      "outputs": [
        {
          "output_type": "stream",
          "name": "stdout",
          "text": [
            "Hello my name is John\n",
            "My age is 48\n",
            "My occupation is Doctor\n"
          ]
        }
      ]
    }
  ]
}