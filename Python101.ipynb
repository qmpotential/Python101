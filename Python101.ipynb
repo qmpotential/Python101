{
  "nbformat": 4,
  "nbformat_minor": 0,
  "metadata": {
    "colab": {
      "provenance": [],
      "toc_visible": true,
      "authorship_tag": "ABX9TyMMEAIdFaqSunv6WMT8WEME",
      "include_colab_link": true
    },
    "kernelspec": {
      "name": "python3",
      "display_name": "Python 3"
    },
    "language_info": {
      "name": "python"
    }
  },
  "cells": [
    {
      "cell_type": "markdown",
      "metadata": {
        "id": "view-in-github",
        "colab_type": "text"
      },
      "source": [
        "<a href=\"https://colab.research.google.com/github/qmpotential/Python101/blob/main/Python101.ipynb\" target=\"_parent\"><img src=\"https://colab.research.google.com/assets/colab-badge.svg\" alt=\"Open In Colab\"/></a>"
      ]
    },
    {
      "cell_type": "markdown",
      "source": [
        "**Introductin to Python**\n",
        "\n",
        "by Oleg N. Starovoytov\n",
        "\n",
        "Date: 03/22/2023"
      ],
      "metadata": {
        "id": "IIB88iwPO5F-"
      }
    },
    {
      "cell_type": "markdown",
      "source": [
        "# Python *101*\n",
        "1. Comments\n",
        "2. Variables and operators\n",
        "3. Data types\n",
        "4. Control flows\n",
        "5. File I/O\n",
        "6. Python modules\n",
        "7. Classes"
      ],
      "metadata": {
        "id": "Ptut8gykhIuv"
      }
    },
    {
      "cell_type": "markdown",
      "source": [
        "# 1. Comments"
      ],
      "metadata": {
        "id": "fKMS-GhxE04A"
      }
    },
    {
      "cell_type": "markdown",
      "source": [
        "Comments are usually used to indicate important details about the code.\n",
        "\n",
        "\"#\" - sign is used for comments in python, it can be placed right after the code. \n",
        "\n",
        "You can use triple quotes to make a multiline comments\n",
        "\n",
        "\"\"\" Your comments can be placed here \"\"\""
      ],
      "metadata": {
        "id": "95f_6_PbFDsk"
      }
    },
    {
      "cell_type": "code",
      "source": [
        "# This is a comment\n",
        "print(\"Hello World!\")"
      ],
      "metadata": {
        "colab": {
          "base_uri": "https://localhost:8080/"
        },
        "id": "EzgnB7SAF2Hs",
        "outputId": "613767df-1978-4e55-f2b3-5d7b519b0dfe"
      },
      "execution_count": 3,
      "outputs": [
        {
          "output_type": "stream",
          "name": "stdout",
          "text": [
            "Hello World!\n"
          ]
        }
      ]
    },
    {
      "cell_type": "code",
      "source": [
        "# This is a first comment\n",
        "print(\"Hello World!\") # This is my second comment"
      ],
      "metadata": {
        "colab": {
          "base_uri": "https://localhost:8080/"
        },
        "id": "NHQIdP0nF8IZ",
        "outputId": "54812f45-9d14-4c5b-935a-9f165e221b06"
      },
      "execution_count": 2,
      "outputs": [
        {
          "output_type": "stream",
          "name": "stdout",
          "text": [
            "Hello World!\n"
          ]
        }
      ]
    },
    {
      "cell_type": "code",
      "source": [
        "\"\"\" This is a multiple \n",
        "line\n",
        "commnet \"\"\"\n",
        "print(\"Hello World!\")"
      ],
      "metadata": {
        "colab": {
          "base_uri": "https://localhost:8080/"
        },
        "id": "oVfXjlu-GHb3",
        "outputId": "6cd8f02b-38a5-460d-e4ad-59349df6846c"
      },
      "execution_count": 1,
      "outputs": [
        {
          "output_type": "stream",
          "name": "stdout",
          "text": [
            "Hello World!\n"
          ]
        }
      ]
    },
    {
      "cell_type": "markdown",
      "source": [
        "# 2. Variables\n",
        "\n",
        "**A variable's name references or points to an object. Each object can have various data types with some stored values. No particular type is used upon variable declaration.**\n",
        "\n",
        "There are some rules for creating a variable name: \n",
        "\n",
        "a) A variable name can start with alpha-numeric characters and/or underscore (A-z, 0-9, and _ ),\n",
        "\n",
        "b) a variable name is case-sensitive,\n",
        "\n",
        "c) there is no limit on varable length,\n",
        "\n",
        "d) there should not be any spaces for a multi-word variable,\n",
        "\n",
        "e) no python keywords can be used to create a variable name,\n",
        "   \n",
        "   Examples: **for, while, print, ...**\n",
        "\n",
        "To assign an object to the variable you need to use assign operator"
      ],
      "metadata": {
        "id": "Obdgar5uk9bO"
      }
    },
    {
      "cell_type": "code",
      "source": [
        "#Correct declaration of variables\n",
        "myFirstVariable = \"John\"\n",
        "MyFirstVariable = \"John\"\n",
        "my_first_variable = \"John\"\n",
        "_my_first_Variable = \"John\"\n",
        "MY_FIRST_VARIABLE = \"John\"\n",
        "myFirst_Variable363 = \"John\""
      ],
      "metadata": {
        "id": "7hkrjOPCLysP"
      },
      "execution_count": 10,
      "outputs": []
    },
    {
      "cell_type": "code",
      "source": [
        "#Illegal declaration of variables\n",
        "\n",
        "100myFirstVariable = \"John\" # can not start with a number\n",
        "my-first-variable = \"John\". # can not have dash in the name\n",
        "my first variable = \"John\"  # can not have spaces in the variable name\n",
        "&myFirstVariable=\"John\"     # can not have special characters in the name \n",
        "for = \"John\"                # can not use reserved python keywords"
      ],
      "metadata": {
        "id": "WkzKQsuNMQbN"
      },
      "execution_count": null,
      "outputs": []
    },
    {
      "cell_type": "code",
      "source": [
        "# Declaration of variables \n",
        "TestVariable = 1.0\n",
        "print(type(TestVariable))\n",
        "print(TestVariable)\n",
        "TestVariable = \"Python is fun!\"\n",
        "print(type(TestVariable))\n",
        "print(TestVariable)"
      ],
      "metadata": {
        "colab": {
          "base_uri": "https://localhost:8080/"
        },
        "id": "ulQ1wucCJWm_",
        "outputId": "cc4bbbb9-46f0-4f15-bde9-c61047d863ed"
      },
      "execution_count": 4,
      "outputs": [
        {
          "output_type": "stream",
          "name": "stdout",
          "text": [
            "<class 'float'>\n",
            "1.0\n",
            "<class 'str'>\n",
            "Python is fun!\n"
          ]
        }
      ]
    },
    {
      "cell_type": "markdown",
      "source": [
        "Some other rules and conventions:\n"
      ],
      "metadata": {
        "id": "KbhL2URwEWcM"
      }
    },
    {
      "cell_type": "markdown",
      "source": [
        "   **Camel Case** - each word starts with a capital letter except the first one.\n",
        "\n",
        "   Example: **myVariableName**\n",
        "\n",
        "   **Pascal Case** - each word starts with a capital letter.\n",
        "\n",
        "   Example: **MyVariableName**\n",
        "\n",
        "   **Snake Case** - each word is connected by underscore.\n",
        "\n",
        "   Example: **my_variable_name**"
      ],
      "metadata": {
        "id": "PHyhHsIAEayp"
      }
    },
    {
      "cell_type": "code",
      "source": [
        "# Declaration of a variable using Camel Case\n",
        "myFirstVariable = \"Camel Case\"\n",
        "print(myFirstVariable)"
      ],
      "metadata": {
        "colab": {
          "base_uri": "https://localhost:8080/"
        },
        "id": "ulabfaGSKdH2",
        "outputId": "6ed8f028-521b-414b-f9d2-f0d7410b1e1b"
      },
      "execution_count": 6,
      "outputs": [
        {
          "output_type": "stream",
          "name": "stdout",
          "text": [
            "Camel Case\n"
          ]
        }
      ]
    },
    {
      "cell_type": "code",
      "source": [
        "# Declaration of a variable using Pascal Case\n",
        "MyFirstVariable = \"Pascal Case\"\n",
        "print(MyFirstVariable)"
      ],
      "metadata": {
        "colab": {
          "base_uri": "https://localhost:8080/"
        },
        "id": "kzDovAizKr9o",
        "outputId": "b6187863-dc81-4b7e-ff8a-dc13ba90e112"
      },
      "execution_count": 7,
      "outputs": [
        {
          "output_type": "stream",
          "name": "stdout",
          "text": [
            "Pascal Case\n"
          ]
        }
      ]
    },
    {
      "cell_type": "code",
      "source": [
        "# Declaration of a variable using Snake Case\n",
        "my_first_variable = \"Snake Case\"\n",
        "print(my_first_variable)"
      ],
      "metadata": {
        "colab": {
          "base_uri": "https://localhost:8080/"
        },
        "id": "vW3-ecGDK6Lu",
        "outputId": "a464e462-fd09-495e-9e9c-cb617d385b6c"
      },
      "execution_count": 9,
      "outputs": [
        {
          "output_type": "stream",
          "name": "stdout",
          "text": [
            "Snake Case\n"
          ]
        }
      ]
    },
    {
      "cell_type": "markdown",
      "source": [
        "Assign multiple values"
      ],
      "metadata": {
        "id": "jQP8DqfbOszc"
      }
    },
    {
      "cell_type": "code",
      "source": [
        "# Assign multiple values to multiple variables in one line \n",
        "x, y, z = 23.4, 35.6, 45.1\n",
        "print(x)\n",
        "print(y)\n",
        "print(z)"
      ],
      "metadata": {
        "colab": {
          "base_uri": "https://localhost:8080/"
        },
        "id": "6PUy49h1Ov7F",
        "outputId": "4ddc6611-60c2-4dcc-f813-0ae8039ef13f"
      },
      "execution_count": 27,
      "outputs": [
        {
          "output_type": "stream",
          "name": "stdout",
          "text": [
            "23.4\n",
            "35.6\n",
            "45.1\n"
          ]
        }
      ]
    },
    {
      "cell_type": "code",
      "source": [],
      "metadata": {
        "id": "jKP6ZvdhPmVe"
      },
      "execution_count": null,
      "outputs": []
    },
    {
      "cell_type": "code",
      "source": [
        "# Assign multiple values of multiple data types to multiple variables in one line \n",
        "x, y, z, e, f, g = 23.4, 35.6, 45.1, \"John\", \"Karl\", True\n",
        "print(x)\n",
        "print(y)\n",
        "print(z)\n",
        "print(e)\n",
        "print(f)\n",
        "print(g)"
      ],
      "metadata": {
        "colab": {
          "base_uri": "https://localhost:8080/"
        },
        "outputId": "95fcb394-51d0-4794-910d-5a34d983e648",
        "id": "utu2h8QPPpog"
      },
      "execution_count": 29,
      "outputs": [
        {
          "output_type": "stream",
          "name": "stdout",
          "text": [
            "23.4\n",
            "35.6\n",
            "45.1\n",
            "John\n",
            "Karl\n",
            "True\n"
          ]
        }
      ]
    },
    {
      "cell_type": "code",
      "source": [
        "# Assign one value to multiple variables\n",
        "x=y=z=2.25\n",
        "print(x)\n",
        "print(y)\n",
        "print(z)"
      ],
      "metadata": {
        "colab": {
          "base_uri": "https://localhost:8080/"
        },
        "id": "cxAe_TDSQGy2",
        "outputId": "ccf73957-08df-49a0-bac6-14230af981fa"
      },
      "execution_count": 30,
      "outputs": [
        {
          "output_type": "stream",
          "name": "stdout",
          "text": [
            "2.25\n",
            "2.25\n",
            "2.25\n"
          ]
        }
      ]
    },
    {
      "cell_type": "code",
      "source": [
        "#Using unpacking\n",
        "coordinates=[2.35, 6.37, -8.94]\n",
        "x,y,z = coordinates\n",
        "print(x)\n",
        "print(y)\n",
        "print(z)"
      ],
      "metadata": {
        "colab": {
          "base_uri": "https://localhost:8080/"
        },
        "id": "x5i3eTHMQerG",
        "outputId": "ec3efed8-ac96-4e95-9dc2-0c00b2537cfa"
      },
      "execution_count": 31,
      "outputs": [
        {
          "output_type": "stream",
          "name": "stdout",
          "text": [
            "2.35\n",
            "6.37\n",
            "-8.94\n"
          ]
        }
      ]
    },
    {
      "cell_type": "code",
      "source": [
        "#Output variables\n",
        "coordinates=[2.35, 6.37, -8.94]\n",
        "x,y,z = coordinates\n",
        "print(x, y, z)\n",
        "print(x+y+z)"
      ],
      "metadata": {
        "colab": {
          "base_uri": "https://localhost:8080/"
        },
        "outputId": "f8b412f9-f941-40b1-f65d-6271a9370788",
        "id": "9004FlukQ5mA"
      },
      "execution_count": 33,
      "outputs": [
        {
          "output_type": "stream",
          "name": "stdout",
          "text": [
            "2.35 6.37 -8.94\n",
            "-0.21999999999999886\n"
          ]
        }
      ]
    },
    {
      "cell_type": "code",
      "source": [
        "#Output variables\n",
        "coordinates=[\"John\", \"Lisa\", \"Michelle\"]\n",
        "x,y,z = coordinates\n",
        "print(x, y, z)\n",
        "print(x+y+z)\n",
        "print(\"*\"*5)"
      ],
      "metadata": {
        "colab": {
          "base_uri": "https://localhost:8080/"
        },
        "outputId": "7f7889bf-b742-46a0-e3c9-0009424500a7",
        "id": "HO6UumH4RNWv"
      },
      "execution_count": 35,
      "outputs": [
        {
          "output_type": "stream",
          "name": "stdout",
          "text": [
            "John Lisa Michelle\n",
            "JohnLisaMichelle\n",
            "*****\n"
          ]
        }
      ]
    },
    {
      "cell_type": "markdown",
      "source": [
        "Global and local variables\n",
        "\n",
        "**Global variables** are the variables that can be accessed from anywhere in your code.\n",
        "\n",
        "**Local variables** are accessable withing a local scope."
      ],
      "metadata": {
        "id": "P9P61uxDRk-I"
      }
    },
    {
      "cell_type": "code",
      "source": [
        "mySecondVariable = \"cool!\"\n",
        "\n",
        "def myfunc():\n",
        "  print(\"Python is \" + mySecondVariable)\n",
        "\n",
        "myfunc()"
      ],
      "metadata": {
        "colab": {
          "base_uri": "https://localhost:8080/"
        },
        "id": "MdPiV7DsR2iP",
        "outputId": "d89ebf41-387e-4273-c2cb-64823dcf2109"
      },
      "execution_count": 46,
      "outputs": [
        {
          "output_type": "stream",
          "name": "stdout",
          "text": [
            "Python is cool!\n"
          ]
        }
      ]
    },
    {
      "cell_type": "code",
      "source": [
        "myThirdVariable = \"awesome\"\n",
        "\n",
        "def myfunc():\n",
        "  myLocalVariable = \"fantastic\"\n",
        "  print(\"Python is \" + myThirdVariable)\n",
        "\n",
        "myfunc()\n",
        "\n",
        "print(\"Python is \" + myLocalVariable)"
      ],
      "metadata": {
        "id": "o7apT8-SSt8z"
      },
      "execution_count": null,
      "outputs": []
    },
    {
      "cell_type": "markdown",
      "source": [
        "# 3. Operators"
      ],
      "metadata": {
        "id": "-Zj1keZUBjY4"
      }
    },
    {
      "cell_type": "markdown",
      "source": [
        "# 4. Data types"
      ],
      "metadata": {
        "id": "WMmwlGM-hbfY"
      }
    },
    {
      "cell_type": "markdown",
      "source": [
        "Variable types are determined dynamically at run time.\n",
        "To have a clear programming code you need to create a\n",
        "meaningful variable name."
      ],
      "metadata": {
        "id": "Ge9dBHDtEANE"
      }
    },
    {
      "cell_type": "markdown",
      "source": [
        "# 5. Control flows"
      ],
      "metadata": {
        "id": "ufdAAkIbhk9M"
      }
    },
    {
      "cell_type": "markdown",
      "source": [
        "# 6. File I/O"
      ],
      "metadata": {
        "id": "1tFhadtVhsYr"
      }
    },
    {
      "cell_type": "markdown",
      "source": [
        "# 7. Python modules"
      ],
      "metadata": {
        "id": "MM0wR2SEiFsa"
      }
    },
    {
      "cell_type": "markdown",
      "source": [
        "# 8. Classes"
      ],
      "metadata": {
        "id": "-G6SVv9MmBAR"
      }
    }
  ]
}