{
  "nbformat": 4,
  "nbformat_minor": 0,
  "metadata": {
    "colab": {
      "provenance": [],
      "toc_visible": true,
      "authorship_tag": "ABX9TyMP/idfq9iGR/yGzI9WHR+w",
      "include_colab_link": true
    },
    "kernelspec": {
      "name": "python3",
      "display_name": "Python 3"
    },
    "language_info": {
      "name": "python"
    }
  },
  "cells": [
    {
      "cell_type": "markdown",
      "metadata": {
        "id": "view-in-github",
        "colab_type": "text"
      },
      "source": [
        "<a href=\"https://colab.research.google.com/github/qmpotential/Python101/blob/main/Python101.ipynb\" target=\"_parent\"><img src=\"https://colab.research.google.com/assets/colab-badge.svg\" alt=\"Open In Colab\"/></a>"
      ]
    },
    {
      "cell_type": "markdown",
      "source": [
        "**Introductin to Python**\n",
        "\n",
        "by Oleg N. Starovoytov\n",
        "\n",
        "Date: 03/22/2023"
      ],
      "metadata": {
        "id": "IIB88iwPO5F-"
      }
    },
    {
      "cell_type": "markdown",
      "source": [
        "# Python *101*\n",
        "1. Variables and operators\n",
        "2. Data types\n",
        "3. Control flows\n",
        "4. File I/O\n",
        "5. Python modules\n",
        "6. Classes"
      ],
      "metadata": {
        "id": "Ptut8gykhIuv"
      }
    },
    {
      "cell_type": "markdown",
      "source": [
        "# 1. Variables and operators\n",
        "\n",
        "Variable types are determined dynamically at run time.\n",
        "To have a clear programming code you need to create a\n",
        "meaningful variable name. There are some rules for \n",
        "creating a variable name: \n",
        "\n",
        "a) a variable name must start with the letter or underscore (_),\n",
        "\n",
        "b) a variable name is case-sensitive,\n",
        "\n",
        "c) there is no limit on varable length,\n",
        "\n",
        "d) there should not be any spaces for a multi-word variable,\n",
        "\n",
        "e) no python keywords can be used to creates a variable name."
      ],
      "metadata": {
        "id": "Obdgar5uk9bO"
      }
    },
    {
      "cell_type": "markdown",
      "source": [
        "# 2. Data types"
      ],
      "metadata": {
        "id": "WMmwlGM-hbfY"
      }
    },
    {
      "cell_type": "markdown",
      "source": [
        "# 3. Control flows"
      ],
      "metadata": {
        "id": "ufdAAkIbhk9M"
      }
    },
    {
      "cell_type": "markdown",
      "source": [
        "# 4. File I/O"
      ],
      "metadata": {
        "id": "1tFhadtVhsYr"
      }
    },
    {
      "cell_type": "markdown",
      "source": [
        "# 5. Python modules"
      ],
      "metadata": {
        "id": "MM0wR2SEiFsa"
      }
    },
    {
      "cell_type": "markdown",
      "source": [
        "# 6. Classes"
      ],
      "metadata": {
        "id": "-G6SVv9MmBAR"
      }
    }
  ]
}