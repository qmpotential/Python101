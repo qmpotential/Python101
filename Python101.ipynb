{
  "nbformat": 4,
  "nbformat_minor": 0,
  "metadata": {
    "colab": {
      "provenance": [],
      "toc_visible": true,
      "authorship_tag": "ABX9TyOQQ4B4uSAuaKMtPKBI5ZY6",
      "include_colab_link": true
    },
    "kernelspec": {
      "name": "python3",
      "display_name": "Python 3"
    },
    "language_info": {
      "name": "python"
    }
  },
  "cells": [
    {
      "cell_type": "markdown",
      "metadata": {
        "id": "view-in-github",
        "colab_type": "text"
      },
      "source": [
        "<a href=\"https://colab.research.google.com/github/qmpotential/Python101/blob/main/Python101.ipynb\" target=\"_parent\"><img src=\"https://colab.research.google.com/assets/colab-badge.svg\" alt=\"Open In Colab\"/></a>"
      ]
    },
    {
      "cell_type": "markdown",
      "source": [
        "**Introductin to Python**\n",
        "\n",
        "by Oleg N. Starovoytov\n",
        "\n",
        "Date: 03/22/2023"
      ],
      "metadata": {
        "id": "IIB88iwPO5F-"
      }
    },
    {
      "cell_type": "markdown",
      "source": [
        "# Python *101*\n",
        "1. Comments\n",
        "2. Variables\n",
        "3. Operators\n",
        "4. Data types\n",
        "5. Control flows\n",
        "6. File I/O\n",
        "7. Python modules\n",
        "8. Classes"
      ],
      "metadata": {
        "id": "Ptut8gykhIuv"
      }
    },
    {
      "cell_type": "markdown",
      "source": [
        "# 1. Comments"
      ],
      "metadata": {
        "id": "fKMS-GhxE04A"
      }
    },
    {
      "cell_type": "markdown",
      "source": [
        "Comments are usually used to indicate important details about the code.\n",
        "\n",
        "\"#\" - sign is used for comments in python, it can be placed right after the code. \n",
        "\n",
        "You can use triple quotes to make a multiline comments\n",
        "\n",
        "\"\"\" Your comments can be placed here \"\"\""
      ],
      "metadata": {
        "id": "95f_6_PbFDsk"
      }
    },
    {
      "cell_type": "code",
      "source": [
        "# This is a comment\n",
        "print(\"Hello World!\")"
      ],
      "metadata": {
        "colab": {
          "base_uri": "https://localhost:8080/"
        },
        "id": "EzgnB7SAF2Hs",
        "outputId": "613767df-1978-4e55-f2b3-5d7b519b0dfe"
      },
      "execution_count": null,
      "outputs": [
        {
          "output_type": "stream",
          "name": "stdout",
          "text": [
            "Hello World!\n"
          ]
        }
      ]
    },
    {
      "cell_type": "code",
      "source": [
        "# This is a first comment\n",
        "print(\"Hello World!\") # This is my second comment"
      ],
      "metadata": {
        "colab": {
          "base_uri": "https://localhost:8080/"
        },
        "id": "NHQIdP0nF8IZ",
        "outputId": "54812f45-9d14-4c5b-935a-9f165e221b06"
      },
      "execution_count": null,
      "outputs": [
        {
          "output_type": "stream",
          "name": "stdout",
          "text": [
            "Hello World!\n"
          ]
        }
      ]
    },
    {
      "cell_type": "code",
      "source": [
        "\"\"\" This is a multiple \n",
        "line\n",
        "commnet \"\"\"\n",
        "print(\"Hello World!\")"
      ],
      "metadata": {
        "colab": {
          "base_uri": "https://localhost:8080/"
        },
        "id": "oVfXjlu-GHb3",
        "outputId": "6cd8f02b-38a5-460d-e4ad-59349df6846c"
      },
      "execution_count": null,
      "outputs": [
        {
          "output_type": "stream",
          "name": "stdout",
          "text": [
            "Hello World!\n"
          ]
        }
      ]
    },
    {
      "cell_type": "markdown",
      "source": [
        "# 2. Variables\n",
        "\n",
        "**A variable's name references or points to an object. Each object can have various data types with some stored values. No particular type is used upon variable declaration.**\n",
        "\n",
        "There are some rules for creating a variable name: \n",
        "\n",
        "a) A variable name can start with alpha-numeric characters and/or underscore (A-z, 0-9, and _ ),\n",
        "\n",
        "b) a variable name is case-sensitive,\n",
        "\n",
        "c) there is no limit on varable length,\n",
        "\n",
        "d) there should not be any spaces for a multi-word variable,\n",
        "\n",
        "e) no python keywords can be used to create a variable name,\n",
        "   \n",
        "   Examples: **for, while, print, ...**\n",
        "\n",
        "To assign an object to the variable you need to use assign operator"
      ],
      "metadata": {
        "id": "Obdgar5uk9bO"
      }
    },
    {
      "cell_type": "code",
      "source": [
        "#Correct declaration of variables\n",
        "myFirstVariable = \"John\"\n",
        "MyFirstVariable = \"John\"\n",
        "my_first_variable = \"John\"\n",
        "_my_first_Variable = \"John\"\n",
        "MY_FIRST_VARIABLE = \"John\"\n",
        "myFirst_Variable363 = \"John\""
      ],
      "metadata": {
        "id": "7hkrjOPCLysP"
      },
      "execution_count": null,
      "outputs": []
    },
    {
      "cell_type": "code",
      "source": [
        "#Illegal declaration of variables\n",
        "\n",
        "100myFirstVariable = \"John\" # can not start with a number\n",
        "my-first-variable = \"John\". # can not have dash in the name\n",
        "my first variable = \"John\"  # can not have spaces in the variable name\n",
        "&myFirstVariable=\"John\"     # can not have special characters in the name \n",
        "for = \"John\"                # can not use reserved python keywords"
      ],
      "metadata": {
        "id": "WkzKQsuNMQbN"
      },
      "execution_count": null,
      "outputs": []
    },
    {
      "cell_type": "code",
      "source": [
        "# Declaration of variables \n",
        "TestVariable = 1.0\n",
        "print(type(TestVariable))\n",
        "print(TestVariable)\n",
        "TestVariable = \"Python is fun!\"\n",
        "print(type(TestVariable))\n",
        "print(TestVariable)"
      ],
      "metadata": {
        "colab": {
          "base_uri": "https://localhost:8080/"
        },
        "id": "ulQ1wucCJWm_",
        "outputId": "cc4bbbb9-46f0-4f15-bde9-c61047d863ed"
      },
      "execution_count": null,
      "outputs": [
        {
          "output_type": "stream",
          "name": "stdout",
          "text": [
            "<class 'float'>\n",
            "1.0\n",
            "<class 'str'>\n",
            "Python is fun!\n"
          ]
        }
      ]
    },
    {
      "cell_type": "markdown",
      "source": [
        "Some other rules and conventions:\n"
      ],
      "metadata": {
        "id": "KbhL2URwEWcM"
      }
    },
    {
      "cell_type": "markdown",
      "source": [
        "   **Camel Case** - each word starts with a capital letter except the first one.\n",
        "\n",
        "   Example: **myVariableName**\n",
        "\n",
        "   **Pascal Case** - each word starts with a capital letter.\n",
        "\n",
        "   Example: **MyVariableName**\n",
        "\n",
        "   **Snake Case** - each word is connected by underscore.\n",
        "\n",
        "   Example: **my_variable_name**"
      ],
      "metadata": {
        "id": "PHyhHsIAEayp"
      }
    },
    {
      "cell_type": "code",
      "source": [
        "# Declaration of a variable using Camel Case\n",
        "myFirstVariable = \"Camel Case\"\n",
        "print(myFirstVariable)"
      ],
      "metadata": {
        "colab": {
          "base_uri": "https://localhost:8080/"
        },
        "id": "ulabfaGSKdH2",
        "outputId": "6ed8f028-521b-414b-f9d2-f0d7410b1e1b"
      },
      "execution_count": null,
      "outputs": [
        {
          "output_type": "stream",
          "name": "stdout",
          "text": [
            "Camel Case\n"
          ]
        }
      ]
    },
    {
      "cell_type": "code",
      "source": [
        "# Declaration of a variable using Pascal Case\n",
        "MyFirstVariable = \"Pascal Case\"\n",
        "print(MyFirstVariable)"
      ],
      "metadata": {
        "colab": {
          "base_uri": "https://localhost:8080/"
        },
        "id": "kzDovAizKr9o",
        "outputId": "b6187863-dc81-4b7e-ff8a-dc13ba90e112"
      },
      "execution_count": null,
      "outputs": [
        {
          "output_type": "stream",
          "name": "stdout",
          "text": [
            "Pascal Case\n"
          ]
        }
      ]
    },
    {
      "cell_type": "code",
      "source": [
        "# Declaration of a variable using Snake Case\n",
        "my_first_variable = \"Snake Case\"\n",
        "print(my_first_variable)"
      ],
      "metadata": {
        "colab": {
          "base_uri": "https://localhost:8080/"
        },
        "id": "vW3-ecGDK6Lu",
        "outputId": "a464e462-fd09-495e-9e9c-cb617d385b6c"
      },
      "execution_count": null,
      "outputs": [
        {
          "output_type": "stream",
          "name": "stdout",
          "text": [
            "Snake Case\n"
          ]
        }
      ]
    },
    {
      "cell_type": "markdown",
      "source": [
        "Assign multiple values"
      ],
      "metadata": {
        "id": "jQP8DqfbOszc"
      }
    },
    {
      "cell_type": "code",
      "source": [
        "# Assign multiple values to multiple variables in one line \n",
        "x, y, z = 23.4, 35.6, 45.1\n",
        "print(x)\n",
        "print(y)\n",
        "print(z)"
      ],
      "metadata": {
        "colab": {
          "base_uri": "https://localhost:8080/"
        },
        "id": "6PUy49h1Ov7F",
        "outputId": "4ddc6611-60c2-4dcc-f813-0ae8039ef13f"
      },
      "execution_count": null,
      "outputs": [
        {
          "output_type": "stream",
          "name": "stdout",
          "text": [
            "23.4\n",
            "35.6\n",
            "45.1\n"
          ]
        }
      ]
    },
    {
      "cell_type": "code",
      "source": [],
      "metadata": {
        "id": "jKP6ZvdhPmVe"
      },
      "execution_count": null,
      "outputs": []
    },
    {
      "cell_type": "code",
      "source": [
        "# Assign multiple values of multiple data types to multiple variables in one line \n",
        "x, y, z, e, f, g = 23.4, 35.6, 45.1, \"John\", \"Karl\", True\n",
        "print(x)\n",
        "print(y)\n",
        "print(z)\n",
        "print(e)\n",
        "print(f)\n",
        "print(g)"
      ],
      "metadata": {
        "colab": {
          "base_uri": "https://localhost:8080/"
        },
        "outputId": "95fcb394-51d0-4794-910d-5a34d983e648",
        "id": "utu2h8QPPpog"
      },
      "execution_count": null,
      "outputs": [
        {
          "output_type": "stream",
          "name": "stdout",
          "text": [
            "23.4\n",
            "35.6\n",
            "45.1\n",
            "John\n",
            "Karl\n",
            "True\n"
          ]
        }
      ]
    },
    {
      "cell_type": "code",
      "source": [
        "# Assign one value to multiple variables\n",
        "x=y=z=2.25\n",
        "print(x)\n",
        "print(y)\n",
        "print(z)"
      ],
      "metadata": {
        "colab": {
          "base_uri": "https://localhost:8080/"
        },
        "id": "cxAe_TDSQGy2",
        "outputId": "ccf73957-08df-49a0-bac6-14230af981fa"
      },
      "execution_count": null,
      "outputs": [
        {
          "output_type": "stream",
          "name": "stdout",
          "text": [
            "2.25\n",
            "2.25\n",
            "2.25\n"
          ]
        }
      ]
    },
    {
      "cell_type": "code",
      "source": [
        "#Using unpacking\n",
        "coordinates=[2.35, 6.37, -8.94]\n",
        "x,y,z = coordinates\n",
        "print(x)\n",
        "print(y)\n",
        "print(z)"
      ],
      "metadata": {
        "colab": {
          "base_uri": "https://localhost:8080/"
        },
        "id": "x5i3eTHMQerG",
        "outputId": "ec3efed8-ac96-4e95-9dc2-0c00b2537cfa"
      },
      "execution_count": null,
      "outputs": [
        {
          "output_type": "stream",
          "name": "stdout",
          "text": [
            "2.35\n",
            "6.37\n",
            "-8.94\n"
          ]
        }
      ]
    },
    {
      "cell_type": "code",
      "source": [
        "#Output variables\n",
        "coordinates=[2.35, 6.37, -8.94]\n",
        "x,y,z = coordinates\n",
        "print(x, y, z)\n",
        "print(x+y+z)"
      ],
      "metadata": {
        "colab": {
          "base_uri": "https://localhost:8080/"
        },
        "outputId": "f8b412f9-f941-40b1-f65d-6271a9370788",
        "id": "9004FlukQ5mA"
      },
      "execution_count": null,
      "outputs": [
        {
          "output_type": "stream",
          "name": "stdout",
          "text": [
            "2.35 6.37 -8.94\n",
            "-0.21999999999999886\n"
          ]
        }
      ]
    },
    {
      "cell_type": "code",
      "source": [
        "#Output variables\n",
        "coordinates=[\"John\", \"Lisa\", \"Michelle\"]\n",
        "x,y,z = coordinates\n",
        "print(x, y, z)\n",
        "print(x+y+z)\n",
        "print(\"*\"*5)"
      ],
      "metadata": {
        "colab": {
          "base_uri": "https://localhost:8080/"
        },
        "outputId": "7f7889bf-b742-46a0-e3c9-0009424500a7",
        "id": "HO6UumH4RNWv"
      },
      "execution_count": null,
      "outputs": [
        {
          "output_type": "stream",
          "name": "stdout",
          "text": [
            "John Lisa Michelle\n",
            "JohnLisaMichelle\n",
            "*****\n"
          ]
        }
      ]
    },
    {
      "cell_type": "markdown",
      "source": [
        "**Global and local variables**\n",
        "\n",
        "**Global variables** are the variables that can be accessed from anywhere in your code.\n",
        "\n",
        "**Local variables** are accessable withing a local scope."
      ],
      "metadata": {
        "id": "P9P61uxDRk-I"
      }
    },
    {
      "cell_type": "code",
      "source": [
        "mySecondVariable = \"cool!\"\n",
        "\n",
        "def myfunc():\n",
        "  print(\"Python is \" + mySecondVariable)\n",
        "\n",
        "myfunc()"
      ],
      "metadata": {
        "id": "MdPiV7DsR2iP"
      },
      "execution_count": null,
      "outputs": []
    },
    {
      "cell_type": "code",
      "source": [
        "myThirdVariable = \"awesome\"\n",
        "\n",
        "def myfunc():\n",
        "  myLocalVariable = \"fantastic\"\n",
        "  print(\"Python is \" + myThirdVariable)\n",
        "  print(\"Python is \" + myLocalVariable)\n",
        "\n",
        "myfunc()\n",
        "\n",
        "print(\"Python is \" + myLocalVariable)"
      ],
      "metadata": {
        "id": "o7apT8-SSt8z"
      },
      "execution_count": null,
      "outputs": []
    },
    {
      "cell_type": "code",
      "source": [
        "myThirdVariable = \"awesome\"\n",
        "\n",
        "def myfunc():\n",
        "    global myLocalVariable \n",
        "    myLocalVariable = \"fantastic\"\n",
        "    print(\"Python is \" + myThirdVariable)\n",
        "    print(\"Python is \" + myLocalVariable)\n",
        "\n",
        "myfunc()\n",
        "\n",
        "print(\"Python is \" + myLocalVariable)"
      ],
      "metadata": {
        "id": "-SYqmQRRT_fm"
      },
      "execution_count": null,
      "outputs": []
    },
    {
      "cell_type": "markdown",
      "source": [
        "# 3. Data types"
      ],
      "metadata": {
        "id": "WMmwlGM-hbfY"
      }
    },
    {
      "cell_type": "markdown",
      "source": [
        "Variables can store different types of data.\n",
        "There are **built-in data types** in python:\n",
        "\n",
        "Numeric Types:\t**int, float, complex**\n",
        "\n",
        "Boolean Type:\t**bool**\n",
        "\n",
        "Sequence Types:\t**string, list, tuple, range**\n",
        "\n",
        "Dictionary Type:\t**dict**\n",
        "\n",
        "Set Types:\t**set, frozenset**\n",
        "\n",
        "Binary Types:\t**bytes, bytearray, memoryview**\n",
        "\n",
        "None Type:\t**NoneType**\n",
        "\n",
        "*Primitive types are **integer, float, string, and boolean**. All other are non-primitive types including lists, tuples, dictionary, and etc.*"
      ],
      "metadata": {
        "id": "Ge9dBHDtEANE"
      }
    },
    {
      "cell_type": "markdown",
      "source": [
        "The data type can be accessed by using type function."
      ],
      "metadata": {
        "id": "AoM7m5jQWQNl"
      }
    },
    {
      "cell_type": "code",
      "source": [
        "#Using type function\n",
        "\n",
        "MyFirstVariable = 23\n",
        "mySecondVariable = 0.00036\n",
        "myThirdVariable = 10+5j\n",
        "myFourthVariable = True\n",
        "\n",
        "myFirstVariable = \"Hello World!\"\n",
        "myFifthVariable = [0,1,2,3,4,5,6,7,8,9]\n",
        "mySixthVariable = (\"John\", \"Mikle\", \"Desbey\")\n",
        "\n",
        "MySeventhVariable = {\"Name\":\"John\", \"age\":41, \"Occupation\":\"CEO\"}\n",
        "\n",
        "MyEighthVariable = {\"apple\", \"banana\", \"cherry\"}\n",
        "MyNinthVariable = frozenset({\"apple\", \"banana\", \"cherry\"})\n",
        "\n",
        "myTenthVariable = b\"Hello\"\n",
        "myEleventhVariable = bytearray(5)\n",
        "myTwelvefthVariable = memoryview(bytes(5))\n",
        "\n",
        "myThirteenthVariable = None\n",
        "myFourteenthVariable = range(12)\n",
        "\n",
        "print(type(myFirstVariable))\n",
        "print(type(mySecondVariable))\n",
        "print(type(myThirdVariable))\n",
        "print(type(myFourthVariable))\n",
        "print(type(myFifthVariable))\n",
        "print(type(mySixthVariable))\n",
        "print(type(MySeventhVariable))\n",
        "print(type(MyEighthVariable))\n",
        "print(type(MyNinthVariable))\n",
        "print(type(myTenthVariable))\n",
        "print(type(myEleventhVariable))\n",
        "print(type(myTwelvefthVariable))\n",
        "print(type(myThirteenthVariable))\n",
        "print(type(myFourteenthVariable))"
      ],
      "metadata": {
        "colab": {
          "base_uri": "https://localhost:8080/"
        },
        "id": "jixgkK8OWZgi",
        "outputId": "38e75e59-c09f-4d00-cbfe-b899ada1674c"
      },
      "execution_count": 38,
      "outputs": [
        {
          "output_type": "stream",
          "name": "stdout",
          "text": [
            "<class 'str'>\n",
            "<class 'float'>\n",
            "<class 'complex'>\n",
            "<class 'bool'>\n",
            "<class 'list'>\n",
            "<class 'tuple'>\n",
            "<class 'dict'>\n",
            "<class 'set'>\n",
            "<class 'frozenset'>\n",
            "<class 'bytes'>\n",
            "<class 'bytearray'>\n",
            "<class 'memoryview'>\n",
            "<class 'NoneType'>\n",
            "<class 'range'>\n"
          ]
        }
      ]
    },
    {
      "cell_type": "code",
      "source": [
        "#Using random module\n",
        "import random\n",
        "print(random.randrange(1,10))\n"
      ],
      "metadata": {
        "id": "Wu5uf2B-e0q7"
      },
      "execution_count": null,
      "outputs": []
    },
    {
      "cell_type": "markdown",
      "source": [
        "Python uses classes to define its data types, including its primitive types."
      ],
      "metadata": {
        "id": "kZfcjYHcfyJJ"
      }
    },
    {
      "cell_type": "code",
      "source": [
        "#Using casting to specify the data type\n",
        "myFirstVariable = int(1)        # will be 1\n",
        "mySecondVariable = int(2.8)     # will be 2\n",
        "myThirdVariable = int(\"3\")      # will be 3"
      ],
      "metadata": {
        "id": "Se0TPm9pfpS5"
      },
      "execution_count": null,
      "outputs": []
    },
    {
      "cell_type": "code",
      "source": [
        "#Using casting to specify the data type\n",
        "myFirstVariable = float(10)     # will be 10.0\n",
        "mySecondVariable = float(2.8)   # will be 2.8\n",
        "myThirdVariable = float(\"4.2\")  # will be 4.2"
      ],
      "metadata": {
        "id": "pWNQ8_zigJKw"
      },
      "execution_count": null,
      "outputs": []
    },
    {
      "cell_type": "code",
      "source": [
        "#Using casting to specify the data type\n",
        "myFirstVariable = str(1)   # will be 1\n",
        "mySecondVariable = str(2.890) # will be 2.890\n",
        "myThirdVariable = str(\"3.498\") # will be 3.498"
      ],
      "metadata": {
        "id": "al44xSRcgKav"
      },
      "execution_count": null,
      "outputs": []
    },
    {
      "cell_type": "markdown",
      "source": [
        "Binary only uses the digits 0 and 1. "
      ],
      "metadata": {
        "id": "eLpdZ1E4e2nq"
      }
    },
    {
      "cell_type": "code",
      "source": [
        "#Binary numbers uses bin()\n",
        "myFirstVariable = 0b101 #The binary numbers start with 0b\n",
        "mySecondVariable = 5\n",
        "\n",
        "print(myFirstVariable)\n",
        "print(mySecondVariable)\n",
        "\n",
        "print(myFirstVariable==mySecondVariable)\n",
        "print(myFirstVariable is mySecondVariable)\n",
        "\n",
        "print(bin(5))\n",
        "print(type(bin(mySecondVariable)))\n"
      ],
      "metadata": {
        "colab": {
          "base_uri": "https://localhost:8080/"
        },
        "id": "iwhNYh20YtCN",
        "outputId": "6b74b511-91db-4ac5-f6db-b1fcf25c6f7a"
      },
      "execution_count": 61,
      "outputs": [
        {
          "output_type": "stream",
          "name": "stdout",
          "text": [
            "5\n",
            "5\n",
            "True\n",
            "True\n",
            "0b101\n",
            "<class 'str'>\n"
          ]
        }
      ]
    },
    {
      "cell_type": "markdown",
      "source": [
        "There are 16 digits in hexadecimal: 0, 1, 2, 3, 4, 5, 6, 7, 8, 9, A, B, C, D, E, and F. Where A is ten, B is eleven, C is twelve, D is thirteen, E is fourteen, and F is fifteen. "
      ],
      "metadata": {
        "id": "6VG8LTuzg2bZ"
      }
    },
    {
      "cell_type": "code",
      "source": [
        "#Hexadecimal numbers uses hex()\n",
        "myFirstVariable = 0x1F #The hexadecimal numbers start with \"0x\"\n",
        "mySecondVariable = 26\n",
        "\n",
        "print(myFirstVariable==mySecondVariable)\n",
        "print(myFirstVariable is mySecondVariable)\n",
        "\n",
        "print(hex(26))\n",
        "print(myFirstVariable)\n",
        "print(type(hex(mySecondVariable)))"
      ],
      "metadata": {
        "colab": {
          "base_uri": "https://localhost:8080/"
        },
        "id": "UebpCLJ0cUdB",
        "outputId": "173184f8-edf6-48b6-a10e-62466ff1e871"
      },
      "execution_count": 62,
      "outputs": [
        {
          "output_type": "stream",
          "name": "stdout",
          "text": [
            "False\n",
            "False\n",
            "0x1a\n",
            "31\n",
            "<class 'str'>\n"
          ]
        }
      ]
    },
    {
      "cell_type": "markdown",
      "source": [
        "Finally, how many digits are in the octal number system? Octal contains eight digits. The oct() is used to convert numbers to octal in Python. The prefix ‘0o’ is used with octal numbers with a zero followed by a lowercase o.\n",
        "\n",
        "The eight digits of octal are 0, 1, 2, 3, 4, 5, 6, 7."
      ],
      "metadata": {
        "id": "723mcHbpfMDh"
      }
    },
    {
      "cell_type": "code",
      "source": [
        "#Octal numbers use oct()\n",
        "myFirstVariable = 0o12 #The octal numbers start with \"0o\"\n",
        "mySecondVariable = 0o12\n",
        "print(myFirstVariable)\n",
        "print(myFirstVariable==mySecondVariable)\n",
        "print(myFirstVariable is mySecondVariable)\n",
        "\n",
        "\n",
        "sumOct = int(myFirstVariable)+ int(mySecondVariable)\n",
        "print(sumOct)\n",
        "\n",
        "print(oct(sumOct))\n",
        "print(type(oct(sumOct)))\n",
        "\n"
      ],
      "metadata": {
        "colab": {
          "base_uri": "https://localhost:8080/"
        },
        "id": "zuBmZkUzdAAT",
        "outputId": "283b2932-4b3f-4d15-efa1-94c08db566a1"
      },
      "execution_count": 63,
      "outputs": [
        {
          "output_type": "stream",
          "name": "stdout",
          "text": [
            "10\n",
            "True\n",
            "True\n",
            "20\n",
            "0o24\n",
            "<class 'str'>\n"
          ]
        }
      ]
    },
    {
      "cell_type": "code",
      "source": [
        "#Octal numbers use oct()\n",
        "myFirstVariable = 0o123 #The octal numbers start with \"0o\"\n",
        "mySecondVariable = 83\n",
        "print(myFirstVariable)\n",
        "print(myFirstVariable==mySecondVariable)\n",
        "print(myFirstVariable is mySecondVariable)\n",
        "\n",
        "sumOct = int(myFirstVariable,8)+ int(mysecondVariable,8)\n",
        "print(sumOct)\n",
        "\n"
      ],
      "metadata": {
        "colab": {
          "base_uri": "https://localhost:8080/"
        },
        "outputId": "8fe93c38-652f-4ae0-fc86-7bb83609b267",
        "id": "-PSWdOmWftci"
      },
      "execution_count": null,
      "outputs": [
        {
          "output_type": "stream",
          "name": "stdout",
          "text": [
            "83\n",
            "True\n",
            "True\n"
          ]
        }
      ]
    },
    {
      "cell_type": "code",
      "source": [
        "#String\n",
        "myTestVariable = \"\"\"Lorem ipsum dolor sit amet,\n",
        "consectetur adipiscing elit,\n",
        "sed do eiusmod tempor incididunt\n",
        "ut labore et dolore magna aliqua.\"\"\"\n",
        "print(myTestVariable)"
      ],
      "metadata": {
        "colab": {
          "base_uri": "https://localhost:8080/"
        },
        "id": "QOwBfXwLhlcl",
        "outputId": "8439d6ec-00f0-47f9-d793-5bc082068452"
      },
      "execution_count": null,
      "outputs": [
        {
          "output_type": "stream",
          "name": "stdout",
          "text": [
            "Lorem ipsum dolor sit amet,\n",
            "consectetur adipiscing elit,\n",
            "sed do eiusmod tempor incididunt\n",
            "ut labore et dolore magna aliqua.\n"
          ]
        }
      ]
    },
    {
      "cell_type": "code",
      "source": [
        "myTestVariable = '''Lorem ipsum dolor sit amet,\n",
        "consectetur adipiscing elit,\n",
        "sed do eiusmod tempor incididunt\n",
        "ut labore et dolore magna aliqua.'''\n",
        "print(myTestVariable)"
      ],
      "metadata": {
        "colab": {
          "base_uri": "https://localhost:8080/"
        },
        "id": "oB6SzZ4phtlO",
        "outputId": "67d0af54-c245-40f5-929a-9dffc5a776b9"
      },
      "execution_count": null,
      "outputs": [
        {
          "output_type": "stream",
          "name": "stdout",
          "text": [
            "Lorem ipsum dolor sit amet,\n",
            "consectetur adipiscing elit,\n",
            "sed do eiusmod tempor incididunt\n",
            "ut labore et dolore magna aliqua.\n"
          ]
        }
      ]
    },
    {
      "cell_type": "code",
      "source": [
        "#Strings are arrays\n",
        "#The element of a string can be accessed \n"
      ],
      "metadata": {
        "id": "QZAktJJks_ix"
      },
      "execution_count": null,
      "outputs": []
    },
    {
      "cell_type": "markdown",
      "source": [
        "# 4. Operators"
      ],
      "metadata": {
        "id": "RxTdq2qZb8LP"
      }
    },
    {
      "cell_type": "markdown",
      "source": [
        "**Assignment operators**\n",
        "\n",
        "* arithmetic: =, +=, -=, *=, /=, %=, //=\t\t\n",
        "* bitwise: **=, &=, |=, ^=, <<=\t\n"
      ],
      "metadata": {
        "id": "QvjMM-n7jVuT"
      }
    },
    {
      "cell_type": "code",
      "source": [
        "# Assignment operators\n",
        "\n",
        "myFirstVariable = 5\n",
        "mySecondVariable = 6\n",
        "\n",
        "mySum = myFirstVariable + mySecondVariable\n",
        "\n",
        "print(mySum)\n",
        "print(myFirstVariable+mySecondVariable)\n"
      ],
      "metadata": {
        "colab": {
          "base_uri": "https://localhost:8080/"
        },
        "id": "43hdLurcjIu_",
        "outputId": "76068842-8f23-4e26-d3e7-60e2f97d1107"
      },
      "execution_count": 74,
      "outputs": [
        {
          "output_type": "stream",
          "name": "stdout",
          "text": [
            "11\n",
            "11\n"
          ]
        }
      ]
    },
    {
      "cell_type": "code",
      "source": [
        "# += assignment operator\n",
        "\n",
        "myFirstVariable = 5\n",
        "\n",
        "myFirstVariable += 30 # myFirstVariable = myFirstVariable + 30\n",
        "\n",
        "print(myFirstVariable)\n"
      ],
      "metadata": {
        "colab": {
          "base_uri": "https://localhost:8080/"
        },
        "outputId": "859ef25a-5556-4034-e49d-e5ec3fc7b044",
        "id": "VXWzd2NA9WMG"
      },
      "execution_count": 76,
      "outputs": [
        {
          "output_type": "stream",
          "name": "stdout",
          "text": [
            "35\n"
          ]
        }
      ]
    },
    {
      "cell_type": "code",
      "source": [
        "# *= assignment operator\n",
        "\n",
        "myFirstVariable = 3\n",
        "\n",
        "myFirstVariable*=3\n",
        "\n",
        "print(myFirstVariable)"
      ],
      "metadata": {
        "colab": {
          "base_uri": "https://localhost:8080/"
        },
        "id": "5j-wYne__R2L",
        "outputId": "9db73674-8757-498c-94d5-c283f17c4376"
      },
      "execution_count": 86,
      "outputs": [
        {
          "output_type": "stream",
          "name": "stdout",
          "text": [
            "9\n"
          ]
        }
      ]
    },
    {
      "cell_type": "code",
      "source": [
        "# //= assignment operator (divident/divisor = quotient returns a quotient)\n",
        "\n",
        "myFirstVariable = 6\n",
        "\n",
        "myFirstVariable//=4 # myFirstVariable = myFirstVariable // 4\n",
        "\n",
        "print(myFirstVariable)"
      ],
      "metadata": {
        "colab": {
          "base_uri": "https://localhost:8080/"
        },
        "outputId": "d1399150-16e4-4f0c-f819-091b61ab4fb0",
        "id": "58WqiyVJ9f_D"
      },
      "execution_count": 92,
      "outputs": [
        {
          "output_type": "stream",
          "name": "stdout",
          "text": [
            "1\n"
          ]
        }
      ]
    },
    {
      "cell_type": "code",
      "source": [
        "# %= assignment operator (divident/divisor = quotient returns a remainder)\n",
        "\n",
        "myFirstVariable = 6\n",
        "\n",
        "myFirstVariable %= 4 # myFirstVariable = myFirstVariable % 4\n",
        "\n",
        "print(myFirstVariable) "
      ],
      "metadata": {
        "colab": {
          "base_uri": "https://localhost:8080/"
        },
        "id": "T4sKp7XW_Css",
        "outputId": "671ff69a-7372-4f55-9994-b8e60519427f"
      },
      "execution_count": 93,
      "outputs": [
        {
          "output_type": "stream",
          "name": "stdout",
          "text": [
            "2\n"
          ]
        }
      ]
    },
    {
      "cell_type": "markdown",
      "source": [
        "**Arithmetic operators**\n",
        "* Addition:\tx + y\t\n",
        "* Subtraction:\tx - y\t\n",
        "*\tMultiplication:\tx * y\t\n",
        "* Division:\tx / y\t\n",
        "* Modulus:\tx % y\t\n",
        "* Exponentiation:\tx ** y\t\n",
        "* Floor division:\tx // y"
      ],
      "metadata": {
        "id": "6WqQR3Fvi0fB"
      }
    },
    {
      "cell_type": "markdown",
      "source": [
        "**Bitwise operators**\n",
        "\n",
        "You can use bitwise operators to perform Boolean logic on individual bits. That’s very similar to using logical operators such as and, or, and not.\n",
        "\n",
        "You can evaluate Boolean expressions with bitwise operators instead of logical operators.\n",
        "\n",
        "* &(AND) \"This operator compares each bit and sets it to 1 if both are 1, otherwise it is set to 0.\"\n",
        "\n",
        "* | (OR) \"This operator compares each bit and sets it to 1 if one or both is 1, otherwise it is set to 0.\"\n",
        "\n",
        "* ^(XOR) \"This operator compares each bit and sets it to 1 if only one is 1, otherwise (if both are 1 or both are 0) it is set to 0.\"\n",
        "\n",
        "* ~(NOT) \"This operator inverts each bit (0 becomes 1 and 1 becomes 0).\" \n",
        "\n",
        "* << (left shift) \"This operator inserts a number of 0's from the right \n",
        "and let the same amount of leftmost bits fall off.\"\n",
        "\n",
        "* \\>> (right shift) \"This operator moves each bit the specified number of times to the right. Empty holes at the left are filled with 0's.\"\n",
        "\n",
        "\n",
        "---\n",
        "\n",
        "Decimal numbers and their binary values:\n",
        "\n",
        " 0 = 0000000000000000\n",
        "\n",
        " 1 = 0000000000000001\n",
        " \n",
        " 2 = 0000000000000010\n",
        " \n",
        " 3 = 0000000000000011\n",
        " \n",
        " 4 = 0000000000000100\n",
        " \n",
        " 5 = 0000000000000101\n",
        " \n",
        " 6 = 0000000000000110\n",
        " \n",
        " 7 = 0000000000000111\n",
        " \n",
        " 8 = 0000000000001000\n",
        " \n",
        " 9 = 0000000000001001\n",
        "\n",
        "10 = 0000000000001010\n",
        "\n",
        "11 = 0000000000001011\n",
        "\n",
        "12 = 0000000000001100"
      ],
      "metadata": {
        "id": "dSv1JWhXWWWj"
      }
    },
    {
      "cell_type": "code",
      "source": [
        "#Bitwise AND (&) operator - logical conjuction\n",
        "# 6 = 0000000000000110\n",
        "# 3 = 0000000000000011\n",
        "#----------------------\n",
        "# 2 = 0000000000000010\n",
        "\n",
        "print(6&3)"
      ],
      "metadata": {
        "colab": {
          "base_uri": "https://localhost:8080/"
        },
        "id": "IUpUlclzkhLO",
        "outputId": "c2d4b74f-5bc8-4fd7-da31-3b673bac9476"
      },
      "execution_count": 100,
      "outputs": [
        {
          "output_type": "stream",
          "name": "stdout",
          "text": [
            "2\n"
          ]
        }
      ]
    },
    {
      "cell_type": "code",
      "source": [
        "#Bitwise OR (|) operator - logical conjuction\n",
        "# 6 = 0000000000000110\n",
        "# 3 = 0000000000000011\n",
        "#----------------------\n",
        "# 2 = 0000000000000111\n",
        "\n",
        "print(6|3)"
      ],
      "metadata": {
        "colab": {
          "base_uri": "https://localhost:8080/"
        },
        "outputId": "e1c5d1ee-eddd-4868-a70b-9e092fc505e1",
        "id": "picPCJwPFNUW"
      },
      "execution_count": 101,
      "outputs": [
        {
          "output_type": "stream",
          "name": "stdout",
          "text": [
            "7\n"
          ]
        }
      ]
    },
    {
      "cell_type": "code",
      "source": [
        "#Bitwise NOT (~) operator - logical negation\n",
        "#  3 = 0000000000000011\n",
        "#--------------------------\n",
        "# -4 = 1111111111111100\n",
        "\n",
        "print(~3)"
      ],
      "metadata": {
        "colab": {
          "base_uri": "https://localhost:8080/"
        },
        "outputId": "c6f94e6f-061c-4bab-e486-0f405714d349",
        "id": "FjBa65fHlc90"
      },
      "execution_count": 103,
      "outputs": [
        {
          "output_type": "stream",
          "name": "stdout",
          "text": [
            "-4\n"
          ]
        }
      ]
    },
    {
      "cell_type": "code",
      "source": [
        "#Bitwise XOR (^) operator - \"exclusive or\"\n",
        "# 6 = 0000000000000110\n",
        "# 3 = 0000000000000011\n",
        "#--------------------------\n",
        "# 5 = 0000000000000101\n",
        "\n",
        "print(6^3)"
      ],
      "metadata": {
        "colab": {
          "base_uri": "https://localhost:8080/"
        },
        "outputId": "d2ef22bd-67e4-4838-cc68-89ade9b60347",
        "id": "ZsOpTWkrkA7q"
      },
      "execution_count": 104,
      "outputs": [
        {
          "output_type": "stream",
          "name": "stdout",
          "text": [
            "5\n"
          ]
        }
      ]
    },
    {
      "cell_type": "code",
      "source": [
        "#Bitwise << operator - \"inserts zeroes to the right side\"\n",
        "# 3 = 00000000000000011\n",
        "#-------------------------\n",
        "# 12 = 0000000000001100\n",
        "\n",
        "print(3<<2)"
      ],
      "metadata": {
        "colab": {
          "base_uri": "https://localhost:8080/"
        },
        "id": "Ou_V-jQmUTNS",
        "outputId": "95dd90ec-44ca-455b-ea03-11dff48c63e4"
      },
      "execution_count": 106,
      "outputs": [
        {
          "output_type": "stream",
          "name": "stdout",
          "text": [
            "12\n"
          ]
        }
      ]
    },
    {
      "cell_type": "code",
      "source": [
        "#Bitwise >> operator - \"inserts zeroes to the left side\"\n",
        "# 8 = 0000000000001000\n",
        "#------------------------\n",
        "# 2 = 0000000000000010\n",
        "\n",
        "print(8>>2)"
      ],
      "metadata": {
        "colab": {
          "base_uri": "https://localhost:8080/"
        },
        "id": "ULHxaUvxVfOO",
        "outputId": "c2b9ec5d-c5e8-463d-9b5f-3931a4f18925"
      },
      "execution_count": 107,
      "outputs": [
        {
          "output_type": "stream",
          "name": "stdout",
          "text": [
            "2\n"
          ]
        }
      ]
    },
    {
      "cell_type": "markdown",
      "source": [
        "**Comparison operators**\n",
        "\n",
        "* Equal:\tx == y\t\n",
        "* Not equal:\tx != y\t\n",
        "* Greater than:\tx > y\t\n",
        "* Less than:\tx < y\t\n",
        "* Greater than or equal to:\tx >= y\t\n",
        "* Less than or equal to:\tx <= y"
      ],
      "metadata": {
        "id": "uagFWAzYlKYW"
      }
    },
    {
      "cell_type": "code",
      "source": [
        "# Equal\n",
        "myFirstVariable = 10.0\n",
        "mySecondVariable = 10.0\n",
        "if myFirstVariable==mySecondVariable:\n",
        "  print(\"True\")"
      ],
      "metadata": {
        "colab": {
          "base_uri": "https://localhost:8080/"
        },
        "id": "_kQ7xO_WQ6Wo",
        "outputId": "89361a80-7185-4e5d-f4ed-90f24212b430"
      },
      "execution_count": 3,
      "outputs": [
        {
          "output_type": "stream",
          "name": "stdout",
          "text": [
            "True\n"
          ]
        }
      ]
    },
    {
      "cell_type": "code",
      "source": [
        "# Not equal\n",
        "myFirstVariable = 10.0\n",
        "mySecondVariable = 10.0\n",
        "if myFirstVariable!=mySecondVariable:\n",
        "  print(\"True\")\n",
        "elif myFirstVariable==mySecondVariable:\n",
        "  print(\"False\")"
      ],
      "metadata": {
        "colab": {
          "base_uri": "https://localhost:8080/"
        },
        "outputId": "0e889983-96c1-464d-d700-f8104cf6fd67",
        "id": "npZBbm8BRpr8"
      },
      "execution_count": 10,
      "outputs": [
        {
          "output_type": "stream",
          "name": "stdout",
          "text": [
            "False\n"
          ]
        }
      ]
    },
    {
      "cell_type": "code",
      "source": [
        "# Grater than\n",
        "myFirstVariable = 10.0\n",
        "mySecondVariable = 10.0\n",
        "if myFirstVariable>mySecondVariable:\n",
        "  print(\"True\")\n",
        "else:\n",
        "  print(\"False\")"
      ],
      "metadata": {
        "colab": {
          "base_uri": "https://localhost:8080/"
        },
        "outputId": "4ea621b1-db56-42c5-f205-9529b7cb12d9",
        "id": "lX72d5SJSVOK"
      },
      "execution_count": 11,
      "outputs": [
        {
          "output_type": "stream",
          "name": "stdout",
          "text": [
            "False\n"
          ]
        }
      ]
    },
    {
      "cell_type": "code",
      "source": [
        "# Less than\n",
        "myFirstVariable = 10.0\n",
        "mySecondVariable = 10.0\n",
        "if myFirstVariable>mySecondVariable:\n",
        "  print(\"True\")\n",
        "else:\n",
        "  print(\"False\")"
      ],
      "metadata": {
        "colab": {
          "base_uri": "https://localhost:8080/"
        },
        "outputId": "5a0cc7cf-af49-4a50-b04b-90e86ef50a31",
        "id": "x8Up6YBhSvnr"
      },
      "execution_count": 14,
      "outputs": [
        {
          "output_type": "stream",
          "name": "stdout",
          "text": [
            "False\n"
          ]
        }
      ]
    },
    {
      "cell_type": "code",
      "source": [
        "# Greater than or equal to\n",
        "myFirstVariable = 10.0\n",
        "mySecondVariable = 10.0\n",
        "if myFirstVariable>=mySecondVariable:\n",
        "  print(\"True\")\n",
        "else:\n",
        "  print(\"False\")"
      ],
      "metadata": {
        "colab": {
          "base_uri": "https://localhost:8080/"
        },
        "id": "VgG7LVQFSzTV",
        "outputId": "1b9decac-0940-4e81-8d39-416dc6bd37b3"
      },
      "execution_count": 15,
      "outputs": [
        {
          "output_type": "stream",
          "name": "stdout",
          "text": [
            "True\n"
          ]
        }
      ]
    },
    {
      "cell_type": "code",
      "source": [
        "# Less than or equal to\n",
        "myFirstVariable = 10.0\n",
        "mySecondVariable = 10.0\n",
        "if myFirstVariable<=mySecondVariable:\n",
        "  print(\"True\")\n",
        "else:\n",
        "  print(\"False\")"
      ],
      "metadata": {
        "colab": {
          "base_uri": "https://localhost:8080/"
        },
        "id": "eSQ4W84gTDFO",
        "outputId": "ec4b6a02-bb41-40df-bbed-e8a27eb19abe"
      },
      "execution_count": 16,
      "outputs": [
        {
          "output_type": "stream",
          "name": "stdout",
          "text": [
            "True\n"
          ]
        }
      ]
    },
    {
      "cell_type": "code",
      "source": [
        "# Short hand 1\n",
        "myFirstVariable = 10.0\n",
        "mySecondVariable = 10.0\n",
        "if myFirstVariable<=mySecondVariable:print(\"True\")\n",
        "else:print(\"False\")"
      ],
      "metadata": {
        "colab": {
          "base_uri": "https://localhost:8080/"
        },
        "outputId": "1bc70aae-4150-4530-bf7d-e1db6e8c3481",
        "id": "QvYoGjp7TTsn"
      },
      "execution_count": 18,
      "outputs": [
        {
          "output_type": "stream",
          "name": "stdout",
          "text": [
            "True\n"
          ]
        }
      ]
    },
    {
      "cell_type": "code",
      "source": [
        "# Short hand 2\n",
        "myFirstVariable = 10.0\n",
        "mySecondVariable = 10.0\n",
        "print(\"True\")if myFirstVariable<=mySecondVariable else print(\"False\")"
      ],
      "metadata": {
        "colab": {
          "base_uri": "https://localhost:8080/"
        },
        "outputId": "2908b000-f916-4fdb-8225-21a46baa93d4",
        "id": "utE1Y3HzTk_I"
      },
      "execution_count": 35,
      "outputs": [
        {
          "output_type": "stream",
          "name": "stdout",
          "text": [
            "True\n"
          ]
        }
      ]
    },
    {
      "cell_type": "markdown",
      "source": [
        "Identity operators\n",
        "\n",
        "Identity operators compare the objects, they do not compare the values stored in the objects but the memory locations.\n",
        "\n",
        "\n",
        "\n",
        "---\n",
        "\n",
        "is \n",
        "\n",
        "is not"
      ],
      "metadata": {
        "id": "xh2UcC1mBS8z"
      }
    },
    {
      "cell_type": "code",
      "source": [
        "# is identity operator\n",
        "\n",
        "myFirstVariable = [1,2,3,4,5]\n",
        "mySecondVariable = [1,2,3,4,5]\n",
        "\n",
        "myThirdVariable = myFirstVariable\n",
        "\n",
        "print(myFirstVariable is myThirdVariable) # should return true, the same object\n",
        "print(myFirstVariable is mySecondVariable)\n",
        "print(myFirstVariable is not mySecondVariable)\n",
        "\n",
        "print(myFirstVariable==mySecondVariable) # True, because myFirstVariable is equal to mySecondVariable\n",
        "\n",
        "myThirdVariable.append(6)\n",
        "print(myFirstVariable)\n"
      ],
      "metadata": {
        "colab": {
          "base_uri": "https://localhost:8080/"
        },
        "id": "zY2EO7uXBohH",
        "outputId": "57ffaf9e-2f99-4208-8e98-1e65ef7a2d4e"
      },
      "execution_count": 110,
      "outputs": [
        {
          "output_type": "stream",
          "name": "stdout",
          "text": [
            "True\n",
            "False\n",
            "True\n",
            "True\n",
            "[1, 2, 3, 4, 5, 6]\n"
          ]
        }
      ]
    },
    {
      "cell_type": "markdown",
      "source": [
        "**Logical operators**\n",
        "\n",
        "* and, \tor, not"
      ],
      "metadata": {
        "id": "FkVIp8LinL5v"
      }
    },
    {
      "cell_type": "code",
      "source": [
        "# Logical and operator\n",
        "myFirstVariable = 10.0\n",
        "mySecondVariable = 10.0\n",
        "myThirdVariable = 20.0\n",
        "if myFirstVariable<myThirdVariable and myFirstVariable==mySecondVariable:\n",
        "  print(\"Both conditions are True\")\n",
        "else:\n",
        "  print(\"False\")"
      ],
      "metadata": {
        "colab": {
          "base_uri": "https://localhost:8080/"
        },
        "outputId": "0d372aa9-edbc-4b9f-de89-ec112d717324",
        "id": "MX4a36a_URRQ"
      },
      "execution_count": 31,
      "outputs": [
        {
          "output_type": "stream",
          "name": "stdout",
          "text": [
            "Both conditions are True\n"
          ]
        }
      ]
    },
    {
      "cell_type": "code",
      "source": [
        "# Logical or operator\n",
        "myFirstVariable = 10.0\n",
        "mySecondVariable = 10.0\n",
        "myThirdVariable = 20.0\n",
        "if myFirstVariable<myThirdVariable or myFirstVariable<mySecondVariable:\n",
        "  print(\"At least one of the conditions is True\")\n",
        "else:\n",
        "  print(\"False\")"
      ],
      "metadata": {
        "colab": {
          "base_uri": "https://localhost:8080/"
        },
        "outputId": "c152ee00-bdc5-4632-aff3-c9518d8c012a",
        "id": "UCX_07cjUpyO"
      },
      "execution_count": 30,
      "outputs": [
        {
          "output_type": "stream",
          "name": "stdout",
          "text": [
            "At least one of the conditions is True\n"
          ]
        }
      ]
    },
    {
      "cell_type": "code",
      "source": [
        "# Logical not operator\n",
        "myFirstVariable = 10.0\n",
        "mySecondVariable = 10.0\n",
        "myThirdVariable = 20.0\n",
        "if not myFirstVariable>myThirdVariable:\n",
        "  print(\"myFirstVariable is not greater than myThirdVariable\")\n",
        "else:\n",
        "  print(\"False\")"
      ],
      "metadata": {
        "colab": {
          "base_uri": "https://localhost:8080/"
        },
        "outputId": "125f680c-04a6-45d2-8856-5462c4257895",
        "id": "w5ZWafmIUvlW"
      },
      "execution_count": 33,
      "outputs": [
        {
          "output_type": "stream",
          "name": "stdout",
          "text": [
            "myFirstVariable is not greater than myThirdVariable\n"
          ]
        }
      ]
    },
    {
      "cell_type": "markdown",
      "source": [
        "**Operator precedence**\n",
        "\n",
        "* Parentheses: ()\t\n",
        "* Exponentiation: **\t\n",
        "* Unary: +x,  -x,  ~x\t\n",
        "* Arithmetic: *,  /,  //,  %, +, -\n",
        "* Bitwise: <<, >>, AND, ^, |\t\n",
        "* Comparison: ==,  !=,  >,  >=,  <,  <=  \n",
        "* Identity: is,  is not,  in,  not in"
      ],
      "metadata": {
        "id": "nlZDopcUp9wr"
      }
    },
    {
      "cell_type": "markdown",
      "source": [
        "More details on operators can be found at https://www.w3schools.com/python/default.asp"
      ],
      "metadata": {
        "id": "cQfnKrvou5LP"
      }
    },
    {
      "cell_type": "markdown",
      "source": [
        "# 5. Control flows\n",
        "\n",
        "* Sequential\n",
        "* Decision\n",
        "* Repetition\n",
        "* Functions"
      ],
      "metadata": {
        "id": "ufdAAkIbhk9M"
      }
    },
    {
      "cell_type": "code",
      "source": [
        "#The sequential control flow\n",
        "\n",
        "myFirstVariable = 20\n",
        "mySecondVariable = 15\n",
        "\n",
        "Subtraction = myFirstVariable - mySecondVariable\n",
        "\n",
        "print(Subtraction)"
      ],
      "metadata": {
        "colab": {
          "base_uri": "https://localhost:8080/"
        },
        "id": "5jONu7HDWlJb",
        "outputId": "423acca3-c3e2-4697-94b6-524e842bf532"
      },
      "execution_count": 130,
      "outputs": [
        {
          "output_type": "stream",
          "name": "stdout",
          "text": [
            "5\n"
          ]
        }
      ]
    },
    {
      "cell_type": "code",
      "source": [
        "#The decision control statements\n",
        "\n",
        "# if\n",
        "# if-else\n",
        "# nested if\n",
        "# if-elif-else"
      ],
      "metadata": {
        "id": "jjOHDceqejZh"
      },
      "execution_count": null,
      "outputs": []
    },
    {
      "cell_type": "code",
      "source": [
        "#The if statement\n",
        "\n",
        "myFirstVariable = 10\n",
        "if (myFirstVariable <=10): print(\"True\")"
      ],
      "metadata": {
        "colab": {
          "base_uri": "https://localhost:8080/"
        },
        "id": "oRWucK3we3g6",
        "outputId": "681c0cad-1dd4-473a-a265-db853ddee7f6"
      },
      "execution_count": 131,
      "outputs": [
        {
          "output_type": "stream",
          "name": "stdout",
          "text": [
            "True\n"
          ]
        }
      ]
    },
    {
      "cell_type": "code",
      "source": [
        "#The if statement\n",
        "myFirstVariable = 20\n",
        "if (myFirstVariable%2==0): print(\"myFirstVariable is an even number\")"
      ],
      "metadata": {
        "colab": {
          "base_uri": "https://localhost:8080/"
        },
        "id": "arypVhlrfb87",
        "outputId": "edc5e2bd-4b8a-4508-d35a-80ccfadca677"
      },
      "execution_count": 132,
      "outputs": [
        {
          "output_type": "stream",
          "name": "stdout",
          "text": [
            "myFirstVariable is an even number\n"
          ]
        }
      ]
    },
    {
      "cell_type": "code",
      "source": [
        "#The if-else statement\n",
        "\n",
        "myFirstVariable = 10\n",
        "if (myFirstVariable == 5): print(\"The value is 5\")\n",
        "else: print(\"The vlue is 10\")"
      ],
      "metadata": {
        "colab": {
          "base_uri": "https://localhost:8080/"
        },
        "id": "EeXiXiMcfMkz",
        "outputId": "1101640e-3a08-4ee3-a9f4-440f39aed0d3"
      },
      "execution_count": 136,
      "outputs": [
        {
          "output_type": "stream",
          "name": "stdout",
          "text": [
            "The vlue is 10\n"
          ]
        }
      ]
    },
    {
      "cell_type": "code",
      "source": [
        "#The if-else statement\n",
        "\n",
        "myFirstVariable = 11\n",
        "if (myFirstVariable % 2 == 0): print(\"My variable is even number\")\n",
        "else: print(\"My variable is an odd number\")"
      ],
      "metadata": {
        "colab": {
          "base_uri": "https://localhost:8080/"
        },
        "id": "IP_hJ45UgJeX",
        "outputId": "3df170f8-3c4c-42ac-b8df-0bd186c4bd05"
      },
      "execution_count": 138,
      "outputs": [
        {
          "output_type": "stream",
          "name": "stdout",
          "text": [
            "My variable is an odd number\n"
          ]
        }
      ]
    },
    {
      "cell_type": "code",
      "source": [
        "#The nested if statements\n",
        "\n",
        "myFistVaraiable = 10\n",
        "mySecondVariable = 20\n",
        "myThirdVariable =30\n",
        "\n",
        "if (myFirstVariable > mySecondVariable):\n",
        "\n",
        "    if (myFirstVariable > myThirdVariable):\n",
        "      print(\"The value of myFirstVariable is too big\")\n",
        "    else:\n",
        "      print(\"My second variable is too big\")\n",
        "\n",
        "elif (mySecondVariable > myThirdVariable):\n",
        "  print(\"My second variable is too big\")\n",
        "\n",
        "else:\n",
        "  print(\"My first variable is too small\")"
      ],
      "metadata": {
        "colab": {
          "base_uri": "https://localhost:8080/"
        },
        "id": "J0oBb9LZhdIJ",
        "outputId": "ad01d2c5-c684-4493-e594-4cf9a7e2fb39"
      },
      "execution_count": 144,
      "outputs": [
        {
          "output_type": "stream",
          "name": "stdout",
          "text": [
            "My first variable is too small\n"
          ]
        }
      ]
    },
    {
      "cell_type": "code",
      "source": [
        "#The if-elif-else statement\n",
        "myFirstVariable = 10\n",
        "mySecondVariable = 20\n",
        "\n",
        "if (myFirstVariable==mySecondVariable):\n",
        "  print(\"Both variables are equal\")\n",
        "elif (myFirstVariable > mySecondVariable):\n",
        "  print(\"The first variable is greater then the second one\")\n",
        "else:\n",
        "  print(\"My first variable is smaller than my second one\")"
      ],
      "metadata": {
        "colab": {
          "base_uri": "https://localhost:8080/"
        },
        "id": "lAbgucsvi70W",
        "outputId": "5def016f-05f7-4400-f22e-3384126c1623"
      },
      "execution_count": 146,
      "outputs": [
        {
          "output_type": "stream",
          "name": "stdout",
          "text": [
            "My first variable is smaller than my second one\n"
          ]
        }
      ]
    },
    {
      "cell_type": "code",
      "source": [
        "#The repetition control statements\n",
        "# for loop\n",
        "# while loop"
      ],
      "metadata": {
        "id": "GG5MLHQrkCNn"
      },
      "execution_count": null,
      "outputs": []
    },
    {
      "cell_type": "code",
      "source": [
        "#The \"for\" loop\n",
        "\n",
        "myFirsrtList = [1,2,3,4,5]\n",
        "\n",
        "for i in myFirstList:\n",
        "  print(\"i \" + str(i))"
      ],
      "metadata": {
        "colab": {
          "base_uri": "https://localhost:8080/"
        },
        "id": "tWpwraWylN5H",
        "outputId": "1592520a-b501-4ae9-8cf5-78215f1a7cc4"
      },
      "execution_count": 149,
      "outputs": [
        {
          "output_type": "stream",
          "name": "stdout",
          "text": [
            "i 1\n",
            "i 2\n",
            "i 3\n",
            "i 4\n",
            "i 5\n"
          ]
        }
      ]
    },
    {
      "cell_type": "code",
      "source": [
        "#The \"for\" loop statement\n",
        "\n",
        "myFirstList = [1,2,3,4,5]\n",
        "\n",
        "for i in range(len(myFirstList)):\n",
        "  print(myFirstList[i], end = \"\")\n",
        "\n",
        "  "
      ],
      "metadata": {
        "colab": {
          "base_uri": "https://localhost:8080/"
        },
        "id": "vWqvbDWAllpR",
        "outputId": "fbe8ac8f-4d59-4d50-8f1c-c3746463ebfc"
      },
      "execution_count": 150,
      "outputs": [
        {
          "output_type": "stream",
          "name": "stdout",
          "text": [
            "12345"
          ]
        }
      ]
    },
    {
      "cell_type": "code",
      "source": [
        "# The \"while\" loop statement\n",
        "\n",
        "myFirstVariable = 5\n",
        "i = 0\n",
        "\n",
        "while i < myFirstVariable:\n",
        "  print(i, end=\"\")\n",
        "  i+=1 # i = i +1"
      ],
      "metadata": {
        "colab": {
          "base_uri": "https://localhost:8080/"
        },
        "id": "iONeLn_OmUML",
        "outputId": "632621d7-622d-4f33-8b54-b507a690dd55"
      },
      "execution_count": 160,
      "outputs": [
        {
          "output_type": "stream",
          "name": "stdout",
          "text": [
            "01234"
          ]
        }
      ]
    },
    {
      "cell_type": "code",
      "source": [
        "#The \"while\" loop statement\n",
        "myFirstVariable = 10\n",
        "i = 0\n",
        "\n",
        "while i<=myFirstVariable:\n",
        "  i+=1\n",
        "  print(i, end=\"\")"
      ],
      "metadata": {
        "colab": {
          "base_uri": "https://localhost:8080/"
        },
        "id": "O6w9WQ6Km_Jv",
        "outputId": "51d6eca2-4307-4054-f2c6-3618ca352c2f"
      },
      "execution_count": 158,
      "outputs": [
        {
          "output_type": "stream",
          "name": "stdout",
          "text": [
            "1234567891011"
          ]
        }
      ]
    },
    {
      "cell_type": "markdown",
      "source": [
        "The break and continue statements"
      ],
      "metadata": {
        "id": "bM6lXGQ0nu98"
      }
    },
    {
      "cell_type": "code",
      "source": [
        "#The break statement\n",
        "\n",
        "i = 0\n",
        "while i < 5:\n",
        "  print(i)\n",
        "  if i ==4: \n",
        "    break     #stops the loop even with the while condition is being true\n",
        "  i+=1"
      ],
      "metadata": {
        "colab": {
          "base_uri": "https://localhost:8080/"
        },
        "id": "KegP_whenyWD",
        "outputId": "e3882358-7acf-4d4b-9466-f4b6976a9e3c"
      },
      "execution_count": 162,
      "outputs": [
        {
          "output_type": "stream",
          "name": "stdout",
          "text": [
            "0\n",
            "1\n",
            "2\n",
            "3\n",
            "4\n"
          ]
        }
      ]
    },
    {
      "cell_type": "code",
      "source": [
        "#The while continue statement\n",
        "\n",
        "i = 0\n",
        "while i < 5:\n",
        "  i+=1\n",
        "  if i==4:\n",
        "    continue\n",
        "  print(i)"
      ],
      "metadata": {
        "colab": {
          "base_uri": "https://localhost:8080/"
        },
        "id": "GL4LSwifoWp_",
        "outputId": "e4548a31-5d53-4359-b49f-743dfb55b310"
      },
      "execution_count": 163,
      "outputs": [
        {
          "output_type": "stream",
          "name": "stdout",
          "text": [
            "1\n",
            "2\n",
            "3\n",
            "5\n"
          ]
        }
      ]
    },
    {
      "cell_type": "code",
      "source": [
        "#The else statement\n",
        "\n",
        "i = 0\n",
        "\n",
        "while i < 5:\n",
        "  print(i)\n",
        "  i+=1\n",
        "else:\n",
        "  print(\"i is not less than 5 anymore\")\n"
      ],
      "metadata": {
        "colab": {
          "base_uri": "https://localhost:8080/"
        },
        "id": "6kiTek88oo5y",
        "outputId": "3a08c3e8-15b9-4a60-e614-958d3e956576"
      },
      "execution_count": 164,
      "outputs": [
        {
          "output_type": "stream",
          "name": "stdout",
          "text": [
            "0\n",
            "1\n",
            "2\n",
            "3\n",
            "4\n",
            "i is not less than 5 anymore\n"
          ]
        }
      ]
    },
    {
      "cell_type": "code",
      "source": [
        "# Functions\n",
        "\n",
        "def myFirstFunction():\n",
        "  print(\"Hello World!\")\n",
        "\n",
        "myFirstFunction()"
      ],
      "metadata": {
        "colab": {
          "base_uri": "https://localhost:8080/"
        },
        "id": "CmxKjXaipd6l",
        "outputId": "13600836-b854-4ac9-a241-5d9a5e487864"
      },
      "execution_count": 166,
      "outputs": [
        {
          "output_type": "stream",
          "name": "stdout",
          "text": [
            "Hello World!\n"
          ]
        }
      ]
    },
    {
      "cell_type": "code",
      "source": [
        "# Functions\n",
        "\n",
        "def mySecondFunction(PersonsName):\n",
        "  print(PersonsName)\n",
        "\n",
        "mySecondFunction(\"Oleg\")\n",
        "mySecondFunction(\"Jason\")"
      ],
      "metadata": {
        "colab": {
          "base_uri": "https://localhost:8080/"
        },
        "id": "boytjDE8pq3n",
        "outputId": "a162ac19-70c1-4984-fd7c-d418404c7d90"
      },
      "execution_count": 168,
      "outputs": [
        {
          "output_type": "stream",
          "name": "stdout",
          "text": [
            "Oleg\n",
            "Jason\n"
          ]
        }
      ]
    },
    {
      "cell_type": "code",
      "source": [
        "# Functions: parameter - inside of the parenthesis of function defenition.\n",
        "# Functions: argument - the value passed to the function when it is called.\n",
        "\n",
        "def myThirdFunction(myFirstName, mySecondName ): #parameters inside of the ()\n",
        "  print(myFirstName + \"  \" + mySecondName)\n",
        "\n",
        "myThirdFunction(\"Olaf\", \"Kalfeoie\") #arguments passed to the function"
      ],
      "metadata": {
        "colab": {
          "base_uri": "https://localhost:8080/"
        },
        "id": "5i5F-obtqTLl",
        "outputId": "1679bab8-903c-4686-a36a-8c2ed7ca0de8"
      },
      "execution_count": 172,
      "outputs": [
        {
          "output_type": "stream",
          "name": "stdout",
          "text": [
            "Olaf  Kalfeoie\n"
          ]
        }
      ]
    },
    {
      "cell_type": "code",
      "source": [
        "#Arbitrary number of arguments\n",
        "\n",
        "def myFifthFunction(*names):\n",
        "  print(names)\n",
        "\n",
        "myFifthFunction(\"Olaf\", \"Stella\", \"Klaus\")"
      ],
      "metadata": {
        "colab": {
          "base_uri": "https://localhost:8080/"
        },
        "id": "nqFeTyLUrQeW",
        "outputId": "55a5ca03-9d57-46fe-ddd5-7eafcc28da01"
      },
      "execution_count": 173,
      "outputs": [
        {
          "output_type": "stream",
          "name": "stdout",
          "text": [
            "('Olaf', 'Stella', 'Klaus')\n"
          ]
        }
      ]
    },
    {
      "cell_type": "code",
      "source": [
        "# Sending arguments with the key=value syntax\n",
        "\n",
        "def myRegularFunction(name1, name2, name3):\n",
        "  print(name1, name2, name3)\n",
        "\n",
        "myRegularFunction(name1=\"Olaf\", name2=\"Holiaf\", name3=\"Linux\")"
      ],
      "metadata": {
        "colab": {
          "base_uri": "https://localhost:8080/"
        },
        "id": "oCkZZY-GsPdH",
        "outputId": "0d5b8c0b-3fc0-4ca4-8c31-3671ca03a5ce"
      },
      "execution_count": 174,
      "outputs": [
        {
          "output_type": "stream",
          "name": "stdout",
          "text": [
            "Olaf Holiaf Linux\n"
          ]
        }
      ]
    },
    {
      "cell_type": "markdown",
      "source": [
        "The keyword arguments are often shortened as kwargs "
      ],
      "metadata": {
        "id": "2FBaqL8XsuBm"
      }
    },
    {
      "cell_type": "code",
      "source": [
        "#If the number of key words arguments is unknown\n",
        "\n",
        "def myRegularFunction(**name):\n",
        "  print(name)\n",
        "\n",
        "myRegularFunction(myFirstName = \"Oleaf\", myLastName=\"Kwwiec\", myMiddleName = \"Komntras\")"
      ],
      "metadata": {
        "colab": {
          "base_uri": "https://localhost:8080/"
        },
        "id": "OFBpGrPCs21Z",
        "outputId": "cf246353-9d62-4ed9-b32a-1b3a7829c805"
      },
      "execution_count": 177,
      "outputs": [
        {
          "output_type": "stream",
          "name": "stdout",
          "text": [
            "{'myFirstName': 'Oleaf', 'myLastName': 'Kwwiec', 'myMiddleName': 'Komntras'}\n"
          ]
        }
      ]
    },
    {
      "cell_type": "code",
      "source": [
        "# default parameter in function statement\n",
        "\n",
        "def myRegularFunction(x,y,z=10):\n",
        "  print(x,\" \",y,\" \", z)\n",
        "\n",
        "myRegularFunction(0.2, 0.35)\n",
        "myRegularFunction(0.3, 0.45, 23456)"
      ],
      "metadata": {
        "colab": {
          "base_uri": "https://localhost:8080/"
        },
        "id": "LwyW8wd8tx1Y",
        "outputId": "7f197bec-14fc-4b8a-c225-291e8bf13975"
      },
      "execution_count": 180,
      "outputs": [
        {
          "output_type": "stream",
          "name": "stdout",
          "text": [
            "0.2   0.35   10\n",
            "0.3   0.45   23456\n"
          ]
        }
      ]
    },
    {
      "cell_type": "code",
      "source": [
        "#Function overlaoding is not supported\n",
        "\n",
        "def MyOverloadingFunction(x=52):\n",
        "  print(x)\n",
        "\n",
        "MyOverloadingFunction(1.0)"
      ],
      "metadata": {
        "colab": {
          "base_uri": "https://localhost:8080/"
        },
        "id": "uFksla-JudRS",
        "outputId": "4e821220-23fc-4c42-9372-a5b6d4e6eaf4"
      },
      "execution_count": 186,
      "outputs": [
        {
          "output_type": "stream",
          "name": "stdout",
          "text": [
            "1.0\n"
          ]
        }
      ]
    },
    {
      "cell_type": "code",
      "source": [
        "#Passing a list of arguments\n",
        "\n",
        "def myRegularFunction(fish):\n",
        "  for i in fish:\n",
        "    print(i)\n",
        "\n",
        "fish=[\"Carp\",\"Bass\",\"Red Snapper\", \"Labeo culbasu\", \"Chanda Nama\", \"Ruffe\"]\n",
        "\n",
        "myRegularFunction(fish)"
      ],
      "metadata": {
        "colab": {
          "base_uri": "https://localhost:8080/"
        },
        "id": "ylLWPkYKvhGi",
        "outputId": "c9a6a178-64e4-4986-8938-f42e5a5da6ae"
      },
      "execution_count": 191,
      "outputs": [
        {
          "output_type": "stream",
          "name": "stdout",
          "text": [
            "Carp\n",
            "Bass\n",
            "Red Snapper\n",
            "Labeo culbasu\n",
            "Chanda Nama\n",
            "Ruffe\n"
          ]
        }
      ]
    },
    {
      "cell_type": "code",
      "source": [
        "#To return the value of the function use return statement\n",
        "\n",
        "def myMathFunction(x,y,z):\n",
        "  return(x+y+z)\n",
        "\n",
        "myMathFunction(1,2,3)"
      ],
      "metadata": {
        "colab": {
          "base_uri": "https://localhost:8080/"
        },
        "id": "O-Br9VO4wAKo",
        "outputId": "f297ec56-c0ac-494a-d1be-04569bec9520"
      },
      "execution_count": 188,
      "outputs": [
        {
          "output_type": "execute_result",
          "data": {
            "text/plain": [
              "6"
            ]
          },
          "metadata": {},
          "execution_count": 188
        }
      ]
    },
    {
      "cell_type": "code",
      "source": [
        "#Empty function\n",
        "\n",
        "def myRegularFunction():\n",
        "  pass"
      ],
      "metadata": {
        "id": "4Rsre7NGxaTz"
      },
      "execution_count": 192,
      "outputs": []
    },
    {
      "cell_type": "code",
      "source": [
        "#Recursion function - can call itself (5! = 1*2*3*4*5)\n",
        "\n",
        "def myRecursiveFunction(x):\n",
        "  \"\"\" This is a recursive function to find a fuctorial\"\"\"\n",
        "  if x ==1:\n",
        "    return 1;\n",
        "  else:\n",
        "    return (x * myRecursiveFunction(x-1))\n",
        "\n",
        "x = 5\n",
        "print(\"The factorial of x\", x, \"is\", myRecursiveFunction(x))\n"
      ],
      "metadata": {
        "colab": {
          "base_uri": "https://localhost:8080/"
        },
        "id": "p3SipIbNxsp1",
        "outputId": "94f26048-ca87-4f11-cb17-02fe14c4e554"
      },
      "execution_count": 194,
      "outputs": [
        {
          "output_type": "stream",
          "name": "stdout",
          "text": [
            "The factorial of x 5 is 120\n"
          ]
        }
      ]
    },
    {
      "cell_type": "code",
      "source": [
        "# A lambda function can take any number of arguments but have only one expression\n",
        "# lambda arguments : expression\n",
        "\n",
        "myLambdaFunction = lambda a: a+10\n",
        "print(myLambdaFunction(10))"
      ],
      "metadata": {
        "colab": {
          "base_uri": "https://localhost:8080/"
        },
        "id": "42tLupuqzKxu",
        "outputId": "2f1a9796-6cbd-4db3-b678-d5ffae941629"
      },
      "execution_count": 195,
      "outputs": [
        {
          "output_type": "stream",
          "name": "stdout",
          "text": [
            "20\n"
          ]
        }
      ]
    },
    {
      "cell_type": "markdown",
      "source": [
        "# 6. File I/O"
      ],
      "metadata": {
        "id": "1tFhadtVhsYr"
      }
    },
    {
      "cell_type": "markdown",
      "source": [
        "# 7. Python modules"
      ],
      "metadata": {
        "id": "MM0wR2SEiFsa"
      }
    },
    {
      "cell_type": "markdown",
      "source": [
        "A file that contains a set of functions is called a module. This module can be accessed from a program using \"**import**\" keyword. A module can also contain variables of all data types. There are several built-in module that you can import. "
      ],
      "metadata": {
        "id": "7ouik1jTrxm-"
      }
    },
    {
      "cell_type": "code",
      "source": [
        "# import "
      ],
      "metadata": {
        "id": "uDTfAqzir-gN"
      },
      "execution_count": null,
      "outputs": []
    },
    {
      "cell_type": "markdown",
      "source": [
        "# 8. Classes\n",
        "\n",
        "\n",
        "\n",
        "---\n",
        "Python is an object-oriented high-level language. Everything is an object in python that contians properties and methods. \n"
      ],
      "metadata": {
        "id": "-G6SVv9MmBAR"
      }
    },
    {
      "cell_type": "code",
      "source": [
        "#Creating your first class\n",
        "\n",
        "class myFirstClass:\n",
        "      myFirstVariable = \"Name\"\n",
        "\n",
        "# Create an object named myFirstObject\n",
        "\n",
        "myFirstObject = myFirstClass()\n",
        "\n",
        "print(myFirstObject.myFirstVariable)"
      ],
      "metadata": {
        "colab": {
          "base_uri": "https://localhost:8080/"
        },
        "id": "dnPGxwL1XEdK",
        "outputId": "73576085-59f3-4c70-e19e-ace87544511e"
      },
      "execution_count": 113,
      "outputs": [
        {
          "output_type": "stream",
          "name": "stdout",
          "text": [
            "Name\n"
          ]
        }
      ]
    },
    {
      "cell_type": "code",
      "source": [
        "#Using _init_() function with classes\n",
        "\n",
        "class mySecondClass:\n",
        "      def __init__(self, name, age, occupation):\n",
        "        self.name = name\n",
        "        self.age = age\n",
        "        self.occupation = occupation\n",
        "\n",
        "mySecondObject = mySecondClass(\"John\", 48, \"Doctor\")\n",
        "\n",
        "print(mySecondObject.name)\n",
        "print(mySecondObject.age)\n",
        "print(mySecondObject.occupation)"
      ],
      "metadata": {
        "colab": {
          "base_uri": "https://localhost:8080/"
        },
        "id": "bYjwcX9ZX97R",
        "outputId": "7b359b9e-2e32-42ae-98ed-185039e88b03"
      },
      "execution_count": 116,
      "outputs": [
        {
          "output_type": "stream",
          "name": "stdout",
          "text": [
            "John\n",
            "48\n",
            "Doctor\n"
          ]
        }
      ]
    },
    {
      "cell_type": "markdown",
      "source": [
        "The __init__() function is called automatically everytime new object is created."
      ],
      "metadata": {
        "id": "6wgruaYIY95g"
      }
    },
    {
      "cell_type": "markdown",
      "source": [
        "\"The __str__() function controls what should be returned when the class object is represented as a string.\"\n",
        "\n",
        "\"If the __str__() function is not set, the string representation of the object is returned.\""
      ],
      "metadata": {
        "id": "z85vtZemadcB"
      }
    },
    {
      "cell_type": "code",
      "source": [
        "#The __str__() function\n",
        "\n",
        "class myThirdClass:\n",
        "  def __init__(self, name, age, occupation):\n",
        "    self.name = name\n",
        "    self.age = age\n",
        "    self.occupation = occupation\n",
        "\n",
        "  def __str__(self):\n",
        "    return f\"{self.name}\\\\{self.age}\\\\{self.occupation}\"\n",
        "\n",
        "myThirdObject = myThirdClass(\"John\", 48, \"Doctor\")\n",
        "\n",
        "print(myThirdObject)"
      ],
      "metadata": {
        "colab": {
          "base_uri": "https://localhost:8080/"
        },
        "id": "msteLr7XZVM9",
        "outputId": "61970533-fe78-4165-eb91-85ff7a638524"
      },
      "execution_count": 122,
      "outputs": [
        {
          "output_type": "stream",
          "name": "stdout",
          "text": [
            "John\\48\\Doctor\n"
          ]
        }
      ]
    },
    {
      "cell_type": "markdown",
      "source": [
        "Object Methods"
      ],
      "metadata": {
        "id": "baYgOUGtank2"
      }
    },
    {
      "cell_type": "code",
      "source": [
        "#Methods in classes\n",
        "\n",
        "class myFourthClass:\n",
        "  def __init__(self,name, age, occupation):\n",
        "    self.name = name\n",
        "    self.age = age\n",
        "    self.occupation = occupation\n",
        "\n",
        "  def myName(self):\n",
        "      print(\"Hello my name is \" + self.name)\n",
        "\n",
        "  def myAge(self):\n",
        "      print(\"My age is \" + str(self.age))\n",
        "\n",
        "  def myOccupation(self):\n",
        "      print(\"My occupation is \" + self.occupation)\n",
        "\n",
        "myFourthObject = myFourthClass(\"John\", 48, \"Doctor\")\n",
        "\n",
        "myFourthObject.myName()\n",
        "myFourthObject.myAge()\n",
        "myFourthObject.myOccupation()"
      ],
      "metadata": {
        "colab": {
          "base_uri": "https://localhost:8080/"
        },
        "id": "D6sfzGZ4apvL",
        "outputId": "867f11ba-e120-4c61-e801-3c211850172a"
      },
      "execution_count": 129,
      "outputs": [
        {
          "output_type": "stream",
          "name": "stdout",
          "text": [
            "Hello my name is John\n",
            "My age is 48\n",
            "My occupation is Doctor\n"
          ]
        }
      ]
    }
  ]
}