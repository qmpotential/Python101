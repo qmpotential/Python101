{
  "nbformat": 4,
  "nbformat_minor": 0,
  "metadata": {
    "colab": {
      "provenance": [],
      "toc_visible": true,
      "authorship_tag": "ABX9TyMvUI/3YkcmfgAh9SEy3uDU",
      "include_colab_link": true
    },
    "kernelspec": {
      "name": "python3",
      "display_name": "Python 3"
    },
    "language_info": {
      "name": "python"
    }
  },
  "cells": [
    {
      "cell_type": "markdown",
      "metadata": {
        "id": "view-in-github",
        "colab_type": "text"
      },
      "source": [
        "<a href=\"https://colab.research.google.com/github/qmpotential/Python101/blob/main/Python101.ipynb\" target=\"_parent\"><img src=\"https://colab.research.google.com/assets/colab-badge.svg\" alt=\"Open In Colab\"/></a>"
      ]
    },
    {
      "cell_type": "markdown",
      "source": [
        "**Introductin to Python**\n",
        "\n",
        "by Oleg N. Starovoytov\n",
        "\n",
        "Date: 03/22/2023"
      ],
      "metadata": {
        "id": "IIB88iwPO5F-"
      }
    },
    {
      "cell_type": "markdown",
      "source": [
        "# Python *101*\n",
        "1. Comments\n",
        "2. Variables and operators\n",
        "3. Data types\n",
        "4. Control flows\n",
        "5. File I/O\n",
        "6. Python modules\n",
        "7. Classes"
      ],
      "metadata": {
        "id": "Ptut8gykhIuv"
      }
    },
    {
      "cell_type": "markdown",
      "source": [
        "# 1. Comments"
      ],
      "metadata": {
        "id": "fKMS-GhxE04A"
      }
    },
    {
      "cell_type": "markdown",
      "source": [
        "Comments are usually used to indicate important details about the code.\n",
        "\n",
        "\"#\" - sign is used for comments in python, it can be placed right after the code. \n",
        "\n",
        "You can use triple quotes to make a multiline comments\n",
        "\n",
        "\"\"\" Your comments can be placed here \"\"\""
      ],
      "metadata": {
        "id": "95f_6_PbFDsk"
      }
    },
    {
      "cell_type": "code",
      "source": [
        "# This is a comment\n",
        "print(\"Hello World!\")"
      ],
      "metadata": {
        "colab": {
          "base_uri": "https://localhost:8080/"
        },
        "id": "EzgnB7SAF2Hs",
        "outputId": "613767df-1978-4e55-f2b3-5d7b519b0dfe"
      },
      "execution_count": 3,
      "outputs": [
        {
          "output_type": "stream",
          "name": "stdout",
          "text": [
            "Hello World!\n"
          ]
        }
      ]
    },
    {
      "cell_type": "code",
      "source": [
        "# This is a first comment\n",
        "print(\"Hello World!\") # This is my second comment"
      ],
      "metadata": {
        "colab": {
          "base_uri": "https://localhost:8080/"
        },
        "id": "NHQIdP0nF8IZ",
        "outputId": "54812f45-9d14-4c5b-935a-9f165e221b06"
      },
      "execution_count": 2,
      "outputs": [
        {
          "output_type": "stream",
          "name": "stdout",
          "text": [
            "Hello World!\n"
          ]
        }
      ]
    },
    {
      "cell_type": "code",
      "source": [
        "\"\"\" This is a multiple \n",
        "line\n",
        "commnet \"\"\"\n",
        "print(\"Hello World!\")"
      ],
      "metadata": {
        "colab": {
          "base_uri": "https://localhost:8080/"
        },
        "id": "oVfXjlu-GHb3",
        "outputId": "6cd8f02b-38a5-460d-e4ad-59349df6846c"
      },
      "execution_count": 1,
      "outputs": [
        {
          "output_type": "stream",
          "name": "stdout",
          "text": [
            "Hello World!\n"
          ]
        }
      ]
    },
    {
      "cell_type": "markdown",
      "source": [
        "# 2. Variables\n",
        "\n",
        "**A variable's name references or points to an object. Each object can have various data types with some stored values. No particular type is used upon variable declaration.**\n",
        "\n",
        "There are some rules for creating a variable name: \n",
        "\n",
        "a) a variable name must start with the letter or underscore (_),\n",
        "\n",
        "b) a variable name is case-sensitive,\n",
        "\n",
        "c) there is no limit on varable length,\n",
        "\n",
        "d) there should not be any spaces for a multi-word variable,\n",
        "\n",
        "e) no python keywords can be used to create a variable name,\n",
        "   \n",
        "   Examples: **for, while, print, ...**"
      ],
      "metadata": {
        "id": "Obdgar5uk9bO"
      }
    },
    {
      "cell_type": "code",
      "source": [
        "# Declaration of variables \n",
        "TestVariable = 1.0\n",
        "print(type(TestVariable))\n",
        "print(TestVariable)\n",
        "TestVariable = \"Python is fun!\"\n",
        "print(type(TestVariable))\n",
        "print(TestVariable)"
      ],
      "metadata": {
        "colab": {
          "base_uri": "https://localhost:8080/"
        },
        "id": "ulQ1wucCJWm_",
        "outputId": "cc4bbbb9-46f0-4f15-bde9-c61047d863ed"
      },
      "execution_count": 4,
      "outputs": [
        {
          "output_type": "stream",
          "name": "stdout",
          "text": [
            "<class 'float'>\n",
            "1.0\n",
            "<class 'str'>\n",
            "Python is fun!\n"
          ]
        }
      ]
    },
    {
      "cell_type": "code",
      "source": [
        "# Test for specific python keywords\n",
        "for = 34 "
      ],
      "metadata": {
        "colab": {
          "base_uri": "https://localhost:8080/",
          "height": 133
        },
        "id": "QBEKALBjJ34x",
        "outputId": "39477c6d-a107-43b6-8d65-a65ca4a69f4e"
      },
      "execution_count": 5,
      "outputs": [
        {
          "output_type": "error",
          "ename": "SyntaxError",
          "evalue": "ignored",
          "traceback": [
            "\u001b[0;36m  File \u001b[0;32m\"<ipython-input-5-7d33a77931a6>\"\u001b[0;36m, line \u001b[0;32m2\u001b[0m\n\u001b[0;31m    for = 34\u001b[0m\n\u001b[0m        ^\u001b[0m\n\u001b[0;31mSyntaxError\u001b[0m\u001b[0;31m:\u001b[0m invalid syntax\n"
          ]
        }
      ]
    },
    {
      "cell_type": "markdown",
      "source": [
        "Some other rules and conventions:\n"
      ],
      "metadata": {
        "id": "KbhL2URwEWcM"
      }
    },
    {
      "cell_type": "markdown",
      "source": [
        "   **Camel Case** - each word starts with a capital letter except the first one.\n",
        "\n",
        "   Example: **myVariableName**\n",
        "\n",
        "   **Pascal Case** - each word starts with a capital letter.\n",
        "\n",
        "   Example: **MyVariableName**\n",
        "\n",
        "   **Snake Case** - each word is connected by underscore.\n",
        "\n",
        "   Example: **my_variable_name**"
      ],
      "metadata": {
        "id": "PHyhHsIAEayp"
      }
    },
    {
      "cell_type": "markdown",
      "source": [
        "# 3. Operators"
      ],
      "metadata": {
        "id": "-Zj1keZUBjY4"
      }
    },
    {
      "cell_type": "markdown",
      "source": [
        "# 4. Data types"
      ],
      "metadata": {
        "id": "WMmwlGM-hbfY"
      }
    },
    {
      "cell_type": "markdown",
      "source": [
        "Variable types are determined dynamically at run time.\n",
        "To have a clear programming code you need to create a\n",
        "meaningful variable name."
      ],
      "metadata": {
        "id": "Ge9dBHDtEANE"
      }
    },
    {
      "cell_type": "markdown",
      "source": [
        "# 5. Control flows"
      ],
      "metadata": {
        "id": "ufdAAkIbhk9M"
      }
    },
    {
      "cell_type": "markdown",
      "source": [
        "# 6. File I/O"
      ],
      "metadata": {
        "id": "1tFhadtVhsYr"
      }
    },
    {
      "cell_type": "markdown",
      "source": [
        "# 7. Python modules"
      ],
      "metadata": {
        "id": "MM0wR2SEiFsa"
      }
    },
    {
      "cell_type": "markdown",
      "source": [
        "# 8. Classes"
      ],
      "metadata": {
        "id": "-G6SVv9MmBAR"
      }
    }
  ]
}