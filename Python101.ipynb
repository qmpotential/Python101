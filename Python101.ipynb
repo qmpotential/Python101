{
  "nbformat": 4,
  "nbformat_minor": 0,
  "metadata": {
    "colab": {
      "provenance": [],
      "toc_visible": true,
      "authorship_tag": "ABX9TyPjWR9THNcuE7pnJaAAm4DF",
      "include_colab_link": true
    },
    "kernelspec": {
      "name": "python3",
      "display_name": "Python 3"
    },
    "language_info": {
      "name": "python"
    }
  },
  "cells": [
    {
      "cell_type": "markdown",
      "metadata": {
        "id": "view-in-github",
        "colab_type": "text"
      },
      "source": [
        "<a href=\"https://colab.research.google.com/github/qmpotential/Python101/blob/main/Python101.ipynb\" target=\"_parent\"><img src=\"https://colab.research.google.com/assets/colab-badge.svg\" alt=\"Open In Colab\"/></a>"
      ]
    },
    {
      "cell_type": "markdown",
      "source": [
        "# **Introduction to Python**\n",
        "\n",
        "Date: May 25th, 2023\n",
        "\n",
        "LONI Scientific Computing Bootcamp\n",
        "\n",
        "by Oleg N. Starovoytov\n",
        "\n",
        "olegs@lsu.edu"
      ],
      "metadata": {
        "id": "IIB88iwPO5F-"
      }
    },
    {
      "cell_type": "markdown",
      "source": [
        "# Outline\n",
        "\n",
        "*   Section 1: **Python programming basics** \n",
        "\n",
        "*   Section 2: **Data collections** \n",
        "   \n",
        "*   Section 3: **Control flow** \n",
        "\n",
        "*   Section 4: **Functions** \n",
        "\n",
        "*   Section 5: **Modules** \n",
        "\n",
        "*   Section 6: **Classes** "
      ],
      "metadata": {
        "id": "Ptut8gykhIuv"
      }
    },
    {
      "cell_type": "markdown",
      "source": [
        "# Section 1: Python programming basics"
      ],
      "metadata": {
        "id": "fKMS-GhxE04A"
      }
    },
    {
      "cell_type": "markdown",
      "source": [
        "# Print function - print()\n",
        "\n",
        "---\n",
        "The print function allows you to print data to the screen. We are going to use the print function a lot and that is why I would like you to get familiar with this function first.\n",
        "\n",
        "---\n",
        "\n",
        "Syntax: print(arguments)"
      ],
      "metadata": {
        "id": "v1p1Jg8o0t0h"
      }
    },
    {
      "cell_type": "code",
      "source": [
        "# Using print function to display information on the screen\n",
        "\n",
        "print(\"Hello World!\")\n",
        "print(\"Hello World!\\n\")\n",
        "print(\"Hello \\nWorld\")\n",
        "print()\n",
        "print(\"Hello Students!\")"
      ],
      "metadata": {
        "colab": {
          "base_uri": "https://localhost:8080/"
        },
        "id": "SvLbKqgN3AZN",
        "outputId": "4c56d40f-3261-4ba9-82bf-a41f8825cfd1"
      },
      "execution_count": null,
      "outputs": [
        {
          "output_type": "stream",
          "name": "stdout",
          "text": [
            "Hello World!\n",
            "Hello World!\n",
            "\n",
            "Hello \n",
            "World\n",
            "\n",
            "Hello Students!\n"
          ]
        }
      ]
    },
    {
      "cell_type": "markdown",
      "source": [
        "# Comments\n",
        "\n",
        "---\n",
        "Comments are very important in the process of programming. It is encouraged to leave some comments inside of you code for better understanding of the code by other developers. Comments in Python language are made using \"#\" sign to comment a single line and \"\"\" quotes to comment multiple lines.\n",
        "\n",
        "---\n",
        "\n",
        "Syntax: # Single line comment \n"
      ],
      "metadata": {
        "id": "P735N2xU0feW"
      }
    },
    {
      "cell_type": "code",
      "source": [
        "# This is my first comment\n",
        "\n",
        "print(\"Hello World!\")"
      ],
      "metadata": {
        "colab": {
          "base_uri": "https://localhost:8080/"
        },
        "id": "EzgnB7SAF2Hs",
        "outputId": "f97dd647-f289-460f-e4e0-ed95cf8eaeb0"
      },
      "execution_count": null,
      "outputs": [
        {
          "output_type": "stream",
          "name": "stdout",
          "text": [
            "Hello World!\n"
          ]
        }
      ]
    },
    {
      "cell_type": "code",
      "source": [
        "# This is my second comment\n",
        "\n",
        "print(\"Hello World!\") # This is my third comment"
      ],
      "metadata": {
        "colab": {
          "base_uri": "https://localhost:8080/"
        },
        "id": "NHQIdP0nF8IZ",
        "outputId": "cf181202-46ef-4f04-f944-001fc4c823d8"
      },
      "execution_count": null,
      "outputs": [
        {
          "output_type": "stream",
          "name": "stdout",
          "text": [
            "Hello World!\n"
          ]
        }
      ]
    },
    {
      "cell_type": "code",
      "source": [
        "# This is my third comment\n",
        "\n",
        "''' This is a multiple \n",
        "    line\n",
        "    comment '''\n",
        "\n",
        "print(\"Hello World!\")"
      ],
      "metadata": {
        "colab": {
          "base_uri": "https://localhost:8080/"
        },
        "id": "d0bAZiB2FzEQ",
        "outputId": "22ed04b0-8fc4-454b-ef75-406a351a9bff"
      },
      "execution_count": null,
      "outputs": [
        {
          "output_type": "stream",
          "name": "stdout",
          "text": [
            "Hello World!\n"
          ]
        }
      ]
    },
    {
      "cell_type": "code",
      "source": [
        "# This is my fourth comment\n",
        "\n",
        "\"\"\" This is a multiple \n",
        "    line\n",
        "    comment \"\"\"\n",
        "\n",
        "print(\"Hello World!\")"
      ],
      "metadata": {
        "colab": {
          "base_uri": "https://localhost:8080/"
        },
        "id": "oVfXjlu-GHb3",
        "outputId": "923fcf4c-0a5f-4128-80e2-eee6508f4f8c"
      },
      "execution_count": null,
      "outputs": [
        {
          "output_type": "stream",
          "name": "stdout",
          "text": [
            "Hello World!\n"
          ]
        }
      ]
    },
    {
      "cell_type": "markdown",
      "source": [
        "# Note\n",
        "\n",
        "---\n",
        "Professional programmers include comments to the header of each file listing the author, date, a description of the code, some other important information, and any updates that have been made. See example below.\n",
        "\n",
        "---"
      ],
      "metadata": {
        "id": "ALsNm8DsLo2d"
      }
    },
    {
      "cell_type": "code",
      "source": [
        "# function sortedArray = sort(myFirstArray)\n",
        "\n",
        "# Author:  First name Second name (somename@address.edu)\n",
        "# Date:    12/10/1815\n",
        "# Updated: 06/10/1835\n",
        "# Description: The sort function is sorting an array of integers\n",
        "# Parameters: Array\n",
        "# Return: Sorted array\n",
        "# Example of usage: myFirstArray = [23,20,45,14,2]\n",
        "#                   sortedArray  = [2,14,20,23,45] "
      ],
      "metadata": {
        "id": "V0eM_w4IL85E"
      },
      "execution_count": null,
      "outputs": []
    },
    {
      "cell_type": "markdown",
      "source": [
        "# Variables\n",
        "\n",
        "\n",
        "---\n",
        "\n",
        "\n",
        "A variable's name references or points to an object. Each object can have various data types with some stored values. No particular type is used upon variable declaration.\n",
        "\n",
        "There are some rules for creating a variable name: \n",
        "\n",
        "a) A variable name can start with characters and/or underscore (A-z, and _ );\n",
        "\n",
        "b) a variable name is case-sensitive;\n",
        "\n",
        "c) there is no limit on varable length;\n",
        "\n",
        "d) there should not be any spaces for a multi-word variable;\n",
        "\n",
        "e) no python keywords can be used to create a variable name;\n",
        "   \n",
        "   Examples: for, while, print, ...\n",
        "\n",
        "To assign an object to the variable you need to use assign operator\n",
        "\n",
        "---\n",
        "\n",
        "Syntax: myVariable = value"
      ],
      "metadata": {
        "id": "Obdgar5uk9bO"
      }
    },
    {
      "cell_type": "code",
      "source": [
        "# Usual declaration of variables\n",
        "\n",
        "a = 1\n",
        "b = 'Hello World'\n",
        "c = -100000000000\n",
        "d = 0.345\n",
        "e = True\n",
        "f = 5.0E-51\n",
        "g = 1_000_000_000\n",
        "A_65_ASCII = \"A\"\n",
        "\n",
        "print(type(b))\n",
        "print(type(f))\n",
        "print(A_65_ASCII)\n",
        "print(ord(A_65_ASCII))\n",
        "print(type(g))"
      ],
      "metadata": {
        "colab": {
          "base_uri": "https://localhost:8080/"
        },
        "id": "DEUIIbhRRAfx",
        "outputId": "64cb8e03-b27b-4702-eded-55daefa5e838"
      },
      "execution_count": null,
      "outputs": [
        {
          "output_type": "stream",
          "name": "stdout",
          "text": [
            "<class 'str'>\n",
            "<class 'float'>\n",
            "A\n",
            "65\n",
            "<class 'int'>\n"
          ]
        }
      ]
    },
    {
      "cell_type": "markdown",
      "source": [
        "# Rules and conventions\n",
        "\n",
        "\n",
        "---\n",
        "   **Camel Case** - each word starts with a capital letter except the first one.\n",
        "\n",
        "   Example: **myVariableName**\n",
        "\n",
        "   **Pascal Case** - each word starts with a capital letter.\n",
        "\n",
        "   Example: **MyVariableName**\n",
        "\n",
        "   **Snake Case** - each word is connected by underscore.\n",
        "\n",
        "   Example: **my_variable_name**\n",
        "\n",
        "---\n"
      ],
      "metadata": {
        "id": "KbhL2URwEWcM"
      }
    },
    {
      "cell_type": "code",
      "source": [
        "# Declaration of a variable using Camel Case\n",
        "\n",
        "myFirstVariable = \"Camel Case\"\n",
        "print(myFirstVariable)"
      ],
      "metadata": {
        "colab": {
          "base_uri": "https://localhost:8080/"
        },
        "id": "ulabfaGSKdH2",
        "outputId": "4d9e726f-7392-49df-aeec-4b373ab0f73f"
      },
      "execution_count": null,
      "outputs": [
        {
          "output_type": "stream",
          "name": "stdout",
          "text": [
            "Camel Case\n"
          ]
        }
      ]
    },
    {
      "cell_type": "code",
      "source": [
        "# Declaration of a variable using Pascal Case\n",
        "\n",
        "MyFirstVariable = \"Pascal Case\"\n",
        "print(MyFirstVariable)"
      ],
      "metadata": {
        "colab": {
          "base_uri": "https://localhost:8080/"
        },
        "id": "kzDovAizKr9o",
        "outputId": "f944ba8c-e62f-4cdb-c81f-8533d1447b81"
      },
      "execution_count": null,
      "outputs": [
        {
          "output_type": "stream",
          "name": "stdout",
          "text": [
            "Pascal Case\n"
          ]
        }
      ]
    },
    {
      "cell_type": "code",
      "source": [
        "# Declaration of a variable using Snake Case\n",
        "\n",
        "my_first_variable = \"Snake Case\"\n",
        "print(my_first_variable)"
      ],
      "metadata": {
        "colab": {
          "base_uri": "https://localhost:8080/"
        },
        "id": "vW3-ecGDK6Lu",
        "outputId": "26708b58-616d-42f7-aab9-869b415ff4a3"
      },
      "execution_count": null,
      "outputs": [
        {
          "output_type": "stream",
          "name": "stdout",
          "text": [
            "Snake Case\n"
          ]
        }
      ]
    },
    {
      "cell_type": "code",
      "source": [
        "# Correct declaration of variables\n",
        "\n",
        "myFirstVariable = \"John\"\n",
        "MyFirstVariable = \"John\"\n",
        "my_first_variable = \"John\"\n",
        "_my_first_Variable = \"John\"\n",
        "MY_FIRST_VARIABLE = \"John\"\n",
        "myFirst_Variable363 = \"John\""
      ],
      "metadata": {
        "id": "7hkrjOPCLysP"
      },
      "execution_count": null,
      "outputs": []
    },
    {
      "cell_type": "code",
      "source": [
        "# Illegal declaration of variables\n",
        "\n",
        "100myFirstVariable = \"John\" # can not start with a number\n",
        "my-first-variable = \"John\". # can not have dash in the name\n",
        "my first variable = \"John\"  # can not have spaces in the variable name\n",
        "&myFirstVariable=\"John\"     # can not have special characters in the name \n",
        "for = \"John\"                # can not use reserved python keywords"
      ],
      "metadata": {
        "id": "WkzKQsuNMQbN"
      },
      "execution_count": null,
      "outputs": []
    },
    {
      "cell_type": "code",
      "source": [
        "# Declaration of variables with the same name\n",
        "\n",
        "TestVariable = 1.0\n",
        "\n",
        "print(TestVariable)\n",
        "print(type(TestVariable))\n",
        "\n",
        "TestVariable = \"Python is fun!\"\n",
        "\n",
        "print(TestVariable)\n",
        "print(type(TestVariable))"
      ],
      "metadata": {
        "id": "ulQ1wucCJWm_",
        "colab": {
          "base_uri": "https://localhost:8080/"
        },
        "outputId": "c51d2378-ef3d-4b0c-f5d3-9c596f81e6e1"
      },
      "execution_count": null,
      "outputs": [
        {
          "output_type": "stream",
          "name": "stdout",
          "text": [
            "1.0\n",
            "<class 'float'>\n",
            "Python is fun!\n",
            "<class 'str'>\n"
          ]
        }
      ]
    },
    {
      "cell_type": "code",
      "source": [
        "# Assign multiple values to multiple variables in one line \n",
        "\n",
        "x, y, z = 23.4, 35.6, 45.1\n",
        "print(x)\n",
        "print(y)\n",
        "print(z)"
      ],
      "metadata": {
        "colab": {
          "base_uri": "https://localhost:8080/"
        },
        "id": "6PUy49h1Ov7F",
        "outputId": "054c0193-2a94-4472-bfaa-3042afb0fc55"
      },
      "execution_count": null,
      "outputs": [
        {
          "output_type": "stream",
          "name": "stdout",
          "text": [
            "23.4\n",
            "35.6\n",
            "45.1\n"
          ]
        }
      ]
    },
    {
      "cell_type": "code",
      "source": [
        "# Assign multiple values of multiple data types to multiple variables in one line\n",
        " \n",
        "x, y, z, atomName, atomMass, stateID = 23.4, 35.6, 45.1, \"Carbon\", \"12.011\", True\n",
        "print(x)\n",
        "print(y)\n",
        "print(z)\n",
        "print(atomName)\n",
        "print(atomMass)\n",
        "print(stateID)"
      ],
      "metadata": {
        "colab": {
          "base_uri": "https://localhost:8080/"
        },
        "outputId": "afbe577c-168f-4cef-d29d-d9ee9dd62422",
        "id": "utu2h8QPPpog"
      },
      "execution_count": null,
      "outputs": [
        {
          "output_type": "stream",
          "name": "stdout",
          "text": [
            "23.4\n",
            "35.6\n",
            "45.1\n",
            "Carbon\n",
            "12.011\n",
            "True\n"
          ]
        }
      ]
    },
    {
      "cell_type": "code",
      "source": [
        "# Assign one value to multiple variables\n",
        "\n",
        "x=y=z=2.25\n",
        "print(x)\n",
        "print(y)\n",
        "print(z)"
      ],
      "metadata": {
        "colab": {
          "base_uri": "https://localhost:8080/"
        },
        "id": "cxAe_TDSQGy2",
        "outputId": "8346ca9e-46da-4aa9-de7d-a87fa9d3c0fe"
      },
      "execution_count": null,
      "outputs": [
        {
          "output_type": "stream",
          "name": "stdout",
          "text": [
            "2.25\n",
            "2.25\n",
            "2.25\n"
          ]
        }
      ]
    },
    {
      "cell_type": "code",
      "source": [
        "# Using unpacking method to assign values to variables\n",
        "\n",
        "coordinates=[2.35, 6.37, -8.94]\n",
        "x,y,z = coordinates\n",
        "print(x)\n",
        "print(y)\n",
        "print(z)"
      ],
      "metadata": {
        "colab": {
          "base_uri": "https://localhost:8080/"
        },
        "id": "x5i3eTHMQerG",
        "outputId": "ad1af99b-a645-4d71-f4e4-6025129a6c58"
      },
      "execution_count": null,
      "outputs": [
        {
          "output_type": "stream",
          "name": "stdout",
          "text": [
            "2.35\n",
            "6.37\n",
            "-8.94\n"
          ]
        }
      ]
    },
    {
      "cell_type": "code",
      "source": [
        "# Output variables using unpacking\n",
        "\n",
        "coordinates=[2.35, 6.37, -8.94]\n",
        "x,y,z = coordinates\n",
        "print(x, y, z)\n",
        "print(x + y + z)"
      ],
      "metadata": {
        "colab": {
          "base_uri": "https://localhost:8080/"
        },
        "outputId": "a4d8a0d9-523f-4493-c886-7e7a98d391a7",
        "id": "9004FlukQ5mA"
      },
      "execution_count": null,
      "outputs": [
        {
          "output_type": "stream",
          "name": "stdout",
          "text": [
            "2.35 6.37 -8.94\n",
            "-0.21999999999999886\n"
          ]
        }
      ]
    },
    {
      "cell_type": "code",
      "source": [
        "# Output variables using unpacking\n",
        "\n",
        "myFriendNames=[\"John\", \"Lisa\", \"Michelle\"]\n",
        "name1,name2,name3 = myFriendNames\n",
        "print(name1, name2, name3)"
      ],
      "metadata": {
        "colab": {
          "base_uri": "https://localhost:8080/"
        },
        "outputId": "94713c67-ec08-4274-a279-cd50720bd758",
        "id": "HO6UumH4RNWv"
      },
      "execution_count": null,
      "outputs": [
        {
          "output_type": "stream",
          "name": "stdout",
          "text": [
            "John Lisa Michelle\n"
          ]
        }
      ]
    },
    {
      "cell_type": "code",
      "source": [
        "# Deleting a variable using the del command\n",
        "\n",
        "myTenthVariable = 65\n",
        "print (myTenthVariable)\n",
        "del myTenthVariable\n"
      ],
      "metadata": {
        "colab": {
          "base_uri": "https://localhost:8080/"
        },
        "id": "lRo1hsnza_fH",
        "outputId": "00057e59-d7be-4a47-b34e-92e8d672a8f2"
      },
      "execution_count": null,
      "outputs": [
        {
          "output_type": "stream",
          "name": "stdout",
          "text": [
            "65\n"
          ]
        }
      ]
    },
    {
      "cell_type": "markdown",
      "source": [
        "# Global and local variables\n",
        "\n",
        "\n",
        "---\n",
        "\n",
        "Global variables are the variables that can be accessed from anywhere in your code. Local variables are accessable withing a local scope. Please see the Function section to get more information about global and local variables.\n",
        "\n",
        "---"
      ],
      "metadata": {
        "id": "P9P61uxDRk-I"
      }
    },
    {
      "cell_type": "markdown",
      "source": [
        "# Data types\n",
        "\n",
        "\n",
        "---\n",
        "\n",
        "\n",
        "Variables can store different types of data.\n",
        "\n",
        "There are **built-in data types** in Python.\n",
        "\n",
        "Numeric Types:\t**int, float, complex**\n",
        "\n",
        "Text Type: **string**\n",
        "\n",
        "Boolean Type:\t**bool**\n",
        "\n",
        "Sequence Types:\t**list, tuple, range**\n",
        "\n",
        "Dictionary Type:\t**dict**\n",
        "\n",
        "Set Types:\t**set, frozenset**\n",
        "\n",
        "Binary Types:\t**bytes, bytearray, memoryview**\n",
        "\n",
        "None Type:\t**NoneType**\n",
        "\n",
        "\n",
        "---\n",
        "\n",
        "\n",
        "* Primitive types are **integer, float, string, and boolean**. \n",
        "* All other are types are non-primitive, including **lists**, **tuples**, **dictionary**, **set**, **file**, and etc. \n",
        "* Python uses classes to define its data types, including its primitive types."
      ],
      "metadata": {
        "id": "WMmwlGM-hbfY"
      }
    },
    {
      "cell_type": "code",
      "source": [
        "# Using type function: type()\n",
        "\n",
        "myFirstVariable   = 23\n",
        "mySecondVariable  = 0.00036\n",
        "myThirdVariable   = 10+5j\n",
        "myFourthVariable  = True\n",
        "\n",
        "myFifthVariable   = \"Hello World!\"\n",
        "mySixthVariable   = [0, 1, 2, 3, 4, 5, 6, 7, 8, 9]\n",
        "mySeventhVariable = (\"John\", \"Mikle\", \"Desbey\")\n",
        "\n",
        "myEighthVariable  = {\"Name\":\"John\", \"Age\":41, \"Occupation\":\"Doctor\"} \n",
        "\n",
        "myNinthVariable   = {\"apple\", \"banana\", \"cherry\"}\n",
        "\n",
        "myTenthVariable   = frozenset({\"apple\", \"banana\", \"cherry\"})\n",
        "\n",
        "myEleventhVariable   = b\"Hello\"\n",
        "myTwelvefthVariable  = bytearray(5)\n",
        "myThirteenthVariable = memoryview(bytes(5))\n",
        "\n",
        "myFourteenthVariable = None\n",
        "myFifteenthVariable  = range(12)\n",
        "\n",
        "print(type(myFirstVariable))\n",
        "print(type(mySecondVariable))\n",
        "print(type(myThirdVariable))\n",
        "print(type(myFourthVariable))\n",
        "print(type(myFifthVariable))\n",
        "print(type(mySixthVariable))\n",
        "print(type(mySeventhVariable))\n",
        "print(type(myEighthVariable))\n",
        "print(type(myNinthVariable))\n",
        "print(type(myTenthVariable))\n",
        "print(type(myEleventhVariable))\n",
        "print(type(myTwelvefthVariable))\n",
        "print(type(myThirteenthVariable))\n",
        "print(type(myFourteenthVariable))\n",
        "print(type(myFifteenthVariable))"
      ],
      "metadata": {
        "colab": {
          "base_uri": "https://localhost:8080/"
        },
        "id": "jixgkK8OWZgi",
        "outputId": "1bc9ed4e-f1ee-4bfc-ab76-e9f95a7d0a9e"
      },
      "execution_count": null,
      "outputs": [
        {
          "output_type": "stream",
          "name": "stdout",
          "text": [
            "<class 'int'>\n",
            "<class 'float'>\n",
            "<class 'complex'>\n",
            "<class 'bool'>\n",
            "<class 'str'>\n",
            "<class 'list'>\n",
            "<class 'tuple'>\n",
            "<class 'dict'>\n",
            "<class 'set'>\n",
            "<class 'frozenset'>\n",
            "<class 'bytes'>\n",
            "<class 'bytearray'>\n",
            "<class 'memoryview'>\n",
            "<class 'NoneType'>\n",
            "<class 'range'>\n"
          ]
        }
      ]
    },
    {
      "cell_type": "markdown",
      "source": [
        "# Literals\n",
        "\n",
        "---\n",
        "\n",
        "Literals are data that assigned to variables or constants at the declaration, it is a fixed value. There are five types of literals in Python: Numeric literals, Boolean literals, String literals, Collection literals, and Special type.\n",
        "\n",
        "---\n",
        "\n",
        "Numeric literals:    integer, float, complex\n",
        "\n",
        "Boolean literals:    True, False\n",
        "\n",
        "String literals:     text surrounded by single, double, or triple quotes\n",
        "\n",
        "Collection literals: List, Tuple, Dict, Set\n",
        "\n",
        "Special literal:     None"
      ],
      "metadata": {
        "id": "XPbGZCHVTcR8"
      }
    },
    {
      "cell_type": "code",
      "source": [
        "# Example of literals\n",
        "\n",
        "# Integer literal\n",
        "\n",
        "numLiteralInt = 0\n",
        "\n",
        "# Binary literal\n",
        "\n",
        "numLiteralBin = 0b10100\n",
        "\n",
        "# Decimal literal\n",
        "\n",
        "numLiteralDec = 50\n",
        "\n",
        "# Float literal\n",
        "\n",
        "numLiteralFloat = 234.8\n",
        "\n",
        "# Complex literal\n",
        "\n",
        "numLiteralComp = 2 + 3j\n",
        "\n",
        "# Boolean literal\n",
        "\n",
        "numLiteralBool = True\n",
        "\n",
        "# List listeral\n",
        "\n",
        "numLiteralList = [1,2,3]\n",
        "\n",
        "# Special literal\n",
        "\n",
        "numLiteralSpecial = None"
      ],
      "metadata": {
        "id": "jTJbFxhzVlJb"
      },
      "execution_count": null,
      "outputs": []
    },
    {
      "cell_type": "markdown",
      "source": [
        "# Numbers\n",
        "\n",
        "---\n",
        "Integer numbers do not have a decimal point and/or a fractional part. Integers can be zero, positive and negative whole numbers. Integers can be represented by binary, octal, and hexadecimal corresponding values. Integer literals and/or variables are objects to the int class. \n",
        "\n",
        "Float numbers do have a decimal point and a fractional part. Float numbers are real numbers with the maxium value of 1.8x1E308. floating point numbers are represented in computer hardware as base 2 fractions. Decimal fractions can not be represented exactly as binary fractions and, as a result, the decimal floating numbers can by only approximated by binary floating-point numbers.\n",
        "\n",
        "* **int** - represents a whole number from negative to positive including 0.\n",
        "* **float** - floating point number, used for rational numbers with decimals.\n",
        "\n",
        "---\n"
      ],
      "metadata": {
        "id": "pzwaES8qVO_z"
      }
    },
    {
      "cell_type": "markdown",
      "source": [
        "**Binary (base 2)** can be represented by two digits [0,1] Base 2. The **bin()** can be used to convert numbers to octal in Python. The prefix **‘0b’** is used with octal numbers with a zero followed by a lowercase **b**."
      ],
      "metadata": {
        "id": "eLpdZ1E4e2nq"
      }
    },
    {
      "cell_type": "code",
      "source": [
        "# Binary numbers uses bin()\n",
        "\n",
        "myFirstVariable  = 0b101 # The binary numbers start with 0b\n",
        "mySecondVariable = 5\n",
        "\n",
        "print(myFirstVariable)\n",
        "print(mySecondVariable)\n",
        "\n",
        "print(bin(5))\n",
        "print(bin(mySecondVariable))"
      ],
      "metadata": {
        "colab": {
          "base_uri": "https://localhost:8080/"
        },
        "id": "iwhNYh20YtCN",
        "outputId": "c158fc08-e29e-47da-e259-b5c7de79f075"
      },
      "execution_count": null,
      "outputs": [
        {
          "output_type": "stream",
          "name": "stdout",
          "text": [
            "5\n",
            "5\n",
            "0b101\n",
            "0b101\n"
          ]
        }
      ]
    },
    {
      "cell_type": "markdown",
      "source": [
        "**Octal (Base 8)** — can be represented by 8 digits [0–7] Base 8. The **oct()** can be used to convert numbers to octal in Python. The prefix **‘0o’** is used with octal numbers with a zero followed by a lowercase **o**."
      ],
      "metadata": {
        "id": "723mcHbpfMDh"
      }
    },
    {
      "cell_type": "code",
      "source": [
        "# Octal numbers use oct()\n",
        "\n",
        "myFirstVariable  = 0o12    # The octal numbers start with \"0o\"\n",
        "mySecondVariable = 0o12\n",
        "\n",
        "sumOct = int(myFirstVariable) + int(mySecondVariable)\n",
        "\n",
        "print(myFirstVariable)\n",
        "print(sumOct)\n",
        "print(oct(sumOct))"
      ],
      "metadata": {
        "colab": {
          "base_uri": "https://localhost:8080/"
        },
        "id": "zuBmZkUzdAAT",
        "outputId": "34d4add0-2b70-45c5-dfb5-fa50a3e4dadf"
      },
      "execution_count": null,
      "outputs": [
        {
          "output_type": "stream",
          "name": "stdout",
          "text": [
            "10\n",
            "20\n",
            "0o24\n"
          ]
        }
      ]
    },
    {
      "cell_type": "markdown",
      "source": [
        "**Hexadecimal (Base 16)** — can be represented by 10 digits [0–9] and 6 characters [A, B, C, D, E, F] Base 16. Where A is ten, B is eleven, C is twelve, D is thirteen, E is fourteen, and F is fifteen. The **hex()** can be used to convert numbers to hexadecimal in Python. The prefix **‘0x’** is used with octal numbers with a zero followed by a lowercase **x**."
      ],
      "metadata": {
        "id": "6VG8LTuzg2bZ"
      }
    },
    {
      "cell_type": "code",
      "source": [
        "# Hexadecimal numbers uses hex()\n",
        "\n",
        "myFirstVariable  = 0x1f # The hexadecimal numbers start with \"0x\"\n",
        "mySecondVariable = 31\n",
        "\n",
        "mySecondVariable = hex(31)\n",
        "\n",
        "print(hex(26))\n",
        "print(myFirstVariable)\n",
        "print(mySecondVariable)"
      ],
      "metadata": {
        "id": "UebpCLJ0cUdB",
        "colab": {
          "base_uri": "https://localhost:8080/"
        },
        "outputId": "f59f4d71-550a-45d1-9f02-162bb1460ac6"
      },
      "execution_count": null,
      "outputs": [
        {
          "output_type": "stream",
          "name": "stdout",
          "text": [
            "0x1a\n",
            "31\n",
            "0x1f\n"
          ]
        }
      ]
    },
    {
      "cell_type": "markdown",
      "source": [
        "# Casting\n",
        "\n",
        "---\n",
        "Casting is a conversion of one data type to another data type. There can be implicit conversion or explicit conversion using buil-in functions. Explicit conversion can be performed with buil-in functions like int(), float(), or str() as they act as constructors of different data type.\n",
        "\n",
        "---"
      ],
      "metadata": {
        "id": "ui1wtk7V1BaN"
      }
    },
    {
      "cell_type": "code",
      "source": [
        "# Implicit conversion\n",
        "\n",
        "myCastTest = 70 + 0.25\n",
        "print(myCastTest)\n",
        "print(type(myCastTest))"
      ],
      "metadata": {
        "colab": {
          "base_uri": "https://localhost:8080/"
        },
        "id": "lYMEftsE15Ic",
        "outputId": "aa958820-0ac6-4a53-ad26-3eda53fc9212"
      },
      "execution_count": null,
      "outputs": [
        {
          "output_type": "stream",
          "name": "stdout",
          "text": [
            "70.25\n",
            "<class 'float'>\n"
          ]
        }
      ]
    },
    {
      "cell_type": "code",
      "source": [
        "# Explicit conversion\n",
        "\n",
        "myCastNumber = 7234\n",
        "myCastString = str(myCastNumber)\n",
        "myCastFloat  = float(myCastNumber)\n",
        "\n",
        "print(type(myCastNumber))\n",
        "print(type(myCastString))\n",
        "print(type(myCastFloat))"
      ],
      "metadata": {
        "colab": {
          "base_uri": "https://localhost:8080/"
        },
        "id": "mY6UxcSF21mR",
        "outputId": "5a59780f-6d7b-4f8f-f7ff-96cd60fee054"
      },
      "execution_count": null,
      "outputs": [
        {
          "output_type": "stream",
          "name": "stdout",
          "text": [
            "<class 'int'>\n",
            "<class 'str'>\n",
            "<class 'float'>\n"
          ]
        }
      ]
    },
    {
      "cell_type": "code",
      "source": [
        "# Using casting to specify the data type\n",
        "\n",
        "myFirstVariable  = int(1)        \n",
        "mySecondVariable = int(2.8)     \n",
        "myThirdVariable  = int(\"3\") \n"
      ],
      "metadata": {
        "id": "Se0TPm9pfpS5"
      },
      "execution_count": null,
      "outputs": []
    },
    {
      "cell_type": "code",
      "source": [
        "# Using casting to specify the data type\n",
        "\n",
        "myFirstVariable  = float(10)     \n",
        "mySecondVariable = float(2.8)   \n",
        "myThirdVariable  = float(\"4.2\")  "
      ],
      "metadata": {
        "id": "pWNQ8_zigJKw"
      },
      "execution_count": null,
      "outputs": []
    },
    {
      "cell_type": "code",
      "source": [
        "# Using casting to specify the data type\n",
        "\n",
        "myFirstVariable  = str(1)   \n",
        "mySecondVariable = str(2.890) \n",
        "myThirdVariable  = str(\"3.498\") "
      ],
      "metadata": {
        "id": "al44xSRcgKav"
      },
      "execution_count": null,
      "outputs": []
    },
    {
      "cell_type": "markdown",
      "source": [
        "# Boolean\n",
        "\n",
        "---\n",
        "Booleans can be either True or False. True corresponds to the value of 1 and False corresponds to the value of 0. Please, keep in mind that **True** is not the same as **TRUE** or **true**. **False** is ot the same as **FALSE** or **false**.\n",
        "\n",
        "---\n"
      ],
      "metadata": {
        "id": "w3eG246wLZ2Q"
      }
    },
    {
      "cell_type": "code",
      "source": [
        "# Boolean\n",
        "\n",
        "print(True)\n",
        "print(False)"
      ],
      "metadata": {
        "colab": {
          "base_uri": "https://localhost:8080/"
        },
        "id": "XVftY_1d4z51",
        "outputId": "4eb92ca1-36ec-4df3-b0a0-fa1c6fd44a84"
      },
      "execution_count": null,
      "outputs": [
        {
          "output_type": "stream",
          "name": "stdout",
          "text": [
            "True\n",
            "False\n"
          ]
        }
      ]
    },
    {
      "cell_type": "code",
      "source": [
        "# Casting of boolean\n",
        "\n",
        "print(int(True))\n",
        "print(int(False))"
      ],
      "metadata": {
        "colab": {
          "base_uri": "https://localhost:8080/"
        },
        "id": "Xzbzux7D5V3p",
        "outputId": "61964a5c-cd1c-4633-a271-8f5a2be35e55"
      },
      "execution_count": null,
      "outputs": [
        {
          "output_type": "stream",
          "name": "stdout",
          "text": [
            "1\n",
            "0\n"
          ]
        }
      ]
    },
    {
      "cell_type": "markdown",
      "source": [
        "# Strings\n",
        "\n",
        "\n",
        "---\n",
        "Strings are an immutable collection of alphanumeric characters that are inclosed in single or double quotes. Strings literals can not be changed after they have been created. A double quoted string literals can contain single quotes. Characters within a string can be accessed using indexing reference values starting with zero. If the reference index is out of range, Python will raise an error. To acces a range of characters, you can use slicing of strings. You can indicate the start index and the end index inclosed in square brackets to acces a range of characters as discussed below.\n",
        "\n",
        "* Strings are enclosed by single quotation marks ' or double quotation marks \".\n",
        "\n",
        "* 'Hello World!' is the same as \"Hello World!\".\n",
        "\n",
        "* \"I don't smoke!\"\n",
        "---\n",
        "\n",
        "Syntax: myString = \"Here is the string!\"\n"
      ],
      "metadata": {
        "id": "J1qJwmTj40sQ"
      }
    },
    {
      "cell_type": "code",
      "source": [
        "# Assign string to a variable using single quotes\n",
        "\n",
        "myFirstString = 'This is my first string'\n",
        "print(myFirstString)"
      ],
      "metadata": {
        "colab": {
          "base_uri": "https://localhost:8080/"
        },
        "id": "4eNwO4Uk5SOg",
        "outputId": "c89079a2-2d93-4d1e-9d78-506f1731b7dc"
      },
      "execution_count": null,
      "outputs": [
        {
          "output_type": "stream",
          "name": "stdout",
          "text": [
            "This is my first string\n"
          ]
        }
      ]
    },
    {
      "cell_type": "code",
      "source": [
        "# Assign string to a variable using double quotes\n",
        "\n",
        "mySecondString = \"This is my second string\"\n",
        "print(mySecondString)"
      ],
      "metadata": {
        "colab": {
          "base_uri": "https://localhost:8080/"
        },
        "id": "_g1SyRCS5ee2",
        "outputId": "9e3a01a4-6041-4656-a7c5-2323ea3969e2"
      },
      "execution_count": null,
      "outputs": [
        {
          "output_type": "stream",
          "name": "stdout",
          "text": [
            "This is my second string\n"
          ]
        }
      ]
    },
    {
      "cell_type": "code",
      "source": [
        "# Assign string to a variable using single and double quotes\n",
        "\n",
        "myThirdString = \"This's my third string\"\n",
        "print(myThirdString)"
      ],
      "metadata": {
        "colab": {
          "base_uri": "https://localhost:8080/"
        },
        "id": "z3uhsXjW5pJj",
        "outputId": "1c8eeaf5-2048-4444-c805-eedef4f1cce1"
      },
      "execution_count": null,
      "outputs": [
        {
          "output_type": "stream",
          "name": "stdout",
          "text": [
            "This's my third string\n"
          ]
        }
      ]
    },
    {
      "cell_type": "code",
      "source": [
        "# Assign string to a variable using single quotes\n",
        "\n",
        "myFourthString = 'That's my fourth string'"
      ],
      "metadata": {
        "id": "L0XxJ4Sz5-yS"
      },
      "execution_count": null,
      "outputs": []
    },
    {
      "cell_type": "code",
      "source": [
        "# Escaping sequence - you can have more than one escaping character\n",
        "\n",
        "myFourthString = 'That\\'s my fourth string'\n",
        "print(myFourthString)"
      ],
      "metadata": {
        "colab": {
          "base_uri": "https://localhost:8080/"
        },
        "id": "JqibuLeAUR1_",
        "outputId": "e5da6b2f-d48f-432c-91cc-a232dc03f088"
      },
      "execution_count": null,
      "outputs": [
        {
          "output_type": "stream",
          "name": "stdout",
          "text": [
            "That's my fourth string\n"
          ]
        }
      ]
    },
    {
      "cell_type": "code",
      "source": [
        "# Printing the backslash\n",
        "\n",
        "myBackSlash = \"\\\\\"\n",
        "print(myBackSlash)"
      ],
      "metadata": {
        "colab": {
          "base_uri": "https://localhost:8080/"
        },
        "id": "h6929nAUVfOp",
        "outputId": "0cba09d2-b874-4d43-ebfd-9b9188aefcda"
      },
      "execution_count": null,
      "outputs": [
        {
          "output_type": "stream",
          "name": "stdout",
          "text": [
            "\\\n"
          ]
        }
      ]
    },
    {
      "cell_type": "code",
      "source": [
        "# Assign string to a variable using double quotes with single quotes inside\n",
        "\n",
        "myFifthString = \"I'm an instructor and you're a good student!\"\n",
        "print(myFifthString)"
      ],
      "metadata": {
        "colab": {
          "base_uri": "https://localhost:8080/"
        },
        "id": "4DNHOVVkTJLD",
        "outputId": "2b840e2b-d0a8-405b-f981-8c6d166137d5"
      },
      "execution_count": null,
      "outputs": [
        {
          "output_type": "stream",
          "name": "stdout",
          "text": [
            "I'm an instructor and you're a good student!\n"
          ]
        }
      ]
    },
    {
      "cell_type": "code",
      "source": [
        "# Assign a multiple line string to a variable - single quotes\n",
        " \n",
        "myTestVariable = '''Lorem ipsum dolor sit amet,\n",
        "consectetur adipiscing elit,\n",
        "sed do eiusmod tempor incididunt\n",
        "ut labore et dolore magna aliqua.'''\n",
        "\n",
        "print(myTestVariable)"
      ],
      "metadata": {
        "colab": {
          "base_uri": "https://localhost:8080/"
        },
        "id": "oB6SzZ4phtlO",
        "outputId": "8e3f03f6-0996-4c35-d06c-2495255cbbb9"
      },
      "execution_count": null,
      "outputs": [
        {
          "output_type": "stream",
          "name": "stdout",
          "text": [
            "Lorem ipsum dolor sit amet,\n",
            "consectetur adipiscing elit,\n",
            "sed do eiusmod tempor incididunt\n",
            "ut labore et dolore magna aliqua.\n"
          ]
        }
      ]
    },
    {
      "cell_type": "code",
      "source": [
        "# Assign a multiple line string to a variable - double quotes\n",
        "\n",
        "myTestVariable = \"\"\"Lorem ipsum dolor sit amet,\n",
        "consectetur adipiscing elit,\n",
        "sed do eiusmod tempor incididunt\n",
        "ut labore et dolore magna aliqua.\"\"\"\n",
        "\n",
        "print(myTestVariable)"
      ],
      "metadata": {
        "colab": {
          "base_uri": "https://localhost:8080/"
        },
        "id": "QOwBfXwLhlcl",
        "outputId": "4d13ed52-27af-45a6-f0ea-9fa3715f69c1"
      },
      "execution_count": null,
      "outputs": [
        {
          "output_type": "stream",
          "name": "stdout",
          "text": [
            "Lorem ipsum dolor sit amet,\n",
            "consectetur adipiscing elit,\n",
            "sed do eiusmod tempor incididunt\n",
            "ut labore et dolore magna aliqua.\n"
          ]
        }
      ]
    },
    {
      "cell_type": "markdown",
      "source": [
        "# Indexing and slicing\n",
        "\n",
        "\n",
        "---\n",
        "Indexing is a very important concept. Each character of a string has a unique index numer as discussed below. To access any characters of a string, we need to use index number. Indexing of a string is the same as for the lists. The element of a string can be accessed using index starting with 0.\n",
        "\n",
        "Slicing technique allows to access a range of characters in a string. Range of characters can be indicated by a start index number and an end index number in square brackets. The start index number has always an inclusive bound and the end index number has always an exclusive bound. Other words the start index number is included in the range and the end index number is not. \n",
        "\n",
        "---\n",
        "\n"
      ],
      "metadata": {
        "id": "6tczVnHv6dGx"
      }
    },
    {
      "cell_type": "code",
      "source": [
        "# Strings elements can be accessed by index\n",
        "\n",
        "# The indexes\n",
        "# myTestString   =   [1,  2,  3,  4,  5,  6,  7,  8,  9, ..., 26]\n",
        "# --------------------------\n",
        "# index               0,  1,  2,  3,  4,  5,  6,  7,  8, ..., n-1\n",
        "# negative index     -n,                                 ...,  -1\n",
        "# variable[start:end] \n",
        "\n",
        "myTestString=\"Lorem ipsum dolor sit amet\"\n",
        "\n",
        "print(myTestString[:])\n",
        "print(myTestString[:6])\n",
        "print(myTestString[0:7])\n",
        "print(myTestString[10:22])\n",
        "print(myTestString[-10:-5])\n",
        "print(myTestString[-10:])\n",
        "print(len(myTestString))"
      ],
      "metadata": {
        "id": "QZAktJJks_ix",
        "colab": {
          "base_uri": "https://localhost:8080/"
        },
        "outputId": "f840de13-fa87-4649-be4d-a519517537f1"
      },
      "execution_count": null,
      "outputs": [
        {
          "output_type": "stream",
          "name": "stdout",
          "text": [
            "Lorem ipsum dolor sit amet\n",
            "Lorem \n",
            "Lorem i\n",
            "m dolor sit \n",
            "r sit\n",
            "r sit amet\n",
            "26\n"
          ]
        }
      ]
    },
    {
      "cell_type": "markdown",
      "source": [
        "# String operations\n",
        "\n",
        "---\n",
        "Some basic operations can be performed on strings.\n",
        "\n",
        "---"
      ],
      "metadata": {
        "id": "DvltvXr_7odu"
      }
    },
    {
      "cell_type": "code",
      "source": [
        "# Strings are immutable \n",
        "\n",
        "myFirstString = \"Hello World!\"\n",
        "myFirstString[0] = \"G\""
      ],
      "metadata": {
        "id": "5gZp8fgHaH_o"
      },
      "execution_count": null,
      "outputs": []
    },
    {
      "cell_type": "code",
      "source": [
        "# String concatenation\n",
        "\n",
        "myFirstString  = \"Hello\"\n",
        "mySecondString = \"World!\"\n",
        "\n",
        "print (myFirstString + mySecondString)"
      ],
      "metadata": {
        "colab": {
          "base_uri": "https://localhost:8080/"
        },
        "id": "IiPjvudO7_GI",
        "outputId": "cce170e9-94c6-49e2-aee9-307fc11ada35"
      },
      "execution_count": null,
      "outputs": [
        {
          "output_type": "stream",
          "name": "stdout",
          "text": [
            "HelloWorld!\n"
          ]
        }
      ]
    },
    {
      "cell_type": "code",
      "source": [
        "# String concatenation\n",
        "\n",
        "myFirstString  = \"Hello\"\n",
        "mySecondString = \"World!\"\n",
        "\n",
        "print (myFirstString, mySecondString, sep=\" \")"
      ],
      "metadata": {
        "colab": {
          "base_uri": "https://localhost:8080/"
        },
        "id": "2uN3uIKy8ZMN",
        "outputId": "3e9fce84-60bd-495d-bd68-8c0da412b17f"
      },
      "execution_count": null,
      "outputs": [
        {
          "output_type": "stream",
          "name": "stdout",
          "text": [
            "Hello World!\n"
          ]
        }
      ]
    },
    {
      "cell_type": "code",
      "source": [
        "# String multiplication\n",
        "\n",
        "myStarString  = \"*\"\n",
        "mySmileString = \")\"\n",
        "\n",
        "print (myStarString * 2)\n",
        "print (myStarString * 4)\n",
        "print (myStarString * 6 + \" \" + mySmileString)\n"
      ],
      "metadata": {
        "colab": {
          "base_uri": "https://localhost:8080/"
        },
        "id": "0qYophhd8vEf",
        "outputId": "4411dfc1-b337-4683-eae7-b1e285d766c8"
      },
      "execution_count": null,
      "outputs": [
        {
          "output_type": "stream",
          "name": "stdout",
          "text": [
            "**\n",
            "****\n",
            "****** )\n"
          ]
        }
      ]
    },
    {
      "cell_type": "markdown",
      "source": [
        "# String methods\n",
        "\n",
        "---\n",
        "\n",
        "There are many built-in methods that can be used on strings.\n",
        "\n",
        "---"
      ],
      "metadata": {
        "id": "qAAUwj_l9kBL"
      }
    },
    {
      "cell_type": "code",
      "source": [
        "# Upper case method: upper() - returns an upper case string\n",
        "\n",
        "myFirstString = \"Hello World!\"\n",
        "print(myFirstString.upper())"
      ],
      "metadata": {
        "colab": {
          "base_uri": "https://localhost:8080/"
        },
        "id": "Pphb8Rg79sPt",
        "outputId": "23daf976-7524-462d-9bff-e00676a6189c"
      },
      "execution_count": null,
      "outputs": [
        {
          "output_type": "stream",
          "name": "stdout",
          "text": [
            "HELLO WORLD!\n"
          ]
        }
      ]
    },
    {
      "cell_type": "code",
      "source": [
        "# Lower case method: lower() - returns a lower case string\n",
        "\n",
        "myFirstString = \"Hello World!\"\n",
        "print(myFirstString.lower())"
      ],
      "metadata": {
        "colab": {
          "base_uri": "https://localhost:8080/"
        },
        "id": "snzVeBzj-r27",
        "outputId": "8a9c9943-b54e-4cf9-f20a-fafcaaa019a6"
      },
      "execution_count": null,
      "outputs": [
        {
          "output_type": "stream",
          "name": "stdout",
          "text": [
            "hello world!\n"
          ]
        }
      ]
    },
    {
      "cell_type": "code",
      "source": [
        "# Strip method: strip() - removes whitespace before and after an actual text\n",
        "\n",
        "myFirstString = \" Hello World ! \"\n",
        "print(myFirstString.strip())"
      ],
      "metadata": {
        "colab": {
          "base_uri": "https://localhost:8080/"
        },
        "id": "dxFZlBy0-3BU",
        "outputId": "dad17ddd-f05d-4840-848c-5d3d7e987c89"
      },
      "execution_count": null,
      "outputs": [
        {
          "output_type": "stream",
          "name": "stdout",
          "text": [
            "Hello World !\n"
          ]
        }
      ]
    },
    {
      "cell_type": "code",
      "source": [
        "# Replace method: replace() - replaces a string with another string\n",
        "\n",
        "myFirstString = \"Hello World!\"\n",
        "print(myFirstString.replace(\"Hello\", \"Good morning\"))"
      ],
      "metadata": {
        "colab": {
          "base_uri": "https://localhost:8080/"
        },
        "id": "k_peXrJq_e4c",
        "outputId": "5f2394f5-5803-41e6-fbaf-7c5497c2d449"
      },
      "execution_count": null,
      "outputs": [
        {
          "output_type": "stream",
          "name": "stdout",
          "text": [
            "Good morning World!\n"
          ]
        }
      ]
    },
    {
      "cell_type": "code",
      "source": [
        "# Split method: split() - returns a list with the specified separator\n",
        "\n",
        "myFirstString = \"Good morning World!\"\n",
        "print(myFirstString.split())"
      ],
      "metadata": {
        "colab": {
          "base_uri": "https://localhost:8080/"
        },
        "id": "_dFtnebS_2rN",
        "outputId": "6a3c94b4-274e-4866-e24c-f6d6a7657128"
      },
      "execution_count": null,
      "outputs": [
        {
          "output_type": "stream",
          "name": "stdout",
          "text": [
            "['Good', 'morning', 'World!']\n"
          ]
        }
      ]
    },
    {
      "cell_type": "markdown",
      "source": [
        "# Operators\n",
        "\n",
        "\n",
        "---\n",
        "\n",
        "The operators are used to perform some operations on one or two operands.\n",
        "\n",
        "---"
      ],
      "metadata": {
        "id": "RxTdq2qZb8LP"
      }
    },
    {
      "cell_type": "markdown",
      "source": [
        "**Arithmetic operators**\n",
        "* Addition:\tx + y\t\n",
        "* Subtraction:\tx - y\t\n",
        "*\tMultiplication:\tx * y\t\t\n",
        "* Exponentiation:\tx ** y\n",
        "* Division:\tx / y\n",
        "* Modulus:\tx % y\t         (returns the remainder of a division)\n",
        "* Floor division:\tx // y   (rounds the result down to the nearest whole number)"
      ],
      "metadata": {
        "id": "RL1xNU8wkmfW"
      }
    },
    {
      "cell_type": "code",
      "source": [
        "# Exponentiation operator: **  \n",
        "\n",
        "myFirstVariable  = 2\n",
        "mySecondVariable = 8\n",
        "\n",
        "myExponentResult = myFirstVariable ** mySecondVariable\n",
        "\n",
        "print(myExponentResult)"
      ],
      "metadata": {
        "colab": {
          "base_uri": "https://localhost:8080/"
        },
        "id": "sDpmZxnn9n9L",
        "outputId": "b97fea33-6cdf-4c46-b62f-613945677830"
      },
      "execution_count": null,
      "outputs": [
        {
          "output_type": "stream",
          "name": "stdout",
          "text": [
            "256\n"
          ]
        }
      ]
    },
    {
      "cell_type": "code",
      "source": [
        "# Modulus operator: %      ( divident % divisor = quotient returns a remainder )  \n",
        "\n",
        "myFirstVariable  = 8\n",
        "mySecondVariable = 2\n",
        "\n",
        "myModulusResult = myFirstVariable % mySecondVariable\n",
        "\n",
        "print(myModulusResult)"
      ],
      "metadata": {
        "colab": {
          "base_uri": "https://localhost:8080/"
        },
        "id": "PAhvqSOC4d5X",
        "outputId": "e454def7-55e9-4eef-9b50-44e9ce01244d"
      },
      "execution_count": null,
      "outputs": [
        {
          "output_type": "stream",
          "name": "stdout",
          "text": [
            "0\n"
          ]
        }
      ]
    },
    {
      "cell_type": "code",
      "source": [
        "# Floor division: //      ( divident // divisor = quotient returns a quotient )\n",
        "\n",
        "myFirstVariable  = 8\n",
        "mySecondVariable = 2\n",
        "\n",
        "myFloorResult = myFirstVariable // mySecondVariable\n",
        "\n",
        "print(myFloorResult)"
      ],
      "metadata": {
        "colab": {
          "base_uri": "https://localhost:8080/"
        },
        "id": "gMw0cZzA40M4",
        "outputId": "25cef92b-54aa-4f90-d103-f19a0e6e44e4"
      },
      "execution_count": null,
      "outputs": [
        {
          "output_type": "stream",
          "name": "stdout",
          "text": [
            "4\n"
          ]
        }
      ]
    },
    {
      "cell_type": "markdown",
      "source": [
        "**Assignment operators**\n",
        "\n",
        "* Arithmetic: =, +=, -=, *=, /=, //=, %=, ***=\t\n"
      ],
      "metadata": {
        "id": "QvjMM-n7jVuT"
      }
    },
    {
      "cell_type": "code",
      "source": [
        "# Assignment operator: =\n",
        "\n",
        "myFirstVariable  = 5\n",
        "mySecondVariable = 6\n",
        "\n",
        "mySum = myFirstVariable + mySecondVariable\n",
        "\n",
        "print(mySum)"
      ],
      "metadata": {
        "colab": {
          "base_uri": "https://localhost:8080/"
        },
        "id": "43hdLurcjIu_",
        "outputId": "7a9565a5-684a-4665-d061-6d20e14ff133"
      },
      "execution_count": null,
      "outputs": [
        {
          "output_type": "stream",
          "name": "stdout",
          "text": [
            "11\n"
          ]
        }
      ]
    },
    {
      "cell_type": "code",
      "source": [
        "# Assignment operator: +=\n",
        "\n",
        "myFirstVariable = 5\n",
        "\n",
        "myFirstVariable += 30          # myFirstVariable = myFirstVariable + 30\n",
        "\n",
        "print(myFirstVariable)"
      ],
      "metadata": {
        "colab": {
          "base_uri": "https://localhost:8080/"
        },
        "outputId": "f1e5851b-68b0-40b7-8a87-abebae416ec7",
        "id": "xbBsUBMXjCO3"
      },
      "execution_count": null,
      "outputs": [
        {
          "output_type": "stream",
          "name": "stdout",
          "text": [
            "35\n"
          ]
        }
      ]
    },
    {
      "cell_type": "code",
      "source": [
        "# Assignment operator: *=\n",
        "\n",
        "myFirstVariable = 3\n",
        "\n",
        "myFirstVariable *= 30          # myFirstVariable = myFirstVariable * 30\n",
        "\n",
        "print(myFirstVariable)"
      ],
      "metadata": {
        "colab": {
          "base_uri": "https://localhost:8080/"
        },
        "outputId": "8f21d86b-4c97-4239-8601-825cf9f250dc",
        "id": "XAxvRhIgjO7-"
      },
      "execution_count": null,
      "outputs": [
        {
          "output_type": "stream",
          "name": "stdout",
          "text": [
            "90\n"
          ]
        }
      ]
    },
    {
      "cell_type": "code",
      "source": [
        "# Assignment operator: /=\n",
        "\n",
        "myFirstVariable = 6\n",
        "\n",
        "myFirstVariable /= 4.0         # myFirstVariable = myFirstVariable / 4.0\n",
        "\n",
        "print(myFirstVariable)"
      ],
      "metadata": {
        "colab": {
          "base_uri": "https://localhost:8080/"
        },
        "outputId": "393fff4a-9dc2-4306-bce5-06fff827e018",
        "id": "ulRZn5q8jqa7"
      },
      "execution_count": null,
      "outputs": [
        {
          "output_type": "stream",
          "name": "stdout",
          "text": [
            "1.5\n"
          ]
        }
      ]
    },
    {
      "cell_type": "code",
      "source": [
        "# Assignment operator:  %=  (divident %= divisor = quotient returns a remainder)\n",
        "\n",
        "myFirstVariable = 6\n",
        "\n",
        "myFirstVariable %= 4          # myFirstVariable = myFirstVariable % 4\n",
        "\n",
        "print(myFirstVariable) "
      ],
      "metadata": {
        "colab": {
          "base_uri": "https://localhost:8080/"
        },
        "outputId": "915e4439-724d-458c-958d-c3cadbe920f7",
        "id": "zst5H8ZMkIT-"
      },
      "execution_count": null,
      "outputs": [
        {
          "output_type": "stream",
          "name": "stdout",
          "text": [
            "2\n"
          ]
        }
      ]
    },
    {
      "cell_type": "code",
      "source": [
        "# Assignment operator: //=  (divident //= divisor = quotient returns a quotient)\n",
        "\n",
        "myFirstVariable = 13\n",
        "\n",
        "myFirstVariable //= 4          # myFirstVariable = myFirstVariable // 4\n",
        "\n",
        "print(myFirstVariable)"
      ],
      "metadata": {
        "colab": {
          "base_uri": "https://localhost:8080/"
        },
        "id": "Uifrcwskvd9p",
        "outputId": "a0de473c-8dde-4f4b-c0d1-a660151ee8b2"
      },
      "execution_count": null,
      "outputs": [
        {
          "output_type": "stream",
          "name": "stdout",
          "text": [
            "3\n"
          ]
        }
      ]
    },
    {
      "cell_type": "code",
      "source": [
        "# Assignment operator: **=\n",
        "\n",
        "myFirstVariable = 2\n",
        "\n",
        "myFirstVariable **= 8          # myFirstVariable = myFirstVariable ** 4\n",
        "\n",
        "print(myFirstVariable)"
      ],
      "metadata": {
        "colab": {
          "base_uri": "https://localhost:8080/"
        },
        "id": "504BnBHsCF5X",
        "outputId": "d7876608-4111-46ab-da4c-d359d6d099d8"
      },
      "execution_count": null,
      "outputs": [
        {
          "output_type": "stream",
          "name": "stdout",
          "text": [
            "256\n"
          ]
        }
      ]
    },
    {
      "cell_type": "markdown",
      "source": [
        "**Comparison operators**\n",
        "\n",
        "* Equal:\tx == y\t\n",
        "* Not equal:\tx != y\t\n",
        "* Greater than:\tx > y\t\n",
        "* Less than:\tx < y\t\n",
        "* Greater than or equal to:\tx >= y\t\n",
        "* Less than or equal to:\tx <= y"
      ],
      "metadata": {
        "id": "MCHjIC-foBxE"
      }
    },
    {
      "cell_type": "code",
      "source": [
        "# Equal operator: ==\n",
        "\n",
        "myFirstVariable  = 10.0\n",
        "mySecondVariable = 10.0\n",
        "\n",
        "print(myFirstVariable == mySecondVariable)"
      ],
      "metadata": {
        "colab": {
          "base_uri": "https://localhost:8080/"
        },
        "outputId": "ee1528e3-23b7-4e7d-92ed-5580ceeea29f",
        "id": "R6y_Zu1uqPcG"
      },
      "execution_count": null,
      "outputs": [
        {
          "output_type": "stream",
          "name": "stdout",
          "text": [
            "True\n"
          ]
        }
      ]
    },
    {
      "cell_type": "code",
      "source": [
        "# Not equal operator: !=\n",
        "\n",
        "myFirstVariable  = 10.0\n",
        "mySecondVariable =  9.0\n",
        "\n",
        "print (myFirstVariable != mySecondVariable)"
      ],
      "metadata": {
        "colab": {
          "base_uri": "https://localhost:8080/"
        },
        "outputId": "aaa882c4-3d26-4da1-b992-6c4bc090cc75",
        "id": "npZBbm8BRpr8"
      },
      "execution_count": null,
      "outputs": [
        {
          "output_type": "stream",
          "name": "stdout",
          "text": [
            "True\n"
          ]
        }
      ]
    },
    {
      "cell_type": "code",
      "source": [
        "# Greater than operator: >\n",
        "\n",
        "myFirstVariable  = 10.0\n",
        "mySecondVariable =  9.0\n",
        "\n",
        "print (myFirstVariable > mySecondVariable)"
      ],
      "metadata": {
        "colab": {
          "base_uri": "https://localhost:8080/"
        },
        "outputId": "58c929f3-745a-4087-e104-84e1972ba268",
        "id": "e-dgVlhlrOm3"
      },
      "execution_count": null,
      "outputs": [
        {
          "output_type": "stream",
          "name": "stdout",
          "text": [
            "True\n"
          ]
        }
      ]
    },
    {
      "cell_type": "code",
      "source": [
        "# Less than operator: <\n",
        "\n",
        "myFirstVariable  = 10.0\n",
        "mySecondVariable =  9.0\n",
        "\n",
        "print (mySecondVariable < myFirstVariable)"
      ],
      "metadata": {
        "colab": {
          "base_uri": "https://localhost:8080/"
        },
        "id": "EiGGpaXrrcaO",
        "outputId": "8438c9fe-916b-4345-e81f-be0b762e8efa"
      },
      "execution_count": null,
      "outputs": [
        {
          "output_type": "stream",
          "name": "stdout",
          "text": [
            "True\n"
          ]
        }
      ]
    },
    {
      "cell_type": "code",
      "source": [
        "# Greater than or equal operator: >=\n",
        "\n",
        "myFirstVariable  = 10.0\n",
        "mySecondVariable = 10.0\n",
        "\n",
        "print (mySecondVariable >= myFirstVariable)"
      ],
      "metadata": {
        "colab": {
          "base_uri": "https://localhost:8080/"
        },
        "id": "uUb5rcTpqz3Y",
        "outputId": "cf152303-99be-40a5-b4d5-ef935394ccc2"
      },
      "execution_count": null,
      "outputs": [
        {
          "output_type": "stream",
          "name": "stdout",
          "text": [
            "True\n"
          ]
        }
      ]
    },
    {
      "cell_type": "code",
      "source": [
        "# Less than or equal operator: <=\n",
        "\n",
        "myFirstVariable  = 10.0\n",
        "mySecondVariable = 10.0\n",
        "\n",
        "print (mySecondVariable <= myFirstVariable)"
      ],
      "metadata": {
        "colab": {
          "base_uri": "https://localhost:8080/"
        },
        "id": "P7Is_YtasDTP",
        "outputId": "6a7aee19-17af-448c-b545-449111391828"
      },
      "execution_count": null,
      "outputs": [
        {
          "output_type": "stream",
          "name": "stdout",
          "text": [
            "True\n"
          ]
        }
      ]
    },
    {
      "cell_type": "markdown",
      "source": [
        "**Logical operators**\n",
        "\n",
        "* and\n",
        "* or\n",
        "* not"
      ],
      "metadata": {
        "id": "1xRwfWZDAcXC"
      }
    },
    {
      "cell_type": "code",
      "source": [
        "# Logical operator: and\n",
        "\n",
        "myFirstVariable  = 10.0\n",
        "mySecondVariable = 10.0\n",
        "myThirdVariable  = 20.0\n",
        "\n",
        "print (myFirstVariable < myThirdVariable and myFirstVariable == mySecondVariable)"
      ],
      "metadata": {
        "colab": {
          "base_uri": "https://localhost:8080/"
        },
        "id": "_0lyXQln_ulI",
        "outputId": "5dbf25ae-4b5a-4a1e-d70b-f6099c850074"
      },
      "execution_count": null,
      "outputs": [
        {
          "output_type": "stream",
          "name": "stdout",
          "text": [
            "True\n"
          ]
        }
      ]
    },
    {
      "cell_type": "code",
      "source": [
        "# Logical operator: or\n",
        "\n",
        "myFirstVariable  = 10.0\n",
        "mySecondVariable = 10.0\n",
        "myThirdVariable  = 20.0\n",
        "\n",
        "print (myFirstVariable > myThirdVariable or myFirstVariable == mySecondVariable)"
      ],
      "metadata": {
        "colab": {
          "base_uri": "https://localhost:8080/"
        },
        "id": "8Lh7pKLDA4DQ",
        "outputId": "b7027efc-b124-46b7-f73c-4e532d76a1f1"
      },
      "execution_count": null,
      "outputs": [
        {
          "output_type": "stream",
          "name": "stdout",
          "text": [
            "True\n"
          ]
        }
      ]
    },
    {
      "cell_type": "code",
      "source": [
        "# Logical operator: not\n",
        "\n",
        "myFirstVariable  = 10.0\n",
        "mySecondVariable = 20.0\n",
        "\n",
        "print (not myFirstVariable > mySecondVariable)"
      ],
      "metadata": {
        "colab": {
          "base_uri": "https://localhost:8080/"
        },
        "id": "HzdAzr_2BD70",
        "outputId": "308f8f09-1949-4bdd-c6ae-2157cd280457"
      },
      "execution_count": null,
      "outputs": [
        {
          "output_type": "stream",
          "name": "stdout",
          "text": [
            "True\n"
          ]
        }
      ]
    },
    {
      "cell_type": "code",
      "source": [
        "# Logical operator: not\n",
        "\n",
        "myFirstVariable  = 20.0\n",
        "mySecondVariable = 20.0\n",
        "\n",
        "print (not(myFirstVariable > mySecondVariable))"
      ],
      "metadata": {
        "colab": {
          "base_uri": "https://localhost:8080/"
        },
        "id": "qUhoSQLZ2G0k",
        "outputId": "d7d91c41-025e-477c-c20f-d221763dd077"
      },
      "execution_count": 33,
      "outputs": [
        {
          "output_type": "stream",
          "name": "stdout",
          "text": [
            "True\n"
          ]
        }
      ]
    },
    {
      "cell_type": "markdown",
      "source": [
        "**Bitwise operators**\n",
        "\n",
        "You can use bitwise operators to perform Boolean logic on individual bits. That’s very similar to using logical operators such as and, or, and not.\n",
        "\n",
        "You can evaluate Boolean expressions with bitwise operators instead of logical operators.\n",
        "\n",
        "* &(AND) \"This operator compares each bit and sets it to 1 if both are 1, otherwise it is set to 0.\"\n",
        "\n",
        "* | (OR) \"This operator compares each bit and sets it to 1 if one or both is 1, otherwise it is set to 0.\"\n",
        "\n",
        "* ^(XOR) \"This operator compares each bit and sets it to 1 if only one is 1, otherwise (if both are 1 or both are 0) it is set to 0.\"\n",
        "\n",
        "* ~(NOT) \"This operator inverts each bit (0 becomes 1 and 1 becomes 0).\" \n",
        "\n",
        "* << (left shift) \"This operator inserts a number of 0's from the right \n",
        "and let the same amount of leftmost bits fall off.\"\n",
        "\n",
        "* \\>> (right shift) \"This operator moves each bit the specified number of times to the right. Empty holes at the left are filled with 0's.\"\n",
        "\n",
        "\n",
        "---\n",
        "\n",
        "Example of decimal numbers and their corresponding binary values:\n",
        "\n",
        " 0  = 00000000\n",
        "\n",
        " 1  = 00000001\n",
        "\n",
        " 2  = 00000010\n",
        "\n",
        " 3  = 00000011\n",
        "\n",
        " 4  = 00000100\n",
        "\n",
        " 5  = 00000101\n",
        "\n",
        " 6  = 00000110\n",
        "\n",
        " 7  = 00000111\n",
        "\n",
        " 8  = 00001000\n",
        "\n",
        " 9  = 00001001\n",
        "\n",
        "10  = 00001010\n",
        "\n",
        "11  = 00001011\n",
        "\n",
        "12  = 00001100"
      ],
      "metadata": {
        "id": "HE3jpEcklKOm"
      }
    },
    {
      "cell_type": "code",
      "source": [
        "# Bitwise operator: AND (&) - logical conjuction\n",
        "# 6 = 00000110\n",
        "# 3 = 00000011\n",
        "#----------------------\n",
        "# 2 = 00000010\n",
        "\n",
        "print(6&3)"
      ],
      "metadata": {
        "colab": {
          "base_uri": "https://localhost:8080/"
        },
        "outputId": "c2d4b74f-5bc8-4fd7-da31-3b673bac9476",
        "id": "ua8kjQQcmCoS"
      },
      "execution_count": null,
      "outputs": [
        {
          "output_type": "stream",
          "name": "stdout",
          "text": [
            "2\n"
          ]
        }
      ]
    },
    {
      "cell_type": "code",
      "source": [
        "# Bitwise operator: OR (|) - logical conjuction\n",
        "# 6 = 00000110\n",
        "# 3 = 00000011\n",
        "#----------------------\n",
        "# 2 = 00000111\n",
        "\n",
        "print(6|3)"
      ],
      "metadata": {
        "colab": {
          "base_uri": "https://localhost:8080/"
        },
        "outputId": "e1c5d1ee-eddd-4868-a70b-9e092fc505e1",
        "id": "wP3hgFOZmOhX"
      },
      "execution_count": null,
      "outputs": [
        {
          "output_type": "stream",
          "name": "stdout",
          "text": [
            "7\n"
          ]
        }
      ]
    },
    {
      "cell_type": "code",
      "source": [
        "# Bitwise operator: NOT (~) - logical negation\n",
        "#  3 = 00000011\n",
        "#--------------------------\n",
        "# -4 = 11111100\n",
        "\n",
        "print(~3)"
      ],
      "metadata": {
        "colab": {
          "base_uri": "https://localhost:8080/"
        },
        "outputId": "c6f94e6f-061c-4bab-e486-0f405714d349",
        "id": "CllSfhtymjzv"
      },
      "execution_count": null,
      "outputs": [
        {
          "output_type": "stream",
          "name": "stdout",
          "text": [
            "-4\n"
          ]
        }
      ]
    },
    {
      "cell_type": "code",
      "source": [
        "# Bitwise operator: XOR (^) - exclusive OR\n",
        "# 6 = 00000110\n",
        "# 3 = 00000011\n",
        "#--------------------------\n",
        "# 5 = 00000101\n",
        "\n",
        "print(6^3)"
      ],
      "metadata": {
        "colab": {
          "base_uri": "https://localhost:8080/"
        },
        "outputId": "d2ef22bd-67e4-4838-cc68-89ade9b60347",
        "id": "mawCVs4Gm1uU"
      },
      "execution_count": null,
      "outputs": [
        {
          "output_type": "stream",
          "name": "stdout",
          "text": [
            "5\n"
          ]
        }
      ]
    },
    {
      "cell_type": "code",
      "source": [
        "# Bitwise operator: << - inserts zeroes to the right side\n",
        "# 3  = 00000011\n",
        "#-------------------------\n",
        "# 12 = 00001100\n",
        "\n",
        "print(3<<2)"
      ],
      "metadata": {
        "colab": {
          "base_uri": "https://localhost:8080/"
        },
        "outputId": "95dd90ec-44ca-455b-ea03-11dff48c63e4",
        "id": "7RjuFRp5nBrI"
      },
      "execution_count": null,
      "outputs": [
        {
          "output_type": "stream",
          "name": "stdout",
          "text": [
            "12\n"
          ]
        }
      ]
    },
    {
      "cell_type": "code",
      "source": [
        "# Bitwise operator: >> - inserts zeroes to the left side\n",
        "# 8 = 00001000\n",
        "#------------------------\n",
        "# 2 = 00000010\n",
        "\n",
        "print(8>>2)"
      ],
      "metadata": {
        "colab": {
          "base_uri": "https://localhost:8080/"
        },
        "outputId": "c2b9ec5d-c5e8-463d-9b5f-3931a4f18925",
        "id": "l7nIESjbnpx8"
      },
      "execution_count": null,
      "outputs": [
        {
          "output_type": "stream",
          "name": "stdout",
          "text": [
            "2\n"
          ]
        }
      ]
    },
    {
      "cell_type": "markdown",
      "source": [
        "**Assignment operators**\n",
        "\n",
        "Bitwise: &=, |=, ^=, >>=, <<="
      ],
      "metadata": {
        "id": "cEYesb7BC1S_"
      }
    },
    {
      "cell_type": "code",
      "source": [
        "# Assignment operator: &=\n",
        "\n",
        "myFirstBit = 6\n",
        "\n",
        "myFirstBit &= 3\n",
        "print(myFirstBit)          # myFirstBit = myFirstBit & 3"
      ],
      "metadata": {
        "colab": {
          "base_uri": "https://localhost:8080/"
        },
        "id": "S9jmrhQxDC1-",
        "outputId": "d2efb0de-e8fd-46f5-f3de-e20c79004a7b"
      },
      "execution_count": null,
      "outputs": [
        {
          "output_type": "stream",
          "name": "stdout",
          "text": [
            "2\n"
          ]
        }
      ]
    },
    {
      "cell_type": "code",
      "source": [
        "# Assignment operator: |=\n",
        "\n",
        "myFirstBit = 6\n",
        "\n",
        "myFirstBit |= 3\n",
        "print(myFirstBit)          # myFirstBit = myFirstBit | 3"
      ],
      "metadata": {
        "colab": {
          "base_uri": "https://localhost:8080/"
        },
        "id": "tu3bBRZXD-4U",
        "outputId": "9e947fa0-909f-4fb0-facd-822c0c48d225"
      },
      "execution_count": null,
      "outputs": [
        {
          "output_type": "stream",
          "name": "stdout",
          "text": [
            "7\n"
          ]
        }
      ]
    },
    {
      "cell_type": "code",
      "source": [
        "# Assignment operator: ^=\n",
        "\n",
        "myFirstBit = 6\n",
        "\n",
        "myFirstBit ^= 3\n",
        "print(myFirstBit)          # myFirstBit = myFirstBit ^ 3"
      ],
      "metadata": {
        "colab": {
          "base_uri": "https://localhost:8080/"
        },
        "id": "oNZ6MtyCEQnf",
        "outputId": "9039ee87-1b2b-450b-d1e6-f969747c0c03"
      },
      "execution_count": null,
      "outputs": [
        {
          "output_type": "stream",
          "name": "stdout",
          "text": [
            "5\n"
          ]
        }
      ]
    },
    {
      "cell_type": "code",
      "source": [
        "# Assignment operator: <<=\n",
        "\n",
        "myFirstBit = 3\n",
        "\n",
        "myFirstBit <<= 2\n",
        "print(myFirstBit)          # myFirstBit = myFirstBit << 2"
      ],
      "metadata": {
        "colab": {
          "base_uri": "https://localhost:8080/"
        },
        "id": "kwlh9k5jEzUr",
        "outputId": "83b345e5-268c-48ff-d0ac-036973f73828"
      },
      "execution_count": null,
      "outputs": [
        {
          "output_type": "stream",
          "name": "stdout",
          "text": [
            "12\n"
          ]
        }
      ]
    },
    {
      "cell_type": "code",
      "source": [
        "# Assignment operator: >>=\n",
        "\n",
        "myFirstBit = 8\n",
        "\n",
        "myFirstBit >>= 2\n",
        "print(myFirstBit)          # myFirstBit = myFirstBit >> 2"
      ],
      "metadata": {
        "colab": {
          "base_uri": "https://localhost:8080/"
        },
        "id": "kZy6l_RgFHtJ",
        "outputId": "bd1604d4-1cf4-4fd7-889a-5b825ca73d5f"
      },
      "execution_count": null,
      "outputs": [
        {
          "output_type": "stream",
          "name": "stdout",
          "text": [
            "2\n"
          ]
        }
      ]
    },
    {
      "cell_type": "markdown",
      "source": [
        "**Identity operators**\n",
        "\n",
        "*   is\n",
        "*   is not\n",
        "\n"
      ],
      "metadata": {
        "id": "CRZIby6Oovxw"
      }
    },
    {
      "cell_type": "code",
      "source": [
        "# Identity operator: is\n",
        "\n",
        "myFirstVariable  = \"Hello World!\"\n",
        "mySecondVariable = \"Hello World!\"\n",
        "\n",
        "myThirdVariable  =  myFirstVariable\n",
        "\n",
        "print(myFirstVariable is mySecondVariable)\n",
        "print(myFirstVariable is myThirdVariable )\n",
        "\n",
        "print(\"Printing memory addresses :\", id(myFirstVariable), id(mySecondVariable))\n",
        "print(\"Printing memory addresses :\", id(myFirstVariable), id(myThirdVariable) )"
      ],
      "metadata": {
        "colab": {
          "base_uri": "https://localhost:8080/"
        },
        "outputId": "e40c44c4-8dc0-4c4b-ef6f-ed61d64ac763",
        "id": "0yJO9gTcpr6R"
      },
      "execution_count": null,
      "outputs": [
        {
          "output_type": "stream",
          "name": "stdout",
          "text": [
            "False\n",
            "True\n",
            "Printing memory addresses : 140015781414640 140015781426480\n",
            "Printing memory addresses : 140015781414640 140015781414640\n"
          ]
        }
      ]
    },
    {
      "cell_type": "code",
      "source": [
        "# Identity operator: is not\n",
        "\n",
        "myFirstVariable  = \"Hello World!\"\n",
        "mySecondVariable = \"Hello World!\"\n",
        "\n",
        "myThirdVariable  =  myFirstVariable\n",
        "\n",
        "print(myFirstVariable is not mySecondVariable)\n",
        "print(myFirstVariable is not myThirdVariable )\n",
        "\n",
        "print(\"Printing memory addresses :\", id(myFirstVariable), id(mySecondVariable))\n",
        "print(\"Printing memory addresses :\", id(myFirstVariable), id(myThirdVariable) )"
      ],
      "metadata": {
        "colab": {
          "base_uri": "https://localhost:8080/"
        },
        "outputId": "f9fd0a44-5484-42e7-87dc-d9bf8b4b57a1",
        "id": "FatrHFI-tA0A"
      },
      "execution_count": null,
      "outputs": [
        {
          "output_type": "stream",
          "name": "stdout",
          "text": [
            "True\n",
            "False\n",
            "Printing memory addresses : 140015781088432 140015781097968\n",
            "Printing memory addresses : 140015781088432 140015781088432\n"
          ]
        }
      ]
    },
    {
      "cell_type": "markdown",
      "source": [
        "**Membership operators**\n",
        "\n",
        "*   in\n",
        "*   not in\n",
        "\n"
      ],
      "metadata": {
        "id": "FEbV2Yyc1Rr-"
      }
    },
    {
      "cell_type": "code",
      "source": [
        "# Membership operator: in  - returns True if a specified element (sequence) exists\n",
        "\n",
        "myTestString = \"Hello World!\"\n",
        "print(\"World\" in myTestString)"
      ],
      "metadata": {
        "colab": {
          "base_uri": "https://localhost:8080/"
        },
        "id": "mu0fYaEX2tFi",
        "outputId": "6b165dd3-6acc-45ef-f443-f4a774735dee"
      },
      "execution_count": null,
      "outputs": [
        {
          "output_type": "stream",
          "name": "stdout",
          "text": [
            "True\n"
          ]
        }
      ]
    },
    {
      "cell_type": "code",
      "source": [
        "# Membership operator: not in - returns True if a specified element does not exist\n",
        "\n",
        "myTestString = \"Hello World\"\n",
        "print(\"A\" not in myTestString)"
      ],
      "metadata": {
        "colab": {
          "base_uri": "https://localhost:8080/"
        },
        "id": "uXTqQXlc3DfY",
        "outputId": "0a314cc0-a049-4ffc-c0b3-e86fe12f3327"
      },
      "execution_count": null,
      "outputs": [
        {
          "output_type": "stream",
          "name": "stdout",
          "text": [
            "True\n"
          ]
        }
      ]
    },
    {
      "cell_type": "markdown",
      "source": [
        "**Operator precedence**\n",
        "\n",
        "* Parentheses: ()\t\n",
        "* Exponentiation: **\t\n",
        "* Unary: +x,  -x,  ~x\n",
        "* Arithmetic: *,  /, %, //, +, -\n",
        "* Bitwise: <<, >>, AND, ^, |\t\n",
        "* Comparison: ==,  !=,  >,  >=,  <,  <=  \n",
        "* Identity: is,  is not  \n",
        "* Membership: in, in not\n",
        "* Logical: not, and, or"
      ],
      "metadata": {
        "id": "vGU9c0IXy3wn"
      }
    },
    {
      "cell_type": "markdown",
      "source": [
        "# Note\n",
        "\n",
        "---\n",
        "\n",
        "Python is an object-oriented language and, therefore, objects are an important part of Python programming. In fact, everything an object in Python with default data and some functionality. To build an object, you need to use a constructor function. A constructor is a special function that is used to make an instance of a class. A class is like a blueprint to create an object. You can then use that object (instance) of a class to assign some data and functionality. \n",
        "\n",
        "---\n"
      ],
      "metadata": {
        "id": "lxIuBMuQdixB"
      }
    },
    {
      "cell_type": "code",
      "source": [
        "class pensil:\n",
        "    def __new__(cls, *args, **kwargs):                     # creating an object\n",
        "        print(\"Create a new instance of pencil.\")\n",
        "        return super().__new__(cls)\n",
        "\n",
        "    def __init__(self, diameter, length):\n",
        "        print(\"Initialize the new instance of pencil.\")    # initialaising \n",
        "        self.diameter = diameter\n",
        "        self.length   = length\n",
        "\n",
        "    def __repr__(self) -> str:\n",
        "        return f\"{type(self).__name__}(diameter={self.diameter}, length={self.length})\""
      ],
      "metadata": {
        "id": "W84t-4C2hm2J"
      },
      "execution_count": null,
      "outputs": []
    },
    {
      "cell_type": "markdown",
      "source": [
        "# Section 2: Data collections\n"
      ],
      "metadata": {
        "id": "7WulSDtVbEfP"
      }
    },
    {
      "cell_type": "markdown",
      "source": [
        "# Lists\n",
        "\n",
        "\n",
        "---\n",
        "List is used to store several items in a single variable. List is one of the 4th built-in types in Python. List can store more than one variable at the same time. List is a mutable data type meaning that the list can be updated at any point in time. New items can be inserted to the list or deleted from the list. It is a member of data type called sequences. Various operations can be performed on the list including slicing, multiplication, addition, etc.\n",
        "\n",
        "---\n",
        "\n",
        "Syntax: myList = [element 1, element 2, ..., element n]\n"
      ],
      "metadata": {
        "id": "8RxoLXrp4xh5"
      }
    },
    {
      "cell_type": "code",
      "source": [
        "# Creating an empty list\n",
        "\n",
        "myEmptyList = []\n",
        "print(\"My empty list :\", myEmptyList)\n",
        "print(type(myEmptyList))"
      ],
      "metadata": {
        "colab": {
          "base_uri": "https://localhost:8080/"
        },
        "id": "e94FJ_ig3ZBj",
        "outputId": "6e64502a-25b0-4633-d065-0caa07a06315"
      },
      "execution_count": null,
      "outputs": [
        {
          "output_type": "stream",
          "name": "stdout",
          "text": [
            "My empty list : []\n",
            "<class 'list'>\n"
          ]
        }
      ]
    },
    {
      "cell_type": "code",
      "source": [
        "# Creating an empty list using constructor: list()\n",
        "\n",
        "myEmptyList = list()\n",
        "print(\"My empty list :\", myEmptyList)\n",
        "print(type(myEmptyList))"
      ],
      "metadata": {
        "colab": {
          "base_uri": "https://localhost:8080/"
        },
        "id": "QkfBGv8vcrt7",
        "outputId": "82d7c17c-0f5d-43af-a8ae-199a9ecaa7c6"
      },
      "execution_count": null,
      "outputs": [
        {
          "output_type": "stream",
          "name": "stdout",
          "text": [
            "My empty list : []\n",
            "<class 'list'>\n"
          ]
        }
      ]
    },
    {
      "cell_type": "code",
      "source": [
        "# Creating a list with strings\n",
        "\n",
        "myFishList = [\"Red Snapper\", \"Carp\", \"Bass\"]\n",
        "print(myFishList)"
      ],
      "metadata": {
        "id": "Wu5uf2B-e0q7",
        "colab": {
          "base_uri": "https://localhost:8080/"
        },
        "outputId": "4033e41f-de71-469f-cf6b-2a26116af7c4"
      },
      "execution_count": null,
      "outputs": [
        {
          "output_type": "stream",
          "name": "stdout",
          "text": [
            "['Red Snapper', 'Carp', 'Bass']\n"
          ]
        }
      ]
    },
    {
      "cell_type": "code",
      "source": [
        "# Creating a list with integers\n",
        "\n",
        "myNumberList = [1, 2, 3, 4, 5, 6, 7, 8, 9]\n",
        "print(myNumberList)"
      ],
      "metadata": {
        "colab": {
          "base_uri": "https://localhost:8080/"
        },
        "id": "M4GUpUlZ4W_o",
        "outputId": "5c7f7b1a-b898-443e-ce32-9ce81a4ca6d7"
      },
      "execution_count": null,
      "outputs": [
        {
          "output_type": "stream",
          "name": "stdout",
          "text": [
            "[1, 2, 3, 4, 5, 6, 7, 8, 9]\n"
          ]
        }
      ]
    },
    {
      "cell_type": "code",
      "source": [
        "# Creating a list with different data types\n",
        "\n",
        "myMixedList  = [10, 11.0, 123, \"Python\", \"A\", -234.5, True, False, 1.23E-24]\n",
        "myNumberList = [1, 2, 3, 4, 5]\n",
        "print(myMixedList, myNumberList, sep=\";\")"
      ],
      "metadata": {
        "colab": {
          "base_uri": "https://localhost:8080/"
        },
        "id": "dQJHfS744hfU",
        "outputId": "34ffa48e-b626-4131-a4da-2fddec00706a"
      },
      "execution_count": null,
      "outputs": [
        {
          "output_type": "stream",
          "name": "stdout",
          "text": [
            "[10, 11.0, 123, 'Python', 'A', -234.5, True, False, 1.23e-24];[1, 2, 3, 4, 5]\n"
          ]
        }
      ]
    },
    {
      "cell_type": "code",
      "source": [
        "# Creating a list with the list() constructor\n",
        "\n",
        "myFishList = list((\"Carp\", \"Brass\", \"Red Snapper\"))  #use round brackets\n",
        "\n",
        "print(myFishList)\n",
        "print(type(myFishList))"
      ],
      "metadata": {
        "colab": {
          "base_uri": "https://localhost:8080/"
        },
        "id": "hj3kO3pB9knr",
        "outputId": "b1553e71-fc46-42e2-d68e-a6d718562487"
      },
      "execution_count": null,
      "outputs": [
        {
          "output_type": "stream",
          "name": "stdout",
          "text": [
            "['Carp', 'Brass', 'Red Snapper']\n",
            "<class 'list'>\n"
          ]
        }
      ]
    },
    {
      "cell_type": "code",
      "source": [
        "# List constructor: list() - returns a copy of the list\n",
        "\n",
        "myFishList = [\"Carp\", \"Brass\", \"Salmon\", \"Red Snapper\"]\n",
        "\n",
        "myNewList  =  list(myFishList)\n",
        "\n",
        "print(myNewList)\n",
        "print(myNewList is myFishList)"
      ],
      "metadata": {
        "colab": {
          "base_uri": "https://localhost:8080/"
        },
        "outputId": "21104fe2-44ab-4a63-90d7-7404695f7d01",
        "id": "T3OEIK4DIctb"
      },
      "execution_count": null,
      "outputs": [
        {
          "output_type": "stream",
          "name": "stdout",
          "text": [
            "['Carp', 'Brass', 'Salmon', 'Red Snapper']\n",
            "False\n"
          ]
        }
      ]
    },
    {
      "cell_type": "markdown",
      "source": [
        "# List indexing\n",
        "\n",
        "---\n",
        "Each element of the list has a unique index numer as discussed below. To access any element of the list, we need to use that index number. Indexing of a list is the same as for the strings. List is a container for many items, these items are indexed starting with the first one being \"0\".\n",
        "\n",
        "---"
      ],
      "metadata": {
        "id": "Vq3rVLncJd8G"
      }
    },
    {
      "cell_type": "code",
      "source": [
        "# The indexes\n",
        "# myFirstList   =   [1,  2,  3,  4,  5, ..., n]\n",
        "# --------------------------\n",
        "# index              0,  1,  2,  3,  4, ..., n-1\n",
        "# negative index    -n,                 ...,  -1 \n",
        "\n",
        "myFirstList = [\"Red Snapper\", \"Carp\", \"Bass\"]\n",
        "\n",
        "print(myFirstList[0])\n",
        "print(myFirstList[1])\n",
        "print(myFirstList[2])\n"
      ],
      "metadata": {
        "colab": {
          "base_uri": "https://localhost:8080/"
        },
        "id": "3G-6B166ADqB",
        "outputId": "47425c3c-3d77-4ced-f879-f3c7b61b4265"
      },
      "execution_count": null,
      "outputs": [
        {
          "output_type": "stream",
          "name": "stdout",
          "text": [
            "Red Snapper\n",
            "Carp\n",
            "Bass\n"
          ]
        }
      ]
    },
    {
      "cell_type": "markdown",
      "source": [
        "# List slicing\n",
        "\n",
        "---\n",
        "To print a range of elements in the list you can use the slicing method.\n",
        "\n",
        "---\n",
        "Syntax: myList[start index:end index]"
      ],
      "metadata": {
        "id": "6MWjBSpgJpy5"
      }
    },
    {
      "cell_type": "code",
      "source": [
        "# The indexes\n",
        "# myFirstList   =   [1,  2,  3,  4,  5]\n",
        "# --------------------------\n",
        "# index              0,  1,  2,  3,  4\n",
        "# negative index    -5, -4, -3, -2, -1\n",
        "\n",
        "myFirstList = [1, 2, 3, 4, 5]\n",
        "\n",
        "print(myFirstList)          \n",
        "print(myFirstList[:])       \n",
        "print(myFirstList[1:])\n",
        "print(myFirstList[0:3])\n",
        "print(myFirstList[3:4])\n",
        "print(myFirstList[3:5])\n",
        "print(myFirstList[-4:])\n",
        "print(myFirstList[-4:-1])\n",
        "print(myFirstList[-5])"
      ],
      "metadata": {
        "colab": {
          "base_uri": "https://localhost:8080/"
        },
        "id": "8vwyYJXN5GTg",
        "outputId": "0d64dee7-290a-4c08-f1e7-9183453e29c2"
      },
      "execution_count": null,
      "outputs": [
        {
          "output_type": "stream",
          "name": "stdout",
          "text": [
            "[1, 2, 3, 4, 5]\n",
            "[1, 2, 3, 4, 5]\n",
            "[2, 3, 4, 5]\n",
            "[1, 2, 3]\n",
            "[4]\n",
            "[4, 5]\n",
            "[2, 3, 4, 5]\n",
            "[2, 3, 4]\n",
            "1\n"
          ]
        }
      ]
    },
    {
      "cell_type": "code",
      "source": [
        "# Multi-dimensional (nested) lists\n",
        "\n",
        "myNestedList = [1, 2, 3, [10,20,30], 'String']\n",
        "print(myNestedList)\n",
        "print(type(myNestedList))\n"
      ],
      "metadata": {
        "colab": {
          "base_uri": "https://localhost:8080/"
        },
        "id": "6m6TO1HjLHAc",
        "outputId": "0638d840-c332-4b94-c8b1-ce27b3b6331d"
      },
      "execution_count": null,
      "outputs": [
        {
          "output_type": "stream",
          "name": "stdout",
          "text": [
            "[1, 2, 3, [10, 20, 30], 'String']\n",
            "<class 'list'>\n"
          ]
        }
      ]
    },
    {
      "cell_type": "code",
      "source": [
        "# Nested indexing\n",
        "\n",
        "myNestedList = [ 1, 2, 3, [10,20,30], 'String']\n",
        "print(myNestedList[3][1])"
      ],
      "metadata": {
        "colab": {
          "base_uri": "https://localhost:8080/"
        },
        "id": "LzdwYNYZRowF",
        "outputId": "5fb4542e-ce92-4f00-df50-7f7ffc13e386"
      },
      "execution_count": null,
      "outputs": [
        {
          "output_type": "stream",
          "name": "stdout",
          "text": [
            "20\n"
          ]
        }
      ]
    },
    {
      "cell_type": "code",
      "source": [
        "# Check if item is in the list\n",
        "\n",
        "mySecondList = [\"Carp\", \"Brass\", \"Fly\"]\n",
        "print(\"Fly\" in mySecondList)"
      ],
      "metadata": {
        "colab": {
          "base_uri": "https://localhost:8080/"
        },
        "id": "_s9EVQHx-B6e",
        "outputId": "5589df44-0e53-4656-cdd6-0fc853946946"
      },
      "execution_count": null,
      "outputs": [
        {
          "output_type": "stream",
          "name": "stdout",
          "text": [
            "True\n"
          ]
        }
      ]
    },
    {
      "cell_type": "code",
      "source": [
        "# Change values in the list\n",
        "\n",
        "mySecondList = [\"Carp\", \"Brass\", \"Fly\", \"Spider\"]\n",
        "\n",
        "mySecondList[2:3] = [\"Red Snapper\", \"Shark\"]\n",
        "\n",
        "print(mySecondList)"
      ],
      "metadata": {
        "colab": {
          "base_uri": "https://localhost:8080/"
        },
        "id": "7BVrP7bU-d3Q",
        "outputId": "869e950f-bf68-411b-888f-2a5501c2c268"
      },
      "execution_count": null,
      "outputs": [
        {
          "output_type": "stream",
          "name": "stdout",
          "text": [
            "['Carp', 'Brass', 'Red Snapper', 'Shark', 'Spider']\n"
          ]
        }
      ]
    },
    {
      "cell_type": "markdown",
      "source": [
        "# List methods\n",
        "\n",
        "---\n",
        "There are built-in methods that can be used on lists.\n",
        "\n",
        "---"
      ],
      "metadata": {
        "id": "PgArt5DWPSbf"
      }
    },
    {
      "cell_type": "code",
      "source": [
        "# Insert method: insert() - inserts an element to the list \n",
        "\n",
        "myFishingSet = [\"Carp\", \"Brass\", \"Fly\", \"Spider\"]\n",
        "\n",
        "myFishingSet.insert(2, \"Spinning\")\n",
        "myFishingSet.insert(3, \"Casting\")\n",
        "\n",
        "print(myFishingSet)"
      ],
      "metadata": {
        "colab": {
          "base_uri": "https://localhost:8080/"
        },
        "id": "9vRYmexW-_3d",
        "outputId": "e41c2193-afb1-4cba-f009-3d2b3dff0a8b"
      },
      "execution_count": null,
      "outputs": [
        {
          "output_type": "stream",
          "name": "stdout",
          "text": [
            "['Carp', 'Brass', 'Spinning', 'Casting', 'Fly', 'Spider']\n"
          ]
        }
      ]
    },
    {
      "cell_type": "code",
      "source": [
        "# Append method: append() - appends an element to the list\n",
        "\n",
        "myFishList = [\"Carp\"]\n",
        "\n",
        "myFishList.append(\"Brass\")\n",
        "myFishList.append(\"Red Snapper\")\n",
        "myFishList.append(\"Shark\")\n",
        "\n",
        "print(myFishList)"
      ],
      "metadata": {
        "colab": {
          "base_uri": "https://localhost:8080/"
        },
        "id": "MxfnnnCN_jis",
        "outputId": "52693211-56e4-48c4-b965-a7b119fd2aba"
      },
      "execution_count": null,
      "outputs": [
        {
          "output_type": "stream",
          "name": "stdout",
          "text": [
            "['Carp', 'Brass', 'Red Snapper', 'Shark']\n"
          ]
        }
      ]
    },
    {
      "cell_type": "code",
      "source": [
        "# Extend method: extend() - add an element to the end of a list\n",
        "\n",
        "myFishList = [\"Carp\", \"Brass\", \"Red Snapper\"]\n",
        "myLureList = [\"Fly\", \"Spider\", \"Worm\"]\n",
        "\n",
        "myFishList.extend(myLureList)\n",
        "\n",
        "print(myFishList)"
      ],
      "metadata": {
        "colab": {
          "base_uri": "https://localhost:8080/"
        },
        "id": "YOMumLiF_-DH",
        "outputId": "4052e347-0382-4f10-b51e-04ecae71e738"
      },
      "execution_count": null,
      "outputs": [
        {
          "output_type": "stream",
          "name": "stdout",
          "text": [
            "['Carp', 'Brass', 'Red Snapper', 'Fly', 'Spider', 'Worm']\n"
          ]
        }
      ]
    },
    {
      "cell_type": "code",
      "source": [
        "# Remove method: remove() - removes an element from the list\n",
        "\n",
        "myFishList = [\"Carp\", \"Brass\", \"Red Snapper\"]\n",
        "\n",
        "myFishList.remove(\"Carp\")\n",
        "\n",
        "print(myFishList)"
      ],
      "metadata": {
        "colab": {
          "base_uri": "https://localhost:8080/"
        },
        "id": "hnxj0xWRAjaF",
        "outputId": "650b2c5b-8102-4692-b91d-1c2b11de56f2"
      },
      "execution_count": null,
      "outputs": [
        {
          "output_type": "stream",
          "name": "stdout",
          "text": [
            "['Brass', 'Red Snapper']\n"
          ]
        }
      ]
    },
    {
      "cell_type": "code",
      "source": [
        "# Pop method: pop() - removes an element at specified index, if you do not specify, removes the last one\n",
        "\n",
        "myFishList = [\"Carp\", \"Brass\", \"Red Snapper\"]\n",
        "\n",
        "myFishList.pop(2)\n",
        "\n",
        "print(myFishList)\n",
        "\n",
        "myFishList.pop()\n",
        "\n",
        "print(myFishList)"
      ],
      "metadata": {
        "colab": {
          "base_uri": "https://localhost:8080/"
        },
        "id": "oFhEEsOtA1Tt",
        "outputId": "664f9aa4-405d-4d3d-8f24-f8a8fa321094"
      },
      "execution_count": null,
      "outputs": [
        {
          "output_type": "stream",
          "name": "stdout",
          "text": [
            "['Carp', 'Brass']\n",
            "['Carp']\n"
          ]
        }
      ]
    },
    {
      "cell_type": "code",
      "source": [
        "# Clear method: clear() - removes all elements from a list\n",
        "\n",
        "myLureList = [\"Fly\", \"Spider\", \"Worm\"]\n",
        "\n",
        "myLureList.clear()\n",
        "\n",
        "print(myLureList)"
      ],
      "metadata": {
        "colab": {
          "base_uri": "https://localhost:8080/"
        },
        "id": "dt7BbOgsB1pr",
        "outputId": "8e12e4b7-b846-4e90-ccbd-bd5489b227b0"
      },
      "execution_count": null,
      "outputs": [
        {
          "output_type": "stream",
          "name": "stdout",
          "text": [
            "[]\n"
          ]
        }
      ]
    },
    {
      "cell_type": "code",
      "source": [
        "# Sort method: sort() - sorts all elements of a list (case sensitive)\n",
        "\n",
        "myFishList = [\"Carp\", \"Brass\", \"Red Snapper\", \"Shark\", \"Arowana\", \"Catfish\"]\n",
        "\n",
        "myFishList.sort()\n",
        "\n",
        "print(myFishList)"
      ],
      "metadata": {
        "colab": {
          "base_uri": "https://localhost:8080/"
        },
        "id": "cvT_cYVZGjSe",
        "outputId": "7242102a-63f5-4f0c-d6d0-8950e57f798d"
      },
      "execution_count": null,
      "outputs": [
        {
          "output_type": "stream",
          "name": "stdout",
          "text": [
            "['Arowana', 'Brass', 'Carp', 'Catfish', 'Red Snapper', 'Shark']\n"
          ]
        }
      ]
    },
    {
      "cell_type": "code",
      "source": [
        "# Sort method: sort() - sorts all elements of a list (case sensitive)\n",
        "\n",
        "myFishList = [\"Carp\", \"Brass\", \"Red Snapper\", \"Shark\", \"Arowana\", \"Catfish\"]\n",
        "\n",
        "myFishList.sort(reverse = True)\n",
        "\n",
        "print(myFishList)"
      ],
      "metadata": {
        "colab": {
          "base_uri": "https://localhost:8080/"
        },
        "id": "n6PDuRQtG_Vj",
        "outputId": "281861cb-c495-4c87-a177-500915ac3d3e"
      },
      "execution_count": null,
      "outputs": [
        {
          "output_type": "stream",
          "name": "stdout",
          "text": [
            "['Shark', 'Red Snapper', 'Catfish', 'Carp', 'Brass', 'Arowana']\n"
          ]
        }
      ]
    },
    {
      "cell_type": "code",
      "source": [
        "# Sort method: sort() - sorts all elements of a list (case insensitive)\n",
        "\n",
        "myFishList = [\"Carp\", \"Brass\", \"red Snapper\", \"shark\", \"Arowana\", \"catfish\"]\n",
        "\n",
        "myFishList.sort(key=str.lower)\n",
        "\n",
        "print(myFishList)"
      ],
      "metadata": {
        "colab": {
          "base_uri": "https://localhost:8080/"
        },
        "id": "-dEkZ-qeHiBB",
        "outputId": "f612196b-6bbb-44a4-d986-e2871aeefabb"
      },
      "execution_count": null,
      "outputs": [
        {
          "output_type": "stream",
          "name": "stdout",
          "text": [
            "['Arowana', 'Brass', 'Carp', 'catfish', 'red Snapper', 'shark']\n"
          ]
        }
      ]
    },
    {
      "cell_type": "code",
      "source": [
        "# Copy method: copy() - returns a copy of the list\n",
        "\n",
        "myFishList = [\"Carp\", \"Brass\", \"Salmon\", \"Red Snapper\"]\n",
        "\n",
        "myNewList  =  myFishList.copy()\n",
        "\n",
        "print(myNewList)"
      ],
      "metadata": {
        "colab": {
          "base_uri": "https://localhost:8080/"
        },
        "id": "fcVDkWeSIFzp",
        "outputId": "a10e0bf3-bc81-49cb-9555-5be234716436"
      },
      "execution_count": null,
      "outputs": [
        {
          "output_type": "stream",
          "name": "stdout",
          "text": [
            "['Carp', 'Brass', 'Salmon', 'Red Snapper']\n"
          ]
        }
      ]
    },
    {
      "cell_type": "markdown",
      "source": [
        "# List operations\n",
        "\n",
        "---\n",
        "Some basic operations can be performed on lists.\n",
        "\n",
        "---"
      ],
      "metadata": {
        "id": "dAKkuMdH3M_U"
      }
    },
    {
      "cell_type": "code",
      "source": [
        "# Join two lists creating a new list\n",
        "\n",
        "myFishList   = [\"Carp\", \"Brass\", \"Salmon\", \"Red Snapper\"]\n",
        "myInsectList = [\"Fly\", \"Beetle\", \"Ant\", \"Dragonfly\"]\n",
        "\n",
        "myFishingSet = myFishList + myInsectList\n",
        "\n",
        "print(myFishingSet)"
      ],
      "metadata": {
        "colab": {
          "base_uri": "https://localhost:8080/"
        },
        "id": "1q4S9ISCIsr9",
        "outputId": "704fe73a-3e86-4e5f-d8d6-5ccc85363d15"
      },
      "execution_count": null,
      "outputs": [
        {
          "output_type": "stream",
          "name": "stdout",
          "text": [
            "['Carp', 'Brass', 'Salmon', 'Red Snapper', 'Fly', 'Beetle', 'Ant', 'Dragonfly']\n"
          ]
        }
      ]
    },
    {
      "cell_type": "code",
      "source": [
        "# Delete the entire list\n",
        "\n",
        "myFishList = [\"Carp\", \"Brass\", \"Red Snapper\"]\n",
        "\n",
        "del myFishList "
      ],
      "metadata": {
        "id": "jtwD7K8vBj2C"
      },
      "execution_count": null,
      "outputs": []
    },
    {
      "cell_type": "markdown",
      "source": [
        "# Tuples\n",
        "\n",
        "\n",
        "---\n",
        "Tuples are used to store multiple values in a single variable. Once tuple created it can not be changed. Tuple is a collecion of elements that are odered and unchangeble. You can have duplicates. Tuple is inclosed in round parentheses. It is also indexed as strings and lists, starting with index 0.\n",
        "Tuples are ordered when they are defined and that order will not be changed.\n",
        "\n",
        "---\n",
        "\n",
        "Syntax: myTuple = (element 1, element 2, ..., element n)\n"
      ],
      "metadata": {
        "id": "WDg2CPv6JrwG"
      }
    },
    {
      "cell_type": "code",
      "source": [
        "# Creating an empty tuple\n",
        "\n",
        "myEmptyTuple = ()\n",
        "print(\"My empty tuple :\", myEmptyTuple)\n",
        "print(type(myEmptyTuple))"
      ],
      "metadata": {
        "colab": {
          "base_uri": "https://localhost:8080/"
        },
        "id": "JpsrHjI3o9PT",
        "outputId": "0ff05e58-6847-4950-a90e-1d41414f1737"
      },
      "execution_count": null,
      "outputs": [
        {
          "output_type": "stream",
          "name": "stdout",
          "text": [
            "My empty tuple : ()\n",
            "<class 'tuple'>\n"
          ]
        }
      ]
    },
    {
      "cell_type": "code",
      "source": [
        "# Creating an empty tuple using a constructor\n",
        "\n",
        "myEmptyTuple = tuple()\n",
        "print(\"My empty tuple :\", myEmptyTuple)\n",
        "print(type(myEmptyTuple))"
      ],
      "metadata": {
        "colab": {
          "base_uri": "https://localhost:8080/"
        },
        "id": "SAlsuyzscU4L",
        "outputId": "17e36f0e-9415-4b16-9366-43f1fda224af"
      },
      "execution_count": null,
      "outputs": [
        {
          "output_type": "stream",
          "name": "stdout",
          "text": [
            "My empty tuple : ()\n",
            "<class 'tuple'>\n"
          ]
        }
      ]
    },
    {
      "cell_type": "code",
      "source": [
        "# Creating tuple\n",
        "\n",
        "myFirstTuple = (\"Carp\", \"Anaconda\", \"Shark\") # packing\n",
        "print(myFirstTuple)"
      ],
      "metadata": {
        "colab": {
          "base_uri": "https://localhost:8080/"
        },
        "id": "wzavr6HZJ8Vh",
        "outputId": "0bdce1c1-682e-4189-c4b7-cd45a8dbb898"
      },
      "execution_count": null,
      "outputs": [
        {
          "output_type": "stream",
          "name": "stdout",
          "text": [
            "('Carp', 'Anaconda', 'Shark')\n"
          ]
        }
      ]
    },
    {
      "cell_type": "code",
      "source": [
        "# Unpacking tuple\n",
        "\n",
        "myFirstTuple = (\"Carp\", \"Anaconda\", \"Shark\") # packing\n",
        "\n",
        "(myFirstElement, mySecondElement, myThirdElement) = myFirstTuple  # unpacking\n",
        "\n",
        "print(myFirstElement)\n",
        "print(mySecondElement)\n",
        "print(myThirdElement)"
      ],
      "metadata": {
        "colab": {
          "base_uri": "https://localhost:8080/"
        },
        "id": "PQwcFQ42YJEc",
        "outputId": "8c7885b9-cf57-495e-a7ee-ce9821d2f1c7"
      },
      "execution_count": null,
      "outputs": [
        {
          "output_type": "stream",
          "name": "stdout",
          "text": [
            "Carp\n",
            "Anaconda\n",
            "Shark\n"
          ]
        }
      ]
    },
    {
      "cell_type": "code",
      "source": [
        "# Creating a tuple with one item\n",
        "\n",
        "myOneItemTuple = (\"Anaconda\",)\n",
        "print(type(myOneItemTuple))\n",
        "\n",
        "#THIS IS NOT A TUPLE, THIS IS A STRING\n",
        "\n",
        "myNotTuple = (\"Anaconda\")\n",
        "print(type(myNotTuple))"
      ],
      "metadata": {
        "colab": {
          "base_uri": "https://localhost:8080/"
        },
        "id": "N7u-Tt1lLTDl",
        "outputId": "417a24d6-b3f5-4b2d-a30d-5887c5cf183b"
      },
      "execution_count": null,
      "outputs": [
        {
          "output_type": "stream",
          "name": "stdout",
          "text": [
            "<class 'tuple'>\n",
            "<class 'str'>\n"
          ]
        }
      ]
    },
    {
      "cell_type": "code",
      "source": [
        "# Tuple constructor: tuple() - constructor returns a copy of the tuple\n",
        "\n",
        "mySecondTuple = tuple((\"Wolf\", \"Rabbit\"))\n",
        "print(mySecondTuple)"
      ],
      "metadata": {
        "colab": {
          "base_uri": "https://localhost:8080/"
        },
        "id": "OIbk29LUL1Ej",
        "outputId": "9b3f690b-9c42-44d3-dc35-22e9285325b2"
      },
      "execution_count": null,
      "outputs": [
        {
          "output_type": "stream",
          "name": "stdout",
          "text": [
            "('Wolf', 'Rabbit')\n"
          ]
        }
      ]
    },
    {
      "cell_type": "code",
      "source": [
        "# Access tuple with index number\n",
        "\n",
        "myAustralianTuple = tuple ( (\"Kangaroo\", \"Quokka\", \"Bandicoot\"))\n",
        "print(\"This nocturnal marsupial omnivor lives in Australia :\", myAustralianTuple[2])"
      ],
      "metadata": {
        "colab": {
          "base_uri": "https://localhost:8080/"
        },
        "id": "He4EbNPktLfd",
        "outputId": "115820ea-7e77-4e1e-9285-5520920fdb9b"
      },
      "execution_count": null,
      "outputs": [
        {
          "output_type": "stream",
          "name": "stdout",
          "text": [
            "This nocturnal marsupial omnivor lives in Australia : Bandicoot\n"
          ]
        }
      ]
    },
    {
      "cell_type": "markdown",
      "source": [
        "# Tuple methods\n",
        "\n",
        "---\n",
        "There are some built-in methods that can be used on tuples.\n",
        "\n",
        "---"
      ],
      "metadata": {
        "id": "s2_Vnr4ewS4D"
      }
    },
    {
      "cell_type": "code",
      "source": [
        "# Count method: count() - returns a number of repeated elements in the Tuple\n",
        "\n",
        "myTestTuple = (1, 2, 3, 4, 5, 5, 5, 5, 5, 5, 6)\n",
        "print(myTestTuple.count(5))"
      ],
      "metadata": {
        "colab": {
          "base_uri": "https://localhost:8080/"
        },
        "id": "_ygQO9WVvLVz",
        "outputId": "1905b803-c7d6-4a1e-959b-c3aef1623e63"
      },
      "execution_count": null,
      "outputs": [
        {
          "output_type": "stream",
          "name": "stdout",
          "text": [
            "6\n"
          ]
        }
      ]
    },
    {
      "cell_type": "code",
      "source": [
        "# Index method: index() - returns an index of the first occurence for the specified element\n",
        "\n",
        "myTestTuple = (1, 2, 3, 4, 5, 6, 7, 8, 9)\n",
        "print(myTestTuple.index(4))"
      ],
      "metadata": {
        "colab": {
          "base_uri": "https://localhost:8080/"
        },
        "id": "l_Km0CjgxkAN",
        "outputId": "bedf0b5e-4ce1-4a05-acd9-c810fb7cc93f"
      },
      "execution_count": null,
      "outputs": [
        {
          "output_type": "stream",
          "name": "stdout",
          "text": [
            "3\n"
          ]
        }
      ]
    },
    {
      "cell_type": "markdown",
      "source": [
        "# Tuple operations\n",
        "\n",
        "---\n",
        "Some basic operations can be performed on tuples.\n",
        "\n",
        "---"
      ],
      "metadata": {
        "id": "qXYXXrZxyQvo"
      }
    },
    {
      "cell_type": "code",
      "source": [
        "# Join two tuples\n",
        "\n",
        "myFishTuple   = (\"Pike\", \"Bass\", \"Carp\")\n",
        "myMammalTuple = (\"Blue Whale\", \"Orca\", \"Dolphin\")\n",
        "\n",
        "myAnimalTuple = myFishTuple + myMammalTuple\n",
        "\n",
        "print(myAnimalTuple)"
      ],
      "metadata": {
        "colab": {
          "base_uri": "https://localhost:8080/"
        },
        "id": "UMZrUtZSyUnf",
        "outputId": "44f5dde7-0ce7-4d70-ce1d-a85ab50096ce"
      },
      "execution_count": null,
      "outputs": [
        {
          "output_type": "stream",
          "name": "stdout",
          "text": [
            "('Pike', 'Bass', 'Carp', 'Blue Whale', 'Orca', 'Dolphin')\n"
          ]
        }
      ]
    },
    {
      "cell_type": "code",
      "source": [
        " # Delete the entire tuple\n",
        "\n",
        "myFishTuple   = (\"Pike\", \"Bass\", \"Carp\")\n",
        "\n",
        "del myFishTuple"
      ],
      "metadata": {
        "id": "9e0sMfri1soR"
      },
      "execution_count": null,
      "outputs": []
    },
    {
      "cell_type": "markdown",
      "source": [
        "# Dictionary\n",
        "\n",
        "---\n",
        "A dictionary is an ordered mutable data collection but do not allow duplicates. The items can be removed, changed, and added. Dictionaries store data using **key:value** pairs inclosed in curly braces. Dictionaries are ordered starting from version 3.7. \n",
        "\n",
        "---\n",
        "Syntax: myDictionary = { key: value }"
      ],
      "metadata": {
        "id": "LrEJ_oZiIq2d"
      }
    },
    {
      "cell_type": "code",
      "source": [
        "# Creating an empty dictionary\n",
        "\n",
        "myEmptyDict = {}\n",
        "print(\"My empty dictionary :\", myEmptyDict)\n",
        "print(type(myEmptyDict))"
      ],
      "metadata": {
        "colab": {
          "base_uri": "https://localhost:8080/"
        },
        "id": "ycMVkJdEobuO",
        "outputId": "b0df762c-980f-4c53-e8f7-e3c0cf93699c"
      },
      "execution_count": null,
      "outputs": [
        {
          "output_type": "stream",
          "name": "stdout",
          "text": [
            "My empty dictionary : {}\n",
            "<class 'dict'>\n"
          ]
        }
      ]
    },
    {
      "cell_type": "code",
      "source": [
        "# Creating an empty dictionary using constructor\n",
        "\n",
        "myEmptyDict = dict()\n",
        "print(\"My empty dictionary :\", myEmptyDict)\n",
        "print(type(myEmptyDict))"
      ],
      "metadata": {
        "colab": {
          "base_uri": "https://localhost:8080/"
        },
        "id": "yxBqRoaOX2Du",
        "outputId": "0bd1f897-9828-42ec-a31b-1e4163e01167"
      },
      "execution_count": null,
      "outputs": [
        {
          "output_type": "stream",
          "name": "stdout",
          "text": [
            "My empty dictionary : {}\n",
            "<class 'dict'>\n"
          ]
        }
      ]
    },
    {
      "cell_type": "code",
      "source": [
        "# Creating dictionary\n",
        "\n",
        "myFirstDictionary = {\"Name\":\"Kirill\", \"Age\":72, \"Occupation\":\"Doctor\"}\n",
        "print(myFirstDictionary)"
      ],
      "metadata": {
        "colab": {
          "base_uri": "https://localhost:8080/"
        },
        "id": "AmUQHGAZI9Nv",
        "outputId": "7221b1e1-8ec6-46bb-8cd2-67f4ba4aada1"
      },
      "execution_count": null,
      "outputs": [
        {
          "output_type": "stream",
          "name": "stdout",
          "text": [
            "{'Name': 'Kirill', 'Age': 72, 'Occupation': 'Doctor'}\n"
          ]
        }
      ]
    },
    {
      "cell_type": "code",
      "source": [
        "# Dictionary constructor: dict() - returns a copy of the dictionary\n",
        "\n",
        "myFirstDictionary = dict(Name=\"Kirill\", Age=25, Occupation=\"Student\")\n",
        "print(myFirstDictionary)"
      ],
      "metadata": {
        "colab": {
          "base_uri": "https://localhost:8080/"
        },
        "id": "wqzD_rpwLO0W",
        "outputId": "10c79ff6-6fbd-4618-8283-509f56973140"
      },
      "execution_count": null,
      "outputs": [
        {
          "output_type": "stream",
          "name": "stdout",
          "text": [
            "{'Name': 'Kirill', 'Age': 25, 'Occupation': 'Student'}\n"
          ]
        }
      ]
    },
    {
      "cell_type": "code",
      "source": [
        "# Dictionary constructor: dict() - returns a copy of the dictionary\n",
        "\n",
        "myFirstDictionary = dict([(\"Name\",\"Kirill\"), (\"Age\",25), (\"Occupation\",\"Student\")])\n",
        "print(myFirstDictionary)"
      ],
      "metadata": {
        "colab": {
          "base_uri": "https://localhost:8080/"
        },
        "id": "ofFxolTdtR0Y",
        "outputId": "b423ba5b-168b-41f7-8ba7-82d54c8e7729"
      },
      "execution_count": null,
      "outputs": [
        {
          "output_type": "stream",
          "name": "stdout",
          "text": [
            "{'Name': 'Kirill', 'Age': 25, 'Occupation': 'Student'}\n"
          ]
        }
      ]
    },
    {
      "cell_type": "code",
      "source": [
        "# Type function: type() - returns type of the variable\n",
        "\n",
        "myFirstDictionary={\"Name\":\"Kirill\", \"Age\":20, \"Occupation\":\"Student\"}\n",
        "print(type(myFirstDictionary))"
      ],
      "metadata": {
        "colab": {
          "base_uri": "https://localhost:8080/"
        },
        "id": "LocTGZLzK6JT",
        "outputId": "c7e48c04-796d-40c0-a7f3-13a6717a812a"
      },
      "execution_count": null,
      "outputs": [
        {
          "output_type": "stream",
          "name": "stdout",
          "text": [
            "<class 'dict'>\n"
          ]
        }
      ]
    },
    {
      "cell_type": "code",
      "source": [
        "# Length function: len() - returns the lenght of a dictionary\n",
        "\n",
        "myFirstDictionary={\"Name\":\"Kirill\", \"Age\":25, \"Occupation\":\"Student\"}\n",
        "print(len(myFirstDictionary))"
      ],
      "metadata": {
        "colab": {
          "base_uri": "https://localhost:8080/"
        },
        "id": "0kCHLuJAKhyq",
        "outputId": "dbbd84e9-1eeb-4c72-c0b5-8ba8db509669"
      },
      "execution_count": null,
      "outputs": [
        {
          "output_type": "stream",
          "name": "stdout",
          "text": [
            "3\n"
          ]
        }
      ]
    },
    {
      "cell_type": "code",
      "source": [
        "# Get the value of the key:  key:value\n",
        "\n",
        "myFirstDictionary = dict(Name=\"Kirill\", Age=25, Occupation=\"Student\")\n",
        "print(myFirstDictionary[\"Age\"])"
      ],
      "metadata": {
        "colab": {
          "base_uri": "https://localhost:8080/"
        },
        "id": "fp6PHb62L1u9",
        "outputId": "28fcd1d6-eb79-4a3f-8c63-fa138b2811dd"
      },
      "execution_count": null,
      "outputs": [
        {
          "output_type": "stream",
          "name": "stdout",
          "text": [
            "25\n"
          ]
        }
      ]
    },
    {
      "cell_type": "code",
      "source": [
        "#Adding a new item to the dicitonary\n",
        "myFirstDictionary = dict(Name=\"Kirill\", Age=25, Occupation=\"Student\")\n",
        "myFirstDictionary[\"Age\"] = 55\n",
        "\n",
        "print(myFirstDictionary)"
      ],
      "metadata": {
        "colab": {
          "base_uri": "https://localhost:8080/"
        },
        "id": "8OUIAF3WNCFw",
        "outputId": "d745deea-e99b-4f1f-82dd-2e0fac8c4e7a"
      },
      "execution_count": null,
      "outputs": [
        {
          "output_type": "stream",
          "name": "stdout",
          "text": [
            "{'Name': 'Kirill', 'Age': 55, 'Occupation': 'Student'}\n"
          ]
        }
      ]
    },
    {
      "cell_type": "markdown",
      "source": [
        "# Dictionary methods\n",
        "\n",
        "---\n",
        "There are some built-in methods that can be used on dictionaries.\n",
        "\n",
        "---"
      ],
      "metadata": {
        "id": "JSlEagi1xdh0"
      }
    },
    {
      "cell_type": "code",
      "source": [
        "# Get method: get() - access dictionary value using the keyword\n",
        "\n",
        "myFirstDictionary = {\"Name\":\"Kirill\", \"Age\":25, \"Occupation\":\"Student\"}\n",
        "print(myFirstDictionary.get(\"Age\"))"
      ],
      "metadata": {
        "colab": {
          "base_uri": "https://localhost:8080/"
        },
        "id": "_5jYofrGMQeO",
        "outputId": "577f26a5-7a20-461e-e497-e8c992ed47de"
      },
      "execution_count": null,
      "outputs": [
        {
          "output_type": "stream",
          "name": "stdout",
          "text": [
            "25\n"
          ]
        }
      ]
    },
    {
      "cell_type": "code",
      "source": [
        "# Keys method: keys() - gets a list of keys\n",
        "\n",
        "myFirstDictionary = {\"Name\":\"Kirill\", \"Age\":25, \"Occupation\":\"Student\"}\n",
        "print(myFirstDictionary.keys())"
      ],
      "metadata": {
        "colab": {
          "base_uri": "https://localhost:8080/"
        },
        "id": "k81BrfGlMwB7",
        "outputId": "71f0bab6-380f-429c-fb4d-e5c54a484f96"
      },
      "execution_count": null,
      "outputs": [
        {
          "output_type": "stream",
          "name": "stdout",
          "text": [
            "dict_keys(['Name', 'Age', 'Occupation'])\n"
          ]
        }
      ]
    },
    {
      "cell_type": "code",
      "source": [
        "# Values method: values() - gets a list of values\n",
        "\n",
        "myFirstDictionary = {\"Name\":\"Kirill\", \"Age\":25, \"Occupation\":\"Student\"}\n",
        "print(myFirstDictionary.values())"
      ],
      "metadata": {
        "colab": {
          "base_uri": "https://localhost:8080/"
        },
        "id": "LIH3CV1RNi4v",
        "outputId": "986d0cce-a7c2-4332-eabe-1a8e3cdbcb07"
      },
      "execution_count": null,
      "outputs": [
        {
          "output_type": "stream",
          "name": "stdout",
          "text": [
            "dict_values(['Kirill', 25, 'Student'])\n"
          ]
        }
      ]
    },
    {
      "cell_type": "code",
      "source": [
        "# Items method: items() - gets a list of key:value pairs\n",
        "\n",
        "myFirstDictionary = {\"Name\":\"Kirill\", \"Age\":25, \"Occupation\":\"Student\"}\n",
        "print(myFirstDictionary.items())"
      ],
      "metadata": {
        "colab": {
          "base_uri": "https://localhost:8080/"
        },
        "id": "DfxebHnJN581",
        "outputId": "856cd57c-889d-46dc-f907-827a2b4df8ea"
      },
      "execution_count": null,
      "outputs": [
        {
          "output_type": "stream",
          "name": "stdout",
          "text": [
            "dict_items([('Name', 'Kirill'), ('Age', 25), ('Occupation', 'Student')])\n"
          ]
        }
      ]
    },
    {
      "cell_type": "code",
      "source": [
        "# Update method: update() - updates the dictionary with the key:value pair\n",
        "\n",
        "myFirstDictionary = {\"Name\":\"Kirill\", \"Age\":25, \"Occupation\":\"Student\"}\n",
        "myFirstDictionary.update({\"Age\":33})\n",
        "\n",
        "print(myFirstDictionary)"
      ],
      "metadata": {
        "colab": {
          "base_uri": "https://localhost:8080/"
        },
        "id": "_mdgODj4O-09",
        "outputId": "afc3a671-1bf3-470f-89f0-4fb6f32f7a52"
      },
      "execution_count": null,
      "outputs": [
        {
          "output_type": "stream",
          "name": "stdout",
          "text": [
            "{'Name': 'Kirill', 'Age': 33, 'Occupation': 'Student'}\n"
          ]
        }
      ]
    },
    {
      "cell_type": "code",
      "source": [
        "# Pop method: pop() - removes the key:value pair from the dictionary\n",
        "\n",
        "myFirstDictionary = {\"Name\":\"Kirill\", \"Age\":25, \"Occupation\":\"Student\"}\n",
        "myFirstDictionary.pop(\"Age\")\n",
        "\n",
        "print(myFirstDictionary)"
      ],
      "metadata": {
        "colab": {
          "base_uri": "https://localhost:8080/"
        },
        "id": "gE9SoknNQZmU",
        "outputId": "2f30e76b-3fee-41f3-fcc7-cb04e9989949"
      },
      "execution_count": null,
      "outputs": [
        {
          "output_type": "stream",
          "name": "stdout",
          "text": [
            "{'Name': 'Kirill', 'Occupation': 'Student'}\n"
          ]
        }
      ]
    },
    {
      "cell_type": "markdown",
      "source": [
        "# Dictionary operations\n",
        "\n",
        "---\n",
        "Some basic operations can be performed on dictionaries.\n",
        "\n",
        "---"
      ],
      "metadata": {
        "id": "j39H9C6p1GHB"
      }
    },
    {
      "cell_type": "code",
      "source": [
        "# Delete item from the dictionary\n",
        "\n",
        "myFirstDictionary = {\"Name\":\"Kirill\", \"Age\":25, \"Occupation\":\"Student\"}\n",
        "del myFirstDictionary[\"Age\"]\n",
        "\n",
        "print(myFirstDictionary)"
      ],
      "metadata": {
        "colab": {
          "base_uri": "https://localhost:8080/"
        },
        "id": "fPBTRj2xRABQ",
        "outputId": "08e62e12-8f90-4a42-f677-feb224780ef2"
      },
      "execution_count": null,
      "outputs": [
        {
          "output_type": "stream",
          "name": "stdout",
          "text": [
            "{'Name': 'Kirill', 'Occupation': 'Student'}\n"
          ]
        }
      ]
    },
    {
      "cell_type": "code",
      "source": [
        "# Delete dictionary\n",
        "\n",
        "myFirstDictionary = {\"Name\":\"Kirill\", \"Age\":25, \"Occupation\":\"Student\"}\n",
        "del myFirstDictionary\n",
        "\n",
        "print(myFirstDictionary)"
      ],
      "metadata": {
        "id": "70oAGiaI06LI"
      },
      "execution_count": null,
      "outputs": []
    },
    {
      "cell_type": "markdown",
      "source": [
        "# Note\n",
        "\n",
        "---\n",
        "Python dictionary can be loadded from JSON file. JSON stands for JavaScript Object Notation and it is a vary popular format of storing data on the web. Here is the example of such a file student.json\n",
        "\n",
        "---"
      ],
      "metadata": {
        "id": "FRXuwLhXuUmI"
      }
    },
    {
      "cell_type": "code",
      "source": [
        "# student.json\n",
        "\n",
        "{\n",
        "    \"Name\": \"Mark\",\n",
        "    \"Age\": 21,\n",
        "    \"Occupation\": \"Student\"\n",
        "}"
      ],
      "metadata": {
        "id": "tBdESeYyu6JR"
      },
      "execution_count": null,
      "outputs": []
    },
    {
      "cell_type": "code",
      "source": [
        "# To load JSON file to the Python\n",
        "\n",
        "import json\n",
        "\n",
        "with open('student.json', 'r') as json_file:\n",
        "  student = json.load(json_file)\n",
        "print(student)"
      ],
      "metadata": {
        "id": "vqrVenh-vXYh"
      },
      "execution_count": null,
      "outputs": []
    },
    {
      "cell_type": "markdown",
      "source": [
        "# Sets\n",
        "\n",
        "---\n",
        "\n",
        "Sets are used to store multiple elements in a single variable.\n",
        "It is unordered, unchangable, and unindexed sequence. Everytime \n",
        "you access the set the order of elements can vary. Elements of \n",
        "sets can not be accessed by index number. You can not modify the\n",
        "set, but you can remove or add elements.\n",
        "\n",
        "---\n",
        "Syntax: mySet = {element 1, element 2, element 3, ..., element n}"
      ],
      "metadata": {
        "id": "aug2ii2_MNbv"
      }
    },
    {
      "cell_type": "code",
      "source": [
        "# Creating an empty set\n",
        "\n",
        "myEmptySet = set()\n",
        "print(\"My empty set :\", myEmptySet)\n",
        "print(type(myEmptySet))"
      ],
      "metadata": {
        "colab": {
          "base_uri": "https://localhost:8080/"
        },
        "id": "aM6KGd6KHFbP",
        "outputId": "e5c24446-3cb3-440f-d1ed-2b1910e4f7e5"
      },
      "execution_count": null,
      "outputs": [
        {
          "output_type": "stream",
          "name": "stdout",
          "text": [
            "My empty set : set()\n",
            "<class 'set'>\n"
          ]
        }
      ]
    },
    {
      "cell_type": "code",
      "source": [
        "# Create Set\n",
        "\n",
        "myFishSet = {\"Carp\", \"Bass\", \"Salmon\", \"Red Snapper\"}  # It is one order\n",
        "print(myFishSet)"
      ],
      "metadata": {
        "colab": {
          "base_uri": "https://localhost:8080/"
        },
        "id": "l1nS-WtVY1Sh",
        "outputId": "a143032f-e969-4466-aca7-32c0134ad672"
      },
      "execution_count": null,
      "outputs": [
        {
          "output_type": "stream",
          "name": "stdout",
          "text": [
            "{'Carp', 'Red Snapper', 'Bass', 'Salmon'}\n"
          ]
        }
      ]
    },
    {
      "cell_type": "code",
      "source": [
        "# Create set using the constructor: set()\n",
        "\n",
        "myFishSet = set((\"Carp\", \"Bass\", \"Salmon\", \"Red Snapper\"))\n",
        "print(myFishSet)"
      ],
      "metadata": {
        "colab": {
          "base_uri": "https://localhost:8080/"
        },
        "id": "z3c9RkQSG8tk",
        "outputId": "a065a06e-18d9-4508-fe2b-ce2ff55f1637"
      },
      "execution_count": null,
      "outputs": [
        {
          "output_type": "stream",
          "name": "stdout",
          "text": [
            "{'Carp', 'Red Snapper', 'Bass', 'Salmon'}\n"
          ]
        }
      ]
    },
    {
      "cell_type": "code",
      "source": [
        "# Create Set with duplicates\n",
        "\n",
        "myFishSet = {\"Carp\", \"Bass\", \"Salmon\", \"Red Snapper\", \"Bass\"}\n",
        "print(myFishSet)"
      ],
      "metadata": {
        "colab": {
          "base_uri": "https://localhost:8080/"
        },
        "id": "6DUwz-mYZNF-",
        "outputId": "4c5dd413-3cb5-489e-e875-0945a8bd8abb"
      },
      "execution_count": null,
      "outputs": [
        {
          "output_type": "stream",
          "name": "stdout",
          "text": [
            "{'Carp', 'Red Snapper', 'Bass', 'Salmon'}\n"
          ]
        }
      ]
    },
    {
      "cell_type": "code",
      "source": [
        "# Create Set with Boolean types and integers\n",
        "\n",
        "myFirstSet = {\"Carp\", \"Bass\", \"Red Snapper\", \"Bass\", True, 1, 2}\n",
        "print(myFirstSet)"
      ],
      "metadata": {
        "colab": {
          "base_uri": "https://localhost:8080/"
        },
        "id": "4cgo_2HnZdqW",
        "outputId": "8d994bec-6343-481c-ae56-5865702c6897"
      },
      "execution_count": null,
      "outputs": [
        {
          "output_type": "stream",
          "name": "stdout",
          "text": [
            "{True, 2, 'Red Snapper', 'Carp', 'Bass'}\n"
          ]
        }
      ]
    },
    {
      "cell_type": "code",
      "source": [
        "#Sets' data types\n",
        "\n",
        "myFishSet    =  {\"Carp\", \"Bass\", \"Red Snapper\", \"Salmon\"}\n",
        "myNumberSet  =  {1, 2, 3, 4, 5, 4, 6, 3, 21}\n",
        "myBooleanSet =  {True, False, False, True,False}\n",
        "myMixedSet   =  {\"Carp\", True, 23, 40, \"Bass\", \"Salmon\"}\n",
        "\n",
        "print(myFishSet)\n",
        "print(myNumberSet)\n",
        "print(myBooleanSet)\n",
        "print(myMixedSet)"
      ],
      "metadata": {
        "colab": {
          "base_uri": "https://localhost:8080/"
        },
        "id": "01sJnNKcaC18",
        "outputId": "93406133-6db0-4c24-9197-ad7b3ea0cc83"
      },
      "execution_count": null,
      "outputs": [
        {
          "output_type": "stream",
          "name": "stdout",
          "text": [
            "{'Carp', 'Red Snapper', 'Bass', 'Salmon'}\n",
            "{1, 2, 3, 4, 5, 6, 21}\n",
            "{False, True}\n",
            "{True, 23, 'Carp', 40, 'Bass', 'Salmon'}\n"
          ]
        }
      ]
    },
    {
      "cell_type": "code",
      "source": [
        "#Set's type\n",
        "myFirstSet  = {\"Carp\", \"Bass\", \"Red Snapper\", \"Salmon\"}\n",
        "mySecondSet = {1, 2, 3, 4, 5, 4, 6, 3, 21}\n",
        "\n",
        "print(type(myFirstSet))\n",
        "print(type(mySecondSet))"
      ],
      "metadata": {
        "colab": {
          "base_uri": "https://localhost:8080/"
        },
        "id": "Q9EyFAFWaxMP",
        "outputId": "81560102-c87c-4e1c-a2e7-60eee30771dd"
      },
      "execution_count": null,
      "outputs": [
        {
          "output_type": "stream",
          "name": "stdout",
          "text": [
            "<class 'set'>\n",
            "<class 'set'>\n"
          ]
        }
      ]
    },
    {
      "cell_type": "code",
      "source": [
        "#Set's length\n",
        "\n",
        "mySecondSet = {\"Carp\", \"Bass\", \"Red Snapper\", \"Salmon\"}\n",
        "print(len(mySecondSet))"
      ],
      "metadata": {
        "colab": {
          "base_uri": "https://localhost:8080/"
        },
        "id": "vVh-kbCLZzOd",
        "outputId": "b26f5d61-531c-4e70-95b3-33a78b8b47ae"
      },
      "execution_count": null,
      "outputs": [
        {
          "output_type": "stream",
          "name": "stdout",
          "text": [
            "4\n"
          ]
        }
      ]
    },
    {
      "cell_type": "markdown",
      "source": [
        "# Set methods\n",
        "\n",
        "---\n",
        "There are some built-in methods that can be used on sets.\n",
        "\n",
        "---"
      ],
      "metadata": {
        "id": "PD2eCqRbMAUj"
      }
    },
    {
      "cell_type": "code",
      "source": [
        "# Add method: add() - adding items to a set\n",
        "\n",
        "myFishSet = {\"Carp\", \"Bass\", \"Red Snapper\"}\n",
        "myFishSet.add(\"Salmon\")\n",
        "print(myFishSet)"
      ],
      "metadata": {
        "colab": {
          "base_uri": "https://localhost:8080/"
        },
        "id": "PIl_tV42b1lw",
        "outputId": "1c089442-4b46-4ad4-c07b-f1ff3c4d839d"
      },
      "execution_count": null,
      "outputs": [
        {
          "output_type": "stream",
          "name": "stdout",
          "text": [
            "{'Carp', 'Red Snapper', 'Bass', 'Salmon'}\n"
          ]
        }
      ]
    },
    {
      "cell_type": "code",
      "source": [
        "# Update method: update() - updating set with another set\n",
        "\n",
        "myFirstSet  = {\"Carp\", \"Bass\"}\n",
        "mySecondSet = {\"Red Snapper\", \"Salmon\"}\n",
        "\n",
        "myFirstSet.update(mySecondSet)\n",
        "\n",
        "print(myFirstSet)"
      ],
      "metadata": {
        "colab": {
          "base_uri": "https://localhost:8080/"
        },
        "id": "ueHCgxgycIZs",
        "outputId": "d0f4185b-1afd-49a5-95d7-bb3ac8d91524"
      },
      "execution_count": null,
      "outputs": [
        {
          "output_type": "stream",
          "name": "stdout",
          "text": [
            "{'Carp', 'Red Snapper', 'Bass', 'Salmon'}\n"
          ]
        }
      ]
    },
    {
      "cell_type": "code",
      "source": [
        "# Update method: update() - updating set with a list \n",
        "\n",
        "myFirstSet   = {\"Carp\", \"Bass\"}\n",
        "mySecondList = [\"Red Snapper\", \"Salmon\"]\n",
        "\n",
        "myFirstSet.update(mySecondList)\n",
        "\n",
        "print(myFirstSet)"
      ],
      "metadata": {
        "colab": {
          "base_uri": "https://localhost:8080/"
        },
        "id": "RHxfA-bzco7O",
        "outputId": "b7f5bdc4-447b-4da3-ddaa-37ad5da03ec7"
      },
      "execution_count": null,
      "outputs": [
        {
          "output_type": "stream",
          "name": "stdout",
          "text": [
            "{'Carp', 'Red Snapper', 'Bass', 'Salmon'}\n"
          ]
        }
      ]
    },
    {
      "cell_type": "code",
      "source": [
        "# Remove method: remove() - removes elements of a set\n",
        "\n",
        "myFirstSet = {\"Carp\", \"Bass\", \"Red Snapper\", \"Salmon\"}\n",
        "\n",
        "myFirstSet.remove(\"Carp\")\n",
        "\n",
        "print(myFirstSet)"
      ],
      "metadata": {
        "colab": {
          "base_uri": "https://localhost:8080/"
        },
        "id": "siByvL9jdAP3",
        "outputId": "4bd80b54-c6ca-42a3-e940-b7251028306e"
      },
      "execution_count": null,
      "outputs": [
        {
          "output_type": "stream",
          "name": "stdout",
          "text": [
            "{'Red Snapper', 'Bass', 'Salmon'}\n"
          ]
        }
      ]
    },
    {
      "cell_type": "code",
      "source": [
        "# Discard method: discard() - discards element of a set\n",
        "\n",
        "myFirstSet = {\"Carp\", \"Bass\", \"Red Snapper\", \"Salmon\"}\n",
        "\n",
        "myFirstSet.discard(\"Red Snapper\")\n",
        "\n",
        "print(myFirstSet)\n"
      ],
      "metadata": {
        "colab": {
          "base_uri": "https://localhost:8080/"
        },
        "id": "q_JIy6zIOHlh",
        "outputId": "6e1342a4-48aa-4bb5-edf1-88c165fb616b"
      },
      "execution_count": null,
      "outputs": [
        {
          "output_type": "stream",
          "name": "stdout",
          "text": [
            "{'Carp', 'Bass', 'Salmon'}\n"
          ]
        }
      ]
    },
    {
      "cell_type": "code",
      "source": [
        "# Pop method: pop() - removes an element of a string, you do not know which item gets removed\n",
        "\n",
        "myFirstSet = {\"Carp\", \"Bass\", \"Red Snapper\", \"Salmon\"}\n",
        "\n",
        "myFirstSet.pop()\n",
        "\n",
        "print(myFirstSet)"
      ],
      "metadata": {
        "colab": {
          "base_uri": "https://localhost:8080/"
        },
        "id": "f24DGQRxdhwv",
        "outputId": "b20dc9b8-f85c-4b93-bbd2-768fb09447b9"
      },
      "execution_count": null,
      "outputs": [
        {
          "output_type": "stream",
          "name": "stdout",
          "text": [
            "{'Red Snapper', 'Bass', 'Salmon'}\n"
          ]
        }
      ]
    },
    {
      "cell_type": "code",
      "source": [
        "# Clear method: clear() - makes a set empty\n",
        "\n",
        "myFirstSet  =  {\"Carp\", \"Bass\", \"Red Snapper\", \"Salmon\"}\n",
        "\n",
        "myFirstSet.clear()\n",
        "\n",
        "print(myFirstSet)"
      ],
      "metadata": {
        "colab": {
          "base_uri": "https://localhost:8080/"
        },
        "id": "yoDoL6GYd8ru",
        "outputId": "74cfd0e6-9bc5-46c2-eb41-75da46d905a9"
      },
      "execution_count": null,
      "outputs": [
        {
          "output_type": "stream",
          "name": "stdout",
          "text": [
            "set()\n"
          ]
        }
      ]
    },
    {
      "cell_type": "code",
      "source": [
        "# Intersection method: intersection() - keeps only duplicates\n",
        "\n",
        "myFirstSet   =  {\"Carp\", \"Red Snapper\"}\n",
        "mySecondSet  =  {\"Carp\", \"Bass\", \"Red Snapper\", \"Salmon\"}\n",
        "\n",
        "myThirdSet   =  myFirstSet.intersection(mySecondSet)\n",
        "\n",
        "print(myThirdSet)"
      ],
      "metadata": {
        "colab": {
          "base_uri": "https://localhost:8080/"
        },
        "id": "Zk7dqs_CfULP",
        "outputId": "85b537ef-82ea-4d1a-c4c1-946ca16fddca"
      },
      "execution_count": null,
      "outputs": [
        {
          "output_type": "stream",
          "name": "stdout",
          "text": [
            "{'Carp', 'Red Snapper'}\n"
          ]
        }
      ]
    },
    {
      "cell_type": "code",
      "source": [
        "# Intersection update method: intersection_update() - keeps only duplicates\n",
        "\n",
        "myFirstSet  = {\"Carp\", \"Bass\", \"Red Snapper\", \"Salmon\"}\n",
        "mySecondSet = {\"Carp\", \"Bass\", \"Red Snapper\", \"Salmon\"}\n",
        "\n",
        "myFirstSet.intersection_update(mySecondSet)\n",
        "\n",
        "print(myFirstSet)"
      ],
      "metadata": {
        "colab": {
          "base_uri": "https://localhost:8080/"
        },
        "id": "WTQJAXoDfDAY",
        "outputId": "6227b46c-1c9a-4ad9-810d-f3350f0f80b6"
      },
      "execution_count": null,
      "outputs": [
        {
          "output_type": "stream",
          "name": "stdout",
          "text": [
            "{'Carp', 'Red Snapper', 'Bass', 'Salmon'}\n"
          ]
        }
      ]
    },
    {
      "cell_type": "code",
      "source": [
        "# Symmetric difference update method: symmetric_difference_update()\n",
        "\n",
        "myFirstSet  = {\"Carp\", \"Bass\", \"Red Snapper\", \"Salmon\"}\n",
        "mySecondSet = {\"Red Snapper\", \"Salmon\"}\n",
        "\n",
        "myFirstSet.symmetric_difference_update(mySecondSet)\n",
        "\n",
        "print(myFirstSet)\n"
      ],
      "metadata": {
        "colab": {
          "base_uri": "https://localhost:8080/"
        },
        "id": "q0HLwdScf3Jb",
        "outputId": "874c080a-472a-4f84-9b05-5dd6c8dc76ae"
      },
      "execution_count": null,
      "outputs": [
        {
          "output_type": "stream",
          "name": "stdout",
          "text": [
            "{'Carp', 'Bass'}\n"
          ]
        }
      ]
    },
    {
      "cell_type": "code",
      "source": [
        "# Symmetric difference method: symmetric_difference() - duplicates are excluded\n",
        "\n",
        "myFirstSet  = {\"Bass\", \"Red Snapper\", \"Salmon\"}\n",
        "mySecondSet = {\"Carp\", \"Red Snapper\", \"Salmon\"}\n",
        "\n",
        "myThirdSet  = myFirstSet.symmetric_difference(mySecondSet)\n",
        "\n",
        "print(myThirdSet)"
      ],
      "metadata": {
        "colab": {
          "base_uri": "https://localhost:8080/"
        },
        "id": "i7cHAn0ngWI6",
        "outputId": "616c7719-fbe0-4b2a-b48b-0f1a7d1bd395"
      },
      "execution_count": null,
      "outputs": [
        {
          "output_type": "stream",
          "name": "stdout",
          "text": [
            "{'Carp', 'Bass'}\n"
          ]
        }
      ]
    },
    {
      "cell_type": "code",
      "source": [
        "# Union method: union() - joints two sets with duplicates are being excluded\n",
        "\n",
        "myFirstSet  =  {\"Red Snapper\", \"Salmon\"}\n",
        "mySecondSet =  {\"Carp\", \"Bass\"}\n",
        "\n",
        "myThirdSet  = myFirstSet.union(mySecondSet)\n",
        "\n",
        "print(myThirdSet)"
      ],
      "metadata": {
        "colab": {
          "base_uri": "https://localhost:8080/"
        },
        "id": "_ZGA5yLTebn2",
        "outputId": "69116d64-deef-4b28-85cb-95e9e8e3b792"
      },
      "execution_count": null,
      "outputs": [
        {
          "output_type": "stream",
          "name": "stdout",
          "text": [
            "{'Carp', 'Red Snapper', 'Bass', 'Salmon'}\n"
          ]
        }
      ]
    },
    {
      "cell_type": "markdown",
      "source": [
        "# Set operations\n",
        "\n",
        "---\n",
        "Some basic operations can be performed on sets.\n",
        "\n",
        "---"
      ],
      "metadata": {
        "id": "c6q5E3AZSfRD"
      }
    },
    {
      "cell_type": "code",
      "source": [
        "# Deleting the entire set\n",
        "\n",
        "myFishSet  =  {\"Carp\", \"Bass\", \"Red Snapper\", \"Salmon\"}\n",
        "\n",
        "del myFishSet"
      ],
      "metadata": {
        "id": "yOsBYLkmeI-i"
      },
      "execution_count": null,
      "outputs": []
    },
    {
      "cell_type": "markdown",
      "source": [
        "# Section 3: Control flow\n"
      ],
      "metadata": {
        "id": "ufdAAkIbhk9M"
      }
    },
    {
      "cell_type": "markdown",
      "source": [
        "# if statements\n",
        "\n",
        "---\n",
        "The if statements are used to check against some conditions along the code. There are three forms of the if statements in Python that can be used: if, if ... else, if ... elif ... else.\n",
        "\n",
        "---\n",
        "\n",
        "Syntax: \n",
        "\n",
        "1. **if** *condition:* block of code \n",
        "2. **if** *condition:* block of code **else:** block of code\n",
        "3. **if** *condition:* block of code **elif:** *condition:* block of code **else:** block of code"
      ],
      "metadata": {
        "id": "Y8cow2CiOU7l"
      }
    },
    {
      "cell_type": "markdown",
      "source": [
        "# if ... statement"
      ],
      "metadata": {
        "id": "3WssVHVRaCYf"
      }
    },
    {
      "cell_type": "markdown",
      "source": [
        "![IF_STATEMENT_001.png](data:image/png;base64,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)"
      ],
      "metadata": {
        "id": "QmKkukTjUuwf"
      }
    },
    {
      "cell_type": "code",
      "source": [
        "# Simple if statement in two lines\n",
        "\n",
        "if True: \n",
        "  print (\"Hello World!\")"
      ],
      "metadata": {
        "colab": {
          "base_uri": "https://localhost:8080/"
        },
        "id": "HlGEFAyZ_ill",
        "outputId": "53fce863-fc4c-44d9-f4d3-dd89decf9819"
      },
      "execution_count": null,
      "outputs": [
        {
          "output_type": "stream",
          "name": "stdout",
          "text": [
            "Hello World!\n"
          ]
        }
      ]
    },
    {
      "cell_type": "code",
      "source": [
        "# Simple if statement in one line\n",
        "\n",
        "if True: print(\"Hello World!\")"
      ],
      "metadata": {
        "colab": {
          "base_uri": "https://localhost:8080/"
        },
        "id": "aQwqMAxVABYt",
        "outputId": "60c719d6-acf3-4e44-c139-416f1233edfc"
      },
      "execution_count": null,
      "outputs": [
        {
          "output_type": "stream",
          "name": "stdout",
          "text": [
            "Hello World!\n"
          ]
        }
      ]
    },
    {
      "cell_type": "code",
      "source": [
        "# Simple if ... statement \n",
        "\n",
        "if 1: print(\"True\")"
      ],
      "metadata": {
        "colab": {
          "base_uri": "https://localhost:8080/"
        },
        "id": "ZseG6qtNM2p4",
        "outputId": "38be1456-6f7c-447e-8cd8-bff5d7c7ee04"
      },
      "execution_count": 72,
      "outputs": [
        {
          "output_type": "stream",
          "name": "stdout",
          "text": [
            "True\n"
          ]
        }
      ]
    },
    {
      "cell_type": "code",
      "source": [
        "# To reserve the if statement while you are writing a program\n",
        "\n",
        "if True: pass"
      ],
      "metadata": {
        "id": "isFjfEP1_zUf"
      },
      "execution_count": null,
      "outputs": []
    },
    {
      "cell_type": "markdown",
      "source": [
        "# if ... statements with comparison operators"
      ],
      "metadata": {
        "id": "tZMT8pL834Mg"
      }
    },
    {
      "cell_type": "code",
      "source": [
        "# A simple example of if statement with comparison operator\n",
        "# Comparison operators: ==, !=, >, <, >=, <= \n",
        "\n",
        "myVariable = 5\n",
        "\n",
        "if myVariable == 5: print(\"My integer variable is :\", myVariable)"
      ],
      "metadata": {
        "colab": {
          "base_uri": "https://localhost:8080/"
        },
        "id": "PaV2F5orCdL1",
        "outputId": "c9c09f34-d2e9-457f-d728-72f9b070fcb7"
      },
      "execution_count": null,
      "outputs": [
        {
          "output_type": "stream",
          "name": "stdout",
          "text": [
            "My integer variable is : 5\n"
          ]
        }
      ]
    },
    {
      "cell_type": "code",
      "source": [
        "# A simple example of if statement with comparison operator\n",
        "# Comparison operators: ==, !=, >, <, >=, <= \n",
        "\n",
        "myVariable = -5\n",
        "\n",
        "if myVariable != 5: print(\"My integer variable is :\", myVariable)"
      ],
      "metadata": {
        "colab": {
          "base_uri": "https://localhost:8080/"
        },
        "id": "1liJ9hghEN-y",
        "outputId": "66f42699-ee36-45c5-d81a-9c3571e2a8d8"
      },
      "execution_count": null,
      "outputs": [
        {
          "output_type": "stream",
          "name": "stdout",
          "text": [
            "My integer variable is : -5\n"
          ]
        }
      ]
    },
    {
      "cell_type": "code",
      "source": [
        "# A simple example of if statement with comparison operator\n",
        "# Comparison operators: ==, !=, >, <, >=, <= \n",
        "\n",
        "myFirstVariable = 10\n",
        "\n",
        "if (myFirstVariable > 9.9): print(\"True\")"
      ],
      "metadata": {
        "colab": {
          "base_uri": "https://localhost:8080/"
        },
        "id": "oRWucK3we3g6",
        "outputId": "e8faf883-6539-47f2-a03f-6ef4fecc0bab"
      },
      "execution_count": 11,
      "outputs": [
        {
          "output_type": "stream",
          "name": "stdout",
          "text": [
            "True\n"
          ]
        }
      ]
    },
    {
      "cell_type": "markdown",
      "source": [
        "# if ... statement with arithmetic and comparison operators"
      ],
      "metadata": {
        "id": "HfP7hrlLFgz7"
      }
    },
    {
      "cell_type": "code",
      "source": [
        "# if ... statement with arithmetic ( % ) and comparison ( == ) operators\n",
        "\n",
        "myFirstVariable  = 20\n",
        "\n",
        "if ( myFirstVariable % 2 == 0 ): print(\"myFirstVariable is an even number\" )"
      ],
      "metadata": {
        "colab": {
          "base_uri": "https://localhost:8080/"
        },
        "id": "arypVhlrfb87",
        "outputId": "30b895cc-0df7-468e-ebcf-89b91facdef6"
      },
      "execution_count": 57,
      "outputs": [
        {
          "output_type": "stream",
          "name": "stdout",
          "text": [
            "myFirstVariable is an even number\n"
          ]
        }
      ]
    },
    {
      "cell_type": "code",
      "source": [
        "# if ... statement with arithmetic ( // ) and comparison ( == ) operators\n",
        "\n",
        "mySecondVariable = 19\n",
        "\n",
        "if (mySecondVariable // 2 == 9): print(\"Floor division rounds the result down to the nearest whole number\")"
      ],
      "metadata": {
        "colab": {
          "base_uri": "https://localhost:8080/"
        },
        "id": "AMyqN1V9Fq90",
        "outputId": "b3ce76e3-127c-40c8-9b36-2b1916935b68"
      },
      "execution_count": 59,
      "outputs": [
        {
          "output_type": "stream",
          "name": "stdout",
          "text": [
            "Floor division rounds the result down to the nearest whole number\n"
          ]
        }
      ]
    },
    {
      "cell_type": "code",
      "source": [
        "# if ... statement with arithmetic ( ** ) and comparison ( >= ) operators\n",
        "\n",
        "mySecondVariable = 2\n",
        "if (mySecondVariable ** 8 >= 256): print (\"Addition and exponentiation test :\", mySecondVariable)"
      ],
      "metadata": {
        "colab": {
          "base_uri": "https://localhost:8080/"
        },
        "id": "uPb_fhTZNnDF",
        "outputId": "6714b038-6212-41be-af08-35ddf32b161a"
      },
      "execution_count": 98,
      "outputs": [
        {
          "output_type": "stream",
          "name": "stdout",
          "text": [
            "Addition and exponentiation test : 2\n"
          ]
        }
      ]
    },
    {
      "cell_type": "markdown",
      "source": [
        "# if ... statement with arithmetic, comparison, and logical operators"
      ],
      "metadata": {
        "id": "id_EExL739c4"
      }
    },
    {
      "cell_type": "code",
      "source": [
        "# if ... statement with arithmetic ( % ), comparison ( == ), and logical ( and ) operators\n",
        "\n",
        "myFirstVariable = 20\n",
        "mySecondVariable = 40\n",
        "\n",
        "if (myFirstVariable % 2 == 0 and mySecondVariable % 2 == 0 ): print(\"Both conditions must be True\")"
      ],
      "metadata": {
        "colab": {
          "base_uri": "https://localhost:8080/"
        },
        "id": "BcgB9QzaG1h_",
        "outputId": "c7a30a75-91be-4359-b294-56af8fe761a9"
      },
      "execution_count": 55,
      "outputs": [
        {
          "output_type": "stream",
          "name": "stdout",
          "text": [
            "Both conditions must be True\n"
          ]
        }
      ]
    },
    {
      "cell_type": "code",
      "source": [
        "# if ... statement with arithmetic ( % ), comparison ( == ), and logical ( and ) operators\n",
        "\n",
        "myFirstVariable = 20\n",
        "mySecondVariable = 41\n",
        "\n",
        "if (myFirstVariable % 2 == 0 or mySecondVariable % 2 == 0 ): print(\"One condition is sufficient to be True\")\n"
      ],
      "metadata": {
        "colab": {
          "base_uri": "https://localhost:8080/"
        },
        "id": "MX4NH0AjHyWU",
        "outputId": "d0a9f383-c50a-440a-c022-701191b9e721"
      },
      "execution_count": 54,
      "outputs": [
        {
          "output_type": "stream",
          "name": "stdout",
          "text": [
            "One condition is sufficient to be True\n"
          ]
        }
      ]
    },
    {
      "cell_type": "code",
      "source": [
        "# if ... statement with arithmetic ( % ), comparison ( == ), and logical ( not ) operators\n",
        "\n",
        "myFirstVariable = 20\n",
        "\n",
        "if (not myFirstVariable % 2 == 1): print (\"The condition is reversed\")"
      ],
      "metadata": {
        "colab": {
          "base_uri": "https://localhost:8080/"
        },
        "id": "HZlx3S764CmB",
        "outputId": "1cec11c3-b7f1-40bf-d5fb-f35744b4b351"
      },
      "execution_count": 92,
      "outputs": [
        {
          "output_type": "stream",
          "name": "stdout",
          "text": [
            "The condition is reversed\n"
          ]
        }
      ]
    },
    {
      "cell_type": "markdown",
      "source": [
        "# Nested If ... statements"
      ],
      "metadata": {
        "id": "5AontZ7IiJgG"
      }
    },
    {
      "cell_type": "code",
      "source": [
        "# Nested if statements\n",
        "\n",
        "myFirstVariable  = 10\n",
        "mySecondVariable = 20\n",
        "myThirdVariable  = 30\n",
        "\n",
        "if (myFirstVariable == 10):\n",
        "  print(\"My first variable is :\", myFirstVariable)\n",
        "  if (mySecondVariable == 20):\n",
        "    print(\"My second variable is :\", mySecondVariable)\n",
        "    if (myThirdVariable == 30):\n",
        "      print(\"My third variable is :\", myThirdVariable)"
      ],
      "metadata": {
        "colab": {
          "base_uri": "https://localhost:8080/"
        },
        "id": "C5qQknMTlK-w",
        "outputId": "2d8dbc59-54f0-4839-c772-9cd0f2d098ae"
      },
      "execution_count": 21,
      "outputs": [
        {
          "output_type": "stream",
          "name": "stdout",
          "text": [
            "My first variable is : 10\n",
            "My second variable is : 20\n",
            "My third variable is : 30\n"
          ]
        }
      ]
    },
    {
      "cell_type": "markdown",
      "source": [
        "# if ... else statement"
      ],
      "metadata": {
        "id": "AzboK5Nmc9lr"
      }
    },
    {
      "cell_type": "markdown",
      "source": [
        "![ALL_STATEMENTS_002.png](data:image/png;base64,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)"
      ],
      "metadata": {
        "id": "v2oHakDh72MC"
      }
    },
    {
      "cell_type": "markdown",
      "source": [
        "# if ... else statements with comparison operators"
      ],
      "metadata": {
        "id": "9c5PyrvVzq4Z"
      }
    },
    {
      "cell_type": "code",
      "source": [
        "# Equial to comparison operator: ==\n",
        "\n",
        "myFirstVariable  = 11.0\n",
        "mySecondVariable = 10.0\n",
        "\n",
        "if myFirstVariable == mySecondVariable:\n",
        "  print(\"True\")\n",
        "else:\n",
        "  print(\"False\")"
      ],
      "metadata": {
        "colab": {
          "base_uri": "https://localhost:8080/"
        },
        "outputId": "9af443d4-731b-40c0-a7cb-23b187df2af0",
        "id": "72GQqJDkYAlL"
      },
      "execution_count": 71,
      "outputs": [
        {
          "output_type": "stream",
          "name": "stdout",
          "text": [
            "False\n"
          ]
        }
      ]
    },
    {
      "cell_type": "code",
      "source": [
        "# Not equal to comparison operator: !=\n",
        "\n",
        "myFirstVariable  = 10.0\n",
        "mySecondVariable = 10.0\n",
        "\n",
        "if myFirstVariable != mySecondVariable:\n",
        "  print(\"True\")\n",
        "else:\n",
        "  print(\"False\")"
      ],
      "metadata": {
        "colab": {
          "base_uri": "https://localhost:8080/"
        },
        "outputId": "7a8287dd-caf7-4b42-aaf0-6215c105c20e",
        "id": "eEqEBvSEYLqb"
      },
      "execution_count": 7,
      "outputs": [
        {
          "output_type": "stream",
          "name": "stdout",
          "text": [
            "False\n"
          ]
        }
      ]
    },
    {
      "cell_type": "code",
      "source": [
        "# Grater than comparison operator: >\n",
        "\n",
        "myFirstVariable  = 10.0\n",
        "mySecondVariable = 10.0\n",
        "\n",
        "if myFirstVariable > mySecondVariable:\n",
        "  print(\"True\")\n",
        "else:\n",
        "  print(\"False\")"
      ],
      "metadata": {
        "colab": {
          "base_uri": "https://localhost:8080/"
        },
        "outputId": "4ea621b1-db56-42c5-f205-9529b7cb12d9",
        "id": "lX72d5SJSVOK"
      },
      "execution_count": null,
      "outputs": [
        {
          "output_type": "stream",
          "name": "stdout",
          "text": [
            "False\n"
          ]
        }
      ]
    },
    {
      "cell_type": "code",
      "source": [
        "# Less than comparison operator: <\n",
        "\n",
        "myFirstVariable  = 10.0\n",
        "mySecondVariable = 10.0\n",
        "\n",
        "if myFirstVariable > mySecondVariable:\n",
        "  print(\"True\")\n",
        "else:\n",
        "  print(\"False\")"
      ],
      "metadata": {
        "colab": {
          "base_uri": "https://localhost:8080/"
        },
        "outputId": "5a0cc7cf-af49-4a50-b04b-90e86ef50a31",
        "id": "x8Up6YBhSvnr"
      },
      "execution_count": null,
      "outputs": [
        {
          "output_type": "stream",
          "name": "stdout",
          "text": [
            "False\n"
          ]
        }
      ]
    },
    {
      "cell_type": "code",
      "source": [
        "# Greater than or equal to comparison operator: >=\n",
        "\n",
        "myFirstVariable  = 10.0\n",
        "mySecondVariable = 10.0\n",
        "\n",
        "if myFirstVariable >= mySecondVariable:\n",
        "  print(\"True\")\n",
        "else:\n",
        "  print(\"False\")"
      ],
      "metadata": {
        "colab": {
          "base_uri": "https://localhost:8080/"
        },
        "id": "VgG7LVQFSzTV",
        "outputId": "871b8cd3-bba1-49fb-bd35-9f839168bda1"
      },
      "execution_count": 13,
      "outputs": [
        {
          "output_type": "stream",
          "name": "stdout",
          "text": [
            "True\n"
          ]
        }
      ]
    },
    {
      "cell_type": "code",
      "source": [
        "# Less than or equal to comparison operator: <=\n",
        "\n",
        "myFirstVariable  = 10.0\n",
        "mySecondVariable = 10.0\n",
        "\n",
        "if myFirstVariable <= mySecondVariable:\n",
        "  print(\"True\")\n",
        "else:\n",
        "  print(\"False\")"
      ],
      "metadata": {
        "colab": {
          "base_uri": "https://localhost:8080/"
        },
        "id": "eSQ4W84gTDFO",
        "outputId": "ec4b6a02-bb41-40df-bbed-e8a27eb19abe"
      },
      "execution_count": null,
      "outputs": [
        {
          "output_type": "stream",
          "name": "stdout",
          "text": [
            "True\n"
          ]
        }
      ]
    },
    {
      "cell_type": "code",
      "source": [
        "# Short hand example 1\n",
        "\n",
        "myFirstVariable  = 10.0\n",
        "mySecondVariable = 10.0\n",
        "\n",
        "if myFirstVariable <= mySecondVariable: print(\"True\")\n",
        "else: print(\"False\")"
      ],
      "metadata": {
        "colab": {
          "base_uri": "https://localhost:8080/"
        },
        "outputId": "3074c17d-bb47-46a5-8674-ce0414e894d1",
        "id": "QvYoGjp7TTsn"
      },
      "execution_count": 8,
      "outputs": [
        {
          "output_type": "stream",
          "name": "stdout",
          "text": [
            "True\n"
          ]
        }
      ]
    },
    {
      "cell_type": "code",
      "source": [
        "# Short hand example 2\n",
        "\n",
        "myFirstVariable  = 12.0\n",
        "mySecondVariable = 10.0\n",
        "\n",
        "print(\"True\") if myFirstVariable == mySecondVariable else print(\"False\")"
      ],
      "metadata": {
        "colab": {
          "base_uri": "https://localhost:8080/"
        },
        "outputId": "2989061d-407b-46ba-a24a-5ec0b7c560ae",
        "id": "utE1Y3HzTk_I"
      },
      "execution_count": 95,
      "outputs": [
        {
          "output_type": "stream",
          "name": "stdout",
          "text": [
            "False\n"
          ]
        }
      ]
    },
    {
      "cell_type": "markdown",
      "source": [
        "# if ... else statements with arithmetic and comparison operators"
      ],
      "metadata": {
        "id": "7iT5_NSDDttP"
      }
    },
    {
      "cell_type": "code",
      "source": [
        "# if ... else statement with arithmetic ( + ) and comparison ( == ) operators\n",
        "\n",
        "myFirstVariable = 10\n",
        "\n",
        "if (myFirstVariable + myFirstVariable == 5): print(\"The value is 5\") \n",
        "else: print(\"The value is 10\")"
      ],
      "metadata": {
        "colab": {
          "base_uri": "https://localhost:8080/"
        },
        "id": "EeXiXiMcfMkz",
        "outputId": "aa39d830-84ed-48e2-e27e-b3f999e45092"
      },
      "execution_count": 96,
      "outputs": [
        {
          "output_type": "stream",
          "name": "stdout",
          "text": [
            "The value is 10\n"
          ]
        }
      ]
    },
    {
      "cell_type": "code",
      "source": [
        "# if ... else statement with arithmetic ( % ) and comparison ( == ) operators\n",
        "\n",
        "myFirstVariable = 10\n",
        "\n",
        "if (myFirstVariable % 2 == 0): print(\"My variable is an even number\")\n",
        "else: print(\"My variable is an odd number\")"
      ],
      "metadata": {
        "colab": {
          "base_uri": "https://localhost:8080/"
        },
        "id": "IP_hJ45UgJeX",
        "outputId": "521f1690-134d-4de1-89f5-2ab5285fdd9f"
      },
      "execution_count": 97,
      "outputs": [
        {
          "output_type": "stream",
          "name": "stdout",
          "text": [
            "My variable is an even number\n"
          ]
        }
      ]
    },
    {
      "cell_type": "code",
      "source": [
        "# if ... else statement with arithmetic ( // ) and comparison ( == ) operators\n",
        "\n",
        "myFirstVariable = 52\n",
        "\n",
        "if (myFirstVariable // 10 == 1): print(\"Floor division rounds the result down to the nearest whole number\")\n",
        "else: print(\"The result of the floor division is another number :\", myFirstVariable // 10) "
      ],
      "metadata": {
        "colab": {
          "base_uri": "https://localhost:8080/"
        },
        "id": "5tEJgQJhE2Rv",
        "outputId": "2a557176-b8e6-4ee4-bdc6-fb8f73ca1504"
      },
      "execution_count": 101,
      "outputs": [
        {
          "output_type": "stream",
          "name": "stdout",
          "text": [
            "The result of the floor division is another number : 5\n"
          ]
        }
      ]
    },
    {
      "cell_type": "markdown",
      "source": [
        "# if ... else statements with arithmetic, comparison, and logical operators"
      ],
      "metadata": {
        "id": "yB7XOfbOz4c7"
      }
    },
    {
      "cell_type": "code",
      "source": [
        "# if ... else statement with arithmetic ( % ), comparison ( == ), and logical ( and ) operators\n",
        "\n",
        "myFirstVariable  = 10.0\n",
        "mySecondVariable = 20.0\n",
        "\n",
        "if (myFirstVariable % 2 == 0 and mySecondVariable % 2 == 0):\n",
        "  print(\"Both conditions are True\")\n",
        "else:\n",
        "  print(\"One of these conditions is False \")"
      ],
      "metadata": {
        "colab": {
          "base_uri": "https://localhost:8080/"
        },
        "id": "MUimBa2Y0ELU",
        "outputId": "db6f5f91-01eb-4b3c-99e2-52dc855089b0"
      },
      "execution_count": 105,
      "outputs": [
        {
          "output_type": "stream",
          "name": "stdout",
          "text": [
            "Both conditions are True\n"
          ]
        }
      ]
    },
    {
      "cell_type": "code",
      "source": [
        "# if ... else statement with arithmetic ( + ), comparison ( > ), and logical ( or ) operators\n",
        "\n",
        "myFirstVariable  = 10.0\n",
        "mySecondVariable = 20.0\n",
        "\n",
        "if (myFirstVariable + mySecondVariable > 20.0 or mySecondVariable > 20.0):\n",
        "  print(\"One of these conditions is True\")\n",
        "else:\n",
        "  print(\"None of these conditions is True\")"
      ],
      "metadata": {
        "colab": {
          "base_uri": "https://localhost:8080/"
        },
        "id": "dDP-9QLX0-Jg",
        "outputId": "19d23a2c-a87a-42d7-c395-ce2dad918aa1"
      },
      "execution_count": 104,
      "outputs": [
        {
          "output_type": "stream",
          "name": "stdout",
          "text": [
            "One of these conditions is True\n"
          ]
        }
      ]
    },
    {
      "cell_type": "code",
      "source": [
        "# if ... else statement with arithmetic ( * ), comparison ( == ), and logical ( not ) operators\n",
        "\n",
        "myFirstVariable =  2.0\n",
        "myThirdVariable = 20.0\n",
        "myTestVariable  = myFirstVariable * 100\n",
        "\n",
        "if not myFirstVariable * 100 == myThirdVariable:\n",
        "  print(\"This condition is True\")\n",
        "else:\n",
        "  print(\"The condition is False\")"
      ],
      "metadata": {
        "colab": {
          "base_uri": "https://localhost:8080/"
        },
        "outputId": "a82af5ad-5fda-45f7-d01d-2a36ca0c2c35",
        "id": "w5ZWafmIUvlW"
      },
      "execution_count": 108,
      "outputs": [
        {
          "output_type": "stream",
          "name": "stdout",
          "text": [
            "This condition is True\n"
          ]
        }
      ]
    },
    {
      "cell_type": "markdown",
      "source": [
        "# Nested if ... else statements"
      ],
      "metadata": {
        "id": "fZdbP2Fjx6TJ"
      }
    },
    {
      "cell_type": "code",
      "source": [
        "# Nested if ... else statement\n",
        "\n",
        "myFirstVariable  = 10\n",
        "mySecondVariable = 20\n",
        "\n",
        "if (myFirstVariable == 10):\n",
        "  print(\"My first variable is :\", myFirstVariable)\n",
        "  if (mySecondVariable != 30):\n",
        "    print(\"My second variable is :\", mySecondVariable)\n",
        "  else:\n",
        "    print(\"My second variable is :\", mySecondVariable)\n",
        "\n"
      ],
      "metadata": {
        "colab": {
          "base_uri": "https://localhost:8080/"
        },
        "id": "lY19AjaLp1cX",
        "outputId": "e1e395a5-337b-41eb-f1be-67ed8adbd9ae"
      },
      "execution_count": 24,
      "outputs": [
        {
          "output_type": "stream",
          "name": "stdout",
          "text": [
            "My first variable is : 10\n",
            "My second variable is : 20\n"
          ]
        }
      ]
    },
    {
      "cell_type": "code",
      "source": [
        "# Nested if ... else statement\n",
        "\n",
        "myFirstVariable  = 10\n",
        "mySecondVariable = 20\n",
        "\n",
        "if (myFirstVariable < 10):\n",
        "  print(\"My first variable is :\", myFirstVariable)\n",
        "\n",
        "  if (mySecondVariable != 30):\n",
        "    print(\"My second variable is :\", mySecondVariable)\n",
        "\n",
        "  else:\n",
        "    print(\"My second variable is :\", mySecondVariable)\n",
        "    \n",
        "else:\n",
        "  print(\"My first variable is :\", myFirstVariable)"
      ],
      "metadata": {
        "colab": {
          "base_uri": "https://localhost:8080/"
        },
        "id": "sgTk-aK1rGho",
        "outputId": "b015c974-f90d-4938-bb35-da6de15c3973"
      },
      "execution_count": 28,
      "outputs": [
        {
          "output_type": "stream",
          "name": "stdout",
          "text": [
            "My first variable is : 10\n"
          ]
        }
      ]
    },
    {
      "cell_type": "markdown",
      "source": [
        "# if ... elif ... else statement"
      ],
      "metadata": {
        "id": "SSgry9qkcX0Z"
      }
    },
    {
      "cell_type": "markdown",
      "source": [
        "![IF_STATEMENTS_ALL.png](data:image/png;base64,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)"
      ],
      "metadata": {
        "id": "39tHOfGSh66I"
      }
    },
    {
      "cell_type": "markdown",
      "source": [
        "# if ... elif ... else statements with comparison operators"
      ],
      "metadata": {
        "id": "sOSYXwZHyavr"
      }
    },
    {
      "cell_type": "code",
      "source": [
        "# if ... elif ... else statement with comparison ( == ) and ( > ) operators\n",
        "\n",
        "\n",
        "myFirstVariable  = 30\n",
        "mySecondVariable = 20\n",
        "\n",
        "if ( myFirstVariable == mySecondVariable ):\n",
        "  print(\"Variables are equal\")\n",
        "\n",
        "elif ( myFirstVariable > mySecondVariable ):\n",
        "  print(\"My first variable is greater than my second variable\")\n",
        "\n",
        "else:\n",
        "  print(\"My first variable is smaller than my second variable\")"
      ],
      "metadata": {
        "id": "lAbgucsvi70W",
        "colab": {
          "base_uri": "https://localhost:8080/"
        },
        "outputId": "49a66a9a-95b2-4bfc-db0d-6e60fafb9beb"
      },
      "execution_count": 161,
      "outputs": [
        {
          "output_type": "stream",
          "name": "stdout",
          "text": [
            "My first variable is greater than my second variable\n"
          ]
        }
      ]
    },
    {
      "cell_type": "code",
      "source": [
        "# if ... elif ... else statement with comparison ( == ), ( > ), and ( != ) operators\n",
        "\n",
        "myFirstVariable  = 10\n",
        "mySecondVariable = 20\n",
        "\n",
        "if ( myFirstVariable ==  0 ):\n",
        "  print(\"My first variable equals to zero\")\n",
        "\n",
        "elif ( myFirstVariable > 0 ):\n",
        "  print(\"My first variable is greater than zero\")\n",
        "\n",
        "elif ( myFirstVariable == mySecondVariable ):\n",
        "  print(\"My first variable is equal to my second variable\")\n",
        "\n",
        "else:\n",
        "  print(\"My first variable is less than zero\")"
      ],
      "metadata": {
        "colab": {
          "base_uri": "https://localhost:8080/"
        },
        "id": "eitthnAjqOpi",
        "outputId": "6e104bd3-3c09-4a56-82b9-753dc3cb72d5"
      },
      "execution_count": 165,
      "outputs": [
        {
          "output_type": "stream",
          "name": "stdout",
          "text": [
            "My first variable is greater than zero\n"
          ]
        }
      ]
    },
    {
      "cell_type": "markdown",
      "source": [
        "# if ... elif ... else statements with comparison and logical operators"
      ],
      "metadata": {
        "id": "NlnLLHa_uDds"
      }
    },
    {
      "cell_type": "code",
      "source": [
        "# if ... elif ... else statement with comparison ( == ), ( > ), and logical ( and ), ( or ), and ( not ) operators\n",
        "\n",
        "myFirstVariable  = 10\n",
        "mySecondVariable = 20\n",
        "\n",
        "if ( myFirstVariable == mySecondVariable and myFirstVariable > 0):\n",
        "  print(\"Both variables are equal and greater than zero\")\n",
        "\n",
        "elif ( myFirstVariable > mySecondVariable or myFirstVariable > 20):\n",
        "  print(\"The first variable is greater than the second one or greater than 20\")\n",
        "\n",
        "elif ( not myFirstVariable > mySecondVariable ):\n",
        "  print(\"The first variable is smaller than the second variable\")\n",
        "\n",
        "else:\n",
        "  print(\"My first variable is smaller than my second one\")"
      ],
      "metadata": {
        "colab": {
          "base_uri": "https://localhost:8080/"
        },
        "id": "PzZAMYlvs1YP",
        "outputId": "87308e04-a0c1-4982-bb59-b38a735b385a"
      },
      "execution_count": 167,
      "outputs": [
        {
          "output_type": "stream",
          "name": "stdout",
          "text": [
            "The first variable is smaller than the second variable\n"
          ]
        }
      ]
    },
    {
      "cell_type": "markdown",
      "source": [
        "# Nested if ... elif ... else statements with comparison operators"
      ],
      "metadata": {
        "id": "y3XKniIwtx_L"
      }
    },
    {
      "cell_type": "code",
      "source": [
        "# Nested if ... elif ... else statement with comparison operators\n",
        "\n",
        "myFirstVariable  = 10\n",
        "mySecondVariable = 20\n",
        "myThirdVariable  = 30\n",
        "\n",
        "if ( myFirstVariable < mySecondVariable ):\n",
        "\n",
        "    if ( myFirstVariable > myThirdVariable):\n",
        "      print(\"My first variable is < my second variable but > my third variable\")\n",
        "\n",
        "    elif ( myFirstVariable == myThirdVariable):\n",
        "      print(\"My first variable is < my second variable but == to my third variable\")\n",
        "    \n",
        "    elif ( myFirstVariable < myThirdVariable):\n",
        "      print(\"My first variable is < my second variable and < my third variable\")\n",
        "\n",
        "elif ( myFirstVariable == mySecondVariable):\n",
        "  print(\"My first variable is == to my second variable\")\n",
        "\n",
        "else:\n",
        "  print(\"My first variable is greater than my second and my third variables\")"
      ],
      "metadata": {
        "colab": {
          "base_uri": "https://localhost:8080/"
        },
        "id": "J0oBb9LZhdIJ",
        "outputId": "062c166f-ee03-479b-8c1d-2c6cea28be78"
      },
      "execution_count": 146,
      "outputs": [
        {
          "output_type": "stream",
          "name": "stdout",
          "text": [
            "My first variable is < my second variable and < my third variable\n"
          ]
        }
      ]
    },
    {
      "cell_type": "markdown",
      "source": [
        "# For loops\n",
        "\n",
        "---\n",
        "For loop is an iterative function that allows to iterate over data sequence. Variable of the for loop statement will access each element of the sequence at each itaration. The loop will continue iterate until reaches the last element of a sequence. \n",
        "\n",
        "---\n",
        "\n",
        "Syntax: **for** variable **in** sequence: **statement**\n"
      ],
      "metadata": {
        "id": "H8Dj1zvhkvvG"
      }
    },
    {
      "cell_type": "code",
      "source": [
        "# For loop example with dummy pass statement\n",
        "\n",
        "for i in range(10): pass"
      ],
      "metadata": {
        "id": "ixSjR8cwFkh5"
      },
      "execution_count": 172,
      "outputs": []
    },
    {
      "cell_type": "code",
      "source": [
        "# For loop example using my fish list\n",
        "\n",
        "myFishList = [\"Bass\", \"Red Snapper\", \"Karp\", \"Pike\", \"Perch\"]\n",
        "\n",
        "for name in myFishList: print(name)"
      ],
      "metadata": {
        "id": "CeuAVmGdD-to",
        "outputId": "91cfad5e-d803-4df6-9056-7a63431746f4",
        "colab": {
          "base_uri": "https://localhost:8080/"
        }
      },
      "execution_count": 171,
      "outputs": [
        {
          "output_type": "stream",
          "name": "stdout",
          "text": [
            "Bass\n",
            "Red Snapper\n",
            "Karp\n",
            "Pike\n",
            "Perch\n"
          ]
        }
      ]
    },
    {
      "cell_type": "code",
      "source": [
        "# For loop example using my fish list\n",
        "\n",
        "myFishList = [\"Bass\", \"Red Snapper\", \"Karp\", \"Pike\", \"Perch\"]\n",
        "\n",
        "for name in myFishList: print(name, end = \"; \")"
      ],
      "metadata": {
        "id": "py9t8woHHS9U",
        "outputId": "226e928a-d60b-4fc6-e3ed-65d9a03985ce",
        "colab": {
          "base_uri": "https://localhost:8080/"
        }
      },
      "execution_count": 186,
      "outputs": [
        {
          "output_type": "stream",
          "name": "stdout",
          "text": [
            "Bass; Red Snapper; Karp; Pike; Perch; "
          ]
        }
      ]
    },
    {
      "cell_type": "code",
      "source": [
        "# For loop is built with the len() and range() functions\n",
        "\n",
        "myNumberList = [1,2,3,4,5]\n",
        "\n",
        "for number in range(len(myNumberList)): print(myNumberList[number], end = \" \")\n"
      ],
      "metadata": {
        "id": "Es17aMgPGDJy",
        "outputId": "8641155f-38cc-4a98-9efe-f1c471d75e4c",
        "colab": {
          "base_uri": "https://localhost:8080/"
        }
      },
      "execution_count": 181,
      "outputs": [
        {
          "output_type": "stream",
          "name": "stdout",
          "text": [
            "1 2 3 4 5 "
          ]
        }
      ]
    },
    {
      "cell_type": "markdown",
      "source": [
        "# While loops \n",
        "\n",
        "\n",
        "---\n",
        "\n"
      ],
      "metadata": {
        "id": "ilRCeQflNdkk"
      }
    },
    {
      "cell_type": "code",
      "source": [
        "# The \"while\" loop statement\n",
        "\n",
        "myFirstVariable = 5\n",
        "i = 0\n",
        "\n",
        "while i < myFirstVariable:\n",
        "  print(i, end=\"\")\n",
        "  i+=1 # i = i +1"
      ],
      "metadata": {
        "colab": {
          "base_uri": "https://localhost:8080/"
        },
        "id": "iONeLn_OmUML",
        "outputId": "632621d7-622d-4f33-8b54-b507a690dd55"
      },
      "execution_count": null,
      "outputs": [
        {
          "output_type": "stream",
          "name": "stdout",
          "text": [
            "01234"
          ]
        }
      ]
    },
    {
      "cell_type": "code",
      "source": [
        "#The \"while\" loop statement\n",
        "myFirstVariable = 10\n",
        "i = 0\n",
        "\n",
        "while i<=myFirstVariable:\n",
        "  i+=1\n",
        "  print(i, end=\"\")"
      ],
      "metadata": {
        "colab": {
          "base_uri": "https://localhost:8080/"
        },
        "id": "O6w9WQ6Km_Jv",
        "outputId": "51d6eca2-4307-4054-f2c6-3618ca352c2f"
      },
      "execution_count": null,
      "outputs": [
        {
          "output_type": "stream",
          "name": "stdout",
          "text": [
            "1234567891011"
          ]
        }
      ]
    },
    {
      "cell_type": "markdown",
      "source": [
        "# The break and continue statements\n"
      ],
      "metadata": {
        "id": "bM6lXGQ0nu98"
      }
    },
    {
      "cell_type": "code",
      "source": [
        "#The break statement\n",
        "\n",
        "i = 0\n",
        "while i < 5:\n",
        "  print(i)\n",
        "  if i ==4: \n",
        "    break     #stops the loop even with the while condition is being true\n",
        "  i+=1"
      ],
      "metadata": {
        "colab": {
          "base_uri": "https://localhost:8080/"
        },
        "id": "KegP_whenyWD",
        "outputId": "e3882358-7acf-4d4b-9466-f4b6976a9e3c"
      },
      "execution_count": null,
      "outputs": [
        {
          "output_type": "stream",
          "name": "stdout",
          "text": [
            "0\n",
            "1\n",
            "2\n",
            "3\n",
            "4\n"
          ]
        }
      ]
    },
    {
      "cell_type": "code",
      "source": [
        "#The while continue statement\n",
        "\n",
        "i = 0\n",
        "while i < 5:\n",
        "  i+=1\n",
        "  if i==4:\n",
        "    continue\n",
        "  print(i)"
      ],
      "metadata": {
        "colab": {
          "base_uri": "https://localhost:8080/"
        },
        "id": "GL4LSwifoWp_",
        "outputId": "e4548a31-5d53-4359-b49f-743dfb55b310"
      },
      "execution_count": null,
      "outputs": [
        {
          "output_type": "stream",
          "name": "stdout",
          "text": [
            "1\n",
            "2\n",
            "3\n",
            "5\n"
          ]
        }
      ]
    },
    {
      "cell_type": "code",
      "source": [
        "#The else statement\n",
        "\n",
        "i = 0\n",
        "\n",
        "while i < 5:\n",
        "  print(i)\n",
        "  i+=1\n",
        "else:\n",
        "  print(\"i is not less than 5 anymore\")\n"
      ],
      "metadata": {
        "colab": {
          "base_uri": "https://localhost:8080/"
        },
        "id": "6kiTek88oo5y",
        "outputId": "3a08c3e8-15b9-4a60-e614-958d3e956576"
      },
      "execution_count": null,
      "outputs": [
        {
          "output_type": "stream",
          "name": "stdout",
          "text": [
            "0\n",
            "1\n",
            "2\n",
            "3\n",
            "4\n",
            "i is not less than 5 anymore\n"
          ]
        }
      ]
    },
    {
      "cell_type": "markdown",
      "source": [
        "# Section 4: Functions"
      ],
      "metadata": {
        "id": "7fTzpI_2ctcu"
      }
    },
    {
      "cell_type": "markdown",
      "source": [
        "# User defined functions\n",
        "\n",
        "---\n",
        "Function is a block of code orginized to perform a specific action. Python language provides many built-in functions like print(). However, you can create your own functions that are usually called user-define functions. Functions help to improve readibility and usability of your code. There are a few rules to define a function. \n",
        "\n",
        "1. A function declared using the def keyword following by a function name and parenthesis, and ending with a column.\n",
        "2. Parameters can be placed inside of the paranthesis.\n",
        "3. The code block or multiple statements should be indented.\n",
        "4. The return statement will exit the function and pass a result to the caller.\n",
        "\n",
        "---\n",
        "\n",
        "Syntax: **def functionName(parameters): function body return a value**\n"
      ],
      "metadata": {
        "id": "Wg0zS8uzfmxy"
      }
    },
    {
      "cell_type": "code",
      "source": [
        "# Defining an empty function\n",
        "\n",
        "def myEmptyFunction(): #Function definition\n",
        "    pass"
      ],
      "metadata": {
        "id": "vo7eK4VRgGoX"
      },
      "execution_count": null,
      "outputs": []
    },
    {
      "cell_type": "code",
      "source": [
        "# Defining myFirstFunction\n",
        "\n",
        "def myFirstFunction():  \n",
        "  print(\"Hello World!\")  #Body statement"
      ],
      "metadata": {
        "id": "CmxKjXaipd6l"
      },
      "execution_count": null,
      "outputs": []
    },
    {
      "cell_type": "code",
      "source": [
        "# Defining function and making a call \n",
        "\n",
        "def myFirstFunction():    # Function definition\n",
        "  print(\"Hello World!\")   # Body statement\n",
        "\n",
        "myFirstFunction()         # Function call"
      ],
      "metadata": {
        "colab": {
          "base_uri": "https://localhost:8080/"
        },
        "id": "umNfb4qcey1Q",
        "outputId": "11db4691-33a8-4eff-aa08-7322b9c98c9c"
      },
      "execution_count": null,
      "outputs": [
        {
          "output_type": "stream",
          "name": "stdout",
          "text": [
            "Hello World!\n"
          ]
        }
      ]
    },
    {
      "cell_type": "code",
      "source": [
        "# Defining function in one line\n",
        "\n",
        "def myFirstFunction(): print(\"Hello World!\") \n",
        "\n",
        "myFirstFunction()"
      ],
      "metadata": {
        "colab": {
          "base_uri": "https://localhost:8080/"
        },
        "id": "A7HTNeh5gYbE",
        "outputId": "5b7348f4-66cc-478f-ab68-3cebd954a453"
      },
      "execution_count": null,
      "outputs": [
        {
          "output_type": "stream",
          "name": "stdout",
          "text": [
            "Hello World!\n"
          ]
        }
      ]
    },
    {
      "cell_type": "code",
      "source": [
        "# Defining function with a return value in one line\n",
        "\n",
        "def myFirstFunction(): return 2+3\n",
        "print(myFirstFunction())\n"
      ],
      "metadata": {
        "colab": {
          "base_uri": "https://localhost:8080/"
        },
        "id": "46Fzh95PgqGX",
        "outputId": "3f774c2a-75e4-40ea-d071-4cc13f3426d5"
      },
      "execution_count": null,
      "outputs": [
        {
          "output_type": "stream",
          "name": "stdout",
          "text": [
            "5\n"
          ]
        }
      ]
    },
    {
      "cell_type": "code",
      "source": [
        "# Functions\n",
        "\n",
        "def mySecondFunction(PersonsName):\n",
        "  print(PersonsName)\n",
        "\n",
        "mySecondFunction(\"Olaf\")\n",
        "mySecondFunction(\"Kalfeoie\")"
      ],
      "metadata": {
        "colab": {
          "base_uri": "https://localhost:8080/"
        },
        "id": "boytjDE8pq3n",
        "outputId": "5d5da82b-17c2-416a-d825-fb309706a093"
      },
      "execution_count": null,
      "outputs": [
        {
          "output_type": "stream",
          "name": "stdout",
          "text": [
            "Olaf\n",
            "Kalfeoie\n"
          ]
        }
      ]
    },
    {
      "cell_type": "markdown",
      "source": [
        "# Parameters vs arguments\n",
        "\n",
        "A parameter placed inside of the parenthesis when function is defined.\n",
        "An argument passed to the function when function is called. You can \n",
        "call a function with the following arguments:\n",
        "\n",
        "1. Required arguments\n",
        "2. Keyword arguments\n",
        "3. Default arguments\n",
        "\n",
        "It is also important to provide the same number of arguments as defined parameters.\n"
      ],
      "metadata": {
        "id": "m3KHxwxemXUW"
      }
    },
    {
      "cell_type": "code",
      "source": [
        "# Functions: parameter - inside of the parenthesis of function defenition.\n",
        "# Functions: argument - passed to the function when function is called.\n",
        "\n",
        "def myThirdFunction(myFirstName, mySecondName ): #parameters inside of the ()\n",
        "  print(myFirstName + \"  \" + mySecondName)\n",
        "\n",
        "myThirdFunction(\"Olaf\", \"Kalfeoie\") #arguments passed to the function"
      ],
      "metadata": {
        "colab": {
          "base_uri": "https://localhost:8080/"
        },
        "id": "5i5F-obtqTLl",
        "outputId": "1679bab8-903c-4686-a36a-8c2ed7ca0de8"
      },
      "execution_count": null,
      "outputs": [
        {
          "output_type": "stream",
          "name": "stdout",
          "text": [
            "Olaf  Kalfeoie\n"
          ]
        }
      ]
    },
    {
      "cell_type": "code",
      "source": [
        "# Arbitrary number of arguments\n",
        "\n",
        "def myFifthFunction(*names):\n",
        "  print(names)\n",
        "\n",
        "myFifthFunction(\"Olaf\", \"Stella\", \"Klaus\", \"Kontrate\")"
      ],
      "metadata": {
        "colab": {
          "base_uri": "https://localhost:8080/"
        },
        "id": "nqFeTyLUrQeW",
        "outputId": "b59393f2-1672-43c8-eece-748127d04d75"
      },
      "execution_count": null,
      "outputs": [
        {
          "output_type": "stream",
          "name": "stdout",
          "text": [
            "('Olaf', 'Stella', 'Klaus', 'Kontrate')\n"
          ]
        }
      ]
    },
    {
      "cell_type": "code",
      "source": [
        "# Sending arguments with the key=value syntax\n",
        "\n",
        "def myRegularFunction(name1, name2, name3):\n",
        "  print(name1, name2, name3)\n",
        "\n",
        "myRegularFunction(name1=\"Olaf\", name2=\"Holiaf\", name3=\"Linux\")"
      ],
      "metadata": {
        "colab": {
          "base_uri": "https://localhost:8080/"
        },
        "id": "oCkZZY-GsPdH",
        "outputId": "0d5b8c0b-3fc0-4ca4-8c31-3671ca03a5ce"
      },
      "execution_count": null,
      "outputs": [
        {
          "output_type": "stream",
          "name": "stdout",
          "text": [
            "Olaf Holiaf Linux\n"
          ]
        }
      ]
    },
    {
      "cell_type": "markdown",
      "source": [
        "# Global and local variables"
      ],
      "metadata": {
        "id": "mHnCtEfthjdC"
      }
    },
    {
      "cell_type": "code",
      "source": [
        "# Global variable\n",
        "myGlobalVariable = \"cool!\"\n",
        "\n",
        "def myfunc():\n",
        "  print(\"Python is \" + myGlobalVariable)\n",
        "\n",
        "myfunc()"
      ],
      "metadata": {
        "id": "MdPiV7DsR2iP",
        "colab": {
          "base_uri": "https://localhost:8080/"
        },
        "outputId": "2b015328-8fd2-44a1-8a51-1684ebf5dcbc"
      },
      "execution_count": null,
      "outputs": [
        {
          "output_type": "stream",
          "name": "stdout",
          "text": [
            "Python is cool!\n"
          ]
        }
      ]
    },
    {
      "cell_type": "code",
      "source": [
        "# Global and local variables\n",
        "\n",
        "myGlobalVariable = \"awesome\"\n",
        "\n",
        "def myfunc():\n",
        "  myLocalVariable = \"fantastic\"\n",
        "  print(\"Python is \" + myGlobalVariable + \"!\"+\"- from function\") \n",
        "  print(\"Python is \" + myLocalVariable + \"!\" + \"- from function\")\n",
        "\n",
        "myfunc()\n",
        "\n",
        "#print(\"Python is \" + myLocalVariable)"
      ],
      "metadata": {
        "id": "o7apT8-SSt8z",
        "colab": {
          "base_uri": "https://localhost:8080/"
        },
        "outputId": "abcc3264-1eac-4096-8730-22675c117b4e"
      },
      "execution_count": null,
      "outputs": [
        {
          "output_type": "stream",
          "name": "stdout",
          "text": [
            "Python is awesome!- from function\n",
            "Python is fantastic!- from function\n"
          ]
        }
      ]
    },
    {
      "cell_type": "code",
      "source": [
        "# How can you create a global variable in the local scope\n",
        "myGlobalVariable = \"awesome\"\n",
        "\n",
        "def myfunc():\n",
        "    global myLocalVariable \n",
        "    myLocalVariable = \"fantastic\"\n",
        "    print(\"Python is \" + myGlobalVariable + \"!\")\n",
        "    print(\"Python is \" + myLocalVariable + \"!\")\n",
        "\n",
        "myfunc()\n",
        "\n",
        "print(\"Python is \" + myLocalVariable + \"!\")"
      ],
      "metadata": {
        "id": "-SYqmQRRT_fm",
        "colab": {
          "base_uri": "https://localhost:8080/"
        },
        "outputId": "4467b97b-0f70-44dc-8055-6b4642527fbd"
      },
      "execution_count": null,
      "outputs": [
        {
          "output_type": "stream",
          "name": "stdout",
          "text": [
            "Python is awesome!\n",
            "Python is fantastic!\n",
            "Python is fantastic!\n"
          ]
        }
      ]
    },
    {
      "cell_type": "markdown",
      "source": [
        "The keyword arguments are often shortened as kwargs "
      ],
      "metadata": {
        "id": "2FBaqL8XsuBm"
      }
    },
    {
      "cell_type": "code",
      "source": [
        "#If the number of key words arguments is unknown\n",
        "\n",
        "def myRegularFunction(**kwargs):\n",
        "  print(kwargs)\n",
        "\n",
        "myRegularFunction(myFirstName = \"Oleaf\", myLastName=\"Kwwiec\", myMiddleName = \"Komntras\")"
      ],
      "metadata": {
        "colab": {
          "base_uri": "https://localhost:8080/"
        },
        "id": "OFBpGrPCs21Z",
        "outputId": "d94daef4-de1e-4f3e-b9b0-ebe49482d03d"
      },
      "execution_count": null,
      "outputs": [
        {
          "output_type": "stream",
          "name": "stdout",
          "text": [
            "{'myFirstName': 'Oleaf', 'myLastName': 'Kwwiec', 'myMiddleName': 'Komntras'}\n"
          ]
        }
      ]
    },
    {
      "cell_type": "code",
      "source": [
        "# default parameter in function statement\n",
        "\n",
        "def myRegularFunction(x,y,z=10):\n",
        "  print(x,\" \",y,\" \", z)\n",
        "\n",
        "myRegularFunction(0.2, 0.35)\n",
        "myRegularFunction(0.3, 0.45, 23456)"
      ],
      "metadata": {
        "colab": {
          "base_uri": "https://localhost:8080/"
        },
        "id": "LwyW8wd8tx1Y",
        "outputId": "7f197bec-14fc-4b8a-c225-291e8bf13975"
      },
      "execution_count": null,
      "outputs": [
        {
          "output_type": "stream",
          "name": "stdout",
          "text": [
            "0.2   0.35   10\n",
            "0.3   0.45   23456\n"
          ]
        }
      ]
    },
    {
      "cell_type": "code",
      "source": [
        "#Function overlaoding is not supported\n",
        "\n",
        "def MyOverloadingFunction(x=52):\n",
        "  print(x)\n",
        "\n",
        "MyOverloadingFunction(1.0)\n",
        "print(MyOverloadingFunction())\n"
      ],
      "metadata": {
        "colab": {
          "base_uri": "https://localhost:8080/"
        },
        "id": "uFksla-JudRS",
        "outputId": "22c72016-f443-4380-91f8-2cb251b2f04f"
      },
      "execution_count": null,
      "outputs": [
        {
          "output_type": "stream",
          "name": "stdout",
          "text": [
            "1.0\n",
            "52\n",
            "None\n"
          ]
        }
      ]
    },
    {
      "cell_type": "code",
      "source": [
        "#Passing a list of arguments\n",
        "\n",
        "def myRegularFunction(fish):\n",
        "  for i in fish:\n",
        "    print(i)\n",
        "\n",
        "fish=[\"Carp\",\"Bass\",\"Red Snapper\", \"Labeo culbasu\", \"Chanda Nama\", \"Ruffe\"]\n",
        "\n",
        "myRegularFunction(fish)"
      ],
      "metadata": {
        "colab": {
          "base_uri": "https://localhost:8080/"
        },
        "id": "ylLWPkYKvhGi",
        "outputId": "c9a6a178-64e4-4986-8938-f42e5a5da6ae"
      },
      "execution_count": null,
      "outputs": [
        {
          "output_type": "stream",
          "name": "stdout",
          "text": [
            "Carp\n",
            "Bass\n",
            "Red Snapper\n",
            "Labeo culbasu\n",
            "Chanda Nama\n",
            "Ruffe\n"
          ]
        }
      ]
    },
    {
      "cell_type": "code",
      "source": [
        "#To return the value of the function use return statement\n",
        "\n",
        "def myMathFunction(x,y,z):\n",
        "  return(x+y+z)\n",
        "\n",
        "myMathFunction(1,2,3)"
      ],
      "metadata": {
        "colab": {
          "base_uri": "https://localhost:8080/"
        },
        "id": "O-Br9VO4wAKo",
        "outputId": "f297ec56-c0ac-494a-d1be-04569bec9520"
      },
      "execution_count": null,
      "outputs": [
        {
          "output_type": "execute_result",
          "data": {
            "text/plain": [
              "6"
            ]
          },
          "metadata": {},
          "execution_count": 188
        }
      ]
    },
    {
      "cell_type": "code",
      "source": [
        "#Recursion function - can call itself (5! = 1*2*3*4*5)\n",
        "\n",
        "def myRecursiveFunction(x):\n",
        "  \"\"\" This is a recursive function to find a fuctorial\"\"\"\n",
        "  if x ==1:\n",
        "    return 1;\n",
        "  else:\n",
        "    return (x * myRecursiveFunction(x-1))\n",
        "\n",
        "x = 5\n",
        "print(\"The factorial of x\", x, \"is\", myRecursiveFunction(x))\n"
      ],
      "metadata": {
        "colab": {
          "base_uri": "https://localhost:8080/"
        },
        "id": "p3SipIbNxsp1",
        "outputId": "94f26048-ca87-4f11-cb17-02fe14c4e554"
      },
      "execution_count": null,
      "outputs": [
        {
          "output_type": "stream",
          "name": "stdout",
          "text": [
            "The factorial of x 5 is 120\n"
          ]
        }
      ]
    },
    {
      "cell_type": "markdown",
      "source": [
        "# Lambda function"
      ],
      "metadata": {
        "id": "AEUhSBDteg5a"
      }
    },
    {
      "cell_type": "code",
      "source": [
        "# A lambda function can take any number of arguments but have only one expression\n",
        "# lambda arguments : expression\n",
        "\n",
        "myLambdaFunction = lambda a: a+10\n",
        "print(myLambdaFunction(10))"
      ],
      "metadata": {
        "colab": {
          "base_uri": "https://localhost:8080/"
        },
        "id": "42tLupuqzKxu",
        "outputId": "2f1a9796-6cbd-4db3-b678-d5ffae941629"
      },
      "execution_count": null,
      "outputs": [
        {
          "output_type": "stream",
          "name": "stdout",
          "text": [
            "20\n"
          ]
        }
      ]
    },
    {
      "cell_type": "code",
      "source": [
        "# Multiple arguments\n",
        "\n",
        "myLambdaFunction = lambda a, b : a*b\n",
        "print(myLambdaFunction(64, 256))"
      ],
      "metadata": {
        "colab": {
          "base_uri": "https://localhost:8080/"
        },
        "id": "jxCiwzbN0PP8",
        "outputId": "e25d450e-4cf9-4e8a-86be-938860b7aecb"
      },
      "execution_count": null,
      "outputs": [
        {
          "output_type": "stream",
          "name": "stdout",
          "text": [
            "16384\n"
          ]
        }
      ]
    },
    {
      "cell_type": "code",
      "source": [
        "# Multiple arguments\n",
        "\n",
        "myLambdaFunction = lambda a, b, c : (a + b)/c\n",
        "\n",
        "print(myLambdaFunction(0.3, 0.4, 1.23))\n"
      ],
      "metadata": {
        "colab": {
          "base_uri": "https://localhost:8080/"
        },
        "id": "hXOZHJET0j2h",
        "outputId": "df0604c4-597c-4e21-97ae-c604fcd593ac"
      },
      "execution_count": null,
      "outputs": [
        {
          "output_type": "stream",
          "name": "stdout",
          "text": [
            "0.5691056910569106\n"
          ]
        }
      ]
    },
    {
      "cell_type": "markdown",
      "source": [
        "# User input\n",
        "\n",
        "\n",
        "---\n",
        "User input is allowed in python. The input() method (python 3.6) or raw_input method in python (2.7) can be used.\n"
      ],
      "metadata": {
        "id": "Qww9K1IrvtMy"
      }
    },
    {
      "cell_type": "code",
      "source": [
        "#The user input\n",
        "\n",
        "userName = input(\"Enter your user name plz: \\n\")\n",
        "\n",
        "print(\"Your username is: \" + userName)"
      ],
      "metadata": {
        "colab": {
          "base_uri": "https://localhost:8080/"
        },
        "id": "MCyFZIP6wN8F",
        "outputId": "07d52a4c-e105-4749-eb11-1743f1d511bb"
      },
      "execution_count": null,
      "outputs": [
        {
          "output_type": "stream",
          "name": "stdout",
          "text": [
            "Enter your user name plz: \n",
            "Daniel\n",
            "Your username is: Daniel\n"
          ]
        }
      ]
    },
    {
      "cell_type": "markdown",
      "source": [
        "# File I/O"
      ],
      "metadata": {
        "id": "1tFhadtVhsYr"
      }
    },
    {
      "cell_type": "markdown",
      "source": [
        "Files in pyhton can be created, read, appended, ...\n",
        "**open()** function can be used to work with files in python. This function takes to parameters: **filename** and **mode**. \n",
        "\n",
        "\n",
        "---\n",
        "**Methods for opening a file**\n",
        "\n",
        "\"**r**\" - **Read** - Default value. Opens a file for reading, error if the file does not exist\n",
        "\n",
        "\"**a**\" - **Append** - Opens a file for appending, creates the file if it does not exist\n",
        "\n",
        "\"**w**\" - **Write** - Opens a file for writing, creates the file if it does not exist\n",
        "\n",
        "\"**x**\" - **Create** - Creates the specified file, returns an error if the file exists\n",
        "\n",
        "\n",
        "---\n",
        "\n",
        "**In the text or binary modes**\n",
        "\n",
        "\"**t**\" - Text - Default value. Text mode\n",
        "\n",
        "\"**b**\" - Binary - Binary mode (e.g. images)\n",
        "\n",
        "---\n",
        "\n",
        "**file_object = open(\"filename\", \"mode\")**\n"
      ],
      "metadata": {
        "id": "VWNT4omSyZJd"
      }
    },
    {
      "cell_type": "code",
      "source": [
        "#To open a file - requires explicit closing\n",
        "myFirstFile=open(\"myDataFile.txt\", \"rt\")\n",
        "myFirstFile.close() #Close the file when you are finished.\n"
      ],
      "metadata": {
        "id": "atZC5_fvzbE4"
      },
      "execution_count": null,
      "outputs": []
    },
    {
      "cell_type": "code",
      "source": [
        "#to open a file\n",
        "myFirstFile=open(\"myDataFile.txt\", \"r\")\n",
        "\n",
        "myFirstFile.read()\n",
        "myFirstFile.readline()\n",
        "\n",
        "myFirstFile.close() #Close the file when you are finished."
      ],
      "metadata": {
        "id": "NOXK2KZizzPo"
      },
      "execution_count": null,
      "outputs": []
    },
    {
      "cell_type": "code",
      "source": [
        "#loop for the entire file\n",
        "myFirstFile=open(\"myDataFile.txt\", \"r\")\n",
        "\n",
        "for i in myFirstFile:\n",
        "  print(i)\n",
        "\n",
        "myFirstFile.close() #Close the file when you are finished."
      ],
      "metadata": {
        "id": "ZXnx5l380U6c"
      },
      "execution_count": null,
      "outputs": []
    },
    {
      "cell_type": "code",
      "source": [
        "#To write to a file you need to use \"a\" parameter\n",
        "\n",
        "myFirstFile=open(\"myDataFile.txt\", \"a\")\n",
        "myFirstFile.write(\"It is going to the end of a file\")\n",
        "\n",
        "myFirstFile.close() #Close the file when you are finished.\n",
        "\n",
        "#open and read the file after the appending\n",
        "\n",
        "myFirstFile=open(\"myDataFile.txt\", \"r\")\n",
        "print(myFirstFile.read())\n",
        "\n",
        "myFirstFile.close() #Close the file when you are finished."
      ],
      "metadata": {
        "id": "9Rig5pof07Ex"
      },
      "execution_count": null,
      "outputs": []
    },
    {
      "cell_type": "markdown",
      "source": [
        "Creating a new file\n",
        "\n",
        "\n",
        "---\n",
        "**\"x\"** - **Create** - \"will create a file, returns an error if the file exist.\"\n",
        "\n",
        "**\"a\"** - **Append** - \"will create a file if the specified file does not exist.\"\n",
        "\n",
        "**\"w\"** - **Write** - \"will create a file if the specified file does not exist.\"\n"
      ],
      "metadata": {
        "id": "Vp08HtUm1mIo"
      }
    },
    {
      "cell_type": "code",
      "source": [
        "#Creating a new file\n",
        "myFirstFile=open(\"myDataFile.txt\", \"x\") # a new and empty file is created\n",
        "myFirstFile=open(\"myDataFile.txt\", \"w\") # if there is no file, it will be created."
      ],
      "metadata": {
        "id": "5pPLB68H1ju1"
      },
      "execution_count": null,
      "outputs": []
    },
    {
      "cell_type": "code",
      "source": [
        "#Deleting the file you need to iport the os module\n",
        "import os\n",
        "if os.path.exists(\"myDataFile.txt\"):\n",
        "  os.remove(\"myDataFile.txt\")\n",
        "else:\n",
        "  print(\"This file does not exist\")"
      ],
      "metadata": {
        "colab": {
          "base_uri": "https://localhost:8080/"
        },
        "id": "IxNAreqU2S12",
        "outputId": "093ddd10-7e84-463b-abac-62ef0c818ce1"
      },
      "execution_count": null,
      "outputs": [
        {
          "output_type": "stream",
          "name": "stdout",
          "text": [
            "This file does not exist\n"
          ]
        }
      ]
    },
    {
      "cell_type": "code",
      "source": [
        "#Deleting the entire folder\n",
        "import os\n",
        "\n",
        "os.rmdir(\"myFolder\")"
      ],
      "metadata": {
        "id": "ujyMAxjC2wJR"
      },
      "execution_count": null,
      "outputs": []
    },
    {
      "cell_type": "markdown",
      "source": [
        "Using the **open()** method requires you to use **close()** method to close the file.\n",
        "\n",
        "**\"with\"** option allows to open files as it returns a file object, which has methods and attributes to manipulate the files.\n",
        "\n",
        "---\n",
        "**with open(\"myDataFile.txt) as file:**\n",
        "\n"
      ],
      "metadata": {
        "id": "QtKPdXsP3maX"
      }
    },
    {
      "cell_type": "code",
      "source": [
        "#Using \"with\" - no explicit closing of a file\n",
        "\n",
        "with open(\"myDataFile.txt\", \"w\") as myFirstFile:\n",
        "  myFirstFile.write(\"Hello World!\")\n",
        "\n",
        "#You do not need to close it explicitely "
      ],
      "metadata": {
        "id": "496pG5655Div"
      },
      "execution_count": null,
      "outputs": []
    },
    {
      "cell_type": "markdown",
      "source": [
        "**print()**\n",
        "\n",
        "\n",
        "---\n",
        "Print function is usually used for to print python objects \n",
        "as standard output.\n",
        "\n",
        "The syntax of this function is as follows:\n",
        "\n",
        "**print(objects, sep, end, file, flush)**\n",
        "\n",
        "**objects** - strings, tuples, lists, etc. \n",
        "\n",
        "**sep** - an optional parameter that is used to define a separation.\n",
        "\n",
        "**end** - an optional parameter that is used to define an end of a string printed.\n",
        "\n",
        "**file** - an optional parameter when writing to the file.\n",
        "\n",
        "**flush** - an optional boolean parameter setting flushed or buffered output.\n"
      ],
      "metadata": {
        "id": "Zk_SMAm04wBR"
      }
    },
    {
      "cell_type": "code",
      "source": [
        "#Printing the objects\n",
        "\n",
        "myList=[1,2,3,4,5]\n",
        "myTuple=(1,2,3,4,5)\n",
        "myString=\"1,2,3,4,5\"\n",
        "\n",
        "print(myList, myTuple, myString)"
      ],
      "metadata": {
        "colab": {
          "base_uri": "https://localhost:8080/"
        },
        "id": "5PogbvQP6fF4",
        "outputId": "829843ed-1e7d-4694-abfe-35526ed09aef"
      },
      "execution_count": null,
      "outputs": [
        {
          "output_type": "stream",
          "name": "stdout",
          "text": [
            "[1, 2, 3, 4, 5] (1, 2, 3, 4, 5) 1,2,3,4,5\n"
          ]
        }
      ]
    },
    {
      "cell_type": "code",
      "source": [
        "#Printing objects with a separator\n",
        "myList=[1,2,3,4,5]\n",
        "myTuple=(1,2,3,4,5)\n",
        "myString=\"1,2,3,4,5\"\n",
        "\n",
        "print(myList, myTuple, myString, sep=\"/\")"
      ],
      "metadata": {
        "colab": {
          "base_uri": "https://localhost:8080/"
        },
        "id": "_m1jkA966-ZC",
        "outputId": "0fc1faa2-ba2d-4ab4-ba58-21c5e56e5e67"
      },
      "execution_count": null,
      "outputs": [
        {
          "output_type": "stream",
          "name": "stdout",
          "text": [
            "[1, 2, 3, 4, 5]/(1, 2, 3, 4, 5)/1,2,3,4,5\n"
          ]
        }
      ]
    },
    {
      "cell_type": "code",
      "source": [
        "#String to be printed to the end\n",
        "myList=[1,2,3,4,5]\n",
        "myTuple=(1,2,3,4,5)\n",
        "myString=\"1,2,3,4,5\"\n",
        "\n",
        "print(myList, myTuple, myString, sep=\"*\", end=\"/\")"
      ],
      "metadata": {
        "colab": {
          "base_uri": "https://localhost:8080/"
        },
        "id": "kRAkXYEC7NRb",
        "outputId": "e7302edd-d4f1-4b49-839b-f09b0810cf35"
      },
      "execution_count": null,
      "outputs": [
        {
          "output_type": "stream",
          "name": "stdout",
          "text": [
            "[1, 2, 3, 4, 5]*(1, 2, 3, 4, 5)*1,2,3,4,5/"
          ]
        }
      ]
    },
    {
      "cell_type": "code",
      "source": [
        "#Using flush command\n",
        "import time \n",
        "countSeconds = 3\n",
        "for i in reversed(range(countSeconds + 1)):\n",
        "  if i> 0:\n",
        "    print(i, end=\"/\", flush=True) #flush specifies if it is flushed (True) or buffered (False)\n",
        "    time.sleep(1)\n",
        "  else:\n",
        "    print('End of a file')"
      ],
      "metadata": {
        "colab": {
          "base_uri": "https://localhost:8080/"
        },
        "id": "DoHFBSLi8_wx",
        "outputId": "42434187-3b9f-42fe-a6c2-94f8c75518fa"
      },
      "execution_count": null,
      "outputs": [
        {
          "output_type": "stream",
          "name": "stdout",
          "text": [
            "3/2/1/End of a file\n"
          ]
        }
      ]
    },
    {
      "cell_type": "markdown",
      "source": [
        "print() output formatting\n",
        "\n",
        "---\n",
        "General syntax for a format placeholder: \n",
        "\n",
        "**%**[flags][width][.precision]**type**\n",
        "\n",
        "**type:** **%s** -string; **%d** - integer, **%f** - float, **%e** - exponent \n",
        "\n",
        "**%x** - hexadecimal integer"
      ],
      "metadata": {
        "id": "RP6FalHu_XVv"
      }
    },
    {
      "cell_type": "code",
      "source": [
        "# Output formatting in python \n",
        "# This program is showing how to use\n",
        "# string modulo operator(%) to print various data types\n",
        " \n",
        "# print integer and float value\n",
        "print(\"Integer number : %2d, float number : %5.2f\" % (11, 05.333))\n",
        " \n",
        "# print integer value\n",
        "print(\"Total students : %3d, Boys : %2d\" % (240, 120))\n",
        "\n",
        "# print octal value\n",
        "print(\"%7.3o\" % (25))\n",
        "\n",
        "# print integer value\n",
        "print(\"%7.3d\" % (25))\n",
        "\n",
        "# print exponential value\n",
        "print(\"%10.3e\" % (356.08977))"
      ],
      "metadata": {
        "colab": {
          "base_uri": "https://localhost:8080/"
        },
        "id": "wvwhB3nG-HeZ",
        "outputId": "45a0c390-96a6-4bc4-80f9-50b08914d61b"
      },
      "execution_count": null,
      "outputs": [
        {
          "output_type": "stream",
          "name": "stdout",
          "text": [
            "Integer number : 11, float number :  5.33\n",
            "Total students : 240, Boys : 120\n",
            "    031\n",
            "    025\n",
            " 3.561e+02\n"
          ]
        }
      ]
    },
    {
      "cell_type": "code",
      "source": [
        "# Output formatting in python \n",
        "# This program is showing how to use\n",
        "# string modulo operator(%) to print various data types\n",
        "print('%d %s cost $%.2f' % (3, 'oranges', 5.11))"
      ],
      "metadata": {
        "colab": {
          "base_uri": "https://localhost:8080/"
        },
        "id": "wLuaHaR8F_Y9",
        "outputId": "1bfcdd40-0bed-4e85-ca22-af68821c35fd"
      },
      "execution_count": null,
      "outputs": [
        {
          "output_type": "stream",
          "name": "stdout",
          "text": [
            "3 oranges cost $5.11\n"
          ]
        }
      ]
    },
    {
      "cell_type": "code",
      "source": [
        "#Python’s string.format() method is used instead\n",
        "print('{0} {1} cost ${2}'.format(3, 'oranges', 5.11))\n",
        "#     |-----------------|.format|--------------------------|\n",
        "#           template     .format    positional arguments"
      ],
      "metadata": {
        "colab": {
          "base_uri": "https://localhost:8080/"
        },
        "id": "7doVvSOuGnvT",
        "outputId": "9594e93d-70b8-4096-8d9a-c03ea7a40060"
      },
      "execution_count": null,
      "outputs": [
        {
          "output_type": "stream",
          "name": "stdout",
          "text": [
            "3 oranges cost $5.11\n"
          ]
        }
      ]
    },
    {
      "cell_type": "code",
      "source": [
        "#Using keword parameters instead of positional arguments\n",
        "print('{quantity} {item} cost ${price}'.format(quantity=3,item='oranges',price=5.11))"
      ],
      "metadata": {
        "colab": {
          "base_uri": "https://localhost:8080/"
        },
        "id": "e38SwInxH-6J",
        "outputId": "df55b540-7046-4f1c-b383-68d43ffbd5f6"
      },
      "execution_count": null,
      "outputs": [
        {
          "output_type": "stream",
          "name": "stdout",
          "text": [
            "3 oranges cost $5.11\n"
          ]
        }
      ]
    },
    {
      "cell_type": "code",
      "source": [
        "# Output formatting in python \n",
        "# This program is showing how to use\n",
        "# f-string to print various data types\n",
        "\n",
        "quantity = 3\n",
        "item = 'oranges'\n",
        "price = 5.11\n",
        "\n",
        "print(f'{quantity} {item} cost ${price}')"
      ],
      "metadata": {
        "colab": {
          "base_uri": "https://localhost:8080/"
        },
        "id": "XB9582OjVOqt",
        "outputId": "72559850-8fe8-45a4-feca-a544733b909a"
      },
      "execution_count": null,
      "outputs": [
        {
          "output_type": "stream",
          "name": "stdout",
          "text": [
            "3 oranges cost $5.11\n"
          ]
        }
      ]
    },
    {
      "cell_type": "markdown",
      "source": [
        "# Section 5: Python modules and packages"
      ],
      "metadata": {
        "id": "MM0wR2SEiFsa"
      }
    },
    {
      "cell_type": "markdown",
      "source": [
        "We decompose our code in smaller pieces to make a code more readable. The way we can do this is to import modules to our code. A file that contains a set of functions is called a module. This module can be accessed from a program using \"**import**\" keyword. A module can also contain variables of all data types. There are several built-in modules that you can import. \n",
        "\n",
        "https://docs.python.org/3/library/index.html#the-python-standard-library"
      ],
      "metadata": {
        "id": "7ouik1jTrxm-"
      }
    },
    {
      "cell_type": "markdown",
      "source": [
        "You need to import a module to access all the functions and variables.\n",
        "Most python distributions come with many build-in modules like os, sys, time, math ..."
      ],
      "metadata": {
        "id": "pVLPeA0Jbmij"
      }
    },
    {
      "cell_type": "markdown",
      "source": [
        "Available, built-in modules in python\n",
        "\n",
        "\n",
        "---\n",
        "os, sys, time, math, MySQL, ... \n",
        "https://docs.python.org/3/py-modindex.html\n"
      ],
      "metadata": {
        "id": "F9HOfzyJj6BF"
      }
    },
    {
      "cell_type": "markdown",
      "source": [
        "Other modules that are very popular are Numpy, SciPy, Pandas, Jango, Keras, Tensorflow as shown below."
      ],
      "metadata": {
        "id": "-nUkKafjcYXk"
      }
    },
    {
      "cell_type": "code",
      "source": [
        "# How to use os module\n",
        "import os\n",
        "\n",
        "cwd = os.getcwd()\n",
        "\n",
        "print(\"My current working directory: \", cwd)"
      ],
      "metadata": {
        "colab": {
          "base_uri": "https://localhost:8080/"
        },
        "id": "ldJduVgxuTUc",
        "outputId": "a5821aaf-5861-46f2-c9ec-d29b12ccaef5"
      },
      "execution_count": null,
      "outputs": [
        {
          "output_type": "stream",
          "name": "stdout",
          "text": [
            "My current working directory:  /content\n"
          ]
        }
      ]
    },
    {
      "cell_type": "code",
      "source": [
        "# How to use os module \n",
        "import os\n",
        "\n",
        "path=\"/content\"\n",
        "\n",
        "dir_content=os.listdir(path)\n",
        "\n",
        "print(\"Content of my directory: \", dir_content)"
      ],
      "metadata": {
        "colab": {
          "base_uri": "https://localhost:8080/"
        },
        "id": "YYDu5IL9u6oi",
        "outputId": "fbb17b35-0780-495b-97f4-04a2cc621937"
      },
      "execution_count": null,
      "outputs": [
        {
          "output_type": "stream",
          "name": "stdout",
          "text": [
            "Content of my directory:  ['.config', 'sample_data']\n"
          ]
        }
      ]
    },
    {
      "cell_type": "code",
      "source": [
        "# How to use sys module\n",
        "# In this example the version of Python interpreter is return as string \n",
        "import sys\n",
        "\n",
        "print(sys.version)"
      ],
      "metadata": {
        "colab": {
          "base_uri": "https://localhost:8080/"
        },
        "id": "UOIGTJNDp8Og",
        "outputId": "d0919c1d-e5e0-49c4-ba9c-07573fa626dd"
      },
      "execution_count": null,
      "outputs": [
        {
          "output_type": "stream",
          "name": "stdout",
          "text": [
            "3.10.11 (main, Apr  5 2023, 14:15:10) [GCC 9.4.0]\n"
          ]
        }
      ]
    },
    {
      "cell_type": "code",
      "source": [
        "# How to use sys module\n",
        "# In this example we use sys.path that returns a list of directories \n",
        "# where the Python interpreter will search for the available modules.\n",
        "import sys\n",
        "\n",
        "print(sys.path)"
      ],
      "metadata": {
        "colab": {
          "base_uri": "https://localhost:8080/"
        },
        "id": "qMZ_QbSSsVyv",
        "outputId": "a2c7ded3-6568-4b94-bb38-695b0486c959"
      },
      "execution_count": null,
      "outputs": [
        {
          "output_type": "stream",
          "name": "stdout",
          "text": [
            "['/content', '/env/python', '/usr/lib/python310.zip', '/usr/lib/python3.10', '/usr/lib/python3.10/lib-dynload', '', '/usr/local/lib/python3.10/dist-packages', '/usr/lib/python3/dist-packages', '/usr/local/lib/python3.10/dist-packages/IPython/extensions', '/root/.ipython']\n"
          ]
        }
      ]
    },
    {
      "cell_type": "code",
      "source": [
        "# How to use sys module\n",
        "# In this example we exit a program id \n",
        "import sys\n",
        "\n",
        "def exit():\n",
        "  print(\"My own exit function\")\n",
        "\n",
        "exit()\n",
        "sys.exit()"
      ],
      "metadata": {
        "colab": {
          "base_uri": "https://localhost:8080/",
          "height": 133
        },
        "id": "PhAj3PcFr1I2",
        "outputId": "c2d91db8-fe9a-40aa-f68f-31bee5a9d156"
      },
      "execution_count": null,
      "outputs": [
        {
          "output_type": "stream",
          "name": "stdout",
          "text": [
            "My own exit function\n"
          ]
        },
        {
          "output_type": "error",
          "ename": "SystemExit",
          "evalue": "ignored",
          "traceback": [
            "An exception has occurred, use %tb to see the full traceback.\n",
            "\u001b[0;31mSystemExit\u001b[0m\n"
          ]
        }
      ]
    },
    {
      "cell_type": "code",
      "source": [
        "# How to use time module\n",
        "import time\n",
        "\n",
        "print(time.strftime(\"%H:%M:%S\"))\n"
      ],
      "metadata": {
        "colab": {
          "base_uri": "https://localhost:8080/"
        },
        "id": "IQAmTZrWlJGL",
        "outputId": "2f52a3cf-d159-4d89-eb6b-91acc169ad52"
      },
      "execution_count": null,
      "outputs": [
        {
          "output_type": "stream",
          "name": "stdout",
          "text": [
            "19:43:27\n"
          ]
        }
      ]
    },
    {
      "cell_type": "code",
      "source": [
        "# How to use math module\n",
        "import math\n",
        "\n",
        "PI=(math.acos(-1)) #To use in scientific calculations \n",
        "\n",
        "print(PI)\n",
        "print(math.pi) # Built in "
      ],
      "metadata": {
        "id": "uDTfAqzir-gN"
      },
      "execution_count": null,
      "outputs": []
    },
    {
      "cell_type": "code",
      "source": [
        "# Date time now\n",
        "import datetime\n",
        "\n",
        "print(datetime.datetime.now())"
      ],
      "metadata": {
        "colab": {
          "base_uri": "https://localhost:8080/"
        },
        "id": "TGU64hC9mGBT",
        "outputId": "2b015885-efc9-4251-9c55-82fe570defca"
      },
      "execution_count": null,
      "outputs": [
        {
          "output_type": "stream",
          "name": "stdout",
          "text": [
            "2023-05-14 19:43:24.463649\n"
          ]
        }
      ]
    },
    {
      "cell_type": "code",
      "source": [
        "# To specify exact entity we need to use the following syntax.\n",
        "from math import pi\n",
        "\n",
        "print(pi)"
      ],
      "metadata": {
        "colab": {
          "base_uri": "https://localhost:8080/"
        },
        "id": "_J3FKW-GwZ1F",
        "outputId": "34b0eb37-5996-4ec2-c5e7-e40af145e1ae"
      },
      "execution_count": null,
      "outputs": [
        {
          "output_type": "stream",
          "name": "stdout",
          "text": [
            "3.141592653589793\n"
          ]
        }
      ]
    },
    {
      "cell_type": "code",
      "source": [
        "# If you have two entities with the same name Python will take the first one.\n",
        "from math import pi\n",
        "\n",
        "pi=3.14\n",
        "\n",
        "print(\"My own variable:\", pi)"
      ],
      "metadata": {
        "colab": {
          "base_uri": "https://localhost:8080/"
        },
        "id": "DUZKTzq-xFut",
        "outputId": "41276f8f-e140-4879-f846-17d6704716c9"
      },
      "execution_count": null,
      "outputs": [
        {
          "output_type": "stream",
          "name": "stdout",
          "text": [
            "My own variable: 3.14\n"
          ]
        }
      ]
    },
    {
      "cell_type": "code",
      "source": [
        "# You can import more than one entity using the following syntax\n",
        "from math import sin, cos, tan\n",
        "\n",
        "print(\"Sin: \", sin(0.2))\n",
        "print(\"Cos: \", cos(0.2))\n",
        "print(\"Tan number: \", tan(0.2))\n"
      ],
      "metadata": {
        "colab": {
          "base_uri": "https://localhost:8080/"
        },
        "id": "ZTn172qvx10n",
        "outputId": "4762934e-3de1-4898-eccc-d8db2fd90cb4"
      },
      "execution_count": null,
      "outputs": [
        {
          "output_type": "stream",
          "name": "stdout",
          "text": [
            "Sin:  0.19866933079506122\n",
            "Cos:  0.9800665778412416\n",
            "Tan number:  0.2027100355086725\n"
          ]
        }
      ]
    },
    {
      "cell_type": "code",
      "source": [
        "# You can import everything from the module using an asterisk.\n",
        "# It is not recommended to do so since a lot of conflicts can appear with your\n",
        "# own function names and they will be replaced. You also need to notice that \n",
        "# you do not need to specify math prefix anymore. You can just use the name itself. \n",
        "\n",
        "from math import *\n",
        "\n",
        "print(\"Sin :\", sin(0.2))"
      ],
      "metadata": {
        "id": "lZNlPe6x28l5",
        "outputId": "bb9d4b24-abf8-4100-d4f3-052dccce3bf2",
        "colab": {
          "base_uri": "https://localhost:8080/"
        }
      },
      "execution_count": null,
      "outputs": [
        {
          "output_type": "stream",
          "name": "stdout",
          "text": [
            "Sin : 0.19866933079506122\n"
          ]
        }
      ]
    },
    {
      "cell_type": "code",
      "source": [
        "# You can also use aliases to refer to the module, \n",
        "# a shorter name or an acronym for example.\n",
        "import math as mth\n",
        "\n",
        "print(\"Pi number :\", mth.pi)\n"
      ],
      "metadata": {
        "id": "eRWXYhzA-lHl",
        "outputId": "35e640ea-be33-48ff-9dc8-019cdf2a0d9f",
        "colab": {
          "base_uri": "https://localhost:8080/"
        }
      },
      "execution_count": null,
      "outputs": [
        {
          "output_type": "stream",
          "name": "stdout",
          "text": [
            "Pi number : 3.141592653589793\n"
          ]
        }
      ]
    },
    {
      "cell_type": "markdown",
      "source": [
        "Summary\n",
        "1. import **module** \n",
        "2. from **module** import **\\***\n",
        "3. from **module** import **entity1**, **entity2**, **entity3**, ...\n",
        "4. import **module** as **short name**\n",
        "5. from **module** import **entity name** as **short name**\n",
        "\n",
        "Both statements are importing all the entities from the module. The difference is that in the first example you need to use prefix (**module.method**) to refer to the method and in the second example you do not need to \n",
        "use the prefix. "
      ],
      "metadata": {
        "id": "F6KnIkoE4aU8"
      }
    },
    {
      "cell_type": "code",
      "source": [],
      "metadata": {
        "id": "0K2ySx6751Pe"
      },
      "execution_count": null,
      "outputs": []
    },
    {
      "cell_type": "markdown",
      "source": [
        "Import your own modules"
      ],
      "metadata": {
        "id": "Sx9dS5rmdY6Z"
      }
    },
    {
      "cell_type": "code",
      "source": [
        "# Save your file as myFirstModule.py\n",
        "\n",
        "def greeting(name):\n",
        "  print(\"Hello, \" + name)\n",
        "\n",
        "worker={\"name\":\"John\", \"age\":48, \"country\":\"Germany\"}"
      ],
      "metadata": {
        "id": "grEllPwTmn7k"
      },
      "execution_count": null,
      "outputs": []
    },
    {
      "cell_type": "code",
      "source": [
        "# Import my own module\n",
        "import myFirstModule\n",
        "\n",
        "myFirstModule.greeting(\"Daniel\")\n",
        "myFirstModule.worker[\"age\"]"
      ],
      "metadata": {
        "id": "MPgybNvQm0oY",
        "colab": {
          "base_uri": "https://localhost:8080/",
          "height": 454
        },
        "outputId": "24c471ff-7489-4814-c31f-b85a478043f7"
      },
      "execution_count": null,
      "outputs": [
        {
          "output_type": "error",
          "ename": "ModuleNotFoundError",
          "evalue": "ignored",
          "traceback": [
            "\u001b[0;31m---------------------------------------------------------------------------\u001b[0m",
            "\u001b[0;31mModuleNotFoundError\u001b[0m                       Traceback (most recent call last)",
            "\u001b[0;32m<ipython-input-95-4b6598842fce>\u001b[0m in \u001b[0;36m<cell line: 2>\u001b[0;34m()\u001b[0m\n\u001b[1;32m      1\u001b[0m \u001b[0;31m# Import my own module\u001b[0m\u001b[0;34m\u001b[0m\u001b[0;34m\u001b[0m\u001b[0m\n\u001b[0;32m----> 2\u001b[0;31m \u001b[0;32mimport\u001b[0m \u001b[0mmyFirstModule\u001b[0m\u001b[0;34m\u001b[0m\u001b[0;34m\u001b[0m\u001b[0m\n\u001b[0m\u001b[1;32m      3\u001b[0m \u001b[0;34m\u001b[0m\u001b[0m\n\u001b[1;32m      4\u001b[0m \u001b[0mmyFirstModule\u001b[0m\u001b[0;34m.\u001b[0m\u001b[0mgreeting\u001b[0m\u001b[0;34m(\u001b[0m\u001b[0;34m\"Daniel\"\u001b[0m\u001b[0;34m)\u001b[0m\u001b[0;34m\u001b[0m\u001b[0;34m\u001b[0m\u001b[0m\n\u001b[1;32m      5\u001b[0m \u001b[0mmyFirstModule\u001b[0m\u001b[0;34m.\u001b[0m\u001b[0mworker\u001b[0m\u001b[0;34m[\u001b[0m\u001b[0;34m\"age\"\u001b[0m\u001b[0;34m]\u001b[0m\u001b[0;34m\u001b[0m\u001b[0;34m\u001b[0m\u001b[0m\n",
            "\u001b[0;31mModuleNotFoundError\u001b[0m: No module named 'myFirstModule'",
            "",
            "\u001b[0;31m---------------------------------------------------------------------------\u001b[0;32m\nNOTE: If your import is failing due to a missing package, you can\nmanually install dependencies using either !pip or !apt.\n\nTo view examples of installing some common dependencies, click the\n\"Open Examples\" button below.\n\u001b[0;31m---------------------------------------------------------------------------\u001b[0m\n"
          ],
          "errorDetails": {
            "actions": [
              {
                "action": "open_url",
                "actionText": "Open Examples",
                "url": "/notebooks/snippets/importing_libraries.ipynb"
              }
            ]
          }
        }
      ]
    },
    {
      "cell_type": "markdown",
      "source": [
        "The following example should be performed in Jupyter Lab. Once you import a module the pyhton executes it immediately, that is why most of the modules contain functions and variables' definitions only. \n",
        "\n",
        "Some modules not only contain the functions but also some automated tests making sure that the functions work correctly. These tests are not activated upon the call but independently. \n",
        "\n",
        "Each module will be initialized only once eventhough you might have a few initializations in different files. Python will be aware of all the modules imported in other files.  "
      ],
      "metadata": {
        "id": "JxDkwLGnTz94"
      }
    },
    {
      "cell_type": "code",
      "source": [
        "#myOwnModule\n",
        "if __name__==\"__main__\":\n",
        "  print(\"this module runs directly\")\n",
        "else:\n",
        "  print(\"This module is imported\")\n"
      ],
      "metadata": {
        "id": "pLkPIS7CS2_Y"
      },
      "execution_count": null,
      "outputs": []
    },
    {
      "cell_type": "code",
      "source": [
        "#Main code\n",
        "import myOwnModule"
      ],
      "metadata": {
        "id": "71wJebGsTT1S"
      },
      "execution_count": null,
      "outputs": []
    },
    {
      "cell_type": "markdown",
      "source": [
        "You can create an alias to the module using \"as\" keyword"
      ],
      "metadata": {
        "id": "N4X2mFTnnwLI"
      }
    },
    {
      "cell_type": "code",
      "source": [
        "# Creating an alias\n",
        "import math as mt\n",
        "\n",
        "PI=(mt.acos(-1))\n",
        "\n",
        "print(PI)"
      ],
      "metadata": {
        "colab": {
          "base_uri": "https://localhost:8080/"
        },
        "id": "qvZrFf8nn3-8",
        "outputId": "f8d32994-90cf-4aec-a503-ed21c401f066"
      },
      "execution_count": null,
      "outputs": [
        {
          "output_type": "stream",
          "name": "stdout",
          "text": [
            "3.141592653589793\n"
          ]
        }
      ]
    },
    {
      "cell_type": "code",
      "source": [
        "# There is a dir() function that lists all the functions inside of a module\n",
        "\n",
        "import math\n",
        "\n",
        "myFirstList=dir(math)\n",
        "print(myFirstList)\n",
        "\n",
        "#for name in dir(math):\n",
        "#  print(name)"
      ],
      "metadata": {
        "colab": {
          "base_uri": "https://localhost:8080/"
        },
        "id": "uPkzXV5soOd4",
        "outputId": "1c282eaa-756a-4fd9-db7e-7cc1343bee7a"
      },
      "execution_count": null,
      "outputs": [
        {
          "output_type": "stream",
          "name": "stdout",
          "text": [
            "['__doc__', '__loader__', '__name__', '__package__', '__spec__', 'acos', 'acosh', 'asin', 'asinh', 'atan', 'atan2', 'atanh', 'ceil', 'comb', 'copysign', 'cos', 'cosh', 'degrees', 'dist', 'e', 'erf', 'erfc', 'exp', 'expm1', 'fabs', 'factorial', 'floor', 'fmod', 'frexp', 'fsum', 'gamma', 'gcd', 'hypot', 'inf', 'isclose', 'isfinite', 'isinf', 'isnan', 'isqrt', 'lcm', 'ldexp', 'lgamma', 'log', 'log10', 'log1p', 'log2', 'modf', 'nan', 'nextafter', 'perm', 'pi', 'pow', 'prod', 'radians', 'remainder', 'sin', 'sinh', 'sqrt', 'tan', 'tanh', 'tau', 'trunc', 'ulp']\n"
          ]
        }
      ]
    },
    {
      "cell_type": "markdown",
      "source": [
        "You can import only some parts of a module and not the entire one"
      ],
      "metadata": {
        "id": "IFXLHWuGoq6l"
      }
    },
    {
      "cell_type": "code",
      "source": [
        "# Choosing the parts\n",
        "from math import acos\n",
        "\n",
        "print(acos(-1))"
      ],
      "metadata": {
        "colab": {
          "base_uri": "https://localhost:8080/"
        },
        "id": "82t5Q1a4oxXE",
        "outputId": "e14b152c-085a-4b78-bad2-d59f4ac23413"
      },
      "execution_count": null,
      "outputs": [
        {
          "output_type": "stream",
          "name": "stdout",
          "text": [
            "3.141592653589793\n"
          ]
        }
      ]
    },
    {
      "cell_type": "code",
      "source": [
        "# Generating a random number\n",
        "\n",
        "import random as rnd\n",
        "\n",
        "print(rnd.randint(0,9)) #Returns a number in a<=N<=b or [a,b] inclusive\n"
      ],
      "metadata": {
        "colab": {
          "base_uri": "https://localhost:8080/"
        },
        "id": "oIFdB3bupc87",
        "outputId": "b27926ec-d871-47d7-970a-8757e8901b31"
      },
      "execution_count": null,
      "outputs": [
        {
          "output_type": "stream",
          "name": "stdout",
          "text": [
            "9\n"
          ]
        }
      ]
    },
    {
      "cell_type": "code",
      "source": [
        "# Generating an array of random numbers\n",
        "from numpy.random import seed\n",
        "from numpy.random import randint\n",
        "\n",
        "seed(1)\n",
        "\n",
        "randomValues = randint(0,10,20)\n",
        "print(randomValues)\n"
      ],
      "metadata": {
        "colab": {
          "base_uri": "https://localhost:8080/"
        },
        "id": "XHdJnkxYp8Ux",
        "outputId": "63a501e5-2a7e-4693-ac49-4922c5e05324"
      },
      "execution_count": null,
      "outputs": [
        {
          "output_type": "stream",
          "name": "stdout",
          "text": [
            "[5 8 9 5 0 0 1 7 6 9 2 4 5 2 4 2 4 7 7 9]\n"
          ]
        }
      ]
    },
    {
      "cell_type": "markdown",
      "source": [
        "Most popular python modules are \n",
        "\n",
        "\n",
        "---\n",
        "**Numpy** - module is used for variety of mathematical operations on arrays.\n",
        "\n",
        "**SciPy** - module with a lot of mathematical algorithms and functions.\n",
        "\n",
        "**Pandas** - module designed to work with the datasets, data analysis.\n",
        "\n",
        "**Jiango** - module designed to help build webpages using pyhton.\n",
        "\n",
        "**PyTorch** - module with the largest machine learning library.\n",
        "\n",
        "**Keras** - module with machine learning libraries.\n",
        "\n",
        "**TensorFlow** - end-to-end machine learning module.\n",
        "\n",
        "**MatplotLib** - module for creating static, animated, and interactive graphs.\n",
        ".\n",
        ".\n",
        "."
      ],
      "metadata": {
        "id": "_7hiGX6arYIG"
      }
    },
    {
      "cell_type": "code",
      "source": [
        "import matplotlib.pyplot as plt\n",
        "\n",
        "x=[1,2,3,4]\n",
        "y=[1,2,3,4]\n",
        "\n",
        "plt.plot(x,y)\n",
        "plt.show()"
      ],
      "metadata": {
        "id": "oAJVc5R5FLfK",
        "outputId": "8c33f25e-9676-4426-a03f-528c6878a9d6",
        "colab": {
          "base_uri": "https://localhost:8080/",
          "height": 430
        }
      },
      "execution_count": null,
      "outputs": [
        {
          "output_type": "display_data",
          "data": {
            "text/plain": [
              "<Figure size 640x480 with 1 Axes>"
            ],
            "image/png": "[encoded data removed]"
          },
          "metadata": {}
        }
      ]
    },
    {
      "cell_type": "code",
      "source": [
        "import matplotlib.pyplot as plt\n",
        "import numpy as np\n",
        "\n",
        "xpoints = np.array([1, 8])\n",
        "ypoints = np.array([3, 10])\n",
        "\n",
        "plt.plot(xpoints, ypoints)\n",
        "plt.show()"
      ],
      "metadata": {
        "colab": {
          "base_uri": "https://localhost:8080/",
          "height": 186
        },
        "id": "1sylivpD3Bqq",
        "outputId": "8e858533-3ac4-4cd1-dae6-be97beac7a7b"
      },
      "execution_count": null,
      "outputs": [
        {
          "output_type": "display_data",
          "data": {
            "text/plain": [
              "<Figure size 144x144 with 1 Axes>"
            ],
            "image/png": "[encoded data removed]"
          },
          "metadata": {
            "needs_background": "light"
          }
        }
      ]
    },
    {
      "cell_type": "code",
      "source": [
        "# importing the required module as alias plt\n",
        "import math as mt\n",
        "import numpy as np\n",
        "import matplotlib.pyplot as plt \n",
        "    \n",
        "# x axis values \n",
        "x = np.arange(0,2*mt.pi,0.1)\n",
        "# y axis values \n",
        "y = np.cos(x)\n",
        "    \n",
        "# plotting the points  \n",
        "plt.plot(x, y) \n",
        "plt.grid()\n",
        "# function to show the plot \n",
        "plt.show() "
      ],
      "metadata": {
        "colab": {
          "base_uri": "https://localhost:8080/",
          "height": 430
        },
        "id": "CqI6cVNLuCGq",
        "outputId": "a32f595e-4d6f-4d21-9968-c23a8bfee533"
      },
      "execution_count": null,
      "outputs": [
        {
          "output_type": "display_data",
          "data": {
            "text/plain": [
              "<Figure size 640x480 with 1 Axes>"
            ],
            "image/png": "[encoded data removed]"
          },
          "metadata": {}
        }
      ]
    },
    {
      "cell_type": "code",
      "source": [
        "#Circle\n",
        "import numpy as np\n",
        "import matplotlib.pyplot as plt\n",
        " \n",
        "theta = np.linspace( 0 , 2 * np.pi , 150 )\n",
        " \n",
        "radius = 0.4\n",
        " \n",
        "a = radius * np.cos( theta )\n",
        "b = radius * np.sin( theta )\n",
        " \n",
        "figure, axes = plt.subplots( 1 )\n",
        " \n",
        "axes.plot( a, b )\n",
        "axes.set_aspect( 1 )\n",
        " \n",
        "plt.title( 'Parametric Equation Circle' )\n",
        "plt.show()"
      ],
      "metadata": {
        "id": "KLUa6Xe1F-xi",
        "outputId": "bebdebb6-ec84-4a9e-b2e5-683aa5118bda",
        "colab": {
          "base_uri": "https://localhost:8080/",
          "height": 452
        }
      },
      "execution_count": null,
      "outputs": [
        {
          "output_type": "display_data",
          "data": {
            "text/plain": [
              "<Figure size 640x480 with 1 Axes>"
            ],
            "image/png": "[encoded data removed]"
          },
          "metadata": {}
        }
      ]
    },
    {
      "cell_type": "markdown",
      "source": [
        "**Matplotlib.pyplot** tutorial https://matplotlib.org/stable/tutorials/introductory/pyplot.html"
      ],
      "metadata": {
        "id": "jdUNtA-fOARB"
      }
    },
    {
      "cell_type": "markdown",
      "source": [
        "# Section 6: Classes\n",
        "\n",
        "\n",
        "\n",
        "---\n",
        "Python is an object-oriented high-level language. Everything is an object in python that contains properties and methods. \n"
      ],
      "metadata": {
        "id": "-G6SVv9MmBAR"
      }
    },
    {
      "cell_type": "code",
      "source": [
        "#Creating your first class\n",
        "\n",
        "class myFirstClass:\n",
        "      myFirstVariable = \"Name\"\n",
        "\n",
        "# Create an object named myFirstObject\n",
        "\n",
        "myFirstObject = myFirstClass()\n",
        "\n",
        "print(myFirstObject.myFirstVariable)"
      ],
      "metadata": {
        "colab": {
          "base_uri": "https://localhost:8080/"
        },
        "id": "dnPGxwL1XEdK",
        "outputId": "73576085-59f3-4c70-e19e-ace87544511e"
      },
      "execution_count": null,
      "outputs": [
        {
          "output_type": "stream",
          "name": "stdout",
          "text": [
            "Name\n"
          ]
        }
      ]
    },
    {
      "cell_type": "code",
      "source": [
        "#Using _init_() function with classes\n",
        "\n",
        "class mySecondClass:\n",
        "      def __init__(self, name, age, occupation): #parameterized constructor\n",
        "        self.name = name\n",
        "        self.age = age\n",
        "        self.occupation = occupation\n",
        "\n",
        "mySecondObject = mySecondClass(\"John\", 48, \"Doctor\") #creating object of a class\n",
        "\n",
        "print(mySecondObject.name) #calling the instance variable using object \n",
        "print(mySecondObject.age)\n",
        "print(mySecondObject.occupation)"
      ],
      "metadata": {
        "colab": {
          "base_uri": "https://localhost:8080/"
        },
        "id": "bYjwcX9ZX97R",
        "outputId": "7b359b9e-2e32-42ae-98ed-185039e88b03"
      },
      "execution_count": null,
      "outputs": [
        {
          "output_type": "stream",
          "name": "stdout",
          "text": [
            "John\n",
            "48\n",
            "Doctor\n"
          ]
        }
      ]
    },
    {
      "cell_type": "markdown",
      "source": [
        "The __init__() function is called automatically everytime new object is created."
      ],
      "metadata": {
        "id": "6wgruaYIY95g"
      }
    },
    {
      "cell_type": "markdown",
      "source": [
        "\"The __str__() function controls what should be returned when the class object is represented as a string.\"\n",
        "\n",
        "\"If the __str__() function is not set, the string representation of the object is returned.\""
      ],
      "metadata": {
        "id": "z85vtZemadcB"
      }
    },
    {
      "cell_type": "code",
      "source": [
        "#The __str__() function\n",
        "\n",
        "class myThirdClass:\n",
        "  def __init__(self, name, age, occupation):\n",
        "    self.name = name\n",
        "    self.age = age\n",
        "    self.occupation = occupation\n",
        "\n",
        "  def __str__(self):\n",
        "    return f\"{self.name}\\\\{self.age}\\\\{self.occupation}\"\n",
        "\n",
        "myThirdObject = myThirdClass(\"John\", 48, \"Doctor\")\n",
        "\n",
        "print(myThirdObject)"
      ],
      "metadata": {
        "colab": {
          "base_uri": "https://localhost:8080/"
        },
        "id": "msteLr7XZVM9",
        "outputId": "adb4bcb1-b918-49a3-fcd6-9f64440f80ee"
      },
      "execution_count": null,
      "outputs": [
        {
          "output_type": "stream",
          "name": "stdout",
          "text": [
            "John\\48\\Doctor\n",
            "<class '__main__.myThirdClass'>\n"
          ]
        }
      ]
    },
    {
      "cell_type": "markdown",
      "source": [
        "Object Methods"
      ],
      "metadata": {
        "id": "baYgOUGtank2"
      }
    },
    {
      "cell_type": "code",
      "source": [
        "#Methods in classes\n",
        "\n",
        "class myFourthClass:\n",
        "  def __init__(self,name, age, occupation):\n",
        "    self.name = name\n",
        "    self.age = age\n",
        "    self.occupation = occupation\n",
        "\n",
        "  def myName(self):\n",
        "      print(\"Hello my name is \" + self.name)\n",
        "\n",
        "  def myAge(self):\n",
        "      print(\"My age is \" + str(self.age))\n",
        "\n",
        "  def myOccupation(self):\n",
        "      print(\"My occupation is \" + self.occupation)\n",
        "\n",
        "myFourthObject = myFourthClass(\"John\", 48, \"Doctor\")\n",
        "\n",
        "myFourthObject.myName()\n",
        "myFourthObject.myAge()\n",
        "myFourthObject.myOccupation()"
      ],
      "metadata": {
        "colab": {
          "base_uri": "https://localhost:8080/"
        },
        "id": "D6sfzGZ4apvL",
        "outputId": "867f11ba-e120-4c61-e801-3c211850172a"
      },
      "execution_count": null,
      "outputs": [
        {
          "output_type": "stream",
          "name": "stdout",
          "text": [
            "Hello my name is John\n",
            "My age is 48\n",
            "My occupation is Doctor\n"
          ]
        }
      ]
    }
  ]
}