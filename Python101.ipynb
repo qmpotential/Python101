{
  "nbformat": 4,
  "nbformat_minor": 0,
  "metadata": {
    "colab": {
      "provenance": [],
      "toc_visible": true,
      "authorship_tag": "ABX9TyMN4RVakxYhKfZp09BAUDxg",
      "include_colab_link": true
    },
    "kernelspec": {
      "name": "python3",
      "display_name": "Python 3"
    },
    "language_info": {
      "name": "python"
    }
  },
  "cells": [
    {
      "cell_type": "markdown",
      "metadata": {
        "id": "view-in-github",
        "colab_type": "text"
      },
      "source": [
        "<a href=\"https://colab.research.google.com/github/qmpotential/Python101/blob/main/Python101.ipynb\" target=\"_parent\"><img src=\"https://colab.research.google.com/assets/colab-badge.svg\" alt=\"Open In Colab\"/></a>"
      ]
    },
    {
      "cell_type": "markdown",
      "source": [
        "# **Introduction to Python**\n",
        "\n",
        "Date: May 25th, 2023\n",
        "\n",
        "LONI Scientific Computing Bootcamp\n",
        "\n",
        "by Oleg N. Starovoytov\n",
        "\n",
        "olegs@lsu.edu"
      ],
      "metadata": {
        "id": "IIB88iwPO5F-"
      }
    },
    {
      "cell_type": "markdown",
      "source": [
        "# Outline\n",
        "\n",
        "*   Section 1: **Python programming basics** \n",
        "\n",
        "*   Section 2: **Data collections** \n",
        "   \n",
        "*   Section 3: **Control flow** \n",
        "\n",
        "*   Section 4: **Functions** \n",
        "\n",
        "*   Section 5: **Modules** \n",
        "\n",
        "*   Section 6: **Classes** "
      ],
      "metadata": {
        "id": "Ptut8gykhIuv"
      }
    },
    {
      "cell_type": "markdown",
      "source": [
        "# Section 1: Python programming basics"
      ],
      "metadata": {
        "id": "fKMS-GhxE04A"
      }
    },
    {
      "cell_type": "markdown",
      "source": [
        "# Print function - print()\n",
        "\n",
        "---\n",
        "The print function allows you to print data to the screen. We are going to use the print function a lot and that is why I would like you to get familiar with this function first.\n",
        "\n",
        "---\n",
        "\n",
        "Syntax: print(arguments)"
      ],
      "metadata": {
        "id": "v1p1Jg8o0t0h"
      }
    },
    {
      "cell_type": "code",
      "source": [
        "# Using print function to display information on the screen\n",
        "\n",
        "print(\"Hello World!\")\n",
        "print(\"Hello World!\\n\")\n",
        "print(\"Hello \\nWorld\")\n",
        "print()\n",
        "print(\"Hello Students!\")"
      ],
      "metadata": {
        "colab": {
          "base_uri": "https://localhost:8080/"
        },
        "id": "SvLbKqgN3AZN",
        "outputId": "4c56d40f-3261-4ba9-82bf-a41f8825cfd1"
      },
      "execution_count": null,
      "outputs": [
        {
          "output_type": "stream",
          "name": "stdout",
          "text": [
            "Hello World!\n",
            "Hello World!\n",
            "\n",
            "Hello \n",
            "World\n",
            "\n",
            "Hello Students!\n"
          ]
        }
      ]
    },
    {
      "cell_type": "markdown",
      "source": [
        "# Comments\n",
        "\n",
        "---\n",
        "Comments are very important in the process of programming. It is encouraged to leave some comments inside of you code for better understanding of the code by other developers. Comments in Python language are made using \"#\" sign to comment a single line and \"\"\" quotes to comment multiple lines.\n",
        "\n",
        "---\n",
        "\n",
        "Syntax: # Single line comment \n"
      ],
      "metadata": {
        "id": "P735N2xU0feW"
      }
    },
    {
      "cell_type": "code",
      "source": [
        "# This is my first comment\n",
        "\n",
        "print(\"Hello World!\")"
      ],
      "metadata": {
        "colab": {
          "base_uri": "https://localhost:8080/"
        },
        "id": "EzgnB7SAF2Hs",
        "outputId": "f97dd647-f289-460f-e4e0-ed95cf8eaeb0"
      },
      "execution_count": null,
      "outputs": [
        {
          "output_type": "stream",
          "name": "stdout",
          "text": [
            "Hello World!\n"
          ]
        }
      ]
    },
    {
      "cell_type": "code",
      "source": [
        "# This is my second comment\n",
        "\n",
        "print(\"Hello World!\") # This is my third comment"
      ],
      "metadata": {
        "colab": {
          "base_uri": "https://localhost:8080/"
        },
        "id": "NHQIdP0nF8IZ",
        "outputId": "cf181202-46ef-4f04-f944-001fc4c823d8"
      },
      "execution_count": null,
      "outputs": [
        {
          "output_type": "stream",
          "name": "stdout",
          "text": [
            "Hello World!\n"
          ]
        }
      ]
    },
    {
      "cell_type": "code",
      "source": [
        "# This is my third comment\n",
        "\n",
        "''' This is a multiple \n",
        "    line\n",
        "    comment '''\n",
        "\n",
        "print(\"Hello World!\")"
      ],
      "metadata": {
        "colab": {
          "base_uri": "https://localhost:8080/"
        },
        "id": "d0bAZiB2FzEQ",
        "outputId": "22ed04b0-8fc4-454b-ef75-406a351a9bff"
      },
      "execution_count": null,
      "outputs": [
        {
          "output_type": "stream",
          "name": "stdout",
          "text": [
            "Hello World!\n"
          ]
        }
      ]
    },
    {
      "cell_type": "code",
      "source": [
        "# This is my fourth comment\n",
        "\n",
        "\"\"\" This is a multiple \n",
        "    line\n",
        "    comment \"\"\"\n",
        "\n",
        "print(\"Hello World!\")"
      ],
      "metadata": {
        "colab": {
          "base_uri": "https://localhost:8080/"
        },
        "id": "oVfXjlu-GHb3",
        "outputId": "923fcf4c-0a5f-4128-80e2-eee6508f4f8c"
      },
      "execution_count": null,
      "outputs": [
        {
          "output_type": "stream",
          "name": "stdout",
          "text": [
            "Hello World!\n"
          ]
        }
      ]
    },
    {
      "cell_type": "markdown",
      "source": [
        "# Note\n",
        "\n",
        "---\n",
        "Professional programmers include comments to the header of each file listing the author, date, a description of the code, some other important information, and any updates that have been made. See example below.\n",
        "\n",
        "---"
      ],
      "metadata": {
        "id": "ALsNm8DsLo2d"
      }
    },
    {
      "cell_type": "code",
      "source": [
        "# function sortedArray = sort(myFirstArray)\n",
        "\n",
        "# Author:  First name Second name (somename@address.edu)\n",
        "# Date:    12/10/1815\n",
        "# Updated: 06/10/1835\n",
        "# Description: The sort function is sorting an array of integers\n",
        "# Parameters: Array\n",
        "# Return: Sorted array\n",
        "# Example of usage: myFirstArray = [23,20,45,14,2]\n",
        "#                   sortedArray  = [2,14,20,23,45] "
      ],
      "metadata": {
        "id": "V0eM_w4IL85E"
      },
      "execution_count": null,
      "outputs": []
    },
    {
      "cell_type": "markdown",
      "source": [
        "# Variables\n",
        "\n",
        "\n",
        "---\n",
        "\n",
        "\n",
        "A variable's name references or points to an object. Each object can have various data types with some stored values. No particular type is used upon variable declaration.\n",
        "\n",
        "There are some rules for creating a variable name: \n",
        "\n",
        "a) A variable name can start with characters and/or underscore (A-z, and _ );\n",
        "\n",
        "b) a variable name is case-sensitive;\n",
        "\n",
        "c) there is no limit on varable length;\n",
        "\n",
        "d) there should not be any spaces for a multi-word variable;\n",
        "\n",
        "e) no python keywords can be used to create a variable name;\n",
        "   \n",
        "   Examples: for, while, print, ...\n",
        "\n",
        "To assign an object to the variable you need to use assign operator\n",
        "\n",
        "---\n",
        "\n",
        "Syntax: myVariable = value"
      ],
      "metadata": {
        "id": "Obdgar5uk9bO"
      }
    },
    {
      "cell_type": "code",
      "source": [
        "# Usual declaration of variables\n",
        "\n",
        "a = 1\n",
        "b = 'Hello World'\n",
        "c = -100000000000\n",
        "d = 0.345\n",
        "e = True\n",
        "f = 5.0E-51\n",
        "g = 1_000_000_000\n",
        "A_65_ASCII = \"A\"\n",
        "\n",
        "print(type(b))\n",
        "print(type(f))\n",
        "print(A_65_ASCII)\n",
        "print(ord(A_65_ASCII))\n",
        "print(type(g))"
      ],
      "metadata": {
        "colab": {
          "base_uri": "https://localhost:8080/"
        },
        "id": "DEUIIbhRRAfx",
        "outputId": "64cb8e03-b27b-4702-eded-55daefa5e838"
      },
      "execution_count": null,
      "outputs": [
        {
          "output_type": "stream",
          "name": "stdout",
          "text": [
            "<class 'str'>\n",
            "<class 'float'>\n",
            "A\n",
            "65\n",
            "<class 'int'>\n"
          ]
        }
      ]
    },
    {
      "cell_type": "markdown",
      "source": [
        "# Rules and conventions\n",
        "\n",
        "\n",
        "---\n",
        "   **Camel Case** - each word starts with a capital letter except the first one.\n",
        "\n",
        "   Example: **myVariableName**\n",
        "\n",
        "   **Pascal Case** - each word starts with a capital letter.\n",
        "\n",
        "   Example: **MyVariableName**\n",
        "\n",
        "   **Snake Case** - each word is connected by underscore.\n",
        "\n",
        "   Example: **my_variable_name**\n",
        "\n",
        "---\n"
      ],
      "metadata": {
        "id": "KbhL2URwEWcM"
      }
    },
    {
      "cell_type": "code",
      "source": [
        "# Declaration of a variable using Camel Case\n",
        "myFirstVariable = \"Camel Case\"\n",
        "print(myFirstVariable)"
      ],
      "metadata": {
        "colab": {
          "base_uri": "https://localhost:8080/"
        },
        "id": "ulabfaGSKdH2",
        "outputId": "4d9e726f-7392-49df-aeec-4b373ab0f73f"
      },
      "execution_count": null,
      "outputs": [
        {
          "output_type": "stream",
          "name": "stdout",
          "text": [
            "Camel Case\n"
          ]
        }
      ]
    },
    {
      "cell_type": "code",
      "source": [
        "# Declaration of a variable using Pascal Case\n",
        "MyFirstVariable = \"Pascal Case\"\n",
        "print(MyFirstVariable)"
      ],
      "metadata": {
        "colab": {
          "base_uri": "https://localhost:8080/"
        },
        "id": "kzDovAizKr9o",
        "outputId": "f944ba8c-e62f-4cdb-c81f-8533d1447b81"
      },
      "execution_count": null,
      "outputs": [
        {
          "output_type": "stream",
          "name": "stdout",
          "text": [
            "Pascal Case\n"
          ]
        }
      ]
    },
    {
      "cell_type": "code",
      "source": [
        "# Declaration of a variable using Snake Case\n",
        "my_first_variable = \"Snake Case\"\n",
        "print(my_first_variable)"
      ],
      "metadata": {
        "colab": {
          "base_uri": "https://localhost:8080/"
        },
        "id": "vW3-ecGDK6Lu",
        "outputId": "26708b58-616d-42f7-aab9-869b415ff4a3"
      },
      "execution_count": null,
      "outputs": [
        {
          "output_type": "stream",
          "name": "stdout",
          "text": [
            "Snake Case\n"
          ]
        }
      ]
    },
    {
      "cell_type": "code",
      "source": [
        "# Correct declaration of variables\n",
        "myFirstVariable = \"John\"\n",
        "MyFirstVariable = \"John\"\n",
        "my_first_variable = \"John\"\n",
        "_my_first_Variable = \"John\"\n",
        "MY_FIRST_VARIABLE = \"John\"\n",
        "myFirst_Variable363 = \"John\""
      ],
      "metadata": {
        "id": "7hkrjOPCLysP"
      },
      "execution_count": null,
      "outputs": []
    },
    {
      "cell_type": "code",
      "source": [
        "# Illegal declaration of variables\n",
        "\n",
        "100myFirstVariable = \"John\" # can not start with a number\n",
        "my-first-variable = \"John\". # can not have dash in the name\n",
        "my first variable = \"John\"  # can not have spaces in the variable name\n",
        "&myFirstVariable=\"John\"     # can not have special characters in the name \n",
        "for = \"John\"                # can not use reserved python keywords"
      ],
      "metadata": {
        "id": "WkzKQsuNMQbN"
      },
      "execution_count": null,
      "outputs": []
    },
    {
      "cell_type": "code",
      "source": [
        "# Declaration of variables \n",
        "TestVariable = 1.0\n",
        "\n",
        "print(TestVariable)\n",
        "print(type(TestVariable))\n",
        "\n",
        "TestVariable = \"Python is fun!\"\n",
        "\n",
        "print(TestVariable)\n",
        "print(type(TestVariable))"
      ],
      "metadata": {
        "id": "ulQ1wucCJWm_",
        "colab": {
          "base_uri": "https://localhost:8080/"
        },
        "outputId": "c51d2378-ef3d-4b0c-f5d3-9c596f81e6e1"
      },
      "execution_count": null,
      "outputs": [
        {
          "output_type": "stream",
          "name": "stdout",
          "text": [
            "1.0\n",
            "<class 'float'>\n",
            "Python is fun!\n",
            "<class 'str'>\n"
          ]
        }
      ]
    },
    {
      "cell_type": "code",
      "source": [
        "# Assign multiple values to multiple variables in one line \n",
        "\n",
        "x, y, z = 23.4, 35.6, 45.1\n",
        "print(x)\n",
        "print(y)\n",
        "print(z)"
      ],
      "metadata": {
        "colab": {
          "base_uri": "https://localhost:8080/"
        },
        "id": "6PUy49h1Ov7F",
        "outputId": "054c0193-2a94-4472-bfaa-3042afb0fc55"
      },
      "execution_count": null,
      "outputs": [
        {
          "output_type": "stream",
          "name": "stdout",
          "text": [
            "23.4\n",
            "35.6\n",
            "45.1\n"
          ]
        }
      ]
    },
    {
      "cell_type": "code",
      "source": [
        "# Assign multiple values of multiple data types to multiple variables in one line \n",
        "x, y, z, atomName, atomMass, stateID = 23.4, 35.6, 45.1, \"Carbon\", \"12.011\", True\n",
        "print(x)\n",
        "print(y)\n",
        "print(z)\n",
        "print(atomName)\n",
        "print(atomMass)\n",
        "print(stateID)"
      ],
      "metadata": {
        "colab": {
          "base_uri": "https://localhost:8080/"
        },
        "outputId": "afbe577c-168f-4cef-d29d-d9ee9dd62422",
        "id": "utu2h8QPPpog"
      },
      "execution_count": null,
      "outputs": [
        {
          "output_type": "stream",
          "name": "stdout",
          "text": [
            "23.4\n",
            "35.6\n",
            "45.1\n",
            "Carbon\n",
            "12.011\n",
            "True\n"
          ]
        }
      ]
    },
    {
      "cell_type": "code",
      "source": [
        "# Assign one value to multiple variables\n",
        "x=y=z=2.25\n",
        "print(x)\n",
        "print(y)\n",
        "print(z)"
      ],
      "metadata": {
        "colab": {
          "base_uri": "https://localhost:8080/"
        },
        "id": "cxAe_TDSQGy2",
        "outputId": "8346ca9e-46da-4aa9-de7d-a87fa9d3c0fe"
      },
      "execution_count": null,
      "outputs": [
        {
          "output_type": "stream",
          "name": "stdout",
          "text": [
            "2.25\n",
            "2.25\n",
            "2.25\n"
          ]
        }
      ]
    },
    {
      "cell_type": "code",
      "source": [
        "# Using unpacking method to assign values to variables\n",
        "coordinates=[2.35, 6.37, -8.94]\n",
        "x,y,z = coordinates\n",
        "print(x)\n",
        "print(y)\n",
        "print(z)"
      ],
      "metadata": {
        "colab": {
          "base_uri": "https://localhost:8080/"
        },
        "id": "x5i3eTHMQerG",
        "outputId": "ad1af99b-a645-4d71-f4e4-6025129a6c58"
      },
      "execution_count": null,
      "outputs": [
        {
          "output_type": "stream",
          "name": "stdout",
          "text": [
            "2.35\n",
            "6.37\n",
            "-8.94\n"
          ]
        }
      ]
    },
    {
      "cell_type": "code",
      "source": [
        "# Output variables using unpacking\n",
        "coordinates=[2.35, 6.37, -8.94]\n",
        "x,y,z = coordinates\n",
        "print(x, y, z)\n",
        "print(x + y + z)"
      ],
      "metadata": {
        "colab": {
          "base_uri": "https://localhost:8080/"
        },
        "outputId": "a4d8a0d9-523f-4493-c886-7e7a98d391a7",
        "id": "9004FlukQ5mA"
      },
      "execution_count": null,
      "outputs": [
        {
          "output_type": "stream",
          "name": "stdout",
          "text": [
            "2.35 6.37 -8.94\n",
            "-0.21999999999999886\n"
          ]
        }
      ]
    },
    {
      "cell_type": "code",
      "source": [
        "# Output variables using unpacking\n",
        "\n",
        "myFriendNames=[\"John\", \"Lisa\", \"Michelle\"]\n",
        "name1,name2,name3 = myFriendNames\n",
        "print(name1, name2, name3)"
      ],
      "metadata": {
        "colab": {
          "base_uri": "https://localhost:8080/"
        },
        "outputId": "94713c67-ec08-4274-a279-cd50720bd758",
        "id": "HO6UumH4RNWv"
      },
      "execution_count": null,
      "outputs": [
        {
          "output_type": "stream",
          "name": "stdout",
          "text": [
            "John Lisa Michelle\n"
          ]
        }
      ]
    },
    {
      "cell_type": "code",
      "source": [
        "# Deleting a variable using the del command\n",
        "\n",
        "myTenthVariable = 65\n",
        "print (myTenthVariable)\n",
        "del myTenthVariable\n"
      ],
      "metadata": {
        "colab": {
          "base_uri": "https://localhost:8080/"
        },
        "id": "lRo1hsnza_fH",
        "outputId": "00057e59-d7be-4a47-b34e-92e8d672a8f2"
      },
      "execution_count": null,
      "outputs": [
        {
          "output_type": "stream",
          "name": "stdout",
          "text": [
            "65\n"
          ]
        }
      ]
    },
    {
      "cell_type": "markdown",
      "source": [
        "# Global and local variables\n",
        "\n",
        "\n",
        "---\n",
        "\n",
        "Global variables are the variables that can be accessed from anywhere in your code. Local variables are accessable withing a local scope. Please see the Function section to get more information about global and local variables.\n",
        "\n",
        "---"
      ],
      "metadata": {
        "id": "P9P61uxDRk-I"
      }
    },
    {
      "cell_type": "markdown",
      "source": [
        "# Data types\n",
        "\n",
        "\n",
        "---\n",
        "\n",
        "\n",
        "Variables can store different types of data.\n",
        "\n",
        "There are **built-in data types** in Python.\n",
        "\n",
        "Numeric Types:\t**int, float, complex**\n",
        "\n",
        "Text Type: **string**\n",
        "\n",
        "Boolean Type:\t**bool**\n",
        "\n",
        "Sequence Types:\t**list, tuple, range**\n",
        "\n",
        "Dictionary Type:\t**dict**\n",
        "\n",
        "Set Types:\t**set, frozenset**\n",
        "\n",
        "Binary Types:\t**bytes, bytearray, memoryview**\n",
        "\n",
        "None Type:\t**NoneType**\n",
        "\n",
        "\n",
        "---\n",
        "\n",
        "\n",
        "* Primitive types are **integer, float, string, and boolean**. \n",
        "* All other are types are non-primitive, including **lists**, **tuples**, **dictionary**, **set**, **file**, and etc. \n",
        "* Python uses classes to define its data types, including its primitive types."
      ],
      "metadata": {
        "id": "WMmwlGM-hbfY"
      }
    },
    {
      "cell_type": "code",
      "source": [
        "# Using type function: type()\n",
        "\n",
        "myFirstVariable   = 23\n",
        "mySecondVariable  = 0.00036\n",
        "myThirdVariable   = 10+5j\n",
        "myFourthVariable  = True\n",
        "\n",
        "myFifthVariable   = \"Hello World!\"\n",
        "mySixthVariable   = [0, 1, 2, 3, 4, 5, 6, 7, 8, 9]\n",
        "mySeventhVariable = (\"John\", \"Mikle\", \"Desbey\")\n",
        "\n",
        "myEighthVariable  = {\"Name\":\"John\", \"Age\":41, \"Occupation\":\"Doctor\"} \n",
        "\n",
        "myNinthVariable   = {\"apple\", \"banana\", \"cherry\"}\n",
        "\n",
        "myTenthVariable   = frozenset({\"apple\", \"banana\", \"cherry\"})\n",
        "\n",
        "myEleventhVariable   = b\"Hello\"\n",
        "myTwelvefthVariable  = bytearray(5)\n",
        "myThirteenthVariable = memoryview(bytes(5))\n",
        "\n",
        "myFourteenthVariable = None\n",
        "myFifteenthVariable  = range(12)\n",
        "\n",
        "print(type(myFirstVariable))\n",
        "print(type(mySecondVariable))\n",
        "print(type(myThirdVariable))\n",
        "print(type(myFourthVariable))\n",
        "print(type(myFifthVariable))\n",
        "print(type(mySixthVariable))\n",
        "print(type(mySeventhVariable))\n",
        "print(type(myEighthVariable))\n",
        "print(type(myNinthVariable))\n",
        "print(type(myTenthVariable))\n",
        "print(type(myEleventhVariable))\n",
        "print(type(myTwelvefthVariable))\n",
        "print(type(myThirteenthVariable))\n",
        "print(type(myFourteenthVariable))\n",
        "print(type(myFifteenthVariable))"
      ],
      "metadata": {
        "colab": {
          "base_uri": "https://localhost:8080/"
        },
        "id": "jixgkK8OWZgi",
        "outputId": "1bc9ed4e-f1ee-4bfc-ab76-e9f95a7d0a9e"
      },
      "execution_count": null,
      "outputs": [
        {
          "output_type": "stream",
          "name": "stdout",
          "text": [
            "<class 'int'>\n",
            "<class 'float'>\n",
            "<class 'complex'>\n",
            "<class 'bool'>\n",
            "<class 'str'>\n",
            "<class 'list'>\n",
            "<class 'tuple'>\n",
            "<class 'dict'>\n",
            "<class 'set'>\n",
            "<class 'frozenset'>\n",
            "<class 'bytes'>\n",
            "<class 'bytearray'>\n",
            "<class 'memoryview'>\n",
            "<class 'NoneType'>\n",
            "<class 'range'>\n"
          ]
        }
      ]
    },
    {
      "cell_type": "markdown",
      "source": [
        "# Literals\n",
        "\n",
        "---\n",
        "\n",
        "Literals are data that assigned to variables or constants at the declaration, it is a fixed value. There are five types of literals in Python: Numeric literals, Boolean literals, String literals, Collection literals, and Special type.\n",
        "\n",
        "---\n",
        "\n",
        "Numeric literals:    integer, float, complex\n",
        "\n",
        "Boolean literals:    True, False\n",
        "\n",
        "String literals:     text surrounded by single, double, or triple quotes\n",
        "\n",
        "Collection literals: List, Tuple, Dict, Set\n",
        "\n",
        "Special literal:     None"
      ],
      "metadata": {
        "id": "XPbGZCHVTcR8"
      }
    },
    {
      "cell_type": "code",
      "source": [
        "# Example of literals\n",
        "\n",
        "# Integer literal\n",
        "\n",
        "numLiteralInt = 0\n",
        "\n",
        "# Binary literal\n",
        "\n",
        "numLiteralBin = 0b10100\n",
        "\n",
        "# Decimal literal\n",
        "\n",
        "numLiteralDec = 50\n",
        "\n",
        "# Float literal\n",
        "\n",
        "numLiteralFloat = 234.8\n",
        "\n",
        "# Complex literal\n",
        "\n",
        "numLiteralComp = 2 + 3j\n",
        "\n",
        "# Boolean literal\n",
        "\n",
        "numLiteralBool = True\n",
        "\n",
        "# List listeral\n",
        "\n",
        "numLiteralList = [1,2,3]\n",
        "\n",
        "# Special literal\n",
        "\n",
        "numLiteralSpecial = None"
      ],
      "metadata": {
        "id": "jTJbFxhzVlJb"
      },
      "execution_count": null,
      "outputs": []
    },
    {
      "cell_type": "markdown",
      "source": [
        "# Numbers\n",
        "\n",
        "---\n",
        "Integer numbers do not have a decimal point and/or a fractional part. Integers can be zero, positive and negative whole numbers. Integers can be represented by binary, octal, and hexadecimal corresponding values. Integer literals and/or variables are objects to the int class. \n",
        "\n",
        "Float numbers do have a decimal point and a fractional part. Float numbers are real numbers with the maxium value of 1.8x1E308. floating point numbers are represented in computer hardware as base 2 fractions. Decimal fractions can not be represented exactly as binary fractions and, as a result, the decimal floating numbers can by only approximated by binary floating-point numbers.\n",
        "\n",
        "* **int** - represents a whole number from negative to positive including 0.\n",
        "* **float** - floating point number, used for rational numbers with decimals.\n",
        "\n",
        "---\n"
      ],
      "metadata": {
        "id": "pzwaES8qVO_z"
      }
    },
    {
      "cell_type": "markdown",
      "source": [
        "**Binary (base 2)** can be represented by two digits [0,1] Base 2. The **bin()** can be used to convert numbers to octal in Python. The prefix **‘0b’** is used with octal numbers with a zero followed by a lowercase **b**."
      ],
      "metadata": {
        "id": "eLpdZ1E4e2nq"
      }
    },
    {
      "cell_type": "code",
      "source": [
        "# Binary numbers uses bin()\n",
        "\n",
        "myFirstVariable  = 0b101 # The binary numbers start with 0b\n",
        "mySecondVariable = 5\n",
        "\n",
        "print(myFirstVariable)\n",
        "print(mySecondVariable)\n",
        "\n",
        "print(bin(5))\n",
        "print(bin(mySecondVariable))"
      ],
      "metadata": {
        "colab": {
          "base_uri": "https://localhost:8080/"
        },
        "id": "iwhNYh20YtCN",
        "outputId": "c158fc08-e29e-47da-e259-b5c7de79f075"
      },
      "execution_count": null,
      "outputs": [
        {
          "output_type": "stream",
          "name": "stdout",
          "text": [
            "5\n",
            "5\n",
            "0b101\n",
            "0b101\n"
          ]
        }
      ]
    },
    {
      "cell_type": "markdown",
      "source": [
        "**Octal (Base 8)** — can be represented by 8 digits [0–7] Base 8. The **oct()** can be used to convert numbers to octal in Python. The prefix **‘0o’** is used with octal numbers with a zero followed by a lowercase **o**."
      ],
      "metadata": {
        "id": "723mcHbpfMDh"
      }
    },
    {
      "cell_type": "code",
      "source": [
        "# Octal numbers use oct()\n",
        "\n",
        "myFirstVariable  = 0o12    # The octal numbers start with \"0o\"\n",
        "mySecondVariable = 0o12\n",
        "\n",
        "sumOct = int(myFirstVariable) + int(mySecondVariable)\n",
        "\n",
        "print(myFirstVariable)\n",
        "print(sumOct)\n",
        "print(oct(sumOct))"
      ],
      "metadata": {
        "colab": {
          "base_uri": "https://localhost:8080/"
        },
        "id": "zuBmZkUzdAAT",
        "outputId": "34d4add0-2b70-45c5-dfb5-fa50a3e4dadf"
      },
      "execution_count": null,
      "outputs": [
        {
          "output_type": "stream",
          "name": "stdout",
          "text": [
            "10\n",
            "20\n",
            "0o24\n"
          ]
        }
      ]
    },
    {
      "cell_type": "markdown",
      "source": [
        "**Hexadecimal (Base 16)** — can be represented by 10 digits [0–9] and 6 characters [A, B, C, D, E, F] Base 16. Where A is ten, B is eleven, C is twelve, D is thirteen, E is fourteen, and F is fifteen. The **hex()** can be used to convert numbers to hexadecimal in Python. The prefix **‘0x’** is used with octal numbers with a zero followed by a lowercase **x**."
      ],
      "metadata": {
        "id": "6VG8LTuzg2bZ"
      }
    },
    {
      "cell_type": "code",
      "source": [
        "# Hexadecimal numbers uses hex()\n",
        "\n",
        "myFirstVariable  = 0x1f # The hexadecimal numbers start with \"0x\"\n",
        "mySecondVariable = 31\n",
        "\n",
        "mySecondVariable = hex(31)\n",
        "\n",
        "print(hex(26))\n",
        "print(myFirstVariable)\n",
        "print(mySecondVariable)"
      ],
      "metadata": {
        "id": "UebpCLJ0cUdB",
        "colab": {
          "base_uri": "https://localhost:8080/"
        },
        "outputId": "f59f4d71-550a-45d1-9f02-162bb1460ac6"
      },
      "execution_count": null,
      "outputs": [
        {
          "output_type": "stream",
          "name": "stdout",
          "text": [
            "0x1a\n",
            "31\n",
            "0x1f\n"
          ]
        }
      ]
    },
    {
      "cell_type": "markdown",
      "source": [
        "# Casting\n",
        "\n",
        "---\n",
        "Casting is a conversion of one data type to another data type. There can be implicit conversion or explicit conversion using buil-in functions. Explicit conversion can be performed with buil-in functions like int(), float(), or str() as they act as constructors of different data type.\n",
        "\n",
        "---"
      ],
      "metadata": {
        "id": "ui1wtk7V1BaN"
      }
    },
    {
      "cell_type": "code",
      "source": [
        "# Implicit conversion\n",
        "\n",
        "myCastTest = 70 + 0.25\n",
        "print(myCastTest)\n",
        "print(type(myCastTest))"
      ],
      "metadata": {
        "colab": {
          "base_uri": "https://localhost:8080/"
        },
        "id": "lYMEftsE15Ic",
        "outputId": "aa958820-0ac6-4a53-ad26-3eda53fc9212"
      },
      "execution_count": null,
      "outputs": [
        {
          "output_type": "stream",
          "name": "stdout",
          "text": [
            "70.25\n",
            "<class 'float'>\n"
          ]
        }
      ]
    },
    {
      "cell_type": "code",
      "source": [
        "# Explicit conversion\n",
        "\n",
        "myCastNumber = 7234\n",
        "myCastString = str(myCastNumber)\n",
        "myCastFloat  = float(myCastNumber)\n",
        "\n",
        "print(type(myCastNumber))\n",
        "print(type(myCastString))\n",
        "print(type(myCastFloat))"
      ],
      "metadata": {
        "colab": {
          "base_uri": "https://localhost:8080/"
        },
        "id": "mY6UxcSF21mR",
        "outputId": "5a59780f-6d7b-4f8f-f7ff-96cd60fee054"
      },
      "execution_count": null,
      "outputs": [
        {
          "output_type": "stream",
          "name": "stdout",
          "text": [
            "<class 'int'>\n",
            "<class 'str'>\n",
            "<class 'float'>\n"
          ]
        }
      ]
    },
    {
      "cell_type": "code",
      "source": [
        "# Using casting to specify the data type\n",
        "\n",
        "myFirstVariable  = int(1)        \n",
        "mySecondVariable = int(2.8)     \n",
        "myThirdVariable  = int(\"3\") \n"
      ],
      "metadata": {
        "id": "Se0TPm9pfpS5"
      },
      "execution_count": null,
      "outputs": []
    },
    {
      "cell_type": "code",
      "source": [
        "# Using casting to specify the data type\n",
        "\n",
        "myFirstVariable  = float(10)     \n",
        "mySecondVariable = float(2.8)   \n",
        "myThirdVariable  = float(\"4.2\")  "
      ],
      "metadata": {
        "id": "pWNQ8_zigJKw"
      },
      "execution_count": null,
      "outputs": []
    },
    {
      "cell_type": "code",
      "source": [
        "# Using casting to specify the data type\n",
        "\n",
        "myFirstVariable  = str(1)   \n",
        "mySecondVariable = str(2.890) \n",
        "myThirdVariable  = str(\"3.498\") "
      ],
      "metadata": {
        "id": "al44xSRcgKav"
      },
      "execution_count": null,
      "outputs": []
    },
    {
      "cell_type": "markdown",
      "source": [
        "# Boolean\n",
        "\n",
        "---\n",
        "Booleans can be either True or False. True corresponds to the value of 1 and False corresponds to the value of 0. Please, keep in mind that **True** is not the same as **TRUE** or **true**. **False** is ot the same as **FALSE** or **false**.\n",
        "\n",
        "---\n"
      ],
      "metadata": {
        "id": "w3eG246wLZ2Q"
      }
    },
    {
      "cell_type": "code",
      "source": [
        "# Boolean\n",
        "\n",
        "print(True)\n",
        "print(False)"
      ],
      "metadata": {
        "colab": {
          "base_uri": "https://localhost:8080/"
        },
        "id": "XVftY_1d4z51",
        "outputId": "4eb92ca1-36ec-4df3-b0a0-fa1c6fd44a84"
      },
      "execution_count": null,
      "outputs": [
        {
          "output_type": "stream",
          "name": "stdout",
          "text": [
            "True\n",
            "False\n"
          ]
        }
      ]
    },
    {
      "cell_type": "code",
      "source": [
        "# Casting of boolean\n",
        "\n",
        "print(int(True))\n",
        "print(int(False))"
      ],
      "metadata": {
        "colab": {
          "base_uri": "https://localhost:8080/"
        },
        "id": "Xzbzux7D5V3p",
        "outputId": "61964a5c-cd1c-4633-a271-8f5a2be35e55"
      },
      "execution_count": null,
      "outputs": [
        {
          "output_type": "stream",
          "name": "stdout",
          "text": [
            "1\n",
            "0\n"
          ]
        }
      ]
    },
    {
      "cell_type": "markdown",
      "source": [
        "# Strings\n",
        "\n",
        "\n",
        "---\n",
        "Strings are an immutable collection of alphanumeric characters that are inclosed in single or double quotes. Strings literals can not be changed after they have been created. A double quoted string literals can contain single quotes. Characters within a string can be accessed using indexing reference values starting with zero. If the reference index is out of range, Python will raise an error. To acces a range of characters, you can use slicing of strings. You can indicate the start index and the end index inclosed in square brackets to acces a range of characters as discussed below.\n",
        "\n",
        "* Strings are enclosed by single quotation marks ' or double quotation marks \".\n",
        "\n",
        "* 'Hello World!' is the same as \"Hello World!\".\n",
        "\n",
        "* \"I don't smoke!\"\n",
        "---\n",
        "\n",
        "Syntax: myString = \"Here is the string!\"\n"
      ],
      "metadata": {
        "id": "J1qJwmTj40sQ"
      }
    },
    {
      "cell_type": "code",
      "source": [
        "# Assign string to a variable using single quotes\n",
        "\n",
        "myFirstString = 'This is my first string'\n",
        "print(myFirstString)"
      ],
      "metadata": {
        "colab": {
          "base_uri": "https://localhost:8080/"
        },
        "id": "4eNwO4Uk5SOg",
        "outputId": "c89079a2-2d93-4d1e-9d78-506f1731b7dc"
      },
      "execution_count": null,
      "outputs": [
        {
          "output_type": "stream",
          "name": "stdout",
          "text": [
            "This is my first string\n"
          ]
        }
      ]
    },
    {
      "cell_type": "code",
      "source": [
        "# Assign string to a variable using double quotes\n",
        "\n",
        "mySecondString = \"This is my second string\"\n",
        "print(mySecondString)"
      ],
      "metadata": {
        "colab": {
          "base_uri": "https://localhost:8080/"
        },
        "id": "_g1SyRCS5ee2",
        "outputId": "9e3a01a4-6041-4656-a7c5-2323ea3969e2"
      },
      "execution_count": null,
      "outputs": [
        {
          "output_type": "stream",
          "name": "stdout",
          "text": [
            "This is my second string\n"
          ]
        }
      ]
    },
    {
      "cell_type": "code",
      "source": [
        "# Assign string to a variable using single and double quotes\n",
        "\n",
        "myThirdString = \"This's my third string\"\n",
        "print(myThirdString)"
      ],
      "metadata": {
        "colab": {
          "base_uri": "https://localhost:8080/"
        },
        "id": "z3uhsXjW5pJj",
        "outputId": "1c8eeaf5-2048-4444-c805-eedef4f1cce1"
      },
      "execution_count": null,
      "outputs": [
        {
          "output_type": "stream",
          "name": "stdout",
          "text": [
            "This's my third string\n"
          ]
        }
      ]
    },
    {
      "cell_type": "code",
      "source": [
        "# Assign string to a variable using single quotes\n",
        "\n",
        "myFourthString = 'That's my fourth string'"
      ],
      "metadata": {
        "id": "L0XxJ4Sz5-yS"
      },
      "execution_count": null,
      "outputs": []
    },
    {
      "cell_type": "code",
      "source": [
        "# Escaping sequence - you can have more than one escaping character\n",
        "\n",
        "myFourthString = 'That\\'s my fourth string'\n",
        "print(myFourthString)"
      ],
      "metadata": {
        "colab": {
          "base_uri": "https://localhost:8080/"
        },
        "id": "JqibuLeAUR1_",
        "outputId": "e5da6b2f-d48f-432c-91cc-a232dc03f088"
      },
      "execution_count": null,
      "outputs": [
        {
          "output_type": "stream",
          "name": "stdout",
          "text": [
            "That's my fourth string\n"
          ]
        }
      ]
    },
    {
      "cell_type": "code",
      "source": [
        "# Printing the backslash\n",
        "\n",
        "myBackSlash = \"\\\\\"\n",
        "print(myBackSlash)"
      ],
      "metadata": {
        "colab": {
          "base_uri": "https://localhost:8080/"
        },
        "id": "h6929nAUVfOp",
        "outputId": "0cba09d2-b874-4d43-ebfd-9b9188aefcda"
      },
      "execution_count": null,
      "outputs": [
        {
          "output_type": "stream",
          "name": "stdout",
          "text": [
            "\\\n"
          ]
        }
      ]
    },
    {
      "cell_type": "code",
      "source": [
        "# Assign string to a variable using double quotes with single quotes inside\n",
        "\n",
        "myFifthString = \"I'm an instructor and you're a good student!\"\n",
        "print(myFifthString)"
      ],
      "metadata": {
        "colab": {
          "base_uri": "https://localhost:8080/"
        },
        "id": "4DNHOVVkTJLD",
        "outputId": "2b840e2b-d0a8-405b-f981-8c6d166137d5"
      },
      "execution_count": null,
      "outputs": [
        {
          "output_type": "stream",
          "name": "stdout",
          "text": [
            "I'm an instructor and you're a good student!\n"
          ]
        }
      ]
    },
    {
      "cell_type": "code",
      "source": [
        "# Assign a multiple line string to a variable - single quotes\n",
        " \n",
        "myTestVariable = '''Lorem ipsum dolor sit amet,\n",
        "consectetur adipiscing elit,\n",
        "sed do eiusmod tempor incididunt\n",
        "ut labore et dolore magna aliqua.'''\n",
        "\n",
        "print(myTestVariable)"
      ],
      "metadata": {
        "colab": {
          "base_uri": "https://localhost:8080/"
        },
        "id": "oB6SzZ4phtlO",
        "outputId": "8e3f03f6-0996-4c35-d06c-2495255cbbb9"
      },
      "execution_count": null,
      "outputs": [
        {
          "output_type": "stream",
          "name": "stdout",
          "text": [
            "Lorem ipsum dolor sit amet,\n",
            "consectetur adipiscing elit,\n",
            "sed do eiusmod tempor incididunt\n",
            "ut labore et dolore magna aliqua.\n"
          ]
        }
      ]
    },
    {
      "cell_type": "code",
      "source": [
        "# Assign a multiple line string to a variable - double quotes\n",
        "\n",
        "myTestVariable = \"\"\"Lorem ipsum dolor sit amet,\n",
        "consectetur adipiscing elit,\n",
        "sed do eiusmod tempor incididunt\n",
        "ut labore et dolore magna aliqua.\"\"\"\n",
        "\n",
        "print(myTestVariable)"
      ],
      "metadata": {
        "colab": {
          "base_uri": "https://localhost:8080/"
        },
        "id": "QOwBfXwLhlcl",
        "outputId": "4d13ed52-27af-45a6-f0ea-9fa3715f69c1"
      },
      "execution_count": null,
      "outputs": [
        {
          "output_type": "stream",
          "name": "stdout",
          "text": [
            "Lorem ipsum dolor sit amet,\n",
            "consectetur adipiscing elit,\n",
            "sed do eiusmod tempor incididunt\n",
            "ut labore et dolore magna aliqua.\n"
          ]
        }
      ]
    },
    {
      "cell_type": "markdown",
      "source": [
        "# Indexing and slicing\n",
        "\n",
        "\n",
        "---\n",
        "Indexing is a very important concept. Each character of a string has a unique index numer as discussed below. To access any characters of a string, we need to use index number. Indexing of a string is the same as for the lists. The element of a string can be accessed using index starting with 0.\n",
        "\n",
        "Slicing technique allows to access a range of characters in a string. Range of characters can be indicated by a start index number and an end index number in square brackets. The start index number has always an inclusive bound and the end index number has always an exclusive bound. Other words the start index number is included in the range and the end index number is not. \n",
        "\n",
        "---\n",
        "\n"
      ],
      "metadata": {
        "id": "6tczVnHv6dGx"
      }
    },
    {
      "cell_type": "code",
      "source": [
        "# Strings elements can be accessed by index\n",
        "\n",
        "# The indexes\n",
        "# myTestString   =   [1,  2,  3,  4,  5,  6,  7,  8,  9, ..., 26]\n",
        "# --------------------------\n",
        "# index               0,  1,  2,  3,  4,  5,  6,  7,  8, ..., n-1\n",
        "# negative index     -n,                                 ...,  -1\n",
        "# variable[start:end] \n",
        "\n",
        "myTestString=\"Lorem ipsum dolor sit amet\"\n",
        "\n",
        "print(myTestString[:])\n",
        "print(myTestString[:6])\n",
        "print(myTestString[0:7])\n",
        "print(myTestString[10:22])\n",
        "print(myTestString[-10:-5])\n",
        "print(myTestString[-10:])\n",
        "print(len(myTestString))"
      ],
      "metadata": {
        "id": "QZAktJJks_ix",
        "colab": {
          "base_uri": "https://localhost:8080/"
        },
        "outputId": "f840de13-fa87-4649-be4d-a519517537f1"
      },
      "execution_count": null,
      "outputs": [
        {
          "output_type": "stream",
          "name": "stdout",
          "text": [
            "Lorem ipsum dolor sit amet\n",
            "Lorem \n",
            "Lorem i\n",
            "m dolor sit \n",
            "r sit\n",
            "r sit amet\n",
            "26\n"
          ]
        }
      ]
    },
    {
      "cell_type": "markdown",
      "source": [
        "# String operations\n",
        "\n",
        "---\n",
        "Some basic operations can be performed on strings.\n",
        "\n",
        "---"
      ],
      "metadata": {
        "id": "DvltvXr_7odu"
      }
    },
    {
      "cell_type": "code",
      "source": [
        "# Strings are immutable \n",
        "\n",
        "myFirstString = \"Hello World!\"\n",
        "myFirstString[0] = \"G\""
      ],
      "metadata": {
        "id": "5gZp8fgHaH_o"
      },
      "execution_count": null,
      "outputs": []
    },
    {
      "cell_type": "code",
      "source": [
        "# String concatenation\n",
        "\n",
        "myFirstString  = \"Hello\"\n",
        "mySecondString = \"World!\"\n",
        "\n",
        "print (myFirstString + mySecondString)"
      ],
      "metadata": {
        "colab": {
          "base_uri": "https://localhost:8080/"
        },
        "id": "IiPjvudO7_GI",
        "outputId": "cce170e9-94c6-49e2-aee9-307fc11ada35"
      },
      "execution_count": null,
      "outputs": [
        {
          "output_type": "stream",
          "name": "stdout",
          "text": [
            "HelloWorld!\n"
          ]
        }
      ]
    },
    {
      "cell_type": "code",
      "source": [
        "# String concatenation\n",
        "\n",
        "myFirstString  = \"Hello\"\n",
        "mySecondString = \"World!\"\n",
        "\n",
        "print (myFirstString, mySecondString, sep=\" \")"
      ],
      "metadata": {
        "colab": {
          "base_uri": "https://localhost:8080/"
        },
        "id": "2uN3uIKy8ZMN",
        "outputId": "3e9fce84-60bd-495d-bd68-8c0da412b17f"
      },
      "execution_count": null,
      "outputs": [
        {
          "output_type": "stream",
          "name": "stdout",
          "text": [
            "Hello World!\n"
          ]
        }
      ]
    },
    {
      "cell_type": "code",
      "source": [
        "# String multiplication\n",
        "\n",
        "myStarString  = \"*\"\n",
        "mySmileString = \")\"\n",
        "\n",
        "print (myStarString * 2)\n",
        "print (myStarString * 4)\n",
        "print (myStarString * 6 + \" \" + mySmileString)\n"
      ],
      "metadata": {
        "colab": {
          "base_uri": "https://localhost:8080/"
        },
        "id": "0qYophhd8vEf",
        "outputId": "4411dfc1-b337-4683-eae7-b1e285d766c8"
      },
      "execution_count": null,
      "outputs": [
        {
          "output_type": "stream",
          "name": "stdout",
          "text": [
            "**\n",
            "****\n",
            "****** )\n"
          ]
        }
      ]
    },
    {
      "cell_type": "markdown",
      "source": [
        "# String methods\n",
        "\n",
        "---\n",
        "\n",
        "There are many built-in methods that can be used on strings.\n",
        "\n",
        "---"
      ],
      "metadata": {
        "id": "qAAUwj_l9kBL"
      }
    },
    {
      "cell_type": "code",
      "source": [
        "# Upper case method: upper() - returns an upper case string\n",
        "\n",
        "myFirstString = \"Hello World!\"\n",
        "print(myFirstString.upper())"
      ],
      "metadata": {
        "colab": {
          "base_uri": "https://localhost:8080/"
        },
        "id": "Pphb8Rg79sPt",
        "outputId": "23daf976-7524-462d-9bff-e00676a6189c"
      },
      "execution_count": null,
      "outputs": [
        {
          "output_type": "stream",
          "name": "stdout",
          "text": [
            "HELLO WORLD!\n"
          ]
        }
      ]
    },
    {
      "cell_type": "code",
      "source": [
        "# Lower case method: lower() - returns a lower case string\n",
        "\n",
        "myFirstString = \"Hello World!\"\n",
        "print(myFirstString.lower())"
      ],
      "metadata": {
        "colab": {
          "base_uri": "https://localhost:8080/"
        },
        "id": "snzVeBzj-r27",
        "outputId": "8a9c9943-b54e-4cf9-f20a-fafcaaa019a6"
      },
      "execution_count": null,
      "outputs": [
        {
          "output_type": "stream",
          "name": "stdout",
          "text": [
            "hello world!\n"
          ]
        }
      ]
    },
    {
      "cell_type": "code",
      "source": [
        "# Strip method: strip() - removes whitespace before and after an actual text\n",
        "\n",
        "myFirstString = \" Hello World ! \"\n",
        "print(myFirstString.strip())"
      ],
      "metadata": {
        "colab": {
          "base_uri": "https://localhost:8080/"
        },
        "id": "dxFZlBy0-3BU",
        "outputId": "dad17ddd-f05d-4840-848c-5d3d7e987c89"
      },
      "execution_count": null,
      "outputs": [
        {
          "output_type": "stream",
          "name": "stdout",
          "text": [
            "Hello World !\n"
          ]
        }
      ]
    },
    {
      "cell_type": "code",
      "source": [
        "# Replace method: replace() - replaces a string with another string\n",
        "\n",
        "myFirstString = \"Hello World!\"\n",
        "print(myFirstString.replace(\"Hello\", \"Good morning\"))"
      ],
      "metadata": {
        "colab": {
          "base_uri": "https://localhost:8080/"
        },
        "id": "k_peXrJq_e4c",
        "outputId": "5f2394f5-5803-41e6-fbaf-7c5497c2d449"
      },
      "execution_count": null,
      "outputs": [
        {
          "output_type": "stream",
          "name": "stdout",
          "text": [
            "Good morning World!\n"
          ]
        }
      ]
    },
    {
      "cell_type": "code",
      "source": [
        "# Split method: split() - returns a list with the specified separator\n",
        "\n",
        "myFirstString = \"Good morning World!\"\n",
        "print(myFirstString.split())"
      ],
      "metadata": {
        "colab": {
          "base_uri": "https://localhost:8080/"
        },
        "id": "_dFtnebS_2rN",
        "outputId": "6a3c94b4-274e-4866-e24c-f6d6a7657128"
      },
      "execution_count": null,
      "outputs": [
        {
          "output_type": "stream",
          "name": "stdout",
          "text": [
            "['Good', 'morning', 'World!']\n"
          ]
        }
      ]
    },
    {
      "cell_type": "markdown",
      "source": [
        "# Operators\n",
        "\n",
        "\n",
        "---\n",
        "\n",
        "The operators are used to perform some operations on one or two operands.\n",
        "\n",
        "---"
      ],
      "metadata": {
        "id": "RxTdq2qZb8LP"
      }
    },
    {
      "cell_type": "markdown",
      "source": [
        "**Arithmetic operators**\n",
        "* Addition:\tx + y\t\n",
        "* Subtraction:\tx - y\t\n",
        "*\tMultiplication:\tx * y\t\t\n",
        "* Exponentiation:\tx ** y\n",
        "* Division:\tx / y\n",
        "* Modulus:\tx % y\t         (returns the remainder of a division)\n",
        "* Floor division:\tx // y   (rounds the result down to the nearest whole number)"
      ],
      "metadata": {
        "id": "RL1xNU8wkmfW"
      }
    },
    {
      "cell_type": "code",
      "source": [
        "# Exponentiation operator: **  \n",
        "\n",
        "myFirstVariable  = 2\n",
        "mySecondVariable = 8\n",
        "\n",
        "myExponentResult = myFirstVariable ** mySecondVariable\n",
        "\n",
        "print(myExponentResult)"
      ],
      "metadata": {
        "colab": {
          "base_uri": "https://localhost:8080/"
        },
        "id": "sDpmZxnn9n9L",
        "outputId": "b97fea33-6cdf-4c46-b62f-613945677830"
      },
      "execution_count": null,
      "outputs": [
        {
          "output_type": "stream",
          "name": "stdout",
          "text": [
            "256\n"
          ]
        }
      ]
    },
    {
      "cell_type": "code",
      "source": [
        "# Modulus operator: %      ( divident % divisor = quotient returns a remainder )  \n",
        "\n",
        "myFirstVariable  = 8\n",
        "mySecondVariable = 2\n",
        "\n",
        "myModulusResult = myFirstVariable % mySecondVariable\n",
        "\n",
        "print(myModulusResult)"
      ],
      "metadata": {
        "colab": {
          "base_uri": "https://localhost:8080/"
        },
        "id": "PAhvqSOC4d5X",
        "outputId": "e454def7-55e9-4eef-9b50-44e9ce01244d"
      },
      "execution_count": null,
      "outputs": [
        {
          "output_type": "stream",
          "name": "stdout",
          "text": [
            "0\n"
          ]
        }
      ]
    },
    {
      "cell_type": "code",
      "source": [
        "# Floor division: //      ( divident // divisor = quotient returns a quotient )\n",
        "\n",
        "myFirstVariable  = 8\n",
        "mySecondVariable = 2\n",
        "\n",
        "myFloorResult = myFirstVariable // mySecondVariable\n",
        "\n",
        "print(myFloorResult)"
      ],
      "metadata": {
        "colab": {
          "base_uri": "https://localhost:8080/"
        },
        "id": "gMw0cZzA40M4",
        "outputId": "25cef92b-54aa-4f90-d103-f19a0e6e44e4"
      },
      "execution_count": null,
      "outputs": [
        {
          "output_type": "stream",
          "name": "stdout",
          "text": [
            "4\n"
          ]
        }
      ]
    },
    {
      "cell_type": "markdown",
      "source": [
        "**Assignment operators**\n",
        "\n",
        "* Arithmetic: =, +=, -=, *=, /=, //=, %=, ***=\t\n"
      ],
      "metadata": {
        "id": "QvjMM-n7jVuT"
      }
    },
    {
      "cell_type": "code",
      "source": [
        "# Assignment operator: =\n",
        "\n",
        "myFirstVariable  = 5\n",
        "mySecondVariable = 6\n",
        "\n",
        "mySum = myFirstVariable + mySecondVariable\n",
        "\n",
        "print(mySum)"
      ],
      "metadata": {
        "colab": {
          "base_uri": "https://localhost:8080/"
        },
        "id": "43hdLurcjIu_",
        "outputId": "7a9565a5-684a-4665-d061-6d20e14ff133"
      },
      "execution_count": null,
      "outputs": [
        {
          "output_type": "stream",
          "name": "stdout",
          "text": [
            "11\n"
          ]
        }
      ]
    },
    {
      "cell_type": "code",
      "source": [
        "# Assignment operator: +=\n",
        "\n",
        "myFirstVariable = 5\n",
        "\n",
        "myFirstVariable += 30          # myFirstVariable = myFirstVariable + 30\n",
        "\n",
        "print(myFirstVariable)"
      ],
      "metadata": {
        "colab": {
          "base_uri": "https://localhost:8080/"
        },
        "outputId": "f1e5851b-68b0-40b7-8a87-abebae416ec7",
        "id": "xbBsUBMXjCO3"
      },
      "execution_count": null,
      "outputs": [
        {
          "output_type": "stream",
          "name": "stdout",
          "text": [
            "35\n"
          ]
        }
      ]
    },
    {
      "cell_type": "code",
      "source": [
        "# Assignment operator: *=\n",
        "\n",
        "myFirstVariable = 3\n",
        "\n",
        "myFirstVariable *= 30          # myFirstVariable = myFirstVariable * 30\n",
        "\n",
        "print(myFirstVariable)"
      ],
      "metadata": {
        "colab": {
          "base_uri": "https://localhost:8080/"
        },
        "outputId": "8f21d86b-4c97-4239-8601-825cf9f250dc",
        "id": "XAxvRhIgjO7-"
      },
      "execution_count": null,
      "outputs": [
        {
          "output_type": "stream",
          "name": "stdout",
          "text": [
            "90\n"
          ]
        }
      ]
    },
    {
      "cell_type": "code",
      "source": [
        "# Assignment operator: /=\n",
        "\n",
        "myFirstVariable = 6\n",
        "\n",
        "myFirstVariable /= 4.0         # myFirstVariable = myFirstVariable / 4.0\n",
        "\n",
        "print(myFirstVariable)"
      ],
      "metadata": {
        "colab": {
          "base_uri": "https://localhost:8080/"
        },
        "outputId": "393fff4a-9dc2-4306-bce5-06fff827e018",
        "id": "ulRZn5q8jqa7"
      },
      "execution_count": null,
      "outputs": [
        {
          "output_type": "stream",
          "name": "stdout",
          "text": [
            "1.5\n"
          ]
        }
      ]
    },
    {
      "cell_type": "code",
      "source": [
        "# Assignment operator:  %=  (divident %= divisor = quotient returns a remainder)\n",
        "\n",
        "myFirstVariable = 6\n",
        "\n",
        "myFirstVariable %= 4          # myFirstVariable = myFirstVariable % 4\n",
        "\n",
        "print(myFirstVariable) "
      ],
      "metadata": {
        "colab": {
          "base_uri": "https://localhost:8080/"
        },
        "outputId": "915e4439-724d-458c-958d-c3cadbe920f7",
        "id": "zst5H8ZMkIT-"
      },
      "execution_count": null,
      "outputs": [
        {
          "output_type": "stream",
          "name": "stdout",
          "text": [
            "2\n"
          ]
        }
      ]
    },
    {
      "cell_type": "code",
      "source": [
        "# Assignment operator: //=  (divident //= divisor = quotient returns a quotient)\n",
        "\n",
        "myFirstVariable = 13\n",
        "\n",
        "myFirstVariable //= 4          # myFirstVariable = myFirstVariable // 4\n",
        "\n",
        "print(myFirstVariable)"
      ],
      "metadata": {
        "colab": {
          "base_uri": "https://localhost:8080/"
        },
        "id": "Uifrcwskvd9p",
        "outputId": "a0de473c-8dde-4f4b-c0d1-a660151ee8b2"
      },
      "execution_count": null,
      "outputs": [
        {
          "output_type": "stream",
          "name": "stdout",
          "text": [
            "3\n"
          ]
        }
      ]
    },
    {
      "cell_type": "code",
      "source": [
        "# Assignment operator: **=\n",
        "\n",
        "myFirstVariable = 2\n",
        "\n",
        "myFirstVariable **= 8          # myFirstVariable = myFirstVariable ** 4\n",
        "\n",
        "print(myFirstVariable)"
      ],
      "metadata": {
        "colab": {
          "base_uri": "https://localhost:8080/"
        },
        "id": "504BnBHsCF5X",
        "outputId": "d7876608-4111-46ab-da4c-d359d6d099d8"
      },
      "execution_count": null,
      "outputs": [
        {
          "output_type": "stream",
          "name": "stdout",
          "text": [
            "256\n"
          ]
        }
      ]
    },
    {
      "cell_type": "markdown",
      "source": [
        "**Comparison operators**\n",
        "\n",
        "* Equal:\tx == y\t\n",
        "* Not equal:\tx != y\t\n",
        "* Greater than:\tx > y\t\n",
        "* Less than:\tx < y\t\n",
        "* Greater than or equal to:\tx >= y\t\n",
        "* Less than or equal to:\tx <= y"
      ],
      "metadata": {
        "id": "MCHjIC-foBxE"
      }
    },
    {
      "cell_type": "code",
      "source": [
        "# Equal operator: ==\n",
        "\n",
        "myFirstVariable  = 10.0\n",
        "mySecondVariable = 10.0\n",
        "\n",
        "print(myFirstVariable == mySecondVariable)"
      ],
      "metadata": {
        "colab": {
          "base_uri": "https://localhost:8080/"
        },
        "outputId": "ee1528e3-23b7-4e7d-92ed-5580ceeea29f",
        "id": "R6y_Zu1uqPcG"
      },
      "execution_count": null,
      "outputs": [
        {
          "output_type": "stream",
          "name": "stdout",
          "text": [
            "True\n"
          ]
        }
      ]
    },
    {
      "cell_type": "code",
      "source": [
        "# Not equal operator: !=\n",
        "\n",
        "myFirstVariable  = 10.0\n",
        "mySecondVariable =  9.0\n",
        "\n",
        "print (myFirstVariable != mySecondVariable)"
      ],
      "metadata": {
        "colab": {
          "base_uri": "https://localhost:8080/"
        },
        "outputId": "aaa882c4-3d26-4da1-b992-6c4bc090cc75",
        "id": "npZBbm8BRpr8"
      },
      "execution_count": null,
      "outputs": [
        {
          "output_type": "stream",
          "name": "stdout",
          "text": [
            "True\n"
          ]
        }
      ]
    },
    {
      "cell_type": "code",
      "source": [
        "# Greater than operator: >\n",
        "\n",
        "myFirstVariable  = 10.0\n",
        "mySecondVariable =  9.0\n",
        "\n",
        "print (myFirstVariable > mySecondVariable)"
      ],
      "metadata": {
        "colab": {
          "base_uri": "https://localhost:8080/"
        },
        "outputId": "58c929f3-745a-4087-e104-84e1972ba268",
        "id": "e-dgVlhlrOm3"
      },
      "execution_count": null,
      "outputs": [
        {
          "output_type": "stream",
          "name": "stdout",
          "text": [
            "True\n"
          ]
        }
      ]
    },
    {
      "cell_type": "code",
      "source": [
        "# Less than operator: <\n",
        "\n",
        "myFirstVariable  = 10.0\n",
        "mySecondVariable =  9.0\n",
        "\n",
        "print (mySecondVariable < myFirstVariable)"
      ],
      "metadata": {
        "colab": {
          "base_uri": "https://localhost:8080/"
        },
        "id": "EiGGpaXrrcaO",
        "outputId": "8438c9fe-916b-4345-e81f-be0b762e8efa"
      },
      "execution_count": null,
      "outputs": [
        {
          "output_type": "stream",
          "name": "stdout",
          "text": [
            "True\n"
          ]
        }
      ]
    },
    {
      "cell_type": "code",
      "source": [
        "# Greater than or equal operator: >=\n",
        "\n",
        "myFirstVariable  = 10.0\n",
        "mySecondVariable = 10.0\n",
        "\n",
        "print (mySecondVariable >= myFirstVariable)"
      ],
      "metadata": {
        "colab": {
          "base_uri": "https://localhost:8080/"
        },
        "id": "uUb5rcTpqz3Y",
        "outputId": "cf152303-99be-40a5-b4d5-ef935394ccc2"
      },
      "execution_count": null,
      "outputs": [
        {
          "output_type": "stream",
          "name": "stdout",
          "text": [
            "True\n"
          ]
        }
      ]
    },
    {
      "cell_type": "code",
      "source": [
        "# Less than or equal operator: <=\n",
        "\n",
        "myFirstVariable  = 10.0\n",
        "mySecondVariable = 10.0\n",
        "\n",
        "print (mySecondVariable <= myFirstVariable)"
      ],
      "metadata": {
        "colab": {
          "base_uri": "https://localhost:8080/"
        },
        "id": "P7Is_YtasDTP",
        "outputId": "6a7aee19-17af-448c-b545-449111391828"
      },
      "execution_count": null,
      "outputs": [
        {
          "output_type": "stream",
          "name": "stdout",
          "text": [
            "True\n"
          ]
        }
      ]
    },
    {
      "cell_type": "markdown",
      "source": [
        "**Logical operators**\n",
        "\n",
        "* and\n",
        "* or\n",
        "* not"
      ],
      "metadata": {
        "id": "1xRwfWZDAcXC"
      }
    },
    {
      "cell_type": "code",
      "source": [
        "# Logical operator: and\n",
        "\n",
        "myFirstVariable  = 10.0\n",
        "mySecondVariable = 10.0\n",
        "myThirdVariable  = 20.0\n",
        "\n",
        "print (myFirstVariable < myThirdVariable and myFirstVariable == mySecondVariable)"
      ],
      "metadata": {
        "colab": {
          "base_uri": "https://localhost:8080/"
        },
        "id": "_0lyXQln_ulI",
        "outputId": "5dbf25ae-4b5a-4a1e-d70b-f6099c850074"
      },
      "execution_count": null,
      "outputs": [
        {
          "output_type": "stream",
          "name": "stdout",
          "text": [
            "True\n"
          ]
        }
      ]
    },
    {
      "cell_type": "code",
      "source": [
        "# Logical operator: or\n",
        "\n",
        "myFirstVariable  = 10.0\n",
        "mySecondVariable = 10.0\n",
        "myThirdVariable  = 20.0\n",
        "\n",
        "print (myFirstVariable > myThirdVariable or myFirstVariable == mySecondVariable)"
      ],
      "metadata": {
        "colab": {
          "base_uri": "https://localhost:8080/"
        },
        "id": "8Lh7pKLDA4DQ",
        "outputId": "b7027efc-b124-46b7-f73c-4e532d76a1f1"
      },
      "execution_count": null,
      "outputs": [
        {
          "output_type": "stream",
          "name": "stdout",
          "text": [
            "True\n"
          ]
        }
      ]
    },
    {
      "cell_type": "code",
      "source": [
        "# Logical operator: not\n",
        "\n",
        "myFirstVariable  = 10.0\n",
        "mySecondVariable = 20.0\n",
        "\n",
        "print (not myFirstVariable > mySecondVariable)"
      ],
      "metadata": {
        "colab": {
          "base_uri": "https://localhost:8080/"
        },
        "id": "HzdAzr_2BD70",
        "outputId": "308f8f09-1949-4bdd-c6ae-2157cd280457"
      },
      "execution_count": null,
      "outputs": [
        {
          "output_type": "stream",
          "name": "stdout",
          "text": [
            "True\n"
          ]
        }
      ]
    },
    {
      "cell_type": "markdown",
      "source": [
        "**Bitwise operators**\n",
        "\n",
        "You can use bitwise operators to perform Boolean logic on individual bits. That’s very similar to using logical operators such as and, or, and not.\n",
        "\n",
        "You can evaluate Boolean expressions with bitwise operators instead of logical operators.\n",
        "\n",
        "* &(AND) \"This operator compares each bit and sets it to 1 if both are 1, otherwise it is set to 0.\"\n",
        "\n",
        "* | (OR) \"This operator compares each bit and sets it to 1 if one or both is 1, otherwise it is set to 0.\"\n",
        "\n",
        "* ^(XOR) \"This operator compares each bit and sets it to 1 if only one is 1, otherwise (if both are 1 or both are 0) it is set to 0.\"\n",
        "\n",
        "* ~(NOT) \"This operator inverts each bit (0 becomes 1 and 1 becomes 0).\" \n",
        "\n",
        "* << (left shift) \"This operator inserts a number of 0's from the right \n",
        "and let the same amount of leftmost bits fall off.\"\n",
        "\n",
        "* \\>> (right shift) \"This operator moves each bit the specified number of times to the right. Empty holes at the left are filled with 0's.\"\n",
        "\n",
        "\n",
        "---\n",
        "\n",
        "Example of decimal numbers and their corresponding binary values:\n",
        "\n",
        " 0  = 00000000\n",
        "\n",
        " 1  = 00000001\n",
        "\n",
        " 2  = 00000010\n",
        "\n",
        " 3  = 00000011\n",
        "\n",
        " 4  = 00000100\n",
        "\n",
        " 5  = 00000101\n",
        "\n",
        " 6  = 00000110\n",
        "\n",
        " 7  = 00000111\n",
        "\n",
        " 8  = 00001000\n",
        "\n",
        " 9  = 00001001\n",
        "\n",
        "10  = 00001010\n",
        "\n",
        "11  = 00001011\n",
        "\n",
        "12  = 00001100"
      ],
      "metadata": {
        "id": "HE3jpEcklKOm"
      }
    },
    {
      "cell_type": "code",
      "source": [
        "# Bitwise operator: AND (&) - logical conjuction\n",
        "# 6 = 00000110\n",
        "# 3 = 00000011\n",
        "#----------------------\n",
        "# 2 = 00000010\n",
        "\n",
        "print(6&3)"
      ],
      "metadata": {
        "colab": {
          "base_uri": "https://localhost:8080/"
        },
        "outputId": "c2d4b74f-5bc8-4fd7-da31-3b673bac9476",
        "id": "ua8kjQQcmCoS"
      },
      "execution_count": null,
      "outputs": [
        {
          "output_type": "stream",
          "name": "stdout",
          "text": [
            "2\n"
          ]
        }
      ]
    },
    {
      "cell_type": "code",
      "source": [
        "# Bitwise operator: OR (|) - logical conjuction\n",
        "# 6 = 00000110\n",
        "# 3 = 00000011\n",
        "#----------------------\n",
        "# 2 = 00000111\n",
        "\n",
        "print(6|3)"
      ],
      "metadata": {
        "colab": {
          "base_uri": "https://localhost:8080/"
        },
        "outputId": "e1c5d1ee-eddd-4868-a70b-9e092fc505e1",
        "id": "wP3hgFOZmOhX"
      },
      "execution_count": null,
      "outputs": [
        {
          "output_type": "stream",
          "name": "stdout",
          "text": [
            "7\n"
          ]
        }
      ]
    },
    {
      "cell_type": "code",
      "source": [
        "# Bitwise operator: NOT (~) - logical negation\n",
        "#  3 = 00000011\n",
        "#--------------------------\n",
        "# -4 = 11111100\n",
        "\n",
        "print(~3)"
      ],
      "metadata": {
        "colab": {
          "base_uri": "https://localhost:8080/"
        },
        "outputId": "c6f94e6f-061c-4bab-e486-0f405714d349",
        "id": "CllSfhtymjzv"
      },
      "execution_count": null,
      "outputs": [
        {
          "output_type": "stream",
          "name": "stdout",
          "text": [
            "-4\n"
          ]
        }
      ]
    },
    {
      "cell_type": "code",
      "source": [
        "# Bitwise operator: XOR (^) - exclusive OR\n",
        "# 6 = 00000110\n",
        "# 3 = 00000011\n",
        "#--------------------------\n",
        "# 5 = 00000101\n",
        "\n",
        "print(6^3)"
      ],
      "metadata": {
        "colab": {
          "base_uri": "https://localhost:8080/"
        },
        "outputId": "d2ef22bd-67e4-4838-cc68-89ade9b60347",
        "id": "mawCVs4Gm1uU"
      },
      "execution_count": null,
      "outputs": [
        {
          "output_type": "stream",
          "name": "stdout",
          "text": [
            "5\n"
          ]
        }
      ]
    },
    {
      "cell_type": "code",
      "source": [
        "# Bitwise operator: << - inserts zeroes to the right side\n",
        "# 3  = 00000011\n",
        "#-------------------------\n",
        "# 12 = 00001100\n",
        "\n",
        "print(3<<2)"
      ],
      "metadata": {
        "colab": {
          "base_uri": "https://localhost:8080/"
        },
        "outputId": "95dd90ec-44ca-455b-ea03-11dff48c63e4",
        "id": "7RjuFRp5nBrI"
      },
      "execution_count": null,
      "outputs": [
        {
          "output_type": "stream",
          "name": "stdout",
          "text": [
            "12\n"
          ]
        }
      ]
    },
    {
      "cell_type": "code",
      "source": [
        "# Bitwise operator: >> - inserts zeroes to the left side\n",
        "# 8 = 00001000\n",
        "#------------------------\n",
        "# 2 = 00000010\n",
        "\n",
        "print(8>>2)"
      ],
      "metadata": {
        "colab": {
          "base_uri": "https://localhost:8080/"
        },
        "outputId": "c2b9ec5d-c5e8-463d-9b5f-3931a4f18925",
        "id": "l7nIESjbnpx8"
      },
      "execution_count": null,
      "outputs": [
        {
          "output_type": "stream",
          "name": "stdout",
          "text": [
            "2\n"
          ]
        }
      ]
    },
    {
      "cell_type": "markdown",
      "source": [
        "**Assignment operators**\n",
        "\n",
        "Bitwise: &=, |=, ^=, >>=, <<="
      ],
      "metadata": {
        "id": "cEYesb7BC1S_"
      }
    },
    {
      "cell_type": "code",
      "source": [
        "# Assignment operator: &=\n",
        "\n",
        "myFirstBit = 6\n",
        "\n",
        "myFirstBit &= 3\n",
        "print(myFirstBit)          # myFirstBit = myFirstBit & 3"
      ],
      "metadata": {
        "colab": {
          "base_uri": "https://localhost:8080/"
        },
        "id": "S9jmrhQxDC1-",
        "outputId": "d2efb0de-e8fd-46f5-f3de-e20c79004a7b"
      },
      "execution_count": null,
      "outputs": [
        {
          "output_type": "stream",
          "name": "stdout",
          "text": [
            "2\n"
          ]
        }
      ]
    },
    {
      "cell_type": "code",
      "source": [
        "# Assignment operator: |=\n",
        "\n",
        "myFirstBit = 6\n",
        "\n",
        "myFirstBit |= 3\n",
        "print(myFirstBit)          # myFirstBit = myFirstBit | 3"
      ],
      "metadata": {
        "colab": {
          "base_uri": "https://localhost:8080/"
        },
        "id": "tu3bBRZXD-4U",
        "outputId": "9e947fa0-909f-4fb0-facd-822c0c48d225"
      },
      "execution_count": null,
      "outputs": [
        {
          "output_type": "stream",
          "name": "stdout",
          "text": [
            "7\n"
          ]
        }
      ]
    },
    {
      "cell_type": "code",
      "source": [
        "# Assignment operator: ^=\n",
        "\n",
        "myFirstBit = 6\n",
        "\n",
        "myFirstBit ^= 3\n",
        "print(myFirstBit)          # myFirstBit = myFirstBit ^ 3"
      ],
      "metadata": {
        "colab": {
          "base_uri": "https://localhost:8080/"
        },
        "id": "oNZ6MtyCEQnf",
        "outputId": "9039ee87-1b2b-450b-d1e6-f969747c0c03"
      },
      "execution_count": null,
      "outputs": [
        {
          "output_type": "stream",
          "name": "stdout",
          "text": [
            "5\n"
          ]
        }
      ]
    },
    {
      "cell_type": "code",
      "source": [
        "# Assignment operator: <<=\n",
        "\n",
        "myFirstBit = 3\n",
        "\n",
        "myFirstBit <<= 2\n",
        "print(myFirstBit)          # myFirstBit = myFirstBit << 2"
      ],
      "metadata": {
        "colab": {
          "base_uri": "https://localhost:8080/"
        },
        "id": "kwlh9k5jEzUr",
        "outputId": "83b345e5-268c-48ff-d0ac-036973f73828"
      },
      "execution_count": null,
      "outputs": [
        {
          "output_type": "stream",
          "name": "stdout",
          "text": [
            "12\n"
          ]
        }
      ]
    },
    {
      "cell_type": "code",
      "source": [
        "# Assignment operator: >>=\n",
        "\n",
        "myFirstBit = 8\n",
        "\n",
        "myFirstBit >>= 2\n",
        "print(myFirstBit)          # myFirstBit = myFirstBit >> 2"
      ],
      "metadata": {
        "colab": {
          "base_uri": "https://localhost:8080/"
        },
        "id": "kZy6l_RgFHtJ",
        "outputId": "bd1604d4-1cf4-4fd7-889a-5b825ca73d5f"
      },
      "execution_count": null,
      "outputs": [
        {
          "output_type": "stream",
          "name": "stdout",
          "text": [
            "2\n"
          ]
        }
      ]
    },
    {
      "cell_type": "markdown",
      "source": [
        "**Identity operators**\n",
        "\n",
        "*   is\n",
        "*   is not\n",
        "\n"
      ],
      "metadata": {
        "id": "CRZIby6Oovxw"
      }
    },
    {
      "cell_type": "code",
      "source": [
        "# Identity operator: is\n",
        "\n",
        "myFirstVariable  = \"Hello World!\"\n",
        "mySecondVariable = \"Hello World!\"\n",
        "\n",
        "myThirdVariable  =  myFirstVariable\n",
        "\n",
        "print(myFirstVariable is mySecondVariable)\n",
        "print(myFirstVariable is myThirdVariable )\n",
        "\n",
        "print(\"Printing memory addresses :\", id(myFirstVariable), id(mySecondVariable))\n",
        "print(\"Printing memory addresses :\", id(myFirstVariable), id(myThirdVariable) )"
      ],
      "metadata": {
        "colab": {
          "base_uri": "https://localhost:8080/"
        },
        "outputId": "e40c44c4-8dc0-4c4b-ef6f-ed61d64ac763",
        "id": "0yJO9gTcpr6R"
      },
      "execution_count": null,
      "outputs": [
        {
          "output_type": "stream",
          "name": "stdout",
          "text": [
            "False\n",
            "True\n",
            "Printing memory addresses : 140015781414640 140015781426480\n",
            "Printing memory addresses : 140015781414640 140015781414640\n"
          ]
        }
      ]
    },
    {
      "cell_type": "code",
      "source": [
        "# Identity operator: is not\n",
        "\n",
        "myFirstVariable  = \"Hello World!\"\n",
        "mySecondVariable = \"Hello World!\"\n",
        "\n",
        "myThirdVariable  =  myFirstVariable\n",
        "\n",
        "print(myFirstVariable is not mySecondVariable)\n",
        "print(myFirstVariable is not myThirdVariable )\n",
        "\n",
        "print(\"Printing memory addresses :\", id(myFirstVariable), id(mySecondVariable))\n",
        "print(\"Printing memory addresses :\", id(myFirstVariable), id(myThirdVariable) )"
      ],
      "metadata": {
        "colab": {
          "base_uri": "https://localhost:8080/"
        },
        "outputId": "f9fd0a44-5484-42e7-87dc-d9bf8b4b57a1",
        "id": "FatrHFI-tA0A"
      },
      "execution_count": null,
      "outputs": [
        {
          "output_type": "stream",
          "name": "stdout",
          "text": [
            "True\n",
            "False\n",
            "Printing memory addresses : 140015781088432 140015781097968\n",
            "Printing memory addresses : 140015781088432 140015781088432\n"
          ]
        }
      ]
    },
    {
      "cell_type": "markdown",
      "source": [
        "**Membership operators**\n",
        "\n",
        "*   in\n",
        "*   not in\n",
        "\n"
      ],
      "metadata": {
        "id": "FEbV2Yyc1Rr-"
      }
    },
    {
      "cell_type": "code",
      "source": [
        "# Membership operator: in  - returns True if a specified element (sequence) exists\n",
        "\n",
        "myTestString = \"Hello World!\"\n",
        "print(\"World\" in myTestString)"
      ],
      "metadata": {
        "colab": {
          "base_uri": "https://localhost:8080/"
        },
        "id": "mu0fYaEX2tFi",
        "outputId": "6b165dd3-6acc-45ef-f443-f4a774735dee"
      },
      "execution_count": null,
      "outputs": [
        {
          "output_type": "stream",
          "name": "stdout",
          "text": [
            "True\n"
          ]
        }
      ]
    },
    {
      "cell_type": "code",
      "source": [
        "# Membership operator: not in - returns True if a specified element does not exist\n",
        "\n",
        "myTestString = \"Hello World\"\n",
        "print(\"A\" not in myTestString)"
      ],
      "metadata": {
        "colab": {
          "base_uri": "https://localhost:8080/"
        },
        "id": "uXTqQXlc3DfY",
        "outputId": "0a314cc0-a049-4ffc-c0b3-e86fe12f3327"
      },
      "execution_count": null,
      "outputs": [
        {
          "output_type": "stream",
          "name": "stdout",
          "text": [
            "True\n"
          ]
        }
      ]
    },
    {
      "cell_type": "markdown",
      "source": [
        "**Operator precedence**\n",
        "\n",
        "* Parentheses: ()\t\n",
        "* Exponentiation: **\t\n",
        "* Unary: +x,  -x,  ~x\n",
        "* Arithmetic: *,  /, %, //, +, -\n",
        "* Bitwise: <<, >>, AND, ^, |\t\n",
        "* Comparison: ==,  !=,  >,  >=,  <,  <=  \n",
        "* Identity: is,  is not  \n",
        "* Membership: in, in not\n",
        "* Logical: not, and, or"
      ],
      "metadata": {
        "id": "vGU9c0IXy3wn"
      }
    },
    {
      "cell_type": "markdown",
      "source": [
        "# Section 2: Data collections\n"
      ],
      "metadata": {
        "id": "7WulSDtVbEfP"
      }
    },
    {
      "cell_type": "markdown",
      "source": [
        "# Lists\n",
        "\n",
        "\n",
        "---\n",
        "List is used to store several items in a single variable. List is one of the 4th built-in types in Python. List can store more than one variable at the same time. List is a mutable data type meaning that the list can be updated at any point in time. New items can be inserted to the list or deleted from the list. It is a member of data type called sequences. Various operations can be performed on the list including slicing, multiplication, addition, etc.\n",
        "\n",
        "---\n",
        "\n",
        "Syntax: myList = [element 1, element 2, ..., element n]\n"
      ],
      "metadata": {
        "id": "8RxoLXrp4xh5"
      }
    },
    {
      "cell_type": "code",
      "source": [
        "# Creating an empty list\n",
        "\n",
        "myEmptyList = []\n",
        "print(type(myEmptyList))"
      ],
      "metadata": {
        "colab": {
          "base_uri": "https://localhost:8080/"
        },
        "id": "e94FJ_ig3ZBj",
        "outputId": "0d09a5c6-b284-44ff-c15f-f918288eb8a8"
      },
      "execution_count": null,
      "outputs": [
        {
          "output_type": "stream",
          "name": "stdout",
          "text": [
            "<class 'list'>\n"
          ]
        }
      ]
    },
    {
      "cell_type": "code",
      "source": [
        "# Creating a list with strings\n",
        "\n",
        "myFishList = [\"Red Snapper\", \"Carp\", \"Bass\"]\n",
        "print(myFishList)"
      ],
      "metadata": {
        "id": "Wu5uf2B-e0q7",
        "colab": {
          "base_uri": "https://localhost:8080/"
        },
        "outputId": "4033e41f-de71-469f-cf6b-2a26116af7c4"
      },
      "execution_count": null,
      "outputs": [
        {
          "output_type": "stream",
          "name": "stdout",
          "text": [
            "['Red Snapper', 'Carp', 'Bass']\n"
          ]
        }
      ]
    },
    {
      "cell_type": "code",
      "source": [
        "# Creating a list with integers\n",
        "\n",
        "myNumberList = [1, 2, 3, 4, 5, 6, 7, 8, 9]\n",
        "print(myNumberList)"
      ],
      "metadata": {
        "colab": {
          "base_uri": "https://localhost:8080/"
        },
        "id": "M4GUpUlZ4W_o",
        "outputId": "5c7f7b1a-b898-443e-ce32-9ce81a4ca6d7"
      },
      "execution_count": null,
      "outputs": [
        {
          "output_type": "stream",
          "name": "stdout",
          "text": [
            "[1, 2, 3, 4, 5, 6, 7, 8, 9]\n"
          ]
        }
      ]
    },
    {
      "cell_type": "code",
      "source": [
        "# Creating a list with different data types\n",
        "\n",
        "myMixedList  = [10, 11.0, 123, \"Python\", \"A\", -234.5, True, False, 1.23E-24]\n",
        "myNumberList = [1, 2, 3, 4, 5]\n",
        "print(myMixedList, myNumberList, sep=\";\")"
      ],
      "metadata": {
        "colab": {
          "base_uri": "https://localhost:8080/"
        },
        "id": "dQJHfS744hfU",
        "outputId": "34ffa48e-b626-4131-a4da-2fddec00706a"
      },
      "execution_count": 15,
      "outputs": [
        {
          "output_type": "stream",
          "name": "stdout",
          "text": [
            "[10, 11.0, 123, 'Python', 'A', -234.5, True, False, 1.23e-24];[1, 2, 3, 4, 5]\n"
          ]
        }
      ]
    },
    {
      "cell_type": "code",
      "source": [
        "# Creating a list with the list() constructor\n",
        "\n",
        "myFishList = list((\"Carp\", \"Brass\", \"Red Snapper\"))  #use round brackets\n",
        "\n",
        "print(myFishList)\n",
        "print(type(myFishList))"
      ],
      "metadata": {
        "colab": {
          "base_uri": "https://localhost:8080/"
        },
        "id": "hj3kO3pB9knr",
        "outputId": "b1553e71-fc46-42e2-d68e-a6d718562487"
      },
      "execution_count": 16,
      "outputs": [
        {
          "output_type": "stream",
          "name": "stdout",
          "text": [
            "['Carp', 'Brass', 'Red Snapper']\n",
            "<class 'list'>\n"
          ]
        }
      ]
    },
    {
      "cell_type": "code",
      "source": [
        "# List constructor: list() - returns a copy of the list\n",
        "\n",
        "myFishList = [\"Carp\", \"Brass\", \"Salmon\", \"Red Snapper\"]\n",
        "\n",
        "myNewList  =  list(myFishList)\n",
        "\n",
        "print(myNewList)\n",
        "print(myNewList is myFishList)"
      ],
      "metadata": {
        "colab": {
          "base_uri": "https://localhost:8080/"
        },
        "outputId": "21104fe2-44ab-4a63-90d7-7404695f7d01",
        "id": "T3OEIK4DIctb"
      },
      "execution_count": null,
      "outputs": [
        {
          "output_type": "stream",
          "name": "stdout",
          "text": [
            "['Carp', 'Brass', 'Salmon', 'Red Snapper']\n",
            "False\n"
          ]
        }
      ]
    },
    {
      "cell_type": "markdown",
      "source": [
        "# List indexing\n",
        "\n",
        "---\n",
        "Each element of the list has a unique index numer as discussed below. To access any element of the list, we need to use that index number. Indexing of a list is the same as for the strings. List is a container for many items, these items are indexed starting with the first one being \"0\".\n",
        "\n",
        "---"
      ],
      "metadata": {
        "id": "Vq3rVLncJd8G"
      }
    },
    {
      "cell_type": "code",
      "source": [
        "# The indexes\n",
        "# myFirstList   =   [1,  2,  3,  4,  5, ..., n]\n",
        "# --------------------------\n",
        "# index              0,  1,  2,  3,  4, ..., n-1\n",
        "# negative index    -n,                 ...,  -1 \n",
        "\n",
        "myFirstList = [\"Red Snapper\", \"Carp\", \"Bass\"]\n",
        "\n",
        "print(myFirstList[0])\n",
        "print(myFirstList[1])\n",
        "print(myFirstList[2])\n"
      ],
      "metadata": {
        "colab": {
          "base_uri": "https://localhost:8080/"
        },
        "id": "3G-6B166ADqB",
        "outputId": "47425c3c-3d77-4ced-f879-f3c7b61b4265"
      },
      "execution_count": null,
      "outputs": [
        {
          "output_type": "stream",
          "name": "stdout",
          "text": [
            "Red Snapper\n",
            "Carp\n",
            "Bass\n"
          ]
        }
      ]
    },
    {
      "cell_type": "markdown",
      "source": [
        "# List slicing\n",
        "\n",
        "---\n",
        "To print a range of elements in the list you can use the slicing method.\n",
        "\n",
        "---\n",
        "Syntax: myList[start index:end index]"
      ],
      "metadata": {
        "id": "6MWjBSpgJpy5"
      }
    },
    {
      "cell_type": "code",
      "source": [
        "# The indexes\n",
        "# myFirstList   =   [1,  2,  3,  4,  5]\n",
        "# --------------------------\n",
        "# index              0,  1,  2,  3,  4\n",
        "# negative index    -5, -4, -3, -2, -1\n",
        "\n",
        "myFirstList = [1, 2, 3, 4, 5]\n",
        "\n",
        "print(myFirstList)          \n",
        "print(myFirstList[:])       \n",
        "print(myFirstList[1:])\n",
        "print(myFirstList[0:3])\n",
        "print(myFirstList[3:4])\n",
        "print(myFirstList[3:5])\n",
        "print(myFirstList[-4:])\n",
        "print(myFirstList[-4:-1])\n",
        "print(myFirstList[-5])"
      ],
      "metadata": {
        "colab": {
          "base_uri": "https://localhost:8080/"
        },
        "id": "8vwyYJXN5GTg",
        "outputId": "0d64dee7-290a-4c08-f1e7-9183453e29c2"
      },
      "execution_count": null,
      "outputs": [
        {
          "output_type": "stream",
          "name": "stdout",
          "text": [
            "[1, 2, 3, 4, 5]\n",
            "[1, 2, 3, 4, 5]\n",
            "[2, 3, 4, 5]\n",
            "[1, 2, 3]\n",
            "[4]\n",
            "[4, 5]\n",
            "[2, 3, 4, 5]\n",
            "[2, 3, 4]\n",
            "1\n"
          ]
        }
      ]
    },
    {
      "cell_type": "code",
      "source": [
        "# Multi-dimensional (nested) lists\n",
        "\n",
        "myNestedList = [1, 2, 3, [10,20,30], 'String']\n",
        "print(myNestedList)\n",
        "print(type(myNestedList))\n"
      ],
      "metadata": {
        "colab": {
          "base_uri": "https://localhost:8080/"
        },
        "id": "6m6TO1HjLHAc",
        "outputId": "0638d840-c332-4b94-c8b1-ce27b3b6331d"
      },
      "execution_count": null,
      "outputs": [
        {
          "output_type": "stream",
          "name": "stdout",
          "text": [
            "[1, 2, 3, [10, 20, 30], 'String']\n",
            "<class 'list'>\n"
          ]
        }
      ]
    },
    {
      "cell_type": "code",
      "source": [
        "# Nested indexing\n",
        "\n",
        "myNestedList = [ 1, 2, 3, [10,20,30], 'String']\n",
        "print(myNestedList[3][1])"
      ],
      "metadata": {
        "colab": {
          "base_uri": "https://localhost:8080/"
        },
        "id": "LzdwYNYZRowF",
        "outputId": "5fb4542e-ce92-4f00-df50-7f7ffc13e386"
      },
      "execution_count": null,
      "outputs": [
        {
          "output_type": "stream",
          "name": "stdout",
          "text": [
            "20\n"
          ]
        }
      ]
    },
    {
      "cell_type": "code",
      "source": [
        "# Check if item is in the list\n",
        "\n",
        "mySecondList = [\"Carp\", \"Brass\", \"Fly\"]\n",
        "print(\"Fly\" in mySecondList)"
      ],
      "metadata": {
        "colab": {
          "base_uri": "https://localhost:8080/"
        },
        "id": "_s9EVQHx-B6e",
        "outputId": "5589df44-0e53-4656-cdd6-0fc853946946"
      },
      "execution_count": 17,
      "outputs": [
        {
          "output_type": "stream",
          "name": "stdout",
          "text": [
            "True\n"
          ]
        }
      ]
    },
    {
      "cell_type": "code",
      "source": [
        "# Change values in the list\n",
        "\n",
        "mySecondList = [\"Carp\", \"Brass\", \"Fly\", \"Spider\"]\n",
        "\n",
        "mySecondList[2:3] = [\"Red Snapper\", \"Shark\"]\n",
        "\n",
        "print(mySecondList)"
      ],
      "metadata": {
        "colab": {
          "base_uri": "https://localhost:8080/"
        },
        "id": "7BVrP7bU-d3Q",
        "outputId": "869e950f-bf68-411b-888f-2a5501c2c268"
      },
      "execution_count": null,
      "outputs": [
        {
          "output_type": "stream",
          "name": "stdout",
          "text": [
            "['Carp', 'Brass', 'Red Snapper', 'Shark', 'Spider']\n"
          ]
        }
      ]
    },
    {
      "cell_type": "markdown",
      "source": [
        "# List methods\n",
        "\n",
        "---\n",
        "There are built-in methods that can be used on lists.\n",
        "\n",
        "---"
      ],
      "metadata": {
        "id": "PgArt5DWPSbf"
      }
    },
    {
      "cell_type": "code",
      "source": [
        "# Insert method: insert() - inserts an element to the list \n",
        "\n",
        "myFishingSet = [\"Carp\", \"Brass\", \"Fly\", \"Spider\"]\n",
        "\n",
        "myFishingSet.insert(2, \"Spinning\")\n",
        "myFishingSet.insert(3, \"Casting\")\n",
        "\n",
        "print(myFishingSet)"
      ],
      "metadata": {
        "colab": {
          "base_uri": "https://localhost:8080/"
        },
        "id": "9vRYmexW-_3d",
        "outputId": "e41c2193-afb1-4cba-f009-3d2b3dff0a8b"
      },
      "execution_count": null,
      "outputs": [
        {
          "output_type": "stream",
          "name": "stdout",
          "text": [
            "['Carp', 'Brass', 'Spinning', 'Casting', 'Fly', 'Spider']\n"
          ]
        }
      ]
    },
    {
      "cell_type": "code",
      "source": [
        "# Append method: append() - appends an element to the list\n",
        "\n",
        "myFishList = [\"Carp\"]\n",
        "\n",
        "myFishList.append(\"Brass\")\n",
        "myFishList.append(\"Red Snapper\")\n",
        "myFishList.append(\"Shark\")\n",
        "\n",
        "print(myFishList)"
      ],
      "metadata": {
        "colab": {
          "base_uri": "https://localhost:8080/"
        },
        "id": "MxfnnnCN_jis",
        "outputId": "52693211-56e4-48c4-b965-a7b119fd2aba"
      },
      "execution_count": null,
      "outputs": [
        {
          "output_type": "stream",
          "name": "stdout",
          "text": [
            "['Carp', 'Brass', 'Red Snapper', 'Shark']\n"
          ]
        }
      ]
    },
    {
      "cell_type": "code",
      "source": [
        "# Extend method: extend() - add an element to the end of a list\n",
        "\n",
        "myFishList = [\"Carp\", \"Brass\", \"Red Snapper\"]\n",
        "myLureList = [\"Fly\", \"Spider\", \"Worm\"]\n",
        "\n",
        "myFishList.extend(myLureList)\n",
        "\n",
        "print(myFishList)"
      ],
      "metadata": {
        "colab": {
          "base_uri": "https://localhost:8080/"
        },
        "id": "YOMumLiF_-DH",
        "outputId": "4052e347-0382-4f10-b51e-04ecae71e738"
      },
      "execution_count": null,
      "outputs": [
        {
          "output_type": "stream",
          "name": "stdout",
          "text": [
            "['Carp', 'Brass', 'Red Snapper', 'Fly', 'Spider', 'Worm']\n"
          ]
        }
      ]
    },
    {
      "cell_type": "code",
      "source": [
        "# Remove method: remove() - removes an element from the list\n",
        "\n",
        "myFishList = [\"Carp\", \"Brass\", \"Red Snapper\"]\n",
        "\n",
        "myFishList.remove(\"Carp\")\n",
        "\n",
        "print(myFishList)"
      ],
      "metadata": {
        "colab": {
          "base_uri": "https://localhost:8080/"
        },
        "id": "hnxj0xWRAjaF",
        "outputId": "650b2c5b-8102-4692-b91d-1c2b11de56f2"
      },
      "execution_count": null,
      "outputs": [
        {
          "output_type": "stream",
          "name": "stdout",
          "text": [
            "['Brass', 'Red Snapper']\n"
          ]
        }
      ]
    },
    {
      "cell_type": "code",
      "source": [
        "# Pop method: pop() - removes an element at specified index, if you do not specify, removes the last one\n",
        "\n",
        "myFishList = [\"Carp\", \"Brass\", \"Red Snapper\"]\n",
        "\n",
        "myFishList.pop(2)\n",
        "\n",
        "print(myFishList)\n",
        "\n",
        "myFishList.pop()\n",
        "\n",
        "print(myFishList)"
      ],
      "metadata": {
        "colab": {
          "base_uri": "https://localhost:8080/"
        },
        "id": "oFhEEsOtA1Tt",
        "outputId": "664f9aa4-405d-4d3d-8f24-f8a8fa321094"
      },
      "execution_count": null,
      "outputs": [
        {
          "output_type": "stream",
          "name": "stdout",
          "text": [
            "['Carp', 'Brass']\n",
            "['Carp']\n"
          ]
        }
      ]
    },
    {
      "cell_type": "code",
      "source": [
        "# Clear method: clear() - removes all elements from a list\n",
        "\n",
        "myLureList = [\"Fly\", \"Spider\", \"Worm\"]\n",
        "\n",
        "myLureList.clear()\n",
        "\n",
        "print(myLureList)"
      ],
      "metadata": {
        "colab": {
          "base_uri": "https://localhost:8080/"
        },
        "id": "dt7BbOgsB1pr",
        "outputId": "8e12e4b7-b846-4e90-ccbd-bd5489b227b0"
      },
      "execution_count": null,
      "outputs": [
        {
          "output_type": "stream",
          "name": "stdout",
          "text": [
            "[]\n"
          ]
        }
      ]
    },
    {
      "cell_type": "code",
      "source": [
        "# Sort method: sort() - sorts all elements of a list (case sensitive)\n",
        "\n",
        "myFishList = [\"Carp\", \"Brass\", \"Red Snapper\", \"Shark\", \"Arowana\", \"Catfish\"]\n",
        "\n",
        "myFishList.sort()\n",
        "\n",
        "print(myFishList)"
      ],
      "metadata": {
        "colab": {
          "base_uri": "https://localhost:8080/"
        },
        "id": "cvT_cYVZGjSe",
        "outputId": "7242102a-63f5-4f0c-d6d0-8950e57f798d"
      },
      "execution_count": null,
      "outputs": [
        {
          "output_type": "stream",
          "name": "stdout",
          "text": [
            "['Arowana', 'Brass', 'Carp', 'Catfish', 'Red Snapper', 'Shark']\n"
          ]
        }
      ]
    },
    {
      "cell_type": "code",
      "source": [
        "# Sort method: sort() - sorts all elements of a list (case sensitive)\n",
        "\n",
        "myFishList = [\"Carp\", \"Brass\", \"Red Snapper\", \"Shark\", \"Arowana\", \"Catfish\"]\n",
        "\n",
        "myFishList.sort(reverse = True)\n",
        "\n",
        "print(myFishList)"
      ],
      "metadata": {
        "colab": {
          "base_uri": "https://localhost:8080/"
        },
        "id": "n6PDuRQtG_Vj",
        "outputId": "281861cb-c495-4c87-a177-500915ac3d3e"
      },
      "execution_count": null,
      "outputs": [
        {
          "output_type": "stream",
          "name": "stdout",
          "text": [
            "['Shark', 'Red Snapper', 'Catfish', 'Carp', 'Brass', 'Arowana']\n"
          ]
        }
      ]
    },
    {
      "cell_type": "code",
      "source": [
        "# Sort method: sort() - sorts all elements of a list (case insensitive)\n",
        "\n",
        "myFishList = [\"Carp\", \"Brass\", \"red Snapper\", \"shark\", \"Arowana\", \"catfish\"]\n",
        "\n",
        "myFishList.sort(key=str.lower)\n",
        "\n",
        "print(myFishList)"
      ],
      "metadata": {
        "colab": {
          "base_uri": "https://localhost:8080/"
        },
        "id": "-dEkZ-qeHiBB",
        "outputId": "f612196b-6bbb-44a4-d986-e2871aeefabb"
      },
      "execution_count": null,
      "outputs": [
        {
          "output_type": "stream",
          "name": "stdout",
          "text": [
            "['Arowana', 'Brass', 'Carp', 'catfish', 'red Snapper', 'shark']\n"
          ]
        }
      ]
    },
    {
      "cell_type": "code",
      "source": [
        "# Copy method: copy() - returns a copy of the list\n",
        "\n",
        "myFishList = [\"Carp\", \"Brass\", \"Salmon\", \"Red Snapper\"]\n",
        "\n",
        "myNewList  =  myFishList.copy()\n",
        "\n",
        "print(myNewList)"
      ],
      "metadata": {
        "colab": {
          "base_uri": "https://localhost:8080/"
        },
        "id": "fcVDkWeSIFzp",
        "outputId": "a10e0bf3-bc81-49cb-9555-5be234716436"
      },
      "execution_count": null,
      "outputs": [
        {
          "output_type": "stream",
          "name": "stdout",
          "text": [
            "['Carp', 'Brass', 'Salmon', 'Red Snapper']\n"
          ]
        }
      ]
    },
    {
      "cell_type": "markdown",
      "source": [
        "# List operations\n",
        "\n",
        "---\n",
        "Some oprations can be performed on lists.\n",
        "\n",
        "---"
      ],
      "metadata": {
        "id": "dAKkuMdH3M_U"
      }
    },
    {
      "cell_type": "code",
      "source": [
        "# Join two lists creating a new list\n",
        "\n",
        "myFishList   = [\"Carp\", \"Brass\", \"Salmon\", \"Red Snapper\"]\n",
        "myInsectList = [\"Fly\", \"Beetle\", \"Ant\", \"Dragonfly\"]\n",
        "\n",
        "myFishingSet = myFishList + myInsectList\n",
        "\n",
        "print(myFishingSet)"
      ],
      "metadata": {
        "colab": {
          "base_uri": "https://localhost:8080/"
        },
        "id": "1q4S9ISCIsr9",
        "outputId": "704fe73a-3e86-4e5f-d8d6-5ccc85363d15"
      },
      "execution_count": null,
      "outputs": [
        {
          "output_type": "stream",
          "name": "stdout",
          "text": [
            "['Carp', 'Brass', 'Salmon', 'Red Snapper', 'Fly', 'Beetle', 'Ant', 'Dragonfly']\n"
          ]
        }
      ]
    },
    {
      "cell_type": "code",
      "source": [
        "# Delete the entire list\n",
        "\n",
        "myFishList = [\"Carp\", \"Brass\", \"Red Snapper\"]\n",
        "\n",
        "del myFishList "
      ],
      "metadata": {
        "id": "jtwD7K8vBj2C"
      },
      "execution_count": null,
      "outputs": []
    },
    {
      "cell_type": "markdown",
      "source": [
        "# Tuples\n",
        "\n",
        "\n",
        "---\n",
        "Tuples are used to store multiple values in a single variable. Once tuple created it can not be changed. Tuple is a collecion of elements that are odered and unchangeble. You can have duplicates. Tuple is inclosed in round parentheses. It is also indexed as strings and lists, starting with index 0.\n",
        "Tuples are ordered when they are defined and that order will not be changed.\n",
        "\n",
        "---\n",
        "\n",
        "Syntax: myTuple = (element 1, element 2, ..., element n)\n"
      ],
      "metadata": {
        "id": "WDg2CPv6JrwG"
      }
    },
    {
      "cell_type": "code",
      "source": [
        "# Creating an empty tuple\n",
        "\n",
        "myEmptyTuple = ()\n",
        "print(\"My empty tuple :\", myEmptyTuple)\n",
        "print(type(myEmptyTuple))"
      ],
      "metadata": {
        "colab": {
          "base_uri": "https://localhost:8080/"
        },
        "id": "JpsrHjI3o9PT",
        "outputId": "0ff05e58-6847-4950-a90e-1d41414f1737"
      },
      "execution_count": null,
      "outputs": [
        {
          "output_type": "stream",
          "name": "stdout",
          "text": [
            "My empty tuple : ()\n",
            "<class 'tuple'>\n"
          ]
        }
      ]
    },
    {
      "cell_type": "code",
      "source": [
        "# Creating tuple\n",
        "\n",
        "myFirstTuple = (\"Carp\", \"Anaconda\", \"Shark\") # packing\n",
        "print(myFirstTuple)"
      ],
      "metadata": {
        "colab": {
          "base_uri": "https://localhost:8080/"
        },
        "id": "wzavr6HZJ8Vh",
        "outputId": "0bdce1c1-682e-4189-c4b7-cd45a8dbb898"
      },
      "execution_count": null,
      "outputs": [
        {
          "output_type": "stream",
          "name": "stdout",
          "text": [
            "('Carp', 'Anaconda', 'Shark')\n"
          ]
        }
      ]
    },
    {
      "cell_type": "code",
      "source": [
        "# Unpacking tuple\n",
        "\n",
        "myFirstTuple = (\"Carp\", \"Anaconda\", \"Shark\") # packing\n",
        "\n",
        "(myFirstElement, mySecondElement, myThirdElement) = myFirstTuple  # unpacking\n",
        "\n",
        "print(myFirstElement)\n",
        "print(mySecondElement)\n",
        "print(myThirdElement)"
      ],
      "metadata": {
        "colab": {
          "base_uri": "https://localhost:8080/"
        },
        "id": "PQwcFQ42YJEc",
        "outputId": "8c7885b9-cf57-495e-a7ee-ce9821d2f1c7"
      },
      "execution_count": null,
      "outputs": [
        {
          "output_type": "stream",
          "name": "stdout",
          "text": [
            "Carp\n",
            "Anaconda\n",
            "Shark\n"
          ]
        }
      ]
    },
    {
      "cell_type": "code",
      "source": [
        "# Creating a tuple with one item\n",
        "\n",
        "myOneItemTuple = (\"Anaconda\",)\n",
        "print(type(myOneItemTuple))\n",
        "\n",
        "#THIS IS NOT A TUPLE, THIS IS A STRING\n",
        "\n",
        "myNotTuple = (\"Anaconda\")\n",
        "print(type(myNotTuple))"
      ],
      "metadata": {
        "colab": {
          "base_uri": "https://localhost:8080/"
        },
        "id": "N7u-Tt1lLTDl",
        "outputId": "417a24d6-b3f5-4b2d-a30d-5887c5cf183b"
      },
      "execution_count": null,
      "outputs": [
        {
          "output_type": "stream",
          "name": "stdout",
          "text": [
            "<class 'tuple'>\n",
            "<class 'str'>\n"
          ]
        }
      ]
    },
    {
      "cell_type": "code",
      "source": [
        "# Tuple constructor: tuple() - constructor returns a copy of the tuple\n",
        "\n",
        "mySecondTuple = tuple((\"Wolf\", \"Rabbit\"))\n",
        "print(mySecondTuple)"
      ],
      "metadata": {
        "colab": {
          "base_uri": "https://localhost:8080/"
        },
        "id": "OIbk29LUL1Ej",
        "outputId": "9b3f690b-9c42-44d3-dc35-22e9285325b2"
      },
      "execution_count": null,
      "outputs": [
        {
          "output_type": "stream",
          "name": "stdout",
          "text": [
            "('Wolf', 'Rabbit')\n"
          ]
        }
      ]
    },
    {
      "cell_type": "code",
      "source": [
        "# Access tuple with index number\n",
        "\n",
        "myAustralianTuple = tuple ( (\"Kangaroo\", \"Quokka\", \"Bandicoot\"))\n",
        "print(\"This nocturnal marsupial omnivor lives in Australia :\", myAustralianTuple[2])"
      ],
      "metadata": {
        "colab": {
          "base_uri": "https://localhost:8080/"
        },
        "id": "He4EbNPktLfd",
        "outputId": "115820ea-7e77-4e1e-9285-5520920fdb9b"
      },
      "execution_count": null,
      "outputs": [
        {
          "output_type": "stream",
          "name": "stdout",
          "text": [
            "This nocturnal marsupial omnivor lives in Australia : Bandicoot\n"
          ]
        }
      ]
    },
    {
      "cell_type": "markdown",
      "source": [
        "# Tuple methods\n",
        "\n",
        "---\n",
        "There are some built-in methods that can be used on tuples.\n",
        "\n",
        "---"
      ],
      "metadata": {
        "id": "s2_Vnr4ewS4D"
      }
    },
    {
      "cell_type": "code",
      "source": [
        "# Count method: count() - returns a number of repeated elements in the Tuple\n",
        "\n",
        "myTestTuple = (1, 2, 3, 4, 5, 5, 5, 5, 5, 5, 6)\n",
        "print(myTestTuple.count(5))"
      ],
      "metadata": {
        "colab": {
          "base_uri": "https://localhost:8080/"
        },
        "id": "_ygQO9WVvLVz",
        "outputId": "1905b803-c7d6-4a1e-959b-c3aef1623e63"
      },
      "execution_count": null,
      "outputs": [
        {
          "output_type": "stream",
          "name": "stdout",
          "text": [
            "6\n"
          ]
        }
      ]
    },
    {
      "cell_type": "code",
      "source": [
        "# Index method: index() - returns an index of the first occurence for the specified element\n",
        "\n",
        "myTestTuple = (1, 2, 3, 4, 5, 6, 7, 8, 9)\n",
        "print(myTestTuple.index(4))"
      ],
      "metadata": {
        "colab": {
          "base_uri": "https://localhost:8080/"
        },
        "id": "l_Km0CjgxkAN",
        "outputId": "bedf0b5e-4ce1-4a05-acd9-c810fb7cc93f"
      },
      "execution_count": null,
      "outputs": [
        {
          "output_type": "stream",
          "name": "stdout",
          "text": [
            "3\n"
          ]
        }
      ]
    },
    {
      "cell_type": "markdown",
      "source": [
        "# Tuple operations\n",
        "\n",
        "---\n",
        "Some oprations can be performed on tuples.\n",
        "\n",
        "---"
      ],
      "metadata": {
        "id": "qXYXXrZxyQvo"
      }
    },
    {
      "cell_type": "code",
      "source": [
        "# Join two tuples\n",
        "\n",
        "myFishTuple   = (\"Pike\", \"Bass\", \"Carp\")\n",
        "myMammalTuple = (\"Blue Whale\", \"Orca\", \"Dolphin\")\n",
        "\n",
        "myAnimalTuple = myFishTuple + myMammalTuple\n",
        "\n",
        "print(myAnimalTuple)"
      ],
      "metadata": {
        "colab": {
          "base_uri": "https://localhost:8080/"
        },
        "id": "UMZrUtZSyUnf",
        "outputId": "44f5dde7-0ce7-4d70-ce1d-a85ab50096ce"
      },
      "execution_count": null,
      "outputs": [
        {
          "output_type": "stream",
          "name": "stdout",
          "text": [
            "('Pike', 'Bass', 'Carp', 'Blue Whale', 'Orca', 'Dolphin')\n"
          ]
        }
      ]
    },
    {
      "cell_type": "code",
      "source": [
        " # Delete the entire tuple\n",
        "\n",
        "myFishTuple   = (\"Pike\", \"Bass\", \"Carp\")\n",
        "\n",
        "del myFishTuple"
      ],
      "metadata": {
        "id": "9e0sMfri1soR"
      },
      "execution_count": 14,
      "outputs": []
    },
    {
      "cell_type": "markdown",
      "source": [
        "# Dictionary\n",
        "\n",
        "---\n",
        "A dictionary is an ordered mutable data collection but do not allow duplicates. The items can be removed, changed, and added. Dictionaries store data using **key:value** pairs inclosed in curly braces. Dictionaries are ordered starting from version 3.7. \n",
        "\n",
        "---\n",
        "Syntax: myDictionary = { key: value }"
      ],
      "metadata": {
        "id": "LrEJ_oZiIq2d"
      }
    },
    {
      "cell_type": "code",
      "source": [
        "# Creating an empty dictionary\n",
        "\n",
        "myEmptyDict = {}\n",
        "print(\"My empty dictionary :\", myEmptyDict)\n",
        "print(type(myEmptyDict))"
      ],
      "metadata": {
        "colab": {
          "base_uri": "https://localhost:8080/"
        },
        "id": "ycMVkJdEobuO",
        "outputId": "b0df762c-980f-4c53-e8f7-e3c0cf93699c"
      },
      "execution_count": null,
      "outputs": [
        {
          "output_type": "stream",
          "name": "stdout",
          "text": [
            "My empty dictionary : {}\n",
            "<class 'dict'>\n"
          ]
        }
      ]
    },
    {
      "cell_type": "code",
      "source": [
        "# Creating dictionary\n",
        "\n",
        "myFirstDictionary = {\"Name\":\"Kirill\", \"Age\":72, \"Occupation\":\"Doctor\"}\n",
        "print(myFirstDictionary)"
      ],
      "metadata": {
        "colab": {
          "base_uri": "https://localhost:8080/"
        },
        "id": "AmUQHGAZI9Nv",
        "outputId": "7221b1e1-8ec6-46bb-8cd2-67f4ba4aada1"
      },
      "execution_count": null,
      "outputs": [
        {
          "output_type": "stream",
          "name": "stdout",
          "text": [
            "{'Name': 'Kirill', 'Age': 72, 'Occupation': 'Doctor'}\n"
          ]
        }
      ]
    },
    {
      "cell_type": "code",
      "source": [
        "# Dictionary constructor: dict() - returns a copy of the dictionary\n",
        "\n",
        "myFirstDictionary = dict(Name=\"Kirill\", Age=25, Occupation=\"Student\")\n",
        "print(myFirstDictionary)"
      ],
      "metadata": {
        "colab": {
          "base_uri": "https://localhost:8080/"
        },
        "id": "wqzD_rpwLO0W",
        "outputId": "10c79ff6-6fbd-4618-8283-509f56973140"
      },
      "execution_count": null,
      "outputs": [
        {
          "output_type": "stream",
          "name": "stdout",
          "text": [
            "{'Name': 'Kirill', 'Age': 25, 'Occupation': 'Student'}\n"
          ]
        }
      ]
    },
    {
      "cell_type": "code",
      "source": [
        "# Dictionary constructor: dict() - returns a copy of the dictionary\n",
        "\n",
        "myFirstDictionary = dict([(\"Name\",\"Kirill\"), (\"Age\",25), (\"Occupation\",\"Student\")])\n",
        "print(myFirstDictionary)"
      ],
      "metadata": {
        "colab": {
          "base_uri": "https://localhost:8080/"
        },
        "id": "ofFxolTdtR0Y",
        "outputId": "b423ba5b-168b-41f7-8ba7-82d54c8e7729"
      },
      "execution_count": null,
      "outputs": [
        {
          "output_type": "stream",
          "name": "stdout",
          "text": [
            "{'Name': 'Kirill', 'Age': 25, 'Occupation': 'Student'}\n"
          ]
        }
      ]
    },
    {
      "cell_type": "code",
      "source": [
        "# Type function: type() - returns type of the variable\n",
        "\n",
        "myFirstDictionary={\"Name\":\"Kirill\", \"Age\":20, \"Occupation\":\"Student\"}\n",
        "print(type(myFirstDictionary))"
      ],
      "metadata": {
        "colab": {
          "base_uri": "https://localhost:8080/"
        },
        "id": "LocTGZLzK6JT",
        "outputId": "c7e48c04-796d-40c0-a7f3-13a6717a812a"
      },
      "execution_count": null,
      "outputs": [
        {
          "output_type": "stream",
          "name": "stdout",
          "text": [
            "<class 'dict'>\n"
          ]
        }
      ]
    },
    {
      "cell_type": "code",
      "source": [
        "# Length function: len() - returns the lenght of a dictionary\n",
        "\n",
        "myFirstDictionary={\"Name\":\"Kirill\", \"Age\":25, \"Occupation\":\"Student\"}\n",
        "print(len(myFirstDictionary))"
      ],
      "metadata": {
        "colab": {
          "base_uri": "https://localhost:8080/"
        },
        "id": "0kCHLuJAKhyq",
        "outputId": "dbbd84e9-1eeb-4c72-c0b5-8ba8db509669"
      },
      "execution_count": null,
      "outputs": [
        {
          "output_type": "stream",
          "name": "stdout",
          "text": [
            "3\n"
          ]
        }
      ]
    },
    {
      "cell_type": "code",
      "source": [
        "# Get the value of the key:  key:value\n",
        "\n",
        "myFirstDictionary = dict(Name=\"Kirill\", Age=25, Occupation=\"Student\")\n",
        "print(myFirstDictionary[\"Age\"])"
      ],
      "metadata": {
        "colab": {
          "base_uri": "https://localhost:8080/"
        },
        "id": "fp6PHb62L1u9",
        "outputId": "28fcd1d6-eb79-4a3f-8c63-fa138b2811dd"
      },
      "execution_count": null,
      "outputs": [
        {
          "output_type": "stream",
          "name": "stdout",
          "text": [
            "25\n"
          ]
        }
      ]
    },
    {
      "cell_type": "code",
      "source": [
        "#Adding a new item to the dicitonary\n",
        "myFirstDictionary = dict(Name=\"Kirill\", Age=25, Occupation=\"Student\")\n",
        "myFirstDictionary[\"Age\"] = 55\n",
        "\n",
        "print(myFirstDictionary)"
      ],
      "metadata": {
        "colab": {
          "base_uri": "https://localhost:8080/"
        },
        "id": "8OUIAF3WNCFw",
        "outputId": "d745deea-e99b-4f1f-82dd-2e0fac8c4e7a"
      },
      "execution_count": null,
      "outputs": [
        {
          "output_type": "stream",
          "name": "stdout",
          "text": [
            "{'Name': 'Kirill', 'Age': 55, 'Occupation': 'Student'}\n"
          ]
        }
      ]
    },
    {
      "cell_type": "markdown",
      "source": [
        "# Dictionary methods\n",
        "\n",
        "---\n",
        "There are some built-in methods that can be used on dictionaries.\n",
        "\n",
        "---"
      ],
      "metadata": {
        "id": "JSlEagi1xdh0"
      }
    },
    {
      "cell_type": "code",
      "source": [
        "# Get method: get() - access dictionary value using the keyword\n",
        "\n",
        "myFirstDictionary = {\"Name\":\"Kirill\", \"Age\":25, \"Occupation\":\"Student\"}\n",
        "print(myFirstDictionary.get(\"Age\"))"
      ],
      "metadata": {
        "colab": {
          "base_uri": "https://localhost:8080/"
        },
        "id": "_5jYofrGMQeO",
        "outputId": "577f26a5-7a20-461e-e497-e8c992ed47de"
      },
      "execution_count": null,
      "outputs": [
        {
          "output_type": "stream",
          "name": "stdout",
          "text": [
            "25\n"
          ]
        }
      ]
    },
    {
      "cell_type": "code",
      "source": [
        "# Keys method: keys() - gets a list of keys\n",
        "\n",
        "myFirstDictionary = {\"Name\":\"Kirill\", \"Age\":25, \"Occupation\":\"Student\"}\n",
        "print(myFirstDictionary.keys())"
      ],
      "metadata": {
        "colab": {
          "base_uri": "https://localhost:8080/"
        },
        "id": "k81BrfGlMwB7",
        "outputId": "71f0bab6-380f-429c-fb4d-e5c54a484f96"
      },
      "execution_count": null,
      "outputs": [
        {
          "output_type": "stream",
          "name": "stdout",
          "text": [
            "dict_keys(['Name', 'Age', 'Occupation'])\n"
          ]
        }
      ]
    },
    {
      "cell_type": "code",
      "source": [
        "# Values method: values() - gets a list of values\n",
        "\n",
        "myFirstDictionary = {\"Name\":\"Kirill\", \"Age\":25, \"Occupation\":\"Student\"}\n",
        "print(myFirstDictionary.values())"
      ],
      "metadata": {
        "colab": {
          "base_uri": "https://localhost:8080/"
        },
        "id": "LIH3CV1RNi4v",
        "outputId": "986d0cce-a7c2-4332-eabe-1a8e3cdbcb07"
      },
      "execution_count": null,
      "outputs": [
        {
          "output_type": "stream",
          "name": "stdout",
          "text": [
            "dict_values(['Kirill', 25, 'Student'])\n"
          ]
        }
      ]
    },
    {
      "cell_type": "code",
      "source": [
        "# Items method: items() - gets a list of key:value pairs\n",
        "\n",
        "myFirstDictionary = {\"Name\":\"Kirill\", \"Age\":25, \"Occupation\":\"Student\"}\n",
        "print(myFirstDictionary.items())"
      ],
      "metadata": {
        "colab": {
          "base_uri": "https://localhost:8080/"
        },
        "id": "DfxebHnJN581",
        "outputId": "856cd57c-889d-46dc-f907-827a2b4df8ea"
      },
      "execution_count": null,
      "outputs": [
        {
          "output_type": "stream",
          "name": "stdout",
          "text": [
            "dict_items([('Name', 'Kirill'), ('Age', 25), ('Occupation', 'Student')])\n"
          ]
        }
      ]
    },
    {
      "cell_type": "code",
      "source": [
        "# Update method: update() - updates the dictionary with the key:value pair\n",
        "\n",
        "myFirstDictionary = {\"Name\":\"Kirill\", \"Age\":25, \"Occupation\":\"Student\"}\n",
        "myFirstDictionary.update({\"Age\":33})\n",
        "\n",
        "print(myFirstDictionary)"
      ],
      "metadata": {
        "colab": {
          "base_uri": "https://localhost:8080/"
        },
        "id": "_mdgODj4O-09",
        "outputId": "afc3a671-1bf3-470f-89f0-4fb6f32f7a52"
      },
      "execution_count": null,
      "outputs": [
        {
          "output_type": "stream",
          "name": "stdout",
          "text": [
            "{'Name': 'Kirill', 'Age': 33, 'Occupation': 'Student'}\n"
          ]
        }
      ]
    },
    {
      "cell_type": "code",
      "source": [
        "# Pop method: pop() - removes the key:value pair from the dictionary\n",
        "\n",
        "myFirstDictionary = {\"Name\":\"Kirill\", \"Age\":25, \"Occupation\":\"Student\"}\n",
        "myFirstDictionary.pop(\"Age\")\n",
        "\n",
        "print(myFirstDictionary)"
      ],
      "metadata": {
        "colab": {
          "base_uri": "https://localhost:8080/"
        },
        "id": "gE9SoknNQZmU",
        "outputId": "2f30e76b-3fee-41f3-fcc7-cb04e9989949"
      },
      "execution_count": null,
      "outputs": [
        {
          "output_type": "stream",
          "name": "stdout",
          "text": [
            "{'Name': 'Kirill', 'Occupation': 'Student'}\n"
          ]
        }
      ]
    },
    {
      "cell_type": "markdown",
      "source": [
        "# Dictionary operations\n",
        "\n",
        "---\n",
        "There are some built-in methods that can be used on dictionaries.\n",
        "\n",
        "---"
      ],
      "metadata": {
        "id": "j39H9C6p1GHB"
      }
    },
    {
      "cell_type": "code",
      "source": [
        "# Delete item from the dictionary\n",
        "\n",
        "myFirstDictionary = {\"Name\":\"Kirill\", \"Age\":25, \"Occupation\":\"Student\"}\n",
        "del myFirstDictionary[\"Age\"]\n",
        "\n",
        "print(myFirstDictionary)"
      ],
      "metadata": {
        "colab": {
          "base_uri": "https://localhost:8080/"
        },
        "id": "fPBTRj2xRABQ",
        "outputId": "08e62e12-8f90-4a42-f677-feb224780ef2"
      },
      "execution_count": null,
      "outputs": [
        {
          "output_type": "stream",
          "name": "stdout",
          "text": [
            "{'Name': 'Kirill', 'Occupation': 'Student'}\n"
          ]
        }
      ]
    },
    {
      "cell_type": "code",
      "source": [
        "# Delete dictionary\n",
        "\n",
        "myFirstDictionary = {\"Name\":\"Kirill\", \"Age\":25, \"Occupation\":\"Student\"}\n",
        "del myFirstDictionary\n",
        "\n",
        "print(myFirstDictionary)"
      ],
      "metadata": {
        "id": "70oAGiaI06LI"
      },
      "execution_count": null,
      "outputs": []
    },
    {
      "cell_type": "markdown",
      "source": [
        "# Note\n",
        "\n",
        "---\n",
        "Python dictionary can be loadded from JSON file. JSON stands for JavaScript Object Notation and it is a vary popular format of storing data on the web. Here is the example of such a file student.json\n",
        "\n",
        "---"
      ],
      "metadata": {
        "id": "FRXuwLhXuUmI"
      }
    },
    {
      "cell_type": "code",
      "source": [
        "# student.json\n",
        "\n",
        "{\n",
        "    \"Name\": \"Mark\",\n",
        "    \"Age\": 21,\n",
        "    \"Occupation\": \"Student\"\n",
        "}"
      ],
      "metadata": {
        "id": "tBdESeYyu6JR"
      },
      "execution_count": null,
      "outputs": []
    },
    {
      "cell_type": "code",
      "source": [
        "# To load JSON file to the Python\n",
        "\n",
        "import json\n",
        "\n",
        "with open('student.json', 'r') as json_file:\n",
        "  student = json.load(json_file)\n",
        "print(student)"
      ],
      "metadata": {
        "id": "vqrVenh-vXYh"
      },
      "execution_count": null,
      "outputs": []
    },
    {
      "cell_type": "markdown",
      "source": [
        "# Sets\n",
        "\n",
        "---\n",
        "\n",
        "Sets are used to store multiple elements in a single variable.\n",
        "It is unordered, unchangable, and unindexed sequence. Everytime \n",
        "you access the set the order of elements can vary. Elements of \n",
        "sets can not be accessed by index number. You can not modify the\n",
        "set, but you can remove or add elements.\n",
        "\n",
        "---\n",
        "Syntax: mySet = {element 1, element 2, element 3, ..., element n}"
      ],
      "metadata": {
        "id": "aug2ii2_MNbv"
      }
    },
    {
      "cell_type": "code",
      "source": [
        "# Creating an empty set\n",
        "\n",
        "myEmptySet = {}\n",
        "print(myEmptySet)"
      ],
      "metadata": {
        "colab": {
          "base_uri": "https://localhost:8080/"
        },
        "id": "aM6KGd6KHFbP",
        "outputId": "ca7b016b-96bf-4f5d-851c-e31439b18c22"
      },
      "execution_count": 20,
      "outputs": [
        {
          "output_type": "stream",
          "name": "stdout",
          "text": [
            "{}\n"
          ]
        }
      ]
    },
    {
      "cell_type": "code",
      "source": [
        "# Create Set\n",
        "\n",
        "myFishSet = {\"Carp\", \"Bass\", \"Salmon\", \"Red Snapper\"}  # It is one order\n",
        "print(myFishSet)"
      ],
      "metadata": {
        "colab": {
          "base_uri": "https://localhost:8080/"
        },
        "id": "l1nS-WtVY1Sh",
        "outputId": "a143032f-e969-4466-aca7-32c0134ad672"
      },
      "execution_count": 24,
      "outputs": [
        {
          "output_type": "stream",
          "name": "stdout",
          "text": [
            "{'Carp', 'Red Snapper', 'Bass', 'Salmon'}\n"
          ]
        }
      ]
    },
    {
      "cell_type": "code",
      "source": [
        "# Create set using the constructor: set()\n",
        "\n",
        "myFishSet = set((\"Carp\", \"Bass\", \"Salmon\", \"Red Snapper\"))\n",
        "print(myFishSet)"
      ],
      "metadata": {
        "colab": {
          "base_uri": "https://localhost:8080/"
        },
        "id": "z3c9RkQSG8tk",
        "outputId": "a065a06e-18d9-4508-fe2b-ce2ff55f1637"
      },
      "execution_count": 25,
      "outputs": [
        {
          "output_type": "stream",
          "name": "stdout",
          "text": [
            "{'Carp', 'Red Snapper', 'Bass', 'Salmon'}\n"
          ]
        }
      ]
    },
    {
      "cell_type": "code",
      "source": [
        "# Create Set with duplicates\n",
        "\n",
        "myFishSet = {\"Carp\", \"Bass\", \"Salmon\", \"Red Snapper\", \"Bass\"}\n",
        "print(myFishSet)"
      ],
      "metadata": {
        "colab": {
          "base_uri": "https://localhost:8080/"
        },
        "id": "6DUwz-mYZNF-",
        "outputId": "4c5dd413-3cb5-489e-e875-0945a8bd8abb"
      },
      "execution_count": 18,
      "outputs": [
        {
          "output_type": "stream",
          "name": "stdout",
          "text": [
            "{'Carp', 'Red Snapper', 'Bass', 'Salmon'}\n"
          ]
        }
      ]
    },
    {
      "cell_type": "code",
      "source": [
        "# Create Set with Boolean types and integers\n",
        "\n",
        "myFirstSet = {\"Carp\", \"Bass\", \"Red Snapper\", \"Bass\", True, 1, 2}\n",
        "print(myFirstSet)"
      ],
      "metadata": {
        "colab": {
          "base_uri": "https://localhost:8080/"
        },
        "id": "4cgo_2HnZdqW",
        "outputId": "8d994bec-6343-481c-ae56-5865702c6897"
      },
      "execution_count": 19,
      "outputs": [
        {
          "output_type": "stream",
          "name": "stdout",
          "text": [
            "{True, 2, 'Red Snapper', 'Carp', 'Bass'}\n"
          ]
        }
      ]
    },
    {
      "cell_type": "code",
      "source": [
        "#Sets' data types\n",
        "\n",
        "myFishSet={\"Carp\", \"Bass\", \"Red Snapper\", \"Salmon\"}\n",
        "myNumberSet={1, 2, 3, 4, 5, 4, 6, 3, 21}\n",
        "myBooleanSet={True, False, False, True,False}\n",
        "myMixedSet={\"Carp\", True, 23, 40, \"Bass\", \"Salmon\"}\n",
        "\n",
        "print(myFishSet)\n",
        "print(myNumberSet)\n",
        "print(myBooleanSet)\n",
        "print(myMixedSet)"
      ],
      "metadata": {
        "colab": {
          "base_uri": "https://localhost:8080/"
        },
        "id": "01sJnNKcaC18",
        "outputId": "defd89ee-e16f-483d-c830-307aab54f17d"
      },
      "execution_count": 26,
      "outputs": [
        {
          "output_type": "stream",
          "name": "stdout",
          "text": [
            "{'Carp', 'Red Snapper', 'Bass', 'Salmon'}\n",
            "{1, 2, 3, 4, 5, 6, 21}\n",
            "{False, True}\n",
            "{True, 23, 'Carp', 40, 'Bass', 'Salmon'}\n"
          ]
        }
      ]
    },
    {
      "cell_type": "code",
      "source": [
        "#Set's type\n",
        "myFirstSet={\"Carp\", \"Bass\", \"Red Snapper\", \"Salmon\"}\n",
        "mySecondSet={1,2,3,4,5,4,6,3,21}\n",
        "\n",
        "print(type(myFirstSet))\n",
        "print(type(mySecondSet))"
      ],
      "metadata": {
        "colab": {
          "base_uri": "https://localhost:8080/"
        },
        "id": "Q9EyFAFWaxMP",
        "outputId": "ce8212d7-3340-49e1-96c5-9055c1eccf73"
      },
      "execution_count": null,
      "outputs": [
        {
          "output_type": "stream",
          "name": "stdout",
          "text": [
            "<class 'set'>\n",
            "<class 'set'>\n"
          ]
        }
      ]
    },
    {
      "cell_type": "code",
      "source": [
        "#Set's length\n",
        "\n",
        "mySecondSet = {\"Carp\", \"Bass\", \"Red Snapper\", \"Salmon\"}\n",
        "print(len(mySecondSet))"
      ],
      "metadata": {
        "colab": {
          "base_uri": "https://localhost:8080/"
        },
        "id": "vVh-kbCLZzOd",
        "outputId": "b26f5d61-531c-4e70-95b3-33a78b8b47ae"
      },
      "execution_count": null,
      "outputs": [
        {
          "output_type": "stream",
          "name": "stdout",
          "text": [
            "4\n"
          ]
        }
      ]
    },
    {
      "cell_type": "code",
      "source": [
        "#Using the constructor to create a set\n",
        "\n",
        "myFirstSet=set((\"Carp\", \"Bass\", \"Red Snapper\", \"Salmon\")) #double parenthesis\n",
        "\n",
        "print(type(myFirstSet))"
      ],
      "metadata": {
        "colab": {
          "base_uri": "https://localhost:8080/"
        },
        "id": "ZBFNcpP0bCfp",
        "outputId": "bb011a91-e5b0-4312-810b-e3b9efaed226"
      },
      "execution_count": null,
      "outputs": [
        {
          "output_type": "stream",
          "name": "stdout",
          "text": [
            "<class 'set'>\n"
          ]
        }
      ]
    },
    {
      "cell_type": "markdown",
      "source": [
        "# Set methods\n",
        "\n",
        "---\n",
        "There are some built-in methods that can be used on sets.\n",
        "\n",
        "---"
      ],
      "metadata": {
        "id": "PD2eCqRbMAUj"
      }
    },
    {
      "cell_type": "code",
      "source": [
        "# Add method: add() - adding items to a set\n",
        "\n",
        "myFishSet = {\"Carp\", \"Bass\", \"Red Snapper\"}\n",
        "myFishSet.add(\"Salmon\")\n",
        "print(myFishSet)"
      ],
      "metadata": {
        "colab": {
          "base_uri": "https://localhost:8080/"
        },
        "id": "PIl_tV42b1lw",
        "outputId": "1c089442-4b46-4ad4-c07b-f1ff3c4d839d"
      },
      "execution_count": 29,
      "outputs": [
        {
          "output_type": "stream",
          "name": "stdout",
          "text": [
            "{'Carp', 'Red Snapper', 'Bass', 'Salmon'}\n"
          ]
        }
      ]
    },
    {
      "cell_type": "code",
      "source": [
        "# Update method: update() - updating set with another set\n",
        "\n",
        "myFirstSet  = {\"Carp\", \"Bass\"}\n",
        "mySecondSet = {\"Red Snapper\", \"Salmon\"}\n",
        "\n",
        "myFirstSet.update(mySecondSet)\n",
        "\n",
        "print(myFirstSet)"
      ],
      "metadata": {
        "colab": {
          "base_uri": "https://localhost:8080/"
        },
        "id": "ueHCgxgycIZs",
        "outputId": "d0f4185b-1afd-49a5-95d7-bb3ac8d91524"
      },
      "execution_count": 28,
      "outputs": [
        {
          "output_type": "stream",
          "name": "stdout",
          "text": [
            "{'Carp', 'Red Snapper', 'Bass', 'Salmon'}\n"
          ]
        }
      ]
    },
    {
      "cell_type": "code",
      "source": [
        "# Update method: update() - updating set with a list \n",
        "\n",
        "myFirstSet   = {\"Carp\", \"Bass\"}\n",
        "mySecondList = [\"Red Snapper\", \"Salmon\"]\n",
        "\n",
        "myFirstSet.update(mySecondList)\n",
        "\n",
        "print(myFirstSet)"
      ],
      "metadata": {
        "colab": {
          "base_uri": "https://localhost:8080/"
        },
        "id": "RHxfA-bzco7O",
        "outputId": "b7f5bdc4-447b-4da3-ddaa-37ad5da03ec7"
      },
      "execution_count": 30,
      "outputs": [
        {
          "output_type": "stream",
          "name": "stdout",
          "text": [
            "{'Carp', 'Red Snapper', 'Bass', 'Salmon'}\n"
          ]
        }
      ]
    },
    {
      "cell_type": "code",
      "source": [
        "# Remove method: remove() - removes elements of a set\n",
        "\n",
        "myFirstSet = {\"Carp\", \"Bass\", \"Red Snapper\", \"Salmon\"}\n",
        "\n",
        "myFirstSet.remove(\"Carp\")\n",
        "\n",
        "print(myFirstSet)"
      ],
      "metadata": {
        "colab": {
          "base_uri": "https://localhost:8080/"
        },
        "id": "siByvL9jdAP3",
        "outputId": "4bd80b54-c6ca-42a3-e940-b7251028306e"
      },
      "execution_count": 32,
      "outputs": [
        {
          "output_type": "stream",
          "name": "stdout",
          "text": [
            "{'Red Snapper', 'Bass', 'Salmon'}\n"
          ]
        }
      ]
    },
    {
      "cell_type": "code",
      "source": [
        "# Discard method: discard() - discards element of a set\n",
        "\n",
        "myFirstSet = {\"Carp\", \"Bass\", \"Red Snapper\", \"Salmon\"}\n",
        "\n",
        "myFirstSet.discard(\"Red Snapper\")\n",
        "\n",
        "print(myFirstSet)\n"
      ],
      "metadata": {
        "colab": {
          "base_uri": "https://localhost:8080/"
        },
        "id": "q_JIy6zIOHlh",
        "outputId": "6e1342a4-48aa-4bb5-edf1-88c165fb616b"
      },
      "execution_count": 33,
      "outputs": [
        {
          "output_type": "stream",
          "name": "stdout",
          "text": [
            "{'Carp', 'Bass', 'Salmon'}\n"
          ]
        }
      ]
    },
    {
      "cell_type": "code",
      "source": [
        "# Pop method: pop() - removes an element of a string, you do not know which item gets removed\n",
        "\n",
        "myFirstSet = {\"Carp\", \"Bass\", \"Red Snapper\", \"Salmon\"}\n",
        "\n",
        "myFirstSet.pop()\n",
        "\n",
        "print(myFirstSet)"
      ],
      "metadata": {
        "colab": {
          "base_uri": "https://localhost:8080/"
        },
        "id": "f24DGQRxdhwv",
        "outputId": "b20dc9b8-f85c-4b93-bbd2-768fb09447b9"
      },
      "execution_count": 37,
      "outputs": [
        {
          "output_type": "stream",
          "name": "stdout",
          "text": [
            "{'Red Snapper', 'Bass', 'Salmon'}\n"
          ]
        }
      ]
    },
    {
      "cell_type": "code",
      "source": [
        "# Clear method: clear() - makes a set empty\n",
        "\n",
        "myFirstSet  =  {\"Carp\", \"Bass\", \"Red Snapper\", \"Salmon\"}\n",
        "\n",
        "myFirstSet.clear()\n",
        "\n",
        "print(myFirstSet)"
      ],
      "metadata": {
        "colab": {
          "base_uri": "https://localhost:8080/"
        },
        "id": "yoDoL6GYd8ru",
        "outputId": "74cfd0e6-9bc5-46c2-eb41-75da46d905a9"
      },
      "execution_count": 39,
      "outputs": [
        {
          "output_type": "stream",
          "name": "stdout",
          "text": [
            "set()\n"
          ]
        }
      ]
    },
    {
      "cell_type": "code",
      "source": [
        "# Intersection method: intersection() - keeps only duplicates\n",
        "\n",
        "myFirstSet   =  {\"Carp\", \"Red Snapper\"}\n",
        "mySecondSet  =  {\"Carp\", \"Bass\", \"Red Snapper\", \"Salmon\"}\n",
        "\n",
        "myThirdSet   =  myFirstSet.intersection(mySecondSet)\n",
        "\n",
        "print(myThirdSet)"
      ],
      "metadata": {
        "colab": {
          "base_uri": "https://localhost:8080/"
        },
        "id": "Zk7dqs_CfULP",
        "outputId": "85b537ef-82ea-4d1a-c4c1-946ca16fddca"
      },
      "execution_count": 50,
      "outputs": [
        {
          "output_type": "stream",
          "name": "stdout",
          "text": [
            "{'Carp', 'Red Snapper'}\n"
          ]
        }
      ]
    },
    {
      "cell_type": "code",
      "source": [
        "# Intersection update method: intersection_update() - keeps only duplicates\n",
        "\n",
        "myFirstSet  = {\"Carp\", \"Bass\", \"Red Snapper\", \"Salmon\"}\n",
        "mySecondSet = {\"Carp\", \"Bass\", \"Red Snapper\", \"Salmon\"}\n",
        "\n",
        "myFirstSet.intersection_update(mySecondSet)\n",
        "\n",
        "print(myFirstSet)"
      ],
      "metadata": {
        "colab": {
          "base_uri": "https://localhost:8080/"
        },
        "id": "WTQJAXoDfDAY",
        "outputId": "6227b46c-1c9a-4ad9-810d-f3350f0f80b6"
      },
      "execution_count": 51,
      "outputs": [
        {
          "output_type": "stream",
          "name": "stdout",
          "text": [
            "{'Carp', 'Red Snapper', 'Bass', 'Salmon'}\n"
          ]
        }
      ]
    },
    {
      "cell_type": "code",
      "source": [
        "# Symmetric difference update method: symmetric_difference_update()\n",
        "\n",
        "myFirstSet  = {\"Carp\", \"Bass\", \"Red Snapper\", \"Salmon\"}\n",
        "mySecondSet = {\"Red Snapper\", \"Salmon\"}\n",
        "\n",
        "myFirstSet.symmetric_difference_update(mySecondSet)\n",
        "\n",
        "print(myFirstSet)\n"
      ],
      "metadata": {
        "colab": {
          "base_uri": "https://localhost:8080/"
        },
        "id": "q0HLwdScf3Jb",
        "outputId": "874c080a-472a-4f84-9b05-5dd6c8dc76ae"
      },
      "execution_count": 48,
      "outputs": [
        {
          "output_type": "stream",
          "name": "stdout",
          "text": [
            "{'Carp', 'Bass'}\n"
          ]
        }
      ]
    },
    {
      "cell_type": "code",
      "source": [
        "# Symmetric difference method: symmetric_difference() - duplicates are excluded\n",
        "\n",
        "myFirstSet  = {\"Bass\", \"Red Snapper\", \"Salmon\"}\n",
        "mySecondSet = {\"Carp\", \"Red Snapper\", \"Salmon\"}\n",
        "\n",
        "myThirdSet  = myFirstSet.symmetric_difference(mySecondSet)\n",
        "\n",
        "print(myThirdSet)"
      ],
      "metadata": {
        "colab": {
          "base_uri": "https://localhost:8080/"
        },
        "id": "i7cHAn0ngWI6",
        "outputId": "616c7719-fbe0-4b2a-b48b-0f1a7d1bd395"
      },
      "execution_count": 46,
      "outputs": [
        {
          "output_type": "stream",
          "name": "stdout",
          "text": [
            "{'Carp', 'Bass'}\n"
          ]
        }
      ]
    },
    {
      "cell_type": "code",
      "source": [
        "# Union method: union() - joints two sets with duplicates are being excluded\n",
        "\n",
        "myFirstSet  =  {\"Red Snapper\", \"Salmon\"}\n",
        "mySecondSet =  {\"Carp\", \"Bass\"}\n",
        "\n",
        "myThirdSet  = myFirstSet.union(mySecondSet)\n",
        "\n",
        "print(myThirdSet)"
      ],
      "metadata": {
        "colab": {
          "base_uri": "https://localhost:8080/"
        },
        "id": "_ZGA5yLTebn2",
        "outputId": "69116d64-deef-4b28-85cb-95e9e8e3b792"
      },
      "execution_count": 42,
      "outputs": [
        {
          "output_type": "stream",
          "name": "stdout",
          "text": [
            "{'Carp', 'Red Snapper', 'Bass', 'Salmon'}\n"
          ]
        }
      ]
    },
    {
      "cell_type": "markdown",
      "source": [
        "# Set operations\n",
        "\n",
        "---\n",
        "Some operations can be performed on sets.\n",
        "\n",
        "---"
      ],
      "metadata": {
        "id": "c6q5E3AZSfRD"
      }
    },
    {
      "cell_type": "code",
      "source": [
        "# Deleting the entire set\n",
        "\n",
        "myFishSet  =  {\"Carp\", \"Bass\", \"Red Snapper\", \"Salmon\"}\n",
        "\n",
        "del myFishSet"
      ],
      "metadata": {
        "id": "yOsBYLkmeI-i"
      },
      "execution_count": 41,
      "outputs": []
    },
    {
      "cell_type": "markdown",
      "source": [
        "**Comparison operators**\n",
        "\n",
        "* Equal:\tx == y\t\n",
        "* Not equal:\tx != y\t\n",
        "* Greater than:\tx > y\t\n",
        "* Less than:\tx < y\t\n",
        "* Greater than or equal to:\tx >= y\t\n",
        "* Less than or equal to:\tx <= y"
      ],
      "metadata": {
        "id": "uagFWAzYlKYW"
      }
    },
    {
      "cell_type": "code",
      "source": [
        "# Grater than\n",
        "myFirstVariable = 10.0\n",
        "mySecondVariable = 10.0\n",
        "if myFirstVariable>mySecondVariable:\n",
        "  print(\"True\")\n",
        "else:\n",
        "  print(\"False\")"
      ],
      "metadata": {
        "colab": {
          "base_uri": "https://localhost:8080/"
        },
        "outputId": "4ea621b1-db56-42c5-f205-9529b7cb12d9",
        "id": "lX72d5SJSVOK"
      },
      "execution_count": null,
      "outputs": [
        {
          "output_type": "stream",
          "name": "stdout",
          "text": [
            "False\n"
          ]
        }
      ]
    },
    {
      "cell_type": "code",
      "source": [
        "# Less than\n",
        "myFirstVariable = 10.0\n",
        "mySecondVariable = 10.0\n",
        "if myFirstVariable>mySecondVariable:\n",
        "  print(\"True\")\n",
        "else:\n",
        "  print(\"False\")"
      ],
      "metadata": {
        "colab": {
          "base_uri": "https://localhost:8080/"
        },
        "outputId": "5a0cc7cf-af49-4a50-b04b-90e86ef50a31",
        "id": "x8Up6YBhSvnr"
      },
      "execution_count": null,
      "outputs": [
        {
          "output_type": "stream",
          "name": "stdout",
          "text": [
            "False\n"
          ]
        }
      ]
    },
    {
      "cell_type": "code",
      "source": [
        "# Greater than or equal to\n",
        "myFirstVariable = 10.0\n",
        "mySecondVariable = 10.0\n",
        "if myFirstVariable>=mySecondVariable:\n",
        "  print(\"True\")\n",
        "else:\n",
        "  print(\"False\")"
      ],
      "metadata": {
        "colab": {
          "base_uri": "https://localhost:8080/"
        },
        "id": "VgG7LVQFSzTV",
        "outputId": "1b9decac-0940-4e81-8d39-416dc6bd37b3"
      },
      "execution_count": null,
      "outputs": [
        {
          "output_type": "stream",
          "name": "stdout",
          "text": [
            "True\n"
          ]
        }
      ]
    },
    {
      "cell_type": "code",
      "source": [
        "# Less than or equal to\n",
        "myFirstVariable = 10.0\n",
        "mySecondVariable = 10.0\n",
        "if myFirstVariable<=mySecondVariable:\n",
        "  print(\"True\")\n",
        "else:\n",
        "  print(\"False\")"
      ],
      "metadata": {
        "colab": {
          "base_uri": "https://localhost:8080/"
        },
        "id": "eSQ4W84gTDFO",
        "outputId": "ec4b6a02-bb41-40df-bbed-e8a27eb19abe"
      },
      "execution_count": null,
      "outputs": [
        {
          "output_type": "stream",
          "name": "stdout",
          "text": [
            "True\n"
          ]
        }
      ]
    },
    {
      "cell_type": "code",
      "source": [
        "# Short hand 1\n",
        "myFirstVariable = 10.0\n",
        "mySecondVariable = 10.0\n",
        "if myFirstVariable<=mySecondVariable:print(\"True\")\n",
        "else:print(\"False\")"
      ],
      "metadata": {
        "colab": {
          "base_uri": "https://localhost:8080/"
        },
        "outputId": "1bc70aae-4150-4530-bf7d-e1db6e8c3481",
        "id": "QvYoGjp7TTsn"
      },
      "execution_count": null,
      "outputs": [
        {
          "output_type": "stream",
          "name": "stdout",
          "text": [
            "True\n"
          ]
        }
      ]
    },
    {
      "cell_type": "code",
      "source": [
        "# Short hand 2\n",
        "myFirstVariable = 10.0\n",
        "mySecondVariable = 10.0\n",
        "print(\"True\")if myFirstVariable<=mySecondVariable else print(\"False\")"
      ],
      "metadata": {
        "colab": {
          "base_uri": "https://localhost:8080/"
        },
        "outputId": "2908b000-f916-4fdb-8225-21a46baa93d4",
        "id": "utE1Y3HzTk_I"
      },
      "execution_count": null,
      "outputs": [
        {
          "output_type": "stream",
          "name": "stdout",
          "text": [
            "True\n"
          ]
        }
      ]
    },
    {
      "cell_type": "code",
      "source": [
        "# Logical not operator\n",
        "myFirstVariable = 10.0\n",
        "mySecondVariable = 10.0\n",
        "myThirdVariable = 20.0\n",
        "if not myFirstVariable>myThirdVariable:\n",
        "  print(\"myFirstVariable is not greater than myThirdVariable\")\n",
        "else:\n",
        "  print(\"False\")"
      ],
      "metadata": {
        "colab": {
          "base_uri": "https://localhost:8080/"
        },
        "outputId": "125f680c-04a6-45d2-8856-5462c4257895",
        "id": "w5ZWafmIUvlW"
      },
      "execution_count": null,
      "outputs": [
        {
          "output_type": "stream",
          "name": "stdout",
          "text": [
            "myFirstVariable is not greater than myThirdVariable\n"
          ]
        }
      ]
    },
    {
      "cell_type": "markdown",
      "source": [
        "# Section 3: Control flow\n"
      ],
      "metadata": {
        "id": "ufdAAkIbhk9M"
      }
    },
    {
      "cell_type": "markdown",
      "source": [
        "# If ... else statements"
      ],
      "metadata": {
        "id": "AzboK5Nmc9lr"
      }
    },
    {
      "cell_type": "code",
      "source": [
        "#The decision control statements\n",
        "\n",
        "# if\n",
        "# if-else\n",
        "# nested if\n",
        "# if-elif-else"
      ],
      "metadata": {
        "id": "jjOHDceqejZh"
      },
      "execution_count": null,
      "outputs": []
    },
    {
      "cell_type": "code",
      "source": [
        "#The if statement\n",
        "myFirstVariable = 10\n",
        "if (myFirstVariable <=10): print(\"True\")"
      ],
      "metadata": {
        "colab": {
          "base_uri": "https://localhost:8080/"
        },
        "id": "oRWucK3we3g6",
        "outputId": "681c0cad-1dd4-473a-a265-db853ddee7f6"
      },
      "execution_count": null,
      "outputs": [
        {
          "output_type": "stream",
          "name": "stdout",
          "text": [
            "True\n"
          ]
        }
      ]
    },
    {
      "cell_type": "code",
      "source": [
        "#The if statement\n",
        "myFirstVariable = 20\n",
        "if (myFirstVariable%2==0): print(\"myFirstVariable is an even number\")"
      ],
      "metadata": {
        "colab": {
          "base_uri": "https://localhost:8080/"
        },
        "id": "arypVhlrfb87",
        "outputId": "edc5e2bd-4b8a-4508-d35a-80ccfadca677"
      },
      "execution_count": null,
      "outputs": [
        {
          "output_type": "stream",
          "name": "stdout",
          "text": [
            "myFirstVariable is an even number\n"
          ]
        }
      ]
    },
    {
      "cell_type": "code",
      "source": [
        "#The if-else statement\n",
        "myFirstVariable = 10\n",
        "if (myFirstVariable == 5): print(\"The value is 5\")\n",
        "else: print(\"The vlue is 10\")"
      ],
      "metadata": {
        "colab": {
          "base_uri": "https://localhost:8080/"
        },
        "id": "EeXiXiMcfMkz",
        "outputId": "1101640e-3a08-4ee3-a9f4-440f39aed0d3"
      },
      "execution_count": null,
      "outputs": [
        {
          "output_type": "stream",
          "name": "stdout",
          "text": [
            "The vlue is 10\n"
          ]
        }
      ]
    },
    {
      "cell_type": "code",
      "source": [
        "#The if-else statement - one line statements\n",
        "myFirstVariable = 11\n",
        "if (myFirstVariable % 2 == 0): print(\"My variable is even number\")\n",
        "else: print(\"My variable is an odd number\")"
      ],
      "metadata": {
        "colab": {
          "base_uri": "https://localhost:8080/"
        },
        "id": "IP_hJ45UgJeX",
        "outputId": "3df170f8-3c4c-42ac-b8df-0bd186c4bd05"
      },
      "execution_count": null,
      "outputs": [
        {
          "output_type": "stream",
          "name": "stdout",
          "text": [
            "My variable is an odd number\n"
          ]
        }
      ]
    },
    {
      "cell_type": "code",
      "source": [
        "#The nested if statements\n",
        "myFistVaraiable = 10\n",
        "mySecondVariable = 20\n",
        "myThirdVariable =30\n",
        "\n",
        "if (myFirstVariable > mySecondVariable):\n",
        "\n",
        "    if (myFirstVariable > myThirdVariable):\n",
        "      print(\"The value of myFirstVariable is too big\")\n",
        "    else:\n",
        "      print(\"My second variable is too big\")\n",
        "\n",
        "elif (mySecondVariable > myThirdVariable):\n",
        "  print(\"My second variable is too big\")\n",
        "\n",
        "else:\n",
        "  print(\"My first variable is too small\")"
      ],
      "metadata": {
        "colab": {
          "base_uri": "https://localhost:8080/"
        },
        "id": "J0oBb9LZhdIJ",
        "outputId": "ad01d2c5-c684-4493-e594-4cf9a7e2fb39"
      },
      "execution_count": null,
      "outputs": [
        {
          "output_type": "stream",
          "name": "stdout",
          "text": [
            "My first variable is too small\n"
          ]
        }
      ]
    },
    {
      "cell_type": "code",
      "source": [
        "#The if-elif-else statement\n",
        "myFirstVariable = 10\n",
        "mySecondVariable = 20\n",
        "\n",
        "if (myFirstVariable==mySecondVariable):\n",
        "  print(\"Both variables are equal\")\n",
        "elif (myFirstVariable > mySecondVariable):\n",
        "  print(\"The first variable is greater then the second one\")\n",
        "else:\n",
        "  print(\"My first variable is smaller than my second one\")"
      ],
      "metadata": {
        "id": "lAbgucsvi70W"
      },
      "execution_count": null,
      "outputs": []
    },
    {
      "cell_type": "markdown",
      "source": [
        "# For loops"
      ],
      "metadata": {
        "id": "H8Dj1zvhkvvG"
      }
    },
    {
      "cell_type": "code",
      "source": [
        "#The \"for\" loop\n",
        "myFirsrtList = [1,2,3,4,5]\n",
        "\n",
        "for i in myFirstList:\n",
        "  print(\"i \" + str(i))"
      ],
      "metadata": {
        "colab": {
          "base_uri": "https://localhost:8080/"
        },
        "id": "tWpwraWylN5H",
        "outputId": "1592520a-b501-4ae9-8cf5-78215f1a7cc4"
      },
      "execution_count": null,
      "outputs": [
        {
          "output_type": "stream",
          "name": "stdout",
          "text": [
            "i 1\n",
            "i 2\n",
            "i 3\n",
            "i 4\n",
            "i 5\n"
          ]
        }
      ]
    },
    {
      "cell_type": "code",
      "source": [
        "#The \"for\" loop statement\n",
        "\n",
        "myFirstList = [1,2,3,4,5]\n",
        "\n",
        "for i in range(len(myFirstList)):\n",
        "  print(myFirstList[i], end = \"\")\n",
        "\n",
        "  "
      ],
      "metadata": {
        "colab": {
          "base_uri": "https://localhost:8080/"
        },
        "id": "vWqvbDWAllpR",
        "outputId": "fbe8ac8f-4d59-4d50-8f1c-c3746463ebfc"
      },
      "execution_count": null,
      "outputs": [
        {
          "output_type": "stream",
          "name": "stdout",
          "text": [
            "12345"
          ]
        }
      ]
    },
    {
      "cell_type": "markdown",
      "source": [
        "# While loops \n",
        "\n",
        "\n",
        "---\n",
        "\n"
      ],
      "metadata": {
        "id": "ilRCeQflNdkk"
      }
    },
    {
      "cell_type": "code",
      "source": [
        "# The \"while\" loop statement\n",
        "\n",
        "myFirstVariable = 5\n",
        "i = 0\n",
        "\n",
        "while i < myFirstVariable:\n",
        "  print(i, end=\"\")\n",
        "  i+=1 # i = i +1"
      ],
      "metadata": {
        "colab": {
          "base_uri": "https://localhost:8080/"
        },
        "id": "iONeLn_OmUML",
        "outputId": "632621d7-622d-4f33-8b54-b507a690dd55"
      },
      "execution_count": null,
      "outputs": [
        {
          "output_type": "stream",
          "name": "stdout",
          "text": [
            "01234"
          ]
        }
      ]
    },
    {
      "cell_type": "code",
      "source": [
        "#The \"while\" loop statement\n",
        "myFirstVariable = 10\n",
        "i = 0\n",
        "\n",
        "while i<=myFirstVariable:\n",
        "  i+=1\n",
        "  print(i, end=\"\")"
      ],
      "metadata": {
        "colab": {
          "base_uri": "https://localhost:8080/"
        },
        "id": "O6w9WQ6Km_Jv",
        "outputId": "51d6eca2-4307-4054-f2c6-3618ca352c2f"
      },
      "execution_count": null,
      "outputs": [
        {
          "output_type": "stream",
          "name": "stdout",
          "text": [
            "1234567891011"
          ]
        }
      ]
    },
    {
      "cell_type": "markdown",
      "source": [
        "# The break and continue statements\n"
      ],
      "metadata": {
        "id": "bM6lXGQ0nu98"
      }
    },
    {
      "cell_type": "code",
      "source": [
        "#The break statement\n",
        "\n",
        "i = 0\n",
        "while i < 5:\n",
        "  print(i)\n",
        "  if i ==4: \n",
        "    break     #stops the loop even with the while condition is being true\n",
        "  i+=1"
      ],
      "metadata": {
        "colab": {
          "base_uri": "https://localhost:8080/"
        },
        "id": "KegP_whenyWD",
        "outputId": "e3882358-7acf-4d4b-9466-f4b6976a9e3c"
      },
      "execution_count": null,
      "outputs": [
        {
          "output_type": "stream",
          "name": "stdout",
          "text": [
            "0\n",
            "1\n",
            "2\n",
            "3\n",
            "4\n"
          ]
        }
      ]
    },
    {
      "cell_type": "code",
      "source": [
        "#The while continue statement\n",
        "\n",
        "i = 0\n",
        "while i < 5:\n",
        "  i+=1\n",
        "  if i==4:\n",
        "    continue\n",
        "  print(i)"
      ],
      "metadata": {
        "colab": {
          "base_uri": "https://localhost:8080/"
        },
        "id": "GL4LSwifoWp_",
        "outputId": "e4548a31-5d53-4359-b49f-743dfb55b310"
      },
      "execution_count": null,
      "outputs": [
        {
          "output_type": "stream",
          "name": "stdout",
          "text": [
            "1\n",
            "2\n",
            "3\n",
            "5\n"
          ]
        }
      ]
    },
    {
      "cell_type": "code",
      "source": [
        "#The else statement\n",
        "\n",
        "i = 0\n",
        "\n",
        "while i < 5:\n",
        "  print(i)\n",
        "  i+=1\n",
        "else:\n",
        "  print(\"i is not less than 5 anymore\")\n"
      ],
      "metadata": {
        "colab": {
          "base_uri": "https://localhost:8080/"
        },
        "id": "6kiTek88oo5y",
        "outputId": "3a08c3e8-15b9-4a60-e614-958d3e956576"
      },
      "execution_count": null,
      "outputs": [
        {
          "output_type": "stream",
          "name": "stdout",
          "text": [
            "0\n",
            "1\n",
            "2\n",
            "3\n",
            "4\n",
            "i is not less than 5 anymore\n"
          ]
        }
      ]
    },
    {
      "cell_type": "markdown",
      "source": [
        "# Section 4: Functions"
      ],
      "metadata": {
        "id": "7fTzpI_2ctcu"
      }
    },
    {
      "cell_type": "markdown",
      "source": [
        "# User defined functions\n",
        "\n",
        "---\n",
        "Function is a block of code orginized to perform a specific action. Python language provides many built-in functions like print(). However, you can create your own functions that are usually called user-define functions. Functions help to improve readibility and usability of your code. There are a few rules to define a function. \n",
        "\n",
        "1. A function declared using the def keyword following by a function name and parenthesis, and ending with a column.\n",
        "2. Parameters can be placed inside of the paranthesis.\n",
        "3. The code block or multiple statements should be indented.\n",
        "4. The return statement will exit the function and pass a result to the caller.\n",
        "\n",
        "---\n",
        "\n",
        "Syntax: **def functionName(parameters): function body return a value**\n"
      ],
      "metadata": {
        "id": "Wg0zS8uzfmxy"
      }
    },
    {
      "cell_type": "code",
      "source": [
        "# Defining an empty function\n",
        "\n",
        "def myEmptyFunction(): #Function definition\n",
        "    pass"
      ],
      "metadata": {
        "id": "vo7eK4VRgGoX"
      },
      "execution_count": null,
      "outputs": []
    },
    {
      "cell_type": "code",
      "source": [
        "# Defining myFirstFunction\n",
        "\n",
        "def myFirstFunction():  \n",
        "  print(\"Hello World!\")  #Body statement"
      ],
      "metadata": {
        "id": "CmxKjXaipd6l"
      },
      "execution_count": null,
      "outputs": []
    },
    {
      "cell_type": "code",
      "source": [
        "# Defining function and making a call \n",
        "\n",
        "def myFirstFunction():    # Function definition\n",
        "  print(\"Hello World!\")   # Body statement\n",
        "\n",
        "myFirstFunction()         # Function call"
      ],
      "metadata": {
        "colab": {
          "base_uri": "https://localhost:8080/"
        },
        "id": "umNfb4qcey1Q",
        "outputId": "11db4691-33a8-4eff-aa08-7322b9c98c9c"
      },
      "execution_count": null,
      "outputs": [
        {
          "output_type": "stream",
          "name": "stdout",
          "text": [
            "Hello World!\n"
          ]
        }
      ]
    },
    {
      "cell_type": "code",
      "source": [
        "# Defining function in one line\n",
        "\n",
        "def myFirstFunction(): print(\"Hello World!\") \n",
        "\n",
        "myFirstFunction()"
      ],
      "metadata": {
        "colab": {
          "base_uri": "https://localhost:8080/"
        },
        "id": "A7HTNeh5gYbE",
        "outputId": "5b7348f4-66cc-478f-ab68-3cebd954a453"
      },
      "execution_count": null,
      "outputs": [
        {
          "output_type": "stream",
          "name": "stdout",
          "text": [
            "Hello World!\n"
          ]
        }
      ]
    },
    {
      "cell_type": "code",
      "source": [
        "# Defining function with a return value in one line\n",
        "\n",
        "def myFirstFunction(): return 2+3\n",
        "print(myFirstFunction())\n"
      ],
      "metadata": {
        "colab": {
          "base_uri": "https://localhost:8080/"
        },
        "id": "46Fzh95PgqGX",
        "outputId": "3f774c2a-75e4-40ea-d071-4cc13f3426d5"
      },
      "execution_count": null,
      "outputs": [
        {
          "output_type": "stream",
          "name": "stdout",
          "text": [
            "5\n"
          ]
        }
      ]
    },
    {
      "cell_type": "code",
      "source": [
        "# Functions\n",
        "\n",
        "def mySecondFunction(PersonsName):\n",
        "  print(PersonsName)\n",
        "\n",
        "mySecondFunction(\"Olaf\")\n",
        "mySecondFunction(\"Kalfeoie\")"
      ],
      "metadata": {
        "colab": {
          "base_uri": "https://localhost:8080/"
        },
        "id": "boytjDE8pq3n",
        "outputId": "5d5da82b-17c2-416a-d825-fb309706a093"
      },
      "execution_count": null,
      "outputs": [
        {
          "output_type": "stream",
          "name": "stdout",
          "text": [
            "Olaf\n",
            "Kalfeoie\n"
          ]
        }
      ]
    },
    {
      "cell_type": "markdown",
      "source": [
        "# Parameters vs arguments\n",
        "\n",
        "A parameter placed inside of the parenthesis when function is defined.\n",
        "An argument passed to the function when function is called. You can \n",
        "call a function with the following arguments:\n",
        "\n",
        "1. Required arguments\n",
        "2. Keyword arguments\n",
        "3. Default arguments\n",
        "\n",
        "It is also important to provide the same number of arguments as defined parameters.\n"
      ],
      "metadata": {
        "id": "m3KHxwxemXUW"
      }
    },
    {
      "cell_type": "code",
      "source": [
        "# Functions: parameter - inside of the parenthesis of function defenition.\n",
        "# Functions: argument - passed to the function when function is called.\n",
        "\n",
        "def myThirdFunction(myFirstName, mySecondName ): #parameters inside of the ()\n",
        "  print(myFirstName + \"  \" + mySecondName)\n",
        "\n",
        "myThirdFunction(\"Olaf\", \"Kalfeoie\") #arguments passed to the function"
      ],
      "metadata": {
        "colab": {
          "base_uri": "https://localhost:8080/"
        },
        "id": "5i5F-obtqTLl",
        "outputId": "1679bab8-903c-4686-a36a-8c2ed7ca0de8"
      },
      "execution_count": null,
      "outputs": [
        {
          "output_type": "stream",
          "name": "stdout",
          "text": [
            "Olaf  Kalfeoie\n"
          ]
        }
      ]
    },
    {
      "cell_type": "code",
      "source": [
        "# Arbitrary number of arguments\n",
        "\n",
        "def myFifthFunction(*names):\n",
        "  print(names)\n",
        "\n",
        "myFifthFunction(\"Olaf\", \"Stella\", \"Klaus\", \"Kontrate\")"
      ],
      "metadata": {
        "colab": {
          "base_uri": "https://localhost:8080/"
        },
        "id": "nqFeTyLUrQeW",
        "outputId": "b59393f2-1672-43c8-eece-748127d04d75"
      },
      "execution_count": null,
      "outputs": [
        {
          "output_type": "stream",
          "name": "stdout",
          "text": [
            "('Olaf', 'Stella', 'Klaus', 'Kontrate')\n"
          ]
        }
      ]
    },
    {
      "cell_type": "code",
      "source": [
        "# Sending arguments with the key=value syntax\n",
        "\n",
        "def myRegularFunction(name1, name2, name3):\n",
        "  print(name1, name2, name3)\n",
        "\n",
        "myRegularFunction(name1=\"Olaf\", name2=\"Holiaf\", name3=\"Linux\")"
      ],
      "metadata": {
        "colab": {
          "base_uri": "https://localhost:8080/"
        },
        "id": "oCkZZY-GsPdH",
        "outputId": "0d5b8c0b-3fc0-4ca4-8c31-3671ca03a5ce"
      },
      "execution_count": null,
      "outputs": [
        {
          "output_type": "stream",
          "name": "stdout",
          "text": [
            "Olaf Holiaf Linux\n"
          ]
        }
      ]
    },
    {
      "cell_type": "markdown",
      "source": [
        "# Global and local variables"
      ],
      "metadata": {
        "id": "mHnCtEfthjdC"
      }
    },
    {
      "cell_type": "code",
      "source": [
        "# Global variable\n",
        "myGlobalVariable = \"cool!\"\n",
        "\n",
        "def myfunc():\n",
        "  print(\"Python is \" + myGlobalVariable)\n",
        "\n",
        "myfunc()"
      ],
      "metadata": {
        "id": "MdPiV7DsR2iP",
        "colab": {
          "base_uri": "https://localhost:8080/"
        },
        "outputId": "2b015328-8fd2-44a1-8a51-1684ebf5dcbc"
      },
      "execution_count": null,
      "outputs": [
        {
          "output_type": "stream",
          "name": "stdout",
          "text": [
            "Python is cool!\n"
          ]
        }
      ]
    },
    {
      "cell_type": "code",
      "source": [
        "# Global and local variables\n",
        "\n",
        "myGlobalVariable = \"awesome\"\n",
        "\n",
        "def myfunc():\n",
        "  myLocalVariable = \"fantastic\"\n",
        "  print(\"Python is \" + myGlobalVariable + \"!\"+\"- from function\") \n",
        "  print(\"Python is \" + myLocalVariable + \"!\" + \"- from function\")\n",
        "\n",
        "myfunc()\n",
        "\n",
        "#print(\"Python is \" + myLocalVariable)"
      ],
      "metadata": {
        "id": "o7apT8-SSt8z",
        "colab": {
          "base_uri": "https://localhost:8080/"
        },
        "outputId": "abcc3264-1eac-4096-8730-22675c117b4e"
      },
      "execution_count": null,
      "outputs": [
        {
          "output_type": "stream",
          "name": "stdout",
          "text": [
            "Python is awesome!- from function\n",
            "Python is fantastic!- from function\n"
          ]
        }
      ]
    },
    {
      "cell_type": "code",
      "source": [
        "# How can you create a global variable in the local scope\n",
        "myGlobalVariable = \"awesome\"\n",
        "\n",
        "def myfunc():\n",
        "    global myLocalVariable \n",
        "    myLocalVariable = \"fantastic\"\n",
        "    print(\"Python is \" + myGlobalVariable + \"!\")\n",
        "    print(\"Python is \" + myLocalVariable + \"!\")\n",
        "\n",
        "myfunc()\n",
        "\n",
        "print(\"Python is \" + myLocalVariable + \"!\")"
      ],
      "metadata": {
        "id": "-SYqmQRRT_fm",
        "colab": {
          "base_uri": "https://localhost:8080/"
        },
        "outputId": "4467b97b-0f70-44dc-8055-6b4642527fbd"
      },
      "execution_count": null,
      "outputs": [
        {
          "output_type": "stream",
          "name": "stdout",
          "text": [
            "Python is awesome!\n",
            "Python is fantastic!\n",
            "Python is fantastic!\n"
          ]
        }
      ]
    },
    {
      "cell_type": "markdown",
      "source": [
        "The keyword arguments are often shortened as kwargs "
      ],
      "metadata": {
        "id": "2FBaqL8XsuBm"
      }
    },
    {
      "cell_type": "code",
      "source": [
        "#If the number of key words arguments is unknown\n",
        "\n",
        "def myRegularFunction(**kwargs):\n",
        "  print(kwargs)\n",
        "\n",
        "myRegularFunction(myFirstName = \"Oleaf\", myLastName=\"Kwwiec\", myMiddleName = \"Komntras\")"
      ],
      "metadata": {
        "colab": {
          "base_uri": "https://localhost:8080/"
        },
        "id": "OFBpGrPCs21Z",
        "outputId": "d94daef4-de1e-4f3e-b9b0-ebe49482d03d"
      },
      "execution_count": null,
      "outputs": [
        {
          "output_type": "stream",
          "name": "stdout",
          "text": [
            "{'myFirstName': 'Oleaf', 'myLastName': 'Kwwiec', 'myMiddleName': 'Komntras'}\n"
          ]
        }
      ]
    },
    {
      "cell_type": "code",
      "source": [
        "# default parameter in function statement\n",
        "\n",
        "def myRegularFunction(x,y,z=10):\n",
        "  print(x,\" \",y,\" \", z)\n",
        "\n",
        "myRegularFunction(0.2, 0.35)\n",
        "myRegularFunction(0.3, 0.45, 23456)"
      ],
      "metadata": {
        "colab": {
          "base_uri": "https://localhost:8080/"
        },
        "id": "LwyW8wd8tx1Y",
        "outputId": "7f197bec-14fc-4b8a-c225-291e8bf13975"
      },
      "execution_count": null,
      "outputs": [
        {
          "output_type": "stream",
          "name": "stdout",
          "text": [
            "0.2   0.35   10\n",
            "0.3   0.45   23456\n"
          ]
        }
      ]
    },
    {
      "cell_type": "code",
      "source": [
        "#Function overlaoding is not supported\n",
        "\n",
        "def MyOverloadingFunction(x=52):\n",
        "  print(x)\n",
        "\n",
        "MyOverloadingFunction(1.0)\n",
        "print(MyOverloadingFunction())\n"
      ],
      "metadata": {
        "colab": {
          "base_uri": "https://localhost:8080/"
        },
        "id": "uFksla-JudRS",
        "outputId": "22c72016-f443-4380-91f8-2cb251b2f04f"
      },
      "execution_count": null,
      "outputs": [
        {
          "output_type": "stream",
          "name": "stdout",
          "text": [
            "1.0\n",
            "52\n",
            "None\n"
          ]
        }
      ]
    },
    {
      "cell_type": "code",
      "source": [
        "#Passing a list of arguments\n",
        "\n",
        "def myRegularFunction(fish):\n",
        "  for i in fish:\n",
        "    print(i)\n",
        "\n",
        "fish=[\"Carp\",\"Bass\",\"Red Snapper\", \"Labeo culbasu\", \"Chanda Nama\", \"Ruffe\"]\n",
        "\n",
        "myRegularFunction(fish)"
      ],
      "metadata": {
        "colab": {
          "base_uri": "https://localhost:8080/"
        },
        "id": "ylLWPkYKvhGi",
        "outputId": "c9a6a178-64e4-4986-8938-f42e5a5da6ae"
      },
      "execution_count": null,
      "outputs": [
        {
          "output_type": "stream",
          "name": "stdout",
          "text": [
            "Carp\n",
            "Bass\n",
            "Red Snapper\n",
            "Labeo culbasu\n",
            "Chanda Nama\n",
            "Ruffe\n"
          ]
        }
      ]
    },
    {
      "cell_type": "code",
      "source": [
        "#To return the value of the function use return statement\n",
        "\n",
        "def myMathFunction(x,y,z):\n",
        "  return(x+y+z)\n",
        "\n",
        "myMathFunction(1,2,3)"
      ],
      "metadata": {
        "colab": {
          "base_uri": "https://localhost:8080/"
        },
        "id": "O-Br9VO4wAKo",
        "outputId": "f297ec56-c0ac-494a-d1be-04569bec9520"
      },
      "execution_count": null,
      "outputs": [
        {
          "output_type": "execute_result",
          "data": {
            "text/plain": [
              "6"
            ]
          },
          "metadata": {},
          "execution_count": 188
        }
      ]
    },
    {
      "cell_type": "code",
      "source": [
        "#Recursion function - can call itself (5! = 1*2*3*4*5)\n",
        "\n",
        "def myRecursiveFunction(x):\n",
        "  \"\"\" This is a recursive function to find a fuctorial\"\"\"\n",
        "  if x ==1:\n",
        "    return 1;\n",
        "  else:\n",
        "    return (x * myRecursiveFunction(x-1))\n",
        "\n",
        "x = 5\n",
        "print(\"The factorial of x\", x, \"is\", myRecursiveFunction(x))\n"
      ],
      "metadata": {
        "colab": {
          "base_uri": "https://localhost:8080/"
        },
        "id": "p3SipIbNxsp1",
        "outputId": "94f26048-ca87-4f11-cb17-02fe14c4e554"
      },
      "execution_count": null,
      "outputs": [
        {
          "output_type": "stream",
          "name": "stdout",
          "text": [
            "The factorial of x 5 is 120\n"
          ]
        }
      ]
    },
    {
      "cell_type": "markdown",
      "source": [
        "# Lambda function"
      ],
      "metadata": {
        "id": "AEUhSBDteg5a"
      }
    },
    {
      "cell_type": "code",
      "source": [
        "# A lambda function can take any number of arguments but have only one expression\n",
        "# lambda arguments : expression\n",
        "\n",
        "myLambdaFunction = lambda a: a+10\n",
        "print(myLambdaFunction(10))"
      ],
      "metadata": {
        "colab": {
          "base_uri": "https://localhost:8080/"
        },
        "id": "42tLupuqzKxu",
        "outputId": "2f1a9796-6cbd-4db3-b678-d5ffae941629"
      },
      "execution_count": null,
      "outputs": [
        {
          "output_type": "stream",
          "name": "stdout",
          "text": [
            "20\n"
          ]
        }
      ]
    },
    {
      "cell_type": "code",
      "source": [
        "# Multiple arguments\n",
        "\n",
        "myLambdaFunction = lambda a, b : a*b\n",
        "print(myLambdaFunction(64, 256))"
      ],
      "metadata": {
        "colab": {
          "base_uri": "https://localhost:8080/"
        },
        "id": "jxCiwzbN0PP8",
        "outputId": "e25d450e-4cf9-4e8a-86be-938860b7aecb"
      },
      "execution_count": null,
      "outputs": [
        {
          "output_type": "stream",
          "name": "stdout",
          "text": [
            "16384\n"
          ]
        }
      ]
    },
    {
      "cell_type": "code",
      "source": [
        "# Multiple arguments\n",
        "\n",
        "myLambdaFunction = lambda a, b, c : (a + b)/c\n",
        "\n",
        "print(myLambdaFunction(0.3, 0.4, 1.23))\n"
      ],
      "metadata": {
        "colab": {
          "base_uri": "https://localhost:8080/"
        },
        "id": "hXOZHJET0j2h",
        "outputId": "df0604c4-597c-4e21-97ae-c604fcd593ac"
      },
      "execution_count": null,
      "outputs": [
        {
          "output_type": "stream",
          "name": "stdout",
          "text": [
            "0.5691056910569106\n"
          ]
        }
      ]
    },
    {
      "cell_type": "markdown",
      "source": [
        "# User input\n",
        "\n",
        "\n",
        "---\n",
        "User input is allowed in python. The input() method (python 3.6) or raw_input method in python (2.7) can be used.\n"
      ],
      "metadata": {
        "id": "Qww9K1IrvtMy"
      }
    },
    {
      "cell_type": "code",
      "source": [
        "#The user input\n",
        "\n",
        "userName = input(\"Enter your user name plz: \\n\")\n",
        "\n",
        "print(\"Your username is: \" + userName)"
      ],
      "metadata": {
        "colab": {
          "base_uri": "https://localhost:8080/"
        },
        "id": "MCyFZIP6wN8F",
        "outputId": "07d52a4c-e105-4749-eb11-1743f1d511bb"
      },
      "execution_count": null,
      "outputs": [
        {
          "output_type": "stream",
          "name": "stdout",
          "text": [
            "Enter your user name plz: \n",
            "Daniel\n",
            "Your username is: Daniel\n"
          ]
        }
      ]
    },
    {
      "cell_type": "markdown",
      "source": [
        "# File I/O"
      ],
      "metadata": {
        "id": "1tFhadtVhsYr"
      }
    },
    {
      "cell_type": "markdown",
      "source": [
        "Files in pyhton can be created, read, appended, ...\n",
        "**open()** function can be used to work with files in python. This function takes to parameters: **filename** and **mode**. \n",
        "\n",
        "\n",
        "---\n",
        "**Methods for opening a file**\n",
        "\n",
        "\"**r**\" - **Read** - Default value. Opens a file for reading, error if the file does not exist\n",
        "\n",
        "\"**a**\" - **Append** - Opens a file for appending, creates the file if it does not exist\n",
        "\n",
        "\"**w**\" - **Write** - Opens a file for writing, creates the file if it does not exist\n",
        "\n",
        "\"**x**\" - **Create** - Creates the specified file, returns an error if the file exists\n",
        "\n",
        "\n",
        "---\n",
        "\n",
        "**In the text or binary modes**\n",
        "\n",
        "\"**t**\" - Text - Default value. Text mode\n",
        "\n",
        "\"**b**\" - Binary - Binary mode (e.g. images)\n",
        "\n",
        "---\n",
        "\n",
        "**file_object = open(\"filename\", \"mode\")**\n"
      ],
      "metadata": {
        "id": "VWNT4omSyZJd"
      }
    },
    {
      "cell_type": "code",
      "source": [
        "#To open a file - requires explicit closing\n",
        "myFirstFile=open(\"myDataFile.txt\", \"rt\")\n",
        "myFirstFile.close() #Close the file when you are finished.\n"
      ],
      "metadata": {
        "id": "atZC5_fvzbE4"
      },
      "execution_count": null,
      "outputs": []
    },
    {
      "cell_type": "code",
      "source": [
        "#to open a file\n",
        "myFirstFile=open(\"myDataFile.txt\", \"r\")\n",
        "\n",
        "myFirstFile.read()\n",
        "myFirstFile.readline()\n",
        "\n",
        "myFirstFile.close() #Close the file when you are finished."
      ],
      "metadata": {
        "id": "NOXK2KZizzPo"
      },
      "execution_count": null,
      "outputs": []
    },
    {
      "cell_type": "code",
      "source": [
        "#loop for the entire file\n",
        "myFirstFile=open(\"myDataFile.txt\", \"r\")\n",
        "\n",
        "for i in myFirstFile:\n",
        "  print(i)\n",
        "\n",
        "myFirstFile.close() #Close the file when you are finished."
      ],
      "metadata": {
        "id": "ZXnx5l380U6c"
      },
      "execution_count": null,
      "outputs": []
    },
    {
      "cell_type": "code",
      "source": [
        "#To write to a file you need to use \"a\" parameter\n",
        "\n",
        "myFirstFile=open(\"myDataFile.txt\", \"a\")\n",
        "myFirstFile.write(\"It is going to the end of a file\")\n",
        "\n",
        "myFirstFile.close() #Close the file when you are finished.\n",
        "\n",
        "#open and read the file after the appending\n",
        "\n",
        "myFirstFile=open(\"myDataFile.txt\", \"r\")\n",
        "print(myFirstFile.read())\n",
        "\n",
        "myFirstFile.close() #Close the file when you are finished."
      ],
      "metadata": {
        "id": "9Rig5pof07Ex"
      },
      "execution_count": null,
      "outputs": []
    },
    {
      "cell_type": "markdown",
      "source": [
        "Creating a new file\n",
        "\n",
        "\n",
        "---\n",
        "**\"x\"** - **Create** - \"will create a file, returns an error if the file exist.\"\n",
        "\n",
        "**\"a\"** - **Append** - \"will create a file if the specified file does not exist.\"\n",
        "\n",
        "**\"w\"** - **Write** - \"will create a file if the specified file does not exist.\"\n"
      ],
      "metadata": {
        "id": "Vp08HtUm1mIo"
      }
    },
    {
      "cell_type": "code",
      "source": [
        "#Creating a new file\n",
        "myFirstFile=open(\"myDataFile.txt\", \"x\") # a new and empty file is created\n",
        "myFirstFile=open(\"myDataFile.txt\", \"w\") # if there is no file, it will be created."
      ],
      "metadata": {
        "id": "5pPLB68H1ju1"
      },
      "execution_count": null,
      "outputs": []
    },
    {
      "cell_type": "code",
      "source": [
        "#Deleting the file you need to iport the os module\n",
        "import os\n",
        "if os.path.exists(\"myDataFile.txt\"):\n",
        "  os.remove(\"myDataFile.txt\")\n",
        "else:\n",
        "  print(\"This file does not exist\")"
      ],
      "metadata": {
        "colab": {
          "base_uri": "https://localhost:8080/"
        },
        "id": "IxNAreqU2S12",
        "outputId": "093ddd10-7e84-463b-abac-62ef0c818ce1"
      },
      "execution_count": null,
      "outputs": [
        {
          "output_type": "stream",
          "name": "stdout",
          "text": [
            "This file does not exist\n"
          ]
        }
      ]
    },
    {
      "cell_type": "code",
      "source": [
        "#Deleting the entire folder\n",
        "import os\n",
        "\n",
        "os.rmdir(\"myFolder\")"
      ],
      "metadata": {
        "id": "ujyMAxjC2wJR"
      },
      "execution_count": null,
      "outputs": []
    },
    {
      "cell_type": "markdown",
      "source": [
        "Using the **open()** method requires you to use **close()** method to close the file.\n",
        "\n",
        "**\"with\"** option allows to open files as it returns a file object, which has methods and attributes to manipulate the files.\n",
        "\n",
        "---\n",
        "**with open(\"myDataFile.txt) as file:**\n",
        "\n"
      ],
      "metadata": {
        "id": "QtKPdXsP3maX"
      }
    },
    {
      "cell_type": "code",
      "source": [
        "#Using \"with\" - no explicit closing of a file\n",
        "\n",
        "with open(\"myDataFile.txt\", \"w\") as myFirstFile:\n",
        "  myFirstFile.write(\"Hello World!\")\n",
        "\n",
        "#You do not need to close it explicitely "
      ],
      "metadata": {
        "id": "496pG5655Div"
      },
      "execution_count": null,
      "outputs": []
    },
    {
      "cell_type": "markdown",
      "source": [
        "**print()**\n",
        "\n",
        "\n",
        "---\n",
        "Print function is usually used for to print python objects \n",
        "as standard output.\n",
        "\n",
        "The syntax of this function is as follows:\n",
        "\n",
        "**print(objects, sep, end, file, flush)**\n",
        "\n",
        "**objects** - strings, tuples, lists, etc. \n",
        "\n",
        "**sep** - an optional parameter that is used to define a separation.\n",
        "\n",
        "**end** - an optional parameter that is used to define an end of a string printed.\n",
        "\n",
        "**file** - an optional parameter when writing to the file.\n",
        "\n",
        "**flush** - an optional boolean parameter setting flushed or buffered output.\n"
      ],
      "metadata": {
        "id": "Zk_SMAm04wBR"
      }
    },
    {
      "cell_type": "code",
      "source": [
        "#Printing the objects\n",
        "\n",
        "myList=[1,2,3,4,5]\n",
        "myTuple=(1,2,3,4,5)\n",
        "myString=\"1,2,3,4,5\"\n",
        "\n",
        "print(myList, myTuple, myString)"
      ],
      "metadata": {
        "colab": {
          "base_uri": "https://localhost:8080/"
        },
        "id": "5PogbvQP6fF4",
        "outputId": "829843ed-1e7d-4694-abfe-35526ed09aef"
      },
      "execution_count": null,
      "outputs": [
        {
          "output_type": "stream",
          "name": "stdout",
          "text": [
            "[1, 2, 3, 4, 5] (1, 2, 3, 4, 5) 1,2,3,4,5\n"
          ]
        }
      ]
    },
    {
      "cell_type": "code",
      "source": [
        "#Printing objects with a separator\n",
        "myList=[1,2,3,4,5]\n",
        "myTuple=(1,2,3,4,5)\n",
        "myString=\"1,2,3,4,5\"\n",
        "\n",
        "print(myList, myTuple, myString, sep=\"/\")"
      ],
      "metadata": {
        "colab": {
          "base_uri": "https://localhost:8080/"
        },
        "id": "_m1jkA966-ZC",
        "outputId": "0fc1faa2-ba2d-4ab4-ba58-21c5e56e5e67"
      },
      "execution_count": null,
      "outputs": [
        {
          "output_type": "stream",
          "name": "stdout",
          "text": [
            "[1, 2, 3, 4, 5]/(1, 2, 3, 4, 5)/1,2,3,4,5\n"
          ]
        }
      ]
    },
    {
      "cell_type": "code",
      "source": [
        "#String to be printed to the end\n",
        "myList=[1,2,3,4,5]\n",
        "myTuple=(1,2,3,4,5)\n",
        "myString=\"1,2,3,4,5\"\n",
        "\n",
        "print(myList, myTuple, myString, sep=\"*\", end=\"/\")"
      ],
      "metadata": {
        "colab": {
          "base_uri": "https://localhost:8080/"
        },
        "id": "kRAkXYEC7NRb",
        "outputId": "e7302edd-d4f1-4b49-839b-f09b0810cf35"
      },
      "execution_count": null,
      "outputs": [
        {
          "output_type": "stream",
          "name": "stdout",
          "text": [
            "[1, 2, 3, 4, 5]*(1, 2, 3, 4, 5)*1,2,3,4,5/"
          ]
        }
      ]
    },
    {
      "cell_type": "code",
      "source": [
        "#Using flush command\n",
        "import time \n",
        "countSeconds = 3\n",
        "for i in reversed(range(countSeconds + 1)):\n",
        "  if i> 0:\n",
        "    print(i, end=\"/\", flush=True) #flush specifies if it is flushed (True) or buffered (False)\n",
        "    time.sleep(1)\n",
        "  else:\n",
        "    print('End of a file')"
      ],
      "metadata": {
        "colab": {
          "base_uri": "https://localhost:8080/"
        },
        "id": "DoHFBSLi8_wx",
        "outputId": "42434187-3b9f-42fe-a6c2-94f8c75518fa"
      },
      "execution_count": null,
      "outputs": [
        {
          "output_type": "stream",
          "name": "stdout",
          "text": [
            "3/2/1/End of a file\n"
          ]
        }
      ]
    },
    {
      "cell_type": "markdown",
      "source": [
        "print() output formatting\n",
        "\n",
        "---\n",
        "General syntax for a format placeholder: \n",
        "\n",
        "**%**[flags][width][.precision]**type**\n",
        "\n",
        "**type:** **%s** -string; **%d** - integer, **%f** - float, **%e** - exponent \n",
        "\n",
        "**%x** - hexadecimal integer"
      ],
      "metadata": {
        "id": "RP6FalHu_XVv"
      }
    },
    {
      "cell_type": "code",
      "source": [
        "# Output formatting in python \n",
        "# This program is showing how to use\n",
        "# string modulo operator(%) to print various data types\n",
        " \n",
        "# print integer and float value\n",
        "print(\"Integer number : %2d, float number : %5.2f\" % (11, 05.333))\n",
        " \n",
        "# print integer value\n",
        "print(\"Total students : %3d, Boys : %2d\" % (240, 120))\n",
        "\n",
        "# print octal value\n",
        "print(\"%7.3o\" % (25))\n",
        "\n",
        "# print integer value\n",
        "print(\"%7.3d\" % (25))\n",
        "\n",
        "# print exponential value\n",
        "print(\"%10.3e\" % (356.08977))"
      ],
      "metadata": {
        "colab": {
          "base_uri": "https://localhost:8080/"
        },
        "id": "wvwhB3nG-HeZ",
        "outputId": "45a0c390-96a6-4bc4-80f9-50b08914d61b"
      },
      "execution_count": null,
      "outputs": [
        {
          "output_type": "stream",
          "name": "stdout",
          "text": [
            "Integer number : 11, float number :  5.33\n",
            "Total students : 240, Boys : 120\n",
            "    031\n",
            "    025\n",
            " 3.561e+02\n"
          ]
        }
      ]
    },
    {
      "cell_type": "code",
      "source": [
        "# Output formatting in python \n",
        "# This program is showing how to use\n",
        "# string modulo operator(%) to print various data types\n",
        "print('%d %s cost $%.2f' % (3, 'oranges', 5.11))"
      ],
      "metadata": {
        "colab": {
          "base_uri": "https://localhost:8080/"
        },
        "id": "wLuaHaR8F_Y9",
        "outputId": "1bfcdd40-0bed-4e85-ca22-af68821c35fd"
      },
      "execution_count": null,
      "outputs": [
        {
          "output_type": "stream",
          "name": "stdout",
          "text": [
            "3 oranges cost $5.11\n"
          ]
        }
      ]
    },
    {
      "cell_type": "code",
      "source": [
        "#Python’s string.format() method is used instead\n",
        "print('{0} {1} cost ${2}'.format(3, 'oranges', 5.11))\n",
        "#     |-----------------|.format|--------------------------|\n",
        "#           template     .format    positional arguments"
      ],
      "metadata": {
        "colab": {
          "base_uri": "https://localhost:8080/"
        },
        "id": "7doVvSOuGnvT",
        "outputId": "9594e93d-70b8-4096-8d9a-c03ea7a40060"
      },
      "execution_count": null,
      "outputs": [
        {
          "output_type": "stream",
          "name": "stdout",
          "text": [
            "3 oranges cost $5.11\n"
          ]
        }
      ]
    },
    {
      "cell_type": "code",
      "source": [
        "#Using keword parameters instead of positional arguments\n",
        "print('{quantity} {item} cost ${price}'.format(quantity=3,item='oranges',price=5.11))"
      ],
      "metadata": {
        "colab": {
          "base_uri": "https://localhost:8080/"
        },
        "id": "e38SwInxH-6J",
        "outputId": "df55b540-7046-4f1c-b383-68d43ffbd5f6"
      },
      "execution_count": null,
      "outputs": [
        {
          "output_type": "stream",
          "name": "stdout",
          "text": [
            "3 oranges cost $5.11\n"
          ]
        }
      ]
    },
    {
      "cell_type": "code",
      "source": [
        "# Output formatting in python \n",
        "# This program is showing how to use\n",
        "# f-string to print various data types\n",
        "\n",
        "quantity = 3\n",
        "item = 'oranges'\n",
        "price = 5.11\n",
        "\n",
        "print(f'{quantity} {item} cost ${price}')"
      ],
      "metadata": {
        "colab": {
          "base_uri": "https://localhost:8080/"
        },
        "id": "XB9582OjVOqt",
        "outputId": "72559850-8fe8-45a4-feca-a544733b909a"
      },
      "execution_count": null,
      "outputs": [
        {
          "output_type": "stream",
          "name": "stdout",
          "text": [
            "3 oranges cost $5.11\n"
          ]
        }
      ]
    },
    {
      "cell_type": "markdown",
      "source": [
        "# Section 5: Python modules and packages"
      ],
      "metadata": {
        "id": "MM0wR2SEiFsa"
      }
    },
    {
      "cell_type": "markdown",
      "source": [
        "We decompose our code in smaller pieces to make a code more readable. The way we can do this is to import modules to our code. A file that contains a set of functions is called a module. This module can be accessed from a program using \"**import**\" keyword. A module can also contain variables of all data types. There are several built-in modules that you can import. \n",
        "\n",
        "https://docs.python.org/3/library/index.html#the-python-standard-library"
      ],
      "metadata": {
        "id": "7ouik1jTrxm-"
      }
    },
    {
      "cell_type": "markdown",
      "source": [
        "You need to import a module to access all the functions and variables.\n",
        "Most python distributions come with many build-in modules like os, sys, time, math ..."
      ],
      "metadata": {
        "id": "pVLPeA0Jbmij"
      }
    },
    {
      "cell_type": "markdown",
      "source": [
        "Available, built-in modules in python\n",
        "\n",
        "\n",
        "---\n",
        "os, sys, time, math, MySQL, ... \n",
        "https://docs.python.org/3/py-modindex.html\n"
      ],
      "metadata": {
        "id": "F9HOfzyJj6BF"
      }
    },
    {
      "cell_type": "markdown",
      "source": [
        "Other modules that are very popular are Numpy, SciPy, Pandas, Jango, Keras, Tensorflow as shown below."
      ],
      "metadata": {
        "id": "-nUkKafjcYXk"
      }
    },
    {
      "cell_type": "code",
      "source": [
        "# How to use os module\n",
        "import os\n",
        "\n",
        "cwd = os.getcwd()\n",
        "\n",
        "print(\"My current working directory: \", cwd)"
      ],
      "metadata": {
        "colab": {
          "base_uri": "https://localhost:8080/"
        },
        "id": "ldJduVgxuTUc",
        "outputId": "a5821aaf-5861-46f2-c9ec-d29b12ccaef5"
      },
      "execution_count": null,
      "outputs": [
        {
          "output_type": "stream",
          "name": "stdout",
          "text": [
            "My current working directory:  /content\n"
          ]
        }
      ]
    },
    {
      "cell_type": "code",
      "source": [
        "# How to use os module \n",
        "import os\n",
        "\n",
        "path=\"/content\"\n",
        "\n",
        "dir_content=os.listdir(path)\n",
        "\n",
        "print(\"Content of my directory: \", dir_content)"
      ],
      "metadata": {
        "colab": {
          "base_uri": "https://localhost:8080/"
        },
        "id": "YYDu5IL9u6oi",
        "outputId": "fbb17b35-0780-495b-97f4-04a2cc621937"
      },
      "execution_count": null,
      "outputs": [
        {
          "output_type": "stream",
          "name": "stdout",
          "text": [
            "Content of my directory:  ['.config', 'sample_data']\n"
          ]
        }
      ]
    },
    {
      "cell_type": "code",
      "source": [
        "# How to use sys module\n",
        "# In this example the version of Python interpreter is return as string \n",
        "import sys\n",
        "\n",
        "print(sys.version)"
      ],
      "metadata": {
        "colab": {
          "base_uri": "https://localhost:8080/"
        },
        "id": "UOIGTJNDp8Og",
        "outputId": "d0919c1d-e5e0-49c4-ba9c-07573fa626dd"
      },
      "execution_count": null,
      "outputs": [
        {
          "output_type": "stream",
          "name": "stdout",
          "text": [
            "3.10.11 (main, Apr  5 2023, 14:15:10) [GCC 9.4.0]\n"
          ]
        }
      ]
    },
    {
      "cell_type": "code",
      "source": [
        "# How to use sys module\n",
        "# In this example we use sys.path that returns a list of directories \n",
        "# where the Python interpreter will search for the available modules.\n",
        "import sys\n",
        "\n",
        "print(sys.path)"
      ],
      "metadata": {
        "colab": {
          "base_uri": "https://localhost:8080/"
        },
        "id": "qMZ_QbSSsVyv",
        "outputId": "a2c7ded3-6568-4b94-bb38-695b0486c959"
      },
      "execution_count": null,
      "outputs": [
        {
          "output_type": "stream",
          "name": "stdout",
          "text": [
            "['/content', '/env/python', '/usr/lib/python310.zip', '/usr/lib/python3.10', '/usr/lib/python3.10/lib-dynload', '', '/usr/local/lib/python3.10/dist-packages', '/usr/lib/python3/dist-packages', '/usr/local/lib/python3.10/dist-packages/IPython/extensions', '/root/.ipython']\n"
          ]
        }
      ]
    },
    {
      "cell_type": "code",
      "source": [
        "# How to use sys module\n",
        "# In this example we exit a program id \n",
        "import sys\n",
        "\n",
        "def exit():\n",
        "  print(\"My own exit function\")\n",
        "\n",
        "exit()\n",
        "sys.exit()"
      ],
      "metadata": {
        "colab": {
          "base_uri": "https://localhost:8080/",
          "height": 133
        },
        "id": "PhAj3PcFr1I2",
        "outputId": "c2d91db8-fe9a-40aa-f68f-31bee5a9d156"
      },
      "execution_count": null,
      "outputs": [
        {
          "output_type": "stream",
          "name": "stdout",
          "text": [
            "My own exit function\n"
          ]
        },
        {
          "output_type": "error",
          "ename": "SystemExit",
          "evalue": "ignored",
          "traceback": [
            "An exception has occurred, use %tb to see the full traceback.\n",
            "\u001b[0;31mSystemExit\u001b[0m\n"
          ]
        }
      ]
    },
    {
      "cell_type": "code",
      "source": [
        "# How to use time module\n",
        "import time\n",
        "\n",
        "print(time.strftime(\"%H:%M:%S\"))\n"
      ],
      "metadata": {
        "colab": {
          "base_uri": "https://localhost:8080/"
        },
        "id": "IQAmTZrWlJGL",
        "outputId": "2f52a3cf-d159-4d89-eb6b-91acc169ad52"
      },
      "execution_count": null,
      "outputs": [
        {
          "output_type": "stream",
          "name": "stdout",
          "text": [
            "19:43:27\n"
          ]
        }
      ]
    },
    {
      "cell_type": "code",
      "source": [
        "# How to use math module\n",
        "import math\n",
        "\n",
        "PI=(math.acos(-1)) #To use in scientific calculations \n",
        "\n",
        "print(PI)\n",
        "print(math.pi) # Built in "
      ],
      "metadata": {
        "id": "uDTfAqzir-gN"
      },
      "execution_count": null,
      "outputs": []
    },
    {
      "cell_type": "code",
      "source": [
        "# Date time now\n",
        "import datetime\n",
        "\n",
        "print(datetime.datetime.now())"
      ],
      "metadata": {
        "colab": {
          "base_uri": "https://localhost:8080/"
        },
        "id": "TGU64hC9mGBT",
        "outputId": "2b015885-efc9-4251-9c55-82fe570defca"
      },
      "execution_count": null,
      "outputs": [
        {
          "output_type": "stream",
          "name": "stdout",
          "text": [
            "2023-05-14 19:43:24.463649\n"
          ]
        }
      ]
    },
    {
      "cell_type": "code",
      "source": [
        "# To specify exact entity we need to use the following syntax.\n",
        "from math import pi\n",
        "\n",
        "print(pi)"
      ],
      "metadata": {
        "colab": {
          "base_uri": "https://localhost:8080/"
        },
        "id": "_J3FKW-GwZ1F",
        "outputId": "34b0eb37-5996-4ec2-c5e7-e40af145e1ae"
      },
      "execution_count": null,
      "outputs": [
        {
          "output_type": "stream",
          "name": "stdout",
          "text": [
            "3.141592653589793\n"
          ]
        }
      ]
    },
    {
      "cell_type": "code",
      "source": [
        "# If you have two entities with the same name Python will take the first one.\n",
        "from math import pi\n",
        "\n",
        "pi=3.14\n",
        "\n",
        "print(\"My own variable:\", pi)"
      ],
      "metadata": {
        "colab": {
          "base_uri": "https://localhost:8080/"
        },
        "id": "DUZKTzq-xFut",
        "outputId": "41276f8f-e140-4879-f846-17d6704716c9"
      },
      "execution_count": null,
      "outputs": [
        {
          "output_type": "stream",
          "name": "stdout",
          "text": [
            "My own variable: 3.14\n"
          ]
        }
      ]
    },
    {
      "cell_type": "code",
      "source": [
        "# You can import more than one entity using the following syntax\n",
        "from math import sin, cos, tan\n",
        "\n",
        "print(\"Sin: \", sin(0.2))\n",
        "print(\"Cos: \", cos(0.2))\n",
        "print(\"Tan number: \", tan(0.2))\n"
      ],
      "metadata": {
        "colab": {
          "base_uri": "https://localhost:8080/"
        },
        "id": "ZTn172qvx10n",
        "outputId": "4762934e-3de1-4898-eccc-d8db2fd90cb4"
      },
      "execution_count": null,
      "outputs": [
        {
          "output_type": "stream",
          "name": "stdout",
          "text": [
            "Sin:  0.19866933079506122\n",
            "Cos:  0.9800665778412416\n",
            "Tan number:  0.2027100355086725\n"
          ]
        }
      ]
    },
    {
      "cell_type": "code",
      "source": [
        "# You can import everything from the module using an asterisk.\n",
        "# It is not recommended to do so since a lot of conflicts can appear with your\n",
        "# own function names and they will be replaced. You also need to notice that \n",
        "# you do not need to specify math prefix anymore. You can just use the name itself. \n",
        "\n",
        "from math import *\n",
        "\n",
        "print(\"Sin :\", sin(0.2))"
      ],
      "metadata": {
        "id": "lZNlPe6x28l5",
        "outputId": "bb9d4b24-abf8-4100-d4f3-052dccce3bf2",
        "colab": {
          "base_uri": "https://localhost:8080/"
        }
      },
      "execution_count": null,
      "outputs": [
        {
          "output_type": "stream",
          "name": "stdout",
          "text": [
            "Sin : 0.19866933079506122\n"
          ]
        }
      ]
    },
    {
      "cell_type": "code",
      "source": [
        "# You can also use aliases to refer to the module, \n",
        "# a shorter name or an acronym for example.\n",
        "import math as mth\n",
        "\n",
        "print(\"Pi number :\", mth.pi)\n"
      ],
      "metadata": {
        "id": "eRWXYhzA-lHl",
        "outputId": "35e640ea-be33-48ff-9dc8-019cdf2a0d9f",
        "colab": {
          "base_uri": "https://localhost:8080/"
        }
      },
      "execution_count": null,
      "outputs": [
        {
          "output_type": "stream",
          "name": "stdout",
          "text": [
            "Pi number : 3.141592653589793\n"
          ]
        }
      ]
    },
    {
      "cell_type": "markdown",
      "source": [
        "Summary\n",
        "1. import **module** \n",
        "2. from **module** import **\\***\n",
        "3. from **module** import **entity1**, **entity2**, **entity3**, ...\n",
        "4. import **module** as **short name**\n",
        "5. from **module** import **entity name** as **short name**\n",
        "\n",
        "Both statements are importing all the entities from the module. The difference is that in the first example you need to use prefix (**module.method**) to refer to the method and in the second example you do not need to \n",
        "use the prefix. "
      ],
      "metadata": {
        "id": "F6KnIkoE4aU8"
      }
    },
    {
      "cell_type": "code",
      "source": [],
      "metadata": {
        "id": "0K2ySx6751Pe"
      },
      "execution_count": null,
      "outputs": []
    },
    {
      "cell_type": "markdown",
      "source": [
        "Import your own modules"
      ],
      "metadata": {
        "id": "Sx9dS5rmdY6Z"
      }
    },
    {
      "cell_type": "code",
      "source": [
        "# Save your file as myFirstModule.py\n",
        "\n",
        "def greeting(name):\n",
        "  print(\"Hello, \" + name)\n",
        "\n",
        "worker={\"name\":\"John\", \"age\":48, \"country\":\"Germany\"}"
      ],
      "metadata": {
        "id": "grEllPwTmn7k"
      },
      "execution_count": null,
      "outputs": []
    },
    {
      "cell_type": "code",
      "source": [
        "# Import my own module\n",
        "import myFirstModule\n",
        "\n",
        "myFirstModule.greeting(\"Daniel\")\n",
        "myFirstModule.worker[\"age\"]"
      ],
      "metadata": {
        "id": "MPgybNvQm0oY",
        "colab": {
          "base_uri": "https://localhost:8080/",
          "height": 454
        },
        "outputId": "24c471ff-7489-4814-c31f-b85a478043f7"
      },
      "execution_count": null,
      "outputs": [
        {
          "output_type": "error",
          "ename": "ModuleNotFoundError",
          "evalue": "ignored",
          "traceback": [
            "\u001b[0;31m---------------------------------------------------------------------------\u001b[0m",
            "\u001b[0;31mModuleNotFoundError\u001b[0m                       Traceback (most recent call last)",
            "\u001b[0;32m<ipython-input-95-4b6598842fce>\u001b[0m in \u001b[0;36m<cell line: 2>\u001b[0;34m()\u001b[0m\n\u001b[1;32m      1\u001b[0m \u001b[0;31m# Import my own module\u001b[0m\u001b[0;34m\u001b[0m\u001b[0;34m\u001b[0m\u001b[0m\n\u001b[0;32m----> 2\u001b[0;31m \u001b[0;32mimport\u001b[0m \u001b[0mmyFirstModule\u001b[0m\u001b[0;34m\u001b[0m\u001b[0;34m\u001b[0m\u001b[0m\n\u001b[0m\u001b[1;32m      3\u001b[0m \u001b[0;34m\u001b[0m\u001b[0m\n\u001b[1;32m      4\u001b[0m \u001b[0mmyFirstModule\u001b[0m\u001b[0;34m.\u001b[0m\u001b[0mgreeting\u001b[0m\u001b[0;34m(\u001b[0m\u001b[0;34m\"Daniel\"\u001b[0m\u001b[0;34m)\u001b[0m\u001b[0;34m\u001b[0m\u001b[0;34m\u001b[0m\u001b[0m\n\u001b[1;32m      5\u001b[0m \u001b[0mmyFirstModule\u001b[0m\u001b[0;34m.\u001b[0m\u001b[0mworker\u001b[0m\u001b[0;34m[\u001b[0m\u001b[0;34m\"age\"\u001b[0m\u001b[0;34m]\u001b[0m\u001b[0;34m\u001b[0m\u001b[0;34m\u001b[0m\u001b[0m\n",
            "\u001b[0;31mModuleNotFoundError\u001b[0m: No module named 'myFirstModule'",
            "",
            "\u001b[0;31m---------------------------------------------------------------------------\u001b[0;32m\nNOTE: If your import is failing due to a missing package, you can\nmanually install dependencies using either !pip or !apt.\n\nTo view examples of installing some common dependencies, click the\n\"Open Examples\" button below.\n\u001b[0;31m---------------------------------------------------------------------------\u001b[0m\n"
          ],
          "errorDetails": {
            "actions": [
              {
                "action": "open_url",
                "actionText": "Open Examples",
                "url": "/notebooks/snippets/importing_libraries.ipynb"
              }
            ]
          }
        }
      ]
    },
    {
      "cell_type": "markdown",
      "source": [
        "The following example should be performed in Jupyter Lab. Once you import a module the pyhton executes it immediately, that is why most of the modules contain functions and variables' definitions only. \n",
        "\n",
        "Some modules not only contain the functions but also some automated tests making sure that the functions work correctly. These tests are not activated upon the call but independently. \n",
        "\n",
        "Each module will be initialized only once eventhough you might have a few initializations in different files. Python will be aware of all the modules imported in other files.  "
      ],
      "metadata": {
        "id": "JxDkwLGnTz94"
      }
    },
    {
      "cell_type": "code",
      "source": [
        "#myOwnModule\n",
        "if __name__==\"__main__\":\n",
        "  print(\"this module runs directly\")\n",
        "else:\n",
        "  print(\"This module is imported\")\n"
      ],
      "metadata": {
        "id": "pLkPIS7CS2_Y"
      },
      "execution_count": null,
      "outputs": []
    },
    {
      "cell_type": "code",
      "source": [
        "#Main code\n",
        "import myOwnModule"
      ],
      "metadata": {
        "id": "71wJebGsTT1S"
      },
      "execution_count": null,
      "outputs": []
    },
    {
      "cell_type": "markdown",
      "source": [
        "You can create an alias to the module using \"as\" keyword"
      ],
      "metadata": {
        "id": "N4X2mFTnnwLI"
      }
    },
    {
      "cell_type": "code",
      "source": [
        "# Creating an alias\n",
        "import math as mt\n",
        "\n",
        "PI=(mt.acos(-1))\n",
        "\n",
        "print(PI)"
      ],
      "metadata": {
        "colab": {
          "base_uri": "https://localhost:8080/"
        },
        "id": "qvZrFf8nn3-8",
        "outputId": "f8d32994-90cf-4aec-a503-ed21c401f066"
      },
      "execution_count": null,
      "outputs": [
        {
          "output_type": "stream",
          "name": "stdout",
          "text": [
            "3.141592653589793\n"
          ]
        }
      ]
    },
    {
      "cell_type": "code",
      "source": [
        "# There is a dir() function that lists all the functions inside of a module\n",
        "\n",
        "import math\n",
        "\n",
        "myFirstList=dir(math)\n",
        "print(myFirstList)\n",
        "\n",
        "#for name in dir(math):\n",
        "#  print(name)"
      ],
      "metadata": {
        "colab": {
          "base_uri": "https://localhost:8080/"
        },
        "id": "uPkzXV5soOd4",
        "outputId": "1c282eaa-756a-4fd9-db7e-7cc1343bee7a"
      },
      "execution_count": null,
      "outputs": [
        {
          "output_type": "stream",
          "name": "stdout",
          "text": [
            "['__doc__', '__loader__', '__name__', '__package__', '__spec__', 'acos', 'acosh', 'asin', 'asinh', 'atan', 'atan2', 'atanh', 'ceil', 'comb', 'copysign', 'cos', 'cosh', 'degrees', 'dist', 'e', 'erf', 'erfc', 'exp', 'expm1', 'fabs', 'factorial', 'floor', 'fmod', 'frexp', 'fsum', 'gamma', 'gcd', 'hypot', 'inf', 'isclose', 'isfinite', 'isinf', 'isnan', 'isqrt', 'lcm', 'ldexp', 'lgamma', 'log', 'log10', 'log1p', 'log2', 'modf', 'nan', 'nextafter', 'perm', 'pi', 'pow', 'prod', 'radians', 'remainder', 'sin', 'sinh', 'sqrt', 'tan', 'tanh', 'tau', 'trunc', 'ulp']\n"
          ]
        }
      ]
    },
    {
      "cell_type": "markdown",
      "source": [
        "You can import only some parts of a module and not the entire one"
      ],
      "metadata": {
        "id": "IFXLHWuGoq6l"
      }
    },
    {
      "cell_type": "code",
      "source": [
        "# Choosing the parts\n",
        "from math import acos\n",
        "\n",
        "print(acos(-1))"
      ],
      "metadata": {
        "colab": {
          "base_uri": "https://localhost:8080/"
        },
        "id": "82t5Q1a4oxXE",
        "outputId": "e14b152c-085a-4b78-bad2-d59f4ac23413"
      },
      "execution_count": null,
      "outputs": [
        {
          "output_type": "stream",
          "name": "stdout",
          "text": [
            "3.141592653589793\n"
          ]
        }
      ]
    },
    {
      "cell_type": "code",
      "source": [
        "# Generating a random number\n",
        "\n",
        "import random as rnd\n",
        "\n",
        "print(rnd.randint(0,9)) #Returns a number in a<=N<=b or [a,b] inclusive\n"
      ],
      "metadata": {
        "colab": {
          "base_uri": "https://localhost:8080/"
        },
        "id": "oIFdB3bupc87",
        "outputId": "b27926ec-d871-47d7-970a-8757e8901b31"
      },
      "execution_count": null,
      "outputs": [
        {
          "output_type": "stream",
          "name": "stdout",
          "text": [
            "9\n"
          ]
        }
      ]
    },
    {
      "cell_type": "code",
      "source": [
        "# Generating an array of random numbers\n",
        "from numpy.random import seed\n",
        "from numpy.random import randint\n",
        "\n",
        "seed(1)\n",
        "\n",
        "randomValues = randint(0,10,20)\n",
        "print(randomValues)\n"
      ],
      "metadata": {
        "colab": {
          "base_uri": "https://localhost:8080/"
        },
        "id": "XHdJnkxYp8Ux",
        "outputId": "63a501e5-2a7e-4693-ac49-4922c5e05324"
      },
      "execution_count": null,
      "outputs": [
        {
          "output_type": "stream",
          "name": "stdout",
          "text": [
            "[5 8 9 5 0 0 1 7 6 9 2 4 5 2 4 2 4 7 7 9]\n"
          ]
        }
      ]
    },
    {
      "cell_type": "markdown",
      "source": [
        "Most popular python modules are \n",
        "\n",
        "\n",
        "---\n",
        "**Numpy** - module is used for variety of mathematical operations on arrays.\n",
        "\n",
        "**SciPy** - module with a lot of mathematical algorithms and functions.\n",
        "\n",
        "**Pandas** - module designed to work with the datasets, data analysis.\n",
        "\n",
        "**Jiango** - module designed to help build webpages using pyhton.\n",
        "\n",
        "**PyTorch** - module with the largest machine learning library.\n",
        "\n",
        "**Keras** - module with machine learning libraries.\n",
        "\n",
        "**TensorFlow** - end-to-end machine learning module.\n",
        "\n",
        "**MatplotLib** - module for creating static, animated, and interactive graphs.\n",
        ".\n",
        ".\n",
        "."
      ],
      "metadata": {
        "id": "_7hiGX6arYIG"
      }
    },
    {
      "cell_type": "code",
      "source": [
        "import matplotlib.pyplot as plt\n",
        "\n",
        "x=[1,2,3,4]\n",
        "y=[1,2,3,4]\n",
        "\n",
        "plt.plot(x,y)\n",
        "plt.show()"
      ],
      "metadata": {
        "id": "oAJVc5R5FLfK",
        "outputId": "8c33f25e-9676-4426-a03f-528c6878a9d6",
        "colab": {
          "base_uri": "https://localhost:8080/",
          "height": 430
        }
      },
      "execution_count": null,
      "outputs": [
        {
          "output_type": "display_data",
          "data": {
            "text/plain": [
              "<Figure size 640x480 with 1 Axes>"
            ],
            "image/png": "[encoded data removed]"
          },
          "metadata": {}
        }
      ]
    },
    {
      "cell_type": "code",
      "source": [
        "import matplotlib.pyplot as plt\n",
        "import numpy as np\n",
        "\n",
        "xpoints = np.array([1, 8])\n",
        "ypoints = np.array([3, 10])\n",
        "\n",
        "plt.plot(xpoints, ypoints)\n",
        "plt.show()"
      ],
      "metadata": {
        "colab": {
          "base_uri": "https://localhost:8080/",
          "height": 186
        },
        "id": "1sylivpD3Bqq",
        "outputId": "8e858533-3ac4-4cd1-dae6-be97beac7a7b"
      },
      "execution_count": null,
      "outputs": [
        {
          "output_type": "display_data",
          "data": {
            "text/plain": [
              "<Figure size 144x144 with 1 Axes>"
            ],
            "image/png": "[encoded data removed]"
          },
          "metadata": {
            "needs_background": "light"
          }
        }
      ]
    },
    {
      "cell_type": "code",
      "source": [
        "# importing the required module as alias plt\n",
        "import math as mt\n",
        "import numpy as np\n",
        "import matplotlib.pyplot as plt \n",
        "    \n",
        "# x axis values \n",
        "x = np.arange(0,2*mt.pi,0.1)\n",
        "# y axis values \n",
        "y = np.cos(x)\n",
        "    \n",
        "# plotting the points  \n",
        "plt.plot(x, y) \n",
        "plt.grid()\n",
        "# function to show the plot \n",
        "plt.show() "
      ],
      "metadata": {
        "colab": {
          "base_uri": "https://localhost:8080/",
          "height": 430
        },
        "id": "CqI6cVNLuCGq",
        "outputId": "a32f595e-4d6f-4d21-9968-c23a8bfee533"
      },
      "execution_count": null,
      "outputs": [
        {
          "output_type": "display_data",
          "data": {
            "text/plain": [
              "<Figure size 640x480 with 1 Axes>"
            ],
            "image/png": "[encoded data removed]"
          },
          "metadata": {}
        }
      ]
    },
    {
      "cell_type": "code",
      "source": [
        "#Circle\n",
        "import numpy as np\n",
        "import matplotlib.pyplot as plt\n",
        " \n",
        "theta = np.linspace( 0 , 2 * np.pi , 150 )\n",
        " \n",
        "radius = 0.4\n",
        " \n",
        "a = radius * np.cos( theta )\n",
        "b = radius * np.sin( theta )\n",
        " \n",
        "figure, axes = plt.subplots( 1 )\n",
        " \n",
        "axes.plot( a, b )\n",
        "axes.set_aspect( 1 )\n",
        " \n",
        "plt.title( 'Parametric Equation Circle' )\n",
        "plt.show()"
      ],
      "metadata": {
        "id": "KLUa6Xe1F-xi",
        "outputId": "bebdebb6-ec84-4a9e-b2e5-683aa5118bda",
        "colab": {
          "base_uri": "https://localhost:8080/",
          "height": 452
        }
      },
      "execution_count": null,
      "outputs": [
        {
          "output_type": "display_data",
          "data": {
            "text/plain": [
              "<Figure size 640x480 with 1 Axes>"
            ],
            "image/png": "[encoded data removed]"
          },
          "metadata": {}
        }
      ]
    },
    {
      "cell_type": "markdown",
      "source": [
        "**Matplotlib.pyplot** tutorial https://matplotlib.org/stable/tutorials/introductory/pyplot.html"
      ],
      "metadata": {
        "id": "jdUNtA-fOARB"
      }
    },
    {
      "cell_type": "markdown",
      "source": [
        "# Section 6: Classes\n",
        "\n",
        "\n",
        "\n",
        "---\n",
        "Python is an object-oriented high-level language. Everything is an object in python that contains properties and methods. \n"
      ],
      "metadata": {
        "id": "-G6SVv9MmBAR"
      }
    },
    {
      "cell_type": "code",
      "source": [
        "#Creating your first class\n",
        "\n",
        "class myFirstClass:\n",
        "      myFirstVariable = \"Name\"\n",
        "\n",
        "# Create an object named myFirstObject\n",
        "\n",
        "myFirstObject = myFirstClass()\n",
        "\n",
        "print(myFirstObject.myFirstVariable)"
      ],
      "metadata": {
        "colab": {
          "base_uri": "https://localhost:8080/"
        },
        "id": "dnPGxwL1XEdK",
        "outputId": "73576085-59f3-4c70-e19e-ace87544511e"
      },
      "execution_count": null,
      "outputs": [
        {
          "output_type": "stream",
          "name": "stdout",
          "text": [
            "Name\n"
          ]
        }
      ]
    },
    {
      "cell_type": "code",
      "source": [
        "#Using _init_() function with classes\n",
        "\n",
        "class mySecondClass:\n",
        "      def __init__(self, name, age, occupation): #parameterized constructor\n",
        "        self.name = name\n",
        "        self.age = age\n",
        "        self.occupation = occupation\n",
        "\n",
        "mySecondObject = mySecondClass(\"John\", 48, \"Doctor\") #creating object of a class\n",
        "\n",
        "print(mySecondObject.name) #calling the instance variable using object \n",
        "print(mySecondObject.age)\n",
        "print(mySecondObject.occupation)"
      ],
      "metadata": {
        "colab": {
          "base_uri": "https://localhost:8080/"
        },
        "id": "bYjwcX9ZX97R",
        "outputId": "7b359b9e-2e32-42ae-98ed-185039e88b03"
      },
      "execution_count": null,
      "outputs": [
        {
          "output_type": "stream",
          "name": "stdout",
          "text": [
            "John\n",
            "48\n",
            "Doctor\n"
          ]
        }
      ]
    },
    {
      "cell_type": "markdown",
      "source": [
        "The __init__() function is called automatically everytime new object is created."
      ],
      "metadata": {
        "id": "6wgruaYIY95g"
      }
    },
    {
      "cell_type": "markdown",
      "source": [
        "\"The __str__() function controls what should be returned when the class object is represented as a string.\"\n",
        "\n",
        "\"If the __str__() function is not set, the string representation of the object is returned.\""
      ],
      "metadata": {
        "id": "z85vtZemadcB"
      }
    },
    {
      "cell_type": "code",
      "source": [
        "#The __str__() function\n",
        "\n",
        "class myThirdClass:\n",
        "  def __init__(self, name, age, occupation):\n",
        "    self.name = name\n",
        "    self.age = age\n",
        "    self.occupation = occupation\n",
        "\n",
        "  def __str__(self):\n",
        "    return f\"{self.name}\\\\{self.age}\\\\{self.occupation}\"\n",
        "\n",
        "myThirdObject = myThirdClass(\"John\", 48, \"Doctor\")\n",
        "\n",
        "print(myThirdObject)"
      ],
      "metadata": {
        "colab": {
          "base_uri": "https://localhost:8080/"
        },
        "id": "msteLr7XZVM9",
        "outputId": "adb4bcb1-b918-49a3-fcd6-9f64440f80ee"
      },
      "execution_count": null,
      "outputs": [
        {
          "output_type": "stream",
          "name": "stdout",
          "text": [
            "John\\48\\Doctor\n",
            "<class '__main__.myThirdClass'>\n"
          ]
        }
      ]
    },
    {
      "cell_type": "markdown",
      "source": [
        "Object Methods"
      ],
      "metadata": {
        "id": "baYgOUGtank2"
      }
    },
    {
      "cell_type": "code",
      "source": [
        "#Methods in classes\n",
        "\n",
        "class myFourthClass:\n",
        "  def __init__(self,name, age, occupation):\n",
        "    self.name = name\n",
        "    self.age = age\n",
        "    self.occupation = occupation\n",
        "\n",
        "  def myName(self):\n",
        "      print(\"Hello my name is \" + self.name)\n",
        "\n",
        "  def myAge(self):\n",
        "      print(\"My age is \" + str(self.age))\n",
        "\n",
        "  def myOccupation(self):\n",
        "      print(\"My occupation is \" + self.occupation)\n",
        "\n",
        "myFourthObject = myFourthClass(\"John\", 48, \"Doctor\")\n",
        "\n",
        "myFourthObject.myName()\n",
        "myFourthObject.myAge()\n",
        "myFourthObject.myOccupation()"
      ],
      "metadata": {
        "colab": {
          "base_uri": "https://localhost:8080/"
        },
        "id": "D6sfzGZ4apvL",
        "outputId": "867f11ba-e120-4c61-e801-3c211850172a"
      },
      "execution_count": null,
      "outputs": [
        {
          "output_type": "stream",
          "name": "stdout",
          "text": [
            "Hello my name is John\n",
            "My age is 48\n",
            "My occupation is Doctor\n"
          ]
        }
      ]
    }
  ]
}