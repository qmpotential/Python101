{
  "nbformat": 4,
  "nbformat_minor": 0,
  "metadata": {
    "colab": {
      "provenance": [],
      "include_colab_link": true
    },
    "kernelspec": {
      "name": "python3",
      "display_name": "Python 3"
    },
    "language_info": {
      "name": "python"
    }
  },
  "cells": [
    {
      "cell_type": "markdown",
      "metadata": {
        "id": "view-in-github",
        "colab_type": "text"
      },
      "source": [
        "<a href=\"https://colab.research.google.com/github/qmpotential/Python101/blob/main/PythonLight101.ipynb\" target=\"_parent\"><img src=\"https://colab.research.google.com/assets/colab-badge.svg\" alt=\"Open In Colab\"/></a>"
      ]
    },
    {
      "cell_type": "markdown",
      "source": [
        "# **Introduction to Python**\n",
        "\n",
        "Date: February 26th, 2025\n",
        "\n",
        "HPC Training, 9:00 am\n",
        "\n",
        "by Oleg N. Starovoytov\n",
        "\n",
        "olegs@lsu.edu"
      ],
      "metadata": {
        "id": "GBFp5daxP4sG"
      }
    },
    {
      "cell_type": "markdown",
      "source": [
        "Python programming language was created by Guido van Rossum. The first version was released in 1991.\n",
        "It is used for web-applications, data analysis, scientific scripting etc. It can be implemented on different platforms including Linux, Mac, Windows, and other platforms.\n",
        "It has a very simple and intuitive syntax\n",
        "that can be easily used writing short and clear code. There is no need in compilation of the python code. The interpreter is used to run the programs."
      ],
      "metadata": {
        "id": "3W684JbzQlhe"
      }
    },
    {
      "cell_type": "markdown",
      "source": [
        "# Outline\n",
        "\n",
        "Section 1: **Python programming basics**\n",
        "\n",
        "Section 2: **Operators**\n",
        "\n",
        "Section 3: **Data collections**\n",
        "   \n",
        "Section 4: **Control flow**\n",
        "\n",
        "Section 5: **Functions**\n",
        "\n",
        "Section 6: **Modules**\n",
        "\n",
        "Section 7: **Classes**"
      ],
      "metadata": {
        "id": "Ptut8gykhIuv"
      }
    },
    {
      "cell_type": "markdown",
      "source": [
        "# Section 1: Python programming basics\n"
      ],
      "metadata": {
        "id": "8zK03agNSVFM"
      }
    },
    {
      "cell_type": "markdown",
      "source": [
        "In Python, it is common practice to use 4 spaces for identation. Use spaces and tabs can lead to errors.\n",
        "\n",
        "        if True:\n",
        "            print(\"Hello, World!\")\n"
      ],
      "metadata": {
        "id": "xx4HygEy1pJb"
      }
    },
    {
      "cell_type": "code",
      "source": [
        "if True:\n",
        "  print(\"Hello, World!\")"
      ],
      "metadata": {
        "id": "2P9KB71u2XQX"
      },
      "execution_count": null,
      "outputs": []
    },
    {
      "cell_type": "markdown",
      "source": [
        "Print function"
      ],
      "metadata": {
        "id": "8ZJPhw9-Tpte"
      }
    },
    {
      "cell_type": "code",
      "source": [
        "print(\"Hello, World!\")"
      ],
      "metadata": {
        "id": "whPjPNZXqV-i"
      },
      "execution_count": null,
      "outputs": []
    },
    {
      "cell_type": "markdown",
      "source": [
        "Comments"
      ],
      "metadata": {
        "id": "TWU7qC5sTHHZ"
      }
    },
    {
      "cell_type": "code",
      "source": [
        "# This is my comment\n",
        "print(\"Hello, World!\")"
      ],
      "metadata": {
        "id": "OLAo-Xn3S9q-"
      },
      "execution_count": null,
      "outputs": []
    },
    {
      "cell_type": "markdown",
      "source": [
        "Variables"
      ],
      "metadata": {
        "id": "NYcEKTbZT6_5"
      }
    },
    {
      "cell_type": "code",
      "source": [
        "a = 1\n",
        "b = 2\n",
        "c = \"Oleg\""
      ],
      "metadata": {
        "id": "C2lP1tf4T99K"
      },
      "execution_count": null,
      "outputs": []
    },
    {
      "cell_type": "markdown",
      "source": [
        "Casting"
      ],
      "metadata": {
        "id": "i8p0auh3UeNM"
      }
    },
    {
      "cell_type": "code",
      "source": [
        "a = str(1)\n",
        "b = int('1')\n",
        "c = float('1')\n",
        "print(a,b,c)"
      ],
      "metadata": {
        "colab": {
          "base_uri": "https://localhost:8080/"
        },
        "id": "59RQkHsOUPCl",
        "outputId": "ac69a8c7-047a-47bd-8c90-7c529fe9a24b"
      },
      "execution_count": null,
      "outputs": [
        {
          "output_type": "stream",
          "name": "stdout",
          "text": [
            "1 1 1.0\n"
          ]
        }
      ]
    },
    {
      "cell_type": "code",
      "source": [
        "print(type(a), type(b), type(c))"
      ],
      "metadata": {
        "colab": {
          "base_uri": "https://localhost:8080/"
        },
        "id": "mCe4Xep5UtWa",
        "outputId": "279c2131-7f18-4de4-b32a-44fcdee0b6f5"
      },
      "execution_count": null,
      "outputs": [
        {
          "output_type": "stream",
          "name": "stdout",
          "text": [
            "<class 'str'> <class 'int'> <class 'float'>\n"
          ]
        }
      ]
    },
    {
      "cell_type": "markdown",
      "source": [
        "Quotes"
      ],
      "metadata": {
        "id": "ycuMxG52VJ-1"
      }
    },
    {
      "cell_type": "code",
      "source": [
        "a = \"apple\"\n",
        "b = 'banana'\n",
        "#c = 'It's the python class'"
      ],
      "metadata": {
        "id": "eZxyaOl4VO91"
      },
      "execution_count": null,
      "outputs": []
    },
    {
      "cell_type": "markdown",
      "source": [
        "Case"
      ],
      "metadata": {
        "id": "Q2XSnna2Vle7"
      }
    },
    {
      "cell_type": "code",
      "source": [
        "A = 'apple'\n",
        "a= 'banana'"
      ],
      "metadata": {
        "id": "C8VDfuJqVkQ8"
      },
      "execution_count": null,
      "outputs": []
    },
    {
      "cell_type": "markdown",
      "source": [
        "Multiple values"
      ],
      "metadata": {
        "id": "7QOwyoEIWFhV"
      }
    },
    {
      "cell_type": "code",
      "source": [
        "a, b, c = 2\n",
        "fruits = [\"apple\", \"banana\", \"cherry\"]\n",
        "x, y, z = fruits"
      ],
      "metadata": {
        "id": "unJsLKAAWJ6U"
      },
      "execution_count": null,
      "outputs": []
    },
    {
      "cell_type": "markdown",
      "source": [
        "Python Data Types\n",
        "\n",
        "    Numeric types: int, float, complex\n",
        "    Sequence types: list, tuple, range\n",
        "    Mapping type: dict\n",
        "    Set types: set, frozenset\n",
        "    Text type: str\n",
        "    Boolean type: bool\n",
        "    Binary type: bytes, bytearray, memoryview\n",
        "    None type: NoneType"
      ],
      "metadata": {
        "id": "tuup2f7MW4t2"
      }
    },
    {
      "cell_type": "code",
      "source": [
        "# Numeric types\n",
        "a = 1\n",
        "b = 2.3\n",
        "c = 10 + 5j"
      ],
      "metadata": {
        "id": "tpowHBV6lGZS"
      },
      "execution_count": null,
      "outputs": []
    },
    {
      "cell_type": "code",
      "source": [
        "# Sequence types\n",
        "fruits = [\"apple\", \"banana\", \"mango\"]\n",
        "numbers = (1,2,3)\n",
        "a = range(3)"
      ],
      "metadata": {
        "id": "JArSRzNhlS88"
      },
      "execution_count": null,
      "outputs": []
    },
    {
      "cell_type": "code",
      "source": [
        "# Mapping type: dictionary\n",
        "person ={\"name\": \"Oleg\", \"age\": 25}"
      ],
      "metadata": {
        "id": "udAxnH4klm8F"
      },
      "execution_count": null,
      "outputs": []
    },
    {
      "cell_type": "code",
      "source": [
        "# Set types\n",
        "set = {\"apple\", \"banana\", \"mango\"}\n",
        "frozen_set = frozenset({\"apple\", \"banana\", \"mango\"})"
      ],
      "metadata": {
        "id": "5ZzQifeGlzMO"
      },
      "execution_count": null,
      "outputs": []
    },
    {
      "cell_type": "code",
      "source": [
        "# Text type\n",
        "text = \"Hello, World\""
      ],
      "metadata": {
        "id": "EzKzLUOLmGwQ"
      },
      "execution_count": null,
      "outputs": []
    },
    {
      "cell_type": "code",
      "source": [
        "# Boolean type\n",
        "it_is_true = True\n",
        "it_is_false = False"
      ],
      "metadata": {
        "id": "D5suuFo8mObQ"
      },
      "execution_count": null,
      "outputs": []
    },
    {
      "cell_type": "code",
      "source": [
        "# Binary type\n",
        "bytes = b\"Hello\"\n",
        "bytearray = bytearray(5)\n",
        "memoryview = memoryview(bytes(5))"
      ],
      "metadata": {
        "id": "pEbn_5OBmXMD"
      },
      "execution_count": null,
      "outputs": []
    },
    {
      "cell_type": "code",
      "source": [
        "# None type\n",
        "x = None"
      ],
      "metadata": {
        "id": "zLCRrYyYmrJa"
      },
      "execution_count": null,
      "outputs": []
    },
    {
      "cell_type": "markdown",
      "source": [
        "# Section 2: Operators\n"
      ],
      "metadata": {
        "id": "Izi_a9nAo3ot"
      }
    },
    {
      "cell_type": "markdown",
      "source": [
        "There are a number of operators in Pyhton\n",
        "\n",
        "    Arithmetic operators: x + y, x - y, x * y, x ** y, x / y, x % y, x // y\n",
        "    Assignment operators: =, +=, -=, *=, /=, //=, %=, **=, :=\n",
        "    Comparison operators: x == y, x != y, x > y, x < y, x >= y, x <= y\n",
        "    Logical operators: and, or, not\n",
        "    Identity operators: is, is not\n",
        "    Membership operators: in, not in\n",
        "    Bitwise operators: &, |, ~, ^\n"
      ],
      "metadata": {
        "id": "WEadNHbepYE4"
      }
    },
    {
      "cell_type": "code",
      "source": [
        "# Arithmetic operations\n",
        "a = 2\n",
        "b = 3\n",
        "c = a + b\n",
        "d = a - b\n",
        "e = a * b\n",
        "f = a ** b\n",
        "g = a / b\n",
        "j = a % b\n",
        "h = a // b"
      ],
      "metadata": {
        "id": "IXEqPXVdsXc3"
      },
      "execution_count": null,
      "outputs": []
    },
    {
      "cell_type": "code",
      "source": [
        "# Assignment operators\n",
        "a = 2\n",
        "a += 3\n",
        "a -= 3\n",
        "a *= 3\n",
        "a /= 3\n",
        "a //= 3\n",
        "a %= 3\n",
        "a **= 3"
      ],
      "metadata": {
        "id": "dfgrBbX2s0Y3"
      },
      "execution_count": null,
      "outputs": []
    },
    {
      "cell_type": "code",
      "source": [
        "# Comparison operators\n",
        "a = 2\n",
        "b = 3\n",
        "a == b\n",
        "a != b\n",
        "a > b\n",
        "a < b\n",
        "a >= b\n",
        "a <= b"
      ],
      "metadata": {
        "id": "6LKz7JZItAHw"
      },
      "execution_count": null,
      "outputs": []
    },
    {
      "cell_type": "code",
      "source": [
        "# Logical operators\n",
        "a = True\n",
        "b = False\n",
        "a and b\n",
        "a or b\n",
        "not a"
      ],
      "metadata": {
        "id": "oadH1hietLhh"
      },
      "execution_count": null,
      "outputs": []
    },
    {
      "cell_type": "code",
      "source": [
        "# Identity operators\n",
        "a = 2\n",
        "b = 2\n",
        "a is b\n",
        "a is not b"
      ],
      "metadata": {
        "id": "q2JbIDDmtWlp",
        "colab": {
          "base_uri": "https://localhost:8080/"
        },
        "outputId": "8be6e629-39fe-4818-8ee9-bba9d5f149c2"
      },
      "execution_count": null,
      "outputs": [
        {
          "output_type": "stream",
          "name": "stdout",
          "text": [
            "False\n"
          ]
        }
      ]
    },
    {
      "cell_type": "code",
      "source": [
        "# Membership operators\n",
        "fruits = [\"apple\", \"banana\", \"mango\"]\n",
        "\"apple\" in fruits\n",
        "\"apple\" not in fruits"
      ],
      "metadata": {
        "id": "QMwPt2Wpt4-E"
      },
      "execution_count": null,
      "outputs": []
    },
    {
      "cell_type": "code",
      "source": [
        "# Bitwise operators\n",
        "a = 2\n",
        "b = 3\n",
        "a & b\n",
        "a | b\n",
        "~a\n",
        "a ^ b"
      ],
      "metadata": {
        "id": "dAztDFhqt_4c"
      },
      "execution_count": null,
      "outputs": []
    },
    {
      "cell_type": "markdown",
      "source": [
        "Operator precedence\n",
        "\n",
        "    Parentheses: ( )\n",
        "    Exponentiation: **\n",
        "    Unary: +x, -x, ~x\n",
        "    Arithmetic: *, /, %, //, +, -\n",
        "    Bitwise: <<, >>, AND, ^, |\n",
        "    Comparison: ==, !=, >, >=, <, <=\n",
        "    Identity: is, is not\n",
        "    Membership operators: in, not in\n",
        "    Logical: not, and, or"
      ],
      "metadata": {
        "id": "t8xcC2MTq74B"
      }
    },
    {
      "cell_type": "markdown",
      "source": [
        "# Section 3: Data collections"
      ],
      "metadata": {
        "id": "dmu0aZGZvncU"
      }
    },
    {
      "cell_type": "markdown",
      "source": [
        "There are four types of data collections in Pyhton\n",
        "\n",
        "    List:       [element 1, ..., element n]\n",
        "    Tuple:      (element 1, ..., element n)\n",
        "    Dictionary: {key:element 1, ..., key:element n}\n",
        "    Set:        {element 1, ..., element n}"
      ],
      "metadata": {
        "id": "5uWbYutgwX_9"
      }
    },
    {
      "cell_type": "markdown",
      "source": [
        "Strings\n",
        "---\n",
        "Strings are an immutable collection of alphanumeric characters that are enclosed with single or double quotes. Strings literals can not be changed after they have been created. A double-quoted string literal may contain single quotes. Characters within a string can be accessed using indexing reference values starting with zero. If the reference index is out of range, Python will raise an IndexError. To access a range of characters, you can use slicing. You can indicate the start index and the end index enclosed with square brackets to access a range of characters as shown below.\n",
        "\n",
        "---\n",
        "Syntax:\n",
        "\n",
        "     myString = \" Lorem ipsum dolor sit amet \"\n",
        "\n",
        "     myString = \" \" \" Lorem ipsum dolor sit amet, consectetur elit \" \" \"\n",
        "\n",
        "     myString = ' ' ' Lorem ipsum dolor sit amet, consectetur elit ' ' '\n"
      ],
      "metadata": {
        "id": "AyvEXr4a-5A-"
      }
    },
    {
      "cell_type": "code",
      "source": [
        "# String with double quotes\n",
        "\n",
        "myString = \"Lorem ipsum dolor sit amet\""
      ],
      "metadata": {
        "id": "C3bWTEJ1zHm_"
      },
      "execution_count": null,
      "outputs": []
    },
    {
      "cell_type": "code",
      "source": [
        "# String with double triple quotes\n",
        "\n",
        "myString = \"\"\" Lorem ipsum dolor sit amet, consectetur elit \"\"\""
      ],
      "metadata": {
        "id": "ZJcf3RaUrQBq"
      },
      "execution_count": null,
      "outputs": []
    },
    {
      "cell_type": "code",
      "source": [
        "# String with single triple quotes\n",
        "\n",
        "myString = ''' Lorem ipsum dolor sit amet, consectetur elit '''"
      ],
      "metadata": {
        "id": "7-gHkXUvrfP0"
      },
      "execution_count": null,
      "outputs": []
    },
    {
      "cell_type": "code",
      "source": [
        "myString = \"\"\" Lorem ipsum dolor sit amet,\n",
        "consectetur adipiscing elit,\n",
        "sed do eiusmod tempor incididunt\n",
        "ut labore et dolore magna aliqua.\"\"\""
      ],
      "metadata": {
        "id": "frAyUGuKrw8d"
      },
      "execution_count": null,
      "outputs": []
    },
    {
      "cell_type": "markdown",
      "source": [
        "String indexing\n",
        "---\n",
        "Indexing is an important concept. Each character of a string has a unique index number. To access any characters of a string, we need to use the corresponding index number. Indexing of a string is the same as for a list, tuple, and dictionary but not a set. Sets are not indexed. The element of a string can be accessed using an index starting with 0.\n",
        "\n",
        "---\n",
        "Syntax:\n",
        "\n",
        "        myString[index]"
      ],
      "metadata": {
        "id": "_GdZyIET_PJe"
      }
    },
    {
      "cell_type": "code",
      "source": [
        "# Strings elements can be accessed by their index\n",
        "\n",
        "# The indexes\n",
        "# myTestString   =   [1,  2,  3,  4,  5,  6,  7,  8,  9, ..., 26]\n",
        "# --------------------------\n",
        "# index               0,  1,  2,  3,  4,  5,  6,  7,  8, ..., n-1\n",
        "# negative index     -n,                                 ...,  -1\n",
        "# myTestString[index]\n",
        "\n",
        "myTestString=\"Lorem ipsum dolor sit amet\"\n",
        "\n",
        "print(len(myTestString))\n"
      ],
      "metadata": {
        "id": "DTw-srDg_UZ9"
      },
      "execution_count": null,
      "outputs": []
    },
    {
      "cell_type": "code",
      "source": [
        "print(myTestString[4])\n",
        "print(myTestString[5])\n",
        "print(myTestString[6])\n",
        "print(myTestString[18])\n",
        "print(myTestString[-1])\n",
        "print(myTestString[-26])"
      ],
      "metadata": {
        "id": "uumxQvHpsC1V"
      },
      "execution_count": null,
      "outputs": []
    },
    {
      "cell_type": "markdown",
      "source": [
        "String slicing\n",
        "---\n",
        "The slicing technique allows one to access a range of characters in a string. The range of characters can be indicated by a start index number and an end index number in square brackets. The start index number has always an inclusive bound and the end index number has always an exclusive bound. In other words, the start index number is included in the range and the end index number is not.\n",
        "\n",
        "---\n",
        "Syntax:\n",
        "\n",
        "        myString[start index: end index : step]"
      ],
      "metadata": {
        "id": "Qvmwn8QY_Zi3"
      }
    },
    {
      "cell_type": "code",
      "source": [
        "# Strings elements can be accessed by index\n",
        "\n",
        "# The indexes\n",
        "# myTestString   =   [1,  2,  3,  4,  5,  6,  7,  8,  9, ..., 26]\n",
        "# --------------------------\n",
        "# index               0,  1,  2,  3,  4,  5,  6,  7,  8, ..., n-1\n",
        "# negative index     -n,                                 ...,  -1\n",
        "# myTestString[start index: end index]\n",
        "\n",
        "myTestString=\"Lorem ipsum dolor sit amet\"\n",
        "print(len(myTestString))"
      ],
      "metadata": {
        "id": "nzA4yj0T_dOv"
      },
      "execution_count": null,
      "outputs": []
    },
    {
      "cell_type": "code",
      "source": [
        "print(myTestString[:4])\n",
        "print(myTestString[0:5])\n",
        "print(myTestString[0:6])\n",
        "print(myTestString[0:18])\n",
        "print(myTestString[-12:-1])\n",
        "print(myTestString[-26:-25])"
      ],
      "metadata": {
        "id": "l11yjlCvs1T5"
      },
      "execution_count": null,
      "outputs": []
    },
    {
      "cell_type": "markdown",
      "source": [
        "3.1 List\n",
        "---\n",
        "A list is used to store several items in a single variable. A list is a built-in type in Python. Lists can store more than one item at the same time. A list is a mutable data type meaning that the list can be updated at any point in time. New items can be inserted into the list or deleted from the list. It is a member of a data type called sequences. Various operations can be performed on the list including slicing, multiplication, addition, etc.\n",
        "\n",
        "---\n",
        "\n",
        "Syntax:\n",
        "\n",
        "        myList = [element 1, element 2, ..., element n]\n",
        "\n",
        "        myList = [element 1]\n",
        "\n",
        "        myList = list()"
      ],
      "metadata": {
        "id": "i6xK0kru7IpZ"
      }
    },
    {
      "cell_type": "code",
      "source": [
        "# An empty list declaration\n",
        "\n",
        "a = []"
      ],
      "metadata": {
        "id": "Yxk_Jd35w4il"
      },
      "execution_count": null,
      "outputs": []
    },
    {
      "cell_type": "code",
      "source": [
        "# An empty list declaration using a constructor\n",
        "\n",
        "b = list()"
      ],
      "metadata": {
        "id": "bUmOMHMbw8zv"
      },
      "execution_count": null,
      "outputs": []
    },
    {
      "cell_type": "code",
      "source": [
        "# Lists with integers\n",
        "\n",
        "myList = [1,2,3]"
      ],
      "metadata": {
        "id": "I3CmdO0suB-K"
      },
      "execution_count": null,
      "outputs": []
    },
    {
      "cell_type": "code",
      "source": [
        "# Lists with strings\n",
        "\n",
        "myList = [\"apple\", \"banana\", \"mango\"]"
      ],
      "metadata": {
        "id": "f-ZziAMsuGCu"
      },
      "execution_count": null,
      "outputs": []
    },
    {
      "cell_type": "code",
      "source": [
        "# Lists with booleans\n",
        "\n",
        "myList = [True, False, True]"
      ],
      "metadata": {
        "id": "WW91Bwvuu_ew"
      },
      "execution_count": null,
      "outputs": []
    },
    {
      "cell_type": "code",
      "source": [
        "# List with different data types\n",
        "\n",
        "myList = [1, \"apple\", True]"
      ],
      "metadata": {
        "id": "te5QlnfZvMyJ"
      },
      "execution_count": null,
      "outputs": []
    },
    {
      "cell_type": "code",
      "source": [
        "# Multidimentional nested list\n",
        "\n",
        "myList = [[1,2,3], [4,5,6], [7,8,9]]"
      ],
      "metadata": {
        "id": "DhsfAoTcxqPF"
      },
      "execution_count": null,
      "outputs": []
    },
    {
      "cell_type": "code",
      "source": [
        "print(len(myList))"
      ],
      "metadata": {
        "id": "18_dj2Dsu1QG"
      },
      "execution_count": null,
      "outputs": []
    },
    {
      "cell_type": "markdown",
      "source": [
        "List indexing\n",
        "---\n",
        "Each element of the list has a unique index number as shown below. To access any element of the list, we need to use that element's index number. The indexing of a list is the same as for strings. A list is a container for many items, with these items indexed starting with the first item being \"0\".\n",
        "\n",
        "---\n",
        "Syntax:\n",
        "\n",
        "        myList[index]"
      ],
      "metadata": {
        "id": "XLFnd-Su8Sei"
      }
    },
    {
      "cell_type": "code",
      "source": [
        "# The indexes\n",
        "# myFirstList   =   [1,  2,  3,  4,  5, ..., n]\n",
        "# --------------------------\n",
        "# index              0,  1,  2,  3,  4, ..., n-1\n",
        "# negative index    -n,                 ...,  -1\n"
      ],
      "metadata": {
        "id": "pm_3t73s9cE-"
      },
      "execution_count": null,
      "outputs": []
    },
    {
      "cell_type": "code",
      "source": [
        "# List indexing\n",
        "\n",
        "a = [1,2,3]\n",
        "print(a[0])\n",
        "print(a[1])\n",
        "print(a[2])"
      ],
      "metadata": {
        "id": "9ZJCPZsevpdb"
      },
      "execution_count": null,
      "outputs": []
    },
    {
      "cell_type": "code",
      "source": [
        "b = [\"apple\", \"banana\", \"mango\"]\n",
        "print(b[0])\n",
        "print(b[1])\n",
        "print(b[2])"
      ],
      "metadata": {
        "id": "XFLT5vQ1vz01"
      },
      "execution_count": null,
      "outputs": []
    },
    {
      "cell_type": "code",
      "source": [
        "# Copies of the list\n",
        "\n",
        "a = [1,2,3]\n",
        "b = a\n",
        "c = list(a)\n",
        "print(a,b,c)"
      ],
      "metadata": {
        "id": "hspvhaG0uOix"
      },
      "execution_count": null,
      "outputs": []
    },
    {
      "cell_type": "code",
      "source": [
        "a[0]=10\n",
        "print(a,b,c)"
      ],
      "metadata": {
        "id": "0_XEYBfGucxp"
      },
      "execution_count": null,
      "outputs": []
    },
    {
      "cell_type": "markdown",
      "source": [
        "List slicing\n",
        "---\n",
        "To print a range of elements in the list, you can use the slicing method.\n",
        "\n",
        "---\n",
        "Syntax:\n",
        "\n",
        "        myList[start index: end index: step index]"
      ],
      "metadata": {
        "id": "g5eVTuUd9pEP"
      }
    },
    {
      "cell_type": "code",
      "source": [
        "# The indexes\n",
        "# myFirstList   =   [1,  2,  3,  4,  5]\n",
        "# --------------------------\n",
        "# index              0,  1,  2,  3,  4\n",
        "# negative index    -5, -4, -3, -2, -1\n"
      ],
      "metadata": {
        "id": "a3fXkht79uDH"
      },
      "execution_count": null,
      "outputs": []
    },
    {
      "cell_type": "code",
      "source": [
        "# Slicing of the lists\n",
        "myFirstList = [1,2,3,4,5]\n",
        "print(myFirstList[0:3])\n",
        "print(myFirstList[1:4])"
      ],
      "metadata": {
        "id": "UcB6a4fxxX1g"
      },
      "execution_count": null,
      "outputs": []
    },
    {
      "cell_type": "code",
      "source": [
        "# Slicing of lists with a step\n",
        "myList = [1,2,3,4,5,6,7,8,9,10]\n",
        "print(myList[0:9:2])"
      ],
      "metadata": {
        "id": "gnzzIVQVynzg"
      },
      "execution_count": null,
      "outputs": []
    },
    {
      "cell_type": "code",
      "source": [
        "# Slicing of multidimentional lists\n",
        "myList = [[1,2,3], [4,5,6], [7,8,9]]\n",
        "print(myList[0][0:2])\n",
        "print(myList[1][1:3])"
      ],
      "metadata": {
        "id": "aBZ1HFxSyX2x"
      },
      "execution_count": null,
      "outputs": []
    },
    {
      "cell_type": "markdown",
      "source": [
        "3.2 Tuple\n",
        "---\n",
        "Tuples are used to store multiple values to a single variable. Once a tuple is created, it can not be changed, it is immutable. Tuples are ordered as they are defined and that order will not be changed. You can have duplicates. A tuple is enclosed in parentheses. It is also indexed like strings and lists, starting with index 0. Slicing is also applicable to Tuples to access a range of elements like strings.\n",
        "\n",
        "---\n",
        "\n",
        "Syntax:\n",
        "\n",
        "        myTuple = (element 1, element 2, ..., element n)\n",
        "\n",
        "        myTuple = (element 1,)\n",
        "\n",
        "        myTuple = element 1, element 2, ..., element n\n",
        "\n",
        "        myTuple = tuple()"
      ],
      "metadata": {
        "id": "QakWO2zd97qp"
      }
    },
    {
      "cell_type": "code",
      "source": [
        "# Declaring an empty tuple\n",
        "\n",
        "myTuple = ()"
      ],
      "metadata": {
        "id": "_HPdfxNKzMEz"
      },
      "execution_count": null,
      "outputs": []
    },
    {
      "cell_type": "code",
      "source": [
        "# Declaring a tuple with the help of constructor\n",
        "\n",
        "myTuple = tuple()"
      ],
      "metadata": {
        "id": "45w2qtlAzoI9"
      },
      "execution_count": null,
      "outputs": []
    },
    {
      "cell_type": "code",
      "source": [
        "# Declaring a tuple with one element\n",
        "\n",
        "myTuple = (1,)"
      ],
      "metadata": {
        "id": "AdCGvoZszyB5"
      },
      "execution_count": null,
      "outputs": []
    },
    {
      "cell_type": "code",
      "source": [
        "# Declaring a tuple with many elements\n",
        "myTuple = (1,2,3)"
      ],
      "metadata": {
        "id": "I-DnIlscz4eB"
      },
      "execution_count": null,
      "outputs": []
    },
    {
      "cell_type": "markdown",
      "source": [
        "Tuple indexing\n",
        "---\n",
        "\n",
        "A tuple is also indexed as strings and lists, starting with index 0.\n",
        "\n",
        "---\n",
        "Syntax:\n",
        "\n",
        "        myTuple[index]"
      ],
      "metadata": {
        "id": "AddSoAqo-GgR"
      }
    },
    {
      "cell_type": "code",
      "source": [
        "# Access the tuple with the index numbers\n",
        "\n",
        "# myTuple       =   [1,  2,  3,  4,  5, ..., n]\n",
        "# --------------------------\n",
        "# index              0,  1,  2,  3,  4, ..., n-1\n",
        "# negative index    -n,                 ...,  -1"
      ],
      "metadata": {
        "id": "AXQY-Oiu0S0I"
      },
      "execution_count": null,
      "outputs": []
    },
    {
      "cell_type": "code",
      "source": [
        "myAustralianTuple=(\"Melbourne\", \"Sydney\", \"Brisbane\", \"Perth\")\n",
        "print(myAustralianTuple[0])\n",
        "print(myAustralianTuple[1])\n",
        "print(myAustralianTuple[2])\n",
        "print(myAustralianTuple[3])"
      ],
      "metadata": {
        "id": "QbkK3hlu0Zco"
      },
      "execution_count": null,
      "outputs": []
    },
    {
      "cell_type": "code",
      "source": [
        "myAustralianTuple=(\"Kangaroo\", \"Quokka\", \"Bandicoot\")\n",
        "print(myAustralianTuple[-1])\n",
        "print(myAustralianTuple[-2])\n",
        "print(myAustralianTuple[-3])"
      ],
      "metadata": {
        "id": "QzYeUKwL0hPq"
      },
      "execution_count": null,
      "outputs": []
    },
    {
      "cell_type": "markdown",
      "source": [
        "Tuple slicing\n",
        "---\n",
        "\n",
        "A tuple can also be sliced as strings and lists, starting with index 0.\n",
        "\n",
        "---\n",
        "Syntax:\n",
        "\n",
        "        myTuple[start index: end index]"
      ],
      "metadata": {
        "id": "xtoNyTmq-Mtr"
      }
    },
    {
      "cell_type": "code",
      "source": [
        "# Slice tuple with the index numbers\n",
        "\n",
        "# myTuple       =   [1,  2,  3,  4,  5, ..., n]\n",
        "# --------------------------\n",
        "# index              0,  1,  2,  3,  4, ..., n-1\n",
        "# negative index    -n,                 ...,  -1"
      ],
      "metadata": {
        "id": "aOdTuNRP-Ro6"
      },
      "execution_count": null,
      "outputs": []
    },
    {
      "cell_type": "code",
      "source": [
        "myTuple = (1,2,3,4,5,6,7,8,9,10)\n",
        "print(myTuple[0:3])\n",
        "print(myTuple[1:4])"
      ],
      "metadata": {
        "id": "U2N6s-l61EhA"
      },
      "execution_count": null,
      "outputs": []
    },
    {
      "cell_type": "code",
      "source": [
        "myTuple=(10, 11, \"Python\", \"A\", True)\n",
        "print(myTuple[0:3])\n",
        "print(myTuple[1:4])"
      ],
      "metadata": {
        "id": "G4-zrTzA1HUa"
      },
      "execution_count": null,
      "outputs": []
    },
    {
      "cell_type": "markdown",
      "source": [
        "3.3 Dictionary\n",
        "---\n",
        "A dictionary is an ordered mutable data collection that cannot have key duplicates. The items can be removed, changed, and added. Dictionaries store data using **key:value** pairs enclosed in curly braces. A dictionary key can be an integer, float, string, or boolean. Keys must be unique but the values can be duplicates. Dictionaries are ordered starting from Python version 3.6. The values in the dictionaries are indexed by keys.\n",
        "\n",
        "---\n",
        "Syntax:\n",
        "\n",
        "        myDictionary = {key 1: value, key 2: value, ..., key n: value}\n",
        "\n",
        "        myDictionary = {key: value}\n",
        "\n",
        "        myDictionary = dict()"
      ],
      "metadata": {
        "id": "q7eq4Kzr-Wyy"
      }
    },
    {
      "cell_type": "code",
      "source": [
        "# Declaring an empty dictionary\n",
        "myDictionary = {}"
      ],
      "metadata": {
        "id": "S7Tg3ukP1tT6"
      },
      "execution_count": null,
      "outputs": []
    },
    {
      "cell_type": "code",
      "source": [
        "# Declaring an empty dictionary with the help of constructor\n",
        "myDictionary = dict()"
      ],
      "metadata": {
        "id": "-M4qGOzx10Iy"
      },
      "execution_count": null,
      "outputs": []
    },
    {
      "cell_type": "code",
      "source": [
        "# Declaring the dictionary with key:value pairs\n",
        "\n",
        "myTestDictionary = {1: \"apple\", 2: \"banana\", 3: \"mango\"}"
      ],
      "metadata": {
        "id": "XtHrUS0J1_xU"
      },
      "execution_count": null,
      "outputs": []
    },
    {
      "cell_type": "code",
      "source": [
        "# Declaring the nested dictionary\n",
        "myTestDictionary = {1: \"apple\", 2: \"banana\", 3: \"mango\", 4: [\"apple\", \"banana\", \"mango\"]}"
      ],
      "metadata": {
        "id": "2N7ErA992OSj"
      },
      "execution_count": null,
      "outputs": []
    },
    {
      "cell_type": "code",
      "source": [
        "# Accessing the dictionary's values\n",
        "print(myTestDictionary[1])"
      ],
      "metadata": {
        "id": "MUly2W6W2Xpn"
      },
      "execution_count": null,
      "outputs": []
    },
    {
      "cell_type": "code",
      "source": [
        "# Accessing the dicionary's values in the nested dictionary\n",
        "print(myTestDictionary[4][1])"
      ],
      "metadata": {
        "id": "AFqgee472sPv"
      },
      "execution_count": null,
      "outputs": []
    },
    {
      "cell_type": "markdown",
      "source": [
        "3.4 Set\n",
        "---\n",
        "\n",
        "A set is used to store multiple elements in a single variable.\n",
        "It is an unordered, unchangeable, unindexed sequence. Every time\n",
        "you access the set, the order of the elements may vary. Elements of a\n",
        "set cannot be accessed by an index number. You cannot modify the\n",
        "set, but you can remove or add elements. Duplicates are not allowed.\n",
        "\n",
        "---\n",
        "\n",
        "Syntax:\n",
        "\n",
        "        mySet = {element 1, element 2, ..., element n}\n",
        "\n",
        "        mySet = {element 1}\n",
        "\n",
        "        mySet = set()"
      ],
      "metadata": {
        "id": "QwlDyB2x-pGk"
      }
    },
    {
      "cell_type": "code",
      "source": [
        "# Set declaration\n",
        "mySet = {1,2,3}"
      ],
      "metadata": {
        "id": "oeygxRzu3HfS"
      },
      "execution_count": null,
      "outputs": []
    },
    {
      "cell_type": "code",
      "source": [
        "# Set declaration with one element\n",
        "mySet = {1}"
      ],
      "metadata": {
        "id": "MrRldZhf3M4t"
      },
      "execution_count": null,
      "outputs": []
    },
    {
      "cell_type": "code",
      "source": [
        "# An empty set declaration using a constructor\n",
        "mySet = set()"
      ],
      "metadata": {
        "id": "vbLENyb93SD7"
      },
      "execution_count": null,
      "outputs": []
    },
    {
      "cell_type": "code",
      "source": [
        "# An empty set declaration ?\n",
        "mySet = {}\n",
        "print(type(mySet))"
      ],
      "metadata": {
        "id": "PeZ2TGBA3cQ7"
      },
      "execution_count": null,
      "outputs": []
    },
    {
      "cell_type": "markdown",
      "source": [
        "3.5 Summary of data collections\n",
        "---\n",
        "\n",
        "  \n",
        "    String          List        Tuple      Dictionary / Set\n",
        "\n",
        "    immutable     mutable      immutable      mutable / mutable\n",
        "    order/index order/index  order/index        order / unorder/unindexed\n",
        "    duplicates    duplicates   duplicates  duplicates / noduplicates\n",
        "      \"   \"        [   ]        (  )           {   }  / {*}, set()\n",
        "      str()        list()      tuple()        dict()  / set()\n",
        "\n",
        "    {*} - A set can not be declared with empty braces"
      ],
      "metadata": {
        "id": "nTOyINt0-v-t"
      }
    },
    {
      "cell_type": "markdown",
      "source": [
        "# Section 4: Control flow\n",
        "\n",
        "4.1 if ... statements\n",
        "\n",
        "4.2 For loops\n",
        "\n",
        "4.3 While loops\n"
      ],
      "metadata": {
        "id": "TFze9voDAEKF"
      }
    },
    {
      "cell_type": "markdown",
      "source": [
        "4.1 if ... statements\n",
        "---\n",
        "The if statement is used to check against some conditions along the code. There are three forms of the if statements in Python that can be used: if, if ... else, if ... elif ... else.\n",
        "\n",
        "---\n",
        "\n",
        "Syntax:\n",
        "\n",
        "        if condition: block of code\n",
        "\n",
        "        if condition: block of code else: block of code\n",
        "\n",
        "        if condition: block of code elif condition: block of code else: block of code"
      ],
      "metadata": {
        "id": "fpWUwRLIAIY_"
      }
    },
    {
      "cell_type": "code",
      "source": [
        "# if statement in two lines\n",
        "if True:\n",
        "  print(\"Hello,Python!\")"
      ],
      "metadata": {
        "id": "RqRi5B4aI0rb"
      },
      "execution_count": null,
      "outputs": []
    },
    {
      "cell_type": "code",
      "source": [
        "a = 5\n",
        "\n",
        "if a == 5: print(\"My variable is \", a)"
      ],
      "metadata": {
        "colab": {
          "base_uri": "https://localhost:8080/"
        },
        "id": "25ihdtDaJh--",
        "outputId": "6a0c1aec-361b-40a7-a5b2-805131d48430"
      },
      "execution_count": null,
      "outputs": [
        {
          "output_type": "stream",
          "name": "stdout",
          "text": [
            "My variable is  5\n"
          ]
        }
      ]
    },
    {
      "cell_type": "code",
      "source": [
        "a = -5\n",
        "if a != 5:\n",
        "  print(\"My variable is \", a)"
      ],
      "metadata": {
        "colab": {
          "base_uri": "https://localhost:8080/"
        },
        "id": "iDmEXAT_J-rH",
        "outputId": "207d69a8-7dae-499e-8bf4-6f90f0a4fb7d"
      },
      "execution_count": null,
      "outputs": [
        {
          "output_type": "stream",
          "name": "stdout",
          "text": [
            "My variable is  -5\n"
          ]
        }
      ]
    },
    {
      "cell_type": "code",
      "source": [
        "a = 10\n",
        "b = 5\n",
        "if a > b: print(\"a is greater than b\")"
      ],
      "metadata": {
        "colab": {
          "base_uri": "https://localhost:8080/"
        },
        "id": "09dwE5i5KG2M",
        "outputId": "96dca833-e4e1-42b2-cdf2-1d86328acc2c"
      },
      "execution_count": null,
      "outputs": [
        {
          "output_type": "stream",
          "name": "stdout",
          "text": [
            "a is greater than b\n"
          ]
        }
      ]
    },
    {
      "cell_type": "code",
      "source": [
        "# Python automatically converts the integer to a float when comparing, so you don't need to explicitly convert types.\n",
        "a= 5\n",
        "b = 10.1\n",
        "if a < b: print(\"b is greater than a\")"
      ],
      "metadata": {
        "colab": {
          "base_uri": "https://localhost:8080/"
        },
        "id": "fDWm45zZKjQe",
        "outputId": "85f53b03-b226-4a46-d652-9fa4a543e9ec"
      },
      "execution_count": null,
      "outputs": [
        {
          "output_type": "stream",
          "name": "stdout",
          "text": [
            "b is greater than a\n"
          ]
        }
      ]
    },
    {
      "cell_type": "code",
      "source": [
        "# if condition: block else: block\n",
        "a = 'A'\n",
        "b = 'a'\n",
        "if a == b:\n",
        "  print(\"a and b are equal\")\n",
        "else:\n",
        "  print(\"a and b are not equal\")"
      ],
      "metadata": {
        "colab": {
          "base_uri": "https://localhost:8080/"
        },
        "id": "M8hIe3voLAnZ",
        "outputId": "4a630a70-829c-402e-d7e1-6a20a83089dc"
      },
      "execution_count": null,
      "outputs": [
        {
          "output_type": "stream",
          "name": "stdout",
          "text": [
            "a and b are not equal\n"
          ]
        }
      ]
    },
    {
      "cell_type": "code",
      "source": [
        "if a != b:\n",
        "  print(\"a and b are not equal\")\n",
        "elif a == b:\n",
        "  print(\"a and b are equal\")\n",
        "else:\n",
        "  print(\"a and b are not equal\")"
      ],
      "metadata": {
        "colab": {
          "base_uri": "https://localhost:8080/"
        },
        "id": "avVM3YkALv4A",
        "outputId": "41a0165c-fcb3-4630-aef3-23cb49de40bf"
      },
      "execution_count": null,
      "outputs": [
        {
          "output_type": "stream",
          "name": "stdout",
          "text": [
            "a and b are equal\n"
          ]
        }
      ]
    },
    {
      "cell_type": "markdown",
      "source": [
        "4.2 For loops\n",
        "---\n",
        "A for loop is an iterative function that allows you to iterate over a data sequence. There are two keywords in the for loop structure: \"for\" and \"in\". The for loop statement will access each element of the sequence at each iteration. The loop will continue iterating until it reaches the last element of a sequence.\n",
        "\n",
        "---\n",
        "\n",
        "Syntax:\n",
        "\n",
        "        for variable in iterable: block of code"
      ],
      "metadata": {
        "id": "8CBsqCFtASqE"
      }
    },
    {
      "cell_type": "code",
      "source": [
        "# range (start, stop, step)\n",
        "for i in range(5):\n",
        "  print(i)"
      ],
      "metadata": {
        "id": "pjk5v9RxMar9"
      },
      "execution_count": null,
      "outputs": []
    },
    {
      "cell_type": "code",
      "source": [
        "for i in range(0,10,2):\n",
        "  print(i)"
      ],
      "metadata": {
        "id": "frSZl_3kMqeq"
      },
      "execution_count": null,
      "outputs": []
    },
    {
      "cell_type": "code",
      "source": [
        "myList = [\"A\", \"B\", \"C\", \"D\"]\n",
        "for i in myList:\n",
        "  print(i, end=\"\")"
      ],
      "metadata": {
        "id": "UzxPlckbNA8L"
      },
      "execution_count": null,
      "outputs": []
    },
    {
      "cell_type": "code",
      "source": [
        "myString=\"Hello, Python!\"\n",
        "for i in myString:\n",
        "  print(i, end=\"\")"
      ],
      "metadata": {
        "colab": {
          "base_uri": "https://localhost:8080/"
        },
        "id": "fsvOyf7aNS0t",
        "outputId": "8790f37f-f721-433a-8039-4571682ed780"
      },
      "execution_count": null,
      "outputs": [
        {
          "output_type": "stream",
          "name": "stdout",
          "text": [
            "Hello, Python!"
          ]
        }
      ]
    },
    {
      "cell_type": "code",
      "source": [
        "for i in \"October 16th, 2024\":\n",
        "  print(i, end=\"\")"
      ],
      "metadata": {
        "colab": {
          "base_uri": "https://localhost:8080/"
        },
        "id": "mmurVdFxNfCS",
        "outputId": "35177b8f-0d7d-49c7-d1b4-1dc4b67ce627"
      },
      "execution_count": null,
      "outputs": [
        {
          "output_type": "stream",
          "name": "stdout",
          "text": [
            "October 16th, 2024"
          ]
        }
      ]
    },
    {
      "cell_type": "code",
      "source": [
        "myList = [\"A\", \"B\", \"C\", \"D\"]\n",
        "for i in range(len(myList)):\n",
        "  print(i, myList[i])"
      ],
      "metadata": {
        "id": "kmDhS9frPcBJ"
      },
      "execution_count": null,
      "outputs": []
    },
    {
      "cell_type": "code",
      "source": [
        "myDict = {\"A\":1, \"B\":2, \"C\":3, \"D\":4}\n",
        "for i in myDict:\n",
        "  print(i, myDict[i])"
      ],
      "metadata": {
        "id": "MfFfx_VjP7lw"
      },
      "execution_count": null,
      "outputs": []
    },
    {
      "cell_type": "code",
      "source": [
        "for i in range(3):\n",
        "  for j in range(3):\n",
        "    print(i,j)\n",
        "    break"
      ],
      "metadata": {
        "id": "gZbbuEeQRV2_"
      },
      "execution_count": null,
      "outputs": []
    },
    {
      "cell_type": "code",
      "source": [
        "\n",
        "for i in range(3):\n",
        "  for j in range(3):\n",
        "    print(i,j)\n",
        "    continue\n",
        "    print(i,j)"
      ],
      "metadata": {
        "id": "3upT891FSgbP"
      },
      "execution_count": null,
      "outputs": []
    },
    {
      "cell_type": "markdown",
      "source": [
        "4.3 While loops\n",
        "---\n",
        "While loop executes a block of code as long as condition is True.\n",
        "\n",
        "---\n",
        "\n",
        "Syntax:\n",
        "\n",
        "        while condition: block of code"
      ],
      "metadata": {
        "id": "LDzp6FEJAcc3"
      }
    },
    {
      "cell_type": "code",
      "source": [
        "# while loop\n",
        "\n",
        "while True:\n",
        "  print(\"Hello, Python!\")"
      ],
      "metadata": {
        "id": "aksrkyO3QmP8"
      },
      "execution_count": null,
      "outputs": []
    },
    {
      "cell_type": "code",
      "source": [
        "i = 1\n",
        "while i < 6:\n",
        "  print(i)\n",
        "  i += 1"
      ],
      "metadata": {
        "id": "j20plTB8RC5G"
      },
      "execution_count": null,
      "outputs": []
    },
    {
      "cell_type": "code",
      "source": [
        "i = 1\n",
        "while i < 6:\n",
        "  print(i)\n",
        "  i+=1\n",
        "  if i == 3:\n",
        "    break"
      ],
      "metadata": {
        "colab": {
          "base_uri": "https://localhost:8080/"
        },
        "id": "1Thxm2g_S6dI",
        "outputId": "a9db76dc-7a21-44e0-d59c-8526800db7c1"
      },
      "execution_count": null,
      "outputs": [
        {
          "output_type": "stream",
          "name": "stdout",
          "text": [
            "1\n",
            "2\n"
          ]
        }
      ]
    },
    {
      "cell_type": "code",
      "source": [
        "i = 1\n",
        "j = 1\n",
        "while i < 3:\n",
        "  while j < 3:\n",
        "    print(i,j)\n",
        "    j += 1\n",
        "  i += 1"
      ],
      "metadata": {
        "colab": {
          "base_uri": "https://localhost:8080/"
        },
        "id": "TxEIv0FwTI4j",
        "outputId": "d5a7b508-0d39-457d-ef34-6b27030da613"
      },
      "execution_count": null,
      "outputs": [
        {
          "output_type": "stream",
          "name": "stdout",
          "text": [
            "1 1\n",
            "1 2\n"
          ]
        }
      ]
    },
    {
      "cell_type": "code",
      "source": [
        "i = 1\n",
        "j = 1\n",
        "while i < 3:\n",
        "  while j < 3:\n",
        "    print(i,j)\n",
        "    break\n",
        "    j +=1\n",
        "  i += 1"
      ],
      "metadata": {
        "id": "jZqX74xWT-XQ"
      },
      "execution_count": null,
      "outputs": []
    },
    {
      "cell_type": "code",
      "source": [
        "i = 1\n",
        "j = 1\n",
        "while i < 3:\n",
        "  while j < 3:\n",
        "    print(i,j)\n",
        "    continue\n",
        "    j +=1\n",
        "  i += 1"
      ],
      "metadata": {
        "id": "Uxcf5-AlUn9t"
      },
      "execution_count": null,
      "outputs": []
    },
    {
      "cell_type": "markdown",
      "source": [
        "# Section 5: Functions\n",
        "\n",
        "5.1 User defined functions\n",
        "\n",
        "5.2 Functions with default parameters\n",
        "\n",
        "5.3 Lambda functions"
      ],
      "metadata": {
        "id": "ITfIvqciYmrJ"
      }
    },
    {
      "cell_type": "markdown",
      "source": [
        "5.1 User-defined functions\n",
        "---\n",
        "Function is a block of orginized code to perform a specific action. Python language provides many built-in functions like print(), len(), range(), and ... However, you can create your own functions that are usually called user-define functions. Functions help to improve readability and usageability of your code.\n",
        "Python reads the program from top to bottom and you need to define a function before yuo can use it. There are a few rules to define a function.\n",
        "\n",
        "1. A function declared using the def keyword following by a function name and parenthesis, and ending with a column.\n",
        "2. Parameters can be placed inside of the parenthesis.\n",
        "3. The code block or multiple statements should be indented.\n",
        "4. The return statement will exit the function and pass a result to the caller.value\n",
        "\n",
        "---\n",
        "\n",
        "Syntax:\n",
        "\n",
        "        def functionName(parameters): block of code / return value"
      ],
      "metadata": {
        "id": "OoepsAPRYumd"
      }
    },
    {
      "cell_type": "code",
      "source": [
        "# User defined function\n",
        "\n",
        "def myNewFunc():\n",
        "  print(\"Hello, Python!\")\n",
        "\n",
        "myNewFunc()"
      ],
      "metadata": {
        "id": "zsoZsOWwgGZx"
      },
      "execution_count": null,
      "outputs": []
    },
    {
      "cell_type": "code",
      "source": [
        "# User defined function with an argument\n",
        "\n",
        "def myNextFunc(a):\n",
        "  print(\"It is an\",a)\n",
        "\n",
        "myNextFunc('apple')"
      ],
      "metadata": {
        "id": "XsNK1afzgoGF"
      },
      "execution_count": null,
      "outputs": []
    },
    {
      "cell_type": "code",
      "source": [
        "# User defined function with positional arguments\n",
        "\n",
        "def myFruitFunc(a,b,c):\n",
        "  print(\"There are three fruits:\", a, b, c)\n",
        "\n",
        "myFruitFunc('apple', 'banana', 'mango')"
      ],
      "metadata": {
        "id": "OYfjlJ1OlUTu"
      },
      "execution_count": null,
      "outputs": []
    },
    {
      "cell_type": "code",
      "source": [
        "# User defined function with an arbitrary number of arguments +'grape', 'fig'\n",
        "\n",
        "def myNextFunc(*args):\n",
        "  print(\"There are three fruits: \", args)\n",
        "\n",
        "myNextFunc('apple','banana','mango')"
      ],
      "metadata": {
        "id": "b4jqYttJi92c"
      },
      "execution_count": null,
      "outputs": []
    },
    {
      "cell_type": "code",
      "source": [
        "# User defined function with an keyword arguments\n",
        "\n",
        "def myNextFunc(a, b, c):\n",
        "  print(\"There are three fruits: \", a, b, c)\n",
        "\n",
        "myNextFunc(a='apple', b='banana', c='mango')\n"
      ],
      "metadata": {
        "colab": {
          "base_uri": "https://localhost:8080/"
        },
        "id": "44ZiJDmeh0BU",
        "outputId": "48801a99-174e-4edf-bc56-a166b7341459"
      },
      "execution_count": null,
      "outputs": [
        {
          "output_type": "stream",
          "name": "stdout",
          "text": [
            "There are three fruits:  apple banana mango\n"
          ]
        }
      ]
    },
    {
      "cell_type": "code",
      "source": [
        "# User defined function with an arbitrary number of keyword arguments\n",
        "\n",
        "def myNextFunc(**kwargs):\n",
        "  print(\"There are three fruits: \", kwargs)\n",
        "\n",
        "myNextFunc(a='apple', b='banana', c='mango')"
      ],
      "metadata": {
        "id": "w7Jv-v4-j7Vo"
      },
      "execution_count": null,
      "outputs": []
    },
    {
      "cell_type": "code",
      "source": [
        "# User defined function with an arbitrary number of positional and keyword arguments\n",
        "def myNextFunc(a,b,c):\n",
        "  print(\"There are three fruits: \", a, b, c)\n",
        "\n",
        "myNextFunc('apple','banana', c='mango')"
      ],
      "metadata": {
        "id": "CE7M4vXEk5wE"
      },
      "execution_count": null,
      "outputs": []
    },
    {
      "cell_type": "markdown",
      "source": [
        "5.2 Functions with default parameters\n",
        "---\n",
        "Functions can be defined (created) with default parameters that are the values that parameters can accept by default if arguments are not provided.\n",
        "\n",
        "---\n",
        "\n",
        "Syntax:\n",
        "\n",
        "           def  functionName(param 1, param 2 = val 2, ..., param n = value n): block of code\n",
        "           call functionName(arg 1, arg 2, ..., arg n)\n",
        "\n",
        "---"
      ],
      "metadata": {
        "id": "kn3Lau1kY_Q-"
      }
    },
    {
      "cell_type": "code",
      "source": [
        "# User defined function with one default parameter\n",
        "\n",
        "def myNextFunc(a = 'fig'):\n",
        "  print(\"It is an\", a)\n",
        "\n",
        "myNextFunc()"
      ],
      "metadata": {
        "id": "rYrd4CZWm-h9"
      },
      "execution_count": null,
      "outputs": []
    },
    {
      "cell_type": "code",
      "source": [
        "# User defined function with many default parameters\n",
        "\n",
        "def myNextFunc(f = 'fig', b = 'banana'):\n",
        "  print(\"There are \", f, \"and\", b)\n",
        "\n",
        "myNextFunc()"
      ],
      "metadata": {
        "id": "VZZSEXAznNAu"
      },
      "execution_count": null,
      "outputs": []
    },
    {
      "cell_type": "markdown",
      "source": [
        "5.3 Lambda functions\n",
        "---\n",
        "Lambda function is a function that does not have a function name. A lambda function can take any number of arguments but can have only one expression.\n",
        "\n",
        "---\n",
        "\n",
        "Syntax:\n",
        "\n",
        "        lambda variable: one expression"
      ],
      "metadata": {
        "id": "mKTE17KMZISQ"
      }
    },
    {
      "cell_type": "code",
      "source": [
        "# A lambda function can take any number of arguments but have only one expression\n",
        "# lambda arguments : expression\n",
        "\n",
        "myLambda = lambda a,b: a + b\n",
        "print(myLambda(10, 11.1))"
      ],
      "metadata": {
        "id": "lfHDWQefYmGd"
      },
      "execution_count": null,
      "outputs": []
    },
    {
      "cell_type": "code",
      "source": [
        "# A lambda function can take any number of arguments but have only one expression\n",
        "# lambda arguments : expression\n",
        "\n",
        "myLambda = lambda a,b,c=5: a * b * c\n",
        "print(myLambda(10, 11.1))"
      ],
      "metadata": {
        "id": "L7dTx98-exfd"
      },
      "execution_count": null,
      "outputs": []
    },
    {
      "cell_type": "code",
      "source": [
        "def myFunc(a):\n",
        "  return lambda a: a * a\n",
        "\n",
        "tempFunc = myFunc(2)\n",
        "print (tempFunc(2))"
      ],
      "metadata": {
        "id": "pp7V-3Ote9nx"
      },
      "execution_count": null,
      "outputs": []
    },
    {
      "cell_type": "markdown",
      "source": [
        "# Section 6: Modules\n",
        "\n",
        "6.1 Built-in modules\n",
        "\n",
        "6.2 Importing modules\n",
        "\n",
        "6.3 Plotting modules"
      ],
      "metadata": {
        "id": "xQqom8koZXni"
      }
    },
    {
      "cell_type": "markdown",
      "source": [
        "6.1 Built-in modules\n",
        "---\n",
        "We decompose our code in smaller pieces to make our code more readable. The way we can do this is to import modules to the code. A file that contains a set of functions is called a module. This module can be accessed from a program using \"**import**\" keyword. A module can also contain variables of all data types. You need to import a module to access all the functions and variables. Most python distributions come with many build-in modules like os, sys, time, math ... Here are a few examples with built-in functions such as os, sys, time, datetime, and math.\n",
        "\n",
        "---"
      ],
      "metadata": {
        "id": "vh9DJN1RaPlz"
      }
    },
    {
      "cell_type": "code",
      "source": [
        "# In this example the version of Python interpreter is return as string\n",
        "import sys\n",
        "\n",
        "print(sys.version)"
      ],
      "metadata": {
        "id": "T8ADtc1ZaV3G"
      },
      "execution_count": null,
      "outputs": []
    },
    {
      "cell_type": "code",
      "source": [
        "# In this example we use sys.path that returns a list of directories\n",
        "# where the Python interpreter will search for the available modules.\n",
        "import sys\n",
        "\n",
        "print(sys.path)"
      ],
      "metadata": {
        "id": "dryhewNAaaMN"
      },
      "execution_count": null,
      "outputs": []
    },
    {
      "cell_type": "code",
      "source": [
        "# To specify exact entity we need to use the following syntax.\n",
        "import math\n",
        "\n",
        "print(math.pi)"
      ],
      "metadata": {
        "id": "vAeFXKFKal73"
      },
      "execution_count": null,
      "outputs": []
    },
    {
      "cell_type": "code",
      "source": [
        "# There is a dir() function that lists all the functions inside of a module\n",
        "import math\n",
        "\n",
        "myFirstList=dir(math)\n",
        "print(myFirstList)"
      ],
      "metadata": {
        "id": "g6dXKzFsaqae"
      },
      "execution_count": null,
      "outputs": []
    },
    {
      "cell_type": "markdown",
      "source": [
        "6.2 Importing modules\n",
        "---\n",
        "\n",
        "Syntax:\n",
        "\n",
        "        1. import module\n",
        "\n",
        "        2. from module import *\n",
        "        \n",
        "        3. from module import entity1, entity2, ...\n",
        "        \n",
        "        4. import module as short name or alias\n",
        "        \n",
        "        5. from module import entity name as short name\n",
        "        \n",
        "        Both statements ( 1. and 2. ) are importing all\n",
        "        the entities from the module. The difference is\n",
        "        that in the first example you need to use prefix\n",
        "        (module.method) to refer to the method and in the\n",
        "        second example you do not need to use the prefix."
      ],
      "metadata": {
        "id": "j71U86Tfa5f9"
      }
    },
    {
      "cell_type": "code",
      "source": [
        "# Importing just the entire module, importing all the entities.\n",
        "import math\n",
        "\n",
        "print(math.acos(-1))\n",
        "print(math.pi)"
      ],
      "metadata": {
        "id": "RjYE2kwZbAfN"
      },
      "execution_count": null,
      "outputs": []
    },
    {
      "cell_type": "code",
      "source": [
        "# Importing just some of the entities.\n",
        "from math import acos, pi\n",
        "\n",
        "print(acos(-1))\n",
        "print(pi)"
      ],
      "metadata": {
        "id": "Oh90hUyBcLWZ"
      },
      "execution_count": null,
      "outputs": []
    },
    {
      "cell_type": "code",
      "source": [
        "# You can also import a module using an alias to refer to the module,\n",
        "# a shorter name or an acronym for example.\n",
        "import math as m\n",
        "\n",
        "print(m.acos(-1))\n",
        "print(m.pi)"
      ],
      "metadata": {
        "id": "8Hu_foDFcU3r"
      },
      "execution_count": null,
      "outputs": []
    },
    {
      "cell_type": "code",
      "source": [
        "# You can import everything from the module using an asterisk.\n",
        "# It is not recommended to do so since a lot of conflicts can appear with your\n",
        "# own function names and they will be replaced. You also need to notice that\n",
        "# you do not need to specify math prefix anymore. You can just use the name itself.\n",
        "#def sqrt(a): return 1.9\n",
        "\n",
        "from math import *\n",
        "\n",
        "print(\"Pi number\", sqrt(2))"
      ],
      "metadata": {
        "id": "gqW-mdVebZfw"
      },
      "execution_count": null,
      "outputs": []
    },
    {
      "cell_type": "markdown",
      "source": [
        "6.4 Plotting module\n",
        "---\n",
        "Matplotlib is the most popular plotting module. It is used to create static, animated, and interactive graphs."
      ],
      "metadata": {
        "id": "UI_rLX0tdlOR"
      }
    },
    {
      "cell_type": "code",
      "source": [
        "# Importing the required module as alias plt\n",
        "import matplotlib.pyplot as plt\n",
        "\n",
        "# Generate x,y-axis values\n",
        "x=[1,2,3,4]\n",
        "y=[1,2,3,4]\n",
        "\n",
        "# Plotting the points\n",
        "plt.plot(x,y)\n",
        "\n",
        "# Figure and axis titles\n",
        "plt.title ('Figure Title', fontsize=12, color='red')\n",
        "plt.xlabel('X-axis Title', fontsize=12, color='blue')\n",
        "plt.ylabel('Y-axis Title', fontsize=12, color='black')\n",
        "\n",
        "# Show the plot using show() function\n",
        "plt.show()"
      ],
      "metadata": {
        "id": "mJIBcT6qdq3R"
      },
      "execution_count": null,
      "outputs": []
    },
    {
      "cell_type": "code",
      "source": [
        "# Importing the required module as alias plt and np\n",
        "import matplotlib.pyplot as plt\n",
        "import numpy as np\n",
        "\n",
        "# Generate x,y-axis values\n",
        "x = np.array([1, 8])\n",
        "y = np.array([3, 10])\n",
        "\n",
        "# Plotting the points\n",
        "plt.plot(x, y)\n",
        "\n",
        "# Figure and axis titles\n",
        "plt.title ('Figure Title', fontsize=12, color='red')\n",
        "plt.xlabel('X-axis Title', fontsize=12, color='blue')\n",
        "plt.ylabel('Y-axis Title', fontsize=12, color='black')\n",
        "\n",
        "# Show the plot using show() function\n",
        "plt.show()"
      ],
      "metadata": {
        "id": "piJWpyhVdyWL"
      },
      "execution_count": null,
      "outputs": []
    },
    {
      "cell_type": "code",
      "source": [
        "# Importing the required module as alias plt, mth, and np\n",
        "import matplotlib.pyplot as plt\n",
        "import math as mth\n",
        "import numpy as np\n",
        "\n",
        "# Generate x from 0 to 1*pi (not included) with the step size of 0.01 between each value\n",
        "x = np.arange(0,10 * np.pi, 0.01)\n",
        "y = np.cos(x)\n",
        "\n",
        "# Plotting the points\n",
        "plt.plot(x, y)\n",
        "plt.grid(True)\n",
        "\n",
        "plt.xlabel('x', fontsize=12, color='blue')\n",
        "plt.ylabel('cos(x)', fontsize=12, color='blue')\n",
        "plt.title('Cosine Function', fontsize=12, color='blue')\n",
        "\n",
        "# Show the plot using show() function\n",
        "plt.show()"
      ],
      "metadata": {
        "id": "e9rWqJHXd93q"
      },
      "execution_count": null,
      "outputs": []
    },
    {
      "cell_type": "markdown",
      "source": [
        "# Section 7: Classes\n",
        "\n",
        "7.1 Building simple classes\n",
        "\n",
        "7.2 Classes and objects\n",
        "\n",
        "7.3 Encapsulation and abstraction\n",
        "\n",
        "7.4 Inheritance"
      ],
      "metadata": {
        "id": "u03MfTg95C8b"
      }
    },
    {
      "cell_type": "markdown",
      "source": [
        "7.1 Building simple classes\n",
        "---\n",
        "Python is an object-oriented high-level programming (OOP) language. Objects are an important part of the Python programming. In fact, everything is an object in Python with default data and some functionality. Objects have attributes (variables) and methods (functions) specified in the class. To build an object, you need to use a constructor function ( _ _ init _ _() ). A constructor is a special function that is used to make an instance of a class. A class is like a blueprint that helps to create an object. You can then use that object (instance) of a class to assign some data and functionality. There are four main principles of object-oriented high-level programming.\n",
        "\n",
        "---\n",
        "\n",
        "Syntax:\n",
        "\n",
        "        class ClassName():\n",
        "              def _ _ init _ _(self):\n",
        "                  block of code"
      ],
      "metadata": {
        "id": "TlNzM9365hdP"
      }
    },
    {
      "cell_type": "code",
      "source": [
        "# Creating your first class\n",
        "\n",
        "class FirstClass:\n",
        "      myVariable = 1"
      ],
      "metadata": {
        "id": "KiHzW0te51lK"
      },
      "execution_count": null,
      "outputs": []
    },
    {
      "cell_type": "code",
      "source": [
        "# Creating an object of this class\n",
        "\n",
        "myObject = FirstClass()\n",
        "print(myObject.myVariable)"
      ],
      "metadata": {
        "id": "bv7IboTF72Vc"
      },
      "execution_count": null,
      "outputs": []
    },
    {
      "cell_type": "markdown",
      "source": [
        "7.2 Classes and objects\n",
        "---\n",
        "The _ _ init _ _() function is called automatically everytime a new object is created. All python constructors must have at least one parameter, by convention it is called \"**self**\", however, you can call it anything you want. The \"**self**\" parameter is used to access variables that belong to the class. First argument of the constructor is always filled automatically for us. Attributes are just variables inside of your constructor function.\n",
        "\n",
        "---"
      ],
      "metadata": {
        "id": "KXPkyYgr6kXu"
      }
    },
    {
      "cell_type": "code",
      "source": [
        "# Using _ _init_ _() function with classes\n",
        "\n",
        "# Class definition template\n",
        "class Employee:\n",
        "\n",
        "      # Class constructor\n",
        "      def __init__(self, name, age):\n",
        "\n",
        "        # Class attributes\n",
        "        self.name = name\n",
        "        self.age = age"
      ],
      "metadata": {
        "id": "iU-SrUfl56Ex"
      },
      "execution_count": null,
      "outputs": []
    },
    {
      "cell_type": "code",
      "source": [
        "# Using _ _init_ _() function with classes\n",
        "\n",
        "# Class definition template\n",
        "class Employee:\n",
        "      def __init__(self, name, age):\n",
        "        self.name = name\n",
        "        self.age = age\n",
        "\n",
        "      # Class method\n",
        "      def listInfo(self):\n",
        "        print(\"Hello, My name is\", self.name, \"and I am\", self.age, \"years old.\")\n",
        "\n",
        "# Creating a new object of a class, the first argument is the reference to the object.\n",
        "mySecondObject = Employee(\"John\", 48)\n",
        "\n",
        "# Accessing the method of the class\n",
        "print(mySecondObject)"
      ],
      "metadata": {
        "id": "D6qvdjex6BC_"
      },
      "execution_count": null,
      "outputs": []
    },
    {
      "cell_type": "code",
      "source": [
        "# Using _ _init_ _() and _ _ str_ _() functions with classes\n",
        "\n",
        "# Class definition template\n",
        "class Employee:\n",
        "      def __init__(self, name, age):\n",
        "        self.name = name\n",
        "        self.age = age\n",
        "\n",
        "      # Class method\n",
        "      def __str__(self):\n",
        "        return f\"Hello, My name is, {self.name}, and I am, {self.age}, years old.\"\n",
        "\n",
        "# Creating a new object of a class, the first argument is the reference to the object.\n",
        "mySecondObject = Employee(\"John\", 48)\n",
        "\n",
        "# Accessing the method of the class\n",
        "print(mySecondObject)"
      ],
      "metadata": {
        "id": "LmpvPOYw9ODf"
      },
      "execution_count": null,
      "outputs": []
    },
    {
      "cell_type": "code",
      "source": [
        "# Using _ _init_ _() function with classes\n",
        "\n",
        "# Class definition template\n",
        "class Employee:\n",
        "      def __init__(self, name, age):\n",
        "        self.name = name\n",
        "        self.age = age\n",
        "\n",
        "      # Class method\n",
        "      def listInfo(self):\n",
        "        print(\"Hello, My name is\", self.name, \"and I am\", self.age, \"years old.\")\n",
        "\n",
        "# Creating a new object of a class, the first argument is the reference to the object.\n",
        "mySecondObject = Employee(\"John\", 48)\n",
        "\n",
        "# Accessing the method of the class\n",
        "mySecondObject.listInfo()"
      ],
      "metadata": {
        "id": "Eto3o9TqCG24"
      },
      "execution_count": null,
      "outputs": []
    },
    {
      "cell_type": "markdown",
      "source": [
        "7.3 Encapsulation and abstraction\n",
        "---\n",
        " Encapsulation involves the bundling of data (attributes) and method (functions) that operate on data within a single unit. A single unit is known as a class. It allows one to access and modify the attributes while keeping the attributes private.\n",
        "\n",
        " Abstraction is a way to simplify the complex reality by creating a class and hide some unnecessary details. You can implement abstraction using classes and methods, where you show only the relevant details and hiding the internal implementation.  \n",
        "\n",
        "---"
      ],
      "metadata": {
        "id": "RMDf8QO_6v1I"
      }
    },
    {
      "cell_type": "code",
      "source": [
        "class Train:\n",
        "\n",
        "    # Constructor\n",
        "    def __init__(self, kind, length, speed):\n",
        "\n",
        "        # Properties of the class\n",
        "        self.kind     = kind\n",
        "        self.length   = length\n",
        "        self.speed    = speed\n",
        "\n",
        "    # Adding methods of the class\n",
        "    def speed_up(self):\n",
        "        self.speed += 1\n",
        "\n",
        "    def speed_down(self):\n",
        "        self.speed -= 1\n",
        "\n",
        "    def show_speed(self):\n",
        "        print(\"Current speed of my train is\", self.speed, \"miles an hour\")\n",
        "\n",
        "# Creating an object\n",
        "myTrain = Train(\"High-speed\", 2, 0)\n",
        "\n",
        "myTrain.speed_up()\n",
        "myTrain.speed_up()\n",
        "myTrain.speed_up()\n",
        "\n",
        "myTrain.show_speed()"
      ],
      "metadata": {
        "id": "LIIyJAu162fZ"
      },
      "execution_count": null,
      "outputs": []
    },
    {
      "cell_type": "markdown",
      "source": [
        "7.4 Enheritance\n",
        "---\n",
        " Enheritance provides a way to create a new class based on the existing class, inheriting its attributes and methods. We can create a superclass, which is broad and subclass that is more detailed. Here is an example of the inheritance.\n",
        "\n",
        "---"
      ],
      "metadata": {
        "id": "YLcrQovx_h-b"
      }
    },
    {
      "cell_type": "code",
      "source": [
        "# Define a parent or superclass class.\n",
        "# Animal is the broad category, encompassing all living organisms.\n",
        "\n",
        "class Animal:\n",
        "    pass\n",
        "\n",
        "# Define a child or subclass class that inherits from Animal.\n",
        "\n",
        "class Dog(Animal):\n",
        "    pass\n",
        "\n",
        "# Define a child or subclass class that inherits from Animal.\n",
        "\n",
        "class Cat(Animal):\n",
        "    pass\n",
        "\n",
        "#issubclass(Dog,Animal)\n",
        "#issubclass(Cat,Animal)\n",
        "\n",
        "myDog = Dog()\n",
        "print(myDog.__dict__)"
      ],
      "metadata": {
        "id": "IlmHvzst_mRC"
      },
      "execution_count": null,
      "outputs": []
    },
    {
      "cell_type": "code",
      "source": [
        "# Define a parent or superclass class.\n",
        "# Animal is the broad category, encompassing all living organisms.\n",
        "\n",
        "class Animal:\n",
        "    def __init__(self, name):\n",
        "        self.name = name\n",
        "\n",
        "    def speak(self):\n",
        "        return \"Some sound\"\n",
        "\n",
        "# Define a child or subclass class that inherits from Animal.\n",
        "class Dog(Animal):\n",
        "    def speak(self):\n",
        "        return \"Woof!\"\n",
        "\n",
        "# Another child subclass class that inherits from Animal.\n",
        "class Cat(Animal):\n",
        "    def speak(self):\n",
        "        return \"Meow!\"\n",
        "\n",
        "# Create instances of Dog and Cat\n",
        "dog = Dog(\"Buddy\")\n",
        "cat = Cat(\"Whiskers\")\n",
        "\n",
        "# Call the speak method on both instances\n",
        "print(f\"{dog.name} says: {dog.speak()}\")  # Output: Buddy says: Woof!\n",
        "print(f\"{cat.name} says: {cat.speak()}\")  # Output: Whiskers says: Meow!\n"
      ],
      "metadata": {
        "id": "mE2v2s2xArDn"
      },
      "execution_count": null,
      "outputs": []
    }
  ]
}