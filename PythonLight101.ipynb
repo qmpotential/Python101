{
  "nbformat": 4,
  "nbformat_minor": 0,
  "metadata": {
    "colab": {
      "provenance": [],
      "authorship_tag": "ABX9TyNiLewpWVGMLBLwDeOi7t4I",
      "include_colab_link": true
    },
    "kernelspec": {
      "name": "python3",
      "display_name": "Python 3"
    },
    "language_info": {
      "name": "python"
    }
  },
  "cells": [
    {
      "cell_type": "markdown",
      "metadata": {
        "id": "view-in-github",
        "colab_type": "text"
      },
      "source": [
        "<a href=\"https://colab.research.google.com/github/qmpotential/Python101/blob/main/PythonLight101.ipynb\" target=\"_parent\"><img src=\"https://colab.research.google.com/assets/colab-badge.svg\" alt=\"Open In Colab\"/></a>"
      ]
    },
    {
      "cell_type": "markdown",
      "source": [
        "# **Introduction to Python**\n",
        "\n",
        "Date: October 16th, 2024\n",
        "\n",
        "HPC Training, 9:00 am\n",
        "\n",
        "by Oleg N. Starovoytov\n",
        "\n",
        "olegs@lsu.edu"
      ],
      "metadata": {
        "id": "GBFp5daxP4sG"
      }
    },
    {
      "cell_type": "markdown",
      "source": [
        "Python programming language was created by Guido van Rossum. The first version was released in 1991.\n",
        "It is used for web-applications, data analysis, scientific scripting etc. It can be implemented on different platforms including Linux, Mac, Windows, and other platforms.\n",
        "It has a very simple and intuitive syntax\n",
        "that can be easily used writing short and clear code. There is no need in compilation of the python code. The interpreter is used to run the programs."
      ],
      "metadata": {
        "id": "3W684JbzQlhe"
      }
    },
    {
      "cell_type": "markdown",
      "source": [
        "# Outline\n",
        "\n",
        "Section 1: **Python programming basics**\n",
        "\n",
        "Section 2: **Operators**\n",
        "\n",
        "Section 3: **Data collections**\n",
        "   \n",
        "Section 4: **Control flow**\n",
        "\n",
        "Section 5: **Functions**\n",
        "\n",
        "Section 6: **Modules**\n",
        "\n",
        "Section 7: **Classes**\n",
        "\n",
        "Section 8: **Exceptions**\n",
        "\n",
        "Section 9: **Input and output (I/O) operations**"
      ],
      "metadata": {
        "id": "Ptut8gykhIuv"
      }
    },
    {
      "cell_type": "markdown",
      "source": [],
      "metadata": {
        "id": "XauM51Pp2-eL"
      }
    },
    {
      "cell_type": "markdown",
      "source": [
        "# Section 1: Python programming basics\n"
      ],
      "metadata": {
        "id": "8zK03agNSVFM"
      }
    },
    {
      "cell_type": "markdown",
      "source": [
        "In Python, it is common practice to use 4 spaces for identation. Use spaces and tabs can lead to errors.\n",
        "\n",
        "        if True:\n",
        "            print(\"Hello, World!\")\n"
      ],
      "metadata": {
        "id": "xx4HygEy1pJb"
      }
    },
    {
      "cell_type": "code",
      "source": [
        "if True:\n",
        "  print(\"Hello, World!\")"
      ],
      "metadata": {
        "id": "2P9KB71u2XQX"
      },
      "execution_count": null,
      "outputs": []
    },
    {
      "cell_type": "markdown",
      "source": [
        "Print function"
      ],
      "metadata": {
        "id": "8ZJPhw9-Tpte"
      }
    },
    {
      "cell_type": "code",
      "source": [
        "print(\"Hello, World!\")"
      ],
      "metadata": {
        "id": "whPjPNZXqV-i"
      },
      "execution_count": null,
      "outputs": []
    },
    {
      "cell_type": "markdown",
      "source": [
        "Comments"
      ],
      "metadata": {
        "id": "TWU7qC5sTHHZ"
      }
    },
    {
      "cell_type": "code",
      "source": [
        "# This is my comment\n",
        "print(\"Hello, World!\")"
      ],
      "metadata": {
        "id": "OLAo-Xn3S9q-"
      },
      "execution_count": null,
      "outputs": []
    },
    {
      "cell_type": "markdown",
      "source": [
        "Variables"
      ],
      "metadata": {
        "id": "NYcEKTbZT6_5"
      }
    },
    {
      "cell_type": "code",
      "source": [
        "a = 1\n",
        "b = 2\n",
        "c = \"Oleg\""
      ],
      "metadata": {
        "id": "C2lP1tf4T99K"
      },
      "execution_count": null,
      "outputs": []
    },
    {
      "cell_type": "markdown",
      "source": [
        "Casting"
      ],
      "metadata": {
        "id": "i8p0auh3UeNM"
      }
    },
    {
      "cell_type": "code",
      "source": [
        "a = str(1)\n",
        "b = int('1')\n",
        "c = float('1')\n",
        "print(a,b,c)"
      ],
      "metadata": {
        "colab": {
          "base_uri": "https://localhost:8080/"
        },
        "id": "59RQkHsOUPCl",
        "outputId": "ac69a8c7-047a-47bd-8c90-7c529fe9a24b"
      },
      "execution_count": null,
      "outputs": [
        {
          "output_type": "stream",
          "name": "stdout",
          "text": [
            "1 1 1.0\n"
          ]
        }
      ]
    },
    {
      "cell_type": "code",
      "source": [
        "print(type(a), type(b), type(c))"
      ],
      "metadata": {
        "colab": {
          "base_uri": "https://localhost:8080/"
        },
        "id": "mCe4Xep5UtWa",
        "outputId": "279c2131-7f18-4de4-b32a-44fcdee0b6f5"
      },
      "execution_count": null,
      "outputs": [
        {
          "output_type": "stream",
          "name": "stdout",
          "text": [
            "<class 'str'> <class 'int'> <class 'float'>\n"
          ]
        }
      ]
    },
    {
      "cell_type": "markdown",
      "source": [
        "Quotes"
      ],
      "metadata": {
        "id": "ycuMxG52VJ-1"
      }
    },
    {
      "cell_type": "code",
      "source": [
        "a = \"Oleg\"\n",
        "b = 'Oleg'\n",
        "c = 'It's the python class'"
      ],
      "metadata": {
        "id": "eZxyaOl4VO91"
      },
      "execution_count": null,
      "outputs": []
    },
    {
      "cell_type": "markdown",
      "source": [
        "Case"
      ],
      "metadata": {
        "id": "Q2XSnna2Vle7"
      }
    },
    {
      "cell_type": "code",
      "source": [
        "A = 'apple'\n",
        "a= 'banana'"
      ],
      "metadata": {
        "id": "C8VDfuJqVkQ8"
      },
      "execution_count": null,
      "outputs": []
    },
    {
      "cell_type": "markdown",
      "source": [
        "Multiple values"
      ],
      "metadata": {
        "id": "7QOwyoEIWFhV"
      }
    },
    {
      "cell_type": "code",
      "source": [
        "a, b, c = 2\n",
        "fruits = [\"apple\", \"banana\", \"cherry\"]\n",
        "x, y, z = fruits"
      ],
      "metadata": {
        "id": "unJsLKAAWJ6U"
      },
      "execution_count": null,
      "outputs": []
    },
    {
      "cell_type": "markdown",
      "source": [
        "Python Data Types\n",
        "\n",
        "    Numeric types: int, float, complex\n",
        "    Sequence types: list, tuple, range\n",
        "    Mapping type: dict\n",
        "    Set types: set, frozenset\n",
        "    Text type: str\n",
        "    Boolean type: bool\n",
        "    Binary type: bytes, bytearray, memoryview\n",
        "    None type: NoneType"
      ],
      "metadata": {
        "id": "tuup2f7MW4t2"
      }
    },
    {
      "cell_type": "code",
      "source": [
        "# Numeric types\n",
        "a = 1\n",
        "b = 2.3\n",
        "c = 10 + 5j"
      ],
      "metadata": {
        "id": "tpowHBV6lGZS"
      },
      "execution_count": null,
      "outputs": []
    },
    {
      "cell_type": "code",
      "source": [
        "# Sequence types\n",
        "fruits = [\"apple\", \"banana\", \"mango\"]\n",
        "numbers = (1,2,3)\n",
        "a = range(3)"
      ],
      "metadata": {
        "id": "JArSRzNhlS88"
      },
      "execution_count": null,
      "outputs": []
    },
    {
      "cell_type": "code",
      "source": [
        "# Mapping type: dictionary\n",
        "person ={\"name\": \"Oleg\", \"age\": 25}"
      ],
      "metadata": {
        "id": "udAxnH4klm8F"
      },
      "execution_count": null,
      "outputs": []
    },
    {
      "cell_type": "code",
      "source": [
        "# Set types\n",
        "set = {\"apple\", \"banana\", \"mango\"}\n",
        "frozen_set = frozenset({\"apple\", \"banana\", \"mango\"})"
      ],
      "metadata": {
        "id": "5ZzQifeGlzMO"
      },
      "execution_count": null,
      "outputs": []
    },
    {
      "cell_type": "code",
      "source": [
        "# Text type\n",
        "text = \"Hello, World\""
      ],
      "metadata": {
        "id": "EzKzLUOLmGwQ"
      },
      "execution_count": null,
      "outputs": []
    },
    {
      "cell_type": "code",
      "source": [
        "# Boolean type\n",
        "it_is_true = True\n",
        "it_is_false = False"
      ],
      "metadata": {
        "id": "D5suuFo8mObQ"
      },
      "execution_count": null,
      "outputs": []
    },
    {
      "cell_type": "code",
      "source": [
        "# Binary type\n",
        "bytes = b\"Hello\"\n",
        "bytearray = bytearray(5)\n",
        "memoryview = memoryview(bytes(5))"
      ],
      "metadata": {
        "id": "pEbn_5OBmXMD"
      },
      "execution_count": null,
      "outputs": []
    },
    {
      "cell_type": "code",
      "source": [
        "# None type\n",
        "x = None"
      ],
      "metadata": {
        "id": "zLCRrYyYmrJa"
      },
      "execution_count": null,
      "outputs": []
    },
    {
      "cell_type": "markdown",
      "source": [
        "# Section 2: Operators\n"
      ],
      "metadata": {
        "id": "Izi_a9nAo3ot"
      }
    },
    {
      "cell_type": "markdown",
      "source": [
        "There are a number of operators in Pyhton\n",
        "\n",
        "    Arithmetic operators: x + y, x - y, x * y, x ** y, x / y, x % y, x // y\n",
        "    Assignment operators: =, +=, -=, *=, /=, //=, %=, **=, :=\n",
        "    Comparison operators: x == y, x != y, x > y, x < y, x >= y, x <= y\n",
        "    Logical operators: and, or, not\n",
        "    Identity operators: is, is not\n",
        "    Membership operators: in, not in\n",
        "    Bitwise operators: &, |, ~, ^\n"
      ],
      "metadata": {
        "id": "WEadNHbepYE4"
      }
    },
    {
      "cell_type": "code",
      "source": [
        "# Arithmetic operations\n",
        "a = 2\n",
        "b = 3\n",
        "c = a + b\n",
        "d = a - b\n",
        "e = a * b\n",
        "f = a ** b\n",
        "g = a / b\n",
        "j = a % b\n",
        "h = a // b"
      ],
      "metadata": {
        "id": "IXEqPXVdsXc3"
      },
      "execution_count": null,
      "outputs": []
    },
    {
      "cell_type": "code",
      "source": [
        "# Assignment operators\n",
        "a = 2\n",
        "a += 3\n",
        "a -= 3\n",
        "a *= 3\n",
        "a /= 3\n",
        "a //= 3\n",
        "a %= 3\n",
        "a **= 3"
      ],
      "metadata": {
        "id": "dfgrBbX2s0Y3"
      },
      "execution_count": null,
      "outputs": []
    },
    {
      "cell_type": "code",
      "source": [
        "# Comparison operators\n",
        "a = 2\n",
        "b = 3\n",
        "a == b\n",
        "a != b\n",
        "a > b\n",
        "a < b\n",
        "a >= b\n",
        "a <= b"
      ],
      "metadata": {
        "id": "6LKz7JZItAHw"
      },
      "execution_count": null,
      "outputs": []
    },
    {
      "cell_type": "code",
      "source": [
        "# Logical operators\n",
        "a = True\n",
        "b = False\n",
        "a and b\n",
        "a or b\n",
        "not a"
      ],
      "metadata": {
        "id": "oadH1hietLhh"
      },
      "execution_count": null,
      "outputs": []
    },
    {
      "cell_type": "code",
      "source": [
        "# Identity operators\n",
        "a = 2\n",
        "b = 2\n",
        "a is b\n",
        "a is not b"
      ],
      "metadata": {
        "id": "q2JbIDDmtWlp",
        "colab": {
          "base_uri": "https://localhost:8080/"
        },
        "outputId": "8be6e629-39fe-4818-8ee9-bba9d5f149c2"
      },
      "execution_count": 7,
      "outputs": [
        {
          "output_type": "stream",
          "name": "stdout",
          "text": [
            "False\n"
          ]
        }
      ]
    },
    {
      "cell_type": "code",
      "source": [
        "# Membership operators\n",
        "fruits = [\"apple\", \"banana\", \"mango\"]\n",
        "\"apple\" in fruits\n",
        "\"apple\" not in fruits"
      ],
      "metadata": {
        "id": "QMwPt2Wpt4-E"
      },
      "execution_count": null,
      "outputs": []
    },
    {
      "cell_type": "code",
      "source": [
        "# Bitwise operators\n",
        "a = 2\n",
        "b = 3\n",
        "a & b\n",
        "a | b\n",
        "~a\n",
        "a ^ b"
      ],
      "metadata": {
        "id": "dAztDFhqt_4c"
      },
      "execution_count": null,
      "outputs": []
    },
    {
      "cell_type": "markdown",
      "source": [
        "Operator precedence\n",
        "\n",
        "    Parentheses: ( )\n",
        "    Exponentiation: **\n",
        "    Unary: +x, -x, ~x\n",
        "    Arithmetic: *, /, %, //, +, -\n",
        "    Bitwise: <<, >>, AND, ^, |\n",
        "    Comparison: ==, !=, >, >=, <, <=\n",
        "    Identity: is, is not\n",
        "    Membership operators: in, not in\n",
        "    Logical: not, and, or"
      ],
      "metadata": {
        "id": "t8xcC2MTq74B"
      }
    },
    {
      "cell_type": "markdown",
      "source": [
        "# Section 3: Data collections"
      ],
      "metadata": {
        "id": "dmu0aZGZvncU"
      }
    },
    {
      "cell_type": "markdown",
      "source": [
        "Strings\n",
        "---\n",
        "Strings are an immutable collection of alphanumeric characters that are enclosed with single or double quotes. Strings literals can not be changed after they have been created. A double-quoted string literal may contain single quotes. Characters within a string can be accessed using indexing reference values starting with zero. If the reference index is out of range, Python will raise an IndexError. To access a range of characters, you can use slicing. You can indicate the start index and the end index enclosed with square brackets to access a range of characters as shown below.\n",
        "\n",
        "---\n",
        "Syntax:\n",
        "\n",
        "     myString = \" Lorem ipsum dolor sit amet \"\n",
        "\n",
        "     myString = \" \" \" Lorem ipsum dolor sit amet, consectetur elit \" \" \"\n",
        "\n",
        "     myString = ' ' ' Lorem ipsum dolor sit amet, consectetur elit ' ' '\n"
      ],
      "metadata": {
        "id": "AyvEXr4a-5A-"
      }
    },
    {
      "cell_type": "code",
      "source": [
        "#String"
      ],
      "metadata": {
        "id": "C3bWTEJ1zHm_"
      },
      "execution_count": null,
      "outputs": []
    },
    {
      "cell_type": "markdown",
      "source": [
        "String indexing\n",
        "---\n",
        "Indexing is an important concept. Each character of a string has a unique index number. To access any characters of a string, we need to use the corresponding index number. Indexing of a string is the same as for a list, tuple, and dictionary but not a set. Sets are not indexed. The element of a string can be accessed using an index starting with 0.\n",
        "\n",
        "---\n",
        "Syntax:\n",
        "\n",
        "        myString[index]"
      ],
      "metadata": {
        "id": "_GdZyIET_PJe"
      }
    },
    {
      "cell_type": "code",
      "source": [
        "# Strings elements can be accessed by their index\n",
        "\n",
        "# The indexes\n",
        "# myTestString   =   [1,  2,  3,  4,  5,  6,  7,  8,  9, ..., 26]\n",
        "# --------------------------\n",
        "# index               0,  1,  2,  3,  4,  5,  6,  7,  8, ..., n-1\n",
        "# negative index     -n,                                 ...,  -1\n",
        "# myTestString[index]\n",
        "\n",
        "myTestString=\"Lorem ipsum dolor sit amet\"\n",
        "\n",
        "print(myTestString[4])\n",
        "print(myTestString[5])\n",
        "print(myTestString[6])\n",
        "print(myTestString[18])\n",
        "print(myTestString[-1])\n",
        "print(myTestString[-26])\n",
        "print(len(myTestString))"
      ],
      "metadata": {
        "id": "DTw-srDg_UZ9"
      },
      "execution_count": null,
      "outputs": []
    },
    {
      "cell_type": "markdown",
      "source": [
        "String slicing\n",
        "---\n",
        "The slicing technique allows one to access a range of characters in a string. The range of characters can be indicated by a start index number and an end index number in square brackets. The start index number has always an inclusive bound and the end index number has always an exclusive bound. In other words, the start index number is included in the range and the end index number is not.\n",
        "\n",
        "---\n",
        "Syntax:\n",
        "\n",
        "        myString[start index: end index : step]"
      ],
      "metadata": {
        "id": "Qvmwn8QY_Zi3"
      }
    },
    {
      "cell_type": "code",
      "source": [
        "# Strings elements can be accessed by index\n",
        "\n",
        "# The indexes\n",
        "# myTestString   =   [1,  2,  3,  4,  5,  6,  7,  8,  9, ..., 26]\n",
        "# --------------------------\n",
        "# index               0,  1,  2,  3,  4,  5,  6,  7,  8, ..., n-1\n",
        "# negative index     -n,                                 ...,  -1\n",
        "# myTestString[start index: end index]\n",
        "\n",
        "myTestString=\"Lorem ipsum dolor sit amet\"\n",
        "\n",
        "print(myTestString[:4])\n",
        "print(myTestString[0:5])\n",
        "print(myTestString[0:6])\n",
        "print(myTestString[0:18])\n",
        "print(myTestString[-12:-1])\n",
        "print(myTestString[-26:-25])\n",
        "print(len(myTestString))"
      ],
      "metadata": {
        "id": "nzA4yj0T_dOv"
      },
      "execution_count": null,
      "outputs": []
    },
    {
      "cell_type": "markdown",
      "source": [
        "There are four types of data collections in Pyhton\n",
        "\n",
        "    List:       [element 1, ..., element n]\n",
        "    Tuple:      (element 1, ..., element n)\n",
        "    Dictionary: {key:element 1, ..., key:element n}\n",
        "    Set:        {element 1, ..., element n}"
      ],
      "metadata": {
        "id": "5uWbYutgwX_9"
      }
    },
    {
      "cell_type": "markdown",
      "source": [
        "3.1 List\n",
        "---\n",
        "A list is used to store several items in a single variable. A list is a built-in type in Python. Lists can store more than one item at the same time. A list is a mutable data type meaning that the list can be updated at any point in time. New items can be inserted into the list or deleted from the list. It is a member of a data type called sequences. Various operations can be performed on the list including slicing, multiplication, addition, etc.\n",
        "\n",
        "---\n",
        "\n",
        "Syntax:\n",
        "\n",
        "        myList = [element 1, element 2, ..., element n]\n",
        "\n",
        "        myList = [element 1]\n",
        "\n",
        "        myList = list()"
      ],
      "metadata": {
        "id": "i6xK0kru7IpZ"
      }
    },
    {
      "cell_type": "markdown",
      "source": [
        "List indexing\n",
        "---\n",
        "Each element of the list has a unique index number as shown below. To access any element of the list, we need to use that element's index number. The indexing of a list is the same as for strings. A list is a container for many items, with these items indexed starting with the first item being \"0\".\n",
        "\n",
        "---\n",
        "Syntax:\n",
        "\n",
        "        myList[index]"
      ],
      "metadata": {
        "id": "XLFnd-Su8Sei"
      }
    },
    {
      "cell_type": "code",
      "source": [
        "# The indexes\n",
        "# myFirstList   =   [1,  2,  3,  4,  5, ..., n]\n",
        "# --------------------------\n",
        "# index              0,  1,  2,  3,  4, ..., n-1\n",
        "# negative index    -n,                 ...,  -1\n"
      ],
      "metadata": {
        "id": "pm_3t73s9cE-"
      },
      "execution_count": null,
      "outputs": []
    },
    {
      "cell_type": "markdown",
      "source": [
        "List slicing\n",
        "---\n",
        "To print a range of elements in the list, you can use the slicing method.\n",
        "\n",
        "---\n",
        "Syntax:\n",
        "\n",
        "        myList[start index: end index]"
      ],
      "metadata": {
        "id": "g5eVTuUd9pEP"
      }
    },
    {
      "cell_type": "code",
      "source": [
        "# The indexes\n",
        "# myFirstList   =   [1,  2,  3,  4,  5]\n",
        "# --------------------------\n",
        "# index              0,  1,  2,  3,  4\n",
        "# negative index    -5, -4, -3, -2, -1\n"
      ],
      "metadata": {
        "id": "a3fXkht79uDH"
      },
      "execution_count": null,
      "outputs": []
    },
    {
      "cell_type": "markdown",
      "source": [
        "3.2 Tuple\n",
        "---\n",
        "Tuples are used to store multiple values to a single variable. Once a tuple is created, it can not be changed, it is immutable. Tuples are ordered as they are defined and that order will not be changed. You can have duplicates. A tuple is enclosed in parentheses. It is also indexed like strings and lists, starting with index 0. Slicing is also applicable to Tuples to access a range of elements like strings.\n",
        "\n",
        "---\n",
        "\n",
        "Syntax:\n",
        "\n",
        "        myTuple = (element 1, element 2, ..., element n)\n",
        "\n",
        "        myTuple = (element 1,)\n",
        "\n",
        "        myTuple = element 1, element 2, ..., element n\n",
        "\n",
        "        myTuple = tuple()"
      ],
      "metadata": {
        "id": "QakWO2zd97qp"
      }
    },
    {
      "cell_type": "markdown",
      "source": [
        "Tuple indexing\n",
        "---\n",
        "\n",
        "A tuple is also indexed as strings and lists, starting with index 0.\n",
        "\n",
        "---\n",
        "Syntax:\n",
        "\n",
        "        myTuple[index]"
      ],
      "metadata": {
        "id": "AddSoAqo-GgR"
      }
    },
    {
      "cell_type": "markdown",
      "source": [
        "Tuple slicing\n",
        "---\n",
        "\n",
        "A tuple can also be sliced as strings and lists, starting with index 0.\n",
        "\n",
        "---\n",
        "Syntax:\n",
        "\n",
        "        myTuple[start index: end index]"
      ],
      "metadata": {
        "id": "xtoNyTmq-Mtr"
      }
    },
    {
      "cell_type": "code",
      "source": [
        "# Slice tuple with the index numbers\n",
        "\n",
        "# myTuple       =   [1,  2,  3,  4,  5, ..., n]\n",
        "# --------------------------\n",
        "# index              0,  1,  2,  3,  4, ..., n-1\n",
        "# negative index    -n,                 ...,  -1"
      ],
      "metadata": {
        "id": "aOdTuNRP-Ro6"
      },
      "execution_count": null,
      "outputs": []
    },
    {
      "cell_type": "markdown",
      "source": [
        "3.3 Dictionary\n",
        "---\n",
        "A dictionary is an ordered mutable data collection that cannot have key duplicates. The items can be removed, changed, and added. Dictionaries store data using **key:value** pairs enclosed in curly braces. A dictionary key can be an integer, float, string, or boolean. Keys must be unique but the values can be duplicates. Dictionaries are ordered starting from Python version 3.6. The values in the dictionaries are indexed by keys.\n",
        "\n",
        "---\n",
        "Syntax:\n",
        "\n",
        "        myDictionary = {key 1: value, key 2: value, ..., key n: value}\n",
        "\n",
        "        myDictionary = {key: value}\n",
        "\n",
        "        myDictionary = dict()"
      ],
      "metadata": {
        "id": "q7eq4Kzr-Wyy"
      }
    },
    {
      "cell_type": "markdown",
      "source": [
        "3.4 Set\n",
        "---\n",
        "\n",
        "A set is used to store multiple elements in a single variable.\n",
        "It is an unordered, unchangeable, unindexed sequence. Every time\n",
        "you access the set, the order of the elements may vary. Elements of a\n",
        "set cannot be accessed by an index number. You cannot modify the\n",
        "set, but you can remove or add elements. Duplicates are not allowed.\n",
        "\n",
        "---\n",
        "\n",
        "Syntax:\n",
        "\n",
        "        mySet = {element 1, element 2, ..., element n}\n",
        "\n",
        "        mySet = {element 1}\n",
        "\n",
        "        mySet = set()"
      ],
      "metadata": {
        "id": "QwlDyB2x-pGk"
      }
    },
    {
      "cell_type": "markdown",
      "source": [
        "3.5 Summary of data collections\n",
        "---\n",
        "\n",
        "  \n",
        "    String          List        Tuple      Dictionary / Set\n",
        "\n",
        "    immutable     mutable      immutable      mutable / mutable\n",
        "    order/index order/index  order/index        order / unorder/unindexed\n",
        "    duplicates    duplicates   duplicates  duplicates / noduplicates\n",
        "      \"   \"        [   ]        (  )           {   }  / {*}, set()\n",
        "      str()        list()      tuple()        dict()  / set()\n",
        "\n",
        "    {*} - A set can not be declared with empty braces"
      ],
      "metadata": {
        "id": "nTOyINt0-v-t"
      }
    },
    {
      "cell_type": "markdown",
      "source": [
        "# Section 4: Control flow\n",
        "\n",
        "4.1 if ... statements\n",
        "\n",
        "4.2 For loops\n",
        "\n",
        "4.3 While loops\n"
      ],
      "metadata": {
        "id": "TFze9voDAEKF"
      }
    },
    {
      "cell_type": "markdown",
      "source": [
        "4.1 if ... statements\n",
        "---\n",
        "The if statement is used to check against some conditions along the code. There are three forms of the if statements in Python that can be used: if, if ... else, if ... elif ... else.\n",
        "\n",
        "---\n",
        "\n",
        "Syntax:\n",
        "\n",
        "        if condition: block of code\n",
        "\n",
        "        if condition: block of code else: block of code\n",
        "\n",
        "        if condition: block of code elif condition: block of code else: block of code"
      ],
      "metadata": {
        "id": "fpWUwRLIAIY_"
      }
    },
    {
      "cell_type": "code",
      "source": [
        "# if statement in two lines\n",
        "if True:\n",
        "  print(\"Hello,Python!\")"
      ],
      "metadata": {
        "id": "RqRi5B4aI0rb"
      },
      "execution_count": null,
      "outputs": []
    },
    {
      "cell_type": "code",
      "source": [
        "a = 5\n",
        "\n",
        "if a == 5: print(\"My variable is \", a)"
      ],
      "metadata": {
        "id": "25ihdtDaJh--",
        "outputId": "6a0c1aec-361b-40a7-a5b2-805131d48430",
        "colab": {
          "base_uri": "https://localhost:8080/"
        }
      },
      "execution_count": 19,
      "outputs": [
        {
          "output_type": "stream",
          "name": "stdout",
          "text": [
            "My variable is  5\n"
          ]
        }
      ]
    },
    {
      "cell_type": "code",
      "source": [
        "a = -5\n",
        "if a != 5:\n",
        "  print(\"My variable is \", a)"
      ],
      "metadata": {
        "id": "iDmEXAT_J-rH",
        "outputId": "207d69a8-7dae-499e-8bf4-6f90f0a4fb7d",
        "colab": {
          "base_uri": "https://localhost:8080/"
        }
      },
      "execution_count": 20,
      "outputs": [
        {
          "output_type": "stream",
          "name": "stdout",
          "text": [
            "My variable is  -5\n"
          ]
        }
      ]
    },
    {
      "cell_type": "code",
      "source": [
        "a = 10\n",
        "b = 5\n",
        "if a > b: print(\"a is greater than b\")"
      ],
      "metadata": {
        "id": "09dwE5i5KG2M",
        "outputId": "96dca833-e4e1-42b2-cdf2-1d86328acc2c",
        "colab": {
          "base_uri": "https://localhost:8080/"
        }
      },
      "execution_count": 21,
      "outputs": [
        {
          "output_type": "stream",
          "name": "stdout",
          "text": [
            "a is greater than b\n"
          ]
        }
      ]
    },
    {
      "cell_type": "code",
      "source": [
        "# Python automatically converts the integer to a float when comparing, so you don't need to explicitly convert types.\n",
        "a= 5\n",
        "b = 10.1\n",
        "if a < b: print(\"b is greater than a\")"
      ],
      "metadata": {
        "id": "fDWm45zZKjQe",
        "outputId": "85f53b03-b226-4a46-d652-9fa4a543e9ec",
        "colab": {
          "base_uri": "https://localhost:8080/"
        }
      },
      "execution_count": 22,
      "outputs": [
        {
          "output_type": "stream",
          "name": "stdout",
          "text": [
            "b is greater than a\n"
          ]
        }
      ]
    },
    {
      "cell_type": "code",
      "source": [
        "# if condition: block else: block\n",
        "a = 'A'\n",
        "b = 'a'\n",
        "if a == b:\n",
        "  print(\"a and b are equal\")\n",
        "else:\n",
        "  print(\"a and b are not equal\")"
      ],
      "metadata": {
        "id": "M8hIe3voLAnZ",
        "outputId": "4a630a70-829c-402e-d7e1-6a20a83089dc",
        "colab": {
          "base_uri": "https://localhost:8080/"
        }
      },
      "execution_count": 24,
      "outputs": [
        {
          "output_type": "stream",
          "name": "stdout",
          "text": [
            "a and b are not equal\n"
          ]
        }
      ]
    },
    {
      "cell_type": "code",
      "source": [
        "if a != b:\n",
        "  print(\"a and b are not equal\")\n",
        "elif a == b:\n",
        "  print(\"a and b are equal\")\n",
        "else:\n",
        "  print(\"a and b are not equal\")"
      ],
      "metadata": {
        "id": "avVM3YkALv4A",
        "outputId": "41a0165c-fcb3-4630-aef3-23cb49de40bf",
        "colab": {
          "base_uri": "https://localhost:8080/"
        }
      },
      "execution_count": 26,
      "outputs": [
        {
          "output_type": "stream",
          "name": "stdout",
          "text": [
            "a and b are equal\n"
          ]
        }
      ]
    },
    {
      "cell_type": "markdown",
      "source": [
        "4.2 For loops\n",
        "---\n",
        "A for loop is an iterative function that allows you to iterate over a data sequence. There are two keywords in the for loop structure: \"for\" and \"in\". The for loop statement will access each element of the sequence at each iteration. The loop will continue iterating until it reaches the last element of a sequence.\n",
        "\n",
        "---\n",
        "\n",
        "Syntax:\n",
        "\n",
        "        for variable in iterable: block of code"
      ],
      "metadata": {
        "id": "8CBsqCFtASqE"
      }
    },
    {
      "cell_type": "code",
      "source": [
        "# range (start, stop, step)\n",
        "for i in range(5):\n",
        "  print(i)"
      ],
      "metadata": {
        "id": "pjk5v9RxMar9"
      },
      "execution_count": null,
      "outputs": []
    },
    {
      "cell_type": "markdown",
      "source": [
        "4.3 While loops\n",
        "---\n",
        "While loop executes a block of code as long as condition is True.\n",
        "\n",
        "---\n",
        "\n",
        "Syntax:\n",
        "\n",
        "        while condition: block of code"
      ],
      "metadata": {
        "id": "LDzp6FEJAcc3"
      }
    }
  ]
}