{
  "nbformat": 4,
  "nbformat_minor": 0,
  "metadata": {
    "colab": {
      "provenance": [],
      "authorship_tag": "ABX9TyPVZPuFvja1KGj6FvHfKNh/",
      "include_colab_link": true
    },
    "kernelspec": {
      "name": "python3",
      "display_name": "Python 3"
    },
    "language_info": {
      "name": "python"
    }
  },
  "cells": [
    {
      "cell_type": "markdown",
      "metadata": {
        "id": "view-in-github",
        "colab_type": "text"
      },
      "source": [
        "<a href=\"https://colab.research.google.com/github/qmpotential/Python101/blob/main/PythonLight101.ipynb\" target=\"_parent\"><img src=\"https://colab.research.google.com/assets/colab-badge.svg\" alt=\"Open In Colab\"/></a>"
      ]
    },
    {
      "cell_type": "markdown",
      "source": [
        "# **Introduction to Python**\n",
        "\n",
        "Date: October 16th, 2024\n",
        "\n",
        "HPC Training, 9:00 am\n",
        "\n",
        "by Oleg N. Starovoytov\n",
        "\n",
        "olegs@lsu.edu"
      ],
      "metadata": {
        "id": "GBFp5daxP4sG"
      }
    },
    {
      "cell_type": "markdown",
      "source": [
        "Python programming language was created by Guido van Rossum. The first version was released in 1991.\n",
        "It is used for web-applications, data analysis, scientific scripting etc. It can be implemented on different platforms including Linux, Mac, Windows, and other platforms.\n",
        "It has a very simple and intuitive syntax\n",
        "that can be easily used writing short and clear code. There is no need in compilation of the python code. The interpreter is used to run the programs."
      ],
      "metadata": {
        "id": "3W684JbzQlhe"
      }
    },
    {
      "cell_type": "markdown",
      "source": [
        "# Outline\n",
        "\n",
        "Section 1: **Python programming basics**\n",
        "\n",
        "Section 2: **Operators**\n",
        "\n",
        "Section 3: **Data collections**\n",
        "   \n",
        "Section 4: **Control flow**\n",
        "\n",
        "Section 5: **Functions**\n",
        "\n",
        "Section 6: **Modules**\n",
        "\n",
        "Section 7: **Classes**\n",
        "\n",
        "Section 8: **Exceptions**\n",
        "\n",
        "Section 9: **Input and output (I/O) operations**"
      ],
      "metadata": {
        "id": "Ptut8gykhIuv"
      }
    },
    {
      "cell_type": "markdown",
      "source": [
        "# Section 1: Python programming basics\n"
      ],
      "metadata": {
        "id": "8zK03agNSVFM"
      }
    },
    {
      "cell_type": "markdown",
      "source": [
        "Print function"
      ],
      "metadata": {
        "id": "8ZJPhw9-Tpte"
      }
    },
    {
      "cell_type": "code",
      "execution_count": null,
      "metadata": {
        "id": "wm6shPVdPizR"
      },
      "outputs": [],
      "source": [
        "print(\"Hello, World!\")"
      ]
    },
    {
      "cell_type": "markdown",
      "source": [
        "Comments"
      ],
      "metadata": {
        "id": "TWU7qC5sTHHZ"
      }
    },
    {
      "cell_type": "code",
      "source": [
        "# This is a comment\n",
        "print(\"Hello, World!\")"
      ],
      "metadata": {
        "id": "OLAo-Xn3S9q-"
      },
      "execution_count": null,
      "outputs": []
    },
    {
      "cell_type": "markdown",
      "source": [
        "Variables"
      ],
      "metadata": {
        "id": "NYcEKTbZT6_5"
      }
    },
    {
      "cell_type": "code",
      "source": [
        "a = 1\n",
        "b = 2\n",
        "c = \"Oleg\""
      ],
      "metadata": {
        "id": "C2lP1tf4T99K"
      },
      "execution_count": null,
      "outputs": []
    },
    {
      "cell_type": "markdown",
      "source": [
        "Casting"
      ],
      "metadata": {
        "id": "i8p0auh3UeNM"
      }
    },
    {
      "cell_type": "code",
      "source": [
        "a = str(1)\n",
        "b = int('1')\n",
        "c = float('1')\n",
        "print(a,b,c)"
      ],
      "metadata": {
        "colab": {
          "base_uri": "https://localhost:8080/"
        },
        "id": "59RQkHsOUPCl",
        "outputId": "ac69a8c7-047a-47bd-8c90-7c529fe9a24b"
      },
      "execution_count": null,
      "outputs": [
        {
          "output_type": "stream",
          "name": "stdout",
          "text": [
            "1 1 1.0\n"
          ]
        }
      ]
    },
    {
      "cell_type": "code",
      "source": [
        "print(type(a), type(b), type(c))"
      ],
      "metadata": {
        "colab": {
          "base_uri": "https://localhost:8080/"
        },
        "id": "mCe4Xep5UtWa",
        "outputId": "279c2131-7f18-4de4-b32a-44fcdee0b6f5"
      },
      "execution_count": null,
      "outputs": [
        {
          "output_type": "stream",
          "name": "stdout",
          "text": [
            "<class 'str'> <class 'int'> <class 'float'>\n"
          ]
        }
      ]
    },
    {
      "cell_type": "markdown",
      "source": [
        "Quotes"
      ],
      "metadata": {
        "id": "ycuMxG52VJ-1"
      }
    },
    {
      "cell_type": "code",
      "source": [
        "a = \"Oleg\"\n",
        "b = 'Oleg'\n",
        "c = 'It's the python class"
      ],
      "metadata": {
        "id": "eZxyaOl4VO91"
      },
      "execution_count": null,
      "outputs": []
    },
    {
      "cell_type": "markdown",
      "source": [
        "Case"
      ],
      "metadata": {
        "id": "Q2XSnna2Vle7"
      }
    },
    {
      "cell_type": "code",
      "source": [
        "A = 'apple'\n",
        "a= 'banana'"
      ],
      "metadata": {
        "id": "C8VDfuJqVkQ8"
      },
      "execution_count": null,
      "outputs": []
    },
    {
      "cell_type": "markdown",
      "source": [
        "Multiple values"
      ],
      "metadata": {
        "id": "7QOwyoEIWFhV"
      }
    },
    {
      "cell_type": "code",
      "source": [
        "a, b, c = 2\n",
        "fruits = [\"apple\", \"banana\", \"cherry\"]\n",
        "x, y, z = fruits"
      ],
      "metadata": {
        "id": "unJsLKAAWJ6U"
      },
      "execution_count": null,
      "outputs": []
    },
    {
      "cell_type": "markdown",
      "source": [
        "Python Data Types\n",
        "\n",
        "    Numeric types: int, float, complex\n",
        "    Sequence types: list, tuple, range\n",
        "    Mapping type: dict\n",
        "    Set types: set, frozenset\n",
        "    Text type: str\n",
        "    Boolean type: bool\n",
        "    Binary type: bytes, bytearray, memoryview\n",
        "    None type: NoneType"
      ],
      "metadata": {
        "id": "tuup2f7MW4t2"
      }
    },
    {
      "cell_type": "code",
      "source": [
        "# Numeric types\n",
        "a = 1\n",
        "b = 2.3\n",
        "c = 10 + 5j"
      ],
      "metadata": {
        "id": "tpowHBV6lGZS"
      },
      "execution_count": null,
      "outputs": []
    },
    {
      "cell_type": "code",
      "source": [
        "# Sequence types\n",
        "fruits = [\"apple\", \"banana\", \"mango\"]\n",
        "numbers = (1,2,3)\n",
        "a = range(3)"
      ],
      "metadata": {
        "id": "JArSRzNhlS88"
      },
      "execution_count": null,
      "outputs": []
    },
    {
      "cell_type": "code",
      "source": [
        "# Mapping type: dictionary\n",
        "person ={\"name\": \"Oleg\", \"age\": 25}"
      ],
      "metadata": {
        "id": "udAxnH4klm8F"
      },
      "execution_count": null,
      "outputs": []
    },
    {
      "cell_type": "code",
      "source": [
        "# Set types\n",
        "set = {\"apple\", \"banana\", \"mango\"}\n",
        "frozen_set = frozenset({\"apple\", \"banana\", \"mango\"})"
      ],
      "metadata": {
        "id": "5ZzQifeGlzMO"
      },
      "execution_count": null,
      "outputs": []
    },
    {
      "cell_type": "code",
      "source": [
        "# Text type\n",
        "text = \"Hello, World\""
      ],
      "metadata": {
        "id": "EzKzLUOLmGwQ"
      },
      "execution_count": null,
      "outputs": []
    },
    {
      "cell_type": "code",
      "source": [
        "# Boolean type\n",
        "it_is_true = True\n",
        "it_is_false = False"
      ],
      "metadata": {
        "id": "D5suuFo8mObQ"
      },
      "execution_count": null,
      "outputs": []
    },
    {
      "cell_type": "code",
      "source": [
        "# Binary type\n",
        "bytes = b\"Hello\"\n",
        "bytearray = bytearray(5)\n",
        "memoryview = memoryview(bytes(5))"
      ],
      "metadata": {
        "id": "pEbn_5OBmXMD"
      },
      "execution_count": null,
      "outputs": []
    },
    {
      "cell_type": "code",
      "source": [
        "# None type\n",
        "x = None"
      ],
      "metadata": {
        "id": "zLCRrYyYmrJa"
      },
      "execution_count": null,
      "outputs": []
    },
    {
      "cell_type": "markdown",
      "source": [
        "# Section 2: Operators\n"
      ],
      "metadata": {
        "id": "Izi_a9nAo3ot"
      }
    },
    {
      "cell_type": "markdown",
      "source": [
        "There are a number of operators in Pyhton\n",
        "\n",
        "    Arithmetic operators: x + y, x - y, x * y, x ** y, x / y, x % y, x // y\n",
        "    Assignment operators: =, +=, -=, *=, /=, //=, %=, **=, :=\n",
        "    Comparison operators: x == y, x != y, x > y, x < y, x >= y, x <= y\n",
        "    Logical operators: and, or, not\n",
        "    Identity operators: is, is not\n",
        "    Membership operators: in, not in\n",
        "    Bitwise operators: &, |, ~, ^\n"
      ],
      "metadata": {
        "id": "WEadNHbepYE4"
      }
    },
    {
      "cell_type": "code",
      "source": [
        "# Arithmetic operations\n",
        "a = 2\n",
        "b = 3\n",
        "c = a + b\n",
        "d = a - b\n",
        "e = a * b\n",
        "f = a ** b\n",
        "g = a / b\n",
        "j = a % b\n",
        "h = a // b"
      ],
      "metadata": {
        "id": "IXEqPXVdsXc3"
      },
      "execution_count": 10,
      "outputs": []
    },
    {
      "cell_type": "code",
      "source": [
        "# Assignment operators\n",
        "a = 2\n",
        "a += 3\n",
        "a -= 3\n",
        "a *= 3\n",
        "a /= 3\n",
        "a //= 3\n",
        "a %= 3\n",
        "a **= 3"
      ],
      "metadata": {
        "id": "dfgrBbX2s0Y3"
      },
      "execution_count": 2,
      "outputs": []
    },
    {
      "cell_type": "code",
      "source": [
        "# Comparison operators\n",
        "a = 2\n",
        "b = 3\n",
        "a == b\n",
        "a != b\n",
        "a > b\n",
        "a < b\n",
        "a >= b\n",
        "a <= b"
      ],
      "metadata": {
        "id": "6LKz7JZItAHw"
      },
      "execution_count": null,
      "outputs": []
    },
    {
      "cell_type": "code",
      "source": [
        "# Logical operators\n",
        "a = True\n",
        "b = False\n",
        "a and b\n",
        "a or b\n",
        "not a"
      ],
      "metadata": {
        "id": "oadH1hietLhh"
      },
      "execution_count": null,
      "outputs": []
    },
    {
      "cell_type": "code",
      "source": [
        "# Identity operators\n",
        "a = 2\n",
        "b = 2\n",
        "a is b\n",
        "a is not b"
      ],
      "metadata": {
        "id": "q2JbIDDmtWlp"
      },
      "execution_count": null,
      "outputs": []
    },
    {
      "cell_type": "code",
      "source": [
        "# Membership operators\n",
        "fruits = [\"apple\", \"banana\", \"mango\"]\n",
        "\"apple\" in fruits\n",
        "\"apple\" not in fruits"
      ],
      "metadata": {
        "id": "QMwPt2Wpt4-E"
      },
      "execution_count": null,
      "outputs": []
    },
    {
      "cell_type": "code",
      "source": [
        "# Bitwise operators\n",
        "a = 2\n",
        "b = 3\n",
        "a & b\n",
        "a | b\n",
        "~a\n",
        "a ^ b"
      ],
      "metadata": {
        "id": "dAztDFhqt_4c"
      },
      "execution_count": null,
      "outputs": []
    },
    {
      "cell_type": "markdown",
      "source": [
        "Operator precedence\n",
        "\n",
        "    Parentheses: ( )\n",
        "    Exponentiation: **\n",
        "    Unary: +x, -x, ~x\n",
        "    Arithmetic: *, /, %, //, +, -\n",
        "    Bitwise: <<, >>, AND, ^, |\n",
        "    Comparison: ==, !=, >, >=, <, <=\n",
        "    Identity: is, is not\n",
        "    Membership operators: in, not in\n",
        "    Logical: not, and, or"
      ],
      "metadata": {
        "id": "t8xcC2MTq74B"
      }
    },
    {
      "cell_type": "markdown",
      "source": [
        "# Section 3: Data collections"
      ],
      "metadata": {
        "id": "dmu0aZGZvncU"
      }
    },
    {
      "cell_type": "markdown",
      "source": [
        "There are types of data collections in Pyhton\n",
        "\n",
        "    List:       [element 1, ..., element n]\n",
        "    Tuple:      (element 1, ..., element n)\n",
        "    Dictionary: {key:element 1, ..., key:element n}\n",
        "    Set:        {element 1, ..., element n}"
      ],
      "metadata": {
        "id": "5uWbYutgwX_9"
      }
    },
    {
      "cell_type": "markdown",
      "source": [
        "3.1 List\n",
        "---\n",
        "A list is used to store several items in a single variable. A list is a built-in type in Python. Lists can store more than one item at the same time. A list is a mutable data type meaning that the list can be updated at any point in time. New items can be inserted into the list or deleted from the list. It is a member of a data type called sequences. Various operations can be performed on the list including slicing, multiplication, addition, etc.\n",
        "\n",
        "---\n",
        "\n",
        "Syntax:\n",
        "\n",
        "        myList = [element 1, element 2, ..., element n]\n",
        "\n",
        "        myList = [element 1]\n",
        "\n",
        "        myList = list()"
      ],
      "metadata": {
        "id": "i6xK0kru7IpZ"
      }
    },
    {
      "cell_type": "markdown",
      "source": [
        "List indexing\n",
        "---\n",
        "Each element of the list has a unique index number as shown below. To access any element of the list, we need to use that element's index number. The indexing of a list is the same as for strings. A list is a container for many items, with these items indexed starting with the first item being \"0\".\n",
        "\n",
        "---\n",
        "Syntax:\n",
        "\n",
        "        myList[index]"
      ],
      "metadata": {
        "id": "XLFnd-Su8Sei"
      }
    },
    {
      "cell_type": "code",
      "source": [
        "# The indexes\n",
        "# myFirstList   =   [1,  2,  3,  4,  5, ..., n]\n",
        "# --------------------------\n",
        "# index              0,  1,  2,  3,  4, ..., n-1\n",
        "# negative index    -n,                 ...,  -1\n",
        "\n",
        "myFirstList = [\"Red Snapper\", \"Carp\", \"Bass\"]\n",
        "\n",
        "print(myFirstList[0])\n",
        "print(myFirstList[1])\n",
        "print(myFirstList[2])"
      ],
      "metadata": {
        "id": "pm_3t73s9cE-"
      },
      "execution_count": null,
      "outputs": []
    }
  ]
}