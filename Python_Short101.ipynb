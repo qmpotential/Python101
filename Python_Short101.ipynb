{
  "nbformat": 4,
  "nbformat_minor": 0,
  "metadata": {
    "colab": {
      "provenance": [],
      "authorship_tag": "ABX9TyNGtgTbw0SA0tIHsKRoDYMT",
      "include_colab_link": true
    },
    "kernelspec": {
      "name": "python3",
      "display_name": "Python 3"
    },
    "language_info": {
      "name": "python"
    }
  },
  "cells": [
    {
      "cell_type": "markdown",
      "metadata": {
        "id": "view-in-github",
        "colab_type": "text"
      },
      "source": [
        "<a href=\"https://colab.research.google.com/github/qmpotential/Python101/blob/main/Python_Short101.ipynb\" target=\"_parent\"><img src=\"https://colab.research.google.com/assets/colab-badge.svg\" alt=\"Open In Colab\"/></a>"
      ]
    },
    {
      "cell_type": "markdown",
      "source": [
        "The print() function in Python is used to display information on the screen (standard output). It can print text, numbers, variables, or the results of expressions. By default, print() adds a newline after each call, but you can change this behavior using the end parameter. You can also print multiple items at once by separating them with commas."
      ],
      "metadata": {
        "id": "Q6RPTiqle7c9"
      }
    },
    {
      "cell_type": "code",
      "execution_count": null,
      "metadata": {
        "id": "laWd4YNheldC"
      },
      "outputs": [],
      "source": [
        "# A simple print function"
      ]
    },
    {
      "cell_type": "markdown",
      "source": [
        "A variable in Python is a named location in memory used to store data that can be referenced and manipulated throughout a program. It acts as a label for a value, allowing programmers to easily access and modify information without repeating literal values. Variables are dynamically typed, meaning their data type is determined automatically based on the value assigned, and can change during execution. The assignment operator (=) is used to store a value in a variable, and variable names should follow proper naming conventions—starting with a letter or underscore and using clear, descriptive identifiers in Camel case, Pascal case, or snake_case for readability."
      ],
      "metadata": {
        "id": "f-b9Ed73ft5V"
      }
    },
    {
      "cell_type": "code",
      "source": [
        "# Incorrect declaration of variables, here are examples\n"
      ],
      "metadata": {
        "id": "gx6gb1Pef4HC"
      },
      "execution_count": null,
      "outputs": []
    },
    {
      "cell_type": "code",
      "source": [
        "# Correct declaration of variables in Python, examples\n"
      ],
      "metadata": {
        "id": "WAsM7wRDf38q"
      },
      "execution_count": null,
      "outputs": []
    },
    {
      "cell_type": "code",
      "source": [
        "# Convention for variable declaration"
      ],
      "metadata": {
        "id": "IUO5JgJDf3yy"
      },
      "execution_count": null,
      "outputs": []
    },
    {
      "cell_type": "markdown",
      "source": [
        "Data types in Python define the kind of values a variable can hold and determine what operations can be performed on that data. Python has several built-in data types, including numeric types such as int, float, and complex; sequence types like str, list, and tuple; and collection types such as set and dict. It also supports Boolean (bool) and special types like NoneType. Since Python is dynamically typed, variables do not need explicit type declarations—the interpreter automatically assigns a data type based on the value provided. Understanding data types is essential because it ensures that operations and comparisons are performed correctly, improving both code reliability and readability."
      ],
      "metadata": {
        "id": "ZXEHkiWriEbQ"
      }
    },
    {
      "cell_type": "code",
      "source": [
        "# String"
      ],
      "metadata": {
        "id": "3KAkrbSPiHjx"
      },
      "execution_count": null,
      "outputs": []
    },
    {
      "cell_type": "code",
      "source": [
        "# Integer"
      ],
      "metadata": {
        "id": "PJ9apQ8GiItx"
      },
      "execution_count": null,
      "outputs": []
    },
    {
      "cell_type": "code",
      "source": [
        "# Float"
      ],
      "metadata": {
        "id": "BP67MzhFiIZY"
      },
      "execution_count": null,
      "outputs": []
    },
    {
      "cell_type": "code",
      "source": [
        "# Boolean"
      ],
      "metadata": {
        "id": "X5GGvK46iILB"
      },
      "execution_count": null,
      "outputs": []
    },
    {
      "cell_type": "markdown",
      "source": [
        "Comments in Python are lines of text ignored by the interpreter, used to explain code, describe logic, or provide context for future reference. They make programs easier to read and maintain, especially in collaborative or long-term projects. A single-line comment begins with the hash symbol (#), and everything following it on the same line is treated as a comment. For longer explanations, Python supports multi-line comments using triple quotes (''' or \"\"\"), though these are technically string literals not assigned to a variable. Clear and concise comments help others (and your future self) quickly understand the purpose and functionality of the code."
      ],
      "metadata": {
        "id": "jv5A2KF0ivA8"
      }
    },
    {
      "cell_type": "code",
      "source": [
        "# Comments are used to document our code"
      ],
      "metadata": {
        "id": "wnGiwuQpixOM"
      },
      "execution_count": null,
      "outputs": []
    },
    {
      "cell_type": "code",
      "source": [
        "# Comments are used to deactivate some parts of the code"
      ],
      "metadata": {
        "id": "hTvGnPMEixAc"
      },
      "execution_count": null,
      "outputs": []
    },
    {
      "cell_type": "markdown",
      "source": [
        "Numerical representations in Python refer to how numbers are stored and manipulated within a program. Python supports several numeric data types, including integers (int), floating-point numbers (float), and complex numbers (complex). Integers represent whole numbers without decimals, floats represent real numbers with decimals, and complex numbers include both real and imaginary parts. Python automatically manages the size of integers, allowing them to grow beyond typical limits found in other languages. Arithmetic operations such as addition, subtraction, multiplication, and division are supported across all numeric types, and conversion between them is straightforward using built-in functions like int(), float(), and complex(). This flexibility makes Python particularly powerful for scientific computing, data analysis, and mathematical modeling."
      ],
      "metadata": {
        "id": "83riUvlzlMPZ"
      }
    },
    {
      "cell_type": "code",
      "source": [
        "# Scientific notation"
      ],
      "metadata": {
        "id": "AIy0Xt4JAvLN"
      },
      "execution_count": null,
      "outputs": []
    },
    {
      "cell_type": "code",
      "source": [
        "# Integer representation"
      ],
      "metadata": {
        "id": "P_mGBfPklO2Y"
      },
      "execution_count": null,
      "outputs": []
    },
    {
      "cell_type": "code",
      "source": [
        "# Binary representation"
      ],
      "metadata": {
        "id": "V0iF3Gi579iQ"
      },
      "execution_count": null,
      "outputs": []
    },
    {
      "cell_type": "code",
      "source": [
        "# Octal representation"
      ],
      "metadata": {
        "id": "Nsqt-aSWlOoH"
      },
      "execution_count": null,
      "outputs": []
    },
    {
      "cell_type": "code",
      "source": [
        "# Hexadecimal representation"
      ],
      "metadata": {
        "id": "YJWskO07mJxI"
      },
      "execution_count": null,
      "outputs": []
    },
    {
      "cell_type": "markdown",
      "source": [
        "Arithmetic operators in Python are used to perform basic mathematical computations on numeric values. These include addition (+), subtraction (-), multiplication (*), division (/), floor division (//), modulus (%), and exponentiation (**). The addition and subtraction operators perform standard arithmetic, while multiplication and division handle scaling and fractional results. The floor division operator returns the integer quotient of a division, discarding any remainder, and the modulus operator returns the remainder of a division. Exponentiation raises a number to the power of another, such as 2 ** 3 producing 8. These operators can be applied to both integers and floating-point numbers, and Python follows the standard order of operations (PEMDAS) when evaluating expressions."
      ],
      "metadata": {
        "id": "y9EuIQAcmm7z"
      }
    },
    {
      "cell_type": "code",
      "source": [
        "# Addition"
      ],
      "metadata": {
        "id": "3ID1rZNam6tf"
      },
      "execution_count": null,
      "outputs": []
    },
    {
      "cell_type": "code",
      "source": [
        "# Subtraction"
      ],
      "metadata": {
        "id": "31h0GyWBm6gN"
      },
      "execution_count": null,
      "outputs": []
    },
    {
      "cell_type": "code",
      "source": [
        "# Multiplication"
      ],
      "metadata": {
        "id": "OX2er20zm6Tt"
      },
      "execution_count": null,
      "outputs": []
    },
    {
      "cell_type": "code",
      "source": [
        "# Exponentiation"
      ],
      "metadata": {
        "id": "wSZgwarum6Gt"
      },
      "execution_count": null,
      "outputs": []
    },
    {
      "cell_type": "code",
      "source": [
        "# Standard Division - always a float"
      ],
      "metadata": {
        "id": "kjSCCRxSm55t"
      },
      "execution_count": null,
      "outputs": []
    },
    {
      "cell_type": "code",
      "source": [
        "# Floor Division - returns the nearest number rounded down"
      ],
      "metadata": {
        "id": "7ws9eqV-m5rV"
      },
      "execution_count": null,
      "outputs": []
    },
    {
      "cell_type": "code",
      "source": [
        "# Modulus - returns the remainder"
      ],
      "metadata": {
        "id": "C5S7WN5om5as"
      },
      "execution_count": null,
      "outputs": []
    },
    {
      "cell_type": "markdown",
      "source": [
        "Assignment operators in Python are used to assign values to variables and can also perform arithmetic or bitwise operations in the same statement. The basic assignment operator is =, which stores the value on the right-hand side into the variable on the left. Compound assignment operators combine an operation with assignment, such as += (addition assignment), -= (subtraction assignment), *= (multiplication assignment), /= (division assignment), //= (floor division assignment), %= (modulus assignment), and **= (exponentiation assignment). For example, x += 5 is equivalent to x = x + 5. These operators make code more concise and efficient by updating variable values directly without repeating the variable name."
      ],
      "metadata": {
        "id": "gdk6rNqlBVFD"
      }
    },
    {
      "cell_type": "code",
      "source": [
        "# Standard assignment operator"
      ],
      "metadata": {
        "id": "QUKoXUHeB0v4"
      },
      "execution_count": null,
      "outputs": []
    },
    {
      "cell_type": "code",
      "source": [
        "# Compound assignment operators"
      ],
      "metadata": {
        "id": "brqvJ7kKB_dJ"
      },
      "execution_count": null,
      "outputs": []
    },
    {
      "cell_type": "markdown",
      "source": [
        "Type casting in Python refers to converting a variable from one data type to another, allowing for flexible manipulation of data in different forms. Python provides built-in functions for casting between common types such as int(), float(), str(), and bool(). For example, converting a string containing a number (\"10\") to an integer can be done using int(\"10\"), while converting an integer to a string can be done with str(10). Type casting is particularly useful when performing operations that require specific data types, such as mathematical calculations or string concatenations. There are two types of casting: implicit casting, where Python automatically converts types (e.g., int to float during arithmetic), and explicit casting, where the programmer manually specifies the conversion."
      ],
      "metadata": {
        "id": "Ar-Kkn4kCsKr"
      }
    },
    {
      "cell_type": "code",
      "source": [
        "# Casting of integer to float"
      ],
      "metadata": {
        "id": "5l-lT_8JCvMa"
      },
      "execution_count": null,
      "outputs": []
    },
    {
      "cell_type": "code",
      "source": [
        "# Casting of float to integer"
      ],
      "metadata": {
        "id": "NN9F80ZwDAsP"
      },
      "execution_count": null,
      "outputs": []
    },
    {
      "cell_type": "code",
      "source": [
        "# Casting of integer to bolean"
      ],
      "metadata": {
        "id": "s5bk7fJmDKCv"
      },
      "execution_count": null,
      "outputs": []
    },
    {
      "cell_type": "code",
      "source": [
        "# Casting of string to integer"
      ],
      "metadata": {
        "id": "XwBoHLk_DjVY"
      },
      "execution_count": null,
      "outputs": []
    },
    {
      "cell_type": "markdown",
      "source": [
        "Order of operators in Python, also known as operator precedence, determines the sequence in which operations are evaluated in an expression. Python follows a specific hierarchy to ensure consistent results. Operations inside parentheses () are evaluated first, followed by exponentiation **, then multiplication, division, floor division, and modulus (*, /, //, %). Next come addition and subtraction (+, -). Comparison, logical, and bitwise operators follow in lower precedence. If multiple operators of the same precedence appear, Python evaluates them from left to right, except for exponentiation, which is right-associative. Understanding this order helps prevent logical errors and ensures expressions are interpreted as intended."
      ],
      "metadata": {
        "id": "iUO-hd46I0sr"
      }
    },
    {
      "cell_type": "code",
      "source": [
        "# A simple example on order of operators"
      ],
      "metadata": {
        "id": "qGhOpfhOI28N"
      },
      "execution_count": null,
      "outputs": []
    },
    {
      "cell_type": "code",
      "source": [
        "# A simple example of adding three float numbers"
      ],
      "metadata": {
        "id": "r8nGWw8rKPxm"
      },
      "execution_count": null,
      "outputs": []
    },
    {
      "cell_type": "code",
      "source": [
        "# A simple example fr the right-sided expression"
      ],
      "metadata": {
        "id": "amTmRUHdKYc6"
      },
      "execution_count": null,
      "outputs": []
    },
    {
      "cell_type": "code",
      "source": [
        "# A simple example of the left-sided expression"
      ],
      "metadata": {
        "id": "yWSv7glLKwqv"
      },
      "execution_count": null,
      "outputs": []
    },
    {
      "cell_type": "markdown",
      "source": [
        "A list in Python is an ordered, mutable collection of elements that can store items of different data types such as numbers, strings, or even other lists. Lists are defined using square brackets [], with elements separated by commas. Because lists are mutable, their contents can be modified after creation — items can be added, removed, or changed using built-in methods like append(), remove(), and insert(). Lists maintain the order of insertion and support indexing and slicing, allowing access to specific elements or sublists. They are one of Python’s most versatile and commonly used data structures for organizing and manipulating data. A collection is also known as a container data type."
      ],
      "metadata": {
        "id": "M-nPAd6ZNEai"
      }
    },
    {
      "cell_type": "code",
      "source": [
        "# A simple empty list"
      ],
      "metadata": {
        "id": "CkezdG5xNlkI"
      },
      "execution_count": null,
      "outputs": []
    },
    {
      "cell_type": "code",
      "source": [
        "# A simple list with sring values"
      ],
      "metadata": {
        "id": "Y7b3iGBSNn_T"
      },
      "execution_count": null,
      "outputs": []
    },
    {
      "cell_type": "code",
      "source": [
        "# A simple list with accessing only one element - indexing"
      ],
      "metadata": {
        "id": "ovrsLsCUObaT"
      },
      "execution_count": null,
      "outputs": []
    },
    {
      "cell_type": "code",
      "source": [
        "# A simple example with accessing more than one element - slicing"
      ],
      "metadata": {
        "id": "3luHDNEpO3w9"
      },
      "execution_count": null,
      "outputs": []
    },
    {
      "cell_type": "code",
      "source": [
        "# Adding elements to the list"
      ],
      "metadata": {
        "id": "bQtMKS_PQh9Z"
      },
      "execution_count": null,
      "outputs": []
    },
    {
      "cell_type": "code",
      "source": [
        "# Insertiing an element to the list"
      ],
      "metadata": {
        "id": "oHc9lkfGSJiL"
      },
      "execution_count": null,
      "outputs": []
    },
    {
      "cell_type": "code",
      "source": [
        "# Deleting elements of the list"
      ],
      "metadata": {
        "id": "UwSn2Fd2QdvD"
      },
      "execution_count": null,
      "outputs": []
    },
    {
      "cell_type": "markdown",
      "source": [
        "A tuple in Python is an ordered, immutable collection of elements that can contain items of different data types, such as integers, strings, or other tuples. Tuples are defined using parentheses () with elements separated by commas. Unlike lists, tuples cannot be modified after creation — you cannot add, remove, or change their elements — making them useful for storing fixed data that should remain constant throughout a program. Tuples support indexing, slicing, and iteration, allowing access to individual elements or subsets. Because of their immutability, tuples are generally faster and can be used as dictionary keys or set elements, unlike lists."
      ],
      "metadata": {
        "id": "x3dpeYs9TKdW"
      }
    },
    {
      "cell_type": "code",
      "source": [
        "# A simple empty tuple"
      ],
      "metadata": {
        "id": "3-E3IXP8TMnl"
      },
      "execution_count": null,
      "outputs": []
    },
    {
      "cell_type": "code",
      "source": [
        "# A simple tuple with one element within parenthesis"
      ],
      "metadata": {
        "id": "2ze1jmzTTSNN"
      },
      "execution_count": null,
      "outputs": []
    },
    {
      "cell_type": "code",
      "source": [
        "# A simple tuple with one element no parenthesis"
      ],
      "metadata": {
        "id": "Jr663yhiT8BK"
      },
      "execution_count": null,
      "outputs": []
    },
    {
      "cell_type": "code",
      "source": [
        "# Tuple indexing"
      ],
      "metadata": {
        "id": "q8ycoTtMUDZb"
      },
      "execution_count": null,
      "outputs": []
    },
    {
      "cell_type": "code",
      "source": [
        "# Tuple concatenation"
      ],
      "metadata": {
        "id": "5mrECUvwXPYa"
      },
      "execution_count": null,
      "outputs": []
    },
    {
      "cell_type": "code",
      "source": [
        "# Deleting tuple"
      ],
      "metadata": {
        "id": "lNdtlRvCXZiY"
      },
      "execution_count": null,
      "outputs": []
    },
    {
      "cell_type": "markdown",
      "source": [
        "A dictionary in Python is an unordered, mutable collection of key–value pairs used to store and retrieve data efficiently. Each key in a dictionary must be unique and immutable (such as a string, number, or tuple), while the values can be of any data type and may be duplicated. Dictionaries are defined using curly braces {} with keys and values separated by colons, for example: {\"name\": \"Oleg\", \"age\": 25}. Data in a dictionary can be accessed, modified, or deleted using the key name rather than an index, making them ideal for structured data representation. Because of their flexibility and fast lookup performance, dictionaries are widely used for mapping, configuration, and data manipulation in Python programs."
      ],
      "metadata": {
        "id": "RnkFnudQX8UD"
      }
    },
    {
      "cell_type": "code",
      "source": [
        "# An empty dictionary"
      ],
      "metadata": {
        "id": "R41oH1hcXk2H"
      },
      "execution_count": null,
      "outputs": []
    },
    {
      "cell_type": "code",
      "source": [
        "# A dictionary with three key-value elements"
      ],
      "metadata": {
        "id": "v12Mo98VYBPT"
      },
      "execution_count": null,
      "outputs": []
    },
    {
      "cell_type": "code",
      "source": [
        "# Adding an element to the dictionary"
      ],
      "metadata": {
        "id": "njwsM7uVZK3d"
      },
      "execution_count": null,
      "outputs": []
    },
    {
      "cell_type": "code",
      "source": [
        "# Updating the dictionary"
      ],
      "metadata": {
        "id": "FLqIvZetaSpM"
      },
      "execution_count": null,
      "outputs": []
    },
    {
      "cell_type": "code",
      "source": [
        "# Deleting an element"
      ],
      "metadata": {
        "id": "89dXxlizbO5T"
      },
      "execution_count": null,
      "outputs": []
    },
    {
      "cell_type": "code",
      "source": [
        "# Deleting a dictionary"
      ],
      "metadata": {
        "id": "egC-uOnibR02"
      },
      "execution_count": null,
      "outputs": []
    },
    {
      "cell_type": "markdown",
      "source": [
        "An if statement in Python is a conditional control structure used to execute a block of code only if a specified condition evaluates to True. It allows a program to make decisions and respond differently based on given inputs or situations. The general syntax uses the if keyword followed by a condition and a colon (:), with the indented block below representing the code to run when the condition is true. Optionally, elif (short for “else if”) and else clauses can be added to handle multiple or alternative conditions. For example, an if statement can be used to check user input, compare variable values, or control program flow based on logical expressions."
      ],
      "metadata": {
        "id": "6fDKjhnQcmBu"
      }
    },
    {
      "cell_type": "code",
      "source": [
        "# A simple if statement"
      ],
      "metadata": {
        "id": "qfKP809pcqRV"
      },
      "execution_count": null,
      "outputs": []
    },
    {
      "cell_type": "code",
      "source": [
        "# A simple example with True"
      ],
      "metadata": {
        "id": "qt-jKUKLgJor"
      },
      "execution_count": null,
      "outputs": []
    },
    {
      "cell_type": "code",
      "source": [
        "# A simple example with False"
      ],
      "metadata": {
        "id": "lxgMaJXkgN5x"
      },
      "execution_count": null,
      "outputs": []
    },
    {
      "cell_type": "code",
      "source": [
        "# A simple if statement with else block"
      ],
      "metadata": {
        "id": "zKXbExLKdLyl"
      },
      "execution_count": null,
      "outputs": []
    },
    {
      "cell_type": "code",
      "source": [
        "# A simple if statement with elif and else block"
      ],
      "metadata": {
        "id": "Lb85Vw8Id13D"
      },
      "execution_count": null,
      "outputs": []
    },
    {
      "cell_type": "markdown",
      "source": [
        "Here are the main comparison operators in Python:\n",
        "\n",
        "\\> — greater than\n",
        "\n",
        "< — less than\n",
        "\n",
        "\\>= — greater than or equal to\n",
        "\n",
        "<= — less than or equal to\n",
        "\n",
        "== — equal to\n",
        "\n",
        "!= — not equal to"
      ],
      "metadata": {
        "id": "ateo1mSXezEE"
      }
    },
    {
      "cell_type": "markdown",
      "source": [
        "Python provides three logical operators:\n",
        "\n",
        "and – returns True if both conditions are true.\n",
        "\n",
        "or – returns True if at least one condition is true.\n",
        "\n",
        "not – reverses the truth value of a condition."
      ],
      "metadata": {
        "id": "7Ft0ifG0fRix"
      }
    },
    {
      "cell_type": "code",
      "source": [
        "# A simple example with comparison and logical operators, joining multiple conditions"
      ],
      "metadata": {
        "id": "9CxVKUBbfZRF"
      },
      "execution_count": null,
      "outputs": []
    },
    {
      "cell_type": "code",
      "source": [
        "# Nested if statement example\n"
      ],
      "metadata": {
        "id": "JLSfywnigQgt"
      },
      "execution_count": null,
      "outputs": []
    },
    {
      "cell_type": "markdown",
      "source": [
        "A while loop in Python is used to repeatedly execute a block of code as long as a specified condition remains True. It is often used when the number of iterations is not known in advance and depends on a logical condition rather than a fixed range. The loop checks the condition before each iteration, and if it evaluates to False, the loop terminates. To prevent infinite loops, it’s important to ensure that something inside the loop eventually makes the condition False. Optionally, the break statement can be used to exit the loop early, and the continue statement can skip the rest of the current iteration and move to the next cycle."
      ],
      "metadata": {
        "id": "hGeW6_y7lmpB"
      }
    },
    {
      "cell_type": "code",
      "source": [
        "# A simple while loop"
      ],
      "metadata": {
        "id": "xz1jSkn8nOAf"
      },
      "execution_count": null,
      "outputs": []
    },
    {
      "cell_type": "code",
      "source": [
        "# A simple while loop printing numbers from 1 to 10"
      ],
      "metadata": {
        "id": "GjU4We5omYw1"
      },
      "execution_count": null,
      "outputs": []
    },
    {
      "cell_type": "code",
      "source": [
        "# A simple while loop with break statetement"
      ],
      "metadata": {
        "id": "E4CukdvmqjWN"
      },
      "execution_count": null,
      "outputs": []
    },
    {
      "cell_type": "code",
      "source": [
        "# A simple while loop with continue statement"
      ],
      "metadata": {
        "id": "apA5Wjbbqp5H"
      },
      "execution_count": null,
      "outputs": []
    },
    {
      "cell_type": "markdown",
      "source": [
        "A for loop in Python is used to iterate over a sequence of elements such as a list, tuple, string, or range. It executes a block of code repeatedly for each item in the sequence, making it useful for tasks that involve processing collections of data or performing actions a specific number of times. The loop variable takes the value of each element one by one, and the loop continues until all elements have been processed. Python’s for loop is simple, readable, and eliminates the need for manual indexing, making it ideal for iteration-based operations."
      ],
      "metadata": {
        "id": "T5d0XY33oMdD"
      }
    },
    {
      "cell_type": "code",
      "source": [
        "# A simple for loop"
      ],
      "metadata": {
        "id": "ky6Qq9gpmfPu"
      },
      "execution_count": null,
      "outputs": []
    },
    {
      "cell_type": "code",
      "source": [
        "# A simple for loop printing numbers from 1 to 10"
      ],
      "metadata": {
        "id": "oSLcG_UAqyuR"
      },
      "execution_count": null,
      "outputs": []
    },
    {
      "cell_type": "code",
      "source": [
        "# A simple loop with the break statement"
      ],
      "metadata": {
        "id": "ETuMDqpHohJU"
      },
      "execution_count": null,
      "outputs": []
    },
    {
      "cell_type": "code",
      "source": [
        "# A simple loop with continue statement"
      ],
      "metadata": {
        "id": "rMyJ-gZQqE0J"
      },
      "execution_count": null,
      "outputs": []
    },
    {
      "cell_type": "markdown",
      "source": [
        "Functions in Python are reusable blocks of code designed to perform a specific task. They help organize programs into smaller, manageable sections, improving readability, reusability, and maintainability. Functions are defined using the def keyword, followed by a name, parameters (optional), and a block of code. They can accept inputs (arguments) and optionally return a value using the return statement. Python also supports features like default parameters, variable-length arguments (*args, **kwargs), recursion, and anonymous functions using lambda. Overall, functions are essential for writing structured and efficient Python programs."
      ],
      "metadata": {
        "id": "7xTO9QdUr-yD"
      }
    },
    {
      "cell_type": "code",
      "source": [
        "# A simple function definition"
      ],
      "metadata": {
        "id": "Erlvvz1BsBlE"
      },
      "execution_count": null,
      "outputs": []
    },
    {
      "cell_type": "code",
      "source": [
        "# A simple function calling"
      ],
      "metadata": {
        "id": "NyUsZzapsi9x"
      },
      "execution_count": null,
      "outputs": []
    },
    {
      "cell_type": "code",
      "source": [
        "# A function with positional parameters"
      ],
      "metadata": {
        "id": "a_vzO3sNs0o2"
      },
      "execution_count": null,
      "outputs": []
    },
    {
      "cell_type": "code",
      "source": [
        "# A function with keyword arguments"
      ],
      "metadata": {
        "id": "sTyWaR29vXJG"
      },
      "execution_count": null,
      "outputs": []
    },
    {
      "cell_type": "code",
      "source": [
        "# A function with default parameters"
      ],
      "metadata": {
        "id": "pUk4M_3qvdog"
      },
      "execution_count": null,
      "outputs": []
    },
    {
      "cell_type": "code",
      "source": [
        "# A function with positional and keyword arguments"
      ],
      "metadata": {
        "id": "WopZs5YUwKHL"
      },
      "execution_count": null,
      "outputs": []
    },
    {
      "cell_type": "code",
      "source": [
        "# A function with arbitrary number of positional and keyword arguments"
      ],
      "metadata": {
        "id": "pAzqeHrTw0mK"
      },
      "execution_count": null,
      "outputs": []
    },
    {
      "cell_type": "code",
      "source": [
        "# An anonymous function example"
      ],
      "metadata": {
        "id": "DNoGC9NswhzS"
      },
      "execution_count": null,
      "outputs": []
    }
  ]
}