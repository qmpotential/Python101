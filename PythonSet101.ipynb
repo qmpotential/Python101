{
  "nbformat": 4,
  "nbformat_minor": 0,
  "metadata": {
    "colab": {
      "provenance": [],
      "include_colab_link": true
    },
    "kernelspec": {
      "name": "python3",
      "display_name": "Python 3"
    },
    "language_info": {
      "name": "python"
    }
  },
  "cells": [
    {
      "cell_type": "markdown",
      "metadata": {
        "id": "view-in-github",
        "colab_type": "text"
      },
      "source": [
        "<a href=\"https://colab.research.google.com/github/qmpotential/Python101/blob/main/PythonSet101.ipynb\" target=\"_parent\"><img src=\"https://colab.research.google.com/assets/colab-badge.svg\" alt=\"Open In Colab\"/></a>"
      ]
    },
    {
      "cell_type": "markdown",
      "source": [
        "# **Introduction to Python**\n",
        "\n",
        "Date: October 18th, 2023\n",
        "\n",
        "HPC Training, 9:00 am\n",
        "\n",
        "by Oleg N. Starovoytov\n",
        "\n",
        "olegs@lsu.edu"
      ],
      "metadata": {
        "id": "IIB88iwPO5F-"
      }
    },
    {
      "cell_type": "markdown",
      "source": [
        "# Outline\n",
        "\n",
        "Section 1: **Python programming basics**\n",
        "\n",
        "Section 2: **Operators**\n",
        "\n",
        "Section 3: **Data collections**\n",
        "   \n",
        "Section 4: **Control flow**\n",
        "\n",
        "Section 5: **Functions**\n",
        "\n",
        "Section 6: **Modules**\n",
        "\n",
        "Section 7: **Classes**\n",
        "\n",
        "Section 8: **Exceptions**\n",
        "\n",
        "Section 9: **Input and output (I/O) operations**"
      ],
      "metadata": {
        "id": "Ptut8gykhIuv"
      }
    },
    {
      "cell_type": "markdown",
      "source": [
        "# Section 1: Python programming basics\n",
        "\n",
        "1.1 Print function\n",
        "\n",
        "1.2 Comments\n",
        "\n",
        "1.3 Variables\n",
        "\n",
        "1.4 Datatypes\n",
        "\n",
        "1.5 Literals\n",
        "\n",
        "1.6 Numbers\n",
        "\n",
        "1.7 Casting\n",
        "\n",
        "1.8 Boolean\n",
        "\n",
        "1.9 String"
      ],
      "metadata": {
        "id": "fKMS-GhxE04A"
      }
    },
    {
      "cell_type": "markdown",
      "source": [
        "1.1 Print function\n",
        "---\n",
        "The print function allows you to print data to the screen. We are going to use the print function a lot and that is why I would like you to get familiar with this function first.\n",
        "\n",
        "---\n",
        "Syntax:\n",
        "\n",
        "        print(arguments)"
      ],
      "metadata": {
        "id": "v1p1Jg8o0t0h"
      }
    },
    {
      "cell_type": "code",
      "source": [
        "# Using the print function to display information on the screen\n",
        "\n",
        "print(\"Hello, World!\")"
      ],
      "metadata": {
        "id": "SvLbKqgN3AZN"
      },
      "execution_count": null,
      "outputs": []
    },
    {
      "cell_type": "markdown",
      "source": [
        "1.2 Comments\n",
        "---\n",
        "Comments are important in the process of programming. It is encouraged to leave comments inside of your code so that others may understand the code better. Comments in Python are made using a ( # ) sign to comment on a single line and using three single quotes ( ' ' ' ) or three double quotes ( \" \" \" ) to comment on multiple lines.\n",
        "\n",
        "---\n",
        "Syntax:\n",
        "\n",
        "        #     Lorem ipsum dolor sit amet, consectetur\n",
        "        \n",
        "        '''   Lorem ipsum dolor sit amet, consectetur   '''\n",
        "\n",
        "        \" \" \" Lorem ipsum dolor sit amet, consectetur \" \" \""
      ],
      "metadata": {
        "id": "P735N2xU0feW"
      }
    },
    {
      "cell_type": "code",
      "source": [
        "# This is my first comment\n",
        "\n",
        "print(\"Hello, World!\")"
      ],
      "metadata": {
        "id": "EzgnB7SAF2Hs",
        "colab": {
          "base_uri": "https://localhost:8080/"
        },
        "outputId": "2ddf96ae-9359-44b1-a01f-1cab56d4892e"
      },
      "execution_count": null,
      "outputs": [
        {
          "output_type": "stream",
          "name": "stdout",
          "text": [
            "Hello, World!\n"
          ]
        }
      ]
    },
    {
      "cell_type": "code",
      "source": [
        "# Using three single quotes to make a multiple line comment\n",
        "\n",
        "''' This is a multiple\n",
        "    line\n",
        "    comment '''\n",
        "\n",
        "print(\"Hello, World!\")"
      ],
      "metadata": {
        "id": "d0bAZiB2FzEQ",
        "colab": {
          "base_uri": "https://localhost:8080/"
        },
        "outputId": "68383f5c-2f15-4ecc-9985-7c25d47ee97d"
      },
      "execution_count": null,
      "outputs": [
        {
          "output_type": "stream",
          "name": "stdout",
          "text": [
            "Hello, World!\n"
          ]
        }
      ]
    },
    {
      "cell_type": "code",
      "source": [
        "# Using three double quotes to make a multiple line comment\n",
        "\n",
        "\"\"\" This is a multiple\n",
        "    line\n",
        "    comment \"\"\"\n",
        "\n",
        "print(\"Hello, World!\")"
      ],
      "metadata": {
        "id": "oVfXjlu-GHb3",
        "colab": {
          "base_uri": "https://localhost:8080/"
        },
        "outputId": "a2181672-6b6e-45c2-ebda-333ae94e85d8"
      },
      "execution_count": null,
      "outputs": [
        {
          "output_type": "stream",
          "name": "stdout",
          "text": [
            "Hello, World!\n"
          ]
        }
      ]
    },
    {
      "cell_type": "markdown",
      "source": [
        "Note\n",
        "\n",
        "---\n",
        "Professional programmers include comments to the header of each file, listing the author, date, a description of the code, some other important information, and any updates that have been made. See example below.\n",
        "\n",
        "---"
      ],
      "metadata": {
        "id": "ALsNm8DsLo2d"
      }
    },
    {
      "cell_type": "code",
      "source": [
        "# function sortedArray = sort(myFirstArray)\n",
        "\n",
        "# Author:  First name Second name (somename@address.edu)\n",
        "# Date:    12/10/1815\n",
        "# Updated: 06/10/1835\n",
        "# Description: The sort function is sorting an array of integers\n",
        "# Parameters: Array\n",
        "# Return: Sorted array\n",
        "# Example of usage: myFirstArray = [23,20,45,14,2]\n",
        "#                   sortedArray  = [2,14,20,23,45]"
      ],
      "metadata": {
        "id": "V0eM_w4IL85E"
      },
      "execution_count": null,
      "outputs": []
    },
    {
      "cell_type": "markdown",
      "source": [
        "1.3 Variables\n",
        "---\n",
        "A variable's name references or points to an object. Each object can have various data types with some stored values. No particular type is used upon variable declaration.\n",
        "\n",
        "---\n",
        "Syntax:\n",
        "\n",
        "        myVariableName = value"
      ],
      "metadata": {
        "id": "Obdgar5uk9bO"
      }
    },
    {
      "cell_type": "code",
      "source": [
        "# Illegal declaration of variables\n",
        "\n",
        "100myFirstVariable  = \"Lorem\"  # can not start with a number\n",
        "my-first-variable   = \"Lorem\"  # can not have dash in the name\n",
        "my first variable   = \"Lorem\"  # can not have spaces in the variable's name\n",
        "&myFirstVariable    = \"Lorem\"  # can not have special characters in the name\n",
        "              for   = \"Lorem\"  # can not use reserved python keywords"
      ],
      "metadata": {
        "id": "WkzKQsuNMQbN"
      },
      "execution_count": null,
      "outputs": []
    },
    {
      "cell_type": "code",
      "source": [
        "# Correct declaration of variables\n",
        "\n",
        "myFirstVariable     = \"Lorem\"\n",
        "MyFirstVariable     = \"Lorem\"\n",
        "my_first_variable   = \"Lorem\"\n",
        "_my_first_Variable  = \"Lorem\"\n",
        "MY_FIRST_VARIABLE   = \"Lorem\"\n",
        "myFirst_Variable363 = \"Lorem\""
      ],
      "metadata": {
        "id": "7hkrjOPCLysP"
      },
      "execution_count": null,
      "outputs": []
    },
    {
      "cell_type": "code",
      "source": [
        "# Usual declaration of variables\n",
        "\n",
        "a = 1\n",
        "b = 'Hello, World'\n",
        "c = -100000000000\n",
        "d = 0.345\n",
        "e = True\n",
        "f = 5.0E-51\n",
        "g = 1_000_000_000\n",
        "A_65_ASCII = \"A\""
      ],
      "metadata": {
        "id": "DEUIIbhRRAfx"
      },
      "execution_count": null,
      "outputs": []
    },
    {
      "cell_type": "markdown",
      "source": [
        "Note\n",
        "\n",
        "---\n",
        "\n",
        "   **Camel Case** - each word starts with a capital letter except the first one.\n",
        "\n",
        "Syntax:\n",
        "\n",
        "        myVariableName\n",
        "\n",
        "   **Pascal Case** - each word starts with a capital letter.\n",
        "\n",
        "  Syntax:\n",
        "\n",
        "        MyVariableName\n",
        "\n",
        "   **Snake Case** - each word is connected by underscore.\n",
        "\n",
        "   Syntax:\n",
        "\n",
        "        my_variable_name\n",
        "\n",
        "---\n"
      ],
      "metadata": {
        "id": "KbhL2URwEWcM"
      }
    },
    {
      "cell_type": "code",
      "source": [
        "# Declaration of a variable using Camel Case\n",
        "\n",
        "myCamelCase = \"Camel Case\"\n",
        "\n",
        "print(myCamelCase)"
      ],
      "metadata": {
        "id": "ulabfaGSKdH2"
      },
      "execution_count": null,
      "outputs": []
    },
    {
      "cell_type": "code",
      "source": [
        "# Declaration of a variable using Pascal Case\n",
        "\n",
        "MyPascalCase = \"Pascal Case\"\n",
        "\n",
        "print(MyPascalCase)"
      ],
      "metadata": {
        "id": "kzDovAizKr9o"
      },
      "execution_count": null,
      "outputs": []
    },
    {
      "cell_type": "code",
      "source": [
        "# Declaration of a variable using Snake Case\n",
        "\n",
        "my_snake_case = \"Snake Case\"\n",
        "\n",
        "print(my_snake_case)"
      ],
      "metadata": {
        "id": "vW3-ecGDK6Lu"
      },
      "execution_count": null,
      "outputs": []
    },
    {
      "cell_type": "markdown",
      "source": [
        "Note\n",
        "\n",
        "---\n",
        "Variables are created and initialized when you first assign a value to them.  \n",
        "There are various ways to assign values to variables in Python.\n",
        "\n",
        "---"
      ],
      "metadata": {
        "id": "WjnMkWGKqB4b"
      }
    },
    {
      "cell_type": "code",
      "source": [
        "# Assign multiple values to multiple variables in one line\n",
        "\n",
        "x, y, z = 23.4, 35.6, 45.1\n",
        "\n",
        "print(x)\n",
        "print(y)\n",
        "print(z)"
      ],
      "metadata": {
        "id": "6PUy49h1Ov7F"
      },
      "execution_count": null,
      "outputs": []
    },
    {
      "cell_type": "code",
      "source": [
        "# Assign multiple values of multiple data types to multiple variables in one line\n",
        "\n",
        "x, atomName, stateID = 23.4, \"Carbon\", True\n",
        "\n",
        "print(x)\n",
        "print(atomName)\n",
        "print(stateID)"
      ],
      "metadata": {
        "id": "utu2h8QPPpog"
      },
      "execution_count": null,
      "outputs": []
    },
    {
      "cell_type": "code",
      "source": [
        "# Assign one value to multiple variables\n",
        "\n",
        "x = y = z = 2.25\n",
        "\n",
        "print(x)\n",
        "print(y)\n",
        "print(z)"
      ],
      "metadata": {
        "id": "cxAe_TDSQGy2"
      },
      "execution_count": null,
      "outputs": []
    },
    {
      "cell_type": "code",
      "source": [
        "# Using unpacking method to assign values to variables\n",
        "\n",
        "coordinates = [2.35, 6.37, -8.94]\n",
        "x, y, z = coordinates\n",
        "\n",
        "print(x)\n",
        "print(y)\n",
        "print(z)"
      ],
      "metadata": {
        "id": "x5i3eTHMQerG"
      },
      "execution_count": null,
      "outputs": []
    },
    {
      "cell_type": "markdown",
      "source": [
        "Note\n",
        "\n",
        "---\n",
        "To delete a variable you need to use the del statement.\n",
        "\n",
        "---"
      ],
      "metadata": {
        "id": "fSxKgaAjtrx9"
      }
    },
    {
      "cell_type": "code",
      "source": [
        "# Deleting a variable using the del command\n",
        "\n",
        "myTenthVariable = 65\n",
        "\n",
        "print (myTenthVariable)\n",
        "del myTenthVariable\n"
      ],
      "metadata": {
        "id": "lRo1hsnza_fH"
      },
      "execution_count": null,
      "outputs": []
    },
    {
      "cell_type": "markdown",
      "source": [
        "Note\n",
        "\n",
        "---\n",
        "**Global and local variables:**\n",
        "\n",
        "Global variables are the variables that can be accessed from anywhere in your code. Local variables are accessible within a local scope. Please see the Function section for more information about global and local variables.\n",
        "\n",
        "---"
      ],
      "metadata": {
        "id": "P9P61uxDRk-I"
      }
    },
    {
      "cell_type": "markdown",
      "source": [
        "1.4 Data types\n",
        "---\n",
        "\n",
        "The datatype of a variable is determined at runtime in Python. It supports many built-in data types and allows you to create your own data type using classes. One can use the *type()* function to determine the data type of a variable.\n",
        "\n",
        "---\n",
        "\n",
        "Syntax:\n",
        "\n",
        "        type(myVariableName)"
      ],
      "metadata": {
        "id": "WMmwlGM-hbfY"
      }
    },
    {
      "cell_type": "markdown",
      "source": [
        "Note\n",
        "\n",
        "---\n",
        "Numeric Types:\t*int, float, complex*\n",
        "\n",
        "Text Type: *str*\n",
        "\n",
        "Boolean Type:\t*bool*\n",
        "\n",
        "Sequence Types:\t*list, tuple, range*\n",
        "\n",
        "Mapping Type:\t*dict*\n",
        "\n",
        "Set Types:\t*set, frozenset*\n",
        "\n",
        "Binary Types:\t*bytes, bytearray, memoryview*\n",
        "\n",
        "None Type:\t*None*\n",
        "\n",
        "---"
      ],
      "metadata": {
        "id": "vZjpDP7dYq5-"
      }
    },
    {
      "cell_type": "code",
      "source": [
        "# Using type function: type()\n",
        "\n",
        "myFirstVariable   = 23\n",
        "mySecondVariable  = 0.00036\n",
        "myThirdVariable   = 10+5j\n",
        "myFourthVariable  = True\n",
        "\n",
        "myFifthVariable   = \"Hello, World!\"\n",
        "mySixthVariable   = [0, 1, 2, 3, 4, 5, 6, 7, 8, 9]\n",
        "mySeventhVariable = (\"John\", \"Mikle\", \"Desbey\")\n",
        "\n",
        "myEighthVariable  = {\"Name\":\"John\", \"Age\":41, \"Occupation\":\"Doctor\"}\n",
        "\n",
        "myNinthVariable   = {\"apple\", \"banana\", \"cherry\"}\n",
        "\n",
        "myTenthVariable   = frozenset({\"apple\", \"banana\", \"cherry\"})\n",
        "\n",
        "myEleventhVariable   = b\"Hello\"\n",
        "myTwelvefthVariable  = bytearray(5)\n",
        "myThirteenthVariable = memoryview(bytes(5))\n",
        "\n",
        "myFourteenthVariable = None\n",
        "myFifteenthVariable  = range(12)\n",
        "\n",
        "print(type(myFirstVariable))\n",
        "print(type(mySecondVariable))\n",
        "print(type(myThirdVariable))\n",
        "print(type(myFourthVariable))\n",
        "print(type(myFifthVariable))\n",
        "print(type(mySixthVariable))\n",
        "print(type(mySeventhVariable))\n",
        "print(type(myEighthVariable))\n",
        "print(type(myNinthVariable))\n",
        "print(type(myTenthVariable))\n",
        "print(type(myEleventhVariable))\n",
        "print(type(myTwelvefthVariable))\n",
        "print(type(myThirteenthVariable))\n",
        "print(type(myFourteenthVariable))\n",
        "print(type(myFifteenthVariable))"
      ],
      "metadata": {
        "id": "jixgkK8OWZgi"
      },
      "execution_count": null,
      "outputs": []
    },
    {
      "cell_type": "markdown",
      "source": [
        "Note\n",
        "\n",
        "---\n",
        "The four primitive data types are *integer, float, string*, and *boolean*. All other are types are non-primitive, including *lists, tuples, dictionary, set, file*, and etc. Python uses classes to define its data types, including its primitive types.\n",
        "\n",
        "---"
      ],
      "metadata": {
        "id": "uhSo93D6R-M6"
      }
    },
    {
      "cell_type": "markdown",
      "source": [
        "1.5 Literals\n",
        "---\n",
        "\n",
        "Literals are data that are assigned to the variables or constants when they are declared. In other words, it is a fixed value. There are five types of literals in Python: Numeric literals, Boolean literals, String literals, Collection literals, and Special literal.\n",
        "\n",
        "---"
      ],
      "metadata": {
        "id": "XPbGZCHVTcR8"
      }
    },
    {
      "cell_type": "markdown",
      "source": [
        "Note\n",
        "\n",
        "---\n",
        "\n",
        "Numeric literals:    *integer, float, complex*\n",
        "\n",
        "Boolean literals:    *True, False*\n",
        "\n",
        "String literals:     *text surrounded by single, double, or triple quotes*\n",
        "\n",
        "Collection literals: *List, Tuple, Dict, Set*\n",
        "\n",
        "Special literal:     *None*\n",
        "\n",
        "---"
      ],
      "metadata": {
        "id": "wGU9gSJucIQl"
      }
    },
    {
      "cell_type": "code",
      "source": [
        "# Example of literals\n",
        "\n",
        "# Integer literal\n",
        "\n",
        "numLiteralInt = 0\n",
        "\n",
        "# Binary literal\n",
        "\n",
        "numLiteralBin = 0b10100\n",
        "\n",
        "# Decimal literal\n",
        "\n",
        "numLiteralDec = 50\n",
        "\n",
        "# Float literal\n",
        "\n",
        "numLiteralFloat = 234.8\n",
        "\n",
        "# Complex literal\n",
        "\n",
        "numLiteralComp = 2 + 3j\n",
        "\n",
        "# Boolean literal\n",
        "\n",
        "numLiteralBool = True\n",
        "\n",
        "# List listeral\n",
        "\n",
        "numLiteralList = [1,2,3]\n",
        "\n",
        "# Special literal\n",
        "\n",
        "numLiteralSpecial = None"
      ],
      "metadata": {
        "id": "jTJbFxhzVlJb"
      },
      "execution_count": null,
      "outputs": []
    },
    {
      "cell_type": "markdown",
      "source": [
        "1.6 Numbers\n",
        "---\n",
        "Primary numeric data types in Python are integers, floating-point numbers, and complex numbers.\n",
        "\n",
        "---\n",
        "\n",
        "Syntax:\n",
        "\n",
        "        myVariableName = numeric datatype\n"
      ],
      "metadata": {
        "id": "pzwaES8qVO_z"
      }
    },
    {
      "cell_type": "code",
      "source": [
        "# Integer\n",
        "myIntNumber = 1\n",
        "\n",
        "# Float\n",
        "myFloatNumber = 1.0\n",
        "\n",
        "# Complex\n",
        "myComplexNumber = 1.0j"
      ],
      "metadata": {
        "id": "d47Fr9E-dOgb"
      },
      "execution_count": null,
      "outputs": []
    },
    {
      "cell_type": "markdown",
      "source": [
        "Binary, octal, and hexadecimal numbers\n",
        "---\n",
        "In Python, you can work with *binary*, *octal*, and *hexadecimal* numbers using different prefixes and built-in functions. Here's how you can represent and work with these numeric bases.\n",
        "\n",
        "---"
      ],
      "metadata": {
        "id": "cGt6kilef_tk"
      }
    },
    {
      "cell_type": "markdown",
      "source": [
        "**Binary (base 2)** can be represented by two digits [0,1] Base 2. The **bin()** function can be used to convert numbers to octal in Python. The prefix **‘0b’** is used with octal numbers with a zero followed by a lowercase **b**."
      ],
      "metadata": {
        "id": "eLpdZ1E4e2nq"
      }
    },
    {
      "cell_type": "code",
      "source": [
        "# Binary numbers uses bin()\n",
        "\n",
        "myFirstVariable  = 0b101 # The binary numbers start with 0b\n",
        "mySecondVariable = 5\n",
        "\n",
        "print(myFirstVariable)\n",
        "print(mySecondVariable)"
      ],
      "metadata": {
        "id": "iwhNYh20YtCN"
      },
      "execution_count": null,
      "outputs": []
    },
    {
      "cell_type": "markdown",
      "source": [
        "**Octal (Base 8)** — can be represented by 8 digits [0–7] Base 8. The **oct()** function can be used to convert numbers to octal in Python. The prefix **‘0o’** is used with octal numbers with a zero followed by a lowercase **o**."
      ],
      "metadata": {
        "id": "723mcHbpfMDh"
      }
    },
    {
      "cell_type": "code",
      "source": [
        "# Octal numbers use oct()\n",
        "\n",
        "myFirstVariable  = 0o05    # The octal numbers start with \"0o\"\n",
        "mySecondVariable = 5\n",
        "\n",
        "print(myFirstVariable)\n",
        "print(mySecondVariable)"
      ],
      "metadata": {
        "id": "zuBmZkUzdAAT"
      },
      "execution_count": null,
      "outputs": []
    },
    {
      "cell_type": "markdown",
      "source": [
        "**Hexadecimal (Base 16)** — can be represented by 10 digits [0–9] and 6 characters [A, B, C, D, E, F] Base 16. Where A is ten, B is eleven, C is twelve, D is thirteen, E is fourteen, and F is fifteen. The **hex()** function can be used to convert numbers to hexadecimal in Python. The prefix **‘0x’** is used with octal numbers with a zero followed by a lowercase **x**."
      ],
      "metadata": {
        "id": "6VG8LTuzg2bZ"
      }
    },
    {
      "cell_type": "code",
      "source": [
        "# Hexadecimal numbers uses hex()\n",
        "\n",
        "myFirstVariable  = 0x5 # The hexadecimal numbers start with \"0x\"\n",
        "mySecondVariable = 5\n",
        "\n",
        "print(myFirstVariable)\n",
        "print(mySecondVariable)"
      ],
      "metadata": {
        "id": "UebpCLJ0cUdB"
      },
      "execution_count": null,
      "outputs": []
    },
    {
      "cell_type": "markdown",
      "source": [
        "1.7 Casting\n",
        "---\n",
        "Casting is a conversion from one data type to another data type. There can be implicit conversions or explicit conversions using built-in functions. Explicit conversions can be performed with built-in functions like int(), float(), or str() as they act like constructors of different data types.\n",
        "\n",
        "---\n",
        "\n",
        "Syntax:\n",
        "\n",
        "        myVariableName = function(VariableName)"
      ],
      "metadata": {
        "id": "ui1wtk7V1BaN"
      }
    },
    {
      "cell_type": "code",
      "source": [
        "# Implicit conversion\n",
        "\n",
        "myCastTest = 70\n",
        "print(type(myCastTest))\n",
        "\n",
        "myCastTest = myCastTest + 0.25\n",
        "print(type(myCastTest))"
      ],
      "metadata": {
        "id": "lYMEftsE15Ic"
      },
      "execution_count": null,
      "outputs": []
    },
    {
      "cell_type": "code",
      "source": [
        "# Explicit conversion\n",
        "\n",
        "myCastNumber = 7234\n",
        "myCastString = str(myCastNumber)\n",
        "myCastFloat  = float(myCastNumber)\n",
        "\n",
        "print(type(myCastNumber))\n",
        "print(type(myCastString))\n",
        "print(type(myCastFloat))"
      ],
      "metadata": {
        "id": "mY6UxcSF21mR"
      },
      "execution_count": null,
      "outputs": []
    },
    {
      "cell_type": "code",
      "source": [
        "# Using casting to specify the data type\n",
        "\n",
        "x = 5\n",
        "y = 2\n",
        "\n",
        "myFirstVariable  = complex(2 + 9)\n",
        "mySecondVariable = complex( x )\n",
        "myThirdVariable  = complex( x, y )\n",
        "\n",
        "print(\"My complex number \", myFirstVariable )\n",
        "print(\"My complex number \", mySecondVariable)\n",
        "print(\"My complex number \", myThirdVariable )"
      ],
      "metadata": {
        "id": "uLUf9O_vTkxd"
      },
      "execution_count": null,
      "outputs": []
    },
    {
      "cell_type": "markdown",
      "source": [
        "1.8 Boolean\n",
        "---\n",
        "Booleans can be either True or False. True corresponds to the value of 1 and False corresponds to the value of 0. Please, keep in mind that **True** is not the same as **TRUE** or **true**. Similarly, **False** is not the same as **FALSE** or **false**.\n",
        "\n",
        "---\n"
      ],
      "metadata": {
        "id": "w3eG246wLZ2Q"
      }
    },
    {
      "cell_type": "code",
      "source": [
        "# Boolean\n",
        "\n",
        "print(True)\n",
        "print(False)"
      ],
      "metadata": {
        "id": "XVftY_1d4z51"
      },
      "execution_count": null,
      "outputs": []
    },
    {
      "cell_type": "code",
      "source": [
        "# Casting of boolean\n",
        "\n",
        "print(int(True))\n",
        "print(int(False))"
      ],
      "metadata": {
        "id": "Xzbzux7D5V3p"
      },
      "execution_count": null,
      "outputs": []
    },
    {
      "cell_type": "markdown",
      "source": [
        "1.9 Strings\n",
        "---\n",
        "Strings are an immutable collection of alphanumeric characters that are enclosed with single or double quotes. Strings literals can not be changed after they have been created. A double-quoted string literal may contain single quotes. Characters within a string can be accessed using indexing reference values starting with zero. If the reference index is out of range, Python will raise an IndexError. To access a range of characters, you can use slicing. You can indicate the start index and the end index enclosed with square brackets to access a range of characters as shown below.\n",
        "\n",
        "---\n",
        "Syntax:\n",
        "\n",
        "     myString = \" Lorem ipsum dolor sit amet \"\n",
        "\n",
        "     myString = \" \" \" Lorem ipsum dolor sit amet, consectetur elit \" \" \"\n",
        "\n",
        "     myString = ' ' ' Lorem ipsum dolor sit amet, consectetur elit ' ' '\n"
      ],
      "metadata": {
        "id": "J1qJwmTj40sQ"
      }
    },
    {
      "cell_type": "code",
      "source": [
        "# Assign string to a variable using single quotes\n",
        "\n",
        "myFirstString = 'This is my first string'\n",
        "print(myFirstString)"
      ],
      "metadata": {
        "id": "4eNwO4Uk5SOg"
      },
      "execution_count": null,
      "outputs": []
    },
    {
      "cell_type": "code",
      "source": [
        "# Assign string to a variable using double quotes\n",
        "\n",
        "mySecondString = \"This is my second string\"\n",
        "print(mySecondString)"
      ],
      "metadata": {
        "id": "_g1SyRCS5ee2"
      },
      "execution_count": null,
      "outputs": []
    },
    {
      "cell_type": "code",
      "source": [
        "# Assign string to a variable using single and double quotes\n",
        "\n",
        "myThirdString = \"This's my third string\"\n",
        "print(myThirdString)"
      ],
      "metadata": {
        "id": "z3uhsXjW5pJj"
      },
      "execution_count": null,
      "outputs": []
    },
    {
      "cell_type": "code",
      "source": [
        "# Assign string to a variable using single quotes\n",
        "\n",
        "myFourthString = 'That's my fourth string'"
      ],
      "metadata": {
        "id": "L0XxJ4Sz5-yS"
      },
      "execution_count": null,
      "outputs": []
    },
    {
      "cell_type": "code",
      "source": [
        "# Escaping sequence - you can have more than one escaping character\n",
        "\n",
        "myFourthString = 'That\\'s my fourth string'\n",
        "print(myFourthString)"
      ],
      "metadata": {
        "id": "JqibuLeAUR1_"
      },
      "execution_count": null,
      "outputs": []
    },
    {
      "cell_type": "code",
      "source": [
        "# Printing the backslash\n",
        "\n",
        "myBackSlash = \"\\\\\"\n",
        "print(myBackSlash)"
      ],
      "metadata": {
        "id": "h6929nAUVfOp"
      },
      "execution_count": null,
      "outputs": []
    },
    {
      "cell_type": "code",
      "source": [
        "# Assign string to a variable using double quotes with single quotes inside\n",
        "\n",
        "myFifthString = \"I'm an instructor and you're a good student!\"\n",
        "print(myFifthString)"
      ],
      "metadata": {
        "id": "4DNHOVVkTJLD"
      },
      "execution_count": null,
      "outputs": []
    },
    {
      "cell_type": "code",
      "source": [
        "# Assign a multiple line string to a variable - single quotes\n",
        "\n",
        "myTestVariable = ''' Lorem ipsum dolor sit amet,\n",
        "consectetur adipiscing elit,\n",
        "sed do eiusmod tempor incididunt\n",
        "ut labore et dolore magna aliqua.'''\n",
        "\n",
        "print(myTestVariable)"
      ],
      "metadata": {
        "id": "oB6SzZ4phtlO"
      },
      "execution_count": null,
      "outputs": []
    },
    {
      "cell_type": "code",
      "source": [
        "# Assign a multiple line string to a variable - double quotes\n",
        "\n",
        "myTestVariable = \"\"\" Lorem ipsum dolor sit amet,\n",
        "consectetur adipiscing elit,\n",
        "sed do eiusmod tempor incididunt\n",
        "ut labore et dolore magna aliqua.\"\"\"\n",
        "\n",
        "print(myTestVariable)"
      ],
      "metadata": {
        "id": "QOwBfXwLhlcl"
      },
      "execution_count": null,
      "outputs": []
    },
    {
      "cell_type": "markdown",
      "source": [
        "String indexing\n",
        "---\n",
        "Indexing is an important concept. Each character of a string has a unique index number. To access any characters of a string, we need to use the corresponding index number. Indexing of a string is the same as for a list, tuple, and dictionary but not a set. Sets are not indexed. The element of a string can be accessed using an index starting with 0.\n",
        "\n",
        "---\n",
        "Syntax:\n",
        "\n",
        "        myString[index]\n",
        "\n"
      ],
      "metadata": {
        "id": "6tczVnHv6dGx"
      }
    },
    {
      "cell_type": "code",
      "source": [
        "# Strings elements can be accessed by their index\n",
        "\n",
        "# The indexes\n",
        "# myTestString   =   [1,  2,  3,  4,  5,  6,  7,  8,  9, ..., 26]\n",
        "# --------------------------\n",
        "# index               0,  1,  2,  3,  4,  5,  6,  7,  8, ..., n-1\n",
        "# negative index     -n,                                 ...,  -1\n",
        "# myTestString[index]\n",
        "\n",
        "myTestString=\"Lorem ipsum dolor sit amet\"\n",
        "\n",
        "print(myTestString[4])\n",
        "print(myTestString[5])\n",
        "print(myTestString[6])\n",
        "print(myTestString[18])\n",
        "print(myTestString[-1])\n",
        "print(myTestString[-26])\n",
        "print(len(myTestString))"
      ],
      "metadata": {
        "id": "QZAktJJks_ix"
      },
      "execution_count": null,
      "outputs": []
    },
    {
      "cell_type": "markdown",
      "source": [
        "String slicing\n",
        "---\n",
        "The slicing technique allows one to access a range of characters in a string. The range of characters can be indicated by a start index number and an end index number in square brackets. The start index number has always an inclusive bound and the end index number has always an exclusive bound. In other words, the start index number is included in the range and the end index number is not.\n",
        "\n",
        "---\n",
        "Syntax:\n",
        "\n",
        "        myString[start index: end index]"
      ],
      "metadata": {
        "id": "y9bRmLFBOrHv"
      }
    },
    {
      "cell_type": "code",
      "source": [
        "# Strings elements can be accessed by index\n",
        "\n",
        "# The indexes\n",
        "# myTestString   =   [1,  2,  3,  4,  5,  6,  7,  8,  9, ..., 26]\n",
        "# --------------------------\n",
        "# index               0,  1,  2,  3,  4,  5,  6,  7,  8, ..., n-1\n",
        "# negative index     -n,                                 ...,  -1\n",
        "# myTestString[start index: end index]\n",
        "\n",
        "myTestString=\"Lorem ipsum dolor sit amet\"\n",
        "\n",
        "print(myTestString[:4])\n",
        "print(myTestString[0:5])\n",
        "print(myTestString[0:6])\n",
        "print(myTestString[0:18])\n",
        "print(myTestString[-12:-1])\n",
        "print(myTestString[-26:-25])\n",
        "print(len(myTestString))"
      ],
      "metadata": {
        "id": "3pb2hOAUP8Fv"
      },
      "execution_count": null,
      "outputs": []
    },
    {
      "cell_type": "markdown",
      "source": [
        "String methods\n",
        "---\n",
        "There are many built-in methods that can be used on strings.\n",
        "\n",
        "---"
      ],
      "metadata": {
        "id": "qAAUwj_l9kBL"
      }
    },
    {
      "cell_type": "code",
      "source": [
        "# Upper case method: upper() - returns an upper case string\n",
        "\n",
        "myFirstString = \"Hello, World!\"\n",
        "print(myFirstString.upper())"
      ],
      "metadata": {
        "id": "Pphb8Rg79sPt"
      },
      "execution_count": null,
      "outputs": []
    },
    {
      "cell_type": "code",
      "source": [
        "# Lower case method: lower() - returns a lower case string\n",
        "\n",
        "myFirstString = \"Hello, World!\"\n",
        "print(myFirstString.lower())"
      ],
      "metadata": {
        "id": "snzVeBzj-r27"
      },
      "execution_count": null,
      "outputs": []
    },
    {
      "cell_type": "code",
      "source": [
        "# Strip method: strip() - removes whitespace before and after the actual text\n",
        "\n",
        "myFirstString = \" Hello, World ! \"\n",
        "print(myFirstString.strip())"
      ],
      "metadata": {
        "id": "dxFZlBy0-3BU"
      },
      "execution_count": null,
      "outputs": []
    },
    {
      "cell_type": "code",
      "source": [
        "# Replace method: replace() - replaces a string with another string\n",
        "\n",
        "myFirstString = \"Hello, World!\"\n",
        "print(myFirstString.replace(\"Hello\", \"Good morning\"))"
      ],
      "metadata": {
        "id": "k_peXrJq_e4c"
      },
      "execution_count": null,
      "outputs": []
    },
    {
      "cell_type": "code",
      "source": [
        "# Split method: split() - returns a list with the specified separator\n",
        "\n",
        "myFirstString = \"Good morning, World!\"\n",
        "\n",
        "print(myFirstString.split())"
      ],
      "metadata": {
        "id": "_dFtnebS_2rN"
      },
      "execution_count": null,
      "outputs": []
    },
    {
      "cell_type": "code",
      "source": [
        "# Split and replace methods together: split() and replace()\n",
        "\n",
        "myFirstString = \"Good morning, World!\"\n",
        "\n",
        "myFirstString = myFirstString.replace(',','')\n",
        "\n",
        "print(myFirstString.strip())"
      ],
      "metadata": {
        "id": "7NGHN2rSJdR0"
      },
      "execution_count": null,
      "outputs": []
    },
    {
      "cell_type": "markdown",
      "source": [
        "String operations\n",
        "---\n",
        "Some basic operations can be performed on strings.\n",
        "\n",
        "---"
      ],
      "metadata": {
        "id": "DvltvXr_7odu"
      }
    },
    {
      "cell_type": "code",
      "source": [
        "# Strings are immutable\n",
        "\n",
        "myFirstString = \"Hello, World!\"\n",
        "myFirstString[0] = \"G\""
      ],
      "metadata": {
        "id": "5gZp8fgHaH_o"
      },
      "execution_count": null,
      "outputs": []
    },
    {
      "cell_type": "code",
      "source": [
        "# String concatenation\n",
        "\n",
        "myFirstString  = \"Hello\"\n",
        "mySecondString = \"World!\"\n",
        "\n",
        "print (myFirstString + mySecondString)"
      ],
      "metadata": {
        "id": "IiPjvudO7_GI"
      },
      "execution_count": null,
      "outputs": []
    },
    {
      "cell_type": "code",
      "source": [
        "# String concatenation\n",
        "\n",
        "myFirstString  = \"Hello\"\n",
        "mySecondString = \"World\"\n",
        "\n",
        "print (myFirstString, mySecondString, sep=\", \", end = \"!\")"
      ],
      "metadata": {
        "id": "2uN3uIKy8ZMN"
      },
      "execution_count": null,
      "outputs": []
    },
    {
      "cell_type": "code",
      "source": [
        "# String multiplication\n",
        "\n",
        "myStarString  = \"*\"\n",
        "mySmileString = \")\"\n",
        "\n",
        "print (myStarString * 2)\n",
        "print (myStarString * 4)\n",
        "print (myStarString * 6 + \" \" + mySmileString)\n"
      ],
      "metadata": {
        "id": "0qYophhd8vEf"
      },
      "execution_count": null,
      "outputs": []
    },
    {
      "cell_type": "markdown",
      "source": [
        "# Section 2: Operators\n",
        "\n",
        "2.1 Arithmetic operators\n",
        "\n",
        "2.2 Comparison operators\n",
        "\n",
        "2.3 Logical operators\n",
        "\n",
        "2.4 Bitwise operators\n",
        "\n",
        "2.5 Identity operators\n",
        "\n",
        "2.6 Membership operators\n",
        "\n",
        "2.7 Operator precedence"
      ],
      "metadata": {
        "id": "Tl3Mp1dVVvQf"
      }
    },
    {
      "cell_type": "markdown",
      "source": [
        "2.1 Arithmetic operators\n",
        "---\n",
        "\n",
        "* Addition:\tx + y\n",
        "* Subtraction:\tx - y\n",
        "*\tMultiplication:\tx * y\n",
        "* Exponentiation:\tx ** y\n",
        "* Division:\tx / y\n",
        "* Modulus:\tx % y\t         (returns the remainder of a division)\n",
        "* Floor division:\tx // y   (rounds the result down to the nearest whole number)\n",
        "\n",
        "---"
      ],
      "metadata": {
        "id": "RL1xNU8wkmfW"
      }
    },
    {
      "cell_type": "code",
      "source": [
        "# Exponentiation operator: **\n",
        "\n",
        "myFirstVariable  = 2\n",
        "mySecondVariable = 8\n",
        "\n",
        "myExponentResult = myFirstVariable ** mySecondVariable\n",
        "\n",
        "print(myExponentResult)"
      ],
      "metadata": {
        "id": "sDpmZxnn9n9L"
      },
      "execution_count": null,
      "outputs": []
    },
    {
      "cell_type": "code",
      "source": [
        "# Division operator: /     (will always result in float type)\n",
        "\n",
        "myFirstVariable  = 8\n",
        "mySecondVariable = 2\n",
        "\n",
        "myDivisionResult = myFirstVariable / mySecondVariable\n",
        "\n",
        "print(myDivisionResult)"
      ],
      "metadata": {
        "id": "pn9rlk7Djybh"
      },
      "execution_count": null,
      "outputs": []
    },
    {
      "cell_type": "code",
      "source": [
        "# Floor division operator: //       quotient = (dividend // divisor)\n",
        "#                          quotient = (   10    //    3   )\n",
        "\n",
        "myFirstVariable  =  10\n",
        "mySecondVariable =   3\n",
        "\n",
        "myFloorResult = myFirstVariable // mySecondVariable\n",
        "\n",
        "print(myFloorResult)"
      ],
      "metadata": {
        "id": "gMw0cZzA40M4"
      },
      "execution_count": null,
      "outputs": []
    },
    {
      "cell_type": "code",
      "source": [
        "# Floor division operator: //       quotient = -ceil(-dividend / divisor)\n",
        "#                          quotient = -ceil(-( -10  ) /    3   )\n",
        "#                          quotient = -ceil(          4        )\n",
        "\n",
        "myFirstVariable  = -10\n",
        "mySecondVariable =   3\n",
        "\n",
        "myFloorResult = myFirstVariable // mySecondVariable\n",
        "\n",
        "print(myFloorResult)"
      ],
      "metadata": {
        "id": "cAV_0TlX1Sf-"
      },
      "execution_count": null,
      "outputs": []
    },
    {
      "cell_type": "code",
      "source": [
        "# Floor division operator: //       quotient =  (dividend // divisor)\n",
        "#                          quotient =  (  10     //   -3   )\n",
        "#                          quotient =  (         -4        )\n",
        "\n",
        "myFirstVariable  =  10\n",
        "mySecondVariable =  -3\n",
        "\n",
        "myFloorResult = myFirstVariable // mySecondVariable\n",
        "\n",
        "print(myFloorResult)"
      ],
      "metadata": {
        "id": "lD27nSdN3p9J"
      },
      "execution_count": null,
      "outputs": []
    },
    {
      "cell_type": "code",
      "source": [
        "# Modulus operator: %  reminder = dividend - (divisor * quotient)\n",
        "#                      reminder =    8     - (   2    *    4    )\n",
        "#                      reminder =    0\n",
        "\n",
        "myFirstVariable  = 8\n",
        "mySecondVariable = 2\n",
        "\n",
        "myModulusResult = myFirstVariable % mySecondVariable\n",
        "\n",
        "print(myModulusResult)"
      ],
      "metadata": {
        "id": "PAhvqSOC4d5X"
      },
      "execution_count": null,
      "outputs": []
    },
    {
      "cell_type": "code",
      "source": [
        "# Modulus operator: %  reminder = dividend - (divisor * (dividend // divisor))\n",
        "#                      reminder =   -10    - (   3    * (   -10   //   3    ))\n",
        "#                      reminder =   -10    - (   3    * (         -4        ))\n",
        "#                      reminder =     2\n",
        "\n",
        "myFirstVariable  = -10\n",
        "mySecondVariable =   3\n",
        "\n",
        "myModulusResult = myFirstVariable % mySecondVariable\n",
        "\n",
        "print(myModulusResult)"
      ],
      "metadata": {
        "id": "qXEFr1Grwall"
      },
      "execution_count": null,
      "outputs": []
    },
    {
      "cell_type": "code",
      "source": [
        "# Modulus operator: %  reminder = dividend - (divisor * (dividend // divisor))\n",
        "#                      reminder =   -10    - (  -3    * (   -10   //   -3   ))\n",
        "#                      reminder =   -10    - (  -3    * (          3        ))\n",
        "#                      reminder =    -1\n",
        "\n",
        "myFirstVariable  = -10\n",
        "mySecondVariable =  -3\n",
        "\n",
        "myModulusResult = myFirstVariable % mySecondVariable\n",
        "\n",
        "print(myModulusResult)"
      ],
      "metadata": {
        "id": "RTwph5j_yAnx"
      },
      "execution_count": null,
      "outputs": []
    },
    {
      "cell_type": "code",
      "source": [
        "# You can add, subtract, multiply, and divide complex numbers\n",
        "# z1 = a + bj\n",
        "# z2 = c + dj\n",
        "#\n",
        "# z1 + z2 =  (a + c) + (b + d)j\n",
        "# z1 - z2 =  (a - c) + (b - d)j\n",
        "# z1 * z2 =  (a*c - b*d) + (a*d + b*c)j\n",
        "# z1 / z2 = [(a*c + b*d) / (c*c + d*d)] + [(b*c - a*d)/(c*c + d*d)]j\n",
        "\n",
        "z1 = 3 + 4j\n",
        "z2 = 1 + 5j\n",
        "\n",
        "print(\"Addition :\", z1 + z2 )\n",
        "print(\"Subtract :\", z1 - z2 )\n",
        "print(\"Multiply :\", z1 * z2 )\n",
        "print(\"Divide :\"  , z1 / z2 )"
      ],
      "metadata": {
        "id": "9SQ61J0VRuCX"
      },
      "execution_count": null,
      "outputs": []
    },
    {
      "cell_type": "markdown",
      "source": [
        "Assignment operators\n",
        "---\n",
        "Assignment: =, +=, -=, * =, /=, //=, %=, **=, :=\n",
        "\n",
        "---\n"
      ],
      "metadata": {
        "id": "QvjMM-n7jVuT"
      }
    },
    {
      "cell_type": "code",
      "source": [
        "# Assignment operator: =\n",
        "\n",
        "myFirstVariable  = 5\n",
        "\n",
        "myTestVariable = myFirstVariable\n",
        "\n",
        "print(myTestVariable)"
      ],
      "metadata": {
        "id": "43hdLurcjIu_"
      },
      "execution_count": null,
      "outputs": []
    },
    {
      "cell_type": "code",
      "source": [
        "# Assignment operator: +=\n",
        "\n",
        "myFirstVariable = 5\n",
        "\n",
        "myFirstVariable += 30          # myFirstVariable = myFirstVariable + 30\n",
        "\n",
        "print(myFirstVariable)"
      ],
      "metadata": {
        "id": "xbBsUBMXjCO3"
      },
      "execution_count": null,
      "outputs": []
    },
    {
      "cell_type": "code",
      "source": [
        "# Assignment operator: *=\n",
        "\n",
        "myFirstVariable = 3\n",
        "\n",
        "myFirstVariable *= 30          # myFirstVariable = myFirstVariable * 30\n",
        "\n",
        "print(myFirstVariable)"
      ],
      "metadata": {
        "id": "XAxvRhIgjO7-"
      },
      "execution_count": null,
      "outputs": []
    },
    {
      "cell_type": "code",
      "source": [
        "# Assignment operator: /=\n",
        "\n",
        "myFirstVariable = 6\n",
        "\n",
        "myFirstVariable /= 4.0         # myFirstVariable = myFirstVariable / 4.0\n",
        "\n",
        "print(myFirstVariable)"
      ],
      "metadata": {
        "id": "ulRZn5q8jqa7"
      },
      "execution_count": null,
      "outputs": []
    },
    {
      "cell_type": "code",
      "source": [
        "# Assignment operator: //=  (divident //= divisor = quotient returns a quotient)\n",
        "\n",
        "myFirstVariable = 13\n",
        "\n",
        "myFirstVariable //= 4          # myFirstVariable = myFirstVariable // 4\n",
        "\n",
        "print(myFirstVariable)"
      ],
      "metadata": {
        "id": "Uifrcwskvd9p"
      },
      "execution_count": null,
      "outputs": []
    },
    {
      "cell_type": "code",
      "source": [
        "# Assignment operator:  %=  (divident %= divisor = quotient returns a remainder)\n",
        "\n",
        "myFirstVariable = 6\n",
        "\n",
        "myFirstVariable %= 4          # myFirstVariable = myFirstVariable % 4\n",
        "\n",
        "print(myFirstVariable)"
      ],
      "metadata": {
        "id": "zst5H8ZMkIT-"
      },
      "execution_count": null,
      "outputs": []
    },
    {
      "cell_type": "code",
      "source": [
        "# Assignment operator: **=\n",
        "\n",
        "myFirstVariable = 2\n",
        "\n",
        "myFirstVariable **= 8          # myFirstVariable = myFirstVariable ** 4\n",
        "\n",
        "print(myFirstVariable)"
      ],
      "metadata": {
        "id": "504BnBHsCF5X"
      },
      "execution_count": null,
      "outputs": []
    },
    {
      "cell_type": "markdown",
      "source": [
        "Note\n",
        "\n",
        "---\n",
        "Assignment syntax operator ( := ) reminds a walrus with tusks - walrus operator. It is very useful for if and while conditional statements, will be discussed below. Please, see Section 4, Control flow.\n",
        "\n",
        "---\n",
        "   Syntax:\n",
        "\n",
        "        myVariable := expression"
      ],
      "metadata": {
        "id": "9QOD8wzZa332"
      }
    },
    {
      "cell_type": "markdown",
      "source": [
        "2.2 Comparison operators\n",
        "---\n",
        "\n",
        "* Equal:\tx == y\n",
        "* Not equal:\tx != y\n",
        "* Greater than:\tx > y\n",
        "* Less than:\tx < y\n",
        "* Greater than or equal to:\tx >= y\n",
        "* Less than or equal to:\tx <= y\n",
        "\n",
        "---"
      ],
      "metadata": {
        "id": "MCHjIC-foBxE"
      }
    },
    {
      "cell_type": "code",
      "source": [
        "# Equal operator: ==\n",
        "\n",
        "myFirstVariable  = 10.0\n",
        "mySecondVariable = 10.0\n",
        "\n",
        "print(myFirstVariable == mySecondVariable)"
      ],
      "metadata": {
        "id": "R6y_Zu1uqPcG"
      },
      "execution_count": null,
      "outputs": []
    },
    {
      "cell_type": "code",
      "source": [
        "# Not equal operator: !=\n",
        "\n",
        "myFirstVariable  = 10.0\n",
        "mySecondVariable =  9.0\n",
        "\n",
        "print(myFirstVariable != mySecondVariable)"
      ],
      "metadata": {
        "id": "npZBbm8BRpr8"
      },
      "execution_count": null,
      "outputs": []
    },
    {
      "cell_type": "code",
      "source": [
        "# Greater than operator: >\n",
        "\n",
        "myFirstVariable  = 10.0\n",
        "mySecondVariable =  9.0\n",
        "\n",
        "print(myFirstVariable > mySecondVariable)"
      ],
      "metadata": {
        "id": "e-dgVlhlrOm3"
      },
      "execution_count": null,
      "outputs": []
    },
    {
      "cell_type": "code",
      "source": [
        "# Less than operator: <\n",
        "\n",
        "myFirstVariable  = 10.0\n",
        "mySecondVariable =  9.0\n",
        "\n",
        "print(mySecondVariable < myFirstVariable)"
      ],
      "metadata": {
        "id": "EiGGpaXrrcaO"
      },
      "execution_count": null,
      "outputs": []
    },
    {
      "cell_type": "code",
      "source": [
        "# Greater than or equal to operator: >=\n",
        "\n",
        "myFirstVariable  = 10.0\n",
        "mySecondVariable = 10.0\n",
        "\n",
        "print(mySecondVariable >= myFirstVariable)"
      ],
      "metadata": {
        "id": "uUb5rcTpqz3Y"
      },
      "execution_count": null,
      "outputs": []
    },
    {
      "cell_type": "code",
      "source": [
        "# Less than or equal to operator: <=\n",
        "\n",
        "myFirstVariable  = 10.0\n",
        "mySecondVariable = 10.0\n",
        "\n",
        "print(mySecondVariable <= myFirstVariable)"
      ],
      "metadata": {
        "id": "P7Is_YtasDTP"
      },
      "execution_count": null,
      "outputs": []
    },
    {
      "cell_type": "code",
      "source": [
        "# String comparison -> ASCII Table: A = 65, B = 66, C = 67, D = 68, a = 97, b = 98, c = 99, d =100\n",
        "\n",
        "myFirstVariable  = \"A\"\n",
        "mySecondVariable = \"A\"\n",
        "\n",
        "print(myFirstVariable == mySecondVariable)"
      ],
      "metadata": {
        "id": "orFVEAoN1Ce8"
      },
      "execution_count": null,
      "outputs": []
    },
    {
      "cell_type": "code",
      "source": [
        "# String comparison -> ASCII Table: A = 65, B = 66, C = 67, D = 68, a = 97, b = 98, c = 99, d =100\n",
        "\n",
        "myFirstVariable  = \"ABCDa\"\n",
        "mySecondVariable = \"ABCDb\"\n",
        "\n",
        "print(myFirstVariable == mySecondVariable)\n",
        "print(myFirstVariable >  mySecondVariable)\n",
        "print(myFirstVariable <  mySecondVariable)"
      ],
      "metadata": {
        "id": "1WZ1JNhh1WhM"
      },
      "execution_count": null,
      "outputs": []
    },
    {
      "cell_type": "code",
      "source": [
        "# Complex numbers can not be compared using comparison operators\n",
        "\n",
        "myFirstComplex  = 3 + 5j\n",
        "mySecondComplex = 3 + 5j\n",
        "\n",
        "print(myFirstVariable == mySecondVariable)"
      ],
      "metadata": {
        "id": "swG8H4lNN_aT"
      },
      "execution_count": null,
      "outputs": []
    },
    {
      "cell_type": "markdown",
      "source": [
        "2.3 Logical operators\n",
        "---\n",
        "\n",
        "* and\n",
        "* or\n",
        "* not\n",
        "\n",
        "---"
      ],
      "metadata": {
        "id": "1xRwfWZDAcXC"
      }
    },
    {
      "cell_type": "code",
      "source": [
        "# Logical operator: and\n",
        "\n",
        "myFirstVariable  = 10.0\n",
        "mySecondVariable = 10.0\n",
        "myThirdVariable  = 20.0\n",
        "\n",
        "print(myFirstVariable < myThirdVariable and myFirstVariable == mySecondVariable)"
      ],
      "metadata": {
        "id": "_0lyXQln_ulI"
      },
      "execution_count": null,
      "outputs": []
    },
    {
      "cell_type": "code",
      "source": [
        "# Logical operator: or\n",
        "\n",
        "myFirstVariable  = 10.0\n",
        "mySecondVariable = 10.0\n",
        "myThirdVariable  = 20.0\n",
        "\n",
        "print(myFirstVariable > myThirdVariable or myFirstVariable == mySecondVariable)"
      ],
      "metadata": {
        "id": "8Lh7pKLDA4DQ"
      },
      "execution_count": null,
      "outputs": []
    },
    {
      "cell_type": "code",
      "source": [
        "# Logical operator: not\n",
        "\n",
        "myFirstVariable  = 10.0\n",
        "mySecondVariable = 20.0\n",
        "\n",
        "print(not myFirstVariable > mySecondVariable)"
      ],
      "metadata": {
        "id": "HzdAzr_2BD70"
      },
      "execution_count": null,
      "outputs": []
    },
    {
      "cell_type": "markdown",
      "source": [
        "2.4 Bitwise operators\n",
        "---\n",
        "\n",
        "You can use bitwise operators to perform Boolean logic on individual bits. It is very similar to using logical operators such as *and*, *or*, and *not*.\n",
        "\n",
        "You can evaluate Boolean expressions with bitwise operators instead of logical operators.\n",
        "\n",
        "---"
      ],
      "metadata": {
        "id": "HE3jpEcklKOm"
      }
    },
    {
      "cell_type": "code",
      "source": [
        "# Bitwise operator: AND (&) - logical conjuction\n",
        "# 6 = 00000110\n",
        "# 3 = 00000011\n",
        "#----------------------\n",
        "# 2 = 00000010\n",
        "\n",
        "print(6&3)"
      ],
      "metadata": {
        "id": "ua8kjQQcmCoS"
      },
      "execution_count": null,
      "outputs": []
    },
    {
      "cell_type": "code",
      "source": [
        "# Bitwise operator: OR (|) - logical conjuction\n",
        "# 6 = 00000110\n",
        "# 3 = 00000011\n",
        "#----------------------\n",
        "# 7 = 00000111\n",
        "\n",
        "print(6|3)"
      ],
      "metadata": {
        "id": "wP3hgFOZmOhX"
      },
      "execution_count": null,
      "outputs": []
    },
    {
      "cell_type": "code",
      "source": [
        "# Bitwise operator: NOT (~) - logical negation\n",
        "#  3 = 00000011\n",
        "#--------------------------\n",
        "# -4 = 11111100\n",
        "\n",
        "print(~3)"
      ],
      "metadata": {
        "id": "CllSfhtymjzv"
      },
      "execution_count": null,
      "outputs": []
    },
    {
      "cell_type": "code",
      "source": [
        "# Bitwise operator: XOR (^) - exclusive OR\n",
        "# 6 = 00000110\n",
        "# 3 = 00000011\n",
        "#--------------------------\n",
        "# 5 = 00000101\n",
        "\n",
        "print(6^3)"
      ],
      "metadata": {
        "id": "mawCVs4Gm1uU"
      },
      "execution_count": null,
      "outputs": []
    },
    {
      "cell_type": "code",
      "source": [
        "# Bitwise operator: << - inserts zeroes to the right side\n",
        "# 3  = 00000011\n",
        "#-------------------------\n",
        "# 12 = 00001100\n",
        "\n",
        "print(3<<2)"
      ],
      "metadata": {
        "id": "7RjuFRp5nBrI"
      },
      "execution_count": null,
      "outputs": []
    },
    {
      "cell_type": "code",
      "source": [
        "# Bitwise operator: >> - inserts zeroes to the left side\n",
        "# 8 = 00001000\n",
        "#------------------------\n",
        "# 2 = 00000010\n",
        "\n",
        "print(8>>2)"
      ],
      "metadata": {
        "id": "l7nIESjbnpx8"
      },
      "execution_count": null,
      "outputs": []
    },
    {
      "cell_type": "markdown",
      "source": [
        "Assignment operators\n",
        "---\n",
        "\n",
        "Bitwise: &=, |=, ^=, >>=, <<=\n",
        "\n",
        "---"
      ],
      "metadata": {
        "id": "cEYesb7BC1S_"
      }
    },
    {
      "cell_type": "code",
      "source": [
        "# Assignment operator: &=\n",
        "\n",
        "myFirstBit = 6\n",
        "\n",
        "myFirstBit &= 3\n",
        "print(myFirstBit)          # myFirstBit = myFirstBit & 3"
      ],
      "metadata": {
        "id": "S9jmrhQxDC1-"
      },
      "execution_count": null,
      "outputs": []
    },
    {
      "cell_type": "code",
      "source": [
        "# Assignment operator: |=\n",
        "\n",
        "myFirstBit = 6\n",
        "\n",
        "myFirstBit |= 3\n",
        "print(myFirstBit)          # myFirstBit = myFirstBit | 3"
      ],
      "metadata": {
        "id": "tu3bBRZXD-4U"
      },
      "execution_count": null,
      "outputs": []
    },
    {
      "cell_type": "code",
      "source": [
        "# Assignment operator: ^=\n",
        "\n",
        "myFirstBit = 6\n",
        "\n",
        "myFirstBit ^= 3\n",
        "print(myFirstBit)          # myFirstBit = myFirstBit ^ 3"
      ],
      "metadata": {
        "id": "oNZ6MtyCEQnf"
      },
      "execution_count": null,
      "outputs": []
    },
    {
      "cell_type": "code",
      "source": [
        "# Assignment operator: <<=\n",
        "\n",
        "myFirstBit = 3\n",
        "\n",
        "myFirstBit <<= 2\n",
        "print(myFirstBit)          # myFirstBit = myFirstBit << 2"
      ],
      "metadata": {
        "id": "kwlh9k5jEzUr"
      },
      "execution_count": null,
      "outputs": []
    },
    {
      "cell_type": "code",
      "source": [
        "# Assignment operator: >>=\n",
        "\n",
        "myFirstBit = 8\n",
        "\n",
        "myFirstBit >>= 2\n",
        "print(myFirstBit)          # myFirstBit = myFirstBit >> 2"
      ],
      "metadata": {
        "id": "kZy6l_RgFHtJ"
      },
      "execution_count": null,
      "outputs": []
    },
    {
      "cell_type": "markdown",
      "source": [
        "2.5 Identity operators\n",
        "---\n",
        "\n",
        "*   is\n",
        "*   is not\n",
        "\n",
        "---"
      ],
      "metadata": {
        "id": "CRZIby6Oovxw"
      }
    },
    {
      "cell_type": "code",
      "source": [
        "# Identity operator: is\n",
        "\n",
        "myFirstVariable  = \"Hello World!\"\n",
        "mySecondVariable = \"Hello World!\"\n",
        "\n",
        "myThirdVariable  =  myFirstVariable\n",
        "\n",
        "print(myFirstVariable is mySecondVariable)\n",
        "print(myFirstVariable is myThirdVariable )\n",
        "\n",
        "print(\"Printing memory addresses :\", id(myFirstVariable), id(mySecondVariable))\n",
        "print(\"Printing memory addresses :\", id(myFirstVariable), id(myThirdVariable) )"
      ],
      "metadata": {
        "id": "0yJO9gTcpr6R",
        "colab": {
          "base_uri": "https://localhost:8080/"
        },
        "outputId": "43c62b7c-d6db-44e2-82f8-8b154aaf52b4"
      },
      "execution_count": null,
      "outputs": [
        {
          "output_type": "stream",
          "name": "stdout",
          "text": [
            "False\n",
            "True\n",
            "Printing memory addresses : 133841023586992 133841023587376\n",
            "Printing memory addresses : 133841023586992 133841023586992\n"
          ]
        }
      ]
    },
    {
      "cell_type": "code",
      "source": [
        "# Identity operator: is not\n",
        "\n",
        "myFirstVariable  = \"Hello World!\"\n",
        "mySecondVariable = \"Hello World!\"\n",
        "\n",
        "myThirdVariable  =  myFirstVariable\n",
        "\n",
        "print(myFirstVariable is not mySecondVariable)\n",
        "print(myFirstVariable is not myThirdVariable )\n",
        "\n",
        "print(\"Printing memory addresses :\", id(myFirstVariable), id(mySecondVariable))\n",
        "print(\"Printing memory addresses :\", id(myFirstVariable), id(myThirdVariable) )"
      ],
      "metadata": {
        "id": "FatrHFI-tA0A",
        "colab": {
          "base_uri": "https://localhost:8080/"
        },
        "outputId": "8e90ed57-6e24-4439-849b-90910d3d52f8"
      },
      "execution_count": null,
      "outputs": [
        {
          "output_type": "stream",
          "name": "stdout",
          "text": [
            "True\n",
            "False\n",
            "Printing memory addresses : 133841023589744 133841023583920\n",
            "Printing memory addresses : 133841023589744 133841023589744\n"
          ]
        }
      ]
    },
    {
      "cell_type": "markdown",
      "source": [
        "2.6 Membership operators\n",
        "---\n",
        "\n",
        "*   in\n",
        "*   not in\n",
        "\n",
        "---\n",
        "\n"
      ],
      "metadata": {
        "id": "FEbV2Yyc1Rr-"
      }
    },
    {
      "cell_type": "code",
      "source": [
        "# Membership operator: in  - returns True if a specified element (sequence) exists\n",
        "\n",
        "myTestString = \"Hello World!\"\n",
        "print(\"World\" in myTestString)"
      ],
      "metadata": {
        "id": "mu0fYaEX2tFi"
      },
      "execution_count": null,
      "outputs": []
    },
    {
      "cell_type": "code",
      "source": [
        "# Membership operator: not in - returns True if a specified element does not exist\n",
        "\n",
        "myTestString = \"Hello World\"\n",
        "print(\"A\" not in myTestString)"
      ],
      "metadata": {
        "id": "uXTqQXlc3DfY"
      },
      "execution_count": null,
      "outputs": []
    },
    {
      "cell_type": "markdown",
      "source": [
        "2.7 Operator precedence\n",
        "---\n",
        "\n",
        "* Parentheses: ()\n",
        "* Exponentiation: **\n",
        "* Unary: +x,  -x,  ~x\n",
        "* Arithmetic: *,  /, %, //, +, -\n",
        "* Bitwise: <<, >>, AND, ^, |\n",
        "* Comparison: ==,  !=,  >,  >=,  <,  <=  \n",
        "* Identity: is,  is not  \n",
        "* Membership: in, in not\n",
        "* Logical: not, and, or\n",
        "\n",
        "---"
      ],
      "metadata": {
        "id": "vGU9c0IXy3wn"
      }
    },
    {
      "cell_type": "markdown",
      "source": [
        "Note\n",
        "\n",
        "---\n",
        "Python is an object-oriented language and, therefore, objects are an important part of Python programming. In fact, everything in Python with an object contains default data and some functionality. To build an object, you need to use a constructor function. A constructor is a special function that is used to make an instance of a class. A class is like a blueprint to create an object. You can then use that object (instance) of a class to assign some data and functionality.\n",
        "\n",
        "---"
      ],
      "metadata": {
        "id": "QXf_KtapvWX_"
      }
    },
    {
      "cell_type": "code",
      "source": [
        "class Pencil():\n",
        "\n",
        "    # Constructor\n",
        "    def __init__(self, diameter, length, color):\n",
        "\n",
        "        self.diameter = diameter\n",
        "        self.length   = length\n",
        "        self.color    = color"
      ],
      "metadata": {
        "id": "o6BW3nWXvhQ_"
      },
      "execution_count": null,
      "outputs": []
    },
    {
      "cell_type": "markdown",
      "source": [
        "# Section 3: Data Collections\n",
        "\n",
        "3.1 List\n",
        "\n",
        "3.2 Tuple\n",
        "\n",
        "3.3 Dictionary\n",
        "\n",
        "3.4 Set\n",
        "\n",
        "3.5 Summary of data collections"
      ],
      "metadata": {
        "id": "Z59-gQljQiBp"
      }
    },
    {
      "cell_type": "markdown",
      "source": [
        "3.1 List\n",
        "---\n",
        "A list is used to store several items in a single variable. A list is a built-in type in Python. Lists can store more than one item at the same time. A list is a mutable data type meaning that the list can be updated at any point in time. New items can be inserted into the list or deleted from the list. It is a member of a data type called sequences. Various operations can be performed on the list including slicing, multiplication, addition, etc.\n",
        "\n",
        "---\n",
        "\n",
        "Syntax:\n",
        "\n",
        "        myList = [element 1, element 2, ..., element n]\n",
        "\n",
        "        myList = [element 1]\n",
        "\n",
        "        myList = list()\n"
      ],
      "metadata": {
        "id": "8RxoLXrp4xh5"
      }
    },
    {
      "cell_type": "markdown",
      "source": [
        "List declaration\n",
        "---\n",
        "You can declare or create a list using various ways.\n",
        "\n",
        "---"
      ],
      "metadata": {
        "id": "JoV2j1LVNmPS"
      }
    },
    {
      "cell_type": "code",
      "source": [
        "# Creating an empty list\n",
        "\n",
        "myEmptyList = []\n",
        "\n",
        "print(\"My empty list :\", myEmptyList)\n",
        "print(type(myEmptyList))"
      ],
      "metadata": {
        "id": "e94FJ_ig3ZBj"
      },
      "execution_count": null,
      "outputs": []
    },
    {
      "cell_type": "code",
      "source": [
        "# Creating an empty list using the constructor: list()\n",
        "\n",
        "myEmptyList = list()\n",
        "\n",
        "print(\"My empty list :\", myEmptyList)\n",
        "print(type(myEmptyList))"
      ],
      "metadata": {
        "id": "QkfBGv8vcrt7"
      },
      "execution_count": null,
      "outputs": []
    },
    {
      "cell_type": "code",
      "source": [
        "# Creating a list of strings\n",
        "\n",
        "myFishList = [\"Red Snapper\", \"Carp\", \"Bass\"]\n",
        "\n",
        "print(myFishList)"
      ],
      "metadata": {
        "id": "Wu5uf2B-e0q7"
      },
      "execution_count": null,
      "outputs": []
    },
    {
      "cell_type": "code",
      "source": [
        "# Creating a list of integers\n",
        "\n",
        "myNumberList = [1, 2, 3, 4, 5, 6, 7, 8, 9]\n",
        "\n",
        "print(myNumberList)"
      ],
      "metadata": {
        "id": "M4GUpUlZ4W_o"
      },
      "execution_count": null,
      "outputs": []
    },
    {
      "cell_type": "code",
      "source": [
        "# Creating a list with various data types\n",
        "\n",
        "myMixedList  = [10, 11.0, 123, \"Python\", \"A\", -234.5, True, False, 1.23E-24]\n",
        "myNumberList = [1, 2, 3, 4, 5]\n",
        "\n",
        "print(myMixedList, myNumberList, sep=\" ; \")"
      ],
      "metadata": {
        "id": "dQJHfS744hfU"
      },
      "execution_count": null,
      "outputs": []
    },
    {
      "cell_type": "code",
      "source": [
        "# Creating a list with the list() constructor\n",
        "\n",
        "myFishList = list((\"Carp\", \"Brass\", \"Red Snapper\"))  # use round brackets\n",
        "\n",
        "print(myFishList)\n",
        "print(type(myFishList))"
      ],
      "metadata": {
        "id": "hj3kO3pB9knr"
      },
      "execution_count": null,
      "outputs": []
    },
    {
      "cell_type": "code",
      "source": [
        "# List constructor: list() - returns a copy of the list\n",
        "\n",
        "myFishList = [\"Carp\", \"Brass\", \"Salmon\", \"Red Snapper\"]\n",
        "\n",
        "myNewList  =  list(myFishList)\n",
        "\n",
        "print(myNewList)\n",
        "print(myNewList is myFishList)"
      ],
      "metadata": {
        "id": "T3OEIK4DIctb"
      },
      "execution_count": null,
      "outputs": []
    },
    {
      "cell_type": "code",
      "source": [
        "# List function: len() - getting length of the list\n",
        "\n",
        "myFishList = [\"Carp\", \"Brass\", \"Salmon\", \"Red Snapper\"]\n",
        "\n",
        "print(len(myFishList))"
      ],
      "metadata": {
        "id": "I_nbOUBSHYeq"
      },
      "execution_count": null,
      "outputs": []
    },
    {
      "cell_type": "markdown",
      "source": [
        "List indexing\n",
        "---\n",
        "Each element of the list has a unique index number as shown below. To access any element of the list, we need to use that element's index number. The indexing of a list is the same as for strings. A list is a container for many items, with these items indexed starting with the first item being \"0\".\n",
        "\n",
        "---\n",
        "Syntax:\n",
        "\n",
        "        myList[index]"
      ],
      "metadata": {
        "id": "Vq3rVLncJd8G"
      }
    },
    {
      "cell_type": "code",
      "source": [
        "# The indexes\n",
        "# myFirstList   =   [1,  2,  3,  4,  5, ..., n]\n",
        "# --------------------------\n",
        "# index              0,  1,  2,  3,  4, ..., n-1\n",
        "# negative index    -n,                 ...,  -1\n",
        "\n",
        "myFirstList = [\"Red Snapper\", \"Carp\", \"Bass\"]\n",
        "\n",
        "print(myFirstList[0])\n",
        "print(myFirstList[1])\n",
        "print(myFirstList[2])\n"
      ],
      "metadata": {
        "id": "3G-6B166ADqB"
      },
      "execution_count": null,
      "outputs": []
    },
    {
      "cell_type": "markdown",
      "source": [
        "List slicing\n",
        "---\n",
        "To print a range of elements in the list, you can use the slicing method.\n",
        "\n",
        "---\n",
        "Syntax:\n",
        "\n",
        "        myList[start index: end index]"
      ],
      "metadata": {
        "id": "6MWjBSpgJpy5"
      }
    },
    {
      "cell_type": "code",
      "source": [
        "# The indexes\n",
        "# myFirstList   =   [1,  2,  3,  4,  5]\n",
        "# --------------------------\n",
        "# index              0,  1,  2,  3,  4\n",
        "# negative index    -5, -4, -3, -2, -1\n",
        "\n",
        "myFirstList = [1, 2, 3, 4, 5]\n",
        "\n",
        "print(myFirstList)\n",
        "print(myFirstList[:])\n",
        "print(myFirstList[1:])\n",
        "print(myFirstList[0:3])\n",
        "print(myFirstList[3:4])\n",
        "print(myFirstList[3:5])\n",
        "print(myFirstList[-4:])\n",
        "print(myFirstList[-4:-1])\n",
        "print(myFirstList[-5])"
      ],
      "metadata": {
        "id": "8vwyYJXN5GTg"
      },
      "execution_count": null,
      "outputs": []
    },
    {
      "cell_type": "code",
      "source": [
        "# Multi-dimensional (nested) lists\n",
        "\n",
        "myNestedList = [1, 2, 3, [10, 20, 30], 'String']\n",
        "\n",
        "print(myNestedList)\n",
        "print(type(myNestedList))\n",
        "print(len(myNestedList))\n"
      ],
      "metadata": {
        "id": "6m6TO1HjLHAc"
      },
      "execution_count": null,
      "outputs": []
    },
    {
      "cell_type": "code",
      "source": [
        "# Accessing a nested list some values\n",
        "\n",
        "myNestedList = [ 1, 2, 3, [10, 20, 30], 'String']\n",
        "print(myNestedList[3][1])\n",
        "print(len(myNestedList[3]))"
      ],
      "metadata": {
        "id": "LzdwYNYZRowF"
      },
      "execution_count": null,
      "outputs": []
    },
    {
      "cell_type": "code",
      "source": [
        "# Using the sorted() function, Syntax: sorted(iterable, key = ..., reverse = ...)\n",
        "\n",
        "myNestedList = [ 1.2, -0.2, 3.0, 0.6]\n",
        "print(sorted(myNestedList))"
      ],
      "metadata": {
        "colab": {
          "base_uri": "https://localhost:8080/"
        },
        "id": "pnC_juxaK9ND",
        "outputId": "c5e191b5-950c-4b25-a0a5-971d2dbd1786"
      },
      "execution_count": null,
      "outputs": [
        {
          "output_type": "stream",
          "name": "stdout",
          "text": [
            "[-0.2, 0.6, 1.2, 3.0]\n"
          ]
        }
      ]
    },
    {
      "cell_type": "code",
      "source": [
        "# Check if an item is in the list\n",
        "\n",
        "mySecondList = [\"Carp\", \"Brass\", \"Fly\"]\n",
        "\n",
        "print(\"Fly\" in mySecondList)"
      ],
      "metadata": {
        "id": "_s9EVQHx-B6e"
      },
      "execution_count": null,
      "outputs": []
    },
    {
      "cell_type": "code",
      "source": [
        "# Change the values in the list\n",
        "\n",
        "mySecondList = [\"Carp\", \"Brass\", \"Fly\", \"Spider\"]\n",
        "\n",
        "mySecondList[2:3] = [\"Red Snapper\", \"Shark\"]\n",
        "\n",
        "print(mySecondList)"
      ],
      "metadata": {
        "id": "7BVrP7bU-d3Q"
      },
      "execution_count": null,
      "outputs": []
    },
    {
      "cell_type": "code",
      "source": [
        "# Using the sorted() function, Syntax: sorted(iterable, key = ..., reverse = ...)\n",
        "\n",
        "myNestedList = [ \"Lorem\", \"ipsum\", \"do\", \"sit\", \"amet\", \"consectetur\", \"elit\"]\n",
        "\n",
        "print(sorted(myNestedList, key=len))"
      ],
      "metadata": {
        "id": "UYRIfZ1xbFaH"
      },
      "execution_count": null,
      "outputs": []
    },
    {
      "cell_type": "code",
      "source": [
        "# Using the sorted() function with the lambda function, ord(), and max() functions\n",
        "\n",
        "mySrtList = [ \"Lorem\", \"ipsum\", \"do\", \"sit\", \"amet\", \"consectetur\", \"elit\"]\n",
        "\n",
        "print(sorted(mySrtList, key = lambda Chr: ord(max(Chr))))\n"
      ],
      "metadata": {
        "id": "xy_BiaTJdJaj"
      },
      "execution_count": null,
      "outputs": []
    },
    {
      "cell_type": "markdown",
      "source": [
        "List methods\n",
        "---\n",
        "There are many methods that can be used on lists.\n",
        "\n",
        "---"
      ],
      "metadata": {
        "id": "PgArt5DWPSbf"
      }
    },
    {
      "cell_type": "code",
      "source": [
        "# Insert method: insert() - inserts an element to the list\n",
        "\n",
        "myFishingSet = [\"Carp\", \"Brass\", \"Fly\", \"Spider\"]\n",
        "\n",
        "myFishingSet.insert(2, \"Spinning\")\n",
        "myFishingSet.insert(3, \"Casting\")\n",
        "\n",
        "print(myFishingSet)"
      ],
      "metadata": {
        "id": "9vRYmexW-_3d"
      },
      "execution_count": null,
      "outputs": []
    },
    {
      "cell_type": "code",
      "source": [
        "# Append method: append() - appends an element to the list\n",
        "\n",
        "myFishList = [\"Carp\"]\n",
        "\n",
        "myFishList.append(\"Brass\")\n",
        "myFishList.append(\"Red Snapper\")\n",
        "myFishList.append(\"Shark\")\n",
        "\n",
        "print(myFishList)"
      ],
      "metadata": {
        "id": "MxfnnnCN_jis"
      },
      "execution_count": null,
      "outputs": []
    },
    {
      "cell_type": "code",
      "source": [
        "# Extend method: extend() - add an element to the end of a list\n",
        "\n",
        "myFishList = [\"Carp\", \"Brass\", \"Red Snapper\"]\n",
        "myLureList = [\"Fly\", \"Spider\", \"Worm\"]\n",
        "\n",
        "myFishList.extend(myLureList)\n",
        "\n",
        "print(myFishList)"
      ],
      "metadata": {
        "id": "YOMumLiF_-DH"
      },
      "execution_count": null,
      "outputs": []
    },
    {
      "cell_type": "code",
      "source": [
        "# Remove method: remove() - removes an element from the list\n",
        "\n",
        "myFishList = [\"Carp\", \"Brass\", \"Red Snapper\"]\n",
        "\n",
        "myFishList.remove(\"Carp\")\n",
        "\n",
        "print(myFishList)"
      ],
      "metadata": {
        "id": "hnxj0xWRAjaF"
      },
      "execution_count": null,
      "outputs": []
    },
    {
      "cell_type": "code",
      "source": [
        "# Pop method: pop() - removes an element at a specified index, if you do not specify, removes the last element\n",
        "\n",
        "myFishList = [\"Carp\", \"Brass\", \"Red Snapper\"]\n",
        "\n",
        "myFishList.pop(1)\n",
        "\n",
        "print(myFishList)\n",
        "\n",
        "myFishList.pop()\n",
        "\n",
        "print(myFishList)"
      ],
      "metadata": {
        "id": "oFhEEsOtA1Tt"
      },
      "execution_count": null,
      "outputs": []
    },
    {
      "cell_type": "code",
      "source": [
        "# Clear method: clear() - removes all the elements from a list\n",
        "\n",
        "myLureList = [\"Fly\", \"Spider\", \"Worm\"]\n",
        "\n",
        "myLureList.clear()\n",
        "\n",
        "print(myLureList)"
      ],
      "metadata": {
        "id": "dt7BbOgsB1pr"
      },
      "execution_count": null,
      "outputs": []
    },
    {
      "cell_type": "code",
      "source": [
        "# Sort method: sort() - sorts all the elements of a list (case sensitive)\n",
        "\n",
        "myFishList = [\"Carp\", \"Brass\", \"Red Snapper\", \"Shark\", \"Arowana\", \"Catfish\"]\n",
        "\n",
        "myFishList.sort()\n",
        "\n",
        "print(myFishList)"
      ],
      "metadata": {
        "id": "cvT_cYVZGjSe"
      },
      "execution_count": null,
      "outputs": []
    },
    {
      "cell_type": "code",
      "source": [
        "# Sort method: sort() - sorts all the elements of a list (case sensitive)\n",
        "\n",
        "myFishList = [\"Carp\", \"Brass\", \"Red Snapper\", \"Shark\", \"Arowana\", \"Catfish\"]\n",
        "\n",
        "myFishList.sort(reverse = True)\n",
        "\n",
        "print(myFishList)"
      ],
      "metadata": {
        "id": "n6PDuRQtG_Vj"
      },
      "execution_count": null,
      "outputs": []
    },
    {
      "cell_type": "code",
      "source": [
        "# Sort method: sort() - sorts all the elements of a list (case sensitive)\n",
        "\n",
        "myFishList = [\"Carp\", \"brass\", \"Red Snapper\", \"shark\", \"Arowana\", \"catfish\"]\n",
        "\n",
        "myFishList.sort()\n",
        "\n",
        "print(myFishList)"
      ],
      "metadata": {
        "id": "OtSvU5XljeHJ"
      },
      "execution_count": null,
      "outputs": []
    },
    {
      "cell_type": "code",
      "source": [
        "# Sort method: sort() - sorts all the elements of a list (case insensitive)\n",
        "\n",
        "myFishList = [\"Carp\", \"Brass\", \"red Snapper\", \"shark\", \"Arowana\", \"catfish\"]\n",
        "\n",
        "myFishList.sort(key=str.lower) # sort(key = ..., reverse = ...)\n",
        "\n",
        "print(myFishList)"
      ],
      "metadata": {
        "id": "-dEkZ-qeHiBB",
        "colab": {
          "base_uri": "https://localhost:8080/"
        },
        "outputId": "2bdcb22f-2f7f-424b-94a1-43b105ff686b"
      },
      "execution_count": null,
      "outputs": [
        {
          "output_type": "stream",
          "name": "stdout",
          "text": [
            "['Arowana', 'Brass', 'Carp', 'catfish', 'red Snapper', 'shark']\n"
          ]
        }
      ]
    },
    {
      "cell_type": "code",
      "source": [
        "# Copy method: copy() - returns a copy of the list\n",
        "\n",
        "myFishList = [\"Carp\", \"Brass\", \"Salmon\", \"Red Snapper\"]\n",
        "\n",
        "myNewList  =  myFishList.copy()\n",
        "\n",
        "print(myNewList)\n",
        "\n",
        "myFishList[0] = \"Pike\"\n",
        "\n",
        "print(myNewList)"
      ],
      "metadata": {
        "id": "fcVDkWeSIFzp"
      },
      "execution_count": null,
      "outputs": []
    },
    {
      "cell_type": "code",
      "source": [
        "# Assigning to the same memory address of list\n",
        "\n",
        "myFishList = [\"Carp\", \"Brass\", \"Salmon\", \"Red Snapper\"]\n",
        "\n",
        "myNewList  =  myFishList\n",
        "\n",
        "print(myNewList)\n",
        "\n",
        "myFishList[0] = \"Pike\"\n",
        "\n",
        "print(myNewList)"
      ],
      "metadata": {
        "id": "9ESgz9-2OzgW"
      },
      "execution_count": null,
      "outputs": []
    },
    {
      "cell_type": "markdown",
      "source": [
        "List operations\n",
        "---\n",
        "Some basic operations that can be performed on lists.\n",
        "\n",
        "---"
      ],
      "metadata": {
        "id": "dAKkuMdH3M_U"
      }
    },
    {
      "cell_type": "code",
      "source": [
        "# Join two lists to create a new list\n",
        "\n",
        "myFishList   = [\"Carp\", \"Brass\", \"Salmon\", \"Red Snapper\"]\n",
        "myInsectList = [\"Fly\", \"Beetle\", \"Ant\", \"Dragonfly\"]\n",
        "\n",
        "myFishingSet = myFishList + myInsectList\n",
        "\n",
        "print(myFishingSet)"
      ],
      "metadata": {
        "id": "1q4S9ISCIsr9"
      },
      "execution_count": null,
      "outputs": []
    },
    {
      "cell_type": "code",
      "source": [
        "# Multiply one list twice\n",
        "\n",
        "myFishList   = [\"Carp\", \"Brass\", \"Salmon\", \"Red Snapper\"]\n",
        "\n",
        "myFishingSet = myFishList * 2\n",
        "\n",
        "print(myFishingSet)"
      ],
      "metadata": {
        "id": "rPqEBck56XuM"
      },
      "execution_count": null,
      "outputs": []
    },
    {
      "cell_type": "code",
      "source": [
        "# Delete an entire list\n",
        "\n",
        "myFishList = [\"Carp\", \"Brass\", \"Red Snapper\"]\n",
        "\n",
        "del myFishList"
      ],
      "metadata": {
        "id": "jtwD7K8vBj2C"
      },
      "execution_count": null,
      "outputs": []
    },
    {
      "cell_type": "markdown",
      "source": [
        "3.2 Tuple\n",
        "---\n",
        "Tuples are used to store multiple values to a single variable. Once a tuple is created, it can not be changed, it is immutable. Tuples are ordered as they are defined and that order will not be changed. You can have duplicates. A tuple is enclosed in parentheses. It is also indexed like strings and lists, starting with index 0. Slicing is also applicable to Tuples to access a range of elements like strings.\n",
        "\n",
        "---\n",
        "\n",
        "Syntax:\n",
        "\n",
        "        myTuple = (element 1, element 2, ..., element n)\n",
        "\n",
        "        myTuple = (element 1,)\n",
        "\n",
        "        myTuple = element 1, element 2, ..., element n\n",
        "\n",
        "        myTuple = tuple()"
      ],
      "metadata": {
        "id": "WDg2CPv6JrwG"
      }
    },
    {
      "cell_type": "markdown",
      "source": [
        "Tuple declaration\n",
        "---\n",
        "You can declare or create a tuple using various ways.\n",
        "\n",
        "---"
      ],
      "metadata": {
        "id": "HI8NMAA_NOzo"
      }
    },
    {
      "cell_type": "code",
      "source": [
        "# Creating an empty tuple using parentheses\n",
        "\n",
        "myEmptyTuple = ()\n",
        "\n",
        "print(\"My empty tuple :\", myEmptyTuple)\n",
        "print(type(myEmptyTuple))"
      ],
      "metadata": {
        "id": "JpsrHjI3o9PT"
      },
      "execution_count": null,
      "outputs": []
    },
    {
      "cell_type": "code",
      "source": [
        "# Creating an empty tuple using the constructor\n",
        "\n",
        "myEmptyTuple = tuple()\n",
        "\n",
        "print(\"My empty tuple :\", myEmptyTuple)\n",
        "print(type(myEmptyTuple))"
      ],
      "metadata": {
        "id": "SAlsuyzscU4L"
      },
      "execution_count": null,
      "outputs": []
    },
    {
      "cell_type": "code",
      "source": [
        "# Creating a tuple with one element\n",
        "\n",
        "myTuple = ( 1, )\n",
        "\n",
        "print(type(myTuple))"
      ],
      "metadata": {
        "id": "WFoyL0MbL94t"
      },
      "execution_count": null,
      "outputs": []
    },
    {
      "cell_type": "code",
      "source": [
        "# Creating a tuple with many elements and duplicates\n",
        "\n",
        "myTuple = 1, 2, 3, 3\n",
        "\n",
        "print(type(myTuple))\n",
        "print(myTuple)"
      ],
      "metadata": {
        "id": "rRaJhmTQLiqj"
      },
      "execution_count": null,
      "outputs": []
    },
    {
      "cell_type": "code",
      "source": [
        "# Creating tuple of multiple string values\n",
        "\n",
        "myFirstTuple = (\"Carp\", \"Anaconda\", \"Shark\") # packing\n",
        "print(myFirstTuple)"
      ],
      "metadata": {
        "id": "wzavr6HZJ8Vh"
      },
      "execution_count": null,
      "outputs": []
    },
    {
      "cell_type": "code",
      "source": [
        "# Unpacking tuple\n",
        "\n",
        "myFirstTuple = (\"Carp\", \"Anaconda\", \"Shark\") # packing\n",
        "\n",
        "(myFirstElement, mySecondElement, myThirdElement) = myFirstTuple  # unpacking\n",
        "\n",
        "print(myFirstElement)\n",
        "print(mySecondElement)\n",
        "print(myThirdElement)"
      ],
      "metadata": {
        "id": "PQwcFQ42YJEc"
      },
      "execution_count": null,
      "outputs": []
    },
    {
      "cell_type": "code",
      "source": [
        "# Creating a tuple with one item\n",
        "\n",
        "myOneItemTuple = (\"Anaconda\",)\n",
        "print(type(myOneItemTuple))\n",
        "\n",
        "#THE FOLLOWING IS NOT A TUPLE, THIS IS A STRING\n",
        "\n",
        "myNotTuple = (\"Anaconda\")\n",
        "print(type(myNotTuple))"
      ],
      "metadata": {
        "id": "N7u-Tt1lLTDl"
      },
      "execution_count": null,
      "outputs": []
    },
    {
      "cell_type": "code",
      "source": [
        "# Tuple constructor: tuple() - constructor returns a copy of the tuple\n",
        "\n",
        "mySecondTuple = tuple((\"Wolf\", \"Rabbit\"))\n",
        "\n",
        "print(mySecondTuple)"
      ],
      "metadata": {
        "id": "OIbk29LUL1Ej"
      },
      "execution_count": null,
      "outputs": []
    },
    {
      "cell_type": "markdown",
      "source": [
        "Tuple indexing\n",
        "---\n",
        "\n",
        "A tuple is also indexed as strings and lists, starting with index 0.\n",
        "\n",
        "---\n",
        "Syntax:\n",
        "\n",
        "        myTuple[index]"
      ],
      "metadata": {
        "id": "IHNXsJruYnqT"
      }
    },
    {
      "cell_type": "code",
      "source": [
        "# Access a tuple with the index\n",
        "\n",
        "# myTuple       =   [1,  2,  3,  4,  5, ..., n]\n",
        "# --------------------------\n",
        "# index              0,  1,  2,  3,  4, ..., n-1\n",
        "# negative index    -n,                 ...,  -1\n",
        "\n",
        "myAustralianTuple = (\"Kangaroo\", \"Quokka\", \"Bandicoot\")\n",
        "\n",
        "print(\"This nocturnal marsupial omnivor lives in Australia :\", myAustralianTuple[2])"
      ],
      "metadata": {
        "id": "He4EbNPktLfd"
      },
      "execution_count": null,
      "outputs": []
    },
    {
      "cell_type": "markdown",
      "source": [
        "Tuple slicing\n",
        "---\n",
        "\n",
        "A tuple can also be sliced as strings and lists, starting with index 0.\n",
        "\n",
        "---\n",
        "Syntax:\n",
        "\n",
        "        myTuple[start index: end index]"
      ],
      "metadata": {
        "id": "zalLDkxbaOv-"
      }
    },
    {
      "cell_type": "code",
      "source": [
        "# Slice tuple with the index numbers\n",
        "\n",
        "# myTuple       =   [1,  2,  3,  4,  5, ..., n]\n",
        "# --------------------------\n",
        "# index              0,  1,  2,  3,  4, ..., n-1\n",
        "# negative index    -n,                 ...,  -1\n",
        "\n",
        "myMixedTuple  = (10, 11.0, 123, \"Python\", \"A\", -234.5, True, False, 1.23E-24)\n",
        "\n",
        "print(myMixedTuple[:5])\n",
        "print(myMixedTuple[-3:-1])"
      ],
      "metadata": {
        "id": "g46rPI917Zzw"
      },
      "execution_count": null,
      "outputs": []
    },
    {
      "cell_type": "markdown",
      "source": [
        "Tuple methods\n",
        "---\n",
        "These methods, when used on tuples, will result in an error: sort(), append(), insert(), copy(), extend(), pop(), clear(), reverse(), and remove(). This is because these methods attempt to alter the tuple, but it is immutable. There are, however, some methods that can be used on tuples.\n",
        "\n",
        "---"
      ],
      "metadata": {
        "id": "s2_Vnr4ewS4D"
      }
    },
    {
      "cell_type": "code",
      "source": [
        "# Count method: count() - returns a number of repeated elements in the Tuple\n",
        "\n",
        "myTestTuple = (1, 2, 3, 4, 5, 5, 5, 5, 5, 5, 6)\n",
        "\n",
        "print(myTestTuple.count(5))"
      ],
      "metadata": {
        "id": "_ygQO9WVvLVz"
      },
      "execution_count": null,
      "outputs": []
    },
    {
      "cell_type": "code",
      "source": [
        "# Index method: index() - returns an index of the first occurence for the specified element\n",
        "\n",
        "myTestTuple = (1, 2, 3, 4, 5, 6, 7, 8, 9)\n",
        "\n",
        "print(myTestTuple.index(4))"
      ],
      "metadata": {
        "id": "l_Km0CjgxkAN"
      },
      "execution_count": null,
      "outputs": []
    },
    {
      "cell_type": "code",
      "source": [
        "# Immutability: try to append(), insert(), del() methods\n",
        "\n",
        "myTestTuple = (1, 2, 3, 4, 5, 6, 7, 8, 9)\n",
        "\n",
        "#myTestTuple.append(10)    # AttributeError: 'tuple' object has no attribute 'append'\n",
        "#myTestTuple.insert(0,10)  # AttributeError: 'tuple' object has no attribute 'insert'\n",
        "#del myTestTuple[1]        # TypeError: 'tuple' object doesn't support item deletion\n",
        "#myTestTuple[0] = 10       # TypeError: 'tuple' object does not support item assignment\n",
        "\n",
        "print(len(myTestTuple))"
      ],
      "metadata": {
        "id": "MPo2jSCTrz_y"
      },
      "execution_count": null,
      "outputs": []
    },
    {
      "cell_type": "code",
      "source": [
        "# Sorted function: sorted() - returns a sorted tuple\n",
        "\n",
        "myTestTuple = (12, 2, 1, 4, -5, 6, -7, 8, 9)\n",
        "\n",
        "print(sorted(myTestTuple))"
      ],
      "metadata": {
        "id": "gzGO3eCiATbu"
      },
      "execution_count": null,
      "outputs": []
    },
    {
      "cell_type": "markdown",
      "source": [
        "Tuple operations\n",
        "---\n",
        "Some basic operations can be performed on tuples.\n",
        "\n",
        "---"
      ],
      "metadata": {
        "id": "qXYXXrZxyQvo"
      }
    },
    {
      "cell_type": "code",
      "source": [
        "# Join two tuples\n",
        "\n",
        "myFishTuple   = (\"Pike\", \"Bass\", \"Carp\")\n",
        "myMammalTuple = (\"Blue Whale\", \"Orca\", \"Dolphin\")\n",
        "\n",
        "myAnimalTuple = myFishTuple + myMammalTuple\n",
        "\n",
        "print(myAnimalTuple)"
      ],
      "metadata": {
        "id": "UMZrUtZSyUnf"
      },
      "execution_count": null,
      "outputs": []
    },
    {
      "cell_type": "code",
      "source": [
        "# Multiply two tuples\n",
        "\n",
        "myFishTuple   = (\"Pike\", \"Bass\", \"Carp\")\n",
        "\n",
        "myAnimalTuple = myFishTuple * 2\n",
        "\n",
        "print(myAnimalTuple)"
      ],
      "metadata": {
        "id": "x8DKUCO-7xvY"
      },
      "execution_count": null,
      "outputs": []
    },
    {
      "cell_type": "code",
      "source": [
        "# Tuples with membership operators\n",
        "\n",
        "myFishTuple   = (\"Pike\", \"Bass\", \"Carp\")\n",
        "\n",
        "print(\"Carp\" in myAnimalTuple)"
      ],
      "metadata": {
        "id": "AFgZy_n7Du-3"
      },
      "execution_count": null,
      "outputs": []
    },
    {
      "cell_type": "code",
      "source": [
        " # Delete the entire tuple\n",
        "\n",
        "myFishTuple   = (\"Pike\", \"Bass\", \"Carp\")\n",
        "\n",
        "del myFishTuple"
      ],
      "metadata": {
        "id": "9e0sMfri1soR"
      },
      "execution_count": null,
      "outputs": []
    },
    {
      "cell_type": "markdown",
      "source": [
        "3.3 Dictionary\n",
        "---\n",
        "A dictionary is an ordered mutable data collection that cannot have key duplicates. The items can be removed, changed, and added. Dictionaries store data using **key:value** pairs enclosed in curly braces. A dictionary key can be an integer, float, string, or boolean. Keys must be unique but the values can be duplicates. Dictionaries are ordered starting from Python version 3.6. The values in the dictionaries are indexed by keys.\n",
        "\n",
        "---\n",
        "Syntax:\n",
        "\n",
        "        myDictionary = {key 1: value, key 2: value, ..., key n: value}\n",
        "\n",
        "        myDictionary = {key: value}\n",
        "\n",
        "        myDictionary = dict()"
      ],
      "metadata": {
        "id": "LrEJ_oZiIq2d"
      }
    },
    {
      "cell_type": "markdown",
      "source": [
        "Dictionary declaration\n",
        "---\n",
        "You can declare or create dictionaries in various ways.\n",
        "\n",
        "---"
      ],
      "metadata": {
        "id": "_KxUXvahMwok"
      }
    },
    {
      "cell_type": "code",
      "source": [
        "# Declaring an empty dictionary\n",
        "\n",
        "myEmptyDict = {}\n",
        "\n",
        "print(\"My empty dictionary :\", myEmptyDict)"
      ],
      "metadata": {
        "id": "ycMVkJdEobuO"
      },
      "execution_count": null,
      "outputs": []
    },
    {
      "cell_type": "code",
      "source": [
        "# Declaring an empty dictionary using a constructor\n",
        "\n",
        "myEmptyDict = dict()\n",
        "\n",
        "print(\"My empty dictionary :\", myEmptyDict)"
      ],
      "metadata": {
        "id": "yxBqRoaOX2Du"
      },
      "execution_count": null,
      "outputs": []
    },
    {
      "cell_type": "code",
      "source": [
        "# Adding a new item to the dictionary, [key] = value pair\n",
        "\n",
        "myTestDictionary = {}\n",
        "\n",
        "myTestDictionary[\"Occupation\"] = \"Student\"\n",
        "myTestDictionary[\"Name\"]       = \"Kirill\"\n",
        "myTestDictionary[\"Age\"]        = 21\n",
        "\n",
        "print(myTestDictionary)"
      ],
      "metadata": {
        "id": "8OUIAF3WNCFw"
      },
      "execution_count": null,
      "outputs": []
    },
    {
      "cell_type": "code",
      "source": [
        "# Adding a new item to the dictionary with multiple values using one key\n",
        "\n",
        "myTestDictionary = {}\n",
        "\n",
        "myTestDictionary[\"Occupation\"] = \"Student\"\n",
        "myTestDictionary[\"Name\"]       = \"Kirill\"\n",
        "myTestDictionary[\"Age\"]        = 21, 22, 23, 24, 99\n",
        "\n",
        "print(myTestDictionary)"
      ],
      "metadata": {
        "colab": {
          "base_uri": "https://localhost:8080/"
        },
        "id": "gdkmMhxvdj80",
        "outputId": "4e6a3341-f73a-4999-bdc1-2ef1a52dc44f"
      },
      "execution_count": null,
      "outputs": [
        {
          "output_type": "stream",
          "name": "stdout",
          "text": [
            "{'Occupation': 'Student', 'Name': 'Kirill', 'Age': (21, 22, 23, 24, 99)}\n"
          ]
        }
      ]
    },
    {
      "cell_type": "code",
      "source": [
        "# Declaring a dictionary with the key: multiple value elements\n",
        "\n",
        "myFirstDictionary = {\"Occupation\":(\"Student\", \"Programmer\"), \"Name\":\"Kirill\", \"Age\":(72,32,21)}\n",
        "\n",
        "print(myFirstDictionary[\"Age\"][1])              # getting the zero value of the \"Age\" key\n",
        "\n",
        "print(list(myFirstDictionary.values())[0][1])   # getting the third value of the Age key"
      ],
      "metadata": {
        "id": "Q2P8m0o9IvQf"
      },
      "execution_count": null,
      "outputs": []
    },
    {
      "cell_type": "code",
      "source": [
        "# Dictionary constructor: dict() - returns a copy of the dictionary assigning key:value with  =\n",
        "\n",
        "myFirstDictionary = dict(Occupation=\"Student\", Name=\"Kirill\", Age=25)\n",
        "\n",
        "print(myFirstDictionary)"
      ],
      "metadata": {
        "id": "wqzD_rpwLO0W"
      },
      "execution_count": null,
      "outputs": []
    },
    {
      "cell_type": "code",
      "source": [
        "# Dictionary constructor: dict() - returns a copy of the dictionary assigning key:value with  ,\n",
        "\n",
        "myFirstDictionary = dict([(\"Occupation\",\"Student\"), (\"Name\",\"Kirill\"), (\"Age\",25)])\n",
        "\n",
        "print(myFirstDictionary)"
      ],
      "metadata": {
        "id": "ofFxolTdtR0Y"
      },
      "execution_count": null,
      "outputs": []
    },
    {
      "cell_type": "code",
      "source": [
        "# Length function: len() - returns the length of a dictionary\n",
        "\n",
        "myFirstDictionary = {\"Occupation\":\"Student\", \"Name\":\"Kirill\", \"Age\":25}\n",
        "\n",
        "print(len(myFirstDictionary))"
      ],
      "metadata": {
        "id": "0kCHLuJAKhyq"
      },
      "execution_count": null,
      "outputs": []
    },
    {
      "cell_type": "code",
      "source": [
        "# Get the value of the key:  key:value\n",
        "\n",
        "myFirstDictionary = dict(Name=\"Kirill\", Age=25, Occupation=\"Student\")\n",
        "\n",
        "print(myFirstDictionary[\"Age\"])"
      ],
      "metadata": {
        "id": "fp6PHb62L1u9"
      },
      "execution_count": null,
      "outputs": []
    },
    {
      "cell_type": "markdown",
      "source": [
        "Nested dictionary\n",
        "---\n",
        "Dictionaries can have a nested structure. This means you can have dictionaries as values in other dictionaries.\n",
        "\n",
        "---"
      ],
      "metadata": {
        "id": "kQrCRuBjiGMb"
      }
    },
    {
      "cell_type": "code",
      "source": [
        "# Nested dictionary\n",
        "\n",
        "myDictionary = {\"planets\":{1:\"Mercury\", 2:\"Venus\", 3:{\"a\":(\"Earth\",\"Mars\")}}, \"stars\":{\"a\":(\"Sun\",\"Proxima\"), \"b\":\"Alpha\"}}\n",
        "#                                                    |--------------------|           |----------------------------------|\n",
        "#                         |------------------------------------------------|\n",
        "#              |----------------------------------------------------------------------------------------------------------|\n",
        "\n",
        "#print(myDictionary)\n",
        "#print(myDictionary[\"planets\"])\n",
        "#print(myDictionary[\"planets\"][1])\n",
        "#print(myDictionary[\"planets\"][3][\"a\"][1])\n",
        "#print(myDictionary[\"planets\"][3][\"a\"][1][1:3])\n",
        "\n",
        "print(myDictionary[\"stars\"][\"a\"][0][0:3])\n",
        "print(myDictionary[\"stars\"][\"b\"][:])\n",
        "#print(myDictionary[\"stars\"][\"b\"][1:3])\n",
        "\n",
        "#print(list(myDictionary.values()))\n",
        "#print(list(myDictionary.values())[0][3][\"a\"][0])\n",
        "#print(list(myDictionary.values())[1][\"a\"][1])\n",
        "#print(list(myDictionary.values())[1][\"b\"])\n"
      ],
      "metadata": {
        "id": "083XnY-BiI7a"
      },
      "execution_count": null,
      "outputs": []
    },
    {
      "cell_type": "markdown",
      "source": [
        "Dictionary methods\n",
        "---\n",
        "There are some methods that can be used on dictionaries.\n",
        "\n",
        "---"
      ],
      "metadata": {
        "id": "JSlEagi1xdh0"
      }
    },
    {
      "cell_type": "code",
      "source": [
        "# Get method: get() - access a dictionary value using the associated keyword\n",
        "\n",
        "myFirstDictionary = {\"Occupation\":\"Student\", \"Name\":\"Kirill\", \"Age\":25}\n",
        "\n",
        "print(myFirstDictionary.get(\"Age\"))"
      ],
      "metadata": {
        "id": "_5jYofrGMQeO"
      },
      "execution_count": null,
      "outputs": []
    },
    {
      "cell_type": "code",
      "source": [
        "# Keys method: keys() - gets a list of keys\n",
        "\n",
        "myFirstDictionary = {\"Occupation\":\"Student\", \"Name\":\"Kirill\", \"Age\":25}\n",
        "\n",
        "print(myFirstDictionary.keys())"
      ],
      "metadata": {
        "id": "k81BrfGlMwB7"
      },
      "execution_count": null,
      "outputs": []
    },
    {
      "cell_type": "code",
      "source": [
        "# Values method: values() - gets a list of values\n",
        "\n",
        "myFirstDictionary = {\"Occupation\":\"Student\", \"Name\":\"Kirill\", \"Age\":25}\n",
        "\n",
        "print(myFirstDictionary.values())"
      ],
      "metadata": {
        "id": "LIH3CV1RNi4v"
      },
      "execution_count": null,
      "outputs": []
    },
    {
      "cell_type": "code",
      "source": [
        "# Items method: items() - gets a list of key:value pairs\n",
        "\n",
        "myFirstDictionary = {\"Occupation\":\"Student\", \"Name\":\"Kirill\", \"Age\":25}\n",
        "\n",
        "print(myFirstDictionary.items())"
      ],
      "metadata": {
        "id": "DfxebHnJN581"
      },
      "execution_count": null,
      "outputs": []
    },
    {
      "cell_type": "code",
      "source": [
        "# Update method: update() - updates the dictionary with the key:value pair\n",
        "\n",
        "myFirstDictionary = {\"Occupation\":\"Student\", \"Name\":\"Kirill\", \"Age\":25}\n",
        "myFirstDictionary.update({\"Age\":33})\n",
        "\n",
        "print(myFirstDictionary)"
      ],
      "metadata": {
        "id": "_mdgODj4O-09"
      },
      "execution_count": null,
      "outputs": []
    },
    {
      "cell_type": "code",
      "source": [
        "# Pop method: pop() - removes the key:value pair from the dictionary\n",
        "\n",
        "myFirstDictionary = {\"Occupation\":\"Student\", \"Name\":\"Kirill\", \"Age\":25}\n",
        "\n",
        "myFirstDictionary.pop(\"Name\")\n",
        "\n",
        "print(myFirstDictionary)"
      ],
      "metadata": {
        "id": "gE9SoknNQZmU"
      },
      "execution_count": null,
      "outputs": []
    },
    {
      "cell_type": "markdown",
      "source": [
        "Dictionary operations\n",
        "---\n",
        "Some basic operations can be performed on dictionaries.\n",
        "\n",
        "---"
      ],
      "metadata": {
        "id": "j39H9C6p1GHB"
      }
    },
    {
      "cell_type": "code",
      "source": [
        "# Delete an item from the dictionary\n",
        "\n",
        "myFirstDictionary = {\"Occupation\":\"Student\", \"Name\":\"Kirill\", \"Age\":25}\n",
        "\n",
        "del myFirstDictionary[\"Age\"]\n",
        "\n",
        "print(myFirstDictionary)"
      ],
      "metadata": {
        "id": "fPBTRj2xRABQ"
      },
      "execution_count": null,
      "outputs": []
    },
    {
      "cell_type": "code",
      "source": [
        "# Delete the entire dictionary\n",
        "\n",
        "myFirstDictionary = {\"Occupation\":\"Student\", \"Name\":\"Kirill\", \"Age\":25}\n",
        "\n",
        "del myFirstDictionary"
      ],
      "metadata": {
        "id": "70oAGiaI06LI"
      },
      "execution_count": null,
      "outputs": []
    },
    {
      "cell_type": "markdown",
      "source": [
        "Note\n",
        "\n",
        "---\n",
        "A Python dictionary can be loaded from a JSON file. JSON stands for JavaScript Object Notation and it is a popular format for storing data on the web. Here is an example of such a file student.json\n",
        "\n",
        "---"
      ],
      "metadata": {
        "id": "FRXuwLhXuUmI"
      }
    },
    {
      "cell_type": "code",
      "source": [
        "# student.json\n",
        "\n",
        "{\n",
        "    \"Name\": \"Mark\",\n",
        "    \"Age\": 21,\n",
        "    \"Occupation\": \"Student\"\n",
        "}"
      ],
      "metadata": {
        "id": "tBdESeYyu6JR"
      },
      "execution_count": null,
      "outputs": []
    },
    {
      "cell_type": "code",
      "source": [
        "# To load JSON file to the Python\n",
        "\n",
        "import json\n",
        "\n",
        "with open('student.json', 'r') as json_file:\n",
        "  student = json.load(json_file)\n",
        "print(student)"
      ],
      "metadata": {
        "id": "vqrVenh-vXYh"
      },
      "execution_count": null,
      "outputs": []
    },
    {
      "cell_type": "markdown",
      "source": [
        "3.4 Set\n",
        "---\n",
        "\n",
        "A set is used to store multiple elements in a single variable.\n",
        "It is an unordered, unchangeable, unindexed sequence. Every time\n",
        "you access the set, the order of the elements may vary. Elements of a\n",
        "set cannot be accessed by an index number. You cannot modify the\n",
        "set, but you can remove or add elements. Duplicates are not allowed.\n",
        "\n",
        "---\n",
        "\n",
        "Syntax:\n",
        "\n",
        "        mySet = {element 1, element 2, ..., element n}\n",
        "\n",
        "        mySet = {element 1}\n",
        "\n",
        "        mySet = set()"
      ],
      "metadata": {
        "id": "aug2ii2_MNbv"
      }
    },
    {
      "cell_type": "markdown",
      "source": [
        "Set declarations\n",
        "---\n",
        "There are various ways to declare sets.\n",
        "\n",
        "---"
      ],
      "metadata": {
        "id": "B6170h41Lfvp"
      }
    },
    {
      "cell_type": "code",
      "source": [
        "# Creating an empty set - no curly braces - dictionary\n",
        "\n",
        "myEmptySet = {}\n",
        "\n",
        "print(type(myEmptySet))"
      ],
      "metadata": {
        "id": "Y03mljzFPO7Q"
      },
      "execution_count": null,
      "outputs": []
    },
    {
      "cell_type": "code",
      "source": [
        "# Creating an empty set using a constructor\n",
        "\n",
        "myEmptySet = set()\n",
        "\n",
        "print(\"My empty set :\", myEmptySet)\n",
        "print(type(myEmptySet))"
      ],
      "metadata": {
        "id": "aM6KGd6KHFbP"
      },
      "execution_count": null,
      "outputs": []
    },
    {
      "cell_type": "code",
      "source": [
        "# Create a set with multiple string values\n",
        "\n",
        "myFishSet = {\"Carp\", \"Bass\", \"Salmon\", \"Red Snapper\", \"Pike\", \"Perch\"}\n",
        "\n",
        "print(myFishSet)"
      ],
      "metadata": {
        "id": "l1nS-WtVY1Sh"
      },
      "execution_count": null,
      "outputs": []
    },
    {
      "cell_type": "code",
      "source": [
        "# Create a set with multiple string values using the constructor: set()\n",
        "\n",
        "myFishSet = set((\"Carp\", \"Bass\", \"Salmon\", \"Red Snapper\"))\n",
        "\n",
        "print(myFishSet)"
      ],
      "metadata": {
        "id": "z3c9RkQSG8tk"
      },
      "execution_count": null,
      "outputs": []
    },
    {
      "cell_type": "code",
      "source": [
        "# Create a set with duplicates\n",
        "\n",
        "myFishSet = {\"Carp\", \"Bass\", \"Salmon\", \"Red Snapper\", \"Bass\", \"Bass\", \"Bass\"}\n",
        "\n",
        "print(myFishSet)"
      ],
      "metadata": {
        "id": "6DUwz-mYZNF-"
      },
      "execution_count": null,
      "outputs": []
    },
    {
      "cell_type": "code",
      "source": [
        "# Create a set with boolean types and integers\n",
        "\n",
        "myFirstSet = {\"Carp\", \"Bass\", \"Red Snapper\", \"Bass\", True, 1, 2}\n",
        "\n",
        "print(myFirstSet)"
      ],
      "metadata": {
        "id": "4cgo_2HnZdqW"
      },
      "execution_count": null,
      "outputs": []
    },
    {
      "cell_type": "code",
      "source": [
        "#Sets' data types\n",
        "\n",
        "myFishSet    =  {\"Carp\", \"Bass\", \"Red Snapper\", \"Salmon\"}\n",
        "myNumberSet  =  {1, 2, 3, 4, 5, 4, 6, 3, 21}\n",
        "myBooleanSet =  {True, False, False, True,False}\n",
        "myMixedSet   =  {\"Carp\", True, 23, 40, \"Bass\", \"Salmon\"}\n",
        "myComplexSet =  {2+3j,   1+7j,   3+4j}\n",
        "\n",
        "print(myFishSet)\n",
        "print(myNumberSet)\n",
        "print(myBooleanSet)\n",
        "print(myMixedSet)\n",
        "print(myComplexSet)"
      ],
      "metadata": {
        "id": "01sJnNKcaC18"
      },
      "execution_count": null,
      "outputs": []
    },
    {
      "cell_type": "markdown",
      "source": [
        "Set methods\n",
        "---\n",
        "There are some methods that can be used on sets.\n",
        "\n",
        "---"
      ],
      "metadata": {
        "id": "PD2eCqRbMAUj"
      }
    },
    {
      "cell_type": "code",
      "source": [
        "# Add method: add() - adding items to a set\n",
        "\n",
        "myFishSet = {\"Carp\", \"Bass\", \"Red Snapper\"}\n",
        "myFishSet.add(\"Salmon\")\n",
        "print(myFishSet)"
      ],
      "metadata": {
        "id": "PIl_tV42b1lw"
      },
      "execution_count": null,
      "outputs": []
    },
    {
      "cell_type": "code",
      "source": [
        "# Update method: update() - updating a set with another set\n",
        "\n",
        "myFirstSet  = {\"Carp\", \"Bass\"}\n",
        "mySecondSet = {\"Red Snapper\", \"Salmon\"}\n",
        "\n",
        "myFirstSet.update(mySecondSet)\n",
        "\n",
        "print(myFirstSet)"
      ],
      "metadata": {
        "id": "ueHCgxgycIZs"
      },
      "execution_count": null,
      "outputs": []
    },
    {
      "cell_type": "code",
      "source": [
        "# Update method: update() - updating a set with a list\n",
        "\n",
        "myFirstSet   = {\"Carp\", \"Bass\"}\n",
        "mySecondList = [\"Red Snapper\", \"Salmon\"]\n",
        "\n",
        "myFirstSet.update(mySecondList)\n",
        "\n",
        "print(myFirstSet)"
      ],
      "metadata": {
        "id": "RHxfA-bzco7O"
      },
      "execution_count": null,
      "outputs": []
    },
    {
      "cell_type": "code",
      "source": [
        "# Remove method: remove() - removes specified element(s) of a set\n",
        "\n",
        "myFirstSet = {\"Carp\", \"Bass\", \"Red Snapper\", \"Salmon\"}\n",
        "\n",
        "myFirstSet.remove(\"Carp\")\n",
        "\n",
        "print(myFirstSet)"
      ],
      "metadata": {
        "id": "siByvL9jdAP3"
      },
      "execution_count": null,
      "outputs": []
    },
    {
      "cell_type": "code",
      "source": [
        "# Discard method: discard() - discards specified element(s) of a set\n",
        "\n",
        "myFirstSet = {\"Carp\", \"Bass\", \"Red Snapper\", \"Salmon\"}\n",
        "\n",
        "myFirstSet.discard(\"Red Snapper\")\n",
        "\n",
        "print(myFirstSet)\n"
      ],
      "metadata": {
        "id": "q_JIy6zIOHlh"
      },
      "execution_count": null,
      "outputs": []
    },
    {
      "cell_type": "code",
      "source": [
        "# Pop method: pop() - removes an element of a string, you do not know which item gets removed\n",
        "\n",
        "myFirstSet = {\"Carp\", \"Bass\", \"Red Snapper\", \"Salmon\"}\n",
        "\n",
        "myFirstSet.pop()\n",
        "\n",
        "print(myFirstSet)"
      ],
      "metadata": {
        "id": "f24DGQRxdhwv"
      },
      "execution_count": null,
      "outputs": []
    },
    {
      "cell_type": "code",
      "source": [
        "# Clear method: clear() - makes a set empty\n",
        "\n",
        "myFirstSet  =  {\"Carp\", \"Bass\", \"Red Snapper\", \"Salmon\"}\n",
        "\n",
        "myFirstSet.clear()\n",
        "\n",
        "print(myFirstSet)"
      ],
      "metadata": {
        "id": "yoDoL6GYd8ru"
      },
      "execution_count": null,
      "outputs": []
    },
    {
      "cell_type": "code",
      "source": [
        "# Intersection method: intersection() - keeps only duplicate elements\n",
        "\n",
        "myFirstSet   =  {\"Carp\", \"Red Snapper\"}\n",
        "mySecondSet  =  {\"Carp\", \"Bass\", \"Red Snapper\", \"Salmon\"}\n",
        "\n",
        "myThirdSet   =  myFirstSet.intersection(mySecondSet)\n",
        "\n",
        "print(myThirdSet)"
      ],
      "metadata": {
        "id": "Zk7dqs_CfULP"
      },
      "execution_count": null,
      "outputs": []
    },
    {
      "cell_type": "code",
      "source": [
        "# Intersection update method: intersection_update() - keeps only duplicate elements\n",
        "\n",
        "myFirstSet  = {\"Carp\", \"Bass\", \"Red Snapper\", \"Salmon\"}\n",
        "mySecondSet = {\"Carp\", \"Bass\", \"Red Snapper\", \"Salmon\"}\n",
        "\n",
        "myFirstSet.intersection_update(mySecondSet)\n",
        "\n",
        "print(myFirstSet)"
      ],
      "metadata": {
        "id": "WTQJAXoDfDAY"
      },
      "execution_count": null,
      "outputs": []
    },
    {
      "cell_type": "code",
      "source": [
        "# Symmetric difference update method: symmetric_difference_update()\n",
        "\n",
        "myFirstSet  = {\"Carp\", \"Bass\", \"Red Snapper\", \"Salmon\"}\n",
        "mySecondSet = {\"Red Snapper\", \"Salmon\"}\n",
        "\n",
        "myFirstSet.symmetric_difference_update(mySecondSet)\n",
        "\n",
        "print(myFirstSet)\n"
      ],
      "metadata": {
        "id": "q0HLwdScf3Jb"
      },
      "execution_count": null,
      "outputs": []
    },
    {
      "cell_type": "code",
      "source": [
        "# Symmetric difference method: symmetric_difference() - duplicates are excluded\n",
        "\n",
        "myFirstSet  = {\"Bass\", \"Red Snapper\", \"Salmon\"}\n",
        "mySecondSet = {\"Carp\", \"Red Snapper\", \"Salmon\"}\n",
        "\n",
        "myThirdSet  = myFirstSet.symmetric_difference(mySecondSet)\n",
        "\n",
        "print(myThirdSet)"
      ],
      "metadata": {
        "id": "i7cHAn0ngWI6"
      },
      "execution_count": null,
      "outputs": []
    },
    {
      "cell_type": "code",
      "source": [
        "# Union method: union() - joints two sets while excluding duplicates\n",
        "\n",
        "myFirstSet  =  {\"Red Snapper\", \"Salmon\"}\n",
        "mySecondSet =  {\"Carp\", \"Bass\"}\n",
        "\n",
        "myThirdSet  = myFirstSet.union(mySecondSet)\n",
        "\n",
        "print(myThirdSet)"
      ],
      "metadata": {
        "id": "_ZGA5yLTebn2"
      },
      "execution_count": null,
      "outputs": []
    },
    {
      "cell_type": "markdown",
      "source": [
        "Set operations\n",
        "---\n",
        "Some basic operations can be performed on sets.\n",
        "\n",
        "---"
      ],
      "metadata": {
        "id": "c6q5E3AZSfRD"
      }
    },
    {
      "cell_type": "code",
      "source": [
        "#Set's length\n",
        "\n",
        "mySecondSet = {\"Carp\", \"Bass\", \"Red Snapper\", \"Salmon\", \"Bass\"}\n",
        "print(len(mySecondSet))"
      ],
      "metadata": {
        "id": "vVh-kbCLZzOd"
      },
      "execution_count": null,
      "outputs": []
    },
    {
      "cell_type": "code",
      "source": [
        "# Deleting the entire set\n",
        "\n",
        "myFishSet  =  {\"Carp\", \"Bass\", \"Red Snapper\", \"Salmon\"}\n",
        "\n",
        "del myFishSet"
      ],
      "metadata": {
        "id": "yOsBYLkmeI-i"
      },
      "execution_count": null,
      "outputs": []
    },
    {
      "cell_type": "markdown",
      "source": [
        "3.5 Summary of data collections\n",
        "---\n",
        "\n",
        "  \n",
        "    String          List        Tuple      Dictionary / Set\n",
        "\n",
        "    immutable     mutable      immutable        mutable\n",
        "    order/index order/index  order/indexed     unordered\n",
        "    duplicates    duplicates   duplicates     noduplicates\n",
        "      \"   \"        [   ]        (  )       {   } / {*}, set()\n",
        "      str()        list()      tuple()       dict() / set()\n",
        "\n",
        "    {*} - A set can not be declared with empty braces"
      ],
      "metadata": {
        "id": "Zb-1TG2L014G"
      }
    },
    {
      "cell_type": "markdown",
      "source": [
        "# Section 4: Control flow\n",
        "\n",
        "4.1 if ... statements\n",
        "\n",
        "4.2 For loops\n",
        "\n",
        "4.3 While loops\n"
      ],
      "metadata": {
        "id": "ufdAAkIbhk9M"
      }
    },
    {
      "cell_type": "markdown",
      "source": [
        "4.1 if ... statements\n",
        "---\n",
        "The if statement is used to check against some conditions along the code. There are three forms of the if statements in Python that can be used: if, if ... else, if ... elif ... else.\n",
        "\n",
        "---\n",
        "\n",
        "Syntax:\n",
        "\n",
        "        if condition: block of code\n",
        "\n",
        "        if condition: block of code else: block of code\n",
        "\n",
        "        if condition: block of code elif condition: block of code else: block of code"
      ],
      "metadata": {
        "id": "Y8cow2CiOU7l"
      }
    },
    {
      "cell_type": "markdown",
      "source": [
        "if ... statement\n",
        "---\n",
        "The if statement is used to check against some conditions along the code.\n",
        "\n",
        "---"
      ],
      "metadata": {
        "id": "l69FxLYG2rtw"
      }
    },
    {
      "cell_type": "markdown",
      "source": [
        "![IF_STATEMENT_001.png](data:image/png;base64,iVBORw0KGgoAAAANSUhEUgAAA18AAADMCAYAAACMXBkZAAABg2lDQ1BJQ0MgcHJvZmlsZQAAKJF9kT1Iw0AcxV9TiyItDs0g4pChOlkQFXHUKhShQqgVWnUwufQLmjQkKS6OgmvBwY/FqoOLs64OroIg+AHi6uKk6CIl/q8ptIjx4Lgf7+497t4BQqPCdLtnHNANx0onE1I2tyr1viIEERFEEVKYbc7Jcgq+4+seAb7exXmW/7k/R0TL2wwISMSzzLQc4g3i6U3H5LxPLLKSohGfE49ZdEHiR66rHr9xLrZY4JmilUnPE4vEUrGL1S5mJUsnniKOabpB+ULWY43zFme9UmPte/IXhvPGyjLXaQ4jiUUsQYYEFTWUUYGDOK0GKTbStJ/w8Q+1/DK5VHKVwcixgCp0KC0/+B/87tYuTE54SeEEEHpx3Y8RoHcXaNZd9/vYdZsnQPAZuDI6/moDmPkkvd7RYkfAwDZwcd3R1D3gcgcYfDIVS2lJQZpCoQC8n9E35YDoLdC/5vXW3sfpA5ChrlI3wMEhMFqk7HWfd/d19/bvmXZ/Pwz0cn6nu7GaAAAABmJLR0QA/wD/AP+gvaeTAAAACXBIWXMAAFxGAABcRgEUlENBAAAAB3RJTUUH5wUUDRQrWsRzZAAAIABJREFUeNrs3XlclNX+B/DPMAwMw76LC0jigiiIimtmKu6aqblkrvlTKzO7LmXptW7em3WtvJZlLmWYS2plmfu+L+AOiqiIbLLvO8xwfn+M88g0gyyCon7erxcv5dnmnDMzz5fv85znHJkQQoCIiIiIiIhqlQmbgIiIiIiIiMkXERERERERky8iIiIiIiJi8kVERERERMTki4iIiIiIiMkXERERERERMfkiIiIiIiJi8kVERERERERMvoiIiIiIiJh8ERERERERMfkiIiIiIiIiJl9ERERERERMvoiIiIiIiJh8EREREREREZMvIiIiIiIiJl9ERERERETE5IuIiIiIiIjJF9VhpaWlCAsLQ1JSEhuDiIiI8fTpkpAAnDwJ5OWxLYjJ19MsOTkZFy5cQFhYGPLq8Bf+xIkTaN26NYYOHaq3PC4uDsuXL0dwcHCVjlfd/WpbSEgIli9fjri4OH44iYgYTxlP61o8LSkBcnON/xQUVP+4H34IPP888Ouv/DIRk6+njRACGzZsQJs2beDq6op27dqhdevWsLe3R79+/XD8+PE6V+bS0lK9f3UWL16MGTNmYMqUKVU6XnX3q20TJ07EjBkzsGTJkpo5oJkZIJNV7mfIEH45iIgYTxlPy8+wAQcHwNra+I+lJXD3bnU/TPr/Ej0ipmyC2qVWqzFp0iSsX78eAODj44O2bduitLQUISEh2Lt3L/bv34/g4GC0a9euztfH19cXNjY2aN++vd7ynTt3Ys6cOXj99dcxd+7cSu/3uLVr1w7x8fHw9fWtmQP27at/JS4nBwgOBszNtVfYygoI4BeEiIjxVG95QkIC+vTpA29vb2zZsuXZjacAkJ6uvcMllwMvvmjkr1hTbQJGxOSLdD7++GOsX78eKpUK69evN+h2sHv3bsycORPJyclPRH2mTZuGadOmGSyPjY3F9evXERERUaX9Hrd169bV7AH/+kv/93PntEmWkxNw4AC/EEREjKcPjItZWVkICwtDQTld6p6ZeFqWUskYSk8NdjusRTExMfj8888BAD/88INBoACA/v3749q1a+jbt6/RYwghkJGRgaKioiq/flZWFtRqdaW21Wg0yMzMfOxtVlhYiMzMTIgqdgPIy8srN1A9DLVajfT0dGg0mkfTAAUFD9eH3fiHCMjI0PabJyJiPGU8fYCSkhJkZ2c/2fG0pER71+xhXkutrvwx1GptnP1b11IiJl+P2KpVq6BWq+Hn54fRo0eXu52pqSlMTPTfiuDgYAwaNAgqlQoODg5QKpVo0aIFvvzyS6MBoHv37vD394cQAitWrEDjxo1hZ2cHlUqF4cOHIzEx0ehrR0VFYdiwYbCwsIC9vT3q1auHL7/8styT9Y4dO+Dm5oZ//vOfAICTJ0+iadOmWLhwIQBg69at8PLygpeXF1577bVy99PPNwqwaNEieHl5SeWwtrbG8OHDERoaarD9hx9+iPr16yMyMhKHDx9Ghw4dYGVlBZVKhQ4dOlTpIeQFCxbAzc0NO3fu1FseGxuLMWPGwMrKCo6OjrC2tsaQIUMQExNTsx+S7t0Bf3+guBiYNk3bh93KClixQrs+MhKoXx8YPNj4/hMmAG5uQEiI4brbt4ExY7THdHDQdn3s1AnYvZtfTiJiPK1j8bSgoAAtW7aUkseYmBgpnvr4+EhJY03G07/++guurq7YuHGjVH6VSgVbW1t4eHggKCjoyYmn6enAxx8DrVtr452jo7ZLYt++wMWLlT9ObKw2dlpZaY9hba19RttYeY8cAXr00N6Zc3AAVCpg6FDg+nV+aan88xSboPYcPHgQAPDKK69Uab/Nmzdj7NixUKvV6NixI7y9vZGQkIBDhw5hzpw5OH78OLZt2waZTCbtEx0djYyMDEycOBHr1q1Dq1at0KdPH5w8eRK///477ty5g+DgYMjlcmmf+Ph4dO3aFQkJCWjYsCE6dOiAsLAwzJkzB61atTJattTUVCQmJiI2NhYAYGFhASsrKxQWFkqBz8rKCgBga2tb7n46eXl5CAwMxJkzZ2Bvb48RI0ZAqVTixIkT+P3337Fnzx7s3bsXz5d5Xuru3btISEjAV199hRUrVsDNzQ0DBgzAhQsXEBISgsDAQISFhcHd3b3Cto6Li0NiYiJSUlKkZdnZ2XjxxRdx584dDBs2DC1btsTt27exfft2bNu2DTNnzqy5D0l0NJCZCbz+OrBhA9CwIVBYqB0CF9A+M5aQAERFlb9/YiKQlqa/PCxM2z8+LQ0YNAjw89Mmcr/9BgwcCKxfrw0uRESMp3Uinsrlctja2krJmkwmk+KpSqWSXq8m42laWhqSk5Oxa9cuvP322yguLkbv3r1x584dhIeHY+LEibC2tsawYcPqfjwdOhQ4dgxo1gx47TXAwkL7+759wNmzwLVr2ouZD5KdrY2dd+4Aw4YBLVtqL2Ru3w5s2waULe+GDcD48YBCob0Q6uKifcb7jz+0SdmpU4C3N7+8ZEhQrbG0tBQAxPbt2yu9T2xsrLC0tBQymUxs3LhRb92lS5eEvb29ACCCgoL01nl4eAgAwtTUVKxcuVJafu3aNaFSqQQAsXv3br19xo8fLwCIDh06iNzcXCGEEKWlpeKLL74QMplMABAdO3bU22ft2rUCgJgwYYLe8hUrVggAYvLkyUbrVd5+77zzjgAgOnfuLNLT06XlJSUlYsqUKQKAaNKkidBoNNK6CRMmCAACgJgyZYooKCgQQgiRlZUl/Pz8BADx/vvvV6q9dcdau3attCwoKEgAENOmTdPbNi0tTcTHx1ftQxASIgQgRIMGxtd7eGjXA0L8+99ClJYKodEIkZenXX/xonadj4/x/bt3167/23sr/P21y7/+Wn/5kSNCyGRC2Nvffw0iIsbTOhNPw8PDpdhX2/FUdyxd+XQxrrS0VEyePNlouR9pPA0P18YyS8uKt120SIiDB/WXFRcL0aWL9hhffPH3AmuXlymvCArSLvtbeUVamhBlyxsfL4RKJYRSKcTZs/rb/utf2mP06cMvLhnFboe1pLi4WJp3xNHRsdL7rVy5Enl5eejfvz9effVVvXV+fn6YPn06AODHH380uv/333+PqVOnSr97e3tjxIgRUteLsl0Ttm7dCgD49ttvYXlvtCCZTIbZs2dj0aJFtd5Gubm5WL16NQBg2bJlsLe31+s68uWXX8LS0hKRkZE4duyYwf5jx47FqlWroFQqAQA2NjZ49913DepaVRkZGQAAhUKht9zBwQH1K7pqVl0TJwLz52uHoDcx0XZdqK7jx7VdLPz8gBkz9Nd17w706qXtm86Hl4mI8ZTxFEDLli2xb98+KcbJZDIsWLAAAHDhwoVqP6dVY/E0P1/bM+TvP/feDwDAggVAz576+ykU97epTFfAe+XF38oLBwf9u2Y//KAt07RpQIcO+tu+9562y+L+/UBWFr/AZIDJVy0pO59HVR52PXr0KABg5MiRRtfrbv0HBwcbPW6vXr2MnlQBID09XVp29epVFBQUoF69ekaHq+3atWutt1FwcDAKCgrQuHFjBBgZdt3a2lqqz5kzZ6pd16rq0aMH5HI5VqxYgUWLFtXKg8cG5s+vuWOdOKH9t1UrbdeJv/+4uWnXlzMyJRER4+mzFU8DAgJgY2Ojt6xx48awsLBASUkJcnJyHn88VSqN/zyIRqNNnABtl/6KC6wd1n7FCmDRIm03xAfFWS8vwxibmKiNs0IAN27wC0xMvh4VpVIp3ZFJSkqq9H66PtweHh5G1zdq1AiA9kpbbm5upY5pZmYGAHoPFuseGG7QoMFja6OK6lq2vmX7kFe1rlXl6+uLlStXQqFQYOHChahfvz6mTp2KqPKeu6oJpjX4+KVuwskNGwBPT8Ofn3/GvUbiF5WIGE8ZT2stptZYPFWpgFu3DH908Uznjz+0z341b64dKMPUVPs8ljZzr0yBgZUrtXe+Fi7U3u2aOtXwuWtdnJ0xw3icvXmTcZaYfD0O3vcetDx37lyl99FdfSvvFn/ZE6DupFi9v/VNHzpJeVgV1bVs+R6mrtUxefJk3Lp1C/PmzYNKpcLq1avh6+trtLtGnaO7Sty/vzYwGfvZtAl46y1+SYmI8ZTx9OmIpzNmaBOvQ4eA558H5s0Dli4Fxo6taoG1id28edqkb/VqbVJWtry6ODtrVvlx9s8/gY4d+eUlJl+PUo8ePQBoR1uqbH9pV1dXANrRlozRXS1yc3ODubl5tcvmdq/r2V3d1ZvHoKK6lq2vp6fnIy9fgwYNsHjxYty5cwdTpkxBbm6u9EzZI6O7I1aVeWnq1dP+6+SkDTrGfkaPBsqMRklExHjKePrExtOrV4HlywE7OyA0VPtM1vz5wLvvaoear3qBgcWLtd0Ip0wBcnO1x/p7nPXxKT/OvvSS9hluIiZfj87UqVNhYmKC27dvS5NDGhMZGSnNd9GpUycpwBjz871b7L17936osj333HMwNTVFSkoKzp8/b7B+48aNVTqerkuI7qHoymjfvj3kcjliY2Nx+vRpg/Xx8fE4fPgwZDKZ0b73j4pKpcJXX30FAAgLC3u0L657uDwmxrDveUQEcOWK4T66K20HD1YtaSMiYjxlPH0S46kuFrZrB/x9mpmHiYMqFXCvvChbXl2c/ducZkRMvh6z5s2bY/bs2QCA+fPnY+bMmXqTCt66dQtz586Fj4+PNIfJ1KlTIZfLsW/fPixevFjveNu2bcMPP/wAU1NT/OMf/3iosllbW2PAgAEAgDfeeEPq715QUIA333xTGjWpsnR93U+ePCkFjMIKHm51dnaWRo6aNGkS7ty5I63LyMjA66+/jpKSEgwfPhxNmjR5ZO/b119/bfBA8vHjx6Ug+0i5uQEeHtpJmO9NZA0AOHNGO6qTbmSmsgIDgaZNtX3S33wTKCjQX5+aCqxdyy8oETGe1sF46ubmBplMhsTERGliZMbTCty784fQUO3cmTqnTmm7D1a+wNr4ql9gXZZ9f9nkydrnwrZtA77/3vA4ERHaucGIjOFo+7VLrVaLN954Q5pHA4CwsbER1tbW0u/u7u7i1q1b0j5Lly7VW9ejRw/RrFkzAUCYmJiIVatWGZkuSjsvSVRUlME63fGmT5+utzwiIkLY2dkJAMLR0VF07dpVODg4CJlMJj7//PMqzUtSUFAg3NzcBADh6uoqfH19RUBAQIX7JSYmSnUzMzMTnTt3Ft26dZPmUmnTpo1ISUmpcC4RnYsXLwoAwqe8ebEqMS9J//79BQDRunVrMXLkSBEYGCjkcrmQyWRi69attTPPl5H3rUzj3Z8LrGFDIXx9tXN1tWolxNixxuf5Cg7WzuUFCOHiIsSgQUK89JJ2/i+5XPujVvMLSkSMp3UsngohxMsvvywACCsrK9GuXTthYWEhcnJyajyePqgMQghha2srABjs98jiaWXn+SopEaJz5/vxduxYIXr3FsLE5P48X6+9VvE8X/37a5e1bi3EyJFCBAZq46VMJsTfy/v999rjA0I0by7E0KHa/b28tMu6d+eXljjP1+OgG2L1+PHjGD9+PJo1awZTU1M4OztjwIABWLVqFSIiIvSuRL377rs4dOgQhgwZguLiYpw5cwZ5eXkYPXo0goODMWXKFIPXCQgIQLt27WBtbW2wztPTE76+vmjRooXe8mbNmuHs2bMYPnw4ZDIZwsLC4O/vj0OHDmHu3Lno1KkT/P399fZp1KgRfH194ePjo7dcqVRiz5496N27N2QyGVJTU/HSSy9VuJ+rqyuCg4OxcOFCNG/eHGFhYbh8+TJatmyJJUuW4PTp03ByctLbx9vbG76+vnD/e9cCaOcO8ff3NzrcrzHGjrV8+XK88cYbKCwsxI4dO3Djxg0MGjQIp06dwiuvvFK1D4CTE9C+PdCli/H1AQHabhJG3jfJxInAunXaebvS07Xzhrz/vvbq3PPPa5fr+p+XPe6lS8D06do+8IcPA0ePartfTJyo7ZIol/MLSkSMp3UsngLAmjVrMGHCBDg5OSE6Ohp9+vSB6t78jzUZTx9UBgDo3LkzAgICYGFh8Xjiqb29dh6tbt0evJ2pKfDXX8A77wAWFto7UgkJwP/+B+zYoY2z96YJKFNg7UAaZf+WWL4ceOMN7bD0O3Zoh4ofNEh7B+3v5Z02TTvk/IgR2mfCdu8GQkK0Q9vPnQusWcMvLRklE1WZNIOIiIiIiIiqhXe+iIiIiIiImHwREREREREx+SIiIiIiIiImX0REREREREy+iIiIiIiImHwRERERERERky8iIiIiIiImX0RERERERMTki4iIiIiIiMkXERERERERky8iIiIiIiJi8kVERERERMTki4iIiIiIiMkXERERERERMfkiIiIiIiJi8kVERERERERMvoiIiIiIiJh8ERERERERMfkiIiIiIiIiJl9ERERERERMvoiIiIiIiIjJFxEREREREZMvIiIiIiIiJl9ERERERETE5IuIiIiIiIjJFxEREREREZMvIiIiIiIiYvJFRERERETE5IuIiIiIiIiYfBERERERETH5IiIiIiIiYvJFRERERERETL6IiIiIiIiYfBERERERERGTLyIiIiIiIiZfRERERERETL6IiIiIiIiIyRcRERERERGTLyIiIiIiIiZfRERERERExOSLiIiIiIiIyRdVX2pGPs5cicPJS7HIySt6quqWnJyM0NBQaDSaZ+K9PHXqFGbNmoXbt28/8fWYPXs2bt26xS8oETGe1gF5eXm4fPkycnNzGU9rQW5uLk6ePInExMRH8noLFy7EihUr+KV9RsmEEILNUHsysgugMJXDSmVmsO67zSFY8/sFlN57C5p5OGLLkhFPTd179uyJw4cPY+/evejTp4+0fNu2bUhNTcW4ceOgVCorfbyQkBCcPXsWL7/8Mho2bFjn6hsQEIArV64gLi4Ozs7OKCkpQVFR5f4AMDU1rVJb1KYTJ06gW7duGDduHNatW8cvMRExnj5mn3zyCT766CN88MEH+PTTT5+5eKpTWlqK/Px843/QymSwtLSs1usFBQVh4sSJmDhxItauXVvr9QsMDMThw4cREREBLy8vfrmfMaZsgtoTm5SNwTM2wtrSHMfXTtJbdy0yBat+Ow9zM1NMHd4ODrYWiE/OfqrqX1paqvcvAKSkpGDYsGEAACcnJwwdOrTSx5s4cSKuXbuGmzdvYtmyZXWqrsePH8e5c+cwevRoKVD06tULx48fr9T+NjY2yMrKqhN1ef755+Hj44PNmzfj888/h5ubG7/MRMR4ynj62OKpTqdOnRASElLuvhs3bsSrr75a5dfU3Yd4VPcjpk2bhoMHD+Lrr7/G119/zS84ky+qKWp16b1/DbvdnbwUAwAY3L0ZJg/1f2baxNraGi1atEB6ejqaNGmit+7jjz/Gli1b8N133+HFF1802Lddu3aIj4+Hr69vnavXypUrAQCTJ0+WlnXp0gVmZvpXaI8cOQKNRoMuXbrAwsJCWm5vb1+n6vP6669j9uzZ+Omnn/DBBx/wy0xEjKeMp48tnurExGjf6w4dOsDa2lpvnUwmg7u7+xPx3r388stwcHBAUFAQlixZAnNzc37JmXxRbUvJ0N42d69n+0zVW6lUIjw83Oi669evIzw8HHFxcUbX19UucEVFRdi+fTusrKzwwgsvSMs/++wzg22trKyQl5eHoKCgOt3VoH///pg9ezZ+++03Jl9ExHjKePpY4+nfffvtt2jfvv0T+94pFAoEBgZiy5Yt2L9/PwYNGsQv8jOEA248JiX3rt6ZKeTV2l8IgZycnErdIler1UhPT6/ywBdCCGRmZlb6Nnxubm6ln3GqLUIIZGRkVKscWVlZUKvVVd5v3759yMnJQc+ePQ3udD0MtVqN7Oya7zqTk5NTbp95HW9vb7i7u+P8+fPSlUYiIsbTRxNPi4qKkJOT89jbNicnp1qDfNSleCqEQHp6+kP9fVKVvy3UajUyMjL0uoga069fPwDa5/aIyRfVoi17r2LwjI3Yd1o7gs/3W89h8IyNGPzOJtyKTa9w/wsXLmDQoEFQqVSwsbGBjY0NxowZg8jISINtN27ciA4dOsDc3ByOjo4wNzdH165dsX37doNtk5OT0aBBA7z99tvIzc3FrFmzYGdnB3t7e9jb22Pu3Lnlnki/++47eHp6wtraGiqVCv369UNERES5dejZsyfc3d2RnJwMAPjqq6/g5eWFnTt3AgDmzJkDLy8veHl56fWFXrBgAdzc3KTtygoODpbaxcHBAUqlEi1atMCXX35ptNzdu3eHv78/hBBYsWIFGjduDDs7O6hUKgwfPrxKIx4dO3YMgLYv+sP48MMPUb9+fURGRuK7776Dg4MDbG1tMWbMGGmbtm3bwsPDw2hQXrlyJVxdXY32H8/NzcW8efNQv3592NjYwNLSEl5eXli6dGm5AUJXn8o+t5abm4vVq1dj7969/KITEeNpNeLp4cOH0bFjRyiVStjY2KBVq1bYvXv3I42n8fHxmDJlCpycnGBjYwNra2vUq1cP77zzDlJTU5+IeKpWq7FmzRq88MILUCqVcHR0hIWFBfz9/bF169ZKHyc/Px///Oc/4eTkBAcHB6hUKnTq1AlHjhwx2PbIkSPo0aMHlEqltO3QoUNx/fr1B8ZYXZ0r4/bt21ixYgVCQ0N5AniCsdvhI2ahVMBCqYDpvWFwzRRyWCgVMDGRQWH64Kt2hw8fxoABA1BYWIh27dqhSZMmuH79OjZt2oTTp08jKipK2nbGjBlYvnw5FAoF+vTpg3r16uHatWs4deoUhgwZgi+//BKzZs3SO8HcvXsXly9fRrdu3XD58mW88MILKCkpwZkzZ/DFF1+guLjY4MHchQsXYtGiRTAxMUHPnj1hbm6OQ4cOoWPHjgb9scuePGJjY6W7L1ZWVrCyskJaWhoAwNzcHFZWVtI6nbi4OCQmJiIlJUXveJs3b8bYsWOhVqvRsWNHeHt7IyEhAYcOHcKcOXNw/PhxbNu2DTKZTNonOjoaGRkZmDhxItatW4dWrVqhT58+OHnyJH7//XfcuXMHwcHBkMsrvpJ67tw5AEDLli0f6rNx9+5dJCQkYOnSpfj2229hb28PDw8PvW4jt2/fRlZWFoqKigzaNyEhAcnJybh7967e8ry8PHTv3h0XLlxAmzZtMHHiRKSkpGD79u2YNWsWrl+/LvWxL8vHx0eq32uvvVZh+YOCgvD2229DLpcjKyur2qNOERE9i/F03759GDhwINRqNfz8/ODp6YmTJ09i4MCB8Pb2fiTxNDw8HC+++CKSk5Px3HPPYeDAgcjPz8eBAwfwzTffYNeuXTh9+rTeQBh1MZ4uWrQIn3zyCZydnfHSSy/B2dkZYWFhOH78OEaOHImdO3diwIABFR5n/Pjx+O2339ClSxf06tULaWlp2LFjB5YtW6b3LN2GDRswfvx4KBQKTJgwAS4uLggODsYff/yBI0eO4NSpUwbvYdOmTWFmZobIyEhkZmbCzs6uwvK8//77+PXXX9GxY0ecOXOGJ4EnlaiivOIcEZ1+/Zn8Sc6Jq1Jb3Y7LEH4jVohOY1cbrPt4xWHhN2KF2LQ7tFLHKikpEe7u7gKAWLx4sd66AwcOiN69e0u///777wKAcHJyEqGh+sf/6aefBABhamoqbt26JS2PiooSAAQA4erqKk6dOiWtCwoKEgCEmZmZyMzMlJbfuHFDyOVyYWJiIjZv3ny/3rdvi9atW0vH2717t14ZPDw8BAARFRWlt3zUqFECgPj555+NtsGECRMEALF27VppWWxsrLC0tBQymUxs3LhRb/tLly4Je3t7AUAEBQUZLYOpqalYuXKltPzatWtCpVIZLXd5HBwcBAARHh5e4baWlpYCgLh582a59QMghgwZInJzc4UQQuTk5Ejb2NraCgAiJSXFYP+PPvpIABDvv/++3vKZM2cKAGLUqFGiuLhYWn737l1Rv359AUDv/dbZvHmzACB69OhRqXZYsWKFACAUCoXIy8sTRPRgBcV5z2w8TcqOYTwtE081Go3w9PQUAMT06dOl5bm5uVJsNHZ+r8l4WlpaKtq0aSOVQa1WS+tSU1NF+/btBQAxadKkxxZPXV1dBQAREhLywONs2rRJ/PDDD3oxTwgh5s6dKwCIQYMG6S1fu3atACAmTJggLYuOjhYARMuWLYVGo5GWFxcXi+vXr0u/x8fHC5VKJZRKpTh79qzecf/1r38JAKJPnz5Gy+nt7S0AiKNHj1aqfXTva5cuXXgCfYJV+c7X2eh92H5l1TOZqLZy64zJnT96LK+9e/duxMTEoFGjRpg7d67eul69eqFXr17S71999RUA4L333kOrVq30tp0wYQLWrFmDEydO4Oeff8bHH3+sfyXRwgL79+9H69atpWXjxo3DRx99hDt37khX8HRXejQaDQYOHIiRI0dK23t6euLAgQPw9/c3uAtT01auXIm8vDwMGDDAYHhZPz8/TJ8+Hf/+97/x448/Yvz48Qb7f//993ojKnl7e2PEiBEICgpCcHCw1Ce7PBqNBhkZGQAABweHGqmTt7c3Nm3aJI2GWPZqZVUVFhZizZo1UCgU+Prrr6FQKKR1bm5ueOutt7BgwQJs3boVnTt31ttXVx9j3UyMmThxIhwdHdGwYUOoVCpe2SKqwJX4E9h04atnsu5ezn6Y3u1zxtN78fTYsWOIioqCg4OD9JoAYGlpiQ0bNiAzM7PWu3QfOnQIly5dgqOjI5YsWaJ3p8rR0RGfffYZAgMDsWnTJnz77bd6I/Y+6ng6cOBAvXgGaAcgCQsLg1KpxOjRo43uN2bMGCxZsqTcroBl6coil8thYnL/KR2FQoHmzZtLv//www/Iz8/HzJkz0aFDB71jvPfee1iyZAn279+PrKws2NraPlSc/eqrrzBkyBCD16EnS5Wf+coqSGWrPQanTp0CoH1A80G37ouKinD27FkA0EvKHJgKAAAgAElEQVSIytLNC2LslrWLi4teoAC0w7fqbpenp6cbdA8YPHiw0eM0bdq01tvl6NGjlaprcHCw0QedywZZHV13h7J1fdDJWXdcGxubGqnTrFmzDIJadV28eBF5eXlwd3dHfn4+7ty5o/ejG+Le2DN6uvroAlBFlEolRowYYZDEEVE58bQwnY3AeKoXT/v06WMw0IRcLn/oZ6CqEk8HDx5sNAb17NkTtra2KCwsxOXLlx9rPDUzM4NSqTT4KZsk/V1paakU8woLCyssj7e3N+rXr4/Q0FC8+uqruHPnjtHtTpw4ob2g4OVlEGMTExPh5uYGIQRu3Ljx0HG2fv36ePXVVw2mFqAnC5/5ekLoHlitX79+hduVlJRALpeXO2t9o0aNAMCgr3dFJzoAeg8J68rUoEGDx9YusbGxAAAPD48H1rWgoAC5ubnlPodWUV3LU1xcfP/LZFozX6eaOg4A6c5jZGQkPD09y93OWF11VxXL1pGIiPH02YynMpkMDRs2RFZWVqXrW1vxdNu2bRUONX/x4kUsX74cwcHBuHv3rl4CWJlRJ83MzLBt2zYMGzYMv/zyC7Zs2YK+ffvigw8+QLdu3Qzi7IwZMzBjxgzGWar55Kuetf6X8rWA92CrdHgmGsvK3O6xvbZuRLqKThi69aWlpeVuqzsBPOwwrrqTY3WGk60pujqWN+xv2bLV5DDwOmW7EGRnZ9dY18Oa/tw0btwYixYtKjegGrtbpRvm/u/dJIioZrhY6/9BP9L/HThZ1X8m6q4ys35sr814Wr14WpP1re14qhuIC9B2URw2bBjs7e2RlZVl0D30QTp06ICIiAisXbsW3333HXbv3o09e/ZgyZIlmD17tt7nadasWfD3Nz7Jt42NDTp27Mg4S9VLvpQK/Wc5Gjt4w8nSjS1Z20HaxQWAdgjYB3F2doZMJoMQAjExMXjuuecMttGN4vSgOyGV4ebmVqky1SZXV1dER0cjOjra6HpdXd3c3GplBnlLS0soFAqUlJQgKyur1pMvXYCu7Hwl9erVk4KpLhBVVlZWFgBUagQmIqo6c1P9rl3u9s3RwI7diRhPH188BVBuPNVoNNLdsYetb23G09LSUsycORNqtRp//vknXnrpJWldXFxclZIvXbnefvttTJ8+HatXr8abb76JefPmYdKkSXBwcJBGv/Tx8WGcpUrhPF9PiICAAADAzp07jd6ezsvLk04Suj7mmzdvNthOCIENGzYAAHr37v1QZWrWrBkAYM+ePQbrrl27hkuXLlUtsVcq9epSGbp+8MbqCgA///xzjdT1QXQB+fbt27X+OXB0dAQAhIWF6S3Pz8/Hrl27DLb39/eHmZkZ4uLicOXKlSq9lq4+xv7gICJiPK35eHrw4EGUlJTorcvNzTU6n1htxdO//voLBQUFBut/++035Ofnw8PDQypvXYynSUlJSEpKgkKhMHgm/WEmWpbJZJg6dSr8/f2hVqulQTt0d7SMzZlWEV3yzjjL5IvqoMGDB8PJyQmJiYmYN2+e1C1ArVZjxYoVaNiwodRl4K233gIAfPrpp9i/f790DI1Gg/nz5+Pq1atwd3fHqFGjHqpMuv137tyJTZs2SctPnTqFwMBA6YpOZen6upctc0UPxU6dOhVyuRz79u3D4sWL9dZt27YNP/zwA0xNTfGPf/yj1t6btm3bAgCuXr1a658DXXD85JNPkJubC0Db37xv374ICQkx2N7Kygpjx46FEAJTpkyRrlqWDURbtmwxOgmmrj5t2rSpVNmOHj0KNzc3dOnSpdyJm4mIGE8N9ejRAy4uLsjIyMDMmTOl14+Pj0ffvn1x8eLFWo+nAwcOhLu7OzIzMzFmzBi9BCw8PBzvvfceABiMEFnX4qmdnR3MzMykedV07t69azAq8oPs3LkTv/zyi148u3v3LiIjIyGTydC4cWMAwOTJk6FQKLBt2zZ8//33BseJiIgwmjzHx8cjMzMTKpWq0snskiVL4OzsrDevHDH5olpiYWGB1atXw9TUFEuXLoW9vT38/f3h5OSEt956C66urtIkwlOmTMHQoUORm5uLPn36wNfXFz179kSDBg2wePFiODg44Ndff33o4cDbtm2LN998E0IIjBkzBv7+/mjTpg26du0KOzs7TJo0qUrHGzlyJGQyGX777Tc0a9YMTZo0wYIFCx64j4+PD7744gsAwIcffggPDw/07NkTzZs3x7Bhw6BWq/Hdd99VOoGoDt1Dv1UNjtXx/vvvQ6VS4dSpU2jYsCHat2+PJk2aIDQ0FB988IHRfb744gu0bt0awcHBaNGiBQIDAzF8+HA8//zzcHBwwKhRo4wOu6u7c9muXbtKle3cuXNITEzE6dOnq5x4ExE9y/FUqVTi66+/hkwmw4oVK9CkSRN07txZOr9XFAtrIp6amZlh/fr1sLKywh9//IEGDRrgxRdfRPv27dGqVStER0dj/PjxUkJaV+OphYUFZs6cCQAIDAzEyJEjMXLkSDRv3hzp6elSt9OKXL16Fa+++io8PDwwdOhQDB06FN7e3sjMzMTbb78tDdjSpEkTfPPNN5DJZHjzzTfRokULDBs2DAMGDEDTpk3RokULvekD/h5j27Rp88BRGss6duwYUlNTcfDgQX6RmXyRMdaWZmjl5YK23obPxD3X0AHNPBzRwKXyDx2//PLLOHbsGAYPHgxzc3PcvHkT7u7uWLhwod7VHRMTE/z6669YvXo1unXrhri4OAQHB8PW1hYzZ85EWFiY1O1CKqu1Ndq1a1fu3BGtW7eGn5+fwUhMy5cvx7Jly+Dj44ObN28iOzsb8+bNQ0hICLp37w4/Pz/puSOdgIAAtGvXzmDkQT8/P2zduhXt27dHeno65HI5evToIa339vaGr68v3N3d9fZ79913cejQIQwZMgTFxcU4c+YM8vLyMHr0aAQHB2PKlCkG9SmvDIC2L7uvry9atGhRqfdF162h7BXG8nTr1g0dOnQw+nBtefUrq2XLljh8+DB69eoFIQSio6MxfPhwXL58GcOGDYOvr6/BFTR7e3ucPn0an376Kby9vXHu3Dns3bsX8fHx6NevH9atWyfNNaOTnp6OCxcuwMbGxmBdeV544QX4+vpiyJAh7L9ORIynVYyno0aNwq5du9CtWzekpaXh9u3beOWVV3D58mWMHDkSfn5+BlO41HQ87datGy5evIj/+7//g52dHYKDgxEdHY1evXphy5YtCAoKkhLTxxFPu3btivbt28PJyemBx/n000/xv//9D15eXtizZw/Onj2LqVOn4ty5cwgMDDR4bxo1agRfX1/4+PhIy9566y18/PHHcHFxwcGDB3Hy5En4+vpi48aNWLZsmd7+06ZNw4kTJzBixAjk5uZi9+7dCAkJgYODA+bOnYs1a9YYlFFXR2PT9TyofVq2bIkRI0bwpPAEk4nKjLdZNlOPP46gs/+Rfp/fdy0H3KBnnp+fH65cuYLQ0FCDiTifRFu2bMGoUaPw2muvYf369XyDiWrB9aTzWHlyvvT7nJ7fcsANYjx9yuJpeVq2bInw8HDcuHHjkcyLSnUH73wR1YAJEyYAAH755Zenoj66Z/jGjx/PN5eIiBhPa9CVK1cQHh6Ozp07M/Fi8kVE1TFlyhTY2tpi7dq1D5wj5UmQmJiIHTt2wM/PD3369OGbS0REjKc1aNWqVQBqd/ASYvJF9FSztrbGnDlzkJWVhXPnzj3Rddm1axeUSmWVH/AmIiJiPK3Y7t27ERAQgCFDhvANfwbxmS8iIqLHgM98ERE9e3jni4iIiIiIiMkXERERERERky8iIiIiIiJi8kVERERERMTki4iIiIiIiMkXERERERERMfkieqw0hbkQmhI2BBEREeMpEZMvqry04L9werwLon7+sNL7FGcm4cyk+rj8YfdHWtaodR/g9HgXpIX89VjaKn77/xAyvQXOTnbHmdcbIWHvqjr7vp5/xxfnZrSC0Kj5ISciegSqExsZTxlPickXPWEi/jcBl+f30FsWvfkTXJwTgOKMhAr31xTmQGjU0ORlVfo1RUkRSosLoc7LfKR11eRna8takPPok9SzfyJ68yfQ5GXBqctw2PsFoigtrs5+LorS4lCcfheiVFPrr5Vy/BdcnBOAC7MDAFHKLyURPZHid3yNC7MDUBB/Q1qWfm4HLsxqj/Tzu2olNjKeMp6WlXPrHEI/7ovz77RG7u2L/FI+pUzZBE+2zCsHobB10VuWfe0EChIiIVfZsoFqKsE49SsAwGP0R3Dr9wYbBEBRaiwi17yLzNDD9/+QKC2FTM5rOkT05MkOP4nCxEiYKC3v/zEceQGFSbchM+GfS4yntZgMF+UjZst/kLB3pXQRU5OfzYZ5SvGvpCdYSXYKNEX5MHfxMPijWGHtCLm5io1UQwqTogAAVl4BbAwASYd/xqX3OiPr2nG49hjHBiGiJ/88nxINmakZzB3c9OIpAJg7u7OBGE9rRc7NEFx6vwsS9qyAfZveMHOoz0Zh8kV19gSWHAMAUDrfT76EuhjFWckwd2rEBqpBpcWFAAC5kgktAMT/tQxWz7WF36fH4D5qIRuEiJ54RSkx2tgpMymTfGm7wzGmMp7WluSj6yGTmcB7ziZ4z9kEU5UNG+Upx/voAPZf3wQvZ194Ovo8EeXNj7uOxH2rUZiqTb5yoy4j8sdZ2pNaUQEgBEqyUxH54yy4dh8LqyZtK3VcUapB8uGfkXr2T6hz02Hh5gW3vtNg3axDFZPCO0g6uBY5N89BnZ8FUyt72DTriHq9J8PM3s140EuNRcK+1ci9dQ6lxYVQujWBc9eRsG/Tu8LXy7lxFgn7f4DCxgme4z6tVBmzI04j5dgm5MeFo7S4CGb29WDnFwjXHuNhYqaUtkvYuxL5MVdRkp0CAIj99TOYWtrCRGkNz3H/qfB1NIW5SDr4EzJDD6MkJx1m9q5waNsfzt1Gw0RhXq0ylZV+fheSj25EUUoMFLbOcOn+Gpw6D3tgmdS56UjYtxpZ105AnZcJM1tn2LfpA9dekwzKVB7vub/Aws0LAFCSk8aTCBE9kTRF+YjZ/Ak0hXkoLS6EpjBHiqfaeBsOmdwUdzb+EzbNOsH5+ZGVPnbmlUNIOhSEwqQoKOxc4Nx1ZJX2Zzx9NuJpwyGz4Tnhv5Xenph8PRUi08Kw61oQPB19MKDleHg5+9Xp8hYm3UbKyS0oLSkGABTEX0dhwk0pgQKA4qxkpJ7YAkv3VpVKvtR5GQhbNAg5N85CrrSC0JQgLzoUqWf/RNM3V8C564hKlS319O+4tXI6SkuKIFdawdTaAQUJt5AdfhIJe1eixawNsPV5QT9AhR5GxNJx0BTlw8TMAiYKc+RGXULqqd/QaPg8NBr2Xrmvlxt1Cdc+fwWawjx4jl9ciQxTIGr9fCTs+R4AoLBxhonCDHmxV5Fx+QAS96+Gz4d/Srf908/vRtbVY9LuupGhTMws4Dl2kd4VUmMB8OqnL6MwKQoyuQKmlnbIu3MZGRf3IfX07/CZ/2e1yqRzZ+NC3N25XHsFUWWD/PjryAw9jIxL+8stU96dK7j2+SsoyU6F0qUxFDZOyLl1HpmhR5B8bBN8FmyHaSWeFdQlXkRET7LSwjykHN+M0hLt3Rh1TgZST2zRS85kJnKkntgCTUFO5ZInUYrbP72HxP1rYKIwh8zUDHkxYci8cgjZN86gyetfMZ4ynkrYpZXJ1zMtKu0qvj3+fp1PwhzaDUDHH2Jxe+0cJB74Ea3+uVNKsJKPbsCtVTPgOfY/qNd7cqWPmX5hD0ytHNDiH+vg0H4QSkuKELnmXaSc2IzbP82FfZveMLW0e+Ax8mLCcHPFmwAEmkxeCpfur0EmN4UmPxtR6+cj+egG3PhmMvy/DJGOVZKThhvfTIamKB/uIxegwaAZkMkVKEyMRPTmRci7c+WBSWj4f0dpA8W4/8Ct77QK65l44Eck7PkeZnauaPb2Gth4d713rCjc+HYKciMv4Ob30+Hz4TYAgPdcbVC+8uGLKEyJRuuP98KiQTOYmJo9MFAAwM3vpqEwKQoO7QfBa8oymFrZQ52bgbu7VyDxwI/VLhMAZF07jrs7l0NmIofXtG/h/PxIaIryEb99KeL+NB7YS4sLcH3pOJRkp8Jz/GKpvTRF+bj53TSkn9uJ6E0fo8nkpTwZENEzQWHrjA6ro5B65g/c+OZ1uI+cjwaD3tGeg5Pv4MI/2sIhYBCav7O20scsSotH0sG1cB+5APUHTIeJqRkSD/yA2z+9h6SDP8Gp48sGSRPjKeMpMfkqV05Rht7vF+OOwMrsyR5VL6sgxWgS1tylLfp6v1ZnuyNKDwI7Nrx/Ak2O1i5zalilY8lVNmi1YDtUjVpqr0QpzOE19WtkhR1BcWYS0s/vgssLYx54jLhtX0BoSuDWdypce07QO7bXlGXIvn763l27rXDrMwUAkHR4HdR5mbBp0QUNh9zv6qGs1wTNZ/4ETVG+0dcqyUzGtcXDUZKdog0U/d6s+CKdRo24P74AAHhO/K90UgYApasnmr+zFuff9UfW1aPIj70GVaOWMFGYa7sCmGgDg9zCqlJXsnJuhiA74gzkSks0feNbyC2stV84K3u4j/gQDV56t9plAoDEfWsAAPX6TJWuxMrNVXAfMR8KWxdEBb1vUKaU45tRlBoLx4DBeoFVbq5Ck9e/Qsal/Ug5sRme4z9j9wcieqYYi6dFKdEGyyrLa+o3cO42Wvq9Xu//Q9a140gL/gspxzdXmHwxnjKeEpMvSVpeot7vu64GPbWNE5F8ARHJF+rsnbCilBiYKMyhsHUuE0Bi7iVfVXs42LHdQOlEpCOTK2Dfth+SDgUhPza8gjNxKTKvHAIAuPYYb7heZgLn50cg9rfPkX3thBQsdF0QyuvWaGzERk1+Nq59/goKU6IrHSgAbReB4swkKKwd4dh+oMF6c6dGsG3RBVnhJ5B17YRBe1Qpob9XL/u2/aRAYaxe1S1TdsTpe+32isE+bn2mGA0WGffeH/t2/QzWKWydYe7UCIWJkShMuAWVuw/PjkT0DCVfhrGzMCW2WvHU3KmRXuIlxdmAl5AW/Bfy4xhPGU+JyVcVOFs+e0NgRqVdRVDwYkzq9E88V4fughWlxsLMoQEgk90PFsnVv1JnjG4kxeL0uw/crjgzGZrCXO0+9ZoYP5brc9pyp8eXqcO9kaSq0Oc5fsc3KM5IgEWDZqjXZ2ql9ytMun2vHI3L7eKgrOeJrPATFda3Mu8NACid3Gu8TKXFhSjJTtWuc2lchWRd+9mI3vQxYn/9zMh7mAQAUBdwbhEietaSL12iZeTOl1PNxFPdtDBlYyDjKeMpMfmqkKX5szVxr6WZDZ5v8hJe9BoGpeLxD4sq1MU4O6WxNFSrJuk2Tr3mYLDd2SmNYevTXa9fc3XoRgXSvV55SosLAAAyuam2//YDjoXSUoP9qjInWf0B05GwdyUK4m8gZvMn8Hj1X5XaT3OvDibmlg+or4W2nR9yJnvdw9smFdSrOmUSpWppnawK3Rl0ZbL0aA3zcuYRkVtYw9KjNc+MRPRMuPrpy3qDQJx72/AC6/WvxsLEzAIdVt1+qC5kjKeMp0TVSr5au3XGfwb/+lQ1wtozi3Ar5bLeMitzO/Rs9gq6eg6CmamyzpRVZmqG+v3fQsHdm0gL+QuWHq2lfs1Co0bi/jUws3OFY6ehUDVs8dCvV5yh7WaqsHF88Afp3gO/QqNGSXaqXldI6Vj3rjSZ2de7v5/KBsXpd6WrRJX60FrZofnMnxD6r/6I3/ENrJt2gIORLgaGZbS9V6eEcrcpStOV0e2h2k1uoZ2no6J6VadMcqUVTMwsUFpcAHV2KuSVvMqpe4+cnx9V6dEriYieZs5dR0DV0BsJe1dCYe0IpzLnxtTTv6EkKwVufadqRw4sJxGqejx1YjxlPKVnWJUnWZabmEKlsHqqfuQm93NQSzMb9PUei/l9fkSPpq/UqcRLx33kAjh2eAkA4NhxCDzHfQrPcZ+i/oC3tImjVwA8x31qvK94OQqTo4xencoMPaxtl8Z+FZzA7aWhWzMuGx+aNePiPgCAdfNO0jJdX+js66eq1AZWz/nDc+y/AQA3V06Xuhs8iO4KVEHCLRTe6zKgd9WsKB/Z4ScAADZlylgdlrp63etLXtNl0nWDybp+0mCf/Jir5ZSpFQAgN/ICz3xERABcur8mDdhg2bi1FE89x30KE1MzmFrawXP8Z/AY/ZFeF/8HUednSXNZ6cXTK7p46st4ynhKTL5Il3Qt6PsT+nmPrRNdDB9E6gNd5ipNUUrMvWWNqny87IgzuLniTZSWFEnLUk/9irzoUMjkikpdCdNd/Yn74yuDPt4Zl/YjM/QwTMws4Pz8KGm5LolMPrrB4ISffm4Hbq+dU+7r1ev9f3DqPAya/GxE/G9ihV05lC6NYe3VDhACd36er1dXAIj7/b9Q52XCsrFvpSemLo9D2/6QyRXIj7mK1DP6XT/zY6/h6uKhD1Um+zZ9AAB3dyyXng3QBYprn79itExO9x4mTjq8DnnRoQbrRakGRWlxPBkQ0TPl/vNe9+Op0KhRnJFYrTmYNPnZuLp4mN4dmPz4CKQc26g9F3d8mfGU8ZSeYZznC8CLXkPxnGOrOnmXq9xgce9LXTZYSAGkGsHC6jl/pJ76Fbm3zsGh/QCU5KQj9dRvAIAGg2fqdW0oT8Mhs5AWsgOFiZG4vKAHnDoNhamVA/JjryItZCcgk+G5SUtgZud6P1i0HwRb7+eRFX4Cl+f3gL1fIBS2zsi5GYLc2xdh79/3ga/Z5P+WIS86FHkxYbi9dg68pi1/4PaeE5cg7JOBSD+/C1cW9IRD236A3BRZYUeQczMEpirbCo9RGQo7FzQc8g/E/v5f3Fg+BSnHNkHp1hSFibeQeeWQ1O+8umWqP/BtJB/bhPy4cIR+1AcObfujKCMBaWe2wdypISwsrFGQcEtvH5vmneHS/TUkH92A0I/6wLnbaKgatkBpSREKEyORcekAlC4eaLVwV4X1i/vjS+TevqgNMupiaXnE/yZorw7LZGg85hMoXT15giGiOp58GQ5UUZQeD1Gq0YuxlWXRoBmKku/g4txOcOo8DCYKJVJP/Qp1fhZsWnSRkiTGU8ZTAEg/vwvJRzcafB5jflsMxb7VAACX7mPg0G4Av6xMvp4eLVzbP3FlLs5IBGQyafQk7bKEe1d/Kv8Hr0yu0F71CnwdJmYWiPr5A9zd9R0AQK60RIOhc9DwZf2rZTJTxb1/9fu/yy2s0fqjXbizfgHSgrcjYe8qaZ2leyt4jP4Idn69/lYAGVrM2YiodR8g5eRW6aqWicIczl1HwGPMJwavW7bfvVxpieYzgxD6cV8kH9sI526jYNuyW/lJpmcbtP5oF6J+no/siNPSkL8yEzns/fug8Wv/hoWbl2E76eosr3yf/0bD58HE3BLx25ci4/IB4PIBQCaDTfPOaFymXtUpk5mdK3w+3IZbK99GXnQo8uOuQ2Yih2Onl/HchM8RsWwSCpOiIPtbNxmvKctgUb8p7u78FkmH7k8TITORw7Kxr9R1tSJZ147rPaQuBZELu+8HtH5vMPkiojqvJPNe7CxzvipO1y1rXIV4qv2Tyuq5tqj/1ircWjVDOs/KTORw6jIcTSZ9qdd9kfGU8TQ/5irSzxsmaTk3gu+/5419mXw9RWRCCMFmePKUlhRBaEogV1pJy0SpBprC3EpNWliWOi+zzAO+JciPuw7IZLBwa1ruyE6awlzI5Ipy15cWF6Aw8TZK1cUwc6ivd3WuPJrCPBQmRgImJrCo10Tvapa2bGpt/e6VVW+duhiaonyj68qtd276vbuFMihdGkOusqlSe1eW0KhRkHALpcUFULp4wNTKoUbKpFOYEg11TrresYW6GKXqEsiV5Yz6JAQKk6NQkpMBudIS5k6Nyt+WiGrF9aTzWHlyvvT7nJ7fooFdEzbMIyZKNdAU5BjED3VeJuQW1pCZyCt9LE1BDkzMLKRErCDhFjQFOVC6NIaplT3jKeMpEZMvIiIiJl9ERPQocMANIiIiIiIiJl9ERERERERMvoiIiIiIiIjJFxEREREREZMvIiIiIiIiJl9ERERERETE5IuIiIiIiIjJFxERERERETH5IiIiIiIiYvJFRERERETE5IuIiIiIiIiYfBERERERETH5IiIiIiIiYvJFRERERERETL6IiIiIiIiYfBERERERERGTLyIiIiIiIiZfRERERERETL6IiIiIiIiIyRcRERERERGTLyIiIiIiImLyRURERERExOSLiIiIiIiIyRcREREREREx+SIiIiIiImLyRURERERExOSLiIiIiIiImHwREREREREx+SIiIiIiIiImX0REREREREy+iIiIiIiImHwRERERERERky8iIiIiIiImX0RERERERMTki4iIiIiIiMkXERERERERky8iIiIiIiJi8kVERERERMTki4iIiIiIiMkXERERERERMfkiIiIiIiJi8kX0uGgKcyE0JWwIti8REfF8z/YlJl/0ZMu7cwXB07wQsWxinSpX/Pb/IWR6C5yd7I4zrzdCwt5VT1zbpgX/hdPjXRD184eP5fULEyNRkpn81LYvERHjKePpo1CSmYzCxEjGU2LyVWdObDu+xoXZASiIvyEtSz+3AxdmtUf6+V11uuzqgmyoc9NRnB5fd06yZ/9E9OZPoMnLglOX4bD3C0RRWtwT97nQFOZAaNTQ5GU98tfODD2MC7MDcP5dP2iK8p/K9iUixlPGU8bTWn/tghycf9cPF2YHIOvqUcZTqpApm6D2ZYefRGFiJEyUltKynMgLKEy6DZkJ34KqSjn1KwDAY/RHcOv3hv5JMD8bMVv/A3Nnd9QfMP2xljPvzhUkHQqCXZtAOLTtX6faUJRqqtW+Dyvujy9QkpMOj1ELYWKmfLiAV4fe68f6RwfbgeqQqLSraGTXFKZyM8ZTxsItKIMAABYYSURBVNNn4zwnBERp6b3/M54ynlaMd74egcKUaMhMzWDu4CYtK0qNBQCYO7uzgaranklRAAArrwCDdcWZSUjYtxqJB3587OXMiTyPxINrkXF+d51rQ3u/QLT572m0XXoBcnNVpdv3YSXsW42EPd9DnZv+0MeqS+/148R2oLrk6K0/8K8943HwxhaUaIoZTxlPn/rznFxlg7ZLL8D/v2dg26o74ynjaYV4megRKEqJgblTI0BmUiZYaG87mzs1YgNVUWlxofaEp1SxMR6CqkFzti8R1bjcokzsCPsRR27+jhebDsMLTV6GoobuhDGeMp7WReaODdi+xOTrcdMU5SNm8yfQFOahtLgQmsIcRP44S1qfHxcOmdwUdzb+EzbNOsH5+ZEVB53UWCTsW43cW+dQWlwIpVsTOHcdCfs2vfU3FKVIOfUb0s/tQGFyDGQyGZSunnDs9DIc2w8CZDKDYwtNCRIP/Ij087uhzkmHRf2mlbrlmh93HYkHfkBe1CWUlhRD6dIYTl1fgWPA4Eq3lTo3HSkntyLr6nEUpcZCZiKHRYPmcO0xDjYtukjbJexdifyYqyjJTgEAxP76GUwtbWGitEbjMf9C1Lp5KMlOBQCUZKcicvU7AACZwhye4z+DzEQuHSvz8kEkn/gFBXdvQWZiAkt3H7gGvg4rzzb672NBDiJ/nA2bFp3h+uI4xP3xBdIv7IHC2hFN/u9/RoN9YWIk4nd8jfx7zyRkR5yRymLR0Bv1+79ppP3VSDr0E1LP/glNQQ5UjVqiwaB3oGrYolbaXVOQg9s/vQdzxwZwH7mgwvb1HPefBx5PlGqQfGQ9Us/8gZLsFJjZucLOLxD1Al+HicIcd3d9i4L4CGgKcgAAdzZ9BLmZBSCTocHgd6F09QQAFCREIuXkFuTcDEZJVgrkFlaweq4d3PpOgdKlsdRWtf1e1+s1CWnB25F0eB1KstOgatgCDQbPlN6P7IjTSNj9PQqTomDu4oH6/d6AjXfXcj/fCftWI+vaCajzMmFm6wz7Nn3g2msSTBTmetumHP8FGVcOwnPsp4BMhrs7v0HWtROATAZb765oMPhdmFrZV6sdqA7+4Sv0u/8WqvORX5L7ZMe+0hKDJOx45J/o1WwkOjfuX63uiIynz248rc55rqrxtCrn6PLEbF6EovS7eG7ifyG3sGY8ZTx9IJkQQjAE1rySrBRcnNMBpSWFKC0pgkyugImpQi+YyEzkMFGYw75dfzSbvvqBx8sMPYyIpeOgKcqHiZkFTBTmUOdlAgAaDZ+HRsPe0x43PxvhX7yK7IjTgEwGc4cGKC0plD5QDu0GoPnMtZDJFXpXZq59Nly7DwBTK/t7x5bBqfMwpJ76FdZe7dD6X/v1ypR8fBMiV8+EKNXA0r2VNnjER0Coi+HS7VV4vfFtJYJN+P+3d+bhTZTbH/9OJnvSpFtKW7pBaSldwIIbKPJDERBQuCII4vIT9CJXXNi87uByVXC7iFeu+qBcVBCvuOO9qD8QcEFBkFLK2tI00C1d06ZNMpnM749JhqZJ21hS1vN5Hh6eZzKZvnPed95vzpnznhf7lowF39oEVqWFMjYJXKMV7uZ6gGGQMfsfMA2fBgDY/9wkNO7fFnANmVKDS1Yewq939wm6lolh5bhslUV8MAUBxavmoWrLGsgUKujSBoKz1cJRfQwAg353L0fciBl+UdbfHrwI0YOvA8PKUbvzS+mz7Ic3IDJvZGBfFWxG0dKbgt6vof/lyH1SXBRevW0tjr45F1H5Y+BuqkXT0V2QKTXwuFq9kTId8hb/F9qUnLDb3XdfqthkDFm+t0v7Xv6OxS/S3P7HSdGyqWgo2AxlZC+o49PhtJrhrD2Bvv/7IuKvnYV9i0ej6eiuoF/PefRTGHNGiPZ4635A8EAREQO5IQZOqwUeVytYtR55T30DbVIWeGcLfr0rtQf7eizkETGo3voBZEo1PJwTEASpDbW/fgHLJ0vFZ0jwQODdYGQsBjz0UcB4sJcWoGjpTeBsNVDHpUFhiEWLVzR1qXnIefwLyLVG6fyj/7wX1dvXIf2u5Sj76BlwthqwKq1UFEWTmIGBz26RjoVkB+Ks5duDH+LrotUXzP3qVZHdehNGenrh6mmo81x39fSPztEd8dsDg+CssWDI33+HypRCekp6Ss7XmaRmx2c4vGImUqcvQe8JohftqC7F7nmDEXPZRPS//92uhaepFnsWXAK3vQEpUx9H7wn3gWEVcFQWw7z+GQi8G1nz3wcAHHrtTtT+8jkiMi9DxpyVUnSjcf82HH79LnC2GqRMeRRJkxZK17dseAGWT5ZBYTAh+5EN0KXkwlVXjpJ3F6Fut7heqb1Y2MsKUfD4NWDVOmTNe0+KUjiqS3Fg2VS0VhxF5r1vI3bY5E7vrXH/Vhz/9GUkXn8/IvNGipEFQYDlk6WwfLIMqpgkDHmtQBQ1zgkP50DBo/8Dh9WMvCWboOmdCZlcCZlSA97ZgtYTh1DwxDVQm1Ix8LnvvQ+OQlrXVPntKpSsXgRdSi6yFq6TUgUaC7fiwMvTAUFA/ou/SGsHfBOITKGCh3MiadICxI+aCUfVMWiTsyHXRQaP1LbYULX1A5S+/xhMV96MPne8IE68CrX0APvEQhToaPSbvQLR+WPBNVpxcPntaDr8K6IHj0XWgrVht3sw56sr+3ZE3e7/4ODLMxA58GoMWPghGFYu2ZTVRECfPli69p4Fl4KzWXHRsp+hjIoHAwas1iCOw0+WwVF1DInj/gJdap5oR0czDq+Yhfrfv4Vp+DRk3POGJMg91deMjAUYBmm3PI340XfDbW/AwZdvQdORnVAYYsHZatB7wn1InvwIBMGD4rfmombHZ9ClDcKgv21p8yOsFXsWXQ5njQV9bn8eCWNmS20/8sZs1O3aiF5X34H0Wa8GiAUjY6FNyUHGPW9Am5yN5pI9OPDSNHCNVqTNeBaJ4/4Ssh2Is5cfi7/Cx3tfv+Du26iJwfQhC9A/bjDpKelp13oaQlu6o6fdmaNDdb5IT0lPO4MKbvQw0kLgmKQ2P3zNAcc6o2rLGrjtDTBkDUPSxPlSlE0dn47+D6xGxr1veaNeB1H7y+dg5Er0f2C1JBQAYMy5CmkznvGmG7wNCB7p9Xbld6Jgpd/1qhRxU0YnImv+e4i9fFLQNp344u8QeA7Jkx/2ez2sjktD6rQnxXZ//17XIpwzAjmPf4GoQaNOvtJlGCRNWgiZQgVn7XEpyihTqMSohkwctqxGD7nWKE1krEoLVq33jmwZ5Foj5FrjyYdG8OD456+IEcA5K/1ytI25I9Br5B3wcE5Yf1gf0E4P50TC2DlImfIYlFEJMGQN61AoAHEBrq/6kEyukNoSLHIi10ch98mNYkVEhoEiMg59bntenNiKtgNt4iPhsnvQyaAL+3aEo7JEjGr3HSwJhc+m+vTB/tf2ZujINRFi33iFAgCSb3wIGXNWSkIhRiv16H3DPPEHSsmek8d7sK8FwYOMOf9Ewth7wMhYKCJikDp9ifjDzVaDlJufQOr0pyBTqsGqtEi77XmAYWA3F4hRPS/W7evhrLEg5pLrJaHwtT195itg5EpYf1jv9x0furSByH1iI7TJ2V7b5iNx3FzvmNgWuh2Is5oYfcIFd88JhjSMz7kTmaZ80lPS09D09A/Mc39ET09ljiY9JT09FWjNV487X2WiMLTJZXZYLQHHOo9miYPDdMWUDicmAKj//RsAQHT+GCgjewUK/WWTULxqHjibFS3HD0KbnI3WiqPgbFawWgOiLhrd7r2oDL1GzUTNjs8CrtWwT4xIRA8JLKGuT79YfLhLC7ptN4aVQxkZD4fVDL61CQpD7Cn3RYvlAFz1FVCZUgJSD3zRyIpNQHPpviATerQkguEmOn9sQPELfZ+LwLAK8A47eEczWE3EabF7d/BNaFWb/4XIgSNh6D80rNdXxYo/qtze/Pae7mtVTBJih94Y0B8+eo+/z+8zZWQvKCJiwdmscNWVS/n29QWbAQBRQ8YG/A2F0QRVbDIclcVwVBwNaGP8tbPAtimlDQARGWK1LFd9JU2s5wkmfW9MyJ15Xt3Tb2WbUWErDTieaOyLsQNuRW7iUDBgSE9JT8+4np7KHE16SnpKztdZ7XxZ/Aa8X6QuNinEa3grOXVRRtcXMVHH9+0wEqOMSoSjqgTOunJok7P9IoltoyydwbfYxBxyAIXPTECQUIf4cLfYQjOSIKCh8Hs0Fn4PZ105uIZqeNwuuBp8D0V4MmMdXrtzDVX47YFBgdE4b1UivjWw3axad3rXzzAMZCoN+BYOHrcLbE/YPUxE5o1E3FW3oHrbWhQ+PR6G/pcjftRMxFw2KeQx1bYPan/9HM3Fu+GqrwRnq4GHc/jdX0/3ddBnR6kBI2M73B+N1ejB2awn29rmOTevWwLLxy8EfMfVUOUVwdDa4BMPwe2iifU8IUYXj2syp55X92SpP+LnfCUY0jAy8yZcnHwNGIY5pWuTnpKehktPe2KOJj0lPSXn6wzTfrHlrrmB0YKDr9wKmVKDS98q6XQikhaMdvHq0zdQOztP2ojPO+gF3i0JScgPdJvXusbs4WBkwbNXNYmZIQmPb0GzTKmGLiUXCkMsWCYi7JXafO1mNRGIbLcXR9tJOuos2xC5J+webvrNfh1R+WNQvnEFbId2wHZoB3RfvuaXG95ldK1sP4pevBmuunIoDLHQJGZCro/ym4DPpb72tVuXmgdVdGIHIhPhlxZCEOcL4XS6SE9JTy+kOZr09PzXU3K+egjTFVOgTRqAik1vQhERg9g2KQ41P28A12hFwpg/i5WW5J1XfZJrDXDVlUuefYfneXOmO3uN6qorBwAoo+LF/41xYkTDmwceUsRAaxDL6woCUqaKOdvdpezj52A79DMi80Yi875Vfnnfu+cPAe/doDAsg917bVZjQPrdr51zYyqcdu8JYi69HjGXXo/mkj0oeWcBmo/9jpJ35mPAovUhff/wynvgqitH0sT5SJ78V2kthquuHLvuyz3n+trXBtOVN3eY4kQQ55/TlYohySNPKb2Q9JT09EKfo0lPz289pYIbPUTciBnofcODoqeeloc+tz0n/ZPJlZDrItHn9heQOm1x0H1C2uLLX7Ud/KmL88QHqqFgc9BXyk1HdsJtbwCriZDyin158s4ai5Qy4Rc9MRcGDhqFCpqEfgCA5uLfTslOvmhm7xse7HTBbagwrBjdC/Yq2bf42VljAddo7fExwMjE2IbHzYXnYQ2j3XsSfd98ZC1cJ/Zv0Q8d2MS/f7imWrSU7QfDypF840N+pZvPhb4Ohq8NzcW7e3acdWIHgjjdjBlwK/ISh4XN8SI9JT3tqXnudM3RpKekp+R8nUZO5qefzC0XeDdc9ZVd5pv7R0BuAABUb/0AjqoSv8/qdn2FknfFMrcxF4+HTKmBw2rGia/8oxMezgnzh095hexW6WFUGE3S4sf2ebQ1P21A6drgi2JNw8R9rCwbloFrqg34nHfYQ4r+SdGYdtHF6u3r4LSW/WGbK7yRR1dDlZRHf/IzE4w5V0HgOZjXLZFSRNriaqjqVmWj4G0xiYJ7/EDYxlS47B5ObAd/Au+w+7ejtdkbKdMH7Z/2NpF5x4HAu/3aL3h4WD576azv62DEXiH2VdWWNbCbAxciCx4eztrjYRhnHduBIEhPSU/PDz0N/zx3uuZo0lPS0/ZQ2mGPikXgwl5n3QkIHt5PQLoUi4snwDjgSjQe+AF7HxuJqEGjoDCa0HRkJ5pL9iAqf4zYmfoopM14BiXvLoT5w6fQWLQdEf0uAe9oRt3Or+CwmqFNyUHKlEf8rp8y9XEULZuC6u3r4Gqsgr5vPuzH9qJ+73eIHnydtDdJWxLHz0XNjk9hLyvE3oevhGn4NCijEsC32mA3F6Kh4P+8pWQf7dyZuHIq7OZ9OLbmEThrLFBG9kL93u9Q+8vn0h4QfwRWrYcubRDspXux/7lJMOZcBXtpAQYsWg+ZUo0+t7+AfYtHo3r7Otgt+xFzyQSwGgM4mxVNR3bCduBHZD/8MYw5I065/yP6DYFMqYa9tAAHXpoOdVwa+NYm9Jvd/X19wmX3cGLZsBQtliLEDpsMTWIm3M31qNqyBgAQf82dfucas6+AvXQvilfNQ+P+H+CssSBx3BwY+g9FVP4Y1O/ZhKKlUxA/SqwAV71tLVosRQGVis62vg6Gof9QxI2YgeqtH2Df4tEwDZ8GbVIWPJwTjspi1P/+HdRxqdKm292lKzsQBOkp6em5rqc9Mc+drjma9JT0lJyv0wjXUAEAUqlMAHDV+Y6lhX4hhkHWwrU4tuYRWH/8N2p2fCpGNxQqmK6YgtRbnpZOjR81E3J9FMo++hsaCjaLKRMQK7vEXzsLqVOfOLmPgZfIgVcj8963cez9R6XvsGo9kif/FUk3zMOOmUlgWP88eplSg9wnv4Z53WJYf/w3Tny5vM1nahizhyN26J+6diaumwOu0YqKTW+i7KNnAYilRjPmrERz8W5UfPN2wCtzRq7wRvmC5/an3/UqDi+/E3bzPtjN+6AwmqRXydqkLOQ99Q1K338MDYVb/cr3yvXRMA2fBn2f/MC/1cU6gqARFIMJ6bNeRck7C1C/ZxMAIPrik9WsfGsTfH+jPTK5Ejwj86twFC67d3ZfXdk3oA/H3YvStU+gYtNbfrZMnb4EvcfP9Ts3aeJ82M2FaNy/DRX/XQmGVSBporjvSL8/r0Dxqnmo27URJasXAQB0aYOQ++TXOPrmXHi8u9Kfqb5m5AqAlwVdEO/7bvv1Jv3uXg5NYgbKN/4DVZv/dfJ8GQtd2kBpc8eurtO2XcHa15kdCIL0lPT0XNfTrtrSHT3tzhzdsaYqAYYJ+Pukp6SnQe9fEASBpvWeQfDw4FubAnKvfXni3ak+xDvscFQWAzIZNPHpnW7Y56w9Dq6hGjKVFpr4vl1OeALvRmvFUQg8B01ChuTl884WMDK2wwpOgtuF1soS8A475LpIqONSu1US1VEtLgbWJGaKZUh5NzycI0DcPJwTAs8FHPdvlABn7XHwDjvUvfoEbTvfYoPDaobAu6EwxHa4TwzvaAbDKrpdGldwu+CwloFhGKh79fVbk9DZWPC4HBA8fNAoVTjs3tF9hWTfILjqK+Gqr4A8IlostdzJ+OZsVnAN1VDFJvttDOmzidNqBquLhNqUKrUJghA88nSa+tpXJS3YM9elzQQBjupj4Jrqwap14n0H6VeBd4N3NHe4XoNvbQIjVwYfiyHYgSBIT0lPz2U97awtp6Knoc7RHdq8AzuSnpKekvNFEARBEARBEARxhqCCGwRBEARBEARBEOR8EQRBEARBEARBkPNFEARBEARBEARBkPNFEARBEARBEARBzhdBEARBEARBEAQ5XwRBEARBEARBEAQ5XwRBEARBEARBEOR8EQRBEARBEARBEOR8EQRBEARBEARBkPNFEARBEARBEARBzhdBEARBEARBEARBzhdBEARBEARBEAQ5XwRBEARBEARBEOR8EQRBEARBEARBEOR8EQRBEARBEARBkPNFEARBEARBEARBhML/AwYsZTIdrvVbAAAAAElFTkSuQmCC)"
      ],
      "metadata": {
        "id": "QmKkukTjUuwf"
      }
    },
    {
      "cell_type": "markdown",
      "source": [
        "if ... statement in its basic form\n",
        "---\n",
        "Here are a few examples of the if ... statements.\n",
        "\n",
        "---"
      ],
      "metadata": {
        "id": "zV7v4OJNuuBD"
      }
    },
    {
      "cell_type": "code",
      "source": [
        "# If statement in two lines\n",
        "\n",
        "if True:\n",
        "  print (\"Hello, World!\")"
      ],
      "metadata": {
        "id": "HlGEFAyZ_ill"
      },
      "execution_count": null,
      "outputs": []
    },
    {
      "cell_type": "code",
      "source": [
        "# If statement in one line\n",
        "\n",
        "if True: print(\"Hello, World!\")"
      ],
      "metadata": {
        "id": "aQwqMAxVABYt"
      },
      "execution_count": null,
      "outputs": []
    },
    {
      "cell_type": "code",
      "source": [
        "# If statement with the value of 1\n",
        "\n",
        "if 1: print(\"Hello, World!\")"
      ],
      "metadata": {
        "id": "ZseG6qtNM2p4"
      },
      "execution_count": null,
      "outputs": []
    },
    {
      "cell_type": "code",
      "source": [
        "# If statement with the value of 0\n",
        "\n",
        "if not 0: print(\"Hello, World!\")"
      ],
      "metadata": {
        "id": "ZHaSMzmoHzeJ"
      },
      "execution_count": null,
      "outputs": []
    },
    {
      "cell_type": "code",
      "source": [
        "# To reserve the if statement while you are writing a program\n",
        "\n",
        "if True: pass"
      ],
      "metadata": {
        "id": "isFjfEP1_zUf"
      },
      "execution_count": null,
      "outputs": []
    },
    {
      "cell_type": "markdown",
      "source": [
        "if ... statement with comparison operators\n",
        "---\n",
        "The if statements are used to check against some conditions along the code. Here a few examples of the if ... statement with comparison operators.\n",
        "\n",
        "---"
      ],
      "metadata": {
        "id": "tZMT8pL834Mg"
      }
    },
    {
      "cell_type": "code",
      "source": [
        "# A simple example of an if statement with a comparison operator\n",
        "# Comparison operators: ==, !=, >, <, >=, <=\n",
        "\n",
        "myVariable = 5\n",
        "\n",
        "if myVariable == 5: print(\"My integer variable is :\", myVariable)"
      ],
      "metadata": {
        "id": "PaV2F5orCdL1"
      },
      "execution_count": null,
      "outputs": []
    },
    {
      "cell_type": "code",
      "source": [
        "# A simple example of an if statement with a comparison operator\n",
        "# Comparison operators: ==, !=, >, <, >=, <=\n",
        "\n",
        "myVariable = -5\n",
        "\n",
        "if myVariable != 5: print(\"My integer variable is :\", myVariable)"
      ],
      "metadata": {
        "id": "1liJ9hghEN-y"
      },
      "execution_count": null,
      "outputs": []
    },
    {
      "cell_type": "code",
      "source": [
        "# A simple example of an if statement with a comparison operator\n",
        "# Comparison operators: ==, !=, >, <, >=, <=\n",
        "\n",
        "myFirstVariable = 10\n",
        "\n",
        "if (myFirstVariable > 9.9): print(\"True\")"
      ],
      "metadata": {
        "id": "oRWucK3we3g6"
      },
      "execution_count": null,
      "outputs": []
    },
    {
      "cell_type": "markdown",
      "source": [
        "if ... statement with arithmetic, comparison, and assignment operators\n",
        "---\n",
        "You can use arithmetic, comparison, and assignment operators within if ... statements to create conditional logic. Here are examples of if ... statements with arithmetic, comparison, and assignment operators.\n",
        "\n",
        "---\n"
      ],
      "metadata": {
        "id": "HfP7hrlLFgz7"
      }
    },
    {
      "cell_type": "code",
      "source": [
        "# if ... statements with arithmetic ( % ) and comparison ( == ) operators\n",
        "\n",
        "myFirstVariable  = 20\n",
        "\n",
        "if ( myFirstVariable % 2 == 0 ): print(\"myFirstVariable is an even number\" )"
      ],
      "metadata": {
        "id": "arypVhlrfb87"
      },
      "execution_count": null,
      "outputs": []
    },
    {
      "cell_type": "code",
      "source": [
        "# if ... statements with arithmetic ( // ) and comparison ( == ) operators\n",
        "\n",
        "mySecondVariable = 19\n",
        "\n",
        "if (mySecondVariable // 2 == 9): print(\"Floor division rounds the result down to the nearest whole number\")"
      ],
      "metadata": {
        "id": "AMyqN1V9Fq90"
      },
      "execution_count": null,
      "outputs": []
    },
    {
      "cell_type": "code",
      "source": [
        "# if ... statements with arithmetic ( ** ), comparison ( >= ), and walrus ( := ) operators\n",
        "\n",
        "mySecondVariable = 2\n",
        "\n",
        "if ((myTest := mySecondVariable ** 8) >= 256): print (\"Exponentiation test :\", myTest)"
      ],
      "metadata": {
        "id": "uPb_fhTZNnDF",
        "colab": {
          "base_uri": "https://localhost:8080/"
        },
        "outputId": "13e29a68-1556-4ac9-eae5-25ce5a853336"
      },
      "execution_count": null,
      "outputs": [
        {
          "output_type": "stream",
          "name": "stdout",
          "text": [
            "Exponentiation test : 256\n"
          ]
        }
      ]
    },
    {
      "cell_type": "markdown",
      "source": [
        "if ... statement with arithmetic, comparison, and logical operators\n",
        "---\n",
        " You can use arithmetic, comparison, and logical operators within if ... statements to create conditional logic, based on mathematical operators. Here are examples of if ... statements with arithmetic, comparison, and logical operators.\n",
        "\n",
        "---"
      ],
      "metadata": {
        "id": "id_EExL739c4"
      }
    },
    {
      "cell_type": "code",
      "source": [
        "# if ... statements with arithmetic ( % ), comparison ( == ), and logical ( and ) operators\n",
        "\n",
        "myFirstVariable = 20\n",
        "mySecondVariable = 40\n",
        "\n",
        "if (myFirstVariable % 2 == 0 and mySecondVariable % 2 == 0 ): print(\"Both conditions must be True\")"
      ],
      "metadata": {
        "id": "BcgB9QzaG1h_"
      },
      "execution_count": null,
      "outputs": []
    },
    {
      "cell_type": "code",
      "source": [
        "# if ... statements with arithmetic ( % ), comparison ( == ), and logical ( or ) operators\n",
        "\n",
        "myFirstVariable = 20\n",
        "mySecondVariable = 41\n",
        "\n",
        "if (myFirstVariable % 2 == 0 or mySecondVariable % 2 == 0 ): print(\"One condition is sufficient to be True\")\n"
      ],
      "metadata": {
        "id": "MX4NH0AjHyWU"
      },
      "execution_count": null,
      "outputs": []
    },
    {
      "cell_type": "code",
      "source": [
        "# if ... statements with arithmetic ( % ), comparison ( == ), and logical ( not ) operators\n",
        "\n",
        "myFirstVariable = 20\n",
        "\n",
        "if (not myFirstVariable % 2 == 1): print (\"The condition is reversed\")"
      ],
      "metadata": {
        "id": "HZlx3S764CmB"
      },
      "execution_count": null,
      "outputs": []
    },
    {
      "cell_type": "markdown",
      "source": [
        "Nested if ... statement\n",
        "---\n",
        "The nested if statement allows you to check multiple conditions within one condition. Here's an example of a nested if ... statement.\n",
        "\n",
        "---"
      ],
      "metadata": {
        "id": "5AontZ7IiJgG"
      }
    },
    {
      "cell_type": "code",
      "source": [
        "# Nested if statements\n",
        "\n",
        "myFirstVariable  = 10\n",
        "mySecondVariable = 20\n",
        "myThirdVariable  = 30\n",
        "\n",
        "if (myFirstVariable == 10):\n",
        "  print(\"My first variable is :\", myFirstVariable)\n",
        "  if (mySecondVariable == 20):\n",
        "    print(\"My second variable is :\", mySecondVariable)\n",
        "    if (myThirdVariable == 30):\n",
        "      print(\"My third variable is :\", myThirdVariable)"
      ],
      "metadata": {
        "id": "C5qQknMTlK-w"
      },
      "execution_count": null,
      "outputs": []
    },
    {
      "cell_type": "markdown",
      "source": [
        "if ... else statement\n",
        "---\n",
        "The if ... else statements are used to check against some conditions along the code. The else statement is executed when condition in the if statement is not met.\n",
        "\n",
        "---"
      ],
      "metadata": {
        "id": "AzboK5Nmc9lr"
      }
    },
    {
      "cell_type": "markdown",
      "source": [
        "![ALL_STATEMENTS_002.png](data:image/png;base64,iVBORw0KGgoAAAANSUhEUgAAA2YAAAEzCAYAAABaCRCTAAABhGlDQ1BJQ0MgcHJvZmlsZQAAKJF9kTtIw0Acxr+mlopUHcwgIpKhOlnwhThqFYpQIdQKrTqYR1/QpCFJcXEUXAsOPharDi7Oujq4CoLgA8TVxUnRRUr8X1JoEePBcT++u+/j7juAq5cVzeoYAzTdNlOJuJDJrgrhV4TAowdDGJcUy5gTxSR8x9c9Amy9i7Es/3N/jm41ZylAQCCeVQzTJt4gnt60Dcb7xLxSlFTic+JRky5I/Mh02eM3xgWXOZbJm+nUPDFPLBTaWG5jpWhqxFPEUVXTKZ/LeKwy3mKslatK857shZGcvrLMdJqDSGARSxAhQEYVJZRhI0arToqFFO3HffwDrl8kl0yuEhRyLKACDZLrB/uD391a+ckJLykSB0IvjvMxDIR3gUbNcb6PHadxAgSfgSu95a/UgZlP0mstLXoE9G4DF9ctTd4DLneA/idDMiVXCtLk8nng/Yy+KQv03QJda15vzX2cPgBp6ip5AxwcAiMFyl73eXdne2//nmn29wOYZnK2mnZd5AAAAAZiS0dEAP8A/wD/oL2nkwAAAAlwSFlzAABcRgAAXEYBFJRDQQAAAAd0SU1FB+cFFA4gCTbIfy4AACAASURBVHja7N13XFX1/wfw1+Wy914iQ3HgABH33ts0LVfmyLCfO83MStvDvqXmzqxMzZlkaqa5yIWK5MKtgIgge2+4fH5/XO+R62VcEBT09Xw8eJRn3c/n3HvP+77P+QyZEEKAiIiIiIiInhkdngIiIiIiIiImZkREREREREzMiIiIiIiIiIkZEREREREREzMiIiIiIiJiYkZERERERMTEjIiIiIiIiJiYERERERERMTEjIiIiIiIiJmZERERERERMzIiIiIiIiIiJGRERERERERMzIiIiIiIiYmJGRERERETExIyIiIiIiIiYmBERERERETExIyIiIiIiIiZmRERERERETMyIiIiIiIiIiRkRERERERETMyIiIiIiImJiRkRERERExMSMiIiIiIiImJgRERERERExMSMiIiIiIiImZkQICwvDnTt3eCKIiIgqIT4+HqGhoVAoFDwZNYUQQHAwcPMmzwUTM6oZ30mBiIgIpKSkVHjf0aNHY+LEiZV+7YyMDFy5cgXnz59HYmJijT5PDRo0QIMGDZCfny8ty83Nxbp167Br164KHauy+1W3Ki9XQQGQmandX24uv4xE9MLF0R9++AEeHh6Vfu38/HzcunUL586dw71792r0eRo1ahS8vb1x5MgRteW7du3CunXrkFvBOFDZ/WpVHC0uK6v0GFrZZPfePaBtW6BfP36RX+ALGNUQ165dE+3btxcAROfOncvcNjY2VqSlpaktGzJkiBg5cmSFX/fMmTOiT58+QldXVwCQ/lq0aCF+/fVXUVRUVOPOlaqMOTk50rIdO3ZIy5OTk7U+VmX3q25VXq7OnYVQ3o8r/8/cnF9IInqu42hqaqqIi4tTW7Z06VLh4OBQ4deNiooSEydOFObm5mpx1MXFRXz88cciIyOjxp2rrl27CgBi//790rL4+Hip7H/88YfWx6rsfrUujqq8+27ZMXTy5ModNyJCub+bG7/MLyhdpqbPXkFBARYtWoQvvvhCegJUVFRU4ranT5/G2LFjkZKSguzsbLzzzjv48ssvYWtri+TkZADAzp070alTJ/z777/lvvaaNWswbdo0CCHg6OiILl26wMTEBDdv3sTp06cxYcIEJCcnY/bs2TX+PNavXx92dnawt7eHqamp2roBAwYgJiYG//77LywtLbXer6bWp1I6dAD09dWX/fuv8s5ehw6AkdGj5VZW/GIS0XMZRxMSEvDKK6/gv//+gxACfn5+OH78OIYPH44///wTRUVF0NXVhVwuR0ZGBvQfv24+5syZMxgwYABSUlJgYmKCQYMGwd7eHjExMTh27Bg+/fRTXLhwAbt3767x59HMzAyNGzdGcnIy6tevr3UcLWu/5yqOFn+yBQANGgCurprrfXz4pSQ+MauNsrOzhbe3twAgunXrJj755BMBQHTs2LHE7Vu1aiVmz54thBAiLS1NBAYGCiGEiI6OFr179xaDBg0SERERIiEhodzXPnjwoJDJZAKAWLhwoSgoKFBbf/XqVdGnTx8xb968WvHErCwODg4CgIiKiuKHrjgTE+Xdudu3eS6I6IWIo3PnzhVt27YVeXl5oqCgQPz1119CCCGSkpLEwoULha2trYiIiNAqXsTGxgobGxsBQAwaNEgkJiZqPEmaOXOmaN++fa14YsY4qqWRI5Wx89tvq/a4fGL2wmMfs2csPT0dycnJ2Lx5MwIDA9G0adNy7womJiaiqKgI5ubm6NatGwDA2dkZxsbGMDExgbu7O2xtbctLyDFjxgwIIfDWW2/hs88+g66u+gPUJk2a4J9//sFnn31W6nFyc3ORmpoKZa6kvaysLOTk5Gi9fWpq6jPvoFxYWIjk5OQKl0MIUalzpM1xU1JSkJeX97Tu4gCpqVV/3IwMIDubFwMiempxND09HTk5OdDV1cXAgQMBANbW1rC2toZcLoe7uztcXFzKfe2FCxciKSkJ3t7eCAgIgI2Njdp6Ozs7LFu2DIGBgVUeR1X10FZmZubTixdVHLeqK44qQ1AGMjMzn84JSEtT9kF70pip7TEYX2sdJmbPmIODA6KiojBmzBittv/mm2+we/duNGjQAIsXL670RfbIkSO4efMm9PT08Pnnn5e5rYGBgdq/c3Jy8Pnnn8PT0xNGRkawsrKCmZkZhg8fjtDQUI39P/jgAzg7OyMsLAyBgYFo06YNTE1NYWxsjDZt2iA4OLjU5G327NmwsrKSXuP//u//kJaWVuL28fHxcHV1Rc+ePaVlI0eOhKenpzSYSefOneHp6YkGDRrg7Nmzpe5X3JYtW9CmTRsYGBjAxsYGBgYG6NixI/bs2VNiGerUqYPp06cjMzMTc+bMgaWlpVSHd999F4WFhVq9R6WVKzs7GwsXLoStrS2sra1hbGyMdu3aadV0tUL27gUcHIAtW4CTJ4F69ZRNHOvWfdSxefp0wNFR2STycRcvAk5OwKhRJf1CAObPB5ydAXNzwMQE8PQEli4FSml+RERUFXF09uzZKCwshLu7O2bPno0HDx5U+gf9b7/9BgD49NNPy2zy+KRxdO/evXBwcMCWLVsQERGBYcOGwdjYGBYWFnBzc8OGDRtKfe3Vq1fDw8MDZmZmMDY2Rr9+/XCzjFH/evToAVdXV8THx2sdR0var7jg4GAMGjQIxsbGsLa2hqGhIRo3bozFixdrxMSnEUcBYOPGjfD09IS5uTnMzMzg6emJ1atXV/0H9NAhYNgwwNJS+Wdmpmz++MUXgJb1eFhgZZw0N1cew9MTKKm8jK+1Gx8a1iy///57mU0whBAiOTlZLFmyRNjZ2YkePXpIyysy+Mf8+fMFANGzZ88KlS8zM1O0a9dOABBWVlbi1VdfFa+//rrw8PAQAISxsbE4ceKE2j7jx48XAMTUqVOFTCYTzs7OYsCAAcLR0VEAEGZmZiIyMlJtH4VCIbp16yYACFNTUzFkyBCpQ3fz5s1LbMoYEREhAAi3Yk0A/P39hY+PjzSwSZMmTYSPj49o0aKFuHjxYqn7qUyfPl0AEHp6eqJfv35iwoQJok2bNtLrL168+LFWCMpjderUSbRo0ULIZDLRtWtX0aFDB6GjoyMAiJkzZ2rZoqHkcg0fPlwAEB06dBALFy4UU6dOFa6urmLo0KFV25Rx/XrlugkThDA2FsLAQIiGDYXQ1RVC1ex1yBDlNr//rrl/YKByXdu2j3+IhGjZUrmuRQsh3n9fiDffFMLe/sk6TRMRaRlH8/Pzxfbt24W3t7dwcHCQmv9XZPCPAwcOCADC0NBQ5OfnV2scXb9+vQAgXnvtNWFlZSVMTExE//79hZeXlxSPAgICNF5r4cKFAoDQ0dERPXr0EP379xcGBgbCwsJCuLi4lNiU0c3NTQAQERERWsfRkvZT2bZtm7Rv27ZtxYQJE0Tfvn2Fnp6eACCGDBmiNsjY04ijK1asEACEu7u7mDdvnpg7d65o1aqVsLS0rNqmjEePKrczNBSiXz8hpkwRYuhQZRwFlIOIaNOUccUK5XJ3dyHmzRNi7lwhWrUS4vHyMr7WekzMamFAUQkICBAARGZmphBCiFdeeUXrH+cDBw4UAMScOXMqVL6ZM2cKAKJ9+/ZqIxwVFBQIf39/AUDUr19fKBQKjcQMgPD395eSqbS0NOHj4yMAiPfee0/tdX755RcBQNjY2Ijr169Lyw8ePCgsLS21Tsy0aRtf2n5//PGHACBsbW1FaGio2rpff/1VABC6urrizp07GscCIBwcHERQUJC0bsOGDQKA0NfXF6mpqZUKKJGRkVJgLH6O8/PzxY0bN6onMQOE8PRUBgwhhCg+ulhlErNZs5TLR44UoviPmZgYIZydleuKnTciouqKo0lJSQKA1M9s5cqVWv84//bbbwUA0bJly2qPo6rETJXcREdHCyGEKCoqEpMmTZKWF3fr1i0hl8uFjo6O2L59u7Q8PDxc7QZneYmZNnG0tP2ioqKEiYmJkMlkYsuWLWrbX7x4UVhZWQkAYsOGDU8tjgohhIeHh5DJZNJ5VLl8+XLVJmaXLgnxySdCPD4i5L59j0ZALvY+l5qYeXgIIZMJ8Vh5xePlZXyt9diUsRZJS0vD0KFDsW/fPpw7dw7btm1Do0aNYGJiAgCoV68eTpw4gYCAAPz5559lHks1guPj7eHLkpmZiXXr1gEAli1bBqtiI/fp6upi8eLFMDExQVhYGI4fP66x/9ixY/Hjjz/C0NAQAGBubo63335bauZQnKpZxvz589G4cWNpee/evfHXX389lfO9ZMkSAMC8efPQrFkztXXjx49Hp06dUFhYiE2bNmnsa2RkhEOHDqF9+/bSstdffx3u7u7Iz8/HpUuXKlUm1bw8crkcOjqPvr56enpo1KhR9ZwIIyNgzx7A3V357ycZ2So3F/jpJ0BPD1i+XPlfFScnYOpU5f///ju/8ERULSZMmIBNmzbhv//+ww8//AADAwPpGl+vXj2kpqZi+fLl2LBhQ5l9ip9FHG3SpAkOHjwIZ2dnAIBMJsOCBQsAAOfPn1cr7+bNm6FQKNC/f3+MGDFCWu7h4YHDhw9Lx6hOa9euRVZWFvr374/Ro0errfPx8cG0adMAAL/88stTi6OqWCqTyaBXPAYBaN68ecUO9MUXgIuL+l/dukBQkHK9tzfw8ceaIx0PGABYWADp6YA2TWlTUgCZTD1mKgvM+PqcYWJWi6iGo33vvfcwatQoCCGwd+9eaf3s2bPRoUMHvPvuuzh27FiZx1INIywq0JE2ODgYOTk5cHd3R+vWrUssn6od95kzZzTWl9TGu0mTJmoBTiUkJAQAMHjwYI19OnbsWO3nOi8vT2o7XzygFTds2LBS62pvb69xgZfJZPDy8iqxvtry8vKCs7MzQkNDMXr0aNy9e7f6P3jDhgEPy/3ELlxQTsrp6qrskHz3rvqfKniV0f+BiOhJ9OjRA6tWrcKwYcNw+PBh7NmzB25ubgCAvn37Ytq0aVi5ciV+/vnnMmPks4ijrVu3hrm5udoyd3d3GBkZoaCgABkZGVrFUXt7ezRo0KDaz7Xqt0h5cTQ4OFjjPFZXHAWAXr16oaioCP369UOQKomqDF1dwNBQ80+3jNmohFD2LVMN0qbNhNy9ein7h/Xr9yjpY3x9LnEes9qURevoYNGiRVi0aFGJ6x0dHUsckKIkqrt0cXFxWr9+VFQUAEgBrCR169YFoJwnRhuqztLFO/JmZmYiKysLAFCnTp1ncq5jY2NRUFAAuVxe6shcFa1rafWtCH19fezatQvDhg3Dtm3bsGPHDvTt2xfvv/8+OnfuXE1XiSq8TMTEKP8bFgZ4eJS+XSXPDxFRecaNG4dx48aVGmdXrlxZq+KoKjbk5OSoxZbY2NhnGke1qa+qrjk5OcjMzISZmVm1x1EAWLVqFWJiYhAUFISOHTvCx8cHs2fPxrhx4yCTybQ/0Pz5wNy55f2gUD7BOnwYuH8fiI9/NICWKlErv8DK+BkUBHTsqJwnbfZsYNw45ZM0xlcmZlS7eXl54cCBA9IdNW2o7maV1bRDdaEsb0LOssjlco3jPW2quhYVFZV6N7Qq6loZbdq0wc2bN7F+/XqsXr0a+/fvx4EDB/Dtt9/inXfeqdkfPNWIUO7uQGmjgcpkQLGmK0RENTWOAsCNGzeQlZUldSuoCXEUgDQFTuEz/CFeXn2Ll+1pxlJ7e3ucOHECe/bswcqVK3HkyBFMmDABu3btwq5duyqWnJXlxg2gc2cgMRFo1w4YPx6wswN0dIAvv1Qu167AwIkTym4FK1cCR44AEyYAu3Yp/2QyxlcmZlSbde/eHUuXLsWZM2cQFhaG+vXrl7uPg4MDACAyMrLUbSIiIgAo27BXlpGRESwtLZGamoro6GhYWlo+9fNjZ2cHmUwGIQTu3buHevXqVUtdK8vExATTp0/HtGnTsG7dOkyZMgXz58/HxIkTYW1t/RSvIA8vIdpO2+DoiIdRGhg7ll9EIqq1OnbsCD09PRQUFGDHjh2YOHFijYmjAODk5AQAiI6OfmbnyMHBAZGRkaXWV1VXJycnjSkFqpuOjg6GDh2KoUOHIigoCEOHDsXu3buxd+9evPTSS1XzIgsXKpOv2bOBh/3WJStXap+YKQsMDB2q/AsKUv53927l1DYvvcT4+pxgH7MX1IABA+Dq6ipNNF3a3ay0tDScP38eANCqVSvI5XJERUXh9OnTGttGR0cjMDAQMpms1DnBtNWwYUMAwIEDBzTWbdmypcLHUw04omoiqU3io2rbvn37do31Qghs3rwZgHJAkmdFJpNh8uTJ8PX1RWFhIW7cuPF0C6Dq9H7liua6nTs1l/n6Avr6yuYcly/zi0hEtZaNjQ1effVVAMBHH31U4vxdyt/JCmkgj5oSR69du4aLFy9WaxwFgHbt2pUaRwFIg2c9yzgKAB06dJCat14pKZ5VlirOPexLV+xHBFBQ8CQFVjZjLB5/GV+ZmFHtJZfLpYkU9+/fj379+uG///6T1iclJWHZsmXw8vLCsmXLACifIqmC0MSJE9UGnkhJScEbb7yBgoICDB8+XKsncGUZ9XBS4i+//BLXr1+XkqF169ZhwoQJFT6eqo39wYMHpUBZXvOOqQ9HMPrqq69w6NAhtSD74Ycf4urVq3B1dcXIkSOf2vu2b98+bNu2Tep0DgAxMTEICwuDTCaDu2rkxKflYdDFTz8Bt24p/z8nB5g2Tdkm/nGmpso7eUIA/v7Aw/4Hkrw8YMcOZZt8IqIa7ptvvoGVlRXu37+Pjh07Yu/evSh4+IM7NzcXAQEBaNu2LV5//fWnHkdVsWnfvn3YunWrtDwoKAi9evVCWlpatcfRyZMnQy6X4+DBg/j666/V1u3atQs///wzdHV1MXv27Kf2noWHh+Obb75RSzALCwulwVZKaiFTaQ+fkOLECfU49+abwL172hYY+OYb5cAejwoMqAaHUZWX8fX5wBkDnq28vDxRp04dYWFhISwsLISxsbEAIORyubSsTp06Ii8vr1pe/5dffhEGBgbSnCGGhobCyspKyGQyaaLLP//8U9o+NjZWNGzYUJpHpH379qJz585SuVu0aCFN1Pn4PGbr16/XeP0LFy4IAKJp06Zqy3NyckTLli0FAGFgYCDat28v3N3dBQDxyiuvSJM8azuP2ffffy+d1xYtWghbW1uxd+/eMvdTKBTi5Zdfls5N8+bNRffu3aW5XKytrUVwcLBWc6Y8mvZriAAgfi9p3i8t5l/55ptvBADh4uIihg4dKoYOHSrMzc0FADFjxozqmcds/PjS98/JEaJxY+V2BgZC+PoKYWOjnG/l669LnscsOVmI5s2V64yNhejZU4hhw4To2FH5b0A5BxoRUS2IoyEhIcLJyUmKFbq6usLGxkaaVFkmk4n333//ieKoah6z8aVcjy0sLAQAjf2mTJkilatFixbS3KFeXl5i4sSJFZrHrKw4WtZ+S5culcrg6uoqunfvLtVfR0dH/Pjjj081jp49e1YAEGZmZqJv375ixIgRUtn9/Py0+5xoO4/ZX38pt5PJhOjdW4jXXxfCxUUZ63x8NONvSfOYnT2rXGZmJkTfvkKMGKFcDwjh5ydE8fIyvtZ67GNWA55ceXt7Izs7u9RtjIyM1AbEqEoTJ05E9+7dsWLFChw5cgQxMTHQ19dH06ZN0bdvX/j7+0tt4pU3fxwQHByMJUuWYNeuXbhy5QpkMhmaNGmCkSNHYvr06VJzBxUvLy94e3vD1dVV4/Wtra3h6+sLb29vteWGhoYIDAzExx9/jD/++AOXL19GgwYNsHbtWvj7+2PGjBmQyWRS52ZAOcywn59fiXe7pk2bhrS0NGzbtg2RkZHw9PSU5q0pbT8dHR3s3LkTv/zyCzZu3IgrV64gPDwcderUwahRo/Dee+9Jbfi1KQOgnCPl7t27Wo2SVdKxpk6dipycHOzZswdHjhyBoaEhvL29MXXqVOkpY4V07gwkJyvnU3lc3brKOViaNi19f0ND4OhRYN484OBB4M4doHVr4KOPlB2M//hD2byiOCsr4PRp5ShVAQFASIjy7p+dnXIo4KFDgS5deHEgoloRR/38/HDz5k2sWbMGe/fuRVhYGBQKBZo3b44uXbrgjTfeUItxlYmjdevWhbe3N5qWcj1u3749kpKSYGRkpLZ85cqVaNy4MX788Ufcvn0b9vb2mD9/PhYsWICdO3fi/PnzcFT1TXqodevWsLW11Rghsaw4WtZ+b7/9Nnx8fLBs2TKcPXsWZ86cgbW1NUaNGoW5c+fCz8/vqcbR1q1b4+eff8Zvv/2GkJAQFBYWwsPDA2+99RZmzpyp3SAkPj7KYefLm3Jg4EBg3z5g0SLgYbcQ9OwJfPopsH8/8NtvQPHpD8zMAD+/R0/BlAUGfv5Zua0qXnp4AG+9BcycqWy+yPj63JCJikzAQURERERERFWOfcyIiIiIiIiYmBERERERETExIyIiIiIiIiZmRERERERETMyIiIiIiIiIiRkRERERERETMyIiIiIiImJiRkRERERExMSMiIiIiIiImJgRERERERExMSMiIiIiIiImZkREREREREzMiIiIiIiIiIkZEREREREREzMiIiIiIiJiYkZERERERMTEjIiIiIiIiJiYERERERERMTEjIiIiIiIiJmZERERERERMzIiIiIiIiIiJGRERERERERMzIiIiIiIiYmJGRERERETExIyIiIiIiIiYmBERERERETExIyIiIiIiIiZmRERERERETMyIiIiIiIiIiRkRERERERETMyIiIiIiImJiRkRERERExMSMiIiIiIiImJgRERERERExMSMiIiIiIiImZkREREREREzMiIiIiIiIiIkZEREREREREzMiIiIiIiJiYkZERERERMTEjIiIiIiIiJiYPX8SU7Jx5vJ9nLoYhYysvOeqbvHx8QgNDYVCoXgh3sugoCDMmTMH4eHhtb4e77zzDu7cucMvKBExjj5DWVlZuHTpEjIzM1+I9/LBgweYO3cuDh069FReLzMzE6dOnUJsbOxTeb1Nmzbhgw8+QF5eHr+4TMzoWUhJz0Fmdn6J61ZvP4c+/7cJ//fFX5j21T5M+mTPc1X3UaNGwdvbG0eOHFFbvmvXLqxbtw65ubkVOt65c+ewcuVK3L9/v0bWd9asWVi1ahXMzMwAAAUFBcjMzNTqr6LnojoVFRVhyZIl+Oyzz/gFJiLG0Wdo8eLFaNGiBb766qsqiYc1PY4uWbIEixcvRnZ2tkZcKi1+ZmVlVfr1AgIC0KlTJ7z//vtPpX6RkZH4+uuvsXnzZn6xX0C6PAXPVlRcOgbP2AIzEwOcWD9Rbd21sAT8GPAfDPR1MXm4H6wtjBAdn/5c1b+oqEjtvwCQkJCAYcOGAQBsbW3x8ssva328CRMm4Nq1a7h9+zaWLVtWo+p64sQJhISEYNSoUbCzswMA9OzZEydOnNBqf3Nzc6SlpdWIunTq1AlNmzbF9u3b8c0338DJyYlfZiJiHK0hcfRJ4mFNjqOZmZlYt24dXFxcMGjQILV17dq1w7lz50rdd8uWLRg9enSFX1MIofbf6jZp0iR8+umnWLZsGd544w1+wZmY0dNUWFj08L+aTflOXbwHABjctSEmvez7wpwTMzMzNG7cGMnJyahfv77auk8++QQ7duzA6tWr0a1bN419/fz8EB0dDW9v7xpXr7Vr10oXXZUOHTpAX19fbbt///0XCoUCHTp0gJGRkbTcysqqRtXnjTfewDvvvINff/31qd1JJCJiHNVOafFw3759mDt3Lt544w28++67tSqObtu2DWlpaZg+fTrkcrnaunv3lO91mzZtpFYpKjKZDK6urrXifXNyckL//v2xd+9enD59Gu3bt+eXnIkZ1QQJKcrH9K6OFi9UvQ0NDXH9+vUS1924cQPXr18vtYnFxo0ba2Sd8vLysGfPHpiamqJLly7S8kWLFmlsa2pqiqysLGzYsAGenp419n3q378/3nnnHQQEBDAxIyLG0RqmtHgYFRWFGzdu4ObNm7UqjgLAjh07AAADBgwodZtVq1ahVatWtfq9UyVmAQEBTMxeMOxjVoMVPLz7p68nr9T+QghkZGRo9fi9sLAQycnJFR6EQwiB1NRUrR/xZ2ZmPvMOrUIIpKSkVKocaWlpKCwsrPB+Bw8eREZGBnr06KHxhOxJFBYWIj296pvlZGRkaLTff5yXlxdcXV3x33//SXcqiYiepziquh5qExufVhzNy8tDRkbGMz+3GRkZlRpwJCsrCzk5ORXeLyUlBYGBgbCyskLbtm2r7PdAcnLyE/0uqchvCtW2BQUFZW7Xr18/AMr+9sTEjJ6xHf9cxeAZW3DwtHLkvh9+D8HgGVsweOZW3IlKLnf/8+fPY9CgQTA2Noa5uTnMzc0xZswYhIWFaWy7ZcsWtGnTBgYGBrCxsYGBgQE6duyIPXs0O0fHx8ejTp06mD59OjIzMzFnzhxYWlrCysoKVlZWePfdd0tNWlavXg0PDw+YmZnB2NgY/fr1K/VuHQD06NEDrq6uiI+PB6Ds7Ovp6Yl9+/YBAObOnQtPT094enpi+fLl0n4LFiyAk5OTtF1xwcHB0nmxtraGoaEhGjdujMWLF5dY7q5du8LX1xdCCKxZswbu7u6wtLSEsbExhg8fXqERmo4fPw5A2Qb+SXzwwQdwdnZGWFgYVq9eDWtra1hYWGDMmDHSNi1btoSbm1uJgXvt2rVwcHBQO2fFk+b58+fD2dkZ5ubmMDExgaenJ5YuXarRd0FFVZ+S+snt2LEDGzdurFQiS0T0LONoXFwc3nrrLdjY2MDc3ByGhobo3r07jh49+sziaGBgINq2bQtDQ0OYm5ujWbNm2L9/f6l1eDwenjp1Cg0aNMBHH30EAPj999+lOPraa69pFUejo6Ph7+8PW1tbmJubw8zMDI6Ojpg5cyYSExPLjFmBgYFo06YNTE1NYWxsjDZt2iA4OFjrgHP4aAAAIABJREFU9zQoKAiFhYVo3bq1RjPGiigsLMRPP/2ELl26wNDQEDY2NjAyMoKvry9+//13rY+TnZ2NhQsXwtbWFtbW1jA2Nka7du3w77//amwbHh6OMWPGwMzMDNbW1jAwMEC7du1Kff88PDxgb2+P8PBwREdHa1UeVf+7f/75hxeAWoxNGWsgI0M9GBnqQffhkL76enIYGepBR0cGPd2yL0aBgYEYMGAAcnNz4efnh/r16+PGjRvYunUrTp8+jYiICGnbGTNmYOXKldDT00OfPn3g6OiIa9euISgoCEOGDMHixYsxZ84ctYtQTEwMLl26hM6dO+PSpUvo0qULCgoKcObMGXz33XfIz8/X6Cz80Ucf4fPPP4eOjg569OgBAwMDHD16FG3bttVoB178IhYVFSU9tTE1NYWpqSmSkpIAAAYGBjA1NZXWqdy/fx+xsbFISEhQO9727dsxduxYFBYWom3btvDy8sKDBw9w9OhRzJ07FydOnMCuXbsgk8mkfSIjI5GSkoIJEyZg48aNaNasGfr06YNTp07hjz/+wN27dxEcHKxVgAgJCQEANGnS5Ik+GzExMXjw4AGWLl2KVatWwcrKCm5ubmpNO8PDw5GWloa8vDyN8/vgwQPEx8cjJiZG4w5m165dcf78ebRo0QITJkxAQkIC9uzZgzlz5uDGjRtSH7nimjZtKtWveGC/evUqRo4cCQCwt7eX7v4REdX0OBoXF4e2bdsiMjISrq6u6N27N2JiYnDy5En06dMHt27dQr169Z5qHD148CAGDhyIwsJC+Pj4wMPDA6dOncLAgQPh5eVVYj0ej4dGRkYwNTWVRvjV1dWV4qeFhUW5cfT69evo1q0b4uPjUa9ePQwcOBDZ2dk4fPgwVqxYgb///hunT5+WBrcqHrOWLFmCNWvWwMnJCQMGDMD58+dx7tw59OrVC1euXNGq/1dVxdHPP/8cn332Gezs7PDSSy/Bzs4OV65cwYkTJzBixAjs27evzKaSKuPGjUNAQAA6dOiAnj17IikpCX/99ReWLVum1gf+ypUr6NatG5KSkjBo0CD4+PggLCwMAQEBGDhwIH777Te1m6vF42t8fDxCQkJQp06dcsuzYcMGqe9dWloaTExMeCGojUQ1KCjME6k5iS/kX1Z+RoXOVfj9FOHz6hrRbuw6jXWfrAkUPq+uEVv3h2p33gsKhKurqwAgvv76a7V1hw8fFr1795b+/ccffwgAwtbWVoSGqh//119/FQCErq6uuHPnjrQ8IiJCABAAhIODgwgKCpLWbdiwQQAQ+vr6IjU1VVp+69YtIZfLhY6Ojti+ffujeoeHi+bNm0vH279/v1oZ3NzcBAARERGhtnzkyJECgNi0aVOJ52D8+PECgFi/fr20LCoqSpiYmAiZTCa2bNmitv3FixeFlZWVACA2bNhQYhl0dXXF2rVrpeXXrl0TxsbGJZa7NNbW1gKAuH79ernbmpiYCADi9u3bpdYPgBgyZIjIzMwUQgiRkfHoc2dhYSEAiISEBI39P/74YwFAvPfee2rLZ82aJQCIkSNHivz8fGl5TEyMcHZ2FgDU3m+V7du3CwCie/fuasuvX78ulfPgwYOCiCpGUVT4wsbRjNzUZxZHhRBi9OjRAoB46aWXRF5enrQ8LCxM9OvXT4qLTyuOKhQK4eHhIQCIadOmScszMzOlmFjSdb2keCiEEGvWrBEAxKRJk7SOo0VFRaJFixZSGQoLC6V1iYmJolWrVgKAmDhxYqkxy9/fX+Tk5AghhEhLSxM+Pj4llrs0w4YNEwDEmjVrSlzv4OAgAIhz586VeZytW7eKn3/+WS3WCSHEu+++KwCIQYMGqS1fv369ACDGjx8vLYuMjBQARJMmTYRCoZCW5+fnixs3bqjt7+vrKwCI5cuXqy3/999/hUwmE1ZWViIrK0ujnFOmTBEAxKeffqrV+VG9r3p6eiUej2qHanlidjryAP64uLpY9gdA9mIkus2c2mNS+4+fyWvv378f9+7dQ926dTVGWurZsyd69uwp/XvJkiUAgHnz5qFZs2Zq244fPx4//fQTTp48iU2bNuGTTz5RvxNpZIRDhw6hefPm0rLXX38dH3/8Me7evSvdAQSAzZs3Q6FQYODAgRgxYoTaY/rDhw/D19dX4+lNVVu7di2ysrIwYMAAjaFyfXx8MG3aNHzxxRf45ZdfMG7cOI39f/jhB7WRFL28vPDqq69iw4YNCA4OLvdpkEKhQEpKCgDA2tq6Surk5eWFrVu3SqM2Fn9qWFG5ubn46aefoKenh+XLl0NPT09a5+TkhKlTp2LBggX4/fffNTohq+rzeBOWxo0b459//kFubq7a546ItBOedBWrjs97IevuYOaK+b1/fCavnZKSgh07dkAmk+F///ufWp/gevXqqTU9e1px9Pjx44iIiIC1tbX0mgBgYmKCzZs3IzU1tdqbrx09ehQXL16EjY0Nvv32W7WWIjY2Nli0aBF69eqFrVu3YtWqVWojCgPA2LFj8eOPj95Tc3NzvP3225g4caLWzRlVXRvKi6MDBw5Ui2OAclCxK1euwNDQEKNGjSpxvzFjxuDbb7/FjRs3tPqcAIBcLoeOzqNeQXp6emjUqJH07xMnTuDChQvw8fHBjBkz1I7RtWtX9OzZE4cPH8bhw4fx0ksvaRVfSzNhwgTY2NjAxcUFxsbGvIjWUtXSxywp67G+NzKe6KchKCgIgLLTaFnN6/Ly8nD27FkAUEuWilPNI3bmzBmNdfb29mrBBFAORatqTpGcnKzR9GDw4MElHqdBgwbVfl6OHTumVV2Dg4NL7HxdUmKhakpRvK5lXcBVxzU3N6+SOs2ZM0cj8FXWhQsXkJWVBVdXV2RnZ+Pu3btqf6ph+kvqE6iqjypIFdenTx+89NJLakGLiLSTmZfCk/AMBAcHQ6FQwNPTU+0Hdk2Io3369NEYPEoulz9x3+WKxNHBgweXGHt69OgBCwsL5Obm4tKlS1UeR4vHmfLiqL6+PgwNDTX+yopFRUVFUqxTNfUsi5eXF5ydnREaGorRo0fj7t27JW538uRJAECzZs00Yuvdu3elOUArGl9LYmhoiFdffZWjONZy7GP2HFENRuHs7FzudgUFBZDL5XBxcSlxm7p16wKARhvz8i6GANQ6LqvKpE376OoSFRUFAHBzcyuzrjk5OcjMzCy131t5dS1Nfn7+oy+cbtV85arqOACkJ5ZhYWHw8PAodbuS6qq6K1m8jkREjKMvVhyVyWRwcXFBWlqa1vWtSBwtHmfKi3+7du0qd7j8CxcuYOXKlQgODkZMTIxacqjN6Jj6+vrYtWsXhg0bhm3btmHHjh3o27cv3n//fXTu3Fkjvm7evBmbN29mfKVnk5jZmahf0AY3fxNmBpYvxAm1MrJ/Zq+tGjmvvIuKan1RUVGp26ouEk86tLvqAvosR+ZT1bG0IYyLl60qh7JXKd6pOj09vcqaM1b158bd3R2ff/55qUG3pLtwqqH6i9eRiJ6cuaGN2r+7NRwGZ/N6L0TdjfRMn9lrM45WLo5WZX3Li6VPOkWMajAwQNnscdiwYbCyskJaWppGk9OytGnTBjdv3sT69euxevVq7N+/HwcOHMC3336Ld955R+3z1L9//xIH+FC9v/3792d8pepLzEwM1D9E3s4dYWvixLNdzeztlUlheUOr2tnZQSaTQQiBe/fuSaNLFacavbGsJyjaUD2m13a41+rg4OCAyMhIREZGlrheVVcnJycYGBhU/ffBxAR6enooKChAWlpatSdmqiCu7bwsjo6OUsBVBSttpaWlAQAsLS35BSSqQoa66n1EGtr5wsuhNU8M4+gzi6MASo2jCoVCeqr2pPUtjaqpoSruVDbxnjVrFgoLC7F79261fl3379+vUGKmiu/Tp0/HtGnTsG7dOkyZMgXz58/HxIkTYW1tLcVXW1tbxlfSCjt/PEdat1YG7X379pX46DsrK0u6kKjatm/fvl1jOyGE9Mi9d+/eT1Smhg0bAgAOHDigse7atWu4ePFixX6sGBqq1UUbqvb3JdUVADZt2lQldS2LKmiHh4dX++fAxkZ5p/3KlStqy7Ozs/H3339rbO/r6wt9fX3cv38fly9frtBrqepT0o8SIqLaxs/PDzKZDGFhYSVeD3Nzc6FQKJ5JHD1y5IjGxMSZmZklzpdWXXF07969JU4OHRAQgOzsbLi5uUnlrYlxNC4uDnFxcdDT09Po+/4kk0zLZDJMnjwZvr6+KCwslAYQUU2EfeTIkQofn/GViRnVcoMHD4atrS1iY2Mxf/58qclBYWEh1qxZAxcXF6k5wtSpUwEAX331FQ4dOiQdQ6FQ4MMPP8TVq1fh6uoqzUVVWar99+3bh61bt0rLg4KC0KtXrwrf+VK1sS9e5vI66k6ePBlyuRwHDx7E119/rbZu165d+Pnnn6Grq4vZs2dX23vTsmVLAMr5vaqbKoB+9tlnyMzMBKBs5963b1+cO3dOY3tTU1OMHTsWQgj4+/tLdz2LB6sdO3aUOKG2qj4tWrRQW56cnIzGjRvD3d0dd+7c4ZeTiGoFR0dHqVnZjBkz1AZeOHz4MJo1ayYNtPW04mj37t1hb2+PlJQUzJo1S4rj0dHR6Nu3Ly5cuFCpOHrq1CkpOSsvjg4cOBCurq5ITU3FmDFj1JKz69evY9485Qiij48IXdPiqKWlJfT19aV541RiYmI0Rm0uy759+7Bt2zapqaLqGGFhYZDJZHB3dwcA9OrVCw0aNEBMTAymTJmikdQmJiZi/fr1Jb5GafG1NMeOHYOTkxM6dOigVi5iYkbPiJGREdatWwddXV0sXboUVlZW8PX1ha2tLaZOnQoHBwdpAmV/f3+8/PLLyMzMRJ8+feDt7Y0ePXqgTp06+Prrr2FtbY2dO3c+8ZCrLVu2xJQpUyCEwJgxY+Dr64sWLVqgY8eOsLS0xMSJEyt0vBEjRkAmkyEgIAANGzZE/fr1sWDBgjL3adq0Kb777jsAwAcffAA3Nzf06NEDjRo1wrBhw1BYWIjVq1drffGrDFVH5IoG0Mp47733YGxsjKCgILi4uKBVq1aoX78+QkND8f7775e4z3fffYfmzZsjODgYjRs3Rq9evTB8+HB06tQJ1tbWGDlyZIlDCKueePr5+aktj4iIwM2bNxEZGYnQ0FB+OYmo1li+fDns7e1x/PhxODg4wNvbG87OztJE06rE5mnFUUNDQyxfvhwymQxr1qxB/fr10b59e+m6Xl4MfFznzp3h5OSEqKgo1K9fHz4+PtLQ/KXR19fHb7/9BlNTU/z555+oU6cOunXrhlatWqFZs2aIjIzEuHHjpGS1psZRIyMjzJo1S0qaRowYgREjRqBRo0ZITk6WmrKW5+rVqxg9ejTc3Nzw8ssv4+WXX4aXlxdSU1Mxffp0afAYHR0dbN68GVZWVli/fj3c3d0xePBgDBkyBC1btoSjoyP8/f01+u5lZGQgPDwcenp68Pb21qpMISEhiI2NxenTp5+ouScxMXuhmZnoo5mnPVp6afbBq+dijYZuNqhjb6b18YYOHYrjx49j8ODBMDAwwO3bt+Hq6oqPPvpI7e6Qjo4Odu7ciXXr1qFz5864f/8+goODYWFhgVmzZuHKlStS00iprGZm8PPzQ5s2bUp87ebNm8PHx0dj5KiVK1di2bJlaNq0KW7fvo309HTMnz8f586dQ9euXeHj4yO1w1Zp3bo1/Pz8NEZI9PHxwe+//45WrVohOTkZcrkc3bt3l9Z7eXnB29sbrq6uavu9/fbbOHr0KIYMGYL8/HycOXMGWVlZGDVqFIKDg+Hv769Rn9LKACjb0Ht7e6Nx48ZavS+qJhPF76qWFTTbtGlTYoff0upXXJMmTRAYGIiePXtCCIHIyEgMHz4cly5dwrBhw+Dt7a3R1MTKygqnT5/GV199BS8vL4SEhOCff/5BdHQ0+vXrh40bN2oE7uTkZJw/fx7m5uYa6xo2bIjOnTujdevW5Y6ORURUk+Jo/fr1ERISgjfffBOOjo64c+cODA0N4e/vj0uXLklNy55mHB05ciT+/vtvdO7cGUlJSQgPD8crr7yCS5cuYcSIEfDx8dGYfqa0eGFoaIgDBw6gd+/ekMlkSExMVOtrVdp+nTt3xoULF/Dmm2/C0tISwcHBiIyMRM+ePbFjxw5s2LBBuvmrTcyytraGr6+v1jHC19cXLi4uuHv3Lm7fvq2xvmPHjmjVqhVsbW3LPM5XX32F77//Hp6enjhw4ADOnj2LyZMnIyQkBL169dJ4b+rWrQtvb280bdpUWjZ16lR88sknsLe3x5EjR3Dq1Cl4e3tjy5YtWLZsmcZviYsXL2LatGmwtLREYGAgjh07hry8PEyYMAFHjhzRmOLoyJEjKCoqQo8ePbRO7Lt06QJvb28MGTKE/dJqMZnQZlzQCroYfQIbzn4p/fvDvus5+Ae98Hx8fHD58mWEhoZqTEZaG+3YsQMjR47Ea6+9ht9++41vMFEVikkLx7dHHj19mNzxcw7+QS+8WbNmYfny5VixYgWmT5/+3NZz6tSpWLNmDdatW4c333yTb/wLhE/MiJ6S8ePHAwC2bdv2XNRH1Wdw3LhxfHOJiKjaqeLN8xJHS1JQUICAgACYmJhg+PDhfNOZmBFRdfD394eFhQXWr19f5lwwtUFsbCz++usv+Pj4oE+fPnxziYio2vn5+aF79+44deoUrl+//lzWcffu3YiPj8ekSZOkKQKIiRkRVTEzMzPMnTsXaWlpCAkJqdV1+fvvv2FoaFjhTudERERP4sMPP4S5uXmJ0788D/bt2wc7OzvMmTOHb/YLiH3MiIiIahj2MSMievHwiRkRERERERETMyIiIiIiIiZmRERERERExMSMiIiIiIiIiRkRERERERExMSMiIiIiImJiRkRVRJGbCaEo4IkgIiKqhKKCPBTl5/BEEBMzouKSgvfi9Dh7RGz6QOt98lPjcGaiMy590PWpljVi4/s4Pc4eSef2PpNzFb3ne5yb1hhnJ7nizBt18eCfH2vs+/rfTG+EzGgGoSjkh5yIqBpVNiZeer8Lzkx0RkFqfI2O+VUp5cJBXHi3Lc5MrIMzb7jg1opJjKPExIyeHze/H49LH3ZXWxa5/TNcmNsa+SkPyt1fkZsBoSiEIitN69cUBXkoys9FYVbqU62rIjtdWdacjKefwJ7djcjtn0GRlQbbDsNh5dMLeUn3a+znIi/pPvKTYyCKFNX+Whl3QhD6SV/8N7M5MsMv8EtJRLVK9F/Lcf6d1siJviUtSw75C+fntELyf39XW0wszE5DUX4uigpyn14crUTMr7q4FI2by8YjJ+Y2LJt1hV3HV1GQkcQ4yjj6wtDlKXj+pV4+Aj0Le7Vl6ddOIudBGOTGFjxBVSQhaCcAwG3Ux3Dq9388IQAUedm4t+NLPPhnLSCKpOSZiKg2Sb9+CrmxYdAxNHn0QznsPHLjwiHT4U+pqpJ8bi+KCvJg3WogGs/exBPCOMrEjJ4vBekJUORlw9TeTW15XmIU9MxsIDcw5kmqIrlxEQAAU8/WPBkAMm6fw61V/shLuAcr377IigxFfnIMTwwR1b7re0IkZLr6MLB2UoujAGBg58oTVFXnOf4uAMDMsxVPBuPoC4lNGZ/7i9w9AICh3aPETBTmIz8tHga2dXmCqlBRvrKpidyQyS4AxB/7DTKZDrzmboXX3K3QNTbnSSGiWikv4Z4yZsp0iiVmyqbqjKVVGUeVg33o8KYx4+gLik/MtBQU8Tca2vvC1sSpVpQ3+/4NxB5ch9xEZWKWGXEJYb/MUV748nIAIVCQnoiwX+bAoetYmNZvqdVxRZEC8YGbkHh2Nwozk2Hk5Amnvm/BrGGbCiaMdxF3ZD0yboegMDsNuqZWMG/YFo69J0HfquRznJcYhQcH1yHzTgiK8nNh6FQfdh1HwKpF73JfL+PWWTw49DP0zG3h8fpXWpUx/eZpJBzfiuz711GUnwd9K0dY+vSCQ/dx0NE3lLZ78M9aZN+7ioL0BABA1M5F0DWxgI6hGTxe/7Lc11HkZiLuyK9IDQ1EQUYy9K0cYN2yP+w6j4KOnkGlylRc8n9/I/7YFuQl3IOehR3su74G2/bDyixTYWYyHhxch7RrJ1GYlQp9CztYtegDh54TNcpUGpch78Bj/P+03p6IqCZR5GXj3vbPoMjNQlF+LhS5GVIcVcbZ65DJdXF3y0KYN2wHu04jtD526uWjiDu6AblxEdCztIddxxEV2v/x2JGfFg+5vhGM3ZrBodvrMK3nW+VxND/lAaICFkGRlwOP17+CnrltlcX61MtHkXT2T6TfPAMASAzaiezIUEAmQ93h80v9XVCZOFqZ3x+Mo8TErIa5HHMKOy+ugI9zJwxoOgF2pnVqdHlz48KRcGoHigryAQA50TeQ++C2lFwBQH5aPBJP7oCJazOtErPCrBRc+XwQMm6dhdzQFEJRgKzIUCSe3Y0GU9bAruOrWpUt8fQfuLN2GooK8iA3NIWumTVyHtxB+vVTePDPWjSesxkWTbuoB7HQQNxc+joUednQ0TeCjp4BMiMuIjEoAHWHz0fdYfNKfb3MiIu49s0rUORmwWPc11pknwIRv32IBwd+AADomdtBR08fWVFXkXLpMGIPrUPTD3ZD39r54QV7P9KuHpd2V40IqaNvBI+xn6vdYS0pSF79aihy4yIgk+tB18QSWXcvIeXCQSSe/gNNP9xdqTKp3N3yEWL2rQQAyI3NkR19A6mhgUi5eKjUMmXdvYxr37yCgvREGNq7Q8/cFhl3/kNq6L+IP74VTRfsga4WfRPZvIeIarOi3CwknNguDbxRmJGCxJM71BI3mY4ciSd3QJGToV1iJYoQ/us8xB76CTp6BpDp6iPr3hWkXj6K9FtnUP+NJVqVLfv+dVxb9AryUx5ApqsPfStH5MXfRcadEMQd3QC3UR+jzqCZVRZHC7NScW3RcGTfvwGbtkOgZ2ZdpbE+M+w/xP37m7Rvxu1zyLh9DgBg321cmYmZ1nG0kr8/GEeJiVkNJYTAxegTuBRzssYnaNZ+A9D25yiEr5+L2MO/oNnCfVLyFX9sM+78OAMeY7+EY2/th6FNPn8AuqbWaDx7I6xbDUJRQR7CfnobCSe3I/zXd2HVojd0TSzLPEbWvSu4vWYKAIH6k5bCvutrkMl1ochOR8RvHyL+2GbcWjEJvovPSccqyEjCrRWToMjLhuuIBagzaAZkcj3kxoYhcvvnyLp7ucwE9fr/RiqTste/hFPft8qtZ+zhX/DgwA/Qt3RAw+k/wdyr48NjReDWKn9khp3H7R+moekHuwAAXu8qA/flD7ohNyESzT/5B0Z1GkJHV7/MpAwAbq9+C7lxEbBuNQie/suga2qFwswUxOxfg9jDv1S6TACQdu0EYvathExHDs+3VsGu0wgo8rIRvWcp7u8uOfgX5efgxtLXUZCeCI9xX0vnS5GXjdur30JyyD5Ebv0E9Sct5QWBiJ5rehZ2aLMuAoln/sStFW/AdcSHUrKTG38X52e3hHXrQWg0c73Wx8xLikbckfVwHbEAzgOmQUdXH7GHf0b4r/MQd+RX2LYdqpEYPE6Rl40b341BfsoDOPScAPfRn0JuZAahKEDc0Y0I3/AeIrd9CrMGrWHeqP0Tx9Gi/Fxc/26UMilr8xIaTltXbmyraKyvM2QOHPtORsSG+Ug4uR1uoz+FQ49xkMl0IDcyq5I4WpnfH4yj9FwkZjkFWWr/jki6huSs2Fp9orLz0jUStMsxQWjl2gO9G4+psU0cpc7JNi6PkpX4SOUyW5cKHUtubI5mC/bAuG4TAICOngE8Jy9H2pV/kZ8ah+T//oZ9lzFlHuP+ru8gFAVw6jsZDj3Gqx3b038Z0m+cfvi073c49fEHAMQFbkRhVirMG3eAy5BHzUgMHeuj0axfocjLLvG1ClLjce3r4ShIT1AmZf2mlJ98Kwpx/8/vAAAeE/4nJUAAYOjggUYz1+O/t32RdvUYsqOuwbhuE+joGSibGegoA5XcyFSrO2EZt88h/eYZyA1N0OD/VknBR9fUCq6vfoA6L71d6TIBQOzBnwAAjn0mS3dy5QbGcH31Q+hZ2CNiw3saZUo4sR15iVGwaT1YLYmVGxij/htLkHLxEBJObofHuEVsWkFEL4SS4mheQqTGMm15Tl4Bu86jpH879n4TaddOICl4LxJObC83MUs4vgW5CZEwdm2q9oRNJteDY+9JyIy4iPhjm/HgwA9SYlbZOCoUhbi14g1k3ApWJmXTf4JMXv5Px4rGepmOHLrGFtDR1VP+vtA3rNI4WtnfH4yj9FwkZnEZ99T+vSXk2+fy5BUJBYIjD+HcvcM19glaXsI96OgZQM/CrliQufcwMatYh2Ubv4HSj/7igcCqZT/EHd2A7Kjr5WQ9RUi9fBQA4NB9nOZ6mQ7sOr2KqIBvkH7tpHRhVDUTLK2pZEkjSyqy03Htm1eQmxCpdVIGKJsf5KfGQc/MBjatBmqsN7CtC4vGHZB2/STSrp3UOB8VoaqXVct+Jd4RVNWrsmVKv3n64Xl7RWMfpz7+JQaUlIfvj5VfP411ehZ2MLCti9zYMOQ+uANj16a8ghLRC5CYacbM3ISoSsVRA9u6akmZFF9bv4Sk4L3Ivn+93GOkXDiojKPdXi9xvX3nUYg/thlp105qxJuKxFEACPt5NpLPH6hQUlbZWF+dcbSyZWIcpeciMbM2sn+hTqLqCdr1uBBM7vgF6tnUnC9aXmIU9K3rADLZo4ASX/k7fSVRjfhY3hCu+anxUORmKvdxrF/ysRzqKcudHF2sDg9HvqpAW+vov1YgP+UBjOo0hGOfyVrvlxsX/rAc7qU21TB09EDa9ZNPPGSt6i6soa1rlZepKD8XBemJynX27hVI5JWfjcitnyBq56IS3sM4AEBhDudQIaIXJTFTJWElPDGzrZo4avBwSpvisa+HU9vUAAAgAElEQVQ0OQ+nZjEqLY46KuNoYWYKivJzoaNvWKk4mnrlX2UfNrku3F/7XLuk7AlifXXG0cqUiXGUnpvEzNzI5oU6iXIdXbRx64O+jV+DRQ2ouyjMx1l/d2n4dkVcOIJe0+yoe9bfHRZNu6r1S6oM1WiAqtcrjWoYXJlcV9n/qoxjoahIY7+KzLnmPGAaHvyzFjnRt3Bv+2dwG/2pVvspHtZBx8CkjPoaKc/zw0FUKkvVoby8YYErUyZRVCitk1WgqYSqTCZuzWHw2EAi0ufdyAwmbs159SSi59rVr4aqDewUMl3zpuuNJWOho2+ENj+GP1GzNG3jaPGYqFPK1Cw6eo9G6FXFhMrEUYtmXaHISkPy+f24tWoymi3YA5lcT+vyVTTWV2ccrUyZGEfpuUnMGtr7Yk6PFc/ViQq4uAqRyTfUT55cHx3c+6NHoxGwMKw5yahMVx/O/aciJ+Y2ks7thYlbc6lfklAUIvbQT9C3dIBNu5dh7NL4iV8vP0XZf1DPvOxzoOpMKxSFKEhPVGteKR3r4RMffSvHR/sZmyM/OUa6y6TVB9vUEo1m/YrQT/sj+q8VMGvQBtYlNAPULKPFwzo9KHWbvCRVGZ+sX6HcSDkfSXn1qkyZ5Iam0NE3QlF+DgrTEyHX8i6p6j2y6zRS61E2iYieR3YdX4Wxixce/LMWemY2sC12TUw8HYCCtAQ49Z2sHOGwlB/7FY+j5Q9Br2tiqYyJKSX33VfFUbmhKeSGJpWOozLI4DllNS5/0A0Zt87i7pZPtJoCprKxvnrjaMXLxDhKz01iZqxnCmPLBs/ViTLUe/S0oqY9ISuJ64gFSAwKQNK5vbBpO0Tq7Jsbfxexh36CqWdrrefzUsmNj4AoUkCmI1dbnhoaqLw75O5TTrJkBX1rZ+QnxyDl0qESBwpRtZ03a9Tu0efJtSmy799A+o0g2LR5SevymtbzhcfYLxD+6zzcXjsNPnW9pKYKpVHdwcp5cAe5CZFqE3MDylGV0q8r2+2bFytjZZg8bFuuasNe1WUysHVBTsxtpN04BfvHAkr2vaullKkZMm6fQ2bYeQYUInqh2Xd9DfmpcXjwz1qYuDdXi5nJ5/ZC18QSHuMWVeiYhdlpKEhPgJ65emKQelkVR73Ljx1uzZAddQ2pFw/Dtt3LGuuTLx7UiAeVjaO6xhZo9PavCP2kHx4cWAPzhm1g03ZItcT66oyjlS0T4yg9bTo8BRW4M6Oji/YeA7Cw7waM8J1ZY5MyFantdbGLSV7CvYfL6lb4eOk3z+D2mikoKsiTliUG7URWZChkcj2tnkipLlL3/1yi0Ucr5eIhpIYGQkffCHadRkrLVUEk/thmqb+VFIBC/kL4+rmlvp5j7zdh234YFNnpuPn9hHKbiRjau8PM0w8QAnc3fahWVwC4/8f/UJiVChN3b60n5S6Ndcv+kMn1kH3vKhLPqDcnzY66hqtfv/xEZbJq0QcAEPPXSqltvSqYXPvmlRLLZPuwg3Nc4EZkRYZqrBdFCuQl3efFgIheCI/6lz2Ko0JRiPyU2ErNMaXITsfVr4eptYDIjr6JhONblNfgtkPLj6MdlHE08cwfSLt+Ur28CffwYL9yvkuHnhOqJI6auPvA/WFSeufHGch5cKdaYn11xtHKlolxlJ42zmOmpVZ1e2C035wa1WSx3IDy8ItfPKBIQaYSAcW0ni8Sg3Yi804IrFsNQEFGMhKDAgAAdQbP0qpJgsuQOUg69xdyY8NwaUF32LZ7Gbqm1siOuoqkc/sAmQz1Jn4LfUuHRwGl1SBYeHVC2vWTuPRhd1j59IKehZ3yjlT4BVj59i3zNeu/uQxZkaHIuncF4evnwvOtlWVu7zHhW1z5bCCS//sblxf0gHXLfoBcF2lX/kXG7XPQNbYo9xja0LO0///27ju+qbLtA/gvO+neLd2lUPbeQxGZihtFXKi4FSf6iOIr7oETxckjqDyCWxRFUUBZsnehFDroHulK2+z1/pH2tGk60pkCv+/7eT+PJOkZ9zm5r1z3Ooi+8lHk/LgUp5bfBfW2tVD26A1DYRoqjm4R5o219ZgiZy1A8ba10OWm4NiS6QgafgmM5QUo3f0TFCHRUKl8XQKsX59xCJt0E4q3foVjS6Yj9IK58IruC5vZCENhOsoPb4IyLA4Dn93Q4vmVHdiA4q1r6t17jvsx+4dXIftzBQAgbNKNCBpxKSsYIuqmiZnrohnGsjzYbVan2OouVVQSjMVncOiJsQgZdw3EMiVK/v0eFp0Gfn3Hu9WbFTBkCkLGXo2S3T8h5fXrEDz2aijD4mEqL0DJ7p9g1VUi7ELnurW9cTRiyu2oSt0N9c7vkPruPAx6YVOz89XaEus7O4625ZgYR4mJWXdNzGKnnHXHbCovBEQiYbUnx2uOVjplWILb26md7BsxdT7EchUyVz+F/A0fAgAkSm9EXf04oq9ybm0T1TyLRNRg3L1E5YtBSzbgzP+eQeneX1Cw8dO6VrnYgYibuwQBQxqUtUiEvo+vQeaXT0G98zuhVUwsUyB0wnWIu/EFl/3WH+8vUXqjz8Nf4NhzM1C8bQ1CL7ge/v0vaDoBTRiKQUs2IHP1YlSm7hKWLxaJJQgcNh3xN70EVY9eruVUe84S9+caxMxeBLHCG3m/vIPyI5uAI5sAkQh+fcYhvt55teWY5AHhGPD0T0j7ZAG0Wcegyz0JkViC4LFXoeetryN12e0wFGVCVG/FTgDoddcyqCJ7I/+3D1C05Yu68xNL4B0/GJGX3u/Wuemyj6PsgGvgqTq1t+6axw9mQCGibstcURMzw+tipqms9rX4VsRRx88tn57DEXn/p0j79EGhfhWJJQgZPxuJt7/ltIKyEENFIiG+1Op9/ydQRSah4M9Pod7+dV29HxiB2NlPoseMe9scR2vjZ8N99rzjHWhzTkCXfRz5v76HmNmLmjzfNsX6er8ZWrOQirtxtC3HxDhKXU1kt9vtLIZzk81shN1qhkTpI7xmt1lhNVS79eDG+izainqTZ83Q5Z4ERCKoevRusgK1GqohksiafN9m0sNQmAGbxQR5UKRbLWdWgxaGwnRALIYqItGpNcxxbBbH+dUcq9N7FhOsRl2j7zV53tVlNb2MIijD4iHx8mtVebvLbrVAX5AGm0kPZVgcpD5BHXJMtQzqLFiqypy2bbeYYLOYhcnhrgdlh6E4E+aqckiU3lCExDT9WSLqUPmaDLyxue7H290TXkS/8FEsmC5mt1lh1Ve5xA2LtgISla/LnOtm45e+CmK5SkjS9AVpsOqroAyLh9QnsG1xxW6DvjADVl0lpD4BjkbXBklCa+Nos+dnt8Gi1UDi5ef2ubcm1jdV3h0dR9vy+4NxlJiYERERMTFjYkZEdB7g4h9ERERERERMzIiIiIiIiJiYERERERERERMzIiIiIiIiJmZERERERETExIyIiIiIiIiJGRERERERETExIyIiIiIiYmJGRERERERETMyIiIiIiIiYmBERERERERETMyIiIiIiIiZmRERERERExMSMiIiIiIjo/CDtjI1+uP1JpKmPAgBEIjEUUtV5U6D9I0bj5lH/4Z1FRERERESeTcxMVhPssAMA7HYr9Obq86ZAjRY97yoiIiIiImqVThnKKBKxYImIiIiIiNzVKT1mKpmP8N8+igCMjpt23hRohF8c7yoiIiIiIvJ8YuYl8xX+21cRgMsH3sGSJiIiIiIiakInDWWsG8tYO9eMiIiIiIiIujQxq9us3c7EjIiIiIiIqOsTM9TvMbOxlImIiIiIiLo6MRPXH8rIHjMiIiIiIqKuT8xEqD+UkT1mREREREREXZ+YcfEPIiIiIiIiTydmdZu1sceMiIiIiIjIA4kZOMeMiIiIiIjIs4mZiHPMiIiIiIiIPJqYiesPZeRy+URERERERF2fmIm4XD4REREREZGHEzMul09EREREROThxIzL5RMREREREXk6MavfY8bEjIiIiIiIqOsTM6fl8jmUkYiIiIiIqMsTMzGHMhIREREREXk2MeNzzIiIiIiIiDycmKHeUEYbe8yIiIiIiIi6PjHjHDMiIiIiIiJPJ2YcykhEREREROTZxEzM5fKJiIiIiIg8m5g1fMA0V2YkIiIiIiLq6sSswWbZa0ZERERERNTFiVn955g5EjPOM+tIc574DmNu/i9KKnQsDCIiIsZRImJi1jhRw8SMQxk7VJXOBKPJApPZysIgIiJiHCUiJmZNJGYcykhEREREROThxIxDGYmIiIiIiDydmDXoMeNQRiIiIiIioiZJOyUxA3vMWis9pwzf/HkcKRlqmMw2RIf74tKJSZgyJsHtbVTrTPj8l8PYm5wHg9GCmAg/XDKxN6aO6dnu/WUXaODvo4C/r5IXi4iIWi216ADC/eIQoAphHCUi6rLErEGPmY09Zs1avzUVz328FTabDUlxjoC17UAWNu/JxOWT+uDFBya3uI0yjR43LPoeRaVaJEQFIMBXib3J+di8JxM/vn09ekYHtnl/v+84jafe2wwfLzn+/u9tkEnFvGhERNQqyQW7sWLXEoyOm47pfW/s0ASNcZSImJg1mZixx8xdp7JK8fzHW+GtlOGdJ2ZgRP9IAEBuUSUWvLoB67emYvzQGFwyoVez21m57hCKSrW4//pRuHv2CACA2WLDhu2nEOyvatf+SjV6AI6WRKPJAplUzgtHREStZrVZsCtzA/Zm/dlhCRrjKBExMWsuMeOqjG5bue4QLFYb7pszSqjcASA63A8P3TgGj725ET9tTmkxoGQXagAAQ5IihNdkUjGunNy33fubNjYR2YUaRIX5wceLwYSIqLPZbM7LuFcaylCqLTirz8lg0bokaPuy/sLY+JmY0uf6NidojKNExMSsGeKGi3+wx6xJu47kAAAuGhnn8t6g3mEAgJOZJS1up3dsELYdyMLyr/cgrsd0RIT4dNj+woO98fQdF/BiERF1kRJdvtO/vz7wzjl5nhabGTsy1mPXmd/b3IPGOEpETMya0XAoow1MzBpTrTNBU20EAMx/7heX92t7Gqt1pha3dfuVw7D9YDaOnS7GZQ+uwcWjEzB35kAM79ejU/ZHRESdRyXzPa/Ot34P2g0jFmJ4zEWMo0TExKxDEjMOZXSL0Vw3VGXUgEhIxKJGPxcfFdjitny85Fj9yjX45o9kfP1HMv7clY4/d6VjxvhEvPzgFEgl4g7dHxERdR4fhf95d84JwQMwJek6DOgxlnGUiJiYdRQxF/9wi6+XHCIRYLcDC+aORliQd7u2p5BJMO/yIbj5ssHYvCcTL6/Yho3/pqN/z1DcesXQDt8fERF1jiCvcNw6ZvE5dU57zvyBk0UHXF5PDBmEmf1uQa/QwYyjRMTErKO5rMrI5fIbJZdJEB8ZgMy8CiSnFePi0Qkdsl2xSIRpY3vCarVh0bJN2Hc8H7deMbTT9kdERB1LJfPB0Khza05SuvoogLrErC09ZIyjRHQu65QHabgOZWSPWVMumdgbAPDxd/tRUWVweV9nMKO8Ut/idnYezoGtwZBRrd4xxt1bJWvX/nIKNVi0bBPeX7uHF4yIiNolIXgA7hz3HB6a9Fa7kjLGUSI613TRc8zYY9aUeZcNwcZ/03EqqxTXPv4tLr+wD8KCvFGtM+JUVil2Hs7BTbMG44HrRzW5DbsdePDVDYiL9MfUsYkID/JGVkEFvv/rBEQiYPbU/u3a3z/7s/DHzjQAwG1XDIWvt4IXjoiIWiUmMAkPXLC0TUMWGUeJiIlZmxOzBj1mHMrYJKVCilUvXIl3/7cbv20/jVU/HxLeU8ilGDUgEjPGJzr9jUwqhkgESCXimvIGFtwwGqt/PYoVP9QbJhIViIdvGoPRA6Patb+oMMfqYMH+KngpZbxoRETUaqPjpjGOMo4SUXM5lL0TurOO5f+LlbtfEP791LQVCPONYWm3wGyxIbugAjqDBX4+CkSH+UIicR1tajRbYbHYnIZWAI4Wv5xCDap0RoQH+yAkwKtD9gcAmmojlAopFDIJLxQRETGOMo4SUQfrkh4zG4cyukUmFSMxJqjFzylkkkYrdpEIiO3h3+H7AwB/Hw67ICIixlHGUSLqLJ2z+IfLqoxc/IOIiIiIiKhrEzM+YJqIiIiIiMiziZlYxOXyiYiIiIiIPJqYNRzKaONQRiIiIiIioi5OzDiUkYiIiIiIyLOJmdjlAdPsMSMiIiIiIurSxIwPmCYiIiIiIvJ0Ygb2mBEREREREXk2MXMZysgeMyIiIiIioi5OzDiUkYiIiIiIyLOJGYcynlOqTu3B8VevRuHmVW7/jUVbgZSlc5CxcmGXHmvhppU4/urVqDq11yNlVZm6C6eW34kjiyfj+MtXouLY3932up7++H6c/uhegN9PIqJO1daYmL7yMaQsnQOLTtOtY35HMpbkIGPlQhx7fiaOLZmG/N8/Yhyl84a0UxKzBj1mNg5l9Ki8X9+HqSwfCfNeFV4r+fd7aFJ2Iu76/4PUJ6jZv9cXpkOTvBWKwEhgyu1u7dOqq0T5kU1QhMR06blWpx2AJnkr9BOug2/S6K7dd8YhHH/5StitFsgDI2AsyUbJrh8RMGhyt7wv1Nu/BgAk3rkMYpmiU/ahyzmBkj0/Q5eVDItOA0VINIJGzkLwyMuABkOeiYi6q7KDv6P84EZEX/0EFMFRQp1ftOVzhF00D769RnRKTKw4shnGkhxYtRpIvfy75FzbEvM7itVQjeQXLoWxNA8SLz9IlD4o3PgpIi+5j3GUcZSJWdsTswY9ZnzAtGcTs/XvQixTOCVmhVu+QGVNYkYdo/Cvz2C3WhAx7Q70vO0NwG6Dubr8vC2P0x/fLwQtp0C241sEj74CSQ9+BpFYwhuHiLo99bavUbpvPaIue1B4rfzQnyj6ezUCBk8FMIKF1AFK962HsTQP3vFDMOi5PyCWKWCuVDOOMo6eNzrnOWZ8wHS3YTVUw1JdDkVonNPrppJcSJTeLfaWkfu02ccBACHjrqlpoRBD5ht83t536u1fw6/veCQ9uBLD396PwS9uRvDoyx3Bd+8vKP57NW8aIjorGNRZgEjs1ONlLM0FAChCY1hAHURXE0eDR14q9EDJ/EIZRxlHzxtdNJSRPWaeYizOAgAow+LrZco2GMvyoeqRyALq4EoUQJcNN+nOJEofDHxmPfz6TXB6PenBlTiyaCJ0eakoPfAbwqfcxhuHiLp/LFVnQxHUAyKpvO61khxHYhbCxKzD4qjeEUcljKOMo0zMOjIx41BGT7NUl6EieSu0Z47WVHZVKNn1o/DfdqsZEIlRsutH+PUdD3lghNvb1uWlomzfepiryqGK7IWQcde0OhmxWy2oOPY3qtL2w6rTQOodCN+kMQgYOKnJMdN2mxUVRzajKm0/bCY9VD16IWjkLMj8Qlrcn7lSjbIDv0Oi8kPI2KvcCxC6SpQd/AO63BTYzEbIAyMQOHgKvGIHOH2uMnUXjOocWPWVABzDW7RZyZCofBA04lK39lWdcQgVyf/AUlUKeUAEAofNgCqyd5uPqT5TeQFK96yDQZ0DmX8oQsfNhiI0tsVjqkzZCc2JHbBoKyDzD0Xg0Gnwjhvk9jVuGEwAQCSWwK/veOjyUmHVVvCLSkTdlt1mRdmBDbAZtLBoKyD1DRbiKADo809DJJFCk7wVqsjeraofzZVqlOz6CYbiM5D7hyF47FXODahuqo0d5opiiBUqeMcORODwmZAovDo8jtqtZpTsXgebSY+Q8dc2uY+2xHp9QTqq0w/AUJjhOK/Mw1Dv+BYQiRA0cpZb+3I3jrbl9wfjKJ3diRmHMnpc+aE/cfrj+4V/lx3YgLIDG5wTrJwTOLX8TsTd8LzTuPkmK1jYkfXNC8hb/57TCkS5Py5Fvye/g3fsQLcTu9Rlt0Kfd8rlPZ+Eoejz6GphcnUtozobKW/dCF3OCafXM1c/jd73f4zgUZc3HQCrSpH8wizoC9IQOnGOW4lZ6d71SP/sEVgazBHLWvscQidej8Q73xWGWWR9/bzTKpBZ37xQW3ti/OpiQNT0iGGbyYC0T+5Hye51Tq+fWbsEUbMeRNwNz7XpmIS/2bceaR/dB6tR53S9Em57o+mkXluB1GW3QXN8m9Pr2d++hIgpt6Pn7W80e04tJrw1x3K+Dk8horODqbwAqe/eKvzbUJiOU8vvdPncqeV3InDoNPR74hu3tluyex3SP3sEVl1lXf36w2voddcyhE683r16VF+F0x/eg7KDf7i8J/MPRdKC/8K//wUdFkdht+HUB3ejdM/PUEUlIWTc7A6N9erta5H789vC++rtXwtzqxrrNWprHG3L7w/GUTrrEzOxiMvle1rw2Kuhiu6L/N+Wo2TXj0i86z141/SqlB/+Czk/vIbISx9AyLhroIpwb0hjya4fYbea0WP63Qi7cC4s+iqcWb0Y2qxjSH33Ngx7YxdEElmz2zBXqnH85Stg1qgRMn42esy4F/KAMOjyUpH97UuozjyMk2/egMEvbRa2ZTMbkfLmXOhyTyJw2HREX/EoJEofVKUfQN7P76B465omA4rVqEPKG9dDX5CG4NFXoNfdy1s8T82J7Uh973aIxBLEzH4SwWOuglimQGXKTmR9/TzUO76BROXjWOADQM9bl8JYkoP0VQthrihGwrxXoQiOhkTl22LFm/nlkyjZvQ6qHr0Qd+MLUIX3hL7gFPJ//xiFmz4TAkprjwkADEUZOP3B3bCZjQifPA8R0+6AubIEuT+/jfQVDzURfO1IfWceNCk7EDz6csTf/ApkfiGozjiI9P8+gsLNq6AIi3crkW8quGuOb3UEwUROliei7ksRHI0hr26D5tg/OLPmWURMnY+wSTc5YplGjZQ358K/30TE3fg85AHhbiZ7hTi1/A4EDJqMqCsegVTli7xf30fJrh+R9ulD8Ekc2fI0A7sdJ9+5BZrj2+DTcxhir30aqqgkmCqKUPD7hyjZvQ4n37oRQ17bAWXN/PL2xFEAyPhikSMpi+yNgU//AonSu0NjffiU2+HTcxgK/vovNMlbET55HgKHTgPEYvj0GtkhcbQtvz8YR+mcSMz4gGnPE8sU8EkYCrvFDAAIGDhJGAdf+2wt396j4dNzmPt1gdWM3vd9jNAJ1wmv9fvPtzi0cCQMRRkoP7IJQcMvaXYbuevehlmjRuCw6Uh6YEVdAAyJgW/vUTj46HBos5NRtn8DgsdcWZMQ/gBd7kkow3ui76OrhQrTK3YAQsZdA33+6SaPN3XZrahOP+hYvWjBfyGStHzLn1m9GLDbEHf9c4ictUB4XRkWD2VETyS/MAtFW75A9JULIQ+MgHf8YHjHD8aZNc/CDMB/wIXwiu7X4n4MRZko+ucrQCRGvye+gTI8AQCgikpC0IhZ0Jzc2eZjAoD83z6AzWxE0PCZSLzzXeFv/AdciNMf3YeSf793OaayQxuhSdkB7/jB6PPQ58KwDr8+49DnwZU4/PSFyN+wHFGzFrRpmd7SvethKi+EWK4UfuAQEXVX3rEDUZnyr+NHcK8RQsysHSXhFdOv1XHU0WPyplCH9r7vYxiKz6A6/SCKNq9E/M0vN7uNsgO/QXN8G2QBYRiwuC5JUoTEwPfBlTBXlUNzfCvyf1suNNa1NY4CQO5Pb6Dwr/86krLF6yELCGvxPFsb6xXBUVAER6H80EZoao4raOSsDo2jbfn9wThKXf77vVMSMz5gutswqLMhEksgD+whvGZUZ9VURtGt2lbImCudkjIAkAeEO1q14HiGWEtK9vwEAE7JhdBK4OUvbL/88F/C6+UHNwIAwi+e59IjJ1H6NB4U7XakfbIAFUc2tyop0xekQZudDInCC+GNPL/Fr884eMX0d4xRT27fw6PLD/8F2G0IHHyxEEzqtW7Av9/Edh1TxdEtAICIac5Db0RiCXrf+0HjAX/vekdZX3SLS8Dwih0ARVAUzBo19DXzAFrDqqtE5v8WAwCir3q8VfMaiYg8xViS7YiZwdH1YqsjjsqDWxdHZQFhNcPY6upXkUSKsAtvdCR86W7E0ZohexEX395oz1XEtPkdE0cBFP39JbK/f7VVSVlbY31nxtG2HhPjKHW1rln8g3PMPBpQ5IERTkmJoTi7TYmZWKZq9HVH79A6GMvym/17c2UJzBXFAACfuMGNfqZ2Uqy+ME14TZef6mgBi0xy+1jzfn0P+vzTUEX2djspA+qW6lVGJDY5VMM7bhB0OSdgKEhv17XR5zvGuKuikjr8mOxWCww1PyYam2jc1JBTXd5JAEDpvl9RnX7QNSgYtTXXUt26VT3tNpz+6F6YyvLh3/8CRF3+ML+cRHR2xFG16+qLdQ2crVuRUSxVNDrE3SvGMcrCVJrvdpzyjh/UbBw1qrNht5ohksjaFEcrT++Feue3EEmk6P/k924nZW2N9Z0ZR9tyTIyjdA4lZg2HMrLHrCvZrRacfOtGWE16WKrLYbeYkPxS3dhxbcYhAEDqe/Ph22sk4uYuadf+ape1bWl1IKu+SqjMJF5+jd+QPoEAHJN561qIHH8na8Uz1wKHToOxJAf6/NMo3ftL3bPFWmCpOUaZX9PPH6t99pvNpG9XudWWR0vPkmvLMdmMOqCmQUSi8m31MenzU4VWYqf9eAdAERIDZVhcq84144snUXbwDygjEtHn4VV8ICYRdXtZa5egKv0gtFnHAABpH98P1NRdtasH5v38NtTb16LvwjXtqtdqVza2uLHKnhATfBtfSbF+rLSZDJCoZG2Ko96x/SESi6HPP43cX95B4vy3WxVHWhvrOzOOtuWYGEfp3EnMwB4zjxKJYNFXwqwpAQCIZUpYtZqaJNkOq1EHsVwFq1bjssJfW5irSt2quCQK75rE0QyLTtPoEvu1LVpS78C6v1M6lsk1V5e6fUxeMf3Rc/5bSPv4AaSveAhesQPgFdWn5SSzZkne2rJr9Hw1RU6VeFuJa/ZlqSrt8GOSqHwhksgcZa2tgFzu3nL9MSQAACAASURBVHAHidIHAJAw7zUEj76iQ27H7G9fQuFfn0Ee2AMDFv3Ah5oT0VnBatTDqtXAqquEWKYQnrFVP4Gyww5LdRlgswpJW5viaGWJ2wmAEBMq1Y2+b9IU1yUhNXV6W+KoROGDPg9/gWPPTkXR5s/h13s0Qi+Y68bftS3Wd24cbf0xMY6SJ3TOHDOXB0wzMevSvEwswaAlfyD+xucAAOFT52PIq9sw5NVt6P+f7wAA/v0mYMir25wms7YcpKobfb26Zky8qoXER+YfKrRUNTUfrXZ8vU/CEOE1ZXhPAIAuJ6VV5RB2wQ0Iv+hmWI06pL47D1aDtsW/UfXoBQDQF5yGRadx/YDdhuqaHkfvhKHtuk7CeeWmdPwxiUTCKmG1z7Krr6lWWWXtvpqZCN4aeb++h9yf34bMLwQDnl7n1nNfiIi6g563LcWAZ35xxKSew4U4OuTVbZAHRUIsV2Hoq9sx6Pm/nB483Ryb2QC71dJIHHUMefOKbrkBUdWjt1O8dNlW2n5HPIgfJMxxamsc9Yrui541PWXpKxe6LLXfkbG+M+Nom46JcZTOncSMD5juDowljnHxynpfYqO6Zn5ZG77YpXvXo3DTSqfXdNnHoUl2LNsaNGxGSzcGgobPrKlo3nc85LoegzpLWOEoZMK1wusBQ6YCAIo2r3IZPmgszUXRli+a3GXCbW/AO3Yg9Pmnm17ath7vuIFQhMTAZjYif8OHLu+X7PoRhqJMyPxDETDgwnZdn8ChjvOqSN4qzBkQgrfJgNx1b7XrmPz6jXeU25bPheEYAGA1VOPkWzc2eky117Bw00pYDdXtOr+izZ8ja+1zkHoHoP9TPzb6oE8iorMhjjrFTLsdptJcKEJjWr09s0aNtE8ecErOrPoqFP2z2hEXWoqjAAJHOFY/Lt76FUwVRQ0SPyPyfnM8Fqb+Yl3tiaOhE+cg/OJbYTPpcfLdW4Wheh0d6zszjrb1mBhHqat1znPM+IDpbsGgznUElPoTlhsLMm6S+QYjY9XjqDq1B8Fjr4alqhTZ374Eu82KoBGXwqvmOWnNibn6CZTuXQ/N8a048epsRMy4CzLfYGizjyPvl3dgMxsRMe1Op4dVh114I/J/fR/G0lwkv3gZwi662fFMkLQDKNz0GXx6Dkf4xbc2fi/KFOjzyOc4sngySnb/BN+k0egx455mAooYcdf/H059cDdyf3oD5ooiBI+5EiKxBJrkrcj//UNAJELCvNfdbiFtild0PwSNvAxl+3/F8ddnI/KS+6Hq0Qv6gnQUbvoMptI8RF/5WJuPKfKS+1Dy7w8oO/gHTn/yAEInXAdTWT7y1i+DqSwfsoAwYehGreAxV8Ln9w9RnXEIR56+CLHXPgWv6L6wmY3QF6aj/NBG2Iw69F24ptlz0545ivRVjwMAfHoOQ8m/P6Dk3x9cPhcy9ip4xw/hl5WIzprEzKQphs1shDKk9XFU6hME9c7vYCjKQI8Z90IsVyBv/XswFGVCHhSJsEk3t7iN0AnXoeD3j6DLTcGx52Yg5uonoAxPgKmsAPl/fARdzgl4xw9GRL1VfNsTRwHHsLzqjMPQnjmCtE8WoM8jX3R4rO/cOCpq0zExjtI5kZi5DmVkj5knmEqbScxas5JUTQ9o9DX/gS43BUWbP4d653fC2/4DJqH3fR81+jcNl4pVRiSi/6IfkPbRfdCk7IAmZUfdn0jliL7iUcTOWez0NxKlN/o9+R1S37kF1RmHhGF7tcEy5pr/NLtfZXhP9LpnOVLfvRVnvnoW/v0mNptEhoy/FhZ9FbLWLEHR31+i6O8v65JTvxD0mvcaQsZe1VhBNfjflvW+9wOcWm5E+eG/kLX2uXrn7IP4W14RzqMtx+QdPwSJd7+HjM8eg3r711Bv/1oos/5Pr0PWmmddAopIIkW/J75B2sf3o/zIJpz64K4G78sQdcUjLTcKFGcBNd/7imN/C8/Oc02clQwoRNSNE7OOjaMBgy6C/4ALkfnlIqf6VRkah74Lv3JdebeRmCaWKdD/qR9xavmdqEzZibRPnR9UHDTiUvS6+32nhrr2xlGxTIE+D6/C0cWTUbpvPQo3r3JK/BpqS6yvv0+RqOPjaFuOiXGUuprI3gndWVpTJZ75dY7w7znDH8a4+EtY2l2sOvMwzBVFCBw6XaiYDEWZ0OWcgP/AScIE1ZaYq0pRlboLvn3G1bQuJaPyxHYAIngnDIVf0hiXBMxus6LiyCZIvQPhmzTaZZt2qxmVJ3dBl5sCu8UMeWAP+A+8EDK/0CaPw241Q3NiB3S5JyESieAV0x9+fcc7LYWvL0iDPu8k/PpOcFmcoyptP8wVhfDrO96tibNWXSUqjm91LJUsEkEVkQj/ARdCLFc2+vmq0/tgripF4JApTS6j23TL2BFUnd4Hm8kARVgcAgZe1Ogk8NYeE+CY0Fx+5C9YqsuhjOiJwCFTIZLKoT1zBGZNCQKGTGn073R5qag6tReW6jJIlN5QhMXDr/foJle0cmqMMRtRnX6gxWcYekX3g8w3mF9WIuqeiVlpLrSZh+HX/wJhwQirrhKaE9vgHTfY7dEndqsF5Uc2QRWRCFVkb5gqilB+4HdYDdVQ9khEwKCLIZYpXOPKqT2waCsQMGRqo6vwabOOoTrtACz6Ski9A+HXd5wwL7mtcdRSXYbKk//CK7oflBHOy7kbijKgzT4Or+j+bi313tpYbyjKgC7nBHyTxkLmF9IpcbQtvz8YR+msTsx05mosXl83Rve6YQ9hfMKlLG0iIiIiIqJGiDtnow2Xy+dQRiIiIiIioi5NzFwfMM3FP4iIiIiIiLo2MWOPGRERERERkYcTMxGXyyciIiIiIvJwYsYHTBMREREREXk2MXMZysgeMyIiIiIioq5NzFweMM3EjIiIiIiIqIsTMw5lJCIiIiIicpe0UxKzmv+rXSafQxmJiIhar1RbCK1Jc16ds0yiQA+/eF58ImJi1mHJmUgkJGQ2LpdPRETUahtPfoV9WX+dV+cc7huLRdM+5cUnovOOuLM2XH+eGZ9jRkRE1Hol1fksBCIiJmYdmJiBQxmJiIhaq7gqh4VARHSe6LShjGKnJfOZmBEREbWWrzIQWlMlACAxZCBm9Lv5nD9nuUTJC09ETMw6EocyEhERtY9MLBf+20cRgN6hQ1koRETnqM4bylivx4zPMSMiIiIiIvJEYsY5ZkRERERERJ5OzOp6zDiUkYiIiIiIyBOJGeonZuwxIyIiIiIi6vrEzGkoI3vMiIiIiIiIPJCYsceMiIiIiIjIo4mZuN6mbZxjRkRERERE1PWJGZ9jRkRERERE5PHErN5QRi6XT0RERERE1PWJmZg9ZkRERERERJ5NzLhcPhERERERkacTMy6XT0RERERE5OnErK7HzMYeMyIiIiIiIg8kZqjfY8bEjIiIiIiIqOsTM6cHTHMoIxERERERUdcnZlz8g4iIiIiIyMOJGRf/ICIiIiIi8nRixh4zIiIiIiIijyZm4nqbtnGOGRERERERUdcnZk5DGZmYEREREREReSIxqzeUkcvlExERERERdX1iJmaPGRERERERkWcTMy6XT0RERERE5OnErF6PmY3L5RMREREREXkiMWOPGRERERERkWcTM9R/wDQTMyIiIiIioq5PzJx6zDiUkTzHaqiG3WpmQbB8iYioDWxmI2wmPQuC5Utnb2JWf1VG9pidy7RnjmLvPb2Quuy2bnVceb+8i30P9MWeO2Kxe34MCjZ+etaVbene9dg1LwyZq5/2yP4NhekwVxSfs+VLRNRdHHhoMPY/OBB2q6XbHFP5oT9x6Ikx2H17FHbPj8ap9+9gHG0lc0UxDIXp52z50tmSmNVflZGLf7ScRPz6Hg4uHAV93inhtbL9v+LgYyNRdmBDtz52i74SluoymMryuk9FvOdnZH3zAqxaDULGz0bgkKkwluaedfeF1VAFu9UCq1bT5fuuOPY3Di4chQOPDIHVqDsny5eIGEe7C2NpLkxl+bDbrN3kePKQuuxW6PNPI2DgJIROuA7mqlLG0dbsW1+FA48MwcGFo6A5vvWcLF/qWNJOS8zqDWW0cShjiypTdsJQmA6x0lt4rSr9IAxFGRCJpSygVlL/+z0AIG7uEvSYea9zRamrRPZ3L0MRGovISx/w6HFqzxxF0ZYvEDB0KoKGX9KtyrC5HwfNlW975a57E+aqMsRd/yzEcmX7gmI3utYe/WHCciDGURZQK5XtWw+b2YigkbPQ99HV3bZO6db1m90Ou63mN7Dd/fJlHD1/42jnPWAaHMrYGgZ1FkRSORRBPepaU0pyAACK0FgWUGvLsygTAODTa5TLe6aKIhT8uQKFm1Z6/Dir0g+gcPMqlB/4vduVYeCQqRi6dBeGv3MQEoWX2+XbXgV/rkDBHx/DUl3W7m11p2vtSSwH6ja/U2HvtMZaxtEOLs/iMwAA314ju3Wd0p3rN4mXH4a/cxDDlu6G/8BJbpcv4+j5G0e7aI7ZudVj9vuJL1BlLO/QbRrV2VCExAD1ys1Y4hgapgiJYYRoJZvJ4KgUlV4sjHbwiuoDeWAPli8RdUzdbLPilT/nY1fmBtjsHTtkj3G0o+OoYzEKsYL1fHsogqOgikpi+ZJbumQo47m2XP7WtHXYcup7jIqbhhn9boK/MrhN27Eadcj+5gVYDVrYTAZYDVVIX/mY8L4uNwUiiRRn1vwf/JLGInTinJYDU0kOCv5cgeq0/bCZDFD2SETohDkIHDrN+YN2G9T//oCy/b/CUJwNkUgEZXgCgsdeheCRlwH1rp/wJ1YzCjetRNmB32GpKoMqsrdb3bm63JMo3PQZtJmHYTOboAyLR8iEaxE86nK3y8pSXQb1zu+gOb4dxpIciMQSqKL6IHzyLfDrO174XMHGT6DLPg5zpRoAkPP9a5B6+0Os9EX8jc8j88tFMFeWAADMlSVIX/GQ436VKZAw7zWIxBJhWxVHNqN4x9fQ56dBJBbDO3YAwqfOh0/CUOfrqK9C+sqF8Os7DuEX3YLcdW+i7OAfkPkGI/HOdxv9QWAoTEfer+9BVzMXojJ1t3Asquh+iLzkvkbK34KiLZ+jZM/PsOqr4BXTH1GXPQSv6L6dUu5WfRUyPv8PFMFRiJ3zTIvlm3DLy81uz26zovif/6Fk9zqYK9WQB4QjYMhUREydD7FMgfwNH0CflwqrvgoAcGbtEkjkKkAkQtTlj0AZngAA0BekQ73zW1Sd3guzRg2Jygc+PUegx4y7oAyLF8qqs691xJTbUbr3FxT9/SXMlaXwiu6LqMsfFq5HZeouFPz+MQxFmVCExSFy5r3w6zehyfu74M8V0JzYAYu2AnL/UAQOnY7wKbdDLFM4fVa9/WuUH92MhJtfAUQi5P/2PjQndgAiEfz7TUDU5Y9A6hPYpnIg6gql2kJ8e+g9bD71LaYkzcGY+BkQi9p2H3o0jtZ8z9Xb1kKXmwKbyQh5YAQChkxF+OR5TQ4hKzuwAcVb18CozobMPxRhk25CyLhruk0crTi6BaV71qEydTcAoOTf76HLOgaIRIi+6nHkrV/WLeJoW+q31sbR1tTNTcn+5kUYy/LR87alkKh8my3fmNmLGm0MZRw9f+KoyN5J4ww/3/MSjuTtAADEBibh0cnvnTNBZdEvV8NocbR0SMUyjIqbhpn9boafMqhV2zFr1Dj0+GjYzAbYzEaIJDKIpTKngCMSSyCWKRA44hIkPbCi2e1VHPsbqe/cAqtRB7FcBbFMAYu2AgAQM3sRYq75j2O7ukqkvHkDKlN3ASIRFEFRsJkNwk0XNOJS9Hl4FUQSWb2WHQNOvDbb8TcApD6BNdsWIWTcNSj593v49hqBQc//5XRMxdvXIn3Fw7DbrPCOHegIMHmpsFtMCLvgBvS69wM3ErsUHHtuJqz6KkgUXpCHRMOsUcNSXQ6IROh9zwcIvWAuAOD4K1dBc3ybyzbEchVGfZSKvXclNDp3SiSRYsxnOY4vr92O9M8eRdHfX0IsU8A7fjDMlaUwFGcCEKHXXcsQNukmp1baA48MRdDwSyCSSFG6b73wXv9FPyBg0GTXa3V0C068fm2j5+vXZywGPuuYqF68bQ3SPlmAwGEzYKkqRVXafojlKqGlTaL0xqAlf8ArdkCHl3vteSlCYjBi2ZEWy3fsyhynluqGDQEnls5BxdEtkAeEQxmRCKM6C8bSPPS87Q1ETLsDx5ZMR1Xa/kb/fMDTP8F/wCRHeXz6EGC3QeYbDKlfMIzqHNhMekiUPhj0/J/wiu4Lq1GHvXfGdeK1ngmpbzCKt34FsVwJm9kI2O3CMZTu/QU5P77u+A7ZbbBbLRCJJej3n29d7gftmaM48fq1MFeWQBkWD5lfCHQ1gdU7bhAGPPMLpF7+wufTPn4AxdvXIvHOZcj+9kWYK0sgUXgJC7SoIntj8Et/C6+5VQ7Ubb295UHkVJwGAAyJmojbxjxzVp+P1WbB4+suc3ot2DuizQmap+Io7HZk/m8xCv74GAAg8wuFWCaHsSwfsNuh6pGIAU//DHlQpNP2z6x5Fvm/LXfU315+sBl1sFstCJ14PdQ7vgEAjP28wOl72dVxNPenN5D9/auN18XPrMeJV67qFnHU3fqtrXG0tXVzUw48PATGkhyMePcwFKGxzZbvoOf/gm+vEYyj53Ec7bTE7Is9L+Nw3vaaSrcHLhs4/5wJlGv2vwGz1eT0mlyiwPies3Bx0nXwVQS2anslu9fh1PvzEXfDc4i6zJGFG4rP4OCjwxE85kr0eWhVy8GpqhSHFo6CRVuB2DnPIOqyByGSyGAoTEfWNy/CbrWg72P/AwCkvnc7Svf8DN+kMeh930dC64jm+DacWn4nzJUliL3uaURf9biw/ZwfXkPOj0sh8wtF/6d+gHfsQJjK8pGx6gmUHXTMj2qYmGmzk3H0mSmQKL3R99HVQiuHofgMUpbOgb4gDUkPrEDI+NnNnpvm+Fbk/vQWIi9/CAGDJjtaJux25Pz4OnJ+XApFcDRGvHfUkUCajbCZDTj69EUwqLMw6LmNUEUlQSyVQyxXwWrUQZ+XiqP/NwXK0DgMfuWfmi+XTJhHVfjXZ8j4/Al4xw5E38fXQhEc5TiO5K1IeesGwG7HsDf2CHMWaisZsUwBm9mI6KsWImLqfBiKMuEV0x9S74DGf6DoKlG09Suc+d9ihE68Hgm3vuZIcmRK4UteG1AcyXAQet3zPoKGzYRZo8bJZfNQdWovgobPRN+Fazq83BtLzFoq36aUHfwdJ9+6CQGDL0a/x7+GSCIVylSi8oVP4nBh24cWjoa5Uo2hS3dBHhgBEUSQePk57sMfl8JQlInIS++Hd9wgRzkaqnHq/TtQfvgvhF4wF73v/VAI2p11rUViCSASIf7GFxAx/S5YtBU4+daNqDq9DzK/EJgrSxB12YOImf0U7HYb0j9dgJLd6+AdPwRDXv67XoOHHoeeGAtjSQ4S5r2KHjPuEY799If3oGz/bwi/+FYk3vGOS0ARiSXwih2A3vd+CK+Y/qjOOISUN+fCrFEj/qaXEHnp/W6XA3VfL/w+D+V6xyMrAlQhiA/qd1afjx12odG2oVCfKEzveyOGx0yGWCTu1nG0tu6QB4QjacF/6+rZokyc+uAuVKcfhP+ASRjw9E91sezEdhx/+UqIxBL0uucDhE6cA6tRh7xf3kHuz28DNT/H6idmnoijdpsVVkM1Mr9YBPWObxB3w/MIv3geRCIxJCrf7hVH3TiWtsTRttTN7iZmLZUv4+j5HUc7cSijuN6whQJ8seflczp4mqxG/HP6R/yb8RvGxs/ElD7Xu92DJkxODo6u96M4y+W15hT9/SUs2gr49R2P6CvrhnEoIxLR5+HPhVYAXe5JlO75GSKpHH0e/hzygHDhs/4DLkT8TS/i9Ef3oWDjCsd2RGLYbVYUbnIEtcQ73xFa7ORBkej72GqcWn4nSnavczmmvF/ehd1qRszsRU5dz8qweMTNfRYn35mHon9WtxhQ/AdMgv+ASQ1vMGFIhbE0F+bKEsj8QiCWKRwBTey4/yQqH6dWEonCCxKlT003j9i1tctucwRIkQi97/tIqGAAwH/gJIRPvhUFGz+Besc3iL76Cac/tZmN6DHzPsRet9hRPs0MR6htLa0d6iKWyppteZP6BGLgs7/BK6qPo3U2IAwJt7yKo/83BZoT2x0BvWb4aUeVe2NaKt+mGAozAAA+PYcLwaS2TF22XTOKVqryddm20FpdvxyVPoi64lGUH/4L2oxDXXKt7XYbku5fIQw/kvkGI+6G55D8wixHw8b1/4foKx4VPh9/y6so2fMztFlHYTMbhR9d6u3fwFiSg+BRlwvBpPbYE+e/jfLDf0G94xskzHvNpUXOO34wBiz+BZKaFeh8eg5D5KULkLV2CTQntgkBpcVyoG4eWwx1vTn6EqHB81ykrs7DV/vfwB8pq1vdg9aVcdRutSB33ZsAgITbljrXs+EJ6PPQKhx4ZBg0x7dCl3MCXjH9HT9g//wvACBi+t3CkEqJwgux1y2GzD8MmV882S3iqEgsgdTLX+h5FMuV3TeOtqJ+a00cbU/d3OLv4xbKl3H0/I6jnbj4h+g8DaJGbEv/GR9s/w8q9CVuBpRsR/CoN4baoM5xea351jDH8LLQCdc1WXkBQPnhPwEAQcNmOCVltYLHXAWxXAlzpRq63JMAAH1BGsyVaki8/BA4dHrDGgbhUxvvDa045mjRCBrhugy8T6JjFSLtmaNtv8ckUsgDIhytGTXjqdtLl5MCU3kBFCExLsMaansFAaD6zLFGKv0gxM19tlPuq6BhM4VgIpRhwlCIJDJYDVpYDdVdVu5tUfvDpGjLF8Jw2I6kCHH88LK04j5oz7VWBEe7zAmpP44+ataDTu/JA8Ih8w0B7HaYyvKF18uPbgEABI6Y6bIPmX8oFCExsJkMMBSkubwfMe0OIZgIx9zbsUqmqbyQGQ2dtaqNGpRqC2GomTLQ3eKo9sxRmCqKIPMNRvDIWY3URzHwr5mzpTlR1ztYW/eFTnAdxt5j+l2Mo90ojranbmYcZRxtj87rMeu8nK9bC1CFYHLvazE+4VJIJfLWtfSFNNLSFxLt5jZqVp5qYUng2hYXZUTPxjN1mQLywEgYijJgLMuHV0x/p5bI+q00zbHqKh1j1wEkv3iZ6wdqhmxYdJXuFazdjorkf6BJ/gfGsnyYK4phs5hgqqj94nTMiFxDTbmbK4pw4OEhLu/XrkZo1Vc20uLk3bXzdUQiiBUqWHVm2CwmSDqj3DvqezFoMsIuvBHF29Yg+YVZ8OszFhFT5yN4zFVu31P1r0Hp3p9RnX4QpvJCmCtLYDMbnM6vs691o98duQoisaTJ579JVD4wV6rrjrXe9zxr7XPI+f4114aeiqKaQOneMdQGGLvFxF/35whfZRBMFqOj3pZ5IUAVclafjx125FY0/mNWIVVhYs/LcVHv2fBRtK5FukvjaFFNHA2Pb3JerTIiAZqUHcIPSJupbh537fQBxtHuGUc7o25mHGUc9XhidumAWzGp99UwWYwwWvXwVQScM4Fy+dbHYbIaXRKyqX3mYkz8DEjFMre203Ahhf0LXFsbTr59M8RyFUZ/mtFsZSVMYm1hrGvtzdzc54SVpGq+GHarRUja3P7Sm+vKx7//BRCJGw9eqsgkt4JT7WIlYrkS3rEDIfMLgUTk2+ErytUet0Tli4AGzxypX5EHdrOHQXdGuXe0XvcsR+CwGcj/7X1Upu5GZepueK9/z2lMeoutc9nHceKN62Eqy4fMLwSqyCRIfQKdKumz6VrXHrd33CAoGiwSUBeIfIV5AHT+eXLqx+fU+TS2+IdcqsTYuBmY2mcufJWtm6PtiThqrfmxKVZ4N/sDE4DwA9Nus9RVK27GUsZRT8bS7lk3M46e+3G00xKzIK9wBHmFn5OBsv78ubb0kNUKnXAdvKL7oWDjJ5D5BiOk3vCJkl0/wKxRo8eMux0rQ0mb37bUyw+msnyhZaDJz9VMoG2ui7a2hU8e6BjeIPcPc7SIVJa4fW4SLz/HWG27HbFzFrc4Trw52d+/gsrUXQgYNBlJD37mNAn44GMjYK152HGHfCFqti1R+SHxrrNvJdGOLPfOEDz6cgSPvhzVGYeQsXIhqjMPI2PlY+j3xDdu/f2pj+6FqSwf0Vc+hpjZTworh5rK8rH/wYFn3bWuPYbQidc3OXyK6FzVnoTMs3HUvyaOFjT5GWNpbRx11MESpY+wEqClsgQSNx54zTjqwR/H3bhuZhw9t+Po+TnesAMEqEJw9eB7sXj6SlzY66pWJ2UAEDbpJkRd8Ygj048fhIRbXhH+XyyVQ+odgIR5ryFu7pJGnytWX+3Y3sqT/7bwOceXruLolka7q6tO74NFWwGJylcYz1w7Pt9YkiMMF3FqfclKdr2xZAqoevQCAFSnH2hXWde2hkZd8UiTKzO1KrGWOFoHG+umrl3YxFiSA7NG3flJvtjRNmKzmDvmC92B5d6ZfHoOQ9/H1zqu74kdTZSJ8/UxV5VCl30cIokUMdf8x+lxDmfDtW5M7TFUpx/s3PusmXIg8kRCdmHilXhm+ipcPeS+NidlnoqjtS3v+oI0YShXfVajDpUpjnrNr89Y4fXaIZWakztd42j2ccbRblS/dVXdzDjKOMrErANcPfheLJ6xqs0JWX114+LrWs/sVgtM5YUtjnN3bkG5AgBQvPUrYfx7rbL9vyJjlWPp++CRsyCWq2BQZyHvV+fWDZvZiKyvn68JdjcLX1iZf6gwIbPh+N2Sf3/AmTWNT9QNHe+Y4Jzzw1KYq0pdg5dB61YvnNCa06CXr3j7WhjV2a0uc1lND6CpokgYv1/3Xij8B1wIu9WMrLXPCcM46zNVFDkNMWkPmX+oIyjnpnTY/dlR5d6RKk/+C6tB63wcesdEa4nKp9Hr07BMxDX3gd1qcTp+u82KnJoV0rrztW5MSM0iAEV/fwltsKF8HwAABrRJREFUluvkaLvNCmNpbgfcZ02XA1FXEosleHbml+1OyDwZR5Vh8Y5FDex2nFm92KWOyP1xKSzaCnjHD4ZP4nDh9drFs/J/Xe600IQu+3iTz7VkHPVM/dZVdTPjKONoQ1JQq42Jn9Fh22pssrGxLA92m9UpyLQYUEZeBv9+E6FJ2YEjiycjcMhUyPxDUXV6H6ozDiFwmOOYpT6BiL/pRWSsehxZXz8PzYnt8O01ClZDNcr2/QqDOgtesQMQe91TTtuPnfMMTiy9DsXb18KkKYJPz2HQZh5B+ZFNCBp+ifAss/oiZy1Aye6foM1OxpFFExF6wVzIA3vAqq+ENisZFUc31yyL+3TzicbEOdBmHUPml0/BWJIDeUA4yo9sQumen4VnXbSGROkD7/gh0J45guOvXAX/ARdCe+Yo+j3xDcRyJRLmvYZjS6ajePtaaHOOI3jUZZCo/GCuVKPq9D5UpuxE/0Xfuy493Aa+vUZALFdCe+YoUt68AcqweFj1Veh1z/I2b7Ojyr0j5fzwOnQ5JxAyfjZUkUmwVJej6O8vAQARU253+qx//wnQnjmC9M8eheb4DhhLchB56X3w6zMOgcNmoPzQRpx4/TpE1KwGWrxtDXQ5J1xWVupu17oxfn3GIWzSTSje+hWOLZmO0Avmwiu6L2xmIwyF6Sg/vAnKsDjhgeNt1VI5EHUVEUTwlvt16Da7Oo4CQMJtbyD5hVkoO7ABR5+5GEHDZwISKTTJ/6Dq9D5Ivfxd6vHIWQtQvG2t42HPS6YjaPglMJYXoHT3T1CEREOl8oW+wcpxjKOeqd+6qm5mHGUcZWLWzZgrHGPUleEJda0LZbWvxbci2onQ9/E1yPzyKah3foeS3Y6HWoplCoROuA5xN74gfDRi6nxIfQKR/e3LqDi6xTGsEY6VaCKm3YG4Of9X97yGGgGDL0bSAyuQ+b+nhb+RKH0QM/tJRF/xKHbPj4aoQe+hWK7CwGc3IGvtEqh3foe89cvqvaeEf/8LEDLu6pYTjUvug1mjRsHGT5D97UsAHMum9r7vI1SnH0TBnytcuuNFNc8HETXRo5l45zs4tex2aLOOQZt1DDL/UKGb2iu6LwY9/yfO/G8xKpK3Oi1FLPUJQugFc+GTMMx1X9LW957K/EKReMc7yFi5EOWHNgIAgkbWTYyvnRNRuw+X1mepHFaR2GlFpo4q9+bOq6XydbmGlz6AM2v+DwUbP3Uqy7gbnkPUrAVOn42+8jFos5KhOb4NBX98BJFEhugrHc8y6XX3+0j/7FGU7f8NGZ87noniHT8EA5/dgLRPFsBW85whT11rkVQGWMWNTtKv/duG81x63bUMqsjeyP/tAxRt+aLu82IJvOMHC89RaWk79Y+rseNrrhyIGEdbF0d9EoZi0JINyFy9GJWpu4SeCZFYgsBh0xF/00vCMMRa8oBwDHj6J6R9sgDarGPQ5Z6ESCxB8Nir0PPW15G67HYYijKdHjfk2TgqF86/O8fRlo6lLXG0LXVz07FUDohELvtvqXwZR8/POCqy2+12VuueY7dZYdVXuYz5rp3n1ZbVkqwGLQyF6YBYDFVEorA6VKMtjaW5MFcUQ6zwgiqiZ4uVot1qgb4gDXarGaoevYVWAqtRB5FY0mQFY7eYoC/MgNWghdQ7AMqwuDYt72oodkxQVkUmOZZUtVpgMxtcEkmb2Qi71ezyuvNB2WEszYXVoIUyPKHRY7fqKmFQZ8FutUDmF9Lk83CshmqIJLI2L/Nrt5hgUGdDJBJBGd7TaS5Ec/eCzWSA3WZttJWrI8q9qfNyq3wbYSovhKm8AFLfIMfjF5q5v82VapgriqEIiXFMgm/w/TCqsyDxDoAyNE44JtjtjbdcddG1rl3VrbHvXItlZrfDUJwJc1U5JEpvx3k3cl3tVgushuom54lY9VUQSeWN34tulAMR42jr4qiluqxmOKUIyrB4l/qqMQZ1FixVZVCGxUHqEyTU1zaLudPq89bG0abKtbvG0eaOpT1x1N26uckyb6Lud6t8GUfPuzjKxIyIiIiIiMjDuPgHEREREREREzMiIiIiIiImZkRERERERMTEjIiIiIiIiIkZERERERERMTEjIiIiIiJiYkZERERERERMzIiIiIiIiJiYERERERERERMzIiIiIiIiJmZERERERETExIyIiIiIiIiJGRERERERETExIyIiIiIiYmJGRERERERETMyIiIiIiIiYmBERERERERETMyIiIiIiIiZmRERERERExMSMiIiIiIiIiRkRERERERExMSMiIiIiIjo3/T+2KkXY9fp91AAAAABJRU5ErkJggg==)"
      ],
      "metadata": {
        "id": "v2oHakDh72MC"
      }
    },
    {
      "cell_type": "markdown",
      "source": [
        "if ... else statement with comparison operators\n",
        "---\n",
        "Here are a few examples of if ... else statements.\n",
        "\n",
        "---"
      ],
      "metadata": {
        "id": "9c5PyrvVzq4Z"
      }
    },
    {
      "cell_type": "code",
      "source": [
        "# Equal to comparison operator: ==\n",
        "\n",
        "myFirstVariable  = 0.0\n",
        "mySecondVariable = 1.0\n",
        "\n",
        "if myFirstVariable == mySecondVariable:\n",
        "  print(\"First condition is True\")\n",
        "else:\n",
        "  print(\"First Condition is False\")"
      ],
      "metadata": {
        "id": "72GQqJDkYAlL"
      },
      "execution_count": null,
      "outputs": []
    },
    {
      "cell_type": "code",
      "source": [
        "# Not equal to comparison operator: !=\n",
        "\n",
        "myFirstVariable  = 1.0\n",
        "mySecondVariable = 1.0\n",
        "\n",
        "if myFirstVariable != mySecondVariable:\n",
        "  print(\"First condition is True\")\n",
        "else:\n",
        "  print(\"First condition is False\")"
      ],
      "metadata": {
        "id": "eEqEBvSEYLqb"
      },
      "execution_count": null,
      "outputs": []
    },
    {
      "cell_type": "code",
      "source": [
        "# Greater than comparison operator: >\n",
        "\n",
        "myFirstVariable  = 1.0\n",
        "mySecondVariable = 1.0\n",
        "\n",
        "if myFirstVariable > mySecondVariable:\n",
        "  print(\"First condition is True\")\n",
        "else:\n",
        "  print(\"First Condition is False\")"
      ],
      "metadata": {
        "id": "lX72d5SJSVOK"
      },
      "execution_count": null,
      "outputs": []
    },
    {
      "cell_type": "code",
      "source": [
        "# Less than comparison operator: <\n",
        "\n",
        "myFirstVariable  = 1.0\n",
        "mySecondVariable = 1.0\n",
        "\n",
        "if myFirstVariable > mySecondVariable:\n",
        "  print(\"First condition is True\")\n",
        "else:\n",
        "  print(\"First Condition is False\")"
      ],
      "metadata": {
        "id": "x8Up6YBhSvnr"
      },
      "execution_count": null,
      "outputs": []
    },
    {
      "cell_type": "code",
      "source": [
        "# Greater than or equal to comparison operator: >=\n",
        "\n",
        "myFirstVariable  = 1.0\n",
        "mySecondVariable = 1.0\n",
        "\n",
        "if myFirstVariable >= mySecondVariable:\n",
        "  print(\"First condition is True\")\n",
        "else:\n",
        "  print(\"First Condition is False\")"
      ],
      "metadata": {
        "id": "VgG7LVQFSzTV"
      },
      "execution_count": null,
      "outputs": []
    },
    {
      "cell_type": "code",
      "source": [
        "# Less than or equal to comparison operator: <=\n",
        "\n",
        "myFirstVariable  = 1.0\n",
        "mySecondVariable = 1.0\n",
        "\n",
        "if myFirstVariable <= mySecondVariable:\n",
        "  print(\"First condition is True\")\n",
        "else:\n",
        "  print(\"First Condition is False\")"
      ],
      "metadata": {
        "id": "eSQ4W84gTDFO"
      },
      "execution_count": null,
      "outputs": []
    },
    {
      "cell_type": "code",
      "source": [
        "# Short hand example 1\n",
        "\n",
        "myFirstVariable  = 1.0\n",
        "mySecondVariable = 1.0\n",
        "\n",
        "if myFirstVariable <= mySecondVariable: print(\"First condition is True\")\n",
        "else: print(\"First Condition is False\")"
      ],
      "metadata": {
        "id": "QvYoGjp7TTsn"
      },
      "execution_count": null,
      "outputs": []
    },
    {
      "cell_type": "code",
      "source": [
        "# Short hand example 2\n",
        "\n",
        "myFirstVariable  = 1.0\n",
        "mySecondVariable = 2.0\n",
        "\n",
        "print(\"True\") if myFirstVariable == mySecondVariable else print(\"False\")"
      ],
      "metadata": {
        "id": "utE1Y3HzTk_I"
      },
      "execution_count": null,
      "outputs": []
    },
    {
      "cell_type": "code",
      "source": [
        "# Short hand example 3\n",
        "\n",
        "myFirstVariable  = 1.0\n",
        "mySecondVariable = 2.0\n",
        "\n",
        "print(\"True\") if myFirstVariable <= mySecondVariable and myFirstVariable > 0 else print(\"False\")"
      ],
      "metadata": {
        "id": "as7I0AofeLSa"
      },
      "execution_count": null,
      "outputs": []
    },
    {
      "cell_type": "code",
      "source": [
        "# Short hand example 4\n",
        "\n",
        "myFirstVariable  = 1.0\n",
        "mySecondVariable = 2.0\n",
        "\n",
        "print(\"True\") if (myTestVariable:= myFirstVariable + 2.0) <= mySecondVariable and myFirstVariable > 0 else print(\"False\")"
      ],
      "metadata": {
        "id": "MGY4w6_keqCr"
      },
      "execution_count": null,
      "outputs": []
    },
    {
      "cell_type": "markdown",
      "source": [
        "if ... else statement with arithmetic and comparison operators\n",
        "---\n",
        "You can use arithmetic and comparison operators within the if ... else statements to create conditional logic, based on mathematical operations and comparisons.\n",
        "\n",
        "---"
      ],
      "metadata": {
        "id": "7iT5_NSDDttP"
      }
    },
    {
      "cell_type": "code",
      "source": [
        "# if ... else statements with arithmetic ( + ) and comparison ( == ) operators\n",
        "\n",
        "myFirstVariable = 10\n",
        "\n",
        "if (myFirstVariable + myFirstVariable == 5): print(\"The value is 5\")\n",
        "else: print(\"The value is 10\")"
      ],
      "metadata": {
        "id": "EeXiXiMcfMkz"
      },
      "execution_count": null,
      "outputs": []
    },
    {
      "cell_type": "code",
      "source": [
        "# if ... else statements with arithmetic ( % ) and comparison ( == ) operators\n",
        "\n",
        "myFirstVariable = 10\n",
        "\n",
        "if (myFirstVariable % 2 == 0): print(\"My variable is an even number\")\n",
        "else: print(\"My variable is an odd number\")"
      ],
      "metadata": {
        "id": "IP_hJ45UgJeX"
      },
      "execution_count": null,
      "outputs": []
    },
    {
      "cell_type": "code",
      "source": [
        "# if ... else statements with arithmetic ( // ) and comparison ( == ) operators\n",
        "\n",
        "myFirstVariable = 52\n",
        "\n",
        "if (myFirstVariable // 10 == 1): print(\"Floor division rounds the result down to the nearest whole number\")\n",
        "else: print(\"The result of the floor division is another number :\", myFirstVariable // 10)"
      ],
      "metadata": {
        "id": "5tEJgQJhE2Rv"
      },
      "execution_count": null,
      "outputs": []
    },
    {
      "cell_type": "markdown",
      "source": [
        "if ... else statement with arithmetic, comparison, and logical operators\n",
        "---\n",
        "You can use arithmetic, comparison and logical operators within the if ... else statements to create conditional logic, based on mathematical operations and comparisons.\n",
        "\n",
        "---"
      ],
      "metadata": {
        "id": "yB7XOfbOz4c7"
      }
    },
    {
      "cell_type": "code",
      "source": [
        "# if ... else statements with arithmetic ( % ), comparison ( == ), and logical ( and ) operators\n",
        "\n",
        "myFirstVariable  = 10.0\n",
        "mySecondVariable = 20.0\n",
        "\n",
        "if (myFirstVariable % 2 == 0 and mySecondVariable % 2 == 0):\n",
        "  print(\"Both conditions are True\")\n",
        "else:\n",
        "  print(\"One of these conditions is False \")"
      ],
      "metadata": {
        "id": "MUimBa2Y0ELU"
      },
      "execution_count": null,
      "outputs": []
    },
    {
      "cell_type": "code",
      "source": [
        "# if ... else statements with arithmetic ( + ), comparison ( > ), and logical ( or ) operators\n",
        "\n",
        "myFirstVariable  = 10.0\n",
        "mySecondVariable = 20.0\n",
        "\n",
        "if (myFirstVariable + mySecondVariable > 20.0 or mySecondVariable > 20.0):\n",
        "  print(\"One of these conditions is True\")\n",
        "else:\n",
        "  print(\"None of these conditions is True\")"
      ],
      "metadata": {
        "id": "dDP-9QLX0-Jg"
      },
      "execution_count": null,
      "outputs": []
    },
    {
      "cell_type": "code",
      "source": [
        "# if ... else statements with arithmetic ( * ), comparison ( == ), and logical ( not ) operators\n",
        "\n",
        "myFirstVariable =  2.0\n",
        "myThirdVariable = 20.0\n",
        "\n",
        "if not myFirstVariable * 100 == myThirdVariable:\n",
        "  print(\"This condition is True\")\n",
        "else:\n",
        "  print(\"The condition is False\")"
      ],
      "metadata": {
        "id": "w5ZWafmIUvlW"
      },
      "execution_count": null,
      "outputs": []
    },
    {
      "cell_type": "markdown",
      "source": [
        "Nested if ... else statement\n",
        "---\n",
        " Nested if ... else statements allow you to create more complex conditional logic and test multiple conditions in your code. Here are two examples of nested if ... else statements.\n",
        "\n",
        "---"
      ],
      "metadata": {
        "id": "fZdbP2Fjx6TJ"
      }
    },
    {
      "cell_type": "code",
      "source": [
        "# Nested if ... else statement\n",
        "\n",
        "myFirstVariable  = 10\n",
        "mySecondVariable = 30\n",
        "\n",
        "if (myFirstVariable == 10):\n",
        "  print(\"My first variable is :\", myFirstVariable)\n",
        "\n",
        "  if (mySecondVariable == 20):\n",
        "    print(\"My second variable is :\", mySecondVariable)\n",
        "\n",
        "  else:\n",
        "    print(\"My second variable is :\", mySecondVariable)\n",
        "\n"
      ],
      "metadata": {
        "id": "lY19AjaLp1cX"
      },
      "execution_count": null,
      "outputs": []
    },
    {
      "cell_type": "code",
      "source": [
        "# Nested if ... else statement\n",
        "\n",
        "myFirstVariable  = \"A\"\n",
        "mySecondVariable = \"B\"\n",
        "\n",
        "if (myFirstVariable == \"A\"):\n",
        "  print(\"My first variable is :\", myFirstVariable)\n",
        "\n",
        "  if (mySecondVariable == \"B\"):\n",
        "    print(\"My second variable is :\", mySecondVariable)\n",
        "\n",
        "  else:\n",
        "    print(\"My second variable is :\", mySecondVariable)\n",
        "\n",
        "else:\n",
        "  print(\"My first variable is :\", myFirstVariable)"
      ],
      "metadata": {
        "id": "sgTk-aK1rGho"
      },
      "execution_count": null,
      "outputs": []
    },
    {
      "cell_type": "markdown",
      "source": [
        "if ... elif ... else statement\n",
        "---\n",
        "\n",
        "The if ... elif ... else statement allows you to test multiple conditions and execute different code blocks based on the results of these conditions.\n",
        "\n",
        "---"
      ],
      "metadata": {
        "id": "SSgry9qkcX0Z"
      }
    },
    {
      "cell_type": "markdown",
      "source": [
        "![IF_STATEMENTS_ALL.png](data:image/png;base64,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)"
      ],
      "metadata": {
        "id": "39tHOfGSh66I"
      }
    },
    {
      "cell_type": "markdown",
      "source": [
        "if ... elif ... else statement with comparison operators\n",
        "---\n",
        "Here are some examples of the if ... elif ... else statements with comparison operators.\n",
        "\n",
        "---"
      ],
      "metadata": {
        "id": "sOSYXwZHyavr"
      }
    },
    {
      "cell_type": "code",
      "source": [
        "# if ... elif ... else statements with comparison ( == ) and ( < ) operators\n",
        "# First condition is true\n",
        "\n",
        "myFirstVariable  = \"A\"\n",
        "mySecondVariable = \"B\"\n",
        "\n",
        "if ( myFirstVariable == \"A\" ):\n",
        "  print(\"First condition is True\")\n",
        "\n",
        "elif ( myFirstVariable < mySecondVariable ):\n",
        "  print(\"Second condition is True\")\n",
        "\n",
        "else:\n",
        "  print(\"All conditions are False\")\n",
        "\n",
        "print (\"Out of if ... statement\")"
      ],
      "metadata": {
        "id": "lAbgucsvi70W"
      },
      "execution_count": null,
      "outputs": []
    },
    {
      "cell_type": "code",
      "source": [
        "# if ... elif ... else statements with comparison ( == ) and ( < ) operators\n",
        "# Second condition is true\n",
        "\n",
        "myFirstVariable  = \"a\"\n",
        "mySecondVariable = \"b\"\n",
        "\n",
        "if ( myFirstVariable == \"A\" ):\n",
        "  print(\"First condition is True\")\n",
        "\n",
        "elif ( myFirstVariable < mySecondVariable ):\n",
        "  print(\"Second condition is True\")\n",
        "\n",
        "else:\n",
        "  print(\"All conditions are False\")\n",
        "\n",
        "print (\"Out of if ... statement\")"
      ],
      "metadata": {
        "id": "_e0PUEAkFfZD"
      },
      "execution_count": null,
      "outputs": []
    },
    {
      "cell_type": "code",
      "source": [
        "# if ... elif ... else statements with comparison ( == ) and ( < ) operators\n",
        "# All conditions are false, executing the else statement\n",
        "\n",
        "myFirstVariable  = \"a\"\n",
        "mySecondVariable = \"a\"\n",
        "\n",
        "if ( myFirstVariable == \"A\" ):\n",
        "  print(\"First condition is True\")\n",
        "\n",
        "elif ( myFirstVariable < mySecondVariable ):\n",
        "  print(\"Second condition is True\")\n",
        "\n",
        "else:\n",
        "  print(\"All conditions are False\")\n",
        "\n",
        "print (\"Out of if ... statement\")"
      ],
      "metadata": {
        "id": "OxSGjmscGZGe"
      },
      "execution_count": null,
      "outputs": []
    },
    {
      "cell_type": "code",
      "source": [
        "# if ... elif ... else statements with comparison ( == ) and ( > ) operators\n",
        "\n",
        "myFirstVariable  = -1\n",
        "mySecondVariable = 2\n",
        "\n",
        "if ( myFirstVariable ==  0 ):\n",
        "  print(\"My first variable equals to zero\")\n",
        "\n",
        "elif ( myFirstVariable > 1 ):\n",
        "  print(\"My first variable is greater than one\")\n",
        "\n",
        "elif ( myFirstVariable == mySecondVariable ):\n",
        "  print(\"My first variable is equal to my second variable\")\n",
        "\n",
        "else:\n",
        "  print(\"My first variable is less than zero\")"
      ],
      "metadata": {
        "id": "eitthnAjqOpi"
      },
      "execution_count": null,
      "outputs": []
    },
    {
      "cell_type": "markdown",
      "source": [
        "if ... elif ... else statement with comparison and logical operators\n",
        "---\n",
        "Here's an example of the if ... elif ... else statement with comparison and logical operators.\n",
        "\n",
        "---"
      ],
      "metadata": {
        "id": "NlnLLHa_uDds"
      }
    },
    {
      "cell_type": "code",
      "source": [
        "# if ... elif ... else statements with comparison ( == ), ( > ), and (>=) and logical ( and ), ( or ), and ( not ) operators\n",
        "\n",
        "myFirstVariable  = 2\n",
        "mySecondVariable = 2\n",
        "\n",
        "if ( myFirstVariable == mySecondVariable and myFirstVariable < 0 ):\n",
        "  print(\"Both conditions must be True\")\n",
        "\n",
        "elif ( myFirstVariable > mySecondVariable or myFirstVariable > 2):\n",
        "  print(\"Only one condition must be True\")\n",
        "\n",
        "elif ( not myFirstVariable >= mySecondVariable ):\n",
        "  print(\"One condition should be True\")\n",
        "\n",
        "else:\n",
        "  print(\"All conditions are False\")"
      ],
      "metadata": {
        "id": "PzZAMYlvs1YP"
      },
      "execution_count": null,
      "outputs": []
    },
    {
      "cell_type": "markdown",
      "source": [
        "Nested if ... elif ... else statement\n",
        "---\n",
        "Nested if ... elif ... else statements are used to create more complex and nested conditional logic along the code. Here's an example of a nested if ... elif ... else statement.\n",
        "\n",
        "---"
      ],
      "metadata": {
        "id": "y3XKniIwtx_L"
      }
    },
    {
      "cell_type": "code",
      "source": [
        "# Nested if ... elif ... else statements with comparison operators\n",
        "\n",
        "myFirstVariable  = 1\n",
        "mySecondVariable = 2\n",
        "myThirdVariable  = 3\n",
        "\n",
        "if ( myFirstVariable < mySecondVariable ):\n",
        "\n",
        "    if ( myFirstVariable > myThirdVariable):\n",
        "      print(\"My first variable is < my second variable but > my third variable\")\n",
        "\n",
        "    elif ( myFirstVariable == myThirdVariable):\n",
        "      print(\"My first variable is < my second variable but == to my third variable\")\n",
        "\n",
        "    elif ( myFirstVariable < myThirdVariable):\n",
        "      print(\"My first variable is < my second variable and < my third variable\")\n",
        "\n",
        "elif ( myFirstVariable == mySecondVariable):\n",
        "  print(\"My first variable is == to my second variable\")\n",
        "\n",
        "else:\n",
        "  print(\"My first variable is greater than my second and my third variables\")"
      ],
      "metadata": {
        "id": "J0oBb9LZhdIJ"
      },
      "execution_count": null,
      "outputs": []
    },
    {
      "cell_type": "markdown",
      "source": [
        "4.2 For loops\n",
        "---\n",
        "A for loop is an iterative function that allows you to iterate over a data sequence. There are two keywords in the for loop structure: \"for\" and \"in\". The for loop statement will access each element of the sequence at each iteration. The loop will continue iterating until it reaches the last element of a sequence.\n",
        "\n",
        "---\n",
        "\n",
        "Syntax:\n",
        "\n",
        "        for variable in iterable: block of code\n"
      ],
      "metadata": {
        "id": "H8Dj1zvhkvvG"
      }
    },
    {
      "cell_type": "markdown",
      "source": [
        "For loop\n",
        "---\n",
        "Here are some examples of for loop declarations and basic forms.\n",
        "\n",
        "---"
      ],
      "metadata": {
        "id": "Kcq1A-n4wheh"
      }
    },
    {
      "cell_type": "code",
      "source": [
        "# A for loop example with a dummy pass statement\n",
        "\n",
        "for i in range(10): pass"
      ],
      "metadata": {
        "id": "ml_dnuRmwS-O"
      },
      "execution_count": null,
      "outputs": []
    },
    {
      "cell_type": "code",
      "source": [
        "# A for loop example with range function\n",
        "\n",
        "for i in range(10): print(i, end = \" \")"
      ],
      "metadata": {
        "id": "sHvBMCRIwVd1"
      },
      "execution_count": null,
      "outputs": []
    },
    {
      "cell_type": "code",
      "source": [
        "# A for loop example using my fish list\n",
        "\n",
        "myFishList = [\"Bass\", \"Red Snapper\", \"Karp\", \"Pike\", \"Perch\"]\n",
        "\n",
        "for name in myFishList: print(name, end = \"; \")"
      ],
      "metadata": {
        "id": "AbfFgfXLwZAX"
      },
      "execution_count": null,
      "outputs": []
    },
    {
      "cell_type": "markdown",
      "source": [
        "For loop with no elements\n",
        "---\n",
        "Here's an example of a for loop with no elements. It is a convention to use an underscore as a variable name when you would like to iterate over a sequence, but do not want to use the individual elements.\n",
        "\n",
        "---"
      ],
      "metadata": {
        "id": "iwVj3gAiSaQK"
      }
    },
    {
      "cell_type": "code",
      "source": [
        "# No items in the loop\n",
        "\n",
        "myNumberList = range(3)\n",
        "\n",
        "for _ in myNumberList:\n",
        "  print(\"Hello World!\")"
      ],
      "metadata": {
        "id": "EhnTxEusPhgA"
      },
      "execution_count": null,
      "outputs": []
    },
    {
      "cell_type": "markdown",
      "source": [
        "For loops with data sequences\n",
        "---\n",
        "For loops are commonly used to iterate over data sequences like strings, lists, tuples, dictionaries, and sets. The for loop allows you to perform specific operations for each element in the sequence. Here are a few examples of for loops with data sequences.\n",
        "\n",
        "---"
      ],
      "metadata": {
        "id": "c0UlikyYQdW6"
      }
    },
    {
      "cell_type": "code",
      "source": [
        "# A for loop with a string\n",
        "\n",
        "for i in \"Bootcamp, May 23rd, 2023\":\n",
        "  print (i, end=\" \")"
      ],
      "metadata": {
        "id": "5yDjzvQYLcqy"
      },
      "execution_count": null,
      "outputs": []
    },
    {
      "cell_type": "code",
      "source": [
        "# A for loop with a number list sequence\n",
        "\n",
        "myListSequence = [ 1, 2, 3, 4, 5 ]\n",
        "\n",
        "for i in myListSequence:\n",
        "  print(i, end = \" \")"
      ],
      "metadata": {
        "id": "vIRGZt6CQoMC"
      },
      "execution_count": null,
      "outputs": []
    },
    {
      "cell_type": "code",
      "source": [
        "# A for loop with a number tuple sequence\n",
        "\n",
        "myTupleSequence = ( 1, 2, 3, 4, 5 )\n",
        "\n",
        "for i in myTupleSequence:\n",
        "  print(i, end = \" \")"
      ],
      "metadata": {
        "id": "QAjj9HaJQMf3"
      },
      "execution_count": null,
      "outputs": []
    },
    {
      "cell_type": "code",
      "source": [
        "# A for loop with a dictionary's keys\n",
        "\n",
        "myDictionarySequence = { \"key 1\":10, \"key 2\":20, \"key 3\":30, \"key 4\":40, \"key 5\":50 }\n",
        "\n",
        "for i in myDictionarySequence:\n",
        "  print(i, end = \" \")"
      ],
      "metadata": {
        "id": "b80upP7LROzT"
      },
      "execution_count": null,
      "outputs": []
    },
    {
      "cell_type": "code",
      "source": [
        "# A for loop with a dictionary's values\n",
        "\n",
        "myDictionary = { \"key 1\":10, \"key 2\":20, \"key 3\":30, \"key 4\":40, \"key 5\":50 }\n",
        "\n",
        "for i in myDictionary:\n",
        "  print(myDictionary[i], end = \" \")"
      ],
      "metadata": {
        "id": "HqH-XEoSJ05H"
      },
      "execution_count": null,
      "outputs": []
    },
    {
      "cell_type": "code",
      "source": [
        "# A for loop with a set sequence\n",
        "\n",
        "mySetList = { 1, 2, 3, 4, 5 }\n",
        "\n",
        "for i in mySetList:\n",
        "  print(i, end = \" \")"
      ],
      "metadata": {
        "id": "qG2rgRNgPzsj"
      },
      "execution_count": null,
      "outputs": []
    },
    {
      "cell_type": "markdown",
      "source": [
        "Dictionary methods with For loops\n",
        "---\n",
        "You can iterate through dictionaries using keys, values, or key-value pairs.\n",
        "\n",
        "---"
      ],
      "metadata": {
        "id": "-ovdU3uaKYVk"
      }
    },
    {
      "cell_type": "code",
      "source": [
        "# A for loop with the dictionary keys method: keys()\n",
        "\n",
        "myDictionarySequence = { \"key 1\":10, \"key 2\":20, \"key 3\":30, \"key 4\":40, \"key 5\":50 }\n",
        "\n",
        "for i in myDictionarySequence.keys():\n",
        "  print(i, end = \" \")"
      ],
      "metadata": {
        "id": "bfh2b6PcKgAR"
      },
      "execution_count": null,
      "outputs": []
    },
    {
      "cell_type": "code",
      "source": [
        "# A for loop with the dictionary values method: values()\n",
        "\n",
        "myDictionarySequence = { \"key 1\":10, \"key 2\":20, \"key 3\":30, \"key 4\":40, \"key 5\":50 }\n",
        "\n",
        "for i in myDictionarySequence.values():\n",
        "  print(i, end = \" \")"
      ],
      "metadata": {
        "id": "gZn2kYaVKzdN"
      },
      "execution_count": null,
      "outputs": []
    },
    {
      "cell_type": "code",
      "source": [
        "# A for loop with the dictionary items method: items()\n",
        "\n",
        "myDictionarySequence = { \"key 1\":10, \"key 2\":20, \"key 3\":30, \"key 4\":40, \"key 5\":50 }\n",
        "\n",
        "for i in myDictionarySequence.items():\n",
        "  print(i, end = \" \")"
      ],
      "metadata": {
        "id": "eqmPjR6mK90Z"
      },
      "execution_count": null,
      "outputs": []
    },
    {
      "cell_type": "markdown",
      "source": [
        "For loop with else statement\n",
        "---\n",
        "You can use else statements with a for loop to specify a block of code that should be executed after the loop has completed.\n",
        "\n",
        "---"
      ],
      "metadata": {
        "id": "ao5O4BwhTQ0O"
      }
    },
    {
      "cell_type": "code",
      "source": [
        "# For loop with else statement\n",
        "\n",
        "myNumberList = [ 1, 2, 3, 4, 5 ]\n",
        "\n",
        "for i in myNumberList:\n",
        "  print(i, end = \" \")\n",
        "else:\n",
        "  print(\"\\nThis sequence is over!\")"
      ],
      "metadata": {
        "id": "epnbGP5LTUvn"
      },
      "execution_count": null,
      "outputs": []
    },
    {
      "cell_type": "markdown",
      "source": [
        "For loop with break, continue, and pass statements\n",
        "---\n",
        "Break statements break out of the loops immediately. Continue statements proceed with the execution of the loop. A pass statement does nothing.\n",
        "\n",
        "---"
      ],
      "metadata": {
        "id": "hJfId0OePHkk"
      }
    },
    {
      "cell_type": "code",
      "source": [
        "# A for loop with a break statement\n",
        "\n",
        "myFirstList = [ 1, 2, 3, 4, 5]\n",
        "\n",
        "for i in myFirstList:\n",
        "  if i == 3:\n",
        "    break\n",
        "  print(\"i = \", i)"
      ],
      "metadata": {
        "id": "bDiAif1uPUue"
      },
      "execution_count": null,
      "outputs": []
    },
    {
      "cell_type": "code",
      "source": [
        "# A for loop with an arithmetic % operator and a continue statement\n",
        "\n",
        "myFirstList    = [ 1, 2, 3, 4, 5, 6, 7, 8, 9 ]\n",
        "\n",
        "for i in myFirstList:\n",
        "  if i % 2 == 0:\n",
        "      continue\n",
        "  print (str(i),\" \")"
      ],
      "metadata": {
        "id": "t6STngGmXWXi"
      },
      "execution_count": null,
      "outputs": []
    },
    {
      "cell_type": "code",
      "source": [
        "# A for loop with an arithmetic % operator and a pass statement\n",
        "\n",
        "myFirstList    = [ 1, 2, 3, 4, 5, 6, 7, 8, 9 ]\n",
        "\n",
        "for i in myFirstList:\n",
        "  if i % 2 == 0:\n",
        "      pass\n",
        "  print (str(i),\" \")"
      ],
      "metadata": {
        "id": "T4_-kyHkZVzy"
      },
      "execution_count": null,
      "outputs": []
    },
    {
      "cell_type": "markdown",
      "source": [
        "Nested For loop\n",
        "---\n",
        "A nested for loop is a loop inside another. It allows one to iterate through a multi dimentional list or matrix. Here'a an example of the nested for loop.\n",
        "The outer loop iterates from 1 ... 3 values and for each value of the outer loop, the inner loop iterates from 1 ... 3.\n",
        "\n",
        "---"
      ],
      "metadata": {
        "id": "RnkL3gbuU7AY"
      }
    },
    {
      "cell_type": "code",
      "source": [
        "# A nested for loop\n",
        "\n",
        "myFirstList    = [ 1, 2, 3 ]\n",
        "mySecondList   = [ 1, 2, 3 ]\n",
        "\n",
        "for i in myFirstList:\n",
        "  for j in mySecondList:\n",
        "    print (str(i),str(j),\" \")"
      ],
      "metadata": {
        "id": "HWFOd6NwKRO4"
      },
      "execution_count": null,
      "outputs": []
    },
    {
      "cell_type": "markdown",
      "source": [
        "Nested for loop with break statements\n",
        "---\n",
        "The break statement terminates the innermost loop and passes control to the outer loop.\n",
        "\n",
        "---"
      ],
      "metadata": {
        "id": "weooHzAySRSM"
      }
    },
    {
      "cell_type": "code",
      "source": [
        "# A nested for loop with an innermost break statement\n",
        "\n",
        "myFirstList    = [ 1, 2, 3 ]\n",
        "mySecondList   = [ 1, 2, 3 ]\n",
        "\n",
        "for i in myFirstList:\n",
        "  for j in mySecondList:\n",
        "    if j == 3:\n",
        "      break\n",
        "    print (str(i),str(j),\" \")"
      ],
      "metadata": {
        "id": "zuqm8BriP3aG"
      },
      "execution_count": null,
      "outputs": []
    },
    {
      "cell_type": "code",
      "source": [
        "# A nested for loop with an outer break statement\n",
        "\n",
        "myFirstList    = [ 1, 2, 3 ]\n",
        "mySecondList   = [ 1, 2, 3 ]\n",
        "\n",
        "for i in myFirstList:\n",
        "  if i == 3:\n",
        "      break\n",
        "  for j in mySecondList:\n",
        "    print (str(i),str(j),\" \")"
      ],
      "metadata": {
        "id": "ojRdfRO9QLG0"
      },
      "execution_count": null,
      "outputs": []
    },
    {
      "cell_type": "markdown",
      "source": [
        "Nested for loop with continue statements\n",
        "---\n",
        "The continue statement skips the current execution in the for loop.\n",
        "\n",
        "---"
      ],
      "metadata": {
        "id": "qWnUO8z1SWpb"
      }
    },
    {
      "cell_type": "code",
      "source": [
        "# A nested for loop with an innermost continue statement\n",
        "\n",
        "myFirstList    = [ 1, 2, 3 ]\n",
        "mySecondList   = [ 1, 2, 3 ]\n",
        "\n",
        "for i in myFirstList:\n",
        "  for j in mySecondList:\n",
        "    if j == 3: continue\n",
        "    print (str(i),str(j),\" \")"
      ],
      "metadata": {
        "id": "qhbvCdnzRlku"
      },
      "execution_count": null,
      "outputs": []
    },
    {
      "cell_type": "code",
      "source": [
        "# A nested for loop with an outer continue statement\n",
        "\n",
        "myFirstList    = [ 1, 2, 3 ]\n",
        "mySecondList   = [ 1, 2, 3 ]\n",
        "\n",
        "for i in myFirstList:\n",
        "  if i == 2: continue\n",
        "  for j in mySecondList:\n",
        "    print (str(i),str(j),\" \")"
      ],
      "metadata": {
        "id": "j0WMXSYsRwK4"
      },
      "execution_count": null,
      "outputs": []
    },
    {
      "cell_type": "markdown",
      "source": [
        "Nested for loop with pass statements\n",
        "---\n",
        "The pass statement does not have any effect on the current execution in the for loop.\n",
        "\n",
        "---"
      ],
      "metadata": {
        "id": "LkjC7xYIWdWr"
      }
    },
    {
      "cell_type": "code",
      "source": [
        "# Nested for loop with outermost pass statement\n",
        "\n",
        "myFirstList    = [ 1, 2, 3 ]\n",
        "mySecondList   = [ 1, 2, 3 ]\n",
        "\n",
        "for i in myFirstList:\n",
        "  if i == 2:\n",
        "    pass\n",
        "  for j in mySecondList:\n",
        "    print (str(i),str(j),\" \")"
      ],
      "metadata": {
        "id": "-H-zwOmzWjCE"
      },
      "execution_count": null,
      "outputs": []
    },
    {
      "cell_type": "markdown",
      "source": [
        "For loops using list comprehension\n",
        "---\n",
        "List comprehension is a fast way of creating lists, sets and dictionaries. It can also be used as a data filter. It is easier to read and understand.\n",
        "\n",
        "---"
      ],
      "metadata": {
        "id": "0jYYeVUh5MwY"
      }
    },
    {
      "cell_type": "markdown",
      "source": [
        "![Presentation_list.png](data:image/png;base64,iVBORw0KGgoAAAANSUhEUgAAAsIAAADcCAYAAAB6UccbAAABhGlDQ1BJQ0MgcHJvZmlsZQAAKJF9kT1Iw0AcxV9TS0UqDo0g4pChOlkQFREnrUIRKoRaoVUH89EvaNKQpLg4Cq4FBz8Wqw4uzro6uAqC4AeIq4uToouU+L+k0CLGg+N+vLv3uHsHcI2KolldY4Cm22Y6mRCyuVUh/IoQ+sFjBlFJsYw5UUzBd3zdI8DWuzjL8j/35+hV85YCBATiWcUwbeIN4qlN22C8T8wrJUklPiceNemCxI9Mlz1+Y1x0mWOZvJlJzxPzxEKxg+UOVkqmRjxJHFM1nfK5rMcq4y3GWqWmtO7JXhjJ6yvLTKc5hCQWsQQRAmTUUEYFNuK06qRYSNN+wsc/6PpFcsnkKkMhxwKq0CC5frA/+N2tVZgY95IiCSD04jgfw0B4F2jWHef72HGaJ0DwGbjS2/5qA5j+JL3e1mJHQN82cHHd1uQ94HIHGHgyJFNypSBNrlAA3s/om3JA9BboWfN6a+3j9AHIUFepG+DgEBgpUva6z7u7O3v790yrvx+lLXK7z78CyQAAAAZiS0dEAP8A/wD/oL2nkwAAAAlwSFlzAABcRgAAXEYBFJRDQQAAAAd0SU1FB+cFFRUAB+w7XX8AACAASURBVHja7N13eFRV/sfx9/RJ7wmBkFBCC5jQe1eKoCBgwVVAUUGUVbEguourqz+xsNgVRVREERsgICBK772HEmJCQgohvU8ymfv74yYDw0xCAJH2fT0PD3B7OXPnc8+ce65GURQFIYQQQgghbjBaOQRCCCGEEEKCsBBCCCGEEBKEhRBCCCGEkCAshBBCCCGEBGEhhBBCCCEkCAshhBBCCCFBWAghhBBCCAnCQgghhBBCSBAWQgghhBBCgrAQQgghhBAShIUQQgghhJAgLIQQQgghhARhIYQQQgghJAgLIcR1Li0tjU2bNlFUVCQHQwghJAgLIapjsVhISUnBZrPVON3Jkyf58MMP2b59uxy0q9yLL75I9+7d+emnn67ZfVi4cCGzZs2itLRUTqgQQoKwEOLyePjhhwkLC+ODDz6ocbpp06bxz3/+k0ceeUQO2lVOURSHv681p0+fZvjw4YwbN47ly5fLCRVCSBAWQlwe5eXlDn9XJzo6Gm9vb9q3b39R63n55ZeJiopi7dq1ctBFjby8vGjevDnBwcE0btxYDogQ4qqnl0MgxPVt/PjxjB8//qLnP3LkCIcPH+bkyZNyMEWNzGYzhw8flgMhhLhmSI2wEDc4RVHIycnBYrFctnWUl5dTWFhYq2lLS0vJzc294OYBBQUFVFRUuBxXXFxMSUnJBS3PYrFc0ENriqKQm5tb7Xir1UpOTs5523Sfq6io6IK2vbS0lLy8vAs+R3l5eVit1r+lvFzKMmq7nUIIIUFYCMHSpUsJDQ1l6tSpTuFw6tSpBAYG4u/vj7u7O507d7Y3gZgxYwaRkZH8+uuvADz77LNERkYSGRnJ+++/X6t1//jjj3To0AGTyYSXlxd169Zl8uTJTqG4pKSEV199lcjISNzc3PDz88PLy4sRI0Zw4MABp+W++OKL1K1bl/j4eFauXElMTAze3t6YzWaGDx9ORkYGAPv376dPnz54eHjg7u5Oz549OXLkiNPyXnjhBerVq2fvtaFXr164u7vj6elJVFQUCxcudJpnyZIlhISEMG/ePDZu3EijRo3w8/Ojfv36DoF87dq19OnTB7PZbD/Ow4YNc7kdZ1u/fj2dO3fG09MTd3d3OnbsWO0Dj4qi8Nlnn9GyZUvc3Nzw9fUlMDCQJ554wmU479WrF23atEFRFD755BMaNGiAr68v7u7ujBgxgvT0dJc3EzWVlyp9+/YlPDzcfg7Otn37dm677Tbc3d3x9/fHbDbTvHlz/ve//7kMtxeznUIIcaF35kKIa9A999yjAMrbb79d43RffvmlAihjxoxxGD5ixAgFULp27apMnTpVeeyxx5Tw8HDljjvuUBRFUT799FMlJiZG8fX1VQAlPDxciYmJUWJiYpTZs2efd/umTZumAIpOp1NuueUWZdiwYUr9+vUVQHnggQfs0xUWFiqdO3dWAMXPz0+56667lFGjRikNGzZUAMXd3V3ZsGGDw7LHjBmjAMqECRMUjUajNGjQQBk4cKDi7e2tAErHjh2VX375RTGbzUpISIgyaNAgJSgoSAGUsLAwpaCgwOXyJk+erGi1WiU4OFgZNmyY0qpVKwVQNBqNsmjRIpfH9YEHHlDc3d0Vk8mkNG3aVNHr9Up5ebmiKIryzTffKFqtVjGZTMrYsWOVKVOmKH379lUAxdfXV4mNjXW5Hf369VN0Op1St25dZdCgQUqdOnUUQPHy8lJOnDjhdKzHjRunAEpoaKjy1FNPKU899ZTSsmVLBVBiYmKU4uJih+kjIiIUb29vZfTo0QqgtGrVSunfv7/i4eGhAErbtm0Vq9V6QeXl7GUDSkJCgsPw+fPnK3q9XgGUTp06KQ888IAyYMAAxWAwKIAydOhQxWazXfJ2CiHEhZAgLMQNGIRPnDihAEpUVJRSUVFhH15WVqYcOXLE5Xrmzp1b622LjY1VdDqdYjAYlHXr1tmHW61W5cMPP1QmTZpkH/bEE08ogNKlSxclOzvbPry8vFx55JFHFEBp3Lixw3ZWBUZAefzxx5WysjJFURTl8OHDitlstofXIUOG2EPvqVOn7EH8iy++cBlAAeXBBx90CI7333+/AigNGzZ0CGpVxxVQIiMj7cGvan0pKSmKu7u7YjablW3btjms75VXXlEApX///tVuxyOPPKKUlJQoiqIoeXl5SkxMjAIozz//vMM8CxcuVAClRYsWyqlTp+zDLRaLMmDAAAVQXn/9dZdhVa/XK59++qnDeXN3d1cAZfny5RdVXlwF4eTkZMXDw0PRaDTKvHnzHKbfu3ev4ufnpwDKnDlzLmk7hRDiQknTCCFuQDk5OQDodDq02jOXAYPBQLNmzS55+Z9//jkVFRXceeed9OzZ0z5cp9Px+OOPM2PGDAAKCwuZNWsWAO+99x5+fn72afV6Pf/73//w8PAgPj6e9evXO61n1KhRfPjhhxgMBgCaN2/OkCFDAOjRowc//fQTnp6eAAQHBzNq1CgAl80tAEaOHMns2bNxc3OzD3v33XfR6XQkJCSwb98+p3nc3NxYvHgxDRo0ALCvb/bs2RQXFzN+/Hg6duzoMM/kyZPx9PTk999/d9me9/777+ezzz7DbDYD4O3tzVNPPWVvXnC2qu7zXn/9dYKDg+3DjUajvTnMjz/+6HJ/Z86cybhx4+z/b9GiBXfddZfTei61vHz66acUFRVx6623cu+99zqMi4mJ4fHHHwfgiy++uKTtFEKICyVBWIgbUIsWLahbty4HDhzg3nvvJTEx8S9d/ubNmwG47bbbapxu+/btlJSU0KBBAzp06OA03svLi5tvvhmArVu3Oo3v27ev07AmTZrYg3BVQK7SqFEjAFJTU11uz4ABA9BoNA7DAgICaNu2LQDx8fFO8wwfPpwWLVo4Dd+4cSMAkZGRJCYmOvxJT08nNDQURVE4duyY07xV+3y2qKgoALKzs+3DbDYbW7ZsASAsLMxpPVWB/ujRoy73t7brudTysm7dOgDuvvtul+OHDx9uLw+Ki4cka7udQgghQVgIcV5Go5GFCxdSr1495s+fT+PGjRk0aBAbNmz4S5Zf9RBT3bp1a5wuOTkZgIiIiGqnqV+/PqC+rKE2qmpRXTGZTAAX3OtASEgIACkpKU7j9HrXvVBWhe1//vOfNGzY0OlPXFzcBW2L0Wh0mj4nJ8feo0SHDh2c1tGuXbsL3l9X67nU8nK+81x1jktKSmrdu4ir7RRCiAsl/QgLcYPq2LEjR48e5csvv+Tjjz9m+fLlrFixgrfffptnnnnmkpZd1UWYcp4u0KrGV9ft2dlBpyr4XAlV23lubXFtjsHTTz9NmzZtXE7j7e1Np06dLvk4A8yaNavam4C/4uUWl1Jezneezw3dQgghQVgIcdl5eHgwceJEHn/8cWbNmsWECROYMmUKDz74IP7+/he93ODgYJKSklzWoJ6tqqb1xIkT1U6TkJAAQMOGDa/Ycarahnr16tV6njp16hAbG0vLli25//77L8t2+fn5YTQaKSsro2/fvvamH1dbeQkJCeHEiRPVnueq4xsaGmqvtRdCiL+DNI0QQqDRaBg3bhxt2rTBarU69HFbVct4IS+XqGrv66r/3bOX1b59e3Q6HcnJyfa2rmdLSUlhzZo1aDQal+1E/2q//PKL0wsvYmNjiY2NRaPRXFDtbdW0Vf0wX5aaDL3e3vzhcq7nQsqLK507dwbg+++/dzl+7ty5APTr108+jEIICcJCiNqrehPbuX9qam7w66+/Mn/+fIfQl5qaSnx8PBqNxt4DApypBf39998d1lmTBx54AIBFixY59FiQk5PDk08+ydChQwEICgqyP/3/4IMPOjyElZOTw9ixYykvL2fEiBF/yc/757No0SLuuecee08OBQUFjBkzBlAfpLuQGuGHHnoIg8HAwoULmTlzptP4o0ePsnjx4kve5gkTJgDw2muvObXZVRSFdevWsWPHjktax4WUF1fGjRuHTqdj5cqVTJs2zWHcwoULmT17Nnq9nkmTJskHWgghQVgIcX5V7VWnTp2Kn5+f05/XX3+92nkPHTrEvffeS0REBMOGDWPYsGG0aNGC3NxcJk6c6PCQ2913341Go+Hnn3+madOmNG7cmH//+981blvHjh155plnsNls3H333dSpU4fo6GhCQ0N5//33iYyMtE/77rvv0rRpU44ePUqzZs3o2rUrPXv2JCwsjJUrV9K6dWs++eSTv+WY9unThwULFlC/fn06depEREQEO3fuJDg4mA8//PCCltW4cWM++OADNBoNEyZMoHnz5gwfPpxBgwbRpEkTmjdvbu9G7lKMGjWK+++/n4yMDHr37k3nzp0ZMWIEt9xyCyEhIfTu3fuSa4svpLy40rJlS6ZPnw6obwWMiIigb9++NGvWjOHDh2O1Wvn4449p3bq1fLCFEH8raSMsxDVq6NChpKenV/tAWvPmzQH1ifzo6GhatmxpH/fYY49RUlLC4sWLWbVqFWazmejoaB577DFGjhzpsJyYmBh+/PFH3njjDRISEvD396dPnz7n3b7p06cTHR3NzJkzOXToEMnJyXTs2JHRo0czduxY+3QhISFs376dGTNmsHDhQg4ePIhGoyEqKop77rmHiRMnOj0E1qJFC6KjowkPD3cZQKOjo2natKnTuKpjER0d7XKbR48ezdSpU5k6dSp79+7F29ubMWPG8Oqrr9p7Njh3WWcf13ONHz+e6Oho3nnnHTZv3szy5cvx9PSkUaNGPPfccw59455vv/z9/WnTpo3Lbf/6668ZOHAgX375Jfv27WPfvn34+fkRHR3NgAEDeOSRRxym79ChA4GBgXh5eTktq2HDhkRHR9vLz4WWl+qW/dRTTxETE8N7773Htm3b2Lp1K/7+/owcOZJnn33W3sTjUrZTCCEuuFJJOd9j3UIIcZ174IEHmDNnDl9++aW9WYcQQojrnzSNEEIIIYQQEoSFEEIIIYSQICyEEDeIqgcPtVq5JAohxA11/Zc2wkKIG11OTg4nT56kWbNm8mYzIYSQICyEEEIIIcT1TX4HFEIIIYQQEoSFEEIIIYSQICyEEEIIIYQEYSGEEEIIISQICyGEEEIIIUFYCCGEEEIICcJCCCGEEEJIEBZCCCGEEEKCsBBCCCGEEBKEhRBCCCGEkCAshBBCCCGEBGEhhBBCCCEkCAshhBBCCCFBWAghhBBCCAnCQgghhBBCSBAWQgghhBBCgrAQQgghhBAShIUQQgghhJAgLIQQQgghhARhIYQQQgghQVgIIYQQQggJwkIIIYQQQkgQFkIIIYQQQoKwEEIIIYQQEoSFEEIIIYSQICyEEEIIIYQEYSGEEEIIISQICyGEEEIIIUFYCCGEEEIICcJCCCGuBvte6MnWB+tSnptR63kSvn6BLaODydqxRA6gEEKC8BX13XfQqRP06gVr1lQ/3dSp0K4d7N8vZ10I8ZfK2fs7u5/pQOK8l665bbcW52ErK8VWXlrreSqK81EqrFSUFMjJF0JIEL6iFi+G7dth/XoYORLy811Pt2cP7N4Nqaly1oUQfylL1klK0+MpST3mNO7koukkzH0RW1mpHCghhJAg/BdTFPVvHx/IyIBp0+Ss3qAUxSYHQVx10lbOIm3FTKyF2XIwhLjGDHzsGwZMmEtFheP3S1JaHpm5xRe8vIudT1w++utmTx5/HF5/Hd59FyZMgPBwObvXuaSMeFbs+JH9CdvJzs/AWlGOp7sPTeu1oudNt9Kl5S1o0MiBEkKIq0BRSRnzVxxi7c4EktLzsVorCA30olN0GCMHtKR+HZ+rbpvTMwsBsNoUdDp12JZ9yUz4v18xGXSs/eJB3Ey1i1IXO5+QIFw7bdvCkCFqU4l//Qvmzq39vGvXws8/w969kJcHwcFw881quPb2dpz2669hxQp45x2w2eCNN2DTJnW6O+5Q59HpoKgIpk+HZctAo4H+/eH558HDw/U2rFihLvvoUXX+6Gg10LdrJ6XUhYWbvmL+mpnYFBtGvYnQgPpotToyclLZFbeRXXEb+WPPIp67+23cjO6XvL5iSyHfrZlJsG8ot3e+74rue0L6Uf7YvZA2kV1p37SnFIarVOqyjyhJOWpvR5v43X/QGd1Ao6He7U9hDml4pnydPEL6H7MpStiLrbwMc3ADArvdSUCH252We+K7l7GVldBwzJtkbv6ZtJWfAVB/+PP4RvdFsZaRtWMpOXt/pyQtDqW8DFNgffw73kZw95Hq9agaJalxpC77iMKEfehMbvhG30zdQY+jNZprvd9KRTkZ6+aRvWsZluxUdGZPvJt1JnTgoxh9Q6Rg3KAOHs/gqbdW2GtD/X3c8PQyk5iay/HkbL5fcZDpz/Snd/sGV/2+VNjUX6IVF+Nm/byL3IJSnvhHJ0xGfa3nExKE/4KSWaGG0l9/hW+/hUmT1HB8Pg89BF98oX451KsHbm6wbh2sWgXz5sG2beB+VpBavVp9QK9PH3jxRcjMVMcXF6sP6+3bpwbxgQMhLu7MuG3b1OWuXev4RaQoMH48zJoFZjO0aQOnT6vb9OWX6vCxY6WknmX5jh+Yt/pjdFod9/aewK0d77GH3QqblY0HV/LFiukcSNjBh4v+w3N3v33J68wpyGTFjh8I8Qu74kE4LuUQK3ctwGqzShC+imVt+4WC4zvt/8/c/LP934FdhtuDcMaG74if9SSKrQKP8FYAZO/5jawdSwjucS+Rj37ksNzMrQuxFudhDmlIwtwX7cPzD2/Cp2UP9k7pTknacTQ6A6agcGyWYoqSDpK9ezn5hzcTOe4Dl9t7euP3JC/6H0qFFb2HD9bCHPKPbiV756+0nLoUnen8N5TWolxi37yTwvjdGLwCMIdGUpqRQMGxbZxaPYeWLy7Eo0GMFI4bTPKpfMa/uoSiknI63VSPyQ90o3F9f/Xmy2JlybqjfPrjTnYcSr0mgnD3NuEsmHEPnu5Gp1rd+SsOkpVXwujbWxMSoK/1fOLKuX66T1MUaNECHn5Y/fezz9ZuvtOn1R4lkpPVP8eOqbWyERFw8CB8/73r+SZMgEaN1OkLC9XwrdGoAbZzZzWYb9+u1gyvWQOenuoDfUuXOi7nk0/UsBsToy5r82Y1QK9cCSYTPPYYJCZKSa2UW5jFN3+oX+QPDHia4d0fdKjx1Wn19IoexDN3vQHA9qPrOJi4Sw6c+Nu1/PcSOs5KwOAdBEDrt7bQcVYCnWYl4tOyFwBFSQeJn/UUOrMnrf61mJjX1xHz+jravL0Vt9BIMjZ85xCgq9gsxSTOewm/Nv1pO2MnradtIKjHSGzlFjQGE40ffpeOn/1J2//toP2Hh4iasgCNVkfGum8pzXB9PUn6aRoBHW6jw0eH6fhpPDe9/Bs6syeFCXtJWfJerfY5fvYkCuN3E9j1Ttp9cJCb/rOcDh8dIfyeqViLcjn20bgzz3WIG8b/zVpPUUk57VqE8tGLg+0hGMDNpOfu/i1Z9O5I7unf8prZp0ZhfgT7e/xt84nL5/q5Jam6uL7yilqTu2YNLFkCt99e83yLF7soqY3UQD11KuzcCQ8+6DxN27Zq7XBVU4d//ANmz1aHubvDhg1Qt646rndvuO8++PRT2LLlzDbZbGq7Zo1GbRZRv/6Z5d9yCzzyCLz/vtrMY+pUKa3A2n1LKbNaCA9uzID2d1Y7XXTDjrRu3Jm98VtZt38prRqcaWLyxYrpFFsKGT/4RQx6o8N8e+O3smbvYnpGD6Jdk+5U2Cr4YsV08otz1Vq34hw+WfoaAAadkbEDn0Wr0XI8NZYlW77h9i730Si0Bav3/MKWw6vJL84h1L8+t3a4hxbhrR3WlVeUzVcr36FeQAR39nzYaR+WbpvH8ZRY7u3zKCF+YaRlJ/PL5q9JyVSDzJGkffZtqR/UiNs6/UMKyNVUy2AwoTWYqGqmrnfzQu/u2AYyZfG7KBXl1B8xBe8W3ezDzcENiBj5EkfeGc2ptXMJ7DrC8XJXYcUrsh3Nn/oazTlluPW0DU7b4ntTb7xbdCfv0DqKEvZhDnaudQvpfT+NH3nf/n+vJh0Iv2cqCXOe5/SG+YTf+UKN+1uSdpysbb9g9Asl8pH31X2vFDZkEllbFlKUdJD8Y1vxbtZFCsgN4nhyNlv3nwRgykM90Otc1795eZjw8jA5Dd99OI0l645yPDkbS1kFwf4edGsdzvCbmzs1PViy7hib9ybx7APd0Grgq8X72HkoFY0G2kXVZewdbfDxNLn+btmRyKK1R0jNKCDA152hvZsxsFuky2mLSsqYNnsjdQI8mXhvRwC+XrKPhJQcCkvKAXj3my2YTXo0Gg0P3tGG+iHeLuc728lT+fz4eywH4k5RUGTB29NMm2Z1uHtAS6fwXFRSxmuzNtC2RSh39Yti7c5EFqw6THpmIaGBntzZL4oebSOkAN5QQdh+NQ+ByZPV4Pj88zBoEPYW7hei6mG76rpje+wx5/a+VeH4/vvPhOAqMZU/ByYnnxl28CCkpECDBmqb4HN16qT+vWePlNSzgipAlxY3n/dBuPZNe7I3fitHTx5wGL5u/zKKLYWM6feUUxA+dvIAm2P/INi3Lu2adMdaUcYfuxdiq+yRosRSxOo96s2TTqtjTL+n0OqNnDz9J5tj/6BhaHO+/G0Gx04ewGx0p8JmJTH9GFsPr2Hi0P/Q86Zb7evKKchk48HfqB/UyGUQ3nF0PbEndtM7ZjAhfmGcyklh1Z5f7ONTs06QmnUCgOb1W0sQvgblHlD7Pvdvd6vTOM/G7dUvvETXfZ83fOBtpxBcE1NgGADWavr+DbvD+Ve0gI5DSJjzPJbMZCpKi9CZq6/Jyt2/qjJ093HZptizcVuKkg5SlLhfgvANZP0u9RrVomEgTcL9L6hua/qcTXy7TL1++/u4YdTriEvKYuOeJOavOMBnLw0hJOBMmdx+MIXlm47ToVU9PvhuOzn5JbiZ9JRYrBw8nsH6XYnMe+NOp2YJ78zdwpwl+9Ry6m4k/mQOW/Yls3FPksttyyu0sHT9MUKDvOyB9o+tf7I/7pR9muWbjtv/PaBrJPVDvF3OV2XFpuO89PEaysor8HAz4OOptp/eFZvKvOUHeHfyQDq2quewDcs3xlFcUsbhP0+zYNVhDHotNgWOnchi3a4TvDyhN3f0aS6F8IYLwgDPPAMzZ8Lhw2pThUceqXn6tDT44QeIjVX7Gc7NVbtiq/o01pZPDU+8enlVVpuUnBmWkHBm/Q0auKhiqZw2L09KaqUTGXEAhAacv1eQYF/1ZiQ9+yQKykX1IGEyuPH182tIPp3AC7MfINi3Lm89oj6IqdfpnYL0/DWf4Gby4Jk7p9GpRV+s1nJmLX+TNXuX8Pnyt2jXpDseZq+L2vfWjTszZ/JqVu9dzJyV79IzehBjBzwDgNFgksJxjakozsdamKPeE796m+skAFiLXd+MGzyrDxXFSYfI2vkrlowTlOWmU2EppvTUnxd8TTP6hqA1mLCVWyjLTsWtbpNqpy3NUEND1s6l5MU610pbi3Lt+y1uHLHxpwG4qcmFPSj548pDfLvsAIF+7rz55C20i1Kv58mn8nnhvT84eDyDlz5ezadTnX/1fW3WeppGBPDZS7fTJNyfQ/EZPPHGchJScvnp91hG3Xam4mnHoRTmLNmHVqvh1cf7MLhHU0osVmYv3M3shbtrvb2fvzwES5mVoU/NJzuvhAUz7iHIzx2NRoOne803rMdOZPHvD1ejAFPH9eSOPs3R6bQUFpcxfc5mFq05wuR3fmfx+/fifU6t+YbKsP7EPzpx/+BoFEVhxtytfP/bQd75Ziu39WxabS28uJ6DsJsbvPaa2qTh5ZfVGtrqzJunPjBXWqo2iWjUCAICHAPr5VJa2cG+t7faFMIVjUbtDUOgKDaKKmuz/LyCzjt91TSKYqO0rOSie48wGdzs82o02hqDrMngxiujZxIerP6kZtAbGT/4Rfb/uZ2s/FNsP7KWPq1vv+hj4G7yxKg324P4xYZqceXZyi1n7qGjeqDRuv6ycqvb9IKWm/D1FNJ++ww0GjzCW2H0q4PBK4Cy7It7mZDWYMZWbsFWVvM1Ual8M50psD5ejdq4nkinx7+jXM9uJNn5arkJ9Kv99beiwsZnC9RnO14Y28MeggHqh3jz9qR+DJ44j20HUohLynaqaW7eMJDP/zMEd7MBgJaNgxl9ewzvfLOV7QdTHILw/BUHAbj31psY3EP9rLmZ9Ewc2ZFAX3fe+GJj7W4aDTqMBp29usXDzeiyqYcrs37ehbXCxr23tmLELVH24Z7uRl56tBe7DqeRnJ7Hsg1xjBzY6pzvRYXXn7iFW89qxvH06C6s2BRHXkEpxxKziGocJAXxhgvCAKNHw3vvqV2ivf8+uPqSSUtTe2Sw2WDhQrX7syrffAOjRl3ebfTzq/wW9IHPP5fSeB5WmxWlsuMZvfb8RVenPdMkRqv5e+6IOzbvZQ/BZ29HuybdWLlrAcmn/5QTKdRy4e6t3ugqCuF3/wujX+glLzNrxxLSfvsMU0A9oqYscKjBjZ/1BKfWfnNhYb2sFGux+ouUwTuw5i8TD18AvBq3pfHD78kJFmp9T5m18jpY+2vw4YRMMnOK8fUy06djA6fxoUFetI0KZeehVHYeSnUKwiMHtLKH4CrRTesAcDqnyGH47sPpAAzq7tweeOTAVrUOwhd9Q6wobN6nNpkcfnOU842oRsPgHk2Y+eNOdhxKcQrCdQK9HEKwWiGjo3nDQLYdSCEjp4goJAjXeLN//e6ZVu3HF+DNN9WeHc61aRNYLNCli2MI/rtUtRs+cQJOnZLSeB4GnRG9Tr245RWd/y1d2QXqT3J6nQGTwXxFtz2osplGVkGGnMgbjKbyps1mLXO8RBlMuIWqX2CF8X9NzyZ5h9QmCcG97quxGYMrJWnHnYblHlhtD8FG/7o1zu8eoX5BF8TvlpMu7LwqmwXkF1lqPU9yunrzVb+ON9pq+r0Or3z5WL6CWwAAIABJREFUxqnswlot092sfg7LrWfeEGcps5JTWWMdFnJlXuaRlVtMUeUDduGhPjXva1ZRrZfrVnkjcPb+ihstCIP6Uoxbb4WcHLX/XqdkVXnHmJ6u1grbE1Q2fPDB5d++kBDo2xfKy9UH+6xW52nS0s40oRAE+qh39TmFmeed9nSu+lNw/aBGV0GIr7oolclJvNFu4HyCASg+edj5Bqmr2vNJ8s9vUV6Q5TS+orSI8vzMWq9LU1nOynLSHIYXJe4ne9fyGuc99sFD5B/d4rDu5AVqH9wBnYaed91+rfujc/emOOkQp9Z87XKa6rpuE9evesHqS6nik2v/ivHSsgo1zJkM1U5jMqq/+NlsF98dn7XizLxGg+6KHJ+qfdXptBj1umr2VX/J+yqqd/336Dx9utonb0WF87g+fdTeHY4dU2uEhw5Va2Y//hjK/qbA8v77ao30nDmwfz8MH642lTh1Su1qbd06+O03NdQLGoe2ID07mQMJO+nfbkSN0+6K2wRAVITji1U0lTUMFbaKv227swvUMOPt7nvWdmj/9u0Qfz+fqG4UJe4jfvYk8g5txJKZTN1BE/Bu1oW6gyeSuVXtVmzflO4E9RiJ0S+UipJ8ik4cJHf/KkIHTiD8rhdrd6PYZTjpKz8jY908tEZ3PBrcRHHSIdL/+AKdW/XtyXVuXhh8gjj02hD82w/GHNyAnL0rKT55BIN3oMseJZyWYfag4ehpHP90IvGfP0XO7hVql3AaLWVZJ8k9tJ7ipEN0+ToDjU5eJnCjiGkawoJVh9lxKJXC4rLzPjgG2B8IO7cZw9mqakeD/C6+T14PNwNmk55Si1oz7Bb09z9zUbWvFRU2svNLCPBxc97XylrvID93KVCXwbVfI2w2O/59rqgota9evR6MxjPdooH6kNovv6hNFJYsOdN3cKdOajdoGo06z9mq/m908WGuGmYy1X5cy5Zq4O3fX30r3dSp8MQT8H//p/5/zBho315KaqWuLfsBsOPoWk6eTqh2umMnD7DrmPozcd9zHk5zN3kCkJnv3BzlZKbrNrxV7Y2tFeU1bl9aVrK9q7Wz7Y1Xa9oa1ml21naoF/CcwkyneUrLisnMSz/PtlilQFwtF9LKXju0LnrvCBv6ND4te1Kem0Haik/I2fMb2sqmOlqjG61eWkZIn1FYi/NIWfIeCV9PIenH18nZuxLv5l0J7DLM8UZObwSNBo3eubbMK7IdkY9+jN7Ln7TfPuX4pxNJX/UVoQMfpeFo9SUz2nPm0+gM6N19aPXSMvzbDSJrxxJSlr5P8ckjeEW2o+W/lzi9Grlq3dpzek0J7nEvzZ/+Bvew5mTvXkHit1NJ/OZfpC7/BJulmPC7XpQQfIO5pXMj3M0GLGVWZi2oudlMcal6fW3WIACAxNRcUjKcu/srsVjZeUj9xa9N8zqXtH2hger3wa5Y54dJj53IuuDl6Sp7aCi31q6Cw8fTZO8CblM13bVt2J1Uua+hUqAug2v/ivTFF2qtqrd39dNMnqx2qaaWUsdx7durD9SlpKjNECIiIKiyYXlentoDxdk+/lhtc1z1oNvZnntO7arN19d53N13Q79+Z7pROzcM//abur6EBLWJRFCQui3C8XQ17UFk3SiOp8Yybf4knrnzDRqFOvaTeDBxF+8ueBEFhZvbDHV6eC08uDGn89L4bedPRA55CQAFha9/f48tsauquVipF+bcwkwKS/LxdHNd3o6e3M8Hi/7D40NesrdnXrtvKUkZx9Fp9XRs1ss+bYBPCO4mT4othazfv4zeMWoXWsWWQt76/jkycl0/5e/joT4YkpwRLwXiKhHc8x8EtL8NrYt+dvWe/rR8cRHl+acpz83AFFhffVCuaryHL40ffo9GD7xNSfqfVJQWoffwxRwc4TI0tn5jI0pFOTqzp8ttCep2F4Gdh2HJTKKipABzaBP765F9Y25Gf07Zbf3GxspQbqbZU3Moy0mnLDsVg28IpoB6LtfR6MHpRNz7sv0BubP5t70V/7a3UpZ7irLsVDQ6PUa/0PM+bCeuTx5uRh4Z0Zb3vt3GnMV7cTcbeGhYG4cuvY6dyOL9edsI8HXnlQm9CQvx5qYmwRyIy+DtOZt466l+Dk0XPv1pJ/lFFpo3DKRVZPAlbV+PthEkpOQyZ/E++nZshIebwb5Nj73+6wUvL8DHjYzsIo4nZxMW4l2reQZ1b8qXv+xh1oLddLopzKFv5I17ktiyLxmzSc9tPZtKgZIg7KoqRltzCD5zm1bz+Hr11D8O1SsuQqte7zoEg1qDXN04qHkcqE0iWreWUlnT6dZomTTidV6Z+xgZuak8//loIutGUTcgAgWF5Ix4Ek+pfQ23btyFsQOdf9Lt334Eu+I2snbfUrLyT9EgpCkHEraTeCqOdk26syvO+SlhN6M7jUKb82faEV755jFuatCBhPQjvHDvuxj1Z2oB/TwD2XRwJcdTY2nftAf5RTlsOrQSgOHdH3To9k2r0XJL22Es3jKXmUv/j/0J2/Fy82Fz7B9YykqIimhL7AnnGpQm9Vph1JtISD/KG/OfJsSvHsWWIh6vDPXiyjg73Lpi8A6yv27Z5eVDb8Q97Pyd32sNJjhPv9EanR5ziHPb+HPfbFcVgM9m9KuD0a/OeZfvKgQ7LMc3xKkmWdyYxgxpTUJKLovXHuWTH3bw7a/7aRUZjNmkJzk9j7gktf3wk/d1ss/zwkM9GPufX1i7I5F/TPmZXu0j0Gm1bD1wkv3HTuHlYeK/j/W55G0bfVsMv6xV31w3+t8L6d0+gozsIlZujqdOoCeedX1JTM2tfWVNy7ocTsjktc/Ws+NQKmmnC7h/cDRtW1Rfm/vw8Das2v4nSWl5/GPKT/Tv2hhfLzfiTmSxensCGg28+FCPC+qCTtxIQVjceLVvlS+1WLDxSzYcWMHx1FiOp8baxzcIacLADnfTt/Xt9na4Z2sb2Y2Hbn2Ob1d9xIGEHRxI2EGgTx2eu+stjAYzu+I22mtzzzZ+8Iv876cpJKYfIzH9GD4e/g5dtAHENO5Eh2a9+XzZmyzdOg9Qm2IM6zaGO7qNcVrmP/pOoLA0j7V7l7LhwAoAmtZrxfjb/sWGgyuIPbHbaVt8PPwYP/gFPlv2pj20d2zeWwqGEOIqrcDQ8N/H+tAlOoyvl+zjSGKmvcswvU5Lp5vq8Y9B0fRqd+ZX0KhGQXz53zuY/tUmdh9J43jlw3ZarYYebSN4ZnQXGtR1vBkz6LUOfzuO07kcF+jnzmdTb+Olj9dyNDGT+ORstFoNA7o0ZsrY7jw743eS0vMceq+oqs12tZ6Hh7XlaGIW2w+m8O2v+9HrtDw8rG2N83m4Gfnqv3cw/evN/LH1T75bftA+rmlEAE/e15lures7hrcatqGm/RUubuwVRZHHEMU17XReGvnFuei0egK8gvBy963VfGVWCymZieh1BsICG9hDc1FpAe4mD5chWkEhMy+d0rIS6viHYdCpbSTX7lvKR4v/S++YwTw+5D9U2KwkV7ZhrhcYYZ+uOgUleZzKScHHw48gH7XmwKbYKLEUVfvSDGtFORm5qWg0Wur4h13Um/OEEOLvll9kITOnGINeS3CAJ6bz9NiQV1BKamYhGiAsxLvaB+4qKmwUlZY7vX2tSlFJGQa9rtoeIlIyCsgrKKVesBc+XuovJeVWG+XWCqd+iYtKytHrtdVue3ZeCZm5xdQN8nLY3vPNV2qxkpSeh9VqI9jfo8Za4JqWZa2wUVJaXuuXekgQFkJcknODsBBCCCGuflJnLoQQQgghJAgLIYQQQghxo5CmEUL8BTLz0tlxbD2RdaNoUq+VHBAhhBBCgrAQQgghhBBXJ2kaIYQQQgghJAgLIYQQQgghQVgIIYQQQojrWO3fLJeXB5s2yRG7UYSHQyt56OtKsVaUYykvdTHcSmlZsdNwm62CElfDFRvFlkLHD71WT1RE2wvepvK80xQnx17wfDp3b/X14xd7kfLwvaRjeaXnF0IIcT0E4bg4GDxYjtiN4uGHYdasv321OYWZHEna5zS8qDTf5fRFpYUoOD/vWVxaiKLYnIdbirC5GF5aVkSFrcJpuKWsFGtFufPw8lLKK8qchpdZLZRbXQ0vo8xlsHUdeC8nD7MXXz236oLnyzu8iWMfjJXPxg0W5HUePlds/RqNBp37Jaxfo0F/A86vNXvgF3PLX1J+U7JLOJaWLx9kUaOuTQPP+4bAaz8Ie3hAu3Zytm8UDRpckdWeOBXHjJ9fkON/Hga9EaPe5HK4yWB2/qDrDPbhZoPbRQYaHzwbtq5xmoqyYpTysover0ud31ZWgq3cclWdK2tR7hWdX9x4zCGN8Jux8y9Z1oYjGUxbFCsHVdRoxYu9CfV1uya3vfZBuEUL2LlTzra4rNzNXjSt1wqz0fn96lqtDjeTi+EaHW4mDxfDNbibPJ1XotHgYfZyfb9n9kSD88/47iZPNBrnJvVuJg+0WhfDje7otM4fL7PRrdrhep3BabjRYMKgM14V58b3pj743tTnui5/FZZiFOslBHFLMbYrPL9iLb+E/S+6wvNf2vG/5PlLi1Aqyq/Y/LbSImyXOL9SYcUYUO8v+0wEepmIDpfmQaJmRv21+8iZ9CMshBBCCCFuSNJrhBBCCCGEkCAshBBCCCGEBGEhhBBCCCEkCAshhBBCCCFBWAghhBBCCAnCQgghhBBCSBAWQgghhBBCgrAQQgghhBAShIUQQgghhJAgLIQQQgghhARhIYQQQgghJAgLIYQQQgghQVgIIYQQQggJwkIIIYQQQkgQFkIIIYQQQoKwEEIIIYQQEoSFEEIIIYSQICyEEEIIIYQEYSGEEEIIIc6il0MgLjeLxUJBQQEAGo0Gf39/NBqNHJjrjK3cAooNrdFNDoYQN7CiknJMRh16ndS1iZpVVFSQk5Nj/7+Pjw8Gg+Fv3QYppVdKXBykp98Qu9quXTuCgoIICgoiMDCQ33777brcz5zCTO6b1oPnZt1/QxXlnD0r2fNcJ7Y+WI+tY8M49sFDN97FvLSQ4pOHUSqsF72MstxTbH2wLvte7HVB8+17oSdbH6xLeW7GZdm38twMStPj5Zr9F52ziz3PV4uktDwyc4tdjvti0R5uGfc13cbMpsuoz/lu+cHrvgwcScik10Nf8dyMlY4VAzaF48nZFJWUX1iFwkXOd6369ttv7fkgKCiIfv36/e3bIEH4r/Tyy9CkCfz4Y83TrVwJTZtCw4ZQVHTdH5b09HS0Wi2ffPIJM2fOpEOHDtflflqt5ZRZLRSVFNwwRd6SlcLR98ZQkhqHb6teBHW7i/KCrBvuox/7xgj2Pt+N5AVvXfQylHILtrJSrEW5F1buivOwlZViKy/96wN+SQG7noph9zMdyDu07vIdv7fuYs9znSjNSLymzvvFnLOLPc9Xgy37khny5HcMfvxbSiyON32/b4nn/XnbyC+ycGu3SLq1CSc98/q/FhYWl5FXUEp6VqHD8I++386dz/zAxGm/XtDyLna+a9XNN9/MJ598wowZM+x54e8mTSP+0lvDI3D8OJw4cZ5vl4rKK6Jycev54QdYuxb++U9o0eKaODQajYZHH31Uysh1JnvHEmzlFvzbD6b5pLk37HFQbBVV/7rOdkxBsdku+64VJe6nPO801sIcCG7gMPzU6jn4tr4F/7a3ygfuCquwKdUWhWUbjwPw5H2duW/QTXKsqo6V4hycP5y/nbpBXoy+PabW812v6tWrx6OPPkpubi5PP/30FdkGCcJXwq23wqFD4OMDHh4XPv+CBfD999C16zUThMX1qaoGzyuy/Q19HKKm/IzldBLuYdfX51Hn7k3bd3ZjKy3CrV7Tv339BfG7SF/1JUpFuQThq0D3NuEsmHEPnu5G3EyO8eHkqTwAopuEyIECJo7syMCukYSFeDsMP51TzPwVB6kf4u0yCFc3n5AgfB1+c0bJMRDXPFtZCQBak/uNfSF190EfcX3WgpkC6klBF3aNwvxc3xSXqb+KuJklVgDodVqaNwz82+YT12sQzs+HCROgRw949FFYvBhmzYLkZAgPh/HjYfBg1/NmZcGHH8KaNZCTAyEh6rTjx4PZfGa6qVPV5gyvvQaNGzsu45tvYMkSeOwx6HXOgw2HD8N//wudO8OTT174fk2cCPXrw//9n+O4uDh4803Yswc0GmjdWj0G7drB0qWwaBHs2KFOO3u22kQCYPhwGDRISnQNkjLi+XnjF9QPasSdPVw/0PXVynfIK8pm/OAXMBvdKSjJY8OBFRxM3MnpvDS0Gi1hQY24uc1QosLb1Gq9sUl7+G3Hj3SJupnOLW52Gv/J0tdQFIUJt/0Ljcax2X5BSR4rdvzAwcRdFJXm4+MRQLsm3ejXdjgGvfGKHcvc/avJ2raI/KNbAcjc/BPFJw6ARkP9EVMw+oWqEyo2Tm/+meydSynNSEKj0WAOaUhA5zsIaH+bWsbPri3ZMJ+c/atoeP/rWLJOkvzTNMryMgjqeid1B090uS3JC96kJDWOsDuexT2sudP4gmPbSPvtU/zaDCCo+z0AlKTFc3rTDxTEbac87zQ6N088G7UjdMAjmM/6aR6g8M89pP76AXX6PYxb3SacmPcyRScO4F6/BU0mzASNhtMbfyBn70rqDp6IZ8PW9nkVaxlZO5aSs/d3StLiUMrLMAXWx7/jbQR3H+m0/+ce41Or51B6KgGDbzBB3e4mqPvdF3SerIXZpK2cRV7sRqxFuRh9gvBr3Z+Qmx9EazDV7nPz/atYslNp9MBb6Ny8ALXtcPwXz+DdvAt1bn6Q7N3LObX6a8qyUjAFhhHS9wH82vS/6PJVmh5PytL3KU45pl4yj24lftYTatAKa0HdWyecOcYV5WSsm0f2rmVYslPRmT3xbtaZ0IGPYvQNueBzaS3M5vSmH8k7tAFLZjIarQ63es0I6TMK7+Zdz/u5uNRzVnzyCOl/zKYoYS+28jLMwQ0I7HYnAR1uv+LX0KKSMqbN3kidAE8m3tsRgHnLDxB3IovsPPWm+JMfduDtYcLdzchzY7pe9Lr2Hk1n4eojxCdno9VoaNEoiLv6RxFZ39/xZlxRWLHxOKu3J5CSkY9Go6F+HW/6d4mkb8eGTh+xd7/dSqnFypSx3Tl2Iou5S/dz7EQWXh5Gbu7YiLv7R6Fz0duFtcLGDysPsXZHIrkFpTSs58uo22Kqv+7Hn+brpfvo2TaCQT2aUFFh480vN5GTrx6n7PxSXpmpfn8bDDqmPNgdrVbjNN+5dh9OY8m6oxxPzsZSVkGwvwfdWocz/ObmmIyOke5QfAZzFu/jnoGtiGkawg8rD7Fq658UlZbTJNyfB4a0pvE5x1OC8NUmOxvmzYOCAti1Cz7/HIxGsNlg3z41pM6eDWPHOs63Zw8MGACnT0OjRhAcDNu2we+/w1dfqeHY1/dM8Pz+e7WGdupUx+W89RYcOKA21jk3CM+dC/PnQ4MGF7dfc+dCRIRjEF67Vt3uigo1+Nps6nSLF0NGBmzapO7v2dNXBeHQ0IsKwkeOHOHkyZM1TqPT6ejRowd6/bV9p+9u8mDLoT/YotFwc+sh+HkFOYxPTD/Gr9u+w8fDH6PBTFJGPP/+6mFKLEWYDG4E+oSQV5TNn2lH2LB/OY8P/Q+9os9/zBPSjrA59g+83f1cBuHVexYD8MitzzuE24T0o7z27RPkF+cQ4lcPH3c/4lIOsv/PbazZt5SXR32Ch9nrihzLwvhdnFr7zZmwGbeDgjj1Bi2492iMfqFUFOdzePq95B/dAhoNJv962MpLKUzYS+bWhfi3G0SzJ79EozvTVU7eoQ1kbv4Z7+ZdSfzmX9jK1AfAtAZTtUG4LCuFzC0L0Lv70Gjs/5zGpyz9gOxdy+whJmP9PI5/9gQoNgxeAei9AyhKPEDBse1krJ3LTa+sdAjUxScPk7l1EeY6kRz/7AlKT/2phoKkg0SO+wCN3kjewXVkblmAb3RfexBWKsrZO6U7JWnH0egMmILCsVmKKUo6SPbu5eQf3kzkuA+cd0ix8edXk0n//XO0BhMavZGipIPk7l9N/rGtNB47o3ahJXE/sW/eSXl+JubgBhi8Ayk4vovcA2vJWP8dLf+9GL27z3mXc3rzT1gykwm/8wV7ELYW5pC5+SdspYUUJezl1Jq5aPRGUGyV+7eCyHEfENzrvosLwhknOLXmTJvzkrTjlKSpbVC9m3W2B2FrUS6xb95JYfxuDF4BmEMjKc1IoODYNk6tnkPLFxfi0SCm1ueyJD2eAy8PpKKkAJ3JHWNgGOV5pylM2MvpTT/QZPxHBPUYednOWcaG74if9SSKrQKP8Fbq18We38jasYTgHvcS+ehHV/QamldoYen6Y4QGedmD8NodiWw/mGKfZtW2BADMJj3PjO6C9iK6ypz18y4++l69nvh4mrCUV7A/7hQ//RHLxy8OptNN6q8UhcVlPPHmcnYfTkOjgZAATyxlFcT+eZrfNsfTu0MDpj/d36Ebt982x1NQZKFpRACvf76BCpsNo0GPpczKzkOpHIrP4LWJfR22x1JmZcL//cruw2n2bYpLyuL3LX8yoFuky304npzNik3HMeh1DOrRhDKrjZ/+iMVW2Qa4qKSMhauPVH7HanlmdFdMWp3TfPYipsD0OZv4dtkBAPx93DDqdcQlZbFxTxLzVxzgs5eGEBJwprllfHIOK7fEE1HXlxlfb+FQfAZmk55Si5UjCZms2pbAV6/eQdOIAAnCV71ly9S/p02DSZPUgPjcc/DRRzB5MowaBVX9zhUXw7Bhagh+7z144onKb4UiuP9+tUb1+efh00/V4UOGqEH4118dg3B6uhqCQe3lwWqFs4Ng1TYNHfrX7efTT0NZGaxfr9aCV4XmH35Q//3aa+q2P/SQ2k7400/h7sraBq+LC0T33HMP+/fvP+90q1evpk+fPtd0YQ/0qUPz8BgOJ+1ly+FVDOro+IW2OfYPALq17I9WoyWvKJtGdZoztOsoYhp3RqvRoqDww7pZ/LT+c+avnVmrIHwxLOWlvP3DZPKLc3hwwDMM6nhP5fAS3l/4EtuPruObVR8yfvALV+RY1hv6NHUGjCNhzhROb/yeiHtfIaTvaDQarT0sHf/8SfKPbsGraSeaTPjEXtOad2g9xz58mOxdy0hZ8h5hdzzrtPzEuS9iDAijyfiPMPrVoSyn+ieJA7veyam135C1fTENx7yJRnfmc1pRUkDu/lVodHoCOt2hHsPMkwR1u4u6gx7Do7I5Q0VpIcc+eIicvb+TsvR9mjz6sdN6Un/9ADRamk78HO8W3ShOOqSGv2rYyi1oDCYaP/wugV1GoDOrX1C5B9Zy+K27yFj3LWF3PONUA23JSuHUqi8Jv/vf1B30OFq9kfQ/ZvPnV5M5teorAjvdgU/LnjWeH1tZCUfeGUV5fiYNR08jdMB4dT8txcR9PJ7snb9y4ruXafzQO5dUDnL2/g5AxD0vEXrrBFAUEue9RPrvn5M47z8Edb/b4Uantnyj+9JpViKn1n1L4jf/Iqj7PTQc80blTdGZX/TiZ0+iMH43gV3vJHLcB/Za7pOL3yHp+1c59tE42ry11anmvbpzWZ6XgWeDGOre/gS+N/VBo9WBopC84E2SF7xF0o+vuwzCf8U5K0o6SPysp9CZPWk+aS7eLbpV3hQkcvitu8nY8B2+0X0J7DriqrqufvjCICxlVkY+/xMpGQV8/dowGtbzxaDXXVQI3nbgJB99vwM3k563JvWjR9sIFAV2H0njzS82cjwpyx6EX/l0HbsPp9G6WR1em9jX3q52+8EUnn/3D9buSOTLRXt4ZEQ7x1r3knJe/WwdA7s14bkxXfH1MrNsYxwvfbSGpeuPcd/gaFqc1Tzhi0V72H04DX8fN2b++zaaRgRwKquIabM3sHxjXK32y82kZ9Och/jzZDb3vbCAesFezH/zTjWI6XWYDLoa5/9x5SG+XXaAQD933nzyFtpF1VV/ETuVzwvv/cHB4xm89PFqPp3q/MvB7IW78fIw8e7kgfRq14CsvGKe+d9K9h1N56P523nv+Ru7/f210X1aVc3olClgMoGbG0yfDv7+ahOIffsca2pPnFCbClSFYFAfSps5U61RnjsXLBZ1+KBBaojesUMNz1X++ONMwMzLU2tjq6SlqeusUwc6dfrr9jMuTg3bZ3cv5u+vNgtRbxvVmuyq0O/urv7f11cddxH++9//8vbbb9f4Z8aMGbRp0+a6KPA9b1I/8JsO/e40rioI94xWp7mpYQdeHv0JbSK7oq1ssqBBw509HsKgN5KZl05+cc5l2c71B5ZxOi+NTs372EMwgMngxrjBL6DXGVi/fxnlFWVX5DhqtDr07j5o9WpZ1BrN6N197CG4+OQRsrb9gkZvpNmTXzmEPZ+WPWlw36vqR+m3WaDYnC9MBjMtp/yMV9OOmILC8Wrasdpt8YnqjtG/LuUFWeTFbnD88WXXMmzlFnyj+2LwVr/Y6g+fTJMJn9hDMIDO7Em9IZPUQPLnnmqDbdOJswjsMhyjbwi+0X1r/iXF7EnraRsI6TPaHoIBfG/qjXeL7uq6Eva5nDdy3AeEDX1aDXYaDXX6PUxAR/UL7vSG789fi7vheyyZyQR0uN0eggF0Jncaj52BRm/k9Mbv1ZegXAJFsdFkwkzqDXkKrcGE1mimwX2vovf0w1qYTdGJi+9HVufujdaohl6t3qC2w3b3sYfdkrTjZG37BaNfKJGPvO/Q1CNsyCQ8wltRkhpH/rGttT6XPi170fLfi/GLuUUNwQAaDWF3PIvWYMKSdZLy/MzLcs5SFr+LUlFO/RFT7CEYwBzcgIiRLwFwau3V1zOL0aDDy8NkD73ubga8PEyYTRdXz/bVYvUzMfr2GHq0jag6BbRrEcp3b4zgrv4tK2s7s/l9SzwGvZbpT/d3eLisY6t6PDO6CwDfrTiI7ZwuGGyKwp23RDHtiZvx93FDq9VwW8+mdG1d3x40zR9VAAAgAElEQVSkz8QPhR9/jwXgpXG97LWnIQEezHhuAP27NK71vrmZ9Lib1ZtnrUaDl4cJLw+T04OH56qosPHZgl0AvDC2hz0EA9QP8ebtSf3QajRsO5BCXFK20/xe7ka+fGUovds3QKOBQF93Jj+g/kK241DqDdNDxbUdhMPD4d57HYeZzVAVzlJTzwyvelnDkCHOywkJUZsjlJTA0aOV30q+0LOnGrZXrHAOwpMnO9YAn/3v22+vsY3fBbvpJrXm+YknoLDwbzm0Q4cO5dlnn63xz6RJk/CtakpyjesSdQt6nYG4kwc5nZdmH/5n2hFO5ZykbkAEjUNrfvJfp9Xh56mGqhLL5ekHem+8+uXdvqlzLZKPhz9BPnUos1pIzUy6Ko9zzl61c3n/NgOc2mkCBHS6A63RTHn+aYpPHnEaHzbsWUxB4bVN5QRV1pJlblngMCpz6yIAgrqdv52mKTAMAGs1/UD7tRmAf7u/5heAmtZlCqzvstYxoMOQypuMw+c//vtXq9vcbqDTOINPEKbA+tjKSimtbG5w0fsREOZUQ6k1mPCIiAagLPfy9Qmau39V5Y1FH3tgPptn47bqzUbi/ks+lxqdHqNvHfuvDJfjnOUeWKN+Ztrd6mJf2le7L9eTigqbvfnBoB7OvZTodFqMlTWnG3ar176e7SII9HN+WLdfl8aYjHqy80qIT3ausHjwDufKnZim6rXqdPaZ63piai7ZeSV4uhvp0dbxmqTVaLi7MphfTocTMsnMKcbXy0yfjg2cxocGedE2Sn0uY+ehVOcKoHYNnB5yjGoUjF6npbi0nOLSMm5k13ajT09P9e+ys05igto+ieefh//8x3metMrwk5d3dhqEVavU5hGjRp0JwlFR8PDD8NJLavh9803HIHzHHX/t/nz4IfTrpz4Q+PPP6rb885/OD/GJi+Zh9qJtZFe2H13Hltg/GNJllEMNcVWNsb3GC4X9f25n/5/byS7IILcwE2vF/7d33uFRVVsffs/MJJPeQ0IIIXSkSBdBuKCoqIgNUaxXhWtFr2K5YkVRsaJ+V0QpoqLYKIoKUqUooEAIJfSWBNJ7ncm074+dTDKkTSBcQljv88wTOGWfffY5Z5/fXmfttazkFmWVW8TOzFA6I091Zl+t/i/fr5tZXeiUH7/EXNQk29mUpnwvvSLb1TwC9zDiGRyFKf0I5pwUfFq7RlEx+AU36Hhhl4xRvsBbfsFx33toBk+sJfnk7fodvZdfNdFjLzOR/fdPFB2Ooyw3DUtBVmVCilquqYffqU0qKUlKIHvrr5gzEinLS8NmLnH6pjbEFGNsoaxj5pwT9W5rzlSxzBO/mUzygjerrS/LSy8X4gVn5PpXWMAd1jOXHcuUoYRQ9tZfqn0JAJwJK2wlBQ27lg4HebvXkr97LeacFCx5GditZVVEfeNfM1tJgYqhDOyecm2NdQKwlhTQnMkpKMVcphJ1tAzzq3PbpDT1Do+JrNlIY/TQ0yLEl+S0fNKzi+gYU//z6+OlvnBZrJVfqVIyC5310Z+llNHJ5efaOjKgVneTmMhAtiakkJ7j3jtB05Qfd1FJmcv5ihBuDpjKX2a9ekF0dM3bBASo9VWF8GOPKV9gm01Zi0+cgJtvVu4PvXqpCXjJyWpS2qpVSoQPH964de/TR/klv/02zJ2rfJynT1cC/AwFmp43bx4JCQl1v9T0ep588klCQprH7NIhPa7m7/3r+DNhpVMIb9q7qnxdpQWtxFzEm99OZG9SPJ4GI7ERHQnwDUbTdOg0/Rmto8WqBndtIzsREtCi5k7b04/YyE5Nso0rRKW+jrBqTiueMxnFaQxwYrrjE30BJcf3krfrd4J7jyBn6684rGWEDhztYjEsSUpgzzu3UpaTgkdAGN5RnTD4BZ+RzGxHv3yW1OUzQdPwjemOZ3AkHv6hlOWkNLisinOomEDoTvv7tumBMSSq5ufa29/FPeRcw1F+jsaw1vi3q8V1S28g5KLr3C6z6gRPnacXvjHd8QgIQ6/5V7pKnIFrVtVFJbDrEDRdzYLLO6oTzZmKEGx6vQ4PQ93tbXYjXJuXpyqjYoLaqVCR4MLDQ3/W28XbWLu/vbERzlWEcHMhuNySdNddcIebM5ZjYpTYjY+HjRshLk4tr8h5PXKkEsJLl0Lnzir82ejRyl+5sYmKgg8+UNEkPvxQWaOfegoGD4aLLmr0w73zzjvsqpgUWAeXX375OT9ZroK+nQbj6+XPkdR9pOUkU1iaT2ZeKl1a96RFUKVo+Pb3T9ibFE/PdgN4YvQbLhEaJnx0E+m5x90ceevKO1T3BV/Fsf7R4xoXcX7OdCy+ykpT1yS3CjHoGRzZKMcMv2QMid+9StamRQT3HkHW5sVq+Unhqw7MeJCynBSir59I69H/cU7mKstJYeuj3RutDbK3/Ezq8pkYQ1vR9dlFeEdVzgA/POsxl6gb7lDRlhW+zu60f/jgWwm/ZEzzfHmVn6N/+z60H/9ho5SZtOANCvZvIqjHpXR6dI7zGABxE/tiSz96Rq6Z3idAmegcDmJueb4y/OB5hr+P8p+12ezkF5kI8veqddsAP7VtVTeGk0nPVuvCQ3xPuU6hgd4A5BaYzlq7BPgqrZGZ68a5BvsiNHDA2uzOqGd5qJy//27YfhXRH379VYVZ8/CoDJlWEZZs6dIz5xZRTQn5wnPPKdcMhwPWravyBigfv5Sdvl/PsmXL2L59e52/HTt2MPTk8HHnMB56TwZcoET9xj2rnJPkhpzkFrH72FZ1qS+557TClPkYVceUXZBebd3xzJpfrLERSjQdSkk4J9vYpzz0U97ONTV+/i88uAVrcR56b/9qbhGnStglY0DTyNm2jLLcVPJ3r8czOJLAbkOc21gKs1WEAL2B1jc9c0oRDdwlP0F9rm8x9A4XEVwf1pJ8LAWZ1Zbn7VQ+pL6xF9bffZS3f9HhuHP6WdV0qq+z1+Bi4dNGnWNhI55jfsJ6AFpd97iLCD7T10znYcS7ZYfya7btvBUkQf5eTn/fbXtS69y2Uxs1uNi4I7lGD6OdB9IpKDbj6+3plltEbbQMV31/amYhqZnV/cP3J2Y3bACnV64NDXFH6ByrJugdS8njREb1OpSarU7f4N5dIhHOdyF8++3q7+zZysJ7MjYbJCXVLoSXLFGi8+KLK32QBwyA0FDlR7xkiRKitSXyOFVycmBz9dnNFJT7hFUNjxZRPvlo9+7TPmyrVq3o1atXnb8LL7wQna553SqV0SNWsGnPagx6DwZ1vdzVSlMehiu30PUFt3bHr2Tmuf9pO6aFesHtOPIXqTnJzuXJmUeY8nXNsXEHd1dW4NXbf+JY2oFq6+0OO1n5aU22fUP7jUTn6Y0pM5ETv/yfa90tZhK/faVcJN7ZaGLUGNqKgC6DsJmKVCxWm4WwgaOhSpISXfmxHDary+x/h91G8o/vNq6Iq7A057q+0IuP7SRn27Ja97OVFJAw9SaX/UpO7Cdz/Xwl+AfUPwgPu0SFZUr//UuKE6t/8XHYbZizjzf559QjUMX6rmmyWXCvK9H7BFCSlED671/WuH9FCvCGXzPXZytjwzeYM5PO6DULH6SuWfLCt7EUVhdXNlNxrRErmhNXXKzmFcxetM3pLwwqocXsRXEsKI/gcNlFbfEyGjiRUcjnS1wjvZgtNj78Wr1Pb7isi0sc4Qb3ZYHedG2n7sOPv9/qakj68xDT5m1qUHkhgUroZ+aVkF/kXtSW6IgAenRsgcMB73zxJ2UW16+Lny7YSkGxmS5tw+jeoYUo2wbS/FwjhgyBe+9VPrYXXwz//Cd066Z8hw8ehGXLoG1b2HDS5IrevZWLxN7yDrfCLQJAp1OJLubPV/7Dl15a6YJRE++/r7LSncyTT1ZOxjuZ3buVBfrSS+HKKyEwEP74A775Ronwm2+u3HbYMJg2TU2uKypS4r57dxVjWXCLrm36EBoQQVLGYQD6dx6Kn3dANbF8LO0Ac5e/R2Z+KkF+ocQf3sSmPasJ8Al2O3Rau5Zd6BDVjUMpCbwwdzwXX3AZZVYTfyasJCK4FR4GT9JzXSfTXBDTi0t7jeL3+J957rP7GNpzJK3D22GxlpGak8T2QxtpEdSKKffMbJodi18wsXdM4cjcp0j89hXy92zAv0N/bKYicrb8gikzEZ+YbsSMadw4yOGXjKFg75/k7lBW/pPdIvQ+AQT3HkHu9uXseWsMkZerZDwZ6+dTkrzHJczZ6RI28CbSVswkY918dJ4++Mb2oCQpgbRVnznDzNWEd6tOmDOOsf3piwkbeBM6Dy+yNi7AWpJPQJdBhLrh8xrQeSAtht5Bxrqv2fXylYQPGYtPdBfsFjOmtMPkxq/Cq0Ubur+0tEk/p/4d+qLz9KL42E72vnsbXi1isZUW0uGBj9B7+dL27qkc+nQCh2c/Tm7cbyrsmKajLPs4eQnrKUlKYOCXGS6xpeu8fwbfQnHiLo5+OQlzVjKeQRHk7lhF9l8/4REQVqsQbYxrFjVyAlmbF1OctJsdzw4mfMhYlZimtIDixN3k7VxNy6seImbMc826bx5/U1+WbzzM3qNZ3PjEd1x8oZrrs3nncVIyC5l4lwqLFuhnZOJdA3lj9gY+/PovtuxO4cJOEZSYLKz+6wgnMgrp1CaUh2/pf9p1mnDbRTzyxq/8vG4/2XkldG0fzr6jWfyxPYlh/WJZu9X9AZevtwcXtA1j79Es7n/1Zwb0aMXeI1l8NOnqapnhqjJp3BDue/kn1m45xu3PLmRovzbodTo27zrOzgPp+PsaefXhSxGamxCuiJfrWUvQ+orlJ6+fPRu6dIH33oOZM6ua+NSEtNomno0Zo/bR6eDqk0LY3HijEsJQmcTiZDqVT2RISXEN6VbBiRO1n1f//kok//CDynxXwZVXqjqFVfExGzVKRZP46CMVYQKUX7HgvuUHjct6XccP62eV/7t6EPJrB9xGfnEOS//6jm9+n6GsUH5hPHr9ZA6m7OG3Ld87rcbq9lL/NtTw0n1qzFt8sOgF9iXHs2LbQnSajku6X8l9I55i6jePk5mXWs3q/tC1z9MqNJafN3/FqrjFleMyTUe7ll0YdfHtZ78dyxNK1JSuN/Ly+zD4BZP0/evk7Vyj3CRQEQUirxhHm1teRO/ld1J55XGJTzF9dOiA60mc/zLWknx8Y3vWOBmsw/3/5fCcJ8jZ+itHPn9avZxie9L9paUc+nQCdnOJy/YVdamoW83tUL3e/h360uHBjzn29QukLlcJfHSe3rS86kF82/TgwEfjnXGYlTVS3Td+7foQ9fBMDs18lPQ1X6h1Oj1hg0bT/t73qoVs1AyeoGnV6tfhXx/iHdWRlF+nO8upKMs39kKirnnY/Wt8UvkV/64toUjleves/RVJMk6+jzwCwmk/7n2OfPYkudtVaMyQfpVRFVoMuQ2DbxBJ300hJ+43cuIqQ2B6RbQlZsxzLiK4vmsZdfVDWPIzSV3+KUnfv6a66aAIOj40g6LDcaSumOXyBeNUrlltbafz9Kb7S0tJ/OZlMv/8gRM/f1hlnReBXYcQNvDGsysYyi2rHobqFlZD+eS2+ia5uWOBnfvqDbw2cz1bEk6waPVep/C9f3Rfbru68pm+5cpuBPp58dG3f7NxRzIbd6gvbj5eHtwyohuP3TYAX2/Xa+1h0KFp1Ggl9nCeg+u6QT1bM/Wxy3n3i43O4/h6e/DgmH6Mu7EPF981u9p5V5RRU1u9+MBQnp62gv3Hsth/LIvQQG9nRIra9uvaLpy5r97Au5//Sdy+VA4l55Tb6TSG9GnDk3cPJDYqyO06VJyvTtPQ6zTOZzSHo4mHUi4sVMLRqwaneYtFZYyrLcatwwGHD6ukG35+KoawX90hWcjNVcfy9q65Lg6Hijpxps7LbFaWa6tVWa4D60iBWlQEx46ppBtRUU32EoaFhZGXl4fVam1ydSsxF6HX6TF6eNe6TZnVTFqO+owcHd4WnabDZrdRZjXj7ekaFaG0rASDzuCSKrkqWflp5BXnEBEUhb+Pum8t1jLsDlutdXDgID3nOIWl+Xh5+hAeGImXp0+TaD+H3YattLBef0pz9nEseRnojD54R7arVUA5bFZspqIG+WdWK8Nahs1UjME30MUt4mSsxXmYMxPR+wbhFa7CXNktZnA4qsWlrfBnri1yQF31dtismLOSsJUW4tWyozOShrUkH4N3gItIspUWovP0dgqs0tRDar8WsbWGlLNbzDhslmqDiqr9oCnjKJbCXPRevhjDWjfI8l1b+TZTEZreo8ZBkMNmwWYucSuFc8U1s1sttdbLYS3DlJmEpml4RbSrMX57WV46ZTkpKuZvcMtaJ6jVdy1BRXkwZSj/fe+oTmg6PQ6bFbvFVL0dTuGa1dV2Fedbmnak/D4OwqtFG7et2mea4lILBoOuWiY0s8WG1WqvJjxPh5z8UlKzCvHx8qRNVGCdmerSsorIyivB22ggpmVQreKvrno6HFBYYsbP2xNdDeLQZrNzLCUPq81ObFSQ04Jbarai12nOGMcVFBTXXpbDAWlZhZSYLLSODHTZt679APILTaRkFaGh3Cb8fGo3HNRVlrnMis3ucIaNO5vk5eURHBxM586d2bdvnwhhoXnRlIWwIAiCIAjnrxA2SPML/wvsdjsTJkxA0zQef/xx2kuSEEEQBEE4r4mPj2f27NmUlZ297HYihIUzzoABA9i2bRsLFixA0zTGjh0rQlgQBEEQznOSkpJYsGABABEREfTr1+9/XgdxjRAEQRAEQRDOS3TSBIIgCIIgCIIIYUEQBEEQBEEQISwIgiAIgiAIIoQFQRAEQRAEQYSwIAiCIAiCIIgQFgRBEARBEAQRwoIgCIIgCIIgQlgQBEEQBEEQRAgLgiAIgiAIgghhQRAEQRAEQRAhLAiCIAiCIAgihAVBEARBEARBhLAgCIIgCIIgiBAWBEEQBEEQhMYUwpqmcejQIQAGDhyIpmlomubcIDw8HE3T6NChAwAFBQXObUaMGAFAXFycc9kjjzwCwA8//OBcNm3aNACmTp3qXLZkyRIAxo8f71yWkJAAwLBhw5zLzGYzANHR0WiaRnR0NABms9m5zbBhwwBISEhwLhs/fjwAS5YscS6bOnUqANOmTXMu++GHHwB45JFHnMvi4uIAGDFihHNZQUEBAB06dEDTNMLDw51tVLHNwIEDATh06JBz2Z133gnA8uXLncsmT54MwPTp053LvvrqKwAmTpzoXLZp0yYArrvuOueyzMxMALp164amaQQEBDjrYTQa0TSNPn36AHD8+HHnfmPGjAFg7dq1zmWTJk0CYPbs2c5ls2fPBmDSpEnOZWvXrgVgzJgxzmXHjx8HoE+fPmiahtFodNYjICAATdPo1q0bAJmZmc79rrvuOgA2bdrkXDZx4kQAvvrqK+ey6dOnAzB58mTnsuXLlwNw5513OpfJvSv3rty7cu/KvSv3rty7cu+e6r2rORwOh4wHBEEQBEEQhPPOIixNIAiCIAiCIIgQFgRBEARBEAQRwoIgCIIgCIIgQlgQBEEQBEEQRAgLgiAIgiAIgghhQRAEQRAEQRAhLAiCIAiCIAgihAVBEARBEARBhLAgCIIgCIIgiBAWBEEQBEEQBBHCgiAIgiAIgiBCWBAEQRAEQRBECAuCIAiCIAiCCGFBEARBEARBECEsCIIgCIIgCCKEBUEQBEEQBEGEsCAIgiAIgiCIEBYEQRAEQRAEEcKCIAiCIAiCIEJYEARBEARBECEsCIIgCIIgCCKEBUEQBEEQBEGEsCAIgiAIgiCIEBaE08BsNpOVlUVWVhbZ2dk4HA5plHMUh92GraRAGkKok7K8dHLilp0X94q9rJScuN8wZyXLha9oE7uDopIyaQjBBZvN5tQCWVlZWCwWEcLnNQcPQlraeXGqffv2JTw8nPDwcMLCwli+fLlc/3MMU9phdk+5lr/ui+avf8USN7EfNlPxOXcelrwMTGmH5YKeYY7MfYp9791BWW7z7+OsJQXs/+BuDnw0/ry4tsWlFg4l52Cz2autS0rNZ9zLP3HxXbMZfM9njHrsG0pMliZ/TunZxcTvT+NUbTT2ZmDccTjgTJ/G119/7dQC4eHhXHHFFWf9vA3SXTcykyfD11/DG2/AmDG1b7diBYwYAV5ekJUFvr7NulnS0tLQ6XRMnz4dTdPo37+/3CsnCzRrGd+vn8Ufu5fTNaY3j97wSpPqIfe9fxclx/fhE9MNv7a9KDqyHbupGL3XuXPv2koL2fZ4T+wWM92eW0xgt6Fy452JQVPGMXK2LSOgyyC8W3Vq0L5luakc/XIShQe3EH39RCKvGHdG63ro0wmUJO+peaVOR5fHv8QzJKrOMjyDIgjuPYKcrb9SdDgOv/Z9mvX1fej1X9h5IJ1/je7LI7f2dxFST7y7nMPJOXRqE0rXduEkHM6gxGTBx8vjf1pHs8XGe19uZPXmI1htdvpcEMUz9wyiZbh/tW2z80sZ+58FBAd48cM7Y9Dr67cROhzw+5aj/LzuAPH708gtKMXf18iA7q148JZ+dGgdcm4M4mx25v2yg5/XHSA5LR+HA1pHBnL9sM7cde2FbrVFQxg+fDgzZsygtLSUiRMnktYEjIEihBubffvg0CFITKznjWyrfJpOhe+/h7Vr4dFH4YILzomm0TSNBx98UO6RGtiTGMcnv7xOao76tJqRl9K0LEDJCZQc34dHQDg9p6xGM3iesyYPh73ciiXeOWdu4LtyNjjsRFz2zwZdm/Tfv+TY/JewlRYqUZx35l+SWZsWYreYa+6zdHrsZaVulRN52T3kbP2V1BWz6PjQjGZ9fe12R/klc32IDiZlczg5h5BAb76eOhoPw9n76PziR2tY/fdR7r2uFwaDjs9+3M5jb+Xzw7u3VNt28oy1FBabmfH8SLeF35SZ61i0ei8AgX5GQgO9yc4vZdVfR/gjPok5k6+jW/sWTV4EP/jaL2xNSMHHy4PeXVpSaraQcCiTD77eTPz+NN5/+io0rfGO2apVKx588EHy8vKYOHFik2gHEcJni6uvhoQECAw8NWvwokXw3XcwaNA5I4SFmt79dmYve4eV2xbh5x3AwK7D2bRndZOrpyn9KAC+bS88d0UwoPcJoM/7cdhNxQ22VAruC9qszT+i6fQE977SrV0seRns/2gcBXv/xCe6Cwa/EAr2bfyfVdkYGk3v97bUOHh3934P7DYEvdGHnLhlOKxl5/RzUh8znh9JSmZhNatncpryB7+gbdhZFcHp2cWs2nyEG4dfwITbLgLAXGZj7k/b2bE/jZ6dI53b/rByDxviEnns9gF0aRvm9jEOJmUzckgn7ruhF+3L22FLwgmeeGc5RSVlTPtyE3Neub5JX8c5i7ezNSGFTm1C+eSFawkJ9AZg54F07p/yM2u3HmPZHwe5ZkjHZt1liY/w2aRrV2jVStrhHCe/OIcpX01gxbZFDd43tyiblXGLGd7nej58ZAGDul7eNC1AZSYlJI0+5/z1Moa2EhF8Bik8tJWynBT8O/bH4BPo1j55CesoPrqD2Ntfpecb6/Fp3fV/W2lNQ+dhrPZriJjVDJ4EdB2CraSAvIT1zfoa+/sa6RwbVs16ai6zAuBt9Dir9Tt8PAe7w8EFVYRt1/bhACSl5TuXJaXmM+3LjfTuEsk91/dq0DFmvnQdrz96mVMEA/Tv1oq7ru0JwPb9aTX6UDcVbDY785fuBOClB4Y6RTDAhZ0iuLv8PBaWW72bM03fIrxlC7z7LjzyCAwcCDNmwMKFUFgIPXrAM89At24175udDR99BL//Drm5EBEBI0fCAw8o39wKXnxRuTO89hq0b+9axldfwc8/w8MPw9CT/An37oVXX4WLL4Z//7th51VQABMmQOvW8PrrrutWrYLp0+HIEfD3h8GD4bHHICoKfvkFfvxRtQvAnDnKRQLgppvgmmvkTVwHGXkpzF/zMT5GP+4dMRGPKi86i62Mub9Nw2wp5YFrn8PTYHRTCOey8+jfhASEc2XfmxpUn2D/MD586HtahsY0yfYyZSZy4qdpmNKURbjo6A4Oz3oMgLBLxhDYdYja0GEnc+NCcrb+gikjCU3T8IpoS+jFNxDa71pO/raWueFbcneupu2db2DOPk7ygqmU5WcQPuhmokZOqHnQEL+SzA3f4Bvbk1ajXJ83U/oRkhZMxTuyPa1HP1vnOSV9NwVzTgrt7nkbvbfyF7SVFnL4sycJ6DKQyOH3khO3jPQ1X1KWfQJjWDQRl93jtnWzalkRw+7i+I/vkhP3Gx7+obQf/wHGsNY4rGVkb/mF3PiVlKYexGEpwxjWmpCLrqXF4LHV2ivxm8nYy0pp+8+3KE7aTerSGRQn7cbgE0hI/2uJvPw+NH317rz42A5SfvsUU+pBNL0HxvA26AzlIkXT0Xr0s3gGV1rHrEU5pK6YRf6eP7AW5+EZGE5wryuJGH4vOg/3noe8Xb8DEHDBJe4/B72uoM/72/AICD+n+5fACy4hd/ty8nf9TnDPy5ttP/rrhgNsiEvi7lE96dounBMZhcxZHOcUmXuOZPLKJ+q9dM2QjvTv5r7Bx+GAVz9di6nMxgM39yU2Kshl/RdL4tlzJJNxN/ahU5vQGssoNSlB7umhdy7z8lT/ttocTiH43H9Xo9NpvP7ocHQN/P7vbaxZPrWLDlbGA7sDuwP0TfQa7jyYQX6RmdYRAXTvUN2F47KL2jJz4TZ2HUzHarNj0Ddfu2nTF8IJCcoftlMneOopJQB9fKCkBLZvVy4Cf/4JF17out/27WoyWmYmtGsHLVrAX3/BypXw+edKHAeVP2AHDyo3g65dlSiuyttvw65d6uk8WQjPmwfffguxsQ0/r5wctX+bNq5C+I034PnnlQDu1UuJ+bfeUqL4++/Vuc6ZU7n92rWVQrhly1MSwps2baK4uO7Z/4GBgc1igltoQATHs46QmH6IQN9gbh32gHPd4j++YGXcIgZ1uykclicAABreSURBVMJtEXzahii0JiuCAcpyUkj/fV6lxSczifS1X6kXS2R7AsstYHvfvY2C/ZtA0zCGtMJuMVF0NJ6szYsJ6XsNnf89F01faSXKT9hA1saFBHQZxLGvnndanHUexlqFsE+rzuTELSdr84/4tevlMtHt8KzHyd/7B+3ue6/ec8rcuABzVjIxN09yCmFrUS5ZGxdgNxVRfDSe9N/nKWugw05x0m5y4n6jw/3/pcXQO+otv7KsYvJ3rSV7y8+VL+jUQ3gGRxL/7GBKUw+Vi9MY7OaS8uMso2DvRjrc/1+XMrM2L8Zako9PTHeOzH0Kh92KzsOIvcxE/t4/KDqyvZpfavqaLzj82ZPoDB74tumOpSCLgv2bXbaJuPRupxAuPraTPW/djKUgC68WsXgEhFF4aBt5u9aSsf4bur2wxC0Lb/HReOf1cvtF5BvULF6o3tFd1IDxSHyzNihs3nmC3/48xKCerenaLpz07CKnvyxASmYhi9fsAyCmZWCDhLCmgYdBz+I1+8jILnJxL9iakML7X22mVQt/YiJrvxdbhPg661G1TgDREeqZn7Uojt2HMpjyyKVE1TCB7lTJyi0BICTQ2y33kJ0H0ik11x1Vw8/H0+lvnJ1fyqGk7HrL7RIbRqC/V63r9x3NAqBTbM2DibbRwWgalFlspGYV0ToiQITwWWfqVCVcf/oJRo2C9HQYPRo2boQXXoAlSyq3LSmBG29UIvjDD5U1FaC4GO68U1lU//Mf+PRTtfy665QQ/vVXVyGclqZEMKgoD1YrGKo02dKl6u/1jeQHlJsLL70EkZGwcyeEl1tH9u+H3bvVv197TdV93Dg1CPj0U7il3Pnf3/8UDpnLoEGD6t1Or9djMpkwGM5tt3K9Ts/9I5/jhbnj+XHjlwzpcRVRoW1IzU7ixz+/wNfLn3uvnIigCOg8kAGzjpG1eTGH5zxBSJ+r6fDQx6rzKBeRh2b/m4L9m/DvNICOD83Aq0Vsudhdz4GPxpOzbSknfv6Q6Bueqlb+sXnP4RkaTccHpuMZHFlnqC1jeAytR/+HxG8mc2Tu0/R68w80gycZG74hf+8f+HfsT+Rl95zeIxi/EoA2t75Ey6sfAoeDY/NfIm3lbI7Nf5nwwbe4CPq6LaNrsFvMRN/wJJGX34cp/Sg+rbtit5jRPIy0H/8BYQNHO6Nu5O1ay963x5Cx7muib3jS2Y6VluYiDs95nLCBo2l71+sY/ELI2riAg588QuYf3xF19YP4xqrPmWW5qRydNwmDtz89Xl2Jd8sOSgwsm8Gxr56nxdA7aD/+AzSdslfZy0rZ9/5dWAqyaHv3VFqOUANEm7mEgx8/QM7WX0n8ZjLtx71f73kXHVOfW70bIITPNtbiPI58/jT2MhN6ow9eEbEE97oSr8j2DSrHp1wIFyfuVMaTxpxl1ITpc0FL/vj8PpZvPMSUmesZ1i+WKY9cCoCvT8N9pR+7fQBrthxl295Ulqzdz3XDOmOx2nl9tnI5eW78P/Ay1v4u6toujMgwP35cs4+h/WLx8tTz3fIEIsP86N2lJbsPZTBrURyXD2jHqKGNe5+u+Vt9PRvQI7rebQuKzdz9wuJ6t9PpNLZ8/S/0eh1zFsUxf9muevd54Oa+PHRL7car1Cw1MAj0q1ksGz30BPp5kVdoIiu3RIRwkyAwENavV1ZbUGLxgw/goouUdbdqpzNvnoracNNNlSIY1KS0Tz5RAnbePPi//wOjUVlRPTyUtTkzs1KArlpVKTDz85U1tsIqnJoKO3aoegwY0DjneOSIiibRoUNlHQA6d1Y/pUjVgMCj/GXs41Np2T4FgoKCmD59OiUlJfVud66L4Ao6terOFX1uZMW2hcxa+hYv3/Uxs5a9hcVWxn1XPUmQX6go4KqDB58AdJ7Kf0wzGFysgiXH95H9109oBk86//tzPIMiKh/Zbv8g9o4pHJzxEKnLZxF9/UTQXC0kOg8vuj27EGN4jFPs1kXU1Q+T+ecPlCQlcOLnD4m8YjyJ819G03vQfvwHpy08HA47nR6eSdig0c5lsXdMIWvTQqxFORQn7savXW+3yrJbzLS86iFixjwPgGdwS+e6XlM3VH/Gegwj4ILB5Jf7y54shHHYiRx+r4vVO3zwrWRtWkRu/EryEzY4hXD+7nXYy0y0GHqnUwQDRF31IMkL3iBr4wLVXuVkbvgOc1Yyof1HOUUwKJ/w9vdNU24pf3xH27vfrNtFwuHAkpcOcM64OWh6D2ylhaStnOOy/OhXLxBx2T9pd887zgFDfVScs81UjM1U5PzicD7g5+PpFKcGvQ5/X+NplfXMPZfwzPsrmTZvE0P7xfLd8t0cPZHH1Zd04JJeresx3Oh49eFLeXraCm77zwIAQgO9mfbUCKxW5RIRHODFi/f/Qz2rDgelJiu+3qfn27zzQDpbEk6g0zT+Oapnvdv7+xh5btwQSst9q2vfztPpjz1qWGciwvzqLXtI77r70uJSZYWu65y9vTzIKzRhMlua9b177iibUaMqRXAF/fopQVhUpHyGA8pHLBXJGq67rno5ERHKHeHgQWVpvfBCJST/8Q9YvRp++w3uustVCD/zjLIUL11aKYQrrMGjRjXeqL9jRyXMN21Sgv3++0F3Zv1yNE3j4YcfPu/E3R3DH2HL/nXsPraVaQsnsevoFrq07sXwPjfUu++C9bNZGVc5irfZVSi8TXtWs/PI35UvRYORaQ9+8z9zszgb5MavACCk9wgXEVxB6IAbODznCSwFmSoG8UmToKJvfKpe8esqWgy0H/c+uyZfxfGfplF4OA5LQRbR10/EJ/r0o6cYQ6NdRLAS60Z821xIfsK6BoXzMviF0GbsSw07fpiyIllLC2tcf7JvNIB/x/7kxq+kLDe1imZW96ThZCGmaWgGIzZTsYpsUD7Ayd25BoDgvldVF3eB4RjDWmNKO4wp9RA+Md1qt6yWFjiPfa6IwF5v/oHDbsPgqwZ4poxEsjYvJvW3T0hf/TkGn0DajH3ZrbIqJtg5rGVYi/POKyHc2Fw5sD1L1u7nj+1JvDh9DX/tPE6Ar5Gn7nHP9/yi7q1YOv1O9h7JRNOgW/sWeBkNvDZrPUmp+Xz8/EgC/LyYtXAbc3+Kp8RkISzIh0fGXsSNl3VpcH1NZiuTy/2ib7+mh1sRKDQNbhnRrUHHuaBtmMskwFPFXh5Gsi7f6Aq/4OYeafLc9n7WNGURBSirksrxqPo0wX/+o/x3T/5VxPjNr5w96nRv+PXXymWrVinxPX68OlaF+K0qhG+4ofHOJyBATZIDeOghZQV++23Iy5NesZHxMfpxz4iJTgFr0HvwwMhJaNQ/qDEYPPHy9HH+jB7q05JOp3dZ7u3p7VZ55zKmtCMAeEW2q1UYeAarZATmnJQaxGJwg4/p36EfkcPvwW4xk7t9OV4R7Yi+8ekzep4V7gsOq6VB+9RlPS1JSiB50dsc+uQR9rw5ml2vXO0cWDQkvnhF3exV6uYbq+ZM5MT9hsNWuTxv5xqsRTl4R3V0WvkBzJmqT0z8ZjLb/t2z2q8idbC1tO50yXZz5ZclnafXOXEPG8Nj8Ipoi8EvBINfCH7tehN7+6vE3v4qAGkrZtUaZ7jG61Herudi1sWmxnPjh+BlNLB+WyJmi40n7hpIaJXoBvXh6+1Bv25R9O0ahZfRwIa4RBas3MPYq7ozqGdrfliZwPTvtnDt0E68M/FKosL9eeWTtewt9591F4cDXvr4d44cz+XCjhE8dvuApn/feyo7aJnVVus2TSUKyJmmecYRNpnKh/q9IDq6dtHZq5erEH7sMeULbLMpa/GJE3Dzzcr9oVcvNQEvOVlNSlu1Cvz8YPjwxq37uHHqWFOnKn/o//wH3nlH+TBfdlmjN5XD4eC1116rd7JcSEgIzzzzTLO6TVoEVX6q1uv0GN18cd8w6G5uGHS38/9JGYd58tPbGNBlGI9c9zLnE3ZL/WHVnILIbmtU8eK8dkYftz9dNxWOfvksqctngqbhG9Mdz+BIPPxDKctpnEQqvm164Ne+D0WH44ifNITgnpdjLcwla/Mi0DRibnmhxuvo26YHxlqyqOm9/fFt06NuEWisjIluNxWj9zl3/QpD+l7D0XnPYTOXYMo45vbkP5u5uLy9/BBOj0A/I34+npjMSpD5+Zx6bObcglImz1hL21ZBPHHnxQD8sCKBqHB/nhunot+0aRnILU//wM9r9zfI6vruF3+yYtNhoiMCmPb0CJdoFfUJ6FmLtjmjXNTVDhXh3eL3p7Fua2K9ZV85qH2d5xBUPpEut8BUc9/ucJBboJLJhAf7NOv7rHkK4eByK9Ndd8Edd7i3T0yMEqDx8WoCXlycWl6RB3vkSCWEly5VltqCAjVZz3gGPnv37QsLFsDx40oIz5+vJsQlJ4O3d6MeKjc3l5deqv/zrU6nY+LEic3GT9hmtzLjZxWto0vrnuxL3sHsZW8zaez7CA3oQMpn+9c1ya1C3FUN03Va49zMRJIXvoXBLxiPwHAVTuy3T2qNNtHUyN7yM6nLZ2IMbUXXZxfhHVUZrP7wrMecUTlOh7xdayk6HEdQz+GYM46RsmwGoOHfoS9txr5MQJdBNV7H8MG3En7JmFM+rt7bX/mBO+xYSwvPaSFs8K+cK6Dp3Ov37GWlOGxK1LgbQ1monfe/2kxWbgm9u0SyfV8ab8/9k0E9o/H1brggfvXT9eQXmfnvpGswehpwOCAxNZ+LuldGtOjQOgSdpnEio8Dtcmd8v4Wvl+4iLNiHT164lrAg90VjQbGZj7/bUv/7V9Oc6Y6XbzzEN8t217uPp4euTiEcXT757VhKzV+ck9MKsFjteBkNtAxr3oO65imEe/ZUfrZ//+2+EAZlFY6PV+4Ru3cr/+MKn+BrrlERG5YuhcOH1bLGdIuo8U6Nhq+/VqJ83z5Vp4oQZhWCtKpLyKlYPUJC2LdvH6WldacR9fPzazYiGOCnjfNIyjjE4O4jGHfV0zz28c3EHfyTzXtXc/EFwxHcwyemuxJeO9fUOEu+8OAWp69kYyVJODLnCRVT96438I7qyO4p15K88E1CB1yPMax1k2+z/AQ1Ua7F0DtcRHBjkvnn9wDE3vEaPq0647CWgaarMdYwgG9MdwoPbqHocNxpCWE0TUX/yEmhLCcFY+i5mzCo8KDy99cbfZy+2/VRMejTe/mh9xKL8OmwfV8aC1ftIToigE9euJZH31zG37tP8H/z/2bSuMENKmvxmn38vuUoE267iK7t1IRGh8NRLT6upmloOg2dm3Nz5v2yk08XbCPI34uZL45yikt3CfQz8uMHY50uCLX2s14ezslyj9x6ETdcWr8Pc+vIugdivbuoL6IHErPJyi0h7CSr79otysW0X9cot9NOn6s0z7O7/Xb1d/ZsJWxPxmaDpKSahTCoUGzr1qlEGX7lndmAARAaqibULVmihOjIkY1b74SESv/lCiwWqBCpVcOjRZRPTNq9+7QP27lzZ3r16lXnr0OHDs3m9kjNTmLBhjl4e/pw9xX/xs87gDsvU9bEz5ZPo9Qsvn3uEtpvJDpPb5V445f/c7WOWcwkfvtKuei70+2wY3UKvA3fkrdrLX7tehNx6V0EdBlE+OBbsJlLOPL50+dEm1W0Q9XJbaDi+OZsW9Y4Fo7ySVpH5j5F6opZZG1eTO7238hPWO/0961K2CU3A5D++5cUJ1YPzeSw2zBnH3fr2BXuEyXH953RdszbtZa979xK2qrPTr2MHaux5GXUKGiPfPZkeduMcTuZSMU5+8R0O29Cp50Jyiw2Xv10LQ4HPHPPJRg9DUwaNwSDXscPKxLYfSjD7bKOpxfwzud/0qtzJPddXxnxRafTaBHs62IRPZFRgM1mJyayfkG7eM0+3vtyI/6+Rj598VpnIo2GEhsVROfYsDp/VUWtn49nvdt3jg3Dx6vu/rZVC396dY7Ebnfw4fy/XKYlpGYW8tlPSjuNvap7s7/fmqdFeMgQuPdemDtXidl//lNlnzOZVLSIZcugbVvYcFIIo969lYvE3vLA4BVuEeqpUQk65s9X/sOXXlrpglET77+vstKdzJNPVkalOJmFC1VCjdGjVVg4UEk0EhOVZbpLlVHgsGEwbZrKnFdUpMR99+7wxBPSi9aBAwef/PoGFmsZt1/xMMF+6tPRpb1HsTr+Jw4c38X8NR8z7mr3RVWwXyiDul1Bj9iGJxxxOOz896fJmMrUYCe3MFN13llHeft7VQcvT28evX4ymtb0xq0Gv2Bi75jCkblPkfjtK+Tv2YB/h/7YTEXkbPkFU2YiPjHdiBkz6bSPZSnI4uhXL4Cmo9297zpDscXePoWcuN/I3b6C7L+XEHrRdU36HgwbeBNpK2aSsW4+Ok8ffGN7UJKUQNqqzxotykD0Tc+Qn7Cegr1/UrD3z2rr/Tv0o8ODHztDqwV0HkiLoXeQse5rdr18JeFDxuIT3QW7xYwp7TC58avwatGG7i8trffYfm17kbt9OSXJe9yuryn9KMfmv+ScJFiSlABA9l8/UpKs+mO/dr2JvuFJ5z658SvJjV+JzVRM5OX3nVI7qcgj2wjoMhCfqE7OQV1u3G/YLWZ8oru4HTFCCeHyusZeKJ3taTB7URxHT+QxtG8b/tG3DQBtWwVx96iefPbjdl79dB3fvDm6Xkul3e7g+Y/WoGnw2oTL0OlcBycjLunAF0vimbN4O/27RfH5kng0Da6vx+JaXGrhjfKYxkZPPa/Nqjml9oDu0Uy47aIm285P3zOIe1/6iZ/X7ScxJY+LurciO7+EVX8dpbDYzMghnRjcO6bZ329NXwh7err+rWm9Tuea6AKUNbhLF3jvPZg5s3K5Xg99+sDEWpImjBmj9tHp4OqrXdfdeKMSwlCZxOJkOnVSf1NS1O9kTpxQfyviAFc9r9tuUzGRv/228jgeHiqM2ptvupYzahQ8+qgSwrNmqWUffCA9aD1s3rOGPYlxtInowNUX3VpppUPjX9c8y6Q597B820KuGTCWliHufWb39wniiZteP6X6WO1W/tr7O2VW11npRaUFbNm/Tt0CBk8eGvUCHnrPs9ZuWnkqaq2GUHCRl9+HwS+YpO9fJ2/nGuUmgYpmEHnFONrc8mK1z8RaeZpfncH9c0pe9BbWohwirxjnEsvXIzCcNre+xJG5T3HsqxcI7V93SEPN4FkeRsyjWn20WupTud7Djbaquyz/Dn3p8ODHHPv6BVKXq6Q+Ok9vWl71IL5tenDgo/GVaZDrqLNzXfl9UXWfwv2bKU09hF/7PrS98w0cNgv2MhOWwiwy//hOWVPfvY3e72x2TjTs8K8P8Y7qSMqv00lf80Vl+To9vrEXEnWNe2EWgy68jORFb5GfsN59C2BuKjlbf622vDT1MKWpyhXNVlroIoRxqMmXp+Ne0mrUvzn+4zvkJ2wgf/e6KgO8EFqOeIDoG592RuVwhwq3l6ALL2vW/WhFxrSTM6d5GPTlr61Tn7yakVPM3J+242008My9ri4Q94/uy/KNhziQmM3P6w/U6yIw96d4duxP45WHhtXotnD/6D4kpebz32/+ApQLwusThrtl3dXrdVisdrJyS5zZ5KoZSQK8m/R17Na+BZ++OIqpczaw82A6Ow+qGOCB/l48dEt//nVTn/NCF2gOh6Pph4jLzVVRHvQ1PFylpcoa6udXm8lN+fRmZ6tt2rSpfduqx/PyqnliWmGhKjOgESaBFBYqoet1UrSCvDyVXMPLS6WH9qojmkFRERw7BiEhEBXVdK1gYWHk5eVhtVrPaj0cOCgxFeFt9EVXg4W1zGrGZrPibfRFOEm0F+eh9/Kr1c8UwJx9HEteBjqjD96R7WoVgw6bFZupqEGpdR02CzZzSa2TkGylhWh6j3rDdtktZhw2SzVxbjMVqf1r+Axe37Gr1aWOsqq2gTkrCVtpIV4tOzojb1hL8jF4B7iI+drqXNHHWUvy0Xv7K1HrsLN1QjcsRbn0+3AnHkEtXDe329j6cBcshdn0mbYVr4h21cozZRzFUpiL3ssXY1jrBolBHA62PtqdstxU+n2U4JJIpNGeY5uFuIn9KMtNo+cba087hrSttBBzZhK2MhMe/iEqmUkDXRts5hL+vr8dOoMn/T856LY7xbmIzWan2GQhoIakGQXFZnyr+LSeCsWlZRgMeow1COqKY/v7GOu9ROu2JVJisnD1JXW79mXlllBYYiaqRUCNxzwfSM8uJiuvGF9vT6IjAlx8p88EeXl5BAcH07lzZ/bt23dWz/3ccI2oywWhvigKmqYytTXEx7Wu4/k3YoD02soKClJWa3fw81MuEYJ7Iz80fL1qv4aeBiM04wQYp9VZuCFajaHRGEPrn1ik6Q0NEsFqH486hai7bgU6DyPUIFLqmtxU37EbUlbVNqgmQqk52kBtda7o46q2paUwh7K8dPQ+AXgEhtUo+mymIjSd3iUyQtXyvCLa4RVxqg+ZRtjAG0lZ+jHZW36h5ZX/avR7MfOP7zFnJdP6pmcaJZGK3tu/zkQhbtlrtq/AYS0jZOBNzVoEg7KGBtSSOS7A9/TPva6oEHUd+2SGlrtV1GuoCfapNlnsfCMi1JeI0PPTAKRDEP5H2O12JkyYwKOPPsrhisgbgiA0Kh7+IRhDo7GVFHDgo39RsH+zM4pD7vbl7HlzNHaLmfDBt56xEF8tRzyApjeQ0Qih4KrhsHPi5w/wienm6ipxlkn/XbmTuOtCIgjnI/Hx8UyYMKFJ5SUwyGUR/hcMGDCAbdu2sWDBAjRNY+zYsbRv314aRhAaG01Hl4nzOPDxA2RtXkzW5sWuqw2eRF4xntg7ppyxKhjDWhM64AayNi6g+NhOZ6a7xsBSkE1I/1FEDL2jUSKRNAbmrGTyE9YT1ONSfGPkC50g1EZSUhILFiwAICIign79+p39LvOc8BEWBEEQGobDQdGxHZQc34utOA9N74lnaCsCOg04pdTWDcVmLqH0xH58oi84Z9Itn3JTW8soTkrAO7L9OZ1ERBDOS9uBCGFBEARBEAThfER8hAVBEARBEAQRwoIgCIIgCIIgQlgQBEEQBEEQRAgLgiAIgiAIgghhQRAEQRAEQRAhLAiCIAiCIAgihAVBEARBEARBhLAgCIIgCIIgiBAWBEEQBEEQBBHCgiAIgiAIgiBCWBAEQRAEQRBECAuCIAiCIAiCCGFBEARBEARBECEsCIIgCIIgCI3J/wNkzJynGRFJJAAAAABJRU5ErkJggg==)"
      ],
      "metadata": {
        "id": "LlUPb1c6HQ3G"
      }
    },
    {
      "cell_type": "code",
      "source": [
        "# List comprehension\n",
        "\n",
        "myNumberList = [myNum for myNum in range(1,6)]\n",
        "\n",
        "print(myNumberList)\n",
        "\n"
      ],
      "metadata": {
        "id": "wQNLUBEG5cvm"
      },
      "execution_count": null,
      "outputs": []
    },
    {
      "cell_type": "code",
      "source": [
        "# A regular for loop, which is analogous to the list comprehension\n",
        "\n",
        "myNumberList = []\n",
        "\n",
        "for myNum in range(1,6):\n",
        "  myNumberList.append(myNum)\n",
        "\n",
        "print(myNumberList)"
      ],
      "metadata": {
        "id": "5d47je9s99nX"
      },
      "execution_count": null,
      "outputs": []
    },
    {
      "cell_type": "code",
      "source": [
        "# A list comprehension example\n",
        "\n",
        "myNumberList = [ myNum + 10  for myNum in range(0,10) if myNum % 2 == 0]\n",
        "\n",
        "print(myNumberList)"
      ],
      "metadata": {
        "id": "bX94tpu92FXK"
      },
      "execution_count": null,
      "outputs": []
    },
    {
      "cell_type": "code",
      "source": [
        "# A regular for loop, which is analogous to the list comprehension\n",
        "\n",
        "myNumberList = []\n",
        "\n",
        "for myNum in range(0,10):\n",
        "\n",
        "    if myNum % 2 == 0:\n",
        "      myNumberList.append(myNum + 10)\n",
        "\n",
        "print(myNumberList)"
      ],
      "metadata": {
        "id": "bBKoIhVj3bkp"
      },
      "execution_count": null,
      "outputs": []
    },
    {
      "cell_type": "markdown",
      "source": [
        "List comprehension with nested for loops\n",
        "---\n",
        "List comprehension is a concise tool used to create lists. Here are a few comparisons you can use list comprehensions to create some lists.\n",
        "\n",
        "---\n"
      ],
      "metadata": {
        "id": "Bfw4e0wL5d3u"
      }
    },
    {
      "cell_type": "code",
      "source": [
        "# List comprehension with nested for loops\n",
        "\n",
        "myNumberList = [ n for m in range(0,3) for n in range(0,3)]\n",
        "\n",
        "print(myNumberList)"
      ],
      "metadata": {
        "id": "yijfN7KT5jZP",
        "colab": {
          "base_uri": "https://localhost:8080/"
        },
        "outputId": "310bfac7-2831-4002-fc52-90f5420ec97a"
      },
      "execution_count": null,
      "outputs": [
        {
          "output_type": "stream",
          "name": "stdout",
          "text": [
            "[0, 1, 2, 0, 1, 2, 0, 1, 2]\n"
          ]
        }
      ]
    },
    {
      "cell_type": "code",
      "source": [
        "# Regular for loop, which is analogous to the list comprehension\n",
        "\n",
        "myNumberList = []\n",
        "\n",
        "for m in range(0,3):\n",
        "  for n in range(0,3):\n",
        "    myNumberList.append(n)\n",
        "\n",
        "print(myNumberList)"
      ],
      "metadata": {
        "id": "1LUCYYuj6hVr",
        "colab": {
          "base_uri": "https://localhost:8080/"
        },
        "outputId": "9326485c-e1bc-428a-d2e1-4367491b22f2"
      },
      "execution_count": null,
      "outputs": [
        {
          "output_type": "stream",
          "name": "stdout",
          "text": [
            "[0, 1, 2, 0, 1, 2, 0, 1, 2]\n"
          ]
        }
      ]
    },
    {
      "cell_type": "code",
      "source": [
        "# List comprehension with nested for loops: m x n matrix\n",
        "\n",
        "myMatrixList = [ [m for m in range(0,3)] for n in range(0,3)]\n",
        "\n",
        "print(myMatrixList)"
      ],
      "metadata": {
        "id": "9jwYIf9_-e27"
      },
      "execution_count": null,
      "outputs": []
    },
    {
      "cell_type": "code",
      "source": [
        "# Regular for loop, which is analogous to the list comprehension: m x n matrix\n",
        "\n",
        "myMatrixList = []\n",
        "\n",
        "for m in range(0,3):\n",
        "  myTempList = []\n",
        "  for n in range(0,3):\n",
        "    myTempList.append(n)\n",
        "  myMatrixList.append(myTempList)\n",
        "\n",
        "print(myMatrixList)"
      ],
      "metadata": {
        "id": "F5viOg6N-pQm"
      },
      "execution_count": null,
      "outputs": []
    },
    {
      "cell_type": "markdown",
      "source": [
        "For loops using dictionary comprehension\n",
        "---\n",
        "Dictionary comprehension is a fast way of creating dictionaries in consice and readable way. It can also be used as a data filter. It is easier to read and understand. The syntax of the dictionary comprehension is similar to that of list comprehension.\n",
        "\n",
        "---"
      ],
      "metadata": {
        "id": "j3VxRKs5awzq"
      }
    },
    {
      "cell_type": "markdown",
      "source": [
        "![Presentation_dictionary.png](data:image/png;base64,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)"
      ],
      "metadata": {
        "id": "Imc6l0ZmH1LV"
      }
    },
    {
      "cell_type": "code",
      "source": [
        "# Dictionary comprehension\n",
        "\n",
        "newDictionary = { myNum: myNum + 10    for myNum in range(1,15)   if myNum * myNum % 2 == 0 }\n",
        "\n",
        "print(newDictionary)"
      ],
      "metadata": {
        "id": "r3k9LAGGH_jK"
      },
      "execution_count": null,
      "outputs": []
    },
    {
      "cell_type": "code",
      "source": [
        "# Regular for loop, which is analogous to the list comprehension\n",
        "\n",
        "newDictionary = {}\n",
        "\n",
        "for myNum in range(1,15):\n",
        "  if ( myNum * myNum % 2 == 0 ):\n",
        "    newDictionary[myNum] = myNum + 10\n",
        "\n",
        "print(newDictionary)"
      ],
      "metadata": {
        "id": "Emsk_YrB4ROm"
      },
      "execution_count": null,
      "outputs": []
    },
    {
      "cell_type": "markdown",
      "source": [
        "For loops using set comprehension\n",
        "---\n",
        "Set comprehension is a fast way of creating sets. It is easier to read and understand. It can also be used as a data filter.\n",
        "\n",
        "---"
      ],
      "metadata": {
        "id": "dqXz25ogyCAE"
      }
    },
    {
      "cell_type": "code",
      "source": [
        "# A set can be created with the set comprehension in Python\n",
        "\n",
        "mySetList = { myNum + 2 for myNum in range(1,6)}\n",
        "print(mySetList)\n"
      ],
      "metadata": {
        "id": "GsMgdrR5_hWc"
      },
      "execution_count": null,
      "outputs": []
    },
    {
      "cell_type": "code",
      "source": [
        "# Regular for loop, which is analogous to the list comprehension\n",
        "\n",
        "newSet = set()\n",
        "\n",
        "for myNum in range(1,6):\n",
        "    newSet.add(myNum + 2)\n",
        "\n",
        "print(newSet, sep=\",\", end=\"\")"
      ],
      "metadata": {
        "id": "1LSPOsTVyTWV"
      },
      "execution_count": null,
      "outputs": []
    },
    {
      "cell_type": "markdown",
      "source": [
        "For loops using tuple comprehension\n",
        "---\n",
        "There is no tuple comprehension in python.\n",
        "\n",
        "---"
      ],
      "metadata": {
        "id": "qnrs51E5yNgv"
      }
    },
    {
      "cell_type": "code",
      "source": [
        "# There is no tuple comprehension in Python\n",
        "\n",
        "myTupleList = ( myNum for myNum in range(1,6))\n",
        "print(myTupleList)"
      ],
      "metadata": {
        "id": "z5xunMl2-7Gi"
      },
      "execution_count": null,
      "outputs": []
    },
    {
      "cell_type": "code",
      "source": [
        "# Mimmiking the tuple comprehension\n",
        "\n",
        "myTupleList = tuple( myNum + 2 for myNum in range(1,6))\n",
        "print(myTupleList)"
      ],
      "metadata": {
        "id": "CsJmTL5vyhVP"
      },
      "execution_count": null,
      "outputs": []
    },
    {
      "cell_type": "markdown",
      "source": [
        "For loop using the built-in functions\n",
        "---\n",
        "You can employ built-in functions with for loops to perform various operations on data sequence.\n",
        "\n",
        "---"
      ],
      "metadata": {
        "id": "2O1nmFpeVb2b"
      }
    },
    {
      "cell_type": "code",
      "source": [
        "# For loop is built with the len() and range() functions\n",
        "\n",
        "myNumberList = [ 1, 2, 3, 4, 5 ]\n",
        "\n",
        "for number in range(len(myNumberList)): print(myNumberList[number], end = \" \")\n"
      ],
      "metadata": {
        "id": "Es17aMgPGDJy"
      },
      "execution_count": null,
      "outputs": []
    },
    {
      "cell_type": "markdown",
      "source": [
        "4.3 While loops\n",
        "---\n",
        "While loop executes a block of code as long as condition is True.\n",
        "\n",
        "---\n",
        "\n",
        "Syntax:\n",
        "\n",
        "        while condition: block of code\n"
      ],
      "metadata": {
        "id": "ilRCeQflNdkk"
      }
    },
    {
      "cell_type": "code",
      "source": [
        "# While loop with pass statement\n",
        "\n",
        "while False: pass"
      ],
      "metadata": {
        "id": "7kFqQrczNNSP"
      },
      "execution_count": null,
      "outputs": []
    },
    {
      "cell_type": "code",
      "source": [
        "# While loop with pass statement\n",
        "\n",
        "while 0: pass"
      ],
      "metadata": {
        "id": "sI8LG-cUC2j1"
      },
      "execution_count": null,
      "outputs": []
    },
    {
      "cell_type": "code",
      "source": [
        "# Infinite while loop with pass statement\n",
        "\n",
        "while 1: pass"
      ],
      "metadata": {
        "id": "L6xdEwGlDO9s"
      },
      "execution_count": null,
      "outputs": []
    },
    {
      "cell_type": "code",
      "source": [
        "# Infinite while loop with print statement\n",
        "\n",
        "while True: print(\"Infinite loop\")"
      ],
      "metadata": {
        "id": "UvRL80ioNWvK"
      },
      "execution_count": null,
      "outputs": []
    },
    {
      "cell_type": "code",
      "source": [
        "# While loop statement with comparison operator: <\n",
        "\n",
        "myFirstVariable = 5\n",
        "i = 0\n",
        "\n",
        "while i < myFirstVariable:\n",
        "  print(i, end=\" \")\n",
        "  i += 1"
      ],
      "metadata": {
        "id": "iONeLn_OmUML"
      },
      "execution_count": null,
      "outputs": []
    },
    {
      "cell_type": "code",
      "source": [
        "# While loop statement with comparison operator: <=\n",
        "\n",
        "myFirstVariable = 5\n",
        "i = 0\n",
        "\n",
        "while i <= myFirstVariable:\n",
        "  print(i, end=\" \")\n",
        "  i += 1"
      ],
      "metadata": {
        "id": "O6w9WQ6Km_Jv"
      },
      "execution_count": null,
      "outputs": []
    },
    {
      "cell_type": "markdown",
      "source": [
        "While loop with the break, continue, and pass statements\n",
        "---\n",
        "Break statement breaks out of the loops immediately going to the next statement. Continue statement returns execution to the beginning of the while loop. Pass statement does not do anything.\n",
        "\n",
        "---\n"
      ],
      "metadata": {
        "id": "bM6lXGQ0nu98"
      }
    },
    {
      "cell_type": "code",
      "source": [
        "# While loop statement if comparison operator ( < ) and break statement\n",
        "\n",
        "myFirstVariable = 5\n",
        "i = 0\n",
        "\n",
        "while i < 5:\n",
        "  print(i)\n",
        "  if i == 3:\n",
        "    break     # stops the loop even with the while condition is being true\n",
        "  i += 1"
      ],
      "metadata": {
        "id": "KegP_whenyWD"
      },
      "execution_count": null,
      "outputs": []
    },
    {
      "cell_type": "code",
      "source": [
        "# While loop statement if comparison operator ( < ) and continue statement\n",
        "\n",
        "myFirstVariable = 5\n",
        "i = 0\n",
        "\n",
        "while i < 5:\n",
        "  i += 1\n",
        "  if i == 3:\n",
        "    continue\n",
        "  print(i)"
      ],
      "metadata": {
        "id": "GL4LSwifoWp_"
      },
      "execution_count": null,
      "outputs": []
    },
    {
      "cell_type": "code",
      "source": [
        "# While loop statement if comparison operator ( < ) and break statement\n",
        "\n",
        "myFirstVariable = 5\n",
        "i = 0\n",
        "\n",
        "while i < 5:\n",
        "  i += 1\n",
        "  if i == 3:\n",
        "    pass\n",
        "  print(i)\n"
      ],
      "metadata": {
        "id": "fgVKF9tzbIzk"
      },
      "execution_count": null,
      "outputs": []
    },
    {
      "cell_type": "markdown",
      "source": [
        "While loop with else statement\n",
        "---"
      ],
      "metadata": {
        "id": "hNPV-M38GlOd"
      }
    },
    {
      "cell_type": "code",
      "source": [
        "# While loop statement with else statement\n",
        "\n",
        "myFirstVariable = 5\n",
        "i = 0\n",
        "\n",
        "while i < 5:\n",
        "  print(i)\n",
        "  i += 1\n",
        "else:\n",
        "  print(\"i is not less than 5 anymore\")\n"
      ],
      "metadata": {
        "id": "6kiTek88oo5y"
      },
      "execution_count": null,
      "outputs": []
    },
    {
      "cell_type": "markdown",
      "source": [
        "Nested While loops\n",
        "---"
      ],
      "metadata": {
        "id": "xqgy6AXdcd0G"
      }
    },
    {
      "cell_type": "code",
      "source": [
        "# Nested while loops\n",
        "\n",
        "myFirstVariable = 5\n",
        "i, j = 0, 0\n",
        "\n",
        "while i < 5:\n",
        "  print(i)\n",
        "  i += 1\n",
        "  while j < 5:\n",
        "    print(j)\n",
        "    j += 1"
      ],
      "metadata": {
        "id": "tYrfkC9kbr8b"
      },
      "execution_count": null,
      "outputs": []
    },
    {
      "cell_type": "markdown",
      "source": [
        "Nested While loop with break statement\n",
        "---"
      ],
      "metadata": {
        "id": "ARPMvX49hBxh"
      }
    },
    {
      "cell_type": "code",
      "source": [
        "# Nested while loops with brake statements\n",
        "\n",
        "myFirstVariable = 5\n",
        "i, j = 0, 0\n",
        "\n",
        "while i < 5:\n",
        "  print(i, j)\n",
        "  i += 1\n",
        "  while j < 5:\n",
        "    j += 1\n",
        "    if j == 2:\n",
        "      break\n",
        "    print(i,j)\n",
        "else:\n",
        "  print(\"i is no longer less than 5\")"
      ],
      "metadata": {
        "id": "r27amWr4dpuv"
      },
      "execution_count": null,
      "outputs": []
    },
    {
      "cell_type": "markdown",
      "source": [
        "Nested While loop with continue statement\n",
        "---"
      ],
      "metadata": {
        "id": "dsOaEY-ThLje"
      }
    },
    {
      "cell_type": "code",
      "source": [
        "# Nested while loops with continue statement\n",
        "\n",
        "i, j = 0, 0\n",
        "\n",
        "while i < 3:\n",
        "  print(i, j)\n",
        "  i += 1\n",
        "  while j < 3:\n",
        "    j += 1\n",
        "    if j == 2:\n",
        "      continue\n",
        "    print(i,j)\n",
        "else:\n",
        "  print(\"i is no longer less than 5\")"
      ],
      "metadata": {
        "id": "Lcv8kMSnghdK"
      },
      "execution_count": null,
      "outputs": []
    },
    {
      "cell_type": "markdown",
      "source": [
        "Nested While loop with pass statement\n",
        "---"
      ],
      "metadata": {
        "id": "1Y3eBDVzhWVS"
      }
    },
    {
      "cell_type": "code",
      "source": [
        "# Nested while loops with else statements\n",
        "\n",
        "myFirstVariable = 5\n",
        "i, j = 0, 0\n",
        "\n",
        "while i < 5:\n",
        "  print(i,j)\n",
        "  i += 1\n",
        "  while j < 5:\n",
        "    print(i,j)\n",
        "    j += 1\n",
        "  else:\n",
        "    pass\n",
        "else:\n",
        "  print(\"i is no longer less than 5\")"
      ],
      "metadata": {
        "id": "VxUh7T69dTfa"
      },
      "execution_count": null,
      "outputs": []
    },
    {
      "cell_type": "markdown",
      "source": [
        "# Section 5: Functions\n",
        "\n",
        "5.1 User defined functions\n",
        "\n",
        "5.2 Global and local variables\n",
        "\n",
        "5.3 Parameters vs arguments\n",
        "\n",
        "5.4 Recursive functions\n",
        "\n",
        "5.5 Lambda functions\n",
        "\n",
        "5.6 Function annotations"
      ],
      "metadata": {
        "id": "7fTzpI_2ctcu"
      }
    },
    {
      "cell_type": "markdown",
      "source": [
        "5.1 User-defined functions\n",
        "---\n",
        "Function is a block of orginized code to perform a specific action. Python language provides many built-in functions like print(), len(), range(), and ... However, you can create your own functions that are usually called user-define functions. Functions help to improve readability and usageability of your code.\n",
        "Python reads the program from top to bottom and you need to define a function before yuo can use it. There are a few rules to define a function.\n",
        "\n",
        "1. A function declared using the def keyword following by a function name and parenthesis, and ending with a column.\n",
        "2. Parameters can be placed inside of the parenthesis.\n",
        "3. The code block or multiple statements should be indented.\n",
        "4. The return statement will exit the function and pass a result to the caller.value\n",
        "\n",
        "---\n",
        "\n",
        "Syntax:\n",
        "\n",
        "        def functionName(parameters): block of code / return value\n"
      ],
      "metadata": {
        "id": "Wg0zS8uzfmxy"
      }
    },
    {
      "cell_type": "markdown",
      "source": [
        "Basics of user-defined functions\n",
        "---\n",
        "User-defined functions are created by a user to perform some specific tasks. You can organize your **code** in a clear and constractive manner.\n",
        "\n",
        "---"
      ],
      "metadata": {
        "id": "g4htAKhYwVNp"
      }
    },
    {
      "cell_type": "code",
      "source": [
        "# Defining an empty function\n",
        "\n",
        "def myEmptyFunction(): # Function definition\n",
        "    pass"
      ],
      "metadata": {
        "id": "vo7eK4VRgGoX"
      },
      "execution_count": null,
      "outputs": []
    },
    {
      "cell_type": "code",
      "source": [
        "# Defining a function\n",
        "\n",
        "def myFirstFunction():\n",
        "    pass               # Body statement"
      ],
      "metadata": {
        "id": "CmxKjXaipd6l"
      },
      "execution_count": null,
      "outputs": []
    },
    {
      "cell_type": "code",
      "source": [
        "# Defining a function and making a call\n",
        "\n",
        "def myFirstFunction():\n",
        "    pass\n",
        "\n",
        "myFirstFunction()        # Function call"
      ],
      "metadata": {
        "id": "A7HTNeh5gYbE"
      },
      "execution_count": null,
      "outputs": []
    },
    {
      "cell_type": "code",
      "source": [
        "# Defining function with the body statement making a call\n",
        "\n",
        "def myFirstFunction():    # Function definition\n",
        "  print(\"Hello World!\")   # Body statement\n",
        "\n",
        "myFirstFunction()         # Function call"
      ],
      "metadata": {
        "id": "umNfb4qcey1Q"
      },
      "execution_count": null,
      "outputs": []
    },
    {
      "cell_type": "markdown",
      "source": [
        "Function with the return statement\n",
        "---\n",
        "The return statement inside of a function will terminate the function execution and return to the calling position with some return value. The return value can be any data type including int, float, complex data, data sequencies,\n",
        "and user-defined objects like classes and functions.\n",
        "\n",
        "The return value can be omited or you can have a single return statement.\n",
        "\n",
        "---"
      ],
      "metadata": {
        "id": "KUH1VtuG01Au"
      }
    },
    {
      "cell_type": "code",
      "source": [
        "# Defining function with a return statement\n",
        "\n",
        "def myTestFunction(): return\n",
        "\n",
        "myTestFunction()"
      ],
      "metadata": {
        "id": "WD5rmSjS2pMu"
      },
      "execution_count": null,
      "outputs": []
    },
    {
      "cell_type": "code",
      "source": [
        "# Defining function with an explicit return statement\n",
        "\n",
        "def myFirstFunction():\n",
        "  print(\"Before the return statement\")\n",
        "  return\n",
        "  print(\"After the return statement\")\n",
        "\n",
        "myFirstFunction()"
      ],
      "metadata": {
        "colab": {
          "base_uri": "https://localhost:8080/"
        },
        "id": "P8tdEAYyNeoz",
        "outputId": "56c9fe43-411e-462f-9459-f81ae3d1cf01"
      },
      "execution_count": null,
      "outputs": [
        {
          "output_type": "stream",
          "name": "stdout",
          "text": [
            "Before the return statement\n"
          ]
        }
      ]
    },
    {
      "cell_type": "code",
      "source": [
        "# Defining function with an explicit return value in one line\n",
        "\n",
        "def myFirstFunction(): return 2 + 3\n",
        "\n",
        "print(myFirstFunction())\n"
      ],
      "metadata": {
        "id": "46Fzh95PgqGX"
      },
      "execution_count": null,
      "outputs": []
    },
    {
      "cell_type": "code",
      "source": [
        "# Returning a list of values using list comprehension\n",
        "\n",
        "def myListFunction(myNumberList):\n",
        "  myNumber = [i for i in myNumberList if i % 2 == 0]\n",
        "  return myNumber\n",
        "\n",
        "myNumberList = [ 1, 2, 3, 4, 5, 6, 7, 8]\n",
        "\n",
        "print(myListFunction(myNumberList))"
      ],
      "metadata": {
        "id": "xJwu4Zsq3Tbq"
      },
      "execution_count": null,
      "outputs": []
    },
    {
      "cell_type": "markdown",
      "source": [
        "5.2 Global and local variables\n",
        "---\n",
        "Global variables are declared outside of any functions and have global scope, meaning that they can be accessed from any function or a statement.\n",
        "Local variables are defined only inside of a function and have a local scope,\n",
        "they valid only inside and can not be accessed from outside.\n",
        "\n",
        "---"
      ],
      "metadata": {
        "id": "mHnCtEfthjdC"
      }
    },
    {
      "cell_type": "code",
      "source": [
        "# Global variable is defined outside of a function\n",
        "\n",
        "myGlobalVariable = \"cool!\"\n",
        "\n",
        "def myTestFunc():\n",
        "  print(\"Python is \" + myGlobalVariable)\n",
        "\n",
        "myTestFunc()"
      ],
      "metadata": {
        "id": "MdPiV7DsR2iP"
      },
      "execution_count": null,
      "outputs": []
    },
    {
      "cell_type": "code",
      "source": [
        "# Local variable is defined inside of a function\n",
        "\n",
        "def myTestFunc():\n",
        "  myLocalVariable = \"cool!\"\n",
        "  print(\"Python is \" + myLocalVariable)\n",
        "\n",
        "myTestFunc()"
      ],
      "metadata": {
        "id": "gpAxV2-CIDSL"
      },
      "execution_count": null,
      "outputs": []
    },
    {
      "cell_type": "code",
      "source": [
        "# Global and local variables\n",
        "\n",
        "def myTestFunc():\n",
        "  myLocalVariable = \"fantastic\"\n",
        "  print(\"Python is \" + myGlobalVariable + \"!\" + \"- from function\")\n",
        "  print(\"Python is \" + myLocalVariable  + \"!\" + \"- from function\")\n",
        "\n",
        "myGlobalVariable = \"awesome\"\n",
        "\n",
        "myTestFunc()\n",
        "\n",
        "#print(\"Python is \" + myLocalVariable)"
      ],
      "metadata": {
        "id": "o7apT8-SSt8z"
      },
      "execution_count": null,
      "outputs": []
    },
    {
      "cell_type": "code",
      "source": [
        "# If global and local variables are defined with the same name\n",
        "\n",
        "def myTestFunc():\n",
        "  myVariable = \"fantastic\"\n",
        "  print(\"Python is \" + myVariable + \"!\" + \" - from function\")\n",
        "\n",
        "myVariable = \"awesome\"\n",
        "\n",
        "myTestFunc()\n",
        "\n",
        "print(\"Python is \" + myVariable)"
      ],
      "metadata": {
        "id": "YixOhDAtJGjC"
      },
      "execution_count": null,
      "outputs": []
    },
    {
      "cell_type": "code",
      "source": [
        "# How can you create a global variable in the local scope, inside of a function\n",
        "\n",
        "def myTestFunc():\n",
        "    global myLocalVariable\n",
        "\n",
        "    myLocalVariable = \"fantastic\"\n",
        "\n",
        "    print(\"Python is \" + myGlobalVariable + \"!\" + \" from function\")\n",
        "    print(\"Python is \" + myLocalVariable  + \"!\" + \" from function\")\n",
        "\n",
        "myGlobalVariable = \"awesome\"\n",
        "\n",
        "myTestFunc()\n",
        "\n",
        "print(\"Python is \" + myLocalVariable + \"!\")"
      ],
      "metadata": {
        "id": "-SYqmQRRT_fm"
      },
      "execution_count": null,
      "outputs": []
    },
    {
      "cell_type": "code",
      "source": [
        "# If global variable needs to be modified\n",
        "\n",
        "def myTestFunc():\n",
        "  global myVariable\n",
        "  myVariable += \" fantastic\"    # Remember the assignment operator x = x + value\n",
        "  print(\"Python is \" + myVariable + \"!\" + \" - from the function\")\n",
        "\n",
        "myVariable = \"awesome\"\n",
        "\n",
        "myTestFunc()\n",
        "\n",
        "print(\"Python is \" + myVariable)"
      ],
      "metadata": {
        "id": "jJqEv6KHJ_i_"
      },
      "execution_count": null,
      "outputs": []
    },
    {
      "cell_type": "markdown",
      "source": [
        "5.3 Parameters vs arguments\n",
        "---\n",
        "A parameter placed inside of the parentheses when function is defined. Parameter is accessible only inside the function and argument can be accessible from anywhere in the program. An argument passed to the function when function is called. The shorthand notation for the arguments is args and for the keyword arguments is kwargs.  You can call a function with the following arguments:\n",
        "\n",
        "* Positional arguments;\n",
        "* Keyword arguments;\n",
        "* Mixed arguments - a mix of positional and keyword arguments.\n",
        "\n",
        "It is also important to provide the same number of arguments as defined in the parameter field of a function.\n",
        "\n",
        "---\n",
        "\n",
        "Syntax:\n",
        "\n",
        "      1. def  functionName(param 1, param 2, ..., param n): block of code\n",
        "              call functionName(arg 1, arg 2, ..., arg n)\n",
        "\n",
        "      2. def  functionName(param 1, param 2, ..., param n): block of code\n",
        "              call functionName(arg 1 = val 1, arg 2 = val 2, ..., arg n = val n)\n",
        "\n",
        "      3. def  functionName(param 1, param 2, ..., param n): block of code\n",
        "              call functionName(arg 1, arg 2 = val 2, ..., arg n = val n)\n"
      ],
      "metadata": {
        "id": "m3KHxwxemXUW"
      }
    },
    {
      "cell_type": "markdown",
      "source": [
        "Positional arguments\n",
        "---\n",
        "Positional arguments are characterized by their positional order. The positional order is important when you pass arguments to a function. Here are a few examples with positional order of arguments.\n",
        "\n",
        "---"
      ],
      "metadata": {
        "id": "nrejez6cEEix"
      }
    },
    {
      "cell_type": "code",
      "source": [
        "# Functions with one positional argument\n",
        "\n",
        "def mySecondFunction(PersonName):\n",
        "  print(PersonsName)\n",
        "\n",
        "mySecondFunction(\"Olaf\")\n",
        "mySecondFunction(\"Kalfeoie\")"
      ],
      "metadata": {
        "id": "boytjDE8pq3n"
      },
      "execution_count": null,
      "outputs": []
    },
    {
      "cell_type": "code",
      "source": [
        "# Functions with two positional arguments\n",
        "\n",
        "def myThirdFunction( myFirstName, mySecondName ):\n",
        "  print(myFirstName + \"  \" + mySecondName)\n",
        "\n",
        "myFirstName  = \"Olaf\"\n",
        "mySecondName = \"Kalfeoie\"\n",
        "\n",
        "myThirdFunction(myFirstName, mySecondName)"
      ],
      "metadata": {
        "id": "5i5F-obtqTLl"
      },
      "execution_count": null,
      "outputs": []
    },
    {
      "cell_type": "code",
      "source": [
        "# Functions with three positional arguments\n",
        "\n",
        "def myThirdFunction( myFirstName, mySecondName, phoneNumber ):\n",
        "  print(myFirstName + \"  \" + mySecondName + \"  \" + phoneNumber)\n",
        "\n",
        "myFirstName  = \"Olaf\"\n",
        "mySecondName = \"Kalfeoie\"\n",
        "phoneNumber  = \"1231234-1234\"\n",
        "\n",
        "myThirdFunction(myFirstName, mySecondName, phoneNumber)"
      ],
      "metadata": {
        "id": "EsFxiyHNQ4SP"
      },
      "execution_count": null,
      "outputs": []
    },
    {
      "cell_type": "markdown",
      "source": [
        "Keyword arguments\n",
        "---\n",
        "The keyword arguments can be placed in any order. The order of keyword arguments\n",
        "does not matter. Only names of arguments are important and subject to check.\n",
        "\n",
        "---"
      ],
      "metadata": {
        "id": "cuazNY6KQORb"
      }
    },
    {
      "cell_type": "code",
      "source": [
        "# Keyword arguments with the key = value format in positional order\n",
        "\n",
        "def myRegularFunction(name1, name2, name3):\n",
        "  print(name1, name2, name3)\n",
        "\n",
        "myRegularFunction(name1=\"Olaf\", name2=\"Holiaf\", name3=\"Linux\")"
      ],
      "metadata": {
        "id": "oCkZZY-GsPdH"
      },
      "execution_count": null,
      "outputs": []
    },
    {
      "cell_type": "code",
      "source": [
        "# Function with various key = value arguments without positional order\n",
        "\n",
        "def myRegularFunction(name3, name1, name2):\n",
        "  print(name1, name2, name3)\n",
        "\n",
        "myRegularFunction(name2=\"Holiaf\", name3=\"Linux\", name1=\"Olaf\")\n"
      ],
      "metadata": {
        "id": "2RnOxHvezL_s"
      },
      "execution_count": null,
      "outputs": []
    },
    {
      "cell_type": "code",
      "source": [
        "# Function with the keyword arguments without a positional order\n",
        "\n",
        "def myAddFunction(numOne, numTwo):\n",
        "  return numOne + numTwo\n",
        "\n",
        "print ( myAddFunction(numTwo = 25, numOne = 5) )"
      ],
      "metadata": {
        "id": "yjCB6e5cyYUf"
      },
      "execution_count": null,
      "outputs": []
    },
    {
      "cell_type": "markdown",
      "source": [
        "Mixed arguments - a mix of positional and keyword arguments\n",
        "---\n",
        "The rule of thumb, all the positional arguments should go before the keyword arguments.\n",
        "\n",
        "---"
      ],
      "metadata": {
        "id": "89nMshtqV7ON"
      }
    },
    {
      "cell_type": "code",
      "source": [
        "# Functions with positional and keyword arguments\n",
        "\n",
        "def myMixArgsFunction(firstVar, secondVar, thirdVar):\n",
        "  print(\"Mixed arguments :\", firstVar,\" \", secondVar,\" \", thirdVar)\n",
        "\n",
        "myMixArgsFunction(2, thirdVar = 12, secondVar = 3)"
      ],
      "metadata": {
        "id": "j9wbvVM2WCLI"
      },
      "execution_count": null,
      "outputs": []
    },
    {
      "cell_type": "code",
      "source": [
        "# Functions with positional and keyword arguments\n",
        "\n",
        "def myMixArgsFunction(firstVar, secondVar, thirdVar):\n",
        "  print(\"Mixed arguments :\", firstVar,\" \", secondVar,\" \", thirdVar)\n",
        "\n",
        "myMixArgsFunction(2, 12, secondVar = 3)"
      ],
      "metadata": {
        "id": "-Zn26I54XZEP"
      },
      "execution_count": null,
      "outputs": []
    },
    {
      "cell_type": "markdown",
      "source": [
        "Functions with arbitrary number of arguments\n",
        "---\n",
        "The *args is a convention in Python when a number of arguments to be passed to the function is unknown. The *args parameter allow to pass a variable number of positional arguments to the function. The wildcard * in front of args word makes the parameter iterable.\n",
        "\n",
        "---"
      ],
      "metadata": {
        "id": "QaGbTpE7Coqz"
      }
    },
    {
      "cell_type": "code",
      "source": [
        "# Arbitrary number of arguments (*args), receives a tuple of arguments\n",
        "\n",
        "def myFifthFunction(*args):\n",
        "  print(args)\n",
        "\n",
        "myFifthFunction(\"Olaf\", \"Stella\", \"Klaus\", \"Kontrate\")"
      ],
      "metadata": {
        "id": "nqFeTyLUrQeW"
      },
      "execution_count": null,
      "outputs": []
    },
    {
      "cell_type": "markdown",
      "source": [
        "Functions with arbitrary number of keyword positional arguments\n",
        "---\n",
        "To accept an arbitrary number of key word arguments one needs to use **kwarg syntax. The double asterisk is used to indicate that the function can accept multiple key word arguments.\n",
        "\n",
        "___"
      ],
      "metadata": {
        "id": "IuuKTYFKQvVC"
      }
    },
    {
      "cell_type": "code",
      "source": [
        "# Arbitrary number of keyword arguments (**kwargs)\n",
        "\n",
        "def myTestFunction(**kwargs):\n",
        "  print(kwargs, end=\" \")\n",
        "\n",
        "myTestFunction(num1 = 1, num2 = 2, num3 = 3, num4 = 4)"
      ],
      "metadata": {
        "id": "Gev7VgrMBAIC"
      },
      "execution_count": null,
      "outputs": []
    },
    {
      "cell_type": "code",
      "source": [
        "# Arbitrary number of keywords arguments\n",
        "\n",
        "def myRegularFunction(**kwargs):\n",
        "  print(kwargs)\n",
        "\n",
        "myRegularFunction(myFirstName = \"Oleaf\", myLastName=\"Kwwiec\", myMiddleName = \"Komntras\")"
      ],
      "metadata": {
        "id": "OFBpGrPCs21Z"
      },
      "execution_count": null,
      "outputs": []
    },
    {
      "cell_type": "markdown",
      "source": [
        "Functions with arbitrary number of positional arguments and keyword arguments\n",
        "---\n",
        "It is also possible to create a function that will accept an arbitrary number of positional arguments and an arbitrary number of key word arguments. This function will collect the positional arguments into a tuple and key word arguments into a dictionary.\n",
        "\n",
        "___"
      ],
      "metadata": {
        "id": "TmMawt1iRxgG"
      }
    },
    {
      "cell_type": "code",
      "source": [
        "# Arbitrary number of arguments (*args) and keyword arguments (**kwargs)\n",
        "\n",
        "def myTestFunction(*args, **kwargs):\n",
        "  print(args, kwargs, end=\" \")\n",
        "\n",
        "myTestFunction(1, 2, 3, num1 = 1, num2 = 2, num3 = 3, num4 = 4)"
      ],
      "metadata": {
        "id": "1w1U2ZMcRH9T"
      },
      "execution_count": null,
      "outputs": []
    },
    {
      "cell_type": "markdown",
      "source": [
        "Functions with default parameters\n",
        "---\n",
        "Functions can be defined (created) with default parameters that are the values that parameters can accept by default if arguments are not provided.\n",
        "\n",
        "---\n",
        "\n",
        "Syntax:\n",
        "\n",
        "           def  functionName(param 1, param 2 = val 2, ..., param n = value n): block of code\n",
        "           call functionName(arg 1, arg 2, ..., arg n)\n",
        "\n",
        "---"
      ],
      "metadata": {
        "id": "oZMfUN14XwPg"
      }
    },
    {
      "cell_type": "code",
      "source": [
        "# Functions with default parameters\n",
        "\n",
        "def myRegularFunction( myVar1, myVar2 = 0.34, myVar3 = 10 ):\n",
        "  print(myVar1,\" \", myVar2,\" \", myVar3)\n",
        "\n",
        "myRegularFunction(0.1)\n",
        "myRegularFunction(0.1, 0.22)\n",
        "myRegularFunction(0.1, 0.22, 123456)"
      ],
      "metadata": {
        "id": "LwyW8wd8tx1Y"
      },
      "execution_count": null,
      "outputs": []
    },
    {
      "cell_type": "markdown",
      "source": [
        "5.4 Recursive functions\n",
        "---\n",
        "The recursive functions is when a function is referring to itself.\n",
        "\n",
        "---"
      ],
      "metadata": {
        "id": "cWD1MYyqYtle"
      }
    },
    {
      "cell_type": "markdown",
      "source": [
        "![Presentation_recursive.png](data:image/png;base64,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)"
      ],
      "metadata": {
        "id": "ronyGdM0dKN6"
      }
    },
    {
      "cell_type": "code",
      "source": [
        "# Recursive function - can call itself (5! = 1*2*3*4*5)\n",
        "\n",
        "def myRecursiveFunction(x):\n",
        "  \"\"\" This is a recursive function to find a fuctorial\"\"\"\n",
        "  if x ==1:\n",
        "    return 1;\n",
        "  else:\n",
        "    return (x * myRecursiveFunction(x-1))\n",
        "\n",
        "x = 5\n",
        "print(\"The factorial of x\", x, \"is\", myRecursiveFunction(x))\n"
      ],
      "metadata": {
        "id": "p3SipIbNxsp1"
      },
      "execution_count": null,
      "outputs": []
    },
    {
      "cell_type": "markdown",
      "source": [
        "Functions with data sequences passed as arguments\n",
        "---\n",
        "One can create functions to accept the data sequences. This allows to perform\n",
        "operations on the data sequences within a function. Here are a few examples with list, dictionary, tuple, and set."
      ],
      "metadata": {
        "id": "hJpAfegVRhXv"
      }
    },
    {
      "cell_type": "code",
      "source": [
        "# Functions with a list as an argument\n",
        "\n",
        "def myFishFunction(fish):\n",
        "  for i in fish:\n",
        "    print(i, end=\"; \")\n",
        "\n",
        "fish = [ \"Carp\", \"Bass\", \"Red Snapper\", \"Labeo culbasu\", \"Chanda Nama\", \"Ruffe\" ]\n",
        "\n",
        "myFishFunction(fish)"
      ],
      "metadata": {
        "id": "ylLWPkYKvhGi"
      },
      "execution_count": null,
      "outputs": []
    },
    {
      "cell_type": "code",
      "source": [
        "# Functions with a dictionary as an argument, key values by default, fish.values(), fish.items().\n",
        "\n",
        "def myFishFunction(fish):\n",
        "  for i in fish:\n",
        "    print(i, end=\"; \")\n",
        "\n",
        "fish = { \"Carp\":1, \"Bass\":2, \"Red Snapper\":3, \"Labeo culbasu\":4, \"Chanda Nama\":5, \"Ruffe\":6 }\n",
        "\n",
        "myFishFunction(fish)"
      ],
      "metadata": {
        "id": "9hIJBPDJ7VkY"
      },
      "execution_count": null,
      "outputs": []
    },
    {
      "cell_type": "code",
      "source": [
        "# Functions with a tuple as an argument, key values by default, fish.values(), fish.items().\n",
        "\n",
        "def myFishFunction(fish):\n",
        "  for i in fish:\n",
        "    print(i, end=\"; \")\n",
        "\n",
        "fish = ( \"Carp\", \"Bass\", \"Red Snapper\", \"Labeo culbasu\", \"Chanda Nama\", \"Ruffe\" )\n",
        "\n",
        "myFishFunction(fish)"
      ],
      "metadata": {
        "id": "z6vBmlBZRwDt"
      },
      "execution_count": null,
      "outputs": []
    },
    {
      "cell_type": "code",
      "source": [
        "# Functions with a set as an argument\n",
        "\n",
        "def myFishFunction(fish):\n",
        "  for i in fish:\n",
        "    print(i, end=\"; \")\n",
        "\n",
        "fish = { \"Carp\", \"Bass\", \"Red Snapper\", \"Labeo culbasu\", \"Chanda Nama\", \"Ruffe\" }\n",
        "\n",
        "myFishFunction(fish)"
      ],
      "metadata": {
        "id": "9sTn-OZqR3_S"
      },
      "execution_count": null,
      "outputs": []
    },
    {
      "cell_type": "markdown",
      "source": [
        "Modyfing a list inside of the function\n",
        "---\n",
        "The data sequence can be modified inside of the function.\n",
        "\n",
        "---"
      ],
      "metadata": {
        "id": "FTQXkDKjtOMq"
      }
    },
    {
      "cell_type": "code",
      "source": [
        "# Some examples with the list\n",
        "\n",
        "def myListFunction(lst):\n",
        "  del lst[2]                              # deleting number 3 from the list\n",
        "  print(\"List after deleting the second index\", lst)\n",
        "\n",
        "lst = [1, 2, 3, 4, 5]\n",
        "\n",
        "print( \"My list before the deletion\", lst )\n",
        "myListFunction(lst)\n",
        "print( \"My list after the deletion\",  lst )\n"
      ],
      "metadata": {
        "id": "OAXxUwTZnbF9"
      },
      "execution_count": null,
      "outputs": []
    },
    {
      "cell_type": "markdown",
      "source": [
        "5.5 Lambda function\n",
        "---\n",
        "Lambda function is a function that does not have a function name. A lambda function can take any number of arguments but can have only one expression.\n",
        "\n",
        "---\n",
        "\n",
        "Syntax:\n",
        "\n",
        "        lambda variable: one expression"
      ],
      "metadata": {
        "id": "AEUhSBDteg5a"
      }
    },
    {
      "cell_type": "code",
      "source": [
        "# A lambda function can take any number of arguments but have only one expression\n",
        "# lambda arguments : expression\n",
        "\n",
        "myLambdaFunction = lambda myVar: myVar + 10.0\n",
        "print(myLambdaFunction(10))"
      ],
      "metadata": {
        "id": "42tLupuqzKxu"
      },
      "execution_count": null,
      "outputs": []
    },
    {
      "cell_type": "code",
      "source": [
        "# A lambda function with multiple arguments\n",
        "\n",
        "myLambdaFunction = lambda myVar1, myVar2 : myVar1 * myVar2\n",
        "print(myLambdaFunction(64, 256))"
      ],
      "metadata": {
        "id": "jxCiwzbN0PP8"
      },
      "execution_count": null,
      "outputs": []
    },
    {
      "cell_type": "code",
      "source": [
        "# A lambda function with multiple arguments\n",
        "\n",
        "myLambdaFunction = lambda myVar1, myVar2, myVar3 : (myVar1 + myVar2)/myVar3\n",
        "\n",
        "print(myLambdaFunction(0.3, 0.4, 1.23))\n"
      ],
      "metadata": {
        "id": "hXOZHJET0j2h"
      },
      "execution_count": null,
      "outputs": []
    },
    {
      "cell_type": "markdown",
      "source": [
        "5.6 Function annotations\n",
        "---\n",
        "Function annotations are optional and can be used for parameters and return values. It is a way of connecting some function expressions and other parts of functions. Annotation is always preceding the parameter's default value. Columns are used to define an annotation. Annotation for the excess parameters are also used as args and kwargs. Lambda function does not support annotations.\n",
        "\n",
        "---\n",
        "\n",
        "Syntax:\n",
        "\n",
        "      1. def functionName(a: expression, b: expression):\n",
        "      2. def functionName() -> expression\n",
        "      3. def functionName(*args: expression, **kwargs: expression)"
      ],
      "metadata": {
        "id": "J3KW5QWR5Z6u"
      }
    },
    {
      "cell_type": "markdown",
      "source": [
        "Return value annotation\n",
        "---\n",
        "You can see the -> operator in some functions, which is the return value annotation. It is optional, it is just for information only and makes no difference for the interpreter.\n",
        "\n",
        "---\n",
        "\n",
        "Syntax:\n",
        "\n",
        "        def functionName(parameter) -> type:\n",
        "          block of code\n",
        "          return value"
      ],
      "metadata": {
        "id": "fcNE2ApaZtSb"
      }
    },
    {
      "cell_type": "code",
      "source": [
        "# Return value annotation with integer type\n",
        "\n",
        "def myIntFunction(myVal1: int, myVal2: int) -> int:\n",
        "  return (myVal1 * myVal2)\n",
        "\n",
        "print(myIntFunction(1,2))"
      ],
      "metadata": {
        "id": "mMyQSygGiHkS"
      },
      "execution_count": null,
      "outputs": []
    },
    {
      "cell_type": "code",
      "source": [
        "# Return value annotation with float type\n",
        "\n",
        "def myFloatFunction(myVal1: float, myVal2: float) -> float:\n",
        "  return (myVal1 * myVal2)\n",
        "\n",
        "print(myFloatFunction(1.1, 2.4))"
      ],
      "metadata": {
        "id": "FzNCqhi_FEYV"
      },
      "execution_count": null,
      "outputs": []
    },
    {
      "cell_type": "code",
      "source": [
        "# Return value annotation with str type\n",
        "\n",
        "def myStrFunction(myVal1: str, myVal2: str) -> str:\n",
        "  return (myVal1 + myVal2)\n",
        "\n",
        "print(myStrFunction(\"***\", \"*****\"))"
      ],
      "metadata": {
        "id": "GH5rvw3IGOk0"
      },
      "execution_count": null,
      "outputs": []
    },
    {
      "cell_type": "code",
      "source": [
        "# To annotate the list return type you can use the return value annotation.\n",
        "\n",
        "def myListFunction() -> list[str]:\n",
        "   myList=[1,2,3,4,5]\n",
        "   return myList\n",
        "\n",
        "myList=myListFunction()\n",
        "print(myList)"
      ],
      "metadata": {
        "id": "fBs8VSJtCEGD"
      },
      "execution_count": null,
      "outputs": []
    },
    {
      "cell_type": "code",
      "source": [
        "# To annotate the dictioanry return type you can use the return value annotation.\n",
        "\n",
        "def myDictFunction() -> dict[str:int]:\n",
        "   myDict={\"IDnumber\":123456,\"age\":32}\n",
        "   return myDict\n",
        "\n",
        "myDict=myDictFunction()\n",
        "print(myDict)"
      ],
      "metadata": {
        "id": "OEt1WZh4LnfD"
      },
      "execution_count": null,
      "outputs": []
    },
    {
      "cell_type": "code",
      "source": [
        "# Return value annotation with a default parameter, the default parameter will be ignored.\n",
        "\n",
        "def myTestFunction(myVal1: int, myVal2: int = 5) -> int:\n",
        "  return (myVal1 * myVal2)\n",
        "\n",
        "print(myTestFunction(1,2))"
      ],
      "metadata": {
        "id": "kLMIfGQkGB8k"
      },
      "execution_count": null,
      "outputs": []
    },
    {
      "cell_type": "code",
      "source": [
        "# To annotate the tuple return type you can use the return value annotation.\n",
        "\n",
        "def myTupleFunction(*args) -> tuple[int]:\n",
        "    return args\n",
        "\n",
        "myTuple = myTupleFunction(1,2,3,4,5)\n",
        "\n",
        "print(myTuple)\n",
        "print(type(myTuple))"
      ],
      "metadata": {
        "id": "hDaxqbIcNPqw"
      },
      "execution_count": null,
      "outputs": []
    },
    {
      "cell_type": "code",
      "source": [
        "# To annotate the tuple return type you can use the return value annotation.\n",
        "\n",
        "def myDictFunction(**kwargs) -> dict[str,str]:\n",
        "    return kwargs\n",
        "\n",
        "myDict = myDictFunction(Name=\"Oleaf\", age=\"39\")\n",
        "\n",
        "print(myDict)\n",
        "print(type(myDict))"
      ],
      "metadata": {
        "id": "SdIepmv-PLHk"
      },
      "execution_count": null,
      "outputs": []
    },
    {
      "cell_type": "markdown",
      "source": [
        "# Section 6: Modules\n",
        "\n",
        "6.1 Built-in modules\n",
        "\n",
        "6.2 User defined modules\n",
        "\n",
        "6.3 Importing modules\n",
        "\n",
        "6.4 Plotting modules\n"
      ],
      "metadata": {
        "id": "oK3oYTd9fuxi"
      }
    },
    {
      "cell_type": "markdown",
      "source": [
        "6.1 Built-in modules\n",
        "---\n",
        "We decompose our code in smaller pieces to make our code more readable. The way we can do this is to import modules to the code. A file that contains a set of functions is called a module. This module can be accessed from a program using \"**import**\" keyword. A module can also contain variables of all data types. You need to import a module to access all the functions and variables. Most python distributions come with many build-in modules like os, sys, time, math ... Here are a few examples with built-in functions such as os, sys, time, datetime, and math.\n",
        "\n",
        "---"
      ],
      "metadata": {
        "id": "R9KqUQVCZolv"
      }
    },
    {
      "cell_type": "code",
      "source": [
        "# To get current working directory path\n",
        "\n",
        "import os\n",
        "\n",
        "cwd = os.getcwd()\n",
        "\n",
        "print(\"My current working directory: \", cwd)"
      ],
      "metadata": {
        "id": "ldJduVgxuTUc"
      },
      "execution_count": null,
      "outputs": []
    },
    {
      "cell_type": "code",
      "source": [
        "# To list content of your directory\n",
        "\n",
        "import os\n",
        "\n",
        "path=\"/content\"\n",
        "\n",
        "dir_content=os.listdir(path)\n",
        "\n",
        "print(\"Content of my directory: \", dir_content)"
      ],
      "metadata": {
        "id": "YYDu5IL9u6oi"
      },
      "execution_count": null,
      "outputs": []
    },
    {
      "cell_type": "code",
      "source": [
        "# In this example the version of Python interpreter is return as string\n",
        "import sys\n",
        "\n",
        "print(sys.version)"
      ],
      "metadata": {
        "id": "UOIGTJNDp8Og"
      },
      "execution_count": null,
      "outputs": []
    },
    {
      "cell_type": "code",
      "source": [
        "# In this example we use sys.path that returns a list of directories\n",
        "# where the Python interpreter will search for the available modules.\n",
        "import sys\n",
        "\n",
        "print(sys.path)"
      ],
      "metadata": {
        "id": "qMZ_QbSSsVyv"
      },
      "execution_count": null,
      "outputs": []
    },
    {
      "cell_type": "code",
      "source": [
        "# How to use time module\n",
        "import time\n",
        "\n",
        "print(time.strftime(\"%H:%M:%S\"))\n"
      ],
      "metadata": {
        "id": "IQAmTZrWlJGL"
      },
      "execution_count": null,
      "outputs": []
    },
    {
      "cell_type": "code",
      "source": [
        "# Date time now\n",
        "import datetime\n",
        "\n",
        "print(datetime.datetime.now())"
      ],
      "metadata": {
        "id": "TGU64hC9mGBT"
      },
      "execution_count": null,
      "outputs": []
    },
    {
      "cell_type": "code",
      "source": [
        "# To specify exact entity we need to use the following syntax.\n",
        "import math\n",
        "\n",
        "print(math.pi)"
      ],
      "metadata": {
        "id": "_J3FKW-GwZ1F"
      },
      "execution_count": null,
      "outputs": []
    },
    {
      "cell_type": "code",
      "source": [
        "# There is a dir() function that lists all the functions inside of a module\n",
        "\n",
        "import math\n",
        "\n",
        "myFirstList=dir(math)\n",
        "print(myFirstList)"
      ],
      "metadata": {
        "id": "uPkzXV5soOd4"
      },
      "execution_count": null,
      "outputs": []
    },
    {
      "cell_type": "markdown",
      "source": [
        "6.2 User defined modules\n",
        "---\n",
        "The following example should be performed in Jupyter Lab. Once you import a module the Python executes it immediately, that is why most of the modules contain functions and variables' definitions only. Some modules not only contain the functions but also some automated tests making sure that the functions work correctly. These tests are not activated upon the call but independently. Each module will be initialized only once eventhough you might have a few initializations in different files. Python will be aware of all the modules imported in other files.  \n",
        "\n",
        "---"
      ],
      "metadata": {
        "id": "Sx9dS5rmdY6Z"
      }
    },
    {
      "cell_type": "code",
      "source": [
        "# myOwnModule\n",
        "if __name__==\"__main__\":\n",
        "  print(\"This module runs directly\")\n",
        "else:\n",
        "  print(\"This module is imported\")\n"
      ],
      "metadata": {
        "id": "pLkPIS7CS2_Y"
      },
      "execution_count": null,
      "outputs": []
    },
    {
      "cell_type": "code",
      "source": [
        "#Main code\n",
        "import myOwnModule"
      ],
      "metadata": {
        "id": "71wJebGsTT1S"
      },
      "execution_count": null,
      "outputs": []
    },
    {
      "cell_type": "code",
      "source": [
        "# Save your file as myFirstModule.py\n",
        "\n",
        "def greeting(name):\n",
        "  print(\"Hello, \" + name)\n",
        "\n",
        "worker={\"name\":\"John\", \"age\":48, \"country\":\"Germany\"}"
      ],
      "metadata": {
        "id": "grEllPwTmn7k"
      },
      "execution_count": null,
      "outputs": []
    },
    {
      "cell_type": "code",
      "source": [
        "# Import my own module\n",
        "import myFirstModule\n",
        "\n",
        "myFirstModule.greeting(\"Daniel\")\n",
        "myFirstModule.worker[\"age\"]"
      ],
      "metadata": {
        "id": "MPgybNvQm0oY"
      },
      "execution_count": null,
      "outputs": []
    },
    {
      "cell_type": "markdown",
      "source": [
        "6.3 Importing modules\n",
        "---\n",
        "\n",
        "Syntax:\n",
        "\n",
        "        1. import module\n",
        "\n",
        "        2. from module import *\n",
        "        \n",
        "        3. from module import entity1, entity2, ...\n",
        "        \n",
        "        4. import module as short name or alias\n",
        "        \n",
        "        5. from module import entity name as short name\n",
        "        \n",
        "        Both statements ( 1. and 2. ) are importing all\n",
        "        the entities from the module. The difference is\n",
        "        that in the first example you need to use prefix\n",
        "        (module.method) to refer to the method and in the\n",
        "        second example you do not need to use the prefix."
      ],
      "metadata": {
        "id": "F6KnIkoE4aU8"
      }
    },
    {
      "cell_type": "code",
      "source": [
        "# Importing just the entire module, importing all the entities.\n",
        "import math\n",
        "\n",
        "print(math.pi) # Built in"
      ],
      "metadata": {
        "id": "uDTfAqzir-gN"
      },
      "execution_count": null,
      "outputs": []
    },
    {
      "cell_type": "code",
      "source": [
        "# You can import everything from the module using an asterisk.\n",
        "# It is not recommended to do so since a lot of conflicts can appear with your\n",
        "# own function names and they will be replaced. You also need to notice that\n",
        "# you do not need to specify math prefix anymore. You can just use the name itself.\n",
        "\n",
        "from math import *\n",
        "\n",
        "print(\"Pi number\", pi)"
      ],
      "metadata": {
        "id": "lZNlPe6x28l5"
      },
      "execution_count": null,
      "outputs": []
    },
    {
      "cell_type": "code",
      "source": [
        "# Importing just some of the entities.\n",
        "from math import acos, pi\n",
        "\n",
        "print(acos(-1))\n",
        "print(pi)"
      ],
      "metadata": {
        "id": "82t5Q1a4oxXE"
      },
      "execution_count": null,
      "outputs": []
    },
    {
      "cell_type": "code",
      "source": [
        "# You can also import a module using an alias to refer to the module,\n",
        "# a shorter name or an acronym for example.\n",
        "import math as mth\n",
        "\n",
        "print(\"Pi number :\", mth.pi)\n"
      ],
      "metadata": {
        "id": "eRWXYhzA-lHl"
      },
      "execution_count": null,
      "outputs": []
    },
    {
      "cell_type": "code",
      "source": [
        "# You can also import a module using an alias to refer to the module,\n",
        "# a shorter name or an acronym for example.\n",
        "\n",
        "import random as rnd\n",
        "\n",
        "print(rnd.randint(0,9)) #Returns a number in a<=N<=b or [a,b] inclusive\n"
      ],
      "metadata": {
        "id": "oIFdB3bupc87"
      },
      "execution_count": null,
      "outputs": []
    },
    {
      "cell_type": "code",
      "source": [
        "# Generating an array of random numbers\n",
        "from numpy.random import seed\n",
        "from numpy.random import randint\n",
        "\n",
        "seed(1)\n",
        "\n",
        "randomValues = randint(0,10,20)\n",
        "print(randomValues)\n"
      ],
      "metadata": {
        "id": "XHdJnkxYp8Ux"
      },
      "execution_count": null,
      "outputs": []
    },
    {
      "cell_type": "markdown",
      "source": [
        "Note\n",
        "\n",
        "---\n",
        "Most popular python modules are\n",
        "\n",
        "**Numpy** - module is used for variety of mathematical operations on arrays.\n",
        "\n",
        "**SciPy** - module with a lot of mathematical algorithms and functions.\n",
        "\n",
        "**Pandas** - module designed to work with the datasets, data analysis.\n",
        "\n",
        "**Jiango** - module designed to help build webpages using pyhton.\n",
        "\n",
        "**PyTorch** - module with the largest machine learning library.\n",
        "\n",
        "**Keras** - module with machine learning libraries.\n",
        "\n",
        "**TensorFlow** - end-to-end machine learning module.\n",
        "\n",
        "**MatplotLib** - module for creating static, animated, and interactive graphs.\n",
        "\n",
        "---"
      ],
      "metadata": {
        "id": "_7hiGX6arYIG"
      }
    },
    {
      "cell_type": "markdown",
      "source": [
        "6.4 Plotting module\n",
        "---\n",
        "Matplotlib is the most popular plotting module. It is used to create static, animated, and interactive graphs.\n",
        "\n",
        "---"
      ],
      "metadata": {
        "id": "J0ozzjJcuiB9"
      }
    },
    {
      "cell_type": "code",
      "source": [
        "# Importing the required module as alias plt\n",
        "import matplotlib.pyplot as plt\n",
        "\n",
        "# Generate x,y-axis values\n",
        "x=[1,2,3,4]\n",
        "y=[1,2,3,4]\n",
        "\n",
        "# Plotting the points\n",
        "plt.plot(x,y)\n",
        "\n",
        "# Figure and axis titles\n",
        "plt.title ('Figure Title', fontsize=12, color='red')\n",
        "plt.xlabel('X-axis Title', fontsize=12, color='blue')\n",
        "plt.ylabel('Y-axis Title', fontsize=12, color='black')\n",
        "\n",
        "# Show the plot using show() function\n",
        "plt.show()"
      ],
      "metadata": {
        "id": "oAJVc5R5FLfK"
      },
      "execution_count": null,
      "outputs": []
    },
    {
      "cell_type": "code",
      "source": [
        "# Importing the required module as alias plt and np\n",
        "import matplotlib.pyplot as plt\n",
        "import numpy as np\n",
        "\n",
        "# Generate x,y-axis values\n",
        "x = np.array([1, 8])\n",
        "y = np.array([3, 10])\n",
        "\n",
        "# Plotting the points\n",
        "plt.plot(x, y)\n",
        "\n",
        "# Figure and axis titles\n",
        "plt.title ('Figure Title', fontsize=12, color='red')\n",
        "plt.xlabel('X-axis Title', fontsize=12, color='blue')\n",
        "plt.ylabel('Y-axis Title', fontsize=12, color='black')\n",
        "\n",
        "# Show the plot using show() function\n",
        "plt.show()"
      ],
      "metadata": {
        "id": "1sylivpD3Bqq"
      },
      "execution_count": null,
      "outputs": []
    },
    {
      "cell_type": "code",
      "source": [
        "# Importing the required module as alias plt and np\n",
        "import matplotlib.pyplot as plt\n",
        "import numpy as np\n",
        "\n",
        "# Generate 150 evenly spaced theta values from 0 to 2pi.\n",
        "theta = np.linspace( 0 , 2 * np.pi , 150 )\n",
        "\n",
        "# Setting up radius of the circle\n",
        "radius = 0.2\n",
        "\n",
        "# Calculating the x and y coordinates of points on a circle given the radius\n",
        "x = radius * np.cos( theta )\n",
        "y = radius * np.sin( theta )\n",
        "\n",
        "# Creating two variables figure and axes\n",
        "# figure represents the entire figure\n",
        "# axes represent the plot itself\n",
        "# plt.subplots(1) creates just one plot\n",
        "figure, axes = plt.subplots( 1 )\n",
        "\n",
        "# Plotting the points\n",
        "axes.plot( x, y )\n",
        "\n",
        "# Setting the aspect ratio to 1, plot will have equal scaling in x and y\n",
        "axes.set_aspect( 1 )\n",
        "\n",
        "# Show the title of the plot\n",
        "plt.title( 'Parametric Equation Circle', fontsize=12, color='red' )\n",
        "plt.xlabel('X-axis Title', fontsize=12, color='blue')\n",
        "plt.ylabel('Y-axis Title', fontsize=12, color='black')\n",
        "\n",
        "# Show the plot using show() function\n",
        "plt.show()"
      ],
      "metadata": {
        "id": "KLUa6Xe1F-xi"
      },
      "execution_count": null,
      "outputs": []
    },
    {
      "cell_type": "code",
      "source": [
        "# Importing the required module as alias plt, mth, and np\n",
        "import matplotlib.pyplot as plt\n",
        "import math as mth\n",
        "import numpy as np\n",
        "\n",
        "# Generate x from 0 to 1*pi (not included) with the step size of 0.01 between each value\n",
        "x = np.arange(0,10 * np.pi, 0.01)\n",
        "y = np.cos(x)\n",
        "\n",
        "# Plotting the points\n",
        "plt.plot(x, y)\n",
        "plt.grid(True)\n",
        "\n",
        "plt.xlabel('x', fontsize=12, color='blue')\n",
        "plt.ylabel('cos(x)', fontsize=12, color='blue')\n",
        "plt.title('Cosine Function', fontsize=12, color='blue')\n",
        "\n",
        "# Show the plot using show() function\n",
        "plt.show()"
      ],
      "metadata": {
        "id": "CqI6cVNLuCGq"
      },
      "execution_count": null,
      "outputs": []
    },
    {
      "cell_type": "code",
      "source": [
        "# Contour plots are used to visualize 2D data and show lines that connect points of equal value\n",
        "import matplotlib.pyplot as plt\n",
        "import numpy as np\n",
        "\n",
        "# Random number generator\n",
        "np.random.seed(19680801)\n",
        "\n",
        "npts = 200\n",
        "ngridx = 2000\n",
        "ngridy = 2000\n",
        "\n",
        "# Generating uniformly distributed points in x,y - directions from -2 to 2\n",
        "x = np.random.uniform(-2, 2, npts)\n",
        "y = np.random.uniform(-2, 2, npts)\n",
        "\n",
        "# Generating a new array of z values\n",
        "z = x * np.exp(-x**2 - y**2)\n",
        "\n",
        "fig, ax1 = plt.subplots(1)\n",
        "\n",
        "# Create a grid of equally spaced values first in x,y - directions.\n",
        "xi = np.linspace(-2.1, 2.1, ngridx)\n",
        "yi = np.linspace(-2.1, 2.1, ngridy)\n",
        "\n",
        "# Make a contour plot based on xi, yi, and zi values.\n",
        "ax1.contour(xi, yi, zi, levels=14, linewidths=0.5, colors='k')\n",
        "cntr1 = ax1.contourf(xi, yi, zi, levels=14, cmap=\"RdBu_r\")\n",
        "\n",
        "fig.colorbar(cntr1, ax=ax1)\n",
        "ax1.plot(x, y, 'ko', ms=3)\n",
        "ax1.set(xlim=(-2, 2), ylim=(-2, 2))\n",
        "ax1.set_title('grid and contour (%d points, %d grid points)' %\n",
        "              (npts, ngridx * ngridy))"
      ],
      "metadata": {
        "id": "070YWMRBy1gl",
        "outputId": "64a8fcdd-b3cd-4eb3-d4da-26706791e8f4",
        "colab": {
          "base_uri": "https://localhost:8080/",
          "height": 470
        }
      },
      "execution_count": 28,
      "outputs": [
        {
          "output_type": "execute_result",
          "data": {
            "text/plain": [
              "Text(0.5, 1.0, 'grid and contour (200 points, 4000000 grid points)')"
            ]
          },
          "metadata": {},
          "execution_count": 28
        },
        {
          "output_type": "display_data",
          "data": {
            "text/plain": [
              "<Figure size 640x480 with 2 Axes>"
            ],
            "image/png": "[encoded data removed]"
          },
          "metadata": {}
        }
      ]
    },
    {
      "cell_type": "markdown",
      "source": [
        "# Section 7: Classes\n",
        "\n",
        "7.1 Building simple classes\n",
        "\n",
        "7.2 Classes and objects\n",
        "\n",
        "7.3 Encapsulation and abstraction\n",
        "\n",
        "7.4 Inheritance\n",
        "\n",
        "7.5 Methods overriding\n",
        "\n",
        "7.6 Polymorphism\n"
      ],
      "metadata": {
        "id": "-G6SVv9MmBAR"
      }
    },
    {
      "cell_type": "markdown",
      "source": [
        "7.1 Building simple classes\n",
        "---\n",
        "Python is an object-oriented high-level programming (OOP) language. Objects are an important part of Python programming. In fact, everything is an object in Python with default data and some functionality. Objects have attributes (variables) and methods (functions) specified in the class. To build an object, you need to use a constructor function ( _ _ init _ _() ). A constructor is a special function that is used to make an instance of a class. A class is like a blueprint that helps to create an object. You can then use that object (instance) of a class to assign some data and functionality. There are four main principles of object-oriented high-level programming.\n",
        "\n",
        "1. Encapsulation,\n",
        "\n",
        "2. Abstraction,\n",
        "\n",
        "3. Inheritance, and\n",
        "\n",
        "4. Polymorphism.\n",
        "\n",
        "---\n",
        "\n",
        "Syntax:\n",
        "\n",
        "        class ClassName():\n",
        "              def _ _ init _ _(self):\n",
        "                  block of code\n"
      ],
      "metadata": {
        "id": "0YXKKOpz0SCb"
      }
    },
    {
      "cell_type": "markdown",
      "source": [
        "Note\n",
        "\n",
        "---\n",
        "Unlike variables, classes always start with the capital letters.\n",
        "\n",
        "---"
      ],
      "metadata": {
        "id": "jNOztWcu2uYC"
      }
    },
    {
      "cell_type": "code",
      "source": [
        "# Creating your first class\n",
        "\n",
        "class FirstClass:\n",
        "      myVariable = 1\n"
      ],
      "metadata": {
        "id": "dnPGxwL1XEdK"
      },
      "execution_count": null,
      "outputs": []
    },
    {
      "cell_type": "markdown",
      "source": [
        "7.2 Classes and objects\n",
        "---\n",
        "The _ _ init _ _() function is called automatically everytime a new object is created. All python constructors must have at least one parameter, by convention it is called \"**self**\", however, you can call it anything you want. The \"**self**\" parameter is used to access variables that belong to the class. First argument of the constructor is always filled automatically for us. Attributes are just variables inside of your constructor function.\n",
        "\n",
        "---"
      ],
      "metadata": {
        "id": "6wgruaYIY95g"
      }
    },
    {
      "cell_type": "code",
      "source": [
        "# Using _ _init_ _() function with classes\n",
        "\n",
        "# Class definition template\n",
        "class Employee:\n",
        "\n",
        "      # Class constructor\n",
        "      def __init__(self, name, age):\n",
        "\n",
        "        # Class attributes\n",
        "        self.name = name\n",
        "        self.age = age\n"
      ],
      "metadata": {
        "id": "bYjwcX9ZX97R"
      },
      "execution_count": null,
      "outputs": []
    },
    {
      "cell_type": "code",
      "source": [
        "# Using _ _init_ _() function with classes\n",
        "\n",
        "# Class definition template\n",
        "class Employee:\n",
        "      def __init__(self, name, age):\n",
        "        self.name = name\n",
        "        self.age = age\n",
        "\n",
        "      # Class method\n",
        "      def listInfo(self):\n",
        "        print(\"Hello, My name is\", self.name, \"and I am\", self.age, \"years old.\")\n"
      ],
      "metadata": {
        "id": "R-vqt1bP6NHd"
      },
      "execution_count": null,
      "outputs": []
    },
    {
      "cell_type": "code",
      "source": [
        "# Using _ _init_ _() function with classes\n",
        "\n",
        "# Class definition template\n",
        "class Employee:\n",
        "      def __init__(self, name, age):\n",
        "        self.name = name\n",
        "        self.age = age\n",
        "\n",
        "      # Class method\n",
        "      def listInfo(self):\n",
        "        print(\"Hello, My name is\", self.name, \"and I am\", self.age, \"years old.\")\n",
        "\n",
        "# Creating a new object of a class\n",
        "mySecondObject = Employee(\"John\", 48)\n"
      ],
      "metadata": {
        "id": "PkQDrip48FBK"
      },
      "execution_count": null,
      "outputs": []
    },
    {
      "cell_type": "code",
      "source": [
        "# Using _ _init_ _() function with classes\n",
        "\n",
        "# Class definition template\n",
        "class Employee:\n",
        "      def __init__(self, name, age):\n",
        "        self.name = name\n",
        "        self.age = age\n",
        "\n",
        "      # Class method\n",
        "      def listInfo(self):\n",
        "        print(\"Hello, My name is\", self.name, \"and I am\", self.age, \"years old.\")\n",
        "\n",
        "# Creating a new object of a class, the first argument is the reference to the object.\n",
        "mySecondObject = Employee(\"John\", 48)\n",
        "\n",
        "# Accessing the method of the class\n",
        "mySecondObject.listInfo()"
      ],
      "metadata": {
        "colab": {
          "base_uri": "https://localhost:8080/"
        },
        "id": "KWZ7jm2lACRB",
        "outputId": "de4e1ffb-d987-4884-feaf-4a043308ce06"
      },
      "execution_count": null,
      "outputs": [
        {
          "output_type": "stream",
          "name": "stdout",
          "text": [
            "Hello, My name is John and I am 48 years old.\n"
          ]
        }
      ]
    },
    {
      "cell_type": "markdown",
      "source": [
        "7.3 Encapsulation and abstraction\n",
        "---\n",
        " Encapsulation involves the bundling of data (attributes) and method (functions) that operate on data within a single unit. A single unit is known as a class. It allows one to access and modify the attributes while keeping the attributes private.\n",
        "\n",
        " Abstraction is a way to simplify the complex reality by creating a class and hide some unnecessary details. You can implement abstraction using classes and methods, where you show only the relevant details and hiding the internal implementation.  \n",
        "\n",
        "---"
      ],
      "metadata": {
        "id": "MP6T0xGIEQx7"
      }
    },
    {
      "cell_type": "code",
      "source": [
        "class Train:\n",
        "\n",
        "    # Constructor\n",
        "    def __init__(self, kind, length, speed):\n",
        "\n",
        "        # Adding properties of the class\n",
        "        self.kind     = kind\n",
        "        self.length   = length\n",
        "        self.speed    = speed"
      ],
      "metadata": {
        "id": "RasKB3sHFBWF"
      },
      "execution_count": null,
      "outputs": []
    },
    {
      "cell_type": "code",
      "source": [
        "class Train:\n",
        "\n",
        "    # Constructor\n",
        "    def __init__(self, kind, length, speed):\n",
        "\n",
        "        # Properties of the class\n",
        "        self.kind     = kind\n",
        "        self.length   = length\n",
        "        self.speed    = speed\n",
        "\n",
        "    # Adding methods of the class\n",
        "    def speed_up(self):\n",
        "        self.speed += 1\n",
        "\n",
        "    def speed_down(self):\n",
        "        self.speed -= 1\n",
        "\n",
        "    def show_speed(self):\n",
        "        print(\"Current speed of my train is\", speed)"
      ],
      "metadata": {
        "id": "ao_iAT_VKmkU"
      },
      "execution_count": null,
      "outputs": []
    },
    {
      "cell_type": "code",
      "source": [
        "class Train:\n",
        "\n",
        "    # Constructor\n",
        "    def __init__(self, kind, length, speed):\n",
        "\n",
        "        # Properties of the class\n",
        "        self.kind     = kind\n",
        "        self.length   = length\n",
        "        self.speed    = speed\n",
        "\n",
        "    # Adding methods of the class\n",
        "    def speed_up(self):\n",
        "        self.speed += 1\n",
        "\n",
        "    def speed_down(self):\n",
        "        self.speed -= 1\n",
        "\n",
        "    def show_speed(self):\n",
        "        print(\"Current speed of my train is\", self.speed)\n",
        "\n",
        "# Creating an object\n",
        "myTrain = Train(\"High-speed\", 2, 0)"
      ],
      "metadata": {
        "id": "iIkmyX5zLwG1"
      },
      "execution_count": null,
      "outputs": []
    },
    {
      "cell_type": "code",
      "source": [
        "class Train:\n",
        "\n",
        "    # Constructor\n",
        "    def __init__(self, kind, length, speed):\n",
        "\n",
        "        # Properties of the class\n",
        "        self.kind     = kind\n",
        "        self.length   = length\n",
        "        self.speed    = speed\n",
        "\n",
        "    # Adding methods of the class\n",
        "    def speed_up(self):\n",
        "        self.speed += 1\n",
        "\n",
        "    def speed_down(self):\n",
        "        self.speed -= 1\n",
        "\n",
        "    def show_speed(self):\n",
        "        print(\"Current speed of my train is\", self.speed, \"miles an hour\")\n",
        "\n",
        "# Creating an object\n",
        "myTrain = Train(\"High-speed\", 2, 0)\n",
        "\n",
        "myTrain.speed_up()\n",
        "myTrain.speed_up()\n",
        "myTrain.speed_up()\n",
        "\n",
        "myTrain.show_speed()"
      ],
      "metadata": {
        "id": "FvoPSdNGMcFb"
      },
      "execution_count": null,
      "outputs": []
    },
    {
      "cell_type": "code",
      "source": [
        "class Train:\n",
        "\n",
        "    # Constructor\n",
        "    def __init__(self, kind, length, speed):\n",
        "\n",
        "        # Properties of the class\n",
        "        self.kind     = kind\n",
        "        self.length   = length\n",
        "        self.speed    = speed\n",
        "\n",
        "    # Adding methods of the class\n",
        "    def speed_up(self):\n",
        "        self.speed += 1\n",
        "\n",
        "    def speed_down(self):\n",
        "        self.speed -= 1\n",
        "\n",
        "    def show_speed(self):\n",
        "        print(\"Current speed of my\", self.kind, \" train is\", self.speed, \"miles an hour\")\n",
        "\n",
        "# Creating an object\n",
        "myTrain = Train(\"High-speed\", 2, 0)\n",
        "\n",
        "\n",
        "# Accessing the speed and kind properties directly\n",
        "myTrain.speed = -200\n",
        "myTrain.kind  = \"Regional\"\n",
        "\n",
        "myTrain.show_speed()"
      ],
      "metadata": {
        "colab": {
          "base_uri": "https://localhost:8080/"
        },
        "id": "ZHtqnB5WQ5D2",
        "outputId": "1f7fe0e3-e011-4629-e385-bf1016580c88"
      },
      "execution_count": null,
      "outputs": [
        {
          "output_type": "stream",
          "name": "stdout",
          "text": [
            "Current speed of my Regional  train is -200 miles an hour\n"
          ]
        }
      ]
    },
    {
      "cell_type": "markdown",
      "source": [
        "Private property\n",
        "---\n",
        "One can have a property private that should be prefixed with an underscore _ or _ _ . While it does not make it entirely private, it sends a signal to a developer that these properties should not be accessed directly.\n",
        "Changing a name with two underscores (mangling) makes it harder to access or override. However, you wont be able to hide the attributes completely and you can still access them.\n",
        "\n",
        "---"
      ],
      "metadata": {
        "id": "8eJwD8aVSaac"
      }
    },
    {
      "cell_type": "code",
      "source": [
        "class Train:\n",
        "\n",
        "    # Constructor\n",
        "    def __init__(self, kind, length, speed):\n",
        "\n",
        "        # Properties of the class\n",
        "        self.__kind       = kind\n",
        "        self.length     = length\n",
        "\n",
        "        # Making the speed property private\n",
        "        self._speed    = speed\n",
        "\n",
        "    # Adding methods of the class\n",
        "    def speed_up(self):\n",
        "        self._speed += 1\n",
        "\n",
        "    def speed_down(self):\n",
        "        self._speed -= 1\n",
        "\n",
        "    def show_speed(self):\n",
        "        print(\"Current speed of my\", self.__kind, \" train is\", self._speed, \"miles an hour\")\n",
        "\n",
        "# Creating an object\n",
        "myTrain = Train(\"High-speed\", 2, 0)\n",
        "\n",
        "# Accessing the speed and kind properties directly\n",
        "myTrain.speed = -200\n",
        "myTrain.kind  = \"Regional\"\n",
        "\n",
        "myTrain.show_speed()"
      ],
      "metadata": {
        "colab": {
          "base_uri": "https://localhost:8080/"
        },
        "id": "TsLVO5IjSnFq",
        "outputId": "cd30a899-f4b8-41cd-dd50-e4d1b4701df1"
      },
      "execution_count": null,
      "outputs": [
        {
          "output_type": "stream",
          "name": "stdout",
          "text": [
            "Current speed of my High-speed  train is 0 miles an hour\n"
          ]
        }
      ]
    },
    {
      "cell_type": "markdown",
      "source": [
        "Private method\n",
        "---\n",
        "One can have a private method defined within a class. It also should be prefixed with an underscore _ or _ _ by convention.\n",
        "\n",
        "---"
      ],
      "metadata": {
        "id": "pxBszfM2SqWQ"
      }
    },
    {
      "cell_type": "code",
      "source": [
        "class Train:\n",
        "\n",
        "    # Constructor\n",
        "    def __init__(self, kind, length, speed):\n",
        "\n",
        "        # Properties of the class\n",
        "        self.__kind       = kind\n",
        "        self.length     = length\n",
        "\n",
        "        # Making the speed property private\n",
        "        self._speed    = speed\n",
        "\n",
        "    # Adding methods of the class\n",
        "    def speed_up(self):\n",
        "        self._speed += 1\n",
        "\n",
        "    def _speed_down(self):\n",
        "        self._speed -= 1\n",
        "\n",
        "    def show_speed(self):\n",
        "        print(\"Current speed of my\", self.__kind, \" train is\", self._speed, \"miles an hour\")\n",
        "\n",
        "# Creating an object\n",
        "myTrain = Train(\"High-speed\", 2, 0)\n",
        "\n",
        "# Accessing the private method speed_down.\n",
        "myTrain.speed_down()"
      ],
      "metadata": {
        "id": "ur1OBtk1S9wK"
      },
      "execution_count": null,
      "outputs": []
    },
    {
      "cell_type": "markdown",
      "source": [
        "7.4 Enheritance\n",
        "---\n",
        " Enheritance provides a way to create a new class based on the existing class, inheriting its attributes and methods. We can create a superclass, which is broad and subclass that is more detailed. Here is an example of the inheritance.\n",
        "\n",
        "---"
      ],
      "metadata": {
        "id": "UN9AYtepZ4ei"
      }
    },
    {
      "cell_type": "code",
      "source": [
        "# Define a parent or superclass class.\n",
        "# Animal is the broad category, encompassing all living organisms.\n",
        "\n",
        "class Animal:\n",
        "    pass\n",
        "\n",
        "# Define a child or subclass class that inherits from Animal.\n",
        "# Mammals are a specific class of animals, they are characterized\n",
        "# by certain distinctive features like mammary glands and hair.\n",
        "\n",
        "class Mammal(Animal):\n",
        "    pass\n",
        "\n",
        "# Define a child or subclass class that inherits from Mammal.\n",
        "# Dog is the specific specie within the mammal class.\n",
        "\n",
        "class Dog(Mammal):\n",
        "    pass\n",
        "\n",
        "#issubclass(Mammal,Animal)\n",
        "#issubclass(Dog,Mammal)\n",
        "#issubclass(Dog,Animal)\n",
        "\n",
        "myDog = Dog()\n",
        "print(myDog.__dict__)"
      ],
      "metadata": {
        "id": "cDtFMbAc0MTF"
      },
      "execution_count": null,
      "outputs": []
    },
    {
      "cell_type": "code",
      "source": [
        "# Define a parent or superclass class.\n",
        "# Animal is the broad category, encompassing all living organisms.\n",
        "\n",
        "class Animal:\n",
        "    def __init__(self,name):\n",
        "      self.name = name\n",
        "\n",
        "# Define a child or subclass class that inherits from Animal.\n",
        "class Mammal(Animal):\n",
        "    pass\n",
        "\n",
        "# If you do not specify the constructor explicitely in Dog subclass\n",
        "class Dog(Mammal):\n",
        "    pass\n",
        "\n",
        "myDog = Dog(\"Rex\")\n",
        "print(myDog.__dict__)"
      ],
      "metadata": {
        "colab": {
          "base_uri": "https://localhost:8080/"
        },
        "id": "xTGElYfu-9Zz",
        "outputId": "bb52868d-9603-4d4e-a0c9-0bdb3c71137c"
      },
      "execution_count": null,
      "outputs": [
        {
          "output_type": "stream",
          "name": "stdout",
          "text": [
            "{'name': 'Sniffer'}\n"
          ]
        }
      ]
    },
    {
      "cell_type": "code",
      "source": [
        "# Define a parent or superclass class.\n",
        "# Animal is the broad category, encompassing all living organisms.\n",
        "\n",
        "class Animal:\n",
        "    def __init__(self,name):\n",
        "      self.name = name\n",
        "\n",
        "# Define a child or subclass class that inherits from Animal.\n",
        "# Mammals are a specific class of animals, they are characterized\n",
        "# by certain distinctive features like mammary glands and hair.\n",
        "\n",
        "class Mammal(Animal):\n",
        "    def __init__(self, color):\n",
        "      self.color = color\n",
        "\n",
        "# If you do not specify the constructor explicitely in Dog subclass\n",
        "# Python will look for it in superclass\n",
        "\n",
        "class Dog(Mammal):\n",
        "    pass\n",
        "\n",
        "myDog = Dog(\"golden\")\n",
        "print(myDog.__dict__)"
      ],
      "metadata": {
        "colab": {
          "base_uri": "https://localhost:8080/"
        },
        "id": "UWe3bw8AAcj9",
        "outputId": "8c7dc088-b951-40f9-d226-828cfe8e8961"
      },
      "execution_count": null,
      "outputs": [
        {
          "output_type": "stream",
          "name": "stdout",
          "text": [
            "{'color': 'golden'}\n"
          ]
        }
      ]
    },
    {
      "cell_type": "code",
      "source": [
        "# Define a parent or superclass class.\n",
        "# Animal is the broad category, encompassing all living organisms.\n",
        "\n",
        "class Animal:\n",
        "    def __init__(self,name):\n",
        "      self.name = name\n",
        "\n",
        "# Define a child or subclass class that inherits from Animal.\n",
        "# Mammals are a specific class of animals, they are characterized\n",
        "# by certain distinctive features like mammary glands and hair.\n",
        "\n",
        "class Mammal(Animal):\n",
        "    def __init__(self, name, color):\n",
        "      Animal.__init__(self, name)\n",
        "      self.color = color\n",
        "\n",
        "# If you do not specify the constructor explicitely in Dog subclass\n",
        "# Python will look for it in superclass\n",
        "\n",
        "class Dog(Mammal):\n",
        "    pass\n",
        "\n",
        "myDog = Dog(\"Rex\", \"golden\")\n",
        "print(myDog.__dict__)"
      ],
      "metadata": {
        "id": "YXlnk9kpCBSq"
      },
      "execution_count": null,
      "outputs": []
    },
    {
      "cell_type": "code",
      "source": [
        "# Define a parent or superclass class.\n",
        "# Animal is the broad category, encompassing all living organisms.\n",
        "\n",
        "class Animal:\n",
        "    def __init__(self,name):\n",
        "      self.name = name\n",
        "\n",
        "# Define a child or subclass class that inherits from Animal.\n",
        "# Mammals are a specific class of animals, they are characterized\n",
        "# by certain distinctive features like mammary glands and hair.\n",
        "\n",
        "class Mammal(Animal):\n",
        "    def __init__(self, name, color):\n",
        "      super().__init__(name)\n",
        "      self.color = color\n",
        "\n",
        "# If you do not specify the constructor explicitely in Dog subclass\n",
        "# Python will look for it in superclass\n",
        "\n",
        "class Dog(Mammal):\n",
        "    pass\n",
        "\n",
        "myDog = Dog(\"Rex\", \"golden\")\n",
        "print(myDog.__dict__)"
      ],
      "metadata": {
        "id": "Rcwq_1y9Dq_8"
      },
      "execution_count": null,
      "outputs": []
    },
    {
      "cell_type": "code",
      "source": [
        "# Define a parent or superclass class.\n",
        "# Animal is the broad category, encompassing all living organisms.\n",
        "\n",
        "class Animal:\n",
        "    def __init__(self,name):\n",
        "      self.name = name\n",
        "\n",
        "# Define a child or subclass class that inherits from Animal.\n",
        "# Mammals are a specific class of animals, they are characterized\n",
        "# by certain distinctive features like mammary glands and hair.\n",
        "\n",
        "class Mammal(Animal):\n",
        "    def __init__(self, name, color):\n",
        "      super().__init__(name)\n",
        "      self.color = color\n",
        "\n",
        "# If you do not specify the constructor explicitely in Dog subclass\n",
        "# Python will look for it in superclass\n",
        "\n",
        "class Dog(Mammal):\n",
        "    pass\n",
        "\n",
        "myDog = Dog(\"Rex\", \"golden\")\n",
        "print(myDog.__dict__)\n",
        "\n",
        "# Inheriting the name variable from Animal superclass\n",
        "myDog.name = \"Rocky\"\n",
        "print(myDog.__dict__)"
      ],
      "metadata": {
        "id": "op4s5WeWGtdP"
      },
      "execution_count": null,
      "outputs": []
    },
    {
      "cell_type": "markdown",
      "source": [
        "Note\n",
        "\n",
        "---\n",
        "In case of super() keyword you do not need a self parameter since it is going to be taken automatically.\n",
        "\n",
        "___\n",
        "\n",
        "Syntax:\n",
        "\n",
        "        ClassName.__init__(self, varName)\n",
        "          super().__init__(varName)"
      ],
      "metadata": {
        "id": "j4ZXSUOPEg6l"
      }
    },
    {
      "cell_type": "code",
      "source": [
        "# Define a parent or superclass class.\n",
        "# Animal is the broad category, encompassing all living organisms.\n",
        "\n",
        "class Animal:\n",
        "    message = \"This message is from Animal superclass\"\n",
        "    def __init__(self,name):\n",
        "      self.name = name\n",
        "\n",
        "# Define a child or subclass class that inherits from Animal.\n",
        "# Mammals are a specific class of animals, they are characterized\n",
        "# by certain distinctive features like mammary glands and hair.\n",
        "\n",
        "class Mammal(Animal):\n",
        "    def __init__(self, name, color):\n",
        "      super().__init__(name)\n",
        "      self.color = color\n",
        "      print(super().message)\n",
        "\n",
        "# If you do not specify the constructor explicitely in Dog subclass\n",
        "# Python will look for it in superclass\n",
        "\n",
        "class Dog(Mammal):\n",
        "    pass\n",
        "\n",
        "myDog = Dog(\"Rex\", \"golden\")"
      ],
      "metadata": {
        "id": "9kQh5yWFIg-T"
      },
      "execution_count": null,
      "outputs": []
    },
    {
      "cell_type": "markdown",
      "source": [
        " 7.5  Method overriding\n",
        "---\n",
        "Method overriding provides a subclass to define a method that has alredy being\n",
        "defined in its superclass.\n",
        "\n",
        "---"
      ],
      "metadata": {
        "id": "YHYe8k_mJ48T"
      }
    },
    {
      "cell_type": "code",
      "source": [
        "# Define a parent or superclass class.\n",
        "class Animal:\n",
        "    def __init__(self, name):\n",
        "        self.name = name\n",
        "\n",
        "    def speak(self):\n",
        "        pass  # This method will be overridden in subclasses\n",
        "\n",
        "# Define a child or subclass class that inherits from Animal.\n",
        "class Dog(Animal):\n",
        "    def speak(self):\n",
        "        print (\"Woof, Woof!\")\n",
        "\n",
        "# Define a child or subclass class that inherits from Animal.\n",
        "class Cat(Animal):\n",
        "    def speak(self):\n",
        "        print (\"Meow, Meow!\")\n",
        "\n",
        "# Create instances of the subclasses\n",
        "myDog = Dog(\"Rex\")\n",
        "myCat = Cat(\"Misty\")\n",
        "\n",
        "# Call the speak method on each instance\n",
        "myDog.speak()\n",
        "myCat.speak()"
      ],
      "metadata": {
        "id": "H3jlHwEdaWR9"
      },
      "execution_count": null,
      "outputs": []
    },
    {
      "cell_type": "markdown",
      "source": [
        "7.6 Polymorphism\n",
        "---\n",
        " Polymorphism is an ability for a method to be executed on different objects. We can have multiple classes with the same method name.  \n",
        "\n",
        "---"
      ],
      "metadata": {
        "id": "jd3fN1PBwFnD"
      }
    },
    {
      "cell_type": "code",
      "source": [
        "# Define a parent or superclass class.\n",
        "class Animal:\n",
        "    def __init__(self, name):\n",
        "        self.name = name\n",
        "\n",
        "    def speak(self):\n",
        "        pass  # This method will be overridden in subclasses\n",
        "\n",
        "# Define a child or subclass class that inherits from Animal.\n",
        "class Dog(Animal):\n",
        "    def speak(self):\n",
        "        print (\"Woof, Woof!\")\n",
        "\n",
        "# Define a child or subclass class that inherits from Animal.\n",
        "class Cat(Animal):\n",
        "    def speak(self):\n",
        "        print (\"Meow, Meow!\")\n",
        "\n",
        "# Create instances of Dog and Cat\n",
        "myDog = Dog(\"Rex\")\n",
        "myCat = Cat(\"Misty\")\n",
        "\n",
        "# Create a function that takes an Animal object and makes it speak\n",
        "# When myDog and myCat instances are passed to the function,\n",
        "# it is showing polymorphism. The function works with objects of\n",
        "# different classes and calls the appropriate speak method for\n",
        "#each object.\n",
        "\n",
        "def animalSpeak(animal):\n",
        "    return animal.speak()\n",
        "\n",
        "# Call the make_animal_speak function with different animal objects\n",
        "animalSpeak(myDog)\n",
        "animalSpeak(myCat)\n"
      ],
      "metadata": {
        "colab": {
          "base_uri": "https://localhost:8080/"
        },
        "id": "Xw1a5OiHMZSc",
        "outputId": "f8be4960-18db-4e9d-8b68-5469448b1714"
      },
      "execution_count": null,
      "outputs": [
        {
          "output_type": "stream",
          "name": "stdout",
          "text": [
            "Woof, Woof!\n",
            "Meow, Meow!\n"
          ]
        }
      ]
    },
    {
      "cell_type": "markdown",
      "source": [
        "# Section 8: Exceptions"
      ],
      "metadata": {
        "id": "cC5EVsg9nIiH"
      }
    },
    {
      "cell_type": "markdown",
      "source": [
        "Description:\n",
        "\n",
        "---\n",
        "        An exception is activated by an execution error that will terminate the\n",
        "        program execution. Exceptions are controlled by try and except branches.\n",
        "\n",
        "        1. try is executed\n",
        "        2. if no exception occurs, exception is skipped\n",
        "        3. if exception occures matching the exception name, the exception statement is executed\n",
        "        4. if there is no exception named it passes to the outer try statement\n",
        "\n",
        "        The list of most common exceptions in Python language:\n",
        "\n",
        "        ZeroDivisionError - raised if division by zero has attempted;\n",
        "        AttributeError - raised if method tried that does not exist;\n",
        "        SyntaxError - raised in violation of Python's grammar;\n",
        "        ValueError - raised when wrong use of values;\n",
        "        TypeError - raised when wrong type of data;\n",
        "        NameError - raised when variable or function does does not exist.\n",
        "---\n",
        "\n",
        "Syntax:\n",
        "\n",
        "        try:    block of code that causes an exception\n",
        "        except: block of code to run when exception occures\n"
      ],
      "metadata": {
        "id": "T_HjwtQMl4k1"
      }
    },
    {
      "cell_type": "markdown",
      "source": [
        "Errors\n",
        "---\n",
        "Exceptions are the errors that Python generates. Python does not know what to do and it raises an exception. One of the most often errors is the syntax error. Syntax errors are very easy to find and fix. Here's an example of simple syntax error.\n",
        "\n",
        "---"
      ],
      "metadata": {
        "id": "pPomyhQ6VNZU"
      }
    },
    {
      "cell_type": "code",
      "source": [
        "\n",
        "if True;\n",
        "print(\"Hello, World!\")"
      ],
      "metadata": {
        "colab": {
          "base_uri": "https://localhost:8080/",
          "height": 144
        },
        "id": "4-wLVBqiU5WI",
        "outputId": "d134faf0-1935-4322-f5ba-f9bacbf863e5"
      },
      "execution_count": null,
      "outputs": [
        {
          "output_type": "error",
          "ename": "SyntaxError",
          "evalue": "ignored",
          "traceback": [
            "\u001b[0;36m  File \u001b[0;32m\"<ipython-input-134-bf3e250609e5>\"\u001b[0;36m, line \u001b[0;32m1\u001b[0m\n\u001b[0;31m    if True;\u001b[0m\n\u001b[0m           ^\u001b[0m\n\u001b[0;31mSyntaxError\u001b[0m\u001b[0;31m:\u001b[0m invalid syntax\n"
          ]
        }
      ]
    },
    {
      "cell_type": "code",
      "source": [
        "# Exception for division by zero\n",
        "\n",
        "myDivision = (1.0/float(input(\"Enter any number except zero \")))"
      ],
      "metadata": {
        "colab": {
          "base_uri": "https://localhost:8080/",
          "height": 236
        },
        "id": "FFqyEg3BXPV-",
        "outputId": "b4a25cbf-d9cb-45b8-ab57-f924c71efdce"
      },
      "execution_count": null,
      "outputs": [
        {
          "name": "stdout",
          "output_type": "stream",
          "text": [
            "Enter any number except zero vsl\n"
          ]
        },
        {
          "output_type": "error",
          "ename": "ValueError",
          "evalue": "ignored",
          "traceback": [
            "\u001b[0;31m---------------------------------------------------------------------------\u001b[0m",
            "\u001b[0;31mValueError\u001b[0m                                Traceback (most recent call last)",
            "\u001b[0;32m<ipython-input-140-3828c9a24a4c>\u001b[0m in \u001b[0;36m<cell line: 3>\u001b[0;34m()\u001b[0m\n\u001b[1;32m      1\u001b[0m \u001b[0;31m# Exception for division by zero\u001b[0m\u001b[0;34m\u001b[0m\u001b[0;34m\u001b[0m\u001b[0m\n\u001b[1;32m      2\u001b[0m \u001b[0;34m\u001b[0m\u001b[0m\n\u001b[0;32m----> 3\u001b[0;31m \u001b[0mmyDivision\u001b[0m \u001b[0;34m=\u001b[0m \u001b[0;34m(\u001b[0m\u001b[0;36m1.0\u001b[0m\u001b[0;34m/\u001b[0m\u001b[0mfloat\u001b[0m\u001b[0;34m(\u001b[0m\u001b[0minput\u001b[0m\u001b[0;34m(\u001b[0m\u001b[0;34m\"Enter any number except zero \"\u001b[0m\u001b[0;34m)\u001b[0m\u001b[0;34m)\u001b[0m\u001b[0;34m)\u001b[0m\u001b[0;34m\u001b[0m\u001b[0;34m\u001b[0m\u001b[0m\n\u001b[0m",
            "\u001b[0;31mValueError\u001b[0m: could not convert string to float: 'vsl'"
          ]
        }
      ]
    },
    {
      "cell_type": "code",
      "source": [
        "# Exception for division by zero\n",
        "\n",
        "myDivision = (1.0/float(input(\"Enter any number except zero \")))"
      ],
      "metadata": {
        "id": "q9YTNF9-X6LC",
        "outputId": "32be3119-ca31-47db-8167-37712f9990a3",
        "colab": {
          "base_uri": "https://localhost:8080/",
          "height": 236
        }
      },
      "execution_count": null,
      "outputs": [
        {
          "name": "stdout",
          "output_type": "stream",
          "text": [
            "Enter any number except zero 0\n"
          ]
        },
        {
          "output_type": "error",
          "ename": "ZeroDivisionError",
          "evalue": "ignored",
          "traceback": [
            "\u001b[0;31m---------------------------------------------------------------------------\u001b[0m",
            "\u001b[0;31mZeroDivisionError\u001b[0m                         Traceback (most recent call last)",
            "\u001b[0;32m<ipython-input-141-3828c9a24a4c>\u001b[0m in \u001b[0;36m<cell line: 3>\u001b[0;34m()\u001b[0m\n\u001b[1;32m      1\u001b[0m \u001b[0;31m# Exception for division by zero\u001b[0m\u001b[0;34m\u001b[0m\u001b[0;34m\u001b[0m\u001b[0m\n\u001b[1;32m      2\u001b[0m \u001b[0;34m\u001b[0m\u001b[0m\n\u001b[0;32m----> 3\u001b[0;31m \u001b[0mmyDivision\u001b[0m \u001b[0;34m=\u001b[0m \u001b[0;34m(\u001b[0m\u001b[0;36m1.0\u001b[0m\u001b[0;34m/\u001b[0m\u001b[0mfloat\u001b[0m\u001b[0;34m(\u001b[0m\u001b[0minput\u001b[0m\u001b[0;34m(\u001b[0m\u001b[0;34m\"Enter any number except zero \"\u001b[0m\u001b[0;34m)\u001b[0m\u001b[0;34m)\u001b[0m\u001b[0;34m)\u001b[0m\u001b[0;34m\u001b[0m\u001b[0;34m\u001b[0m\u001b[0m\n\u001b[0m",
            "\u001b[0;31mZeroDivisionError\u001b[0m: float division by zero"
          ]
        }
      ]
    },
    {
      "cell_type": "markdown",
      "source": [
        "Note\n",
        "\n",
        "---\n",
        "When you see the error you are given some useful information, a line that produces the error, name of the error, and you can see a descriptive message that will help you to debug the program.\n",
        "\n",
        "---\n"
      ],
      "metadata": {
        "id": "Zdo6-5yVV5Bj"
      }
    },
    {
      "cell_type": "code",
      "source": [
        "# Exception for division by zero\n",
        "\n",
        "def devisionByZero():\n",
        "   myDivision = (1.0/float(input(\"Enter any number except zero \")))\n",
        "   return myDivision\n",
        "\n",
        "try:\n",
        "  devisionByZero()\n",
        "except ZeroDivisionError:\n",
        "  print('Division by zero has been attempted')\n"
      ],
      "metadata": {
        "id": "QasrCGBBnMmA"
      },
      "execution_count": null,
      "outputs": []
    },
    {
      "cell_type": "code",
      "source": [
        "# Exception for division by zero\n",
        "\n",
        "def devisionByZero():\n",
        "   myDivision = (1.0/float(input(\"Enter any number except zero \")))\n",
        "   return myDivision\n",
        "\n",
        "try:\n",
        "    devisionByZero()\n",
        "except ValueError:\n",
        "  print(\"Wrong value input\")\n",
        "except ZeroDivisionError:\n",
        "  print(\"Division by zero\")\n",
        "except TypeError:\n",
        "  print(\"Error\")\n",
        "\n"
      ],
      "metadata": {
        "id": "uGxYFrK71Aq6"
      },
      "execution_count": null,
      "outputs": []
    },
    {
      "cell_type": "markdown",
      "source": [
        "# Section 9: Input and output (I/O) operations\n",
        "\n",
        "9.1 User input\n",
        "\n",
        "9.2 File input output\n",
        "\n",
        "9.3 Print function"
      ],
      "metadata": {
        "id": "iMOkr-q9dKwM"
      }
    },
    {
      "cell_type": "markdown",
      "source": [
        "Note\n",
        "\n",
        "---\n",
        "Input and output in Python involves reading data from various sources and writing data to various destinations. Pyhton provides several ways to handle input and output. Here are examples of the most commpn methods.\n",
        "\n",
        "---"
      ],
      "metadata": {
        "id": "Qm3dHdq6ILg_"
      }
    },
    {
      "cell_type": "markdown",
      "source": [
        "9.1 User input\n",
        "---\n",
        "User input is allowed in Python. The input() method (python 3.6) or raw_input method in python (2.7) can be used.\n",
        "\n",
        "---\n",
        "\n",
        "Syntax:\n",
        "\n",
        "        variable = input( \" Corresponding text for a user \" )"
      ],
      "metadata": {
        "id": "Qww9K1IrvtMy"
      }
    },
    {
      "cell_type": "code",
      "source": [
        "# The user input\n",
        "\n",
        "userName = input(\"Enter your user name plz: \\n\")\n",
        "\n",
        "print(\"Your username is: \" + userName)"
      ],
      "metadata": {
        "id": "MCyFZIP6wN8F"
      },
      "execution_count": null,
      "outputs": []
    },
    {
      "cell_type": "markdown",
      "source": [
        "9.2 File input and output\n",
        "---\n",
        "File input and output in Python is a way to read from and write to a file on your loacal machine. Python provides a few methods to work with files. Files in Pyhton can be created, read, appended, ... open() function can be used to work with files in Python. This function takes two parameters: filename and mode.\n",
        "\n",
        "---\n",
        "        \n",
        "        Method (mode) for opening a file:\n",
        "        r - Read - Default value. Opens a file for reading, error if the file does not exist\n",
        "        a - Append - Opens a file for appending, creates the file if it does not exist\n",
        "        w - Write - Opens a file for writing, creates the file if it does not exist\n",
        "        x - Create - Creates the specified file, returns an error if the file exists\n",
        "        \n",
        "        In the text or binary modes\n",
        "        \n",
        "        t - Text - Default value. Text mode\n",
        "        b - Binary - Binary mode (e.g. images)\n",
        "\n",
        "Syntax:\n",
        "\n",
        "        file = open(\"filename\", \"mode\")\n",
        "\n",
        "___"
      ],
      "metadata": {
        "id": "1tFhadtVhsYr"
      }
    },
    {
      "cell_type": "code",
      "source": [
        "# To open a file - requires explicit closing\n",
        "\n",
        "myFirstFile = open( \"myDataFile.txt\", \"rt\" )\n",
        "myFirstFile.close()                       #Close the file when you are finished.\n"
      ],
      "metadata": {
        "id": "atZC5_fvzbE4"
      },
      "execution_count": null,
      "outputs": []
    },
    {
      "cell_type": "code",
      "source": [
        "# To open a file - requires explicit closing\n",
        "\n",
        "myFirstFile = open( \"myDataFile.txt\", \"r\" )\n",
        "\n",
        "myFirstFile.read()\n",
        "myFirstFile.readline()\n",
        "\n",
        "myFirstFile.close()                       #Close the file when you are finished."
      ],
      "metadata": {
        "id": "NOXK2KZizzPo"
      },
      "execution_count": null,
      "outputs": []
    },
    {
      "cell_type": "code",
      "source": [
        "# Loop through the entire file\n",
        "\n",
        "myFirstFile = open( \"myDataFile.txt\", \"r\" )\n",
        "\n",
        "for i in myFirstFile: print(i)\n",
        "\n",
        "myFirstFile.close()                      # Close the file when you are finished."
      ],
      "metadata": {
        "id": "ZXnx5l380U6c",
        "colab": {
          "base_uri": "https://localhost:8080/"
        },
        "outputId": "b15b9e46-4100-4842-94a1-eda57b541c2d"
      },
      "execution_count": null,
      "outputs": [
        {
          "output_type": "stream",
          "name": "stdout",
          "text": [
            "It is going to the end of a file\n"
          ]
        }
      ]
    },
    {
      "cell_type": "code",
      "source": [
        "# To append to a file you need to use \"a\" parameter\n",
        "\n",
        "myFirstFile = open( \"myDataFile.txt\", \"a\" )\n",
        "\n",
        "myFirstFile.write(\"It is going to the end of a file\")\n",
        "\n",
        "myFirstFile.close() #Close the file when you are finished.\n",
        "\n",
        "# Open and read the file after the appending\n",
        "\n",
        "myFirstFile = open( \"myDataFile.txt\", \"r\" )\n",
        "\n",
        "print(myFirstFile.read())\n",
        "\n",
        "myFirstFile.close() #Close the file when you are finished."
      ],
      "metadata": {
        "id": "9Rig5pof07Ex"
      },
      "execution_count": null,
      "outputs": []
    },
    {
      "cell_type": "markdown",
      "source": [
        "Creating a new file\n",
        "---\n",
        "\n",
        "        Method (mode) for opening a file:\n",
        "        r  - Open   - will open a file for reading;\n",
        "        x  - Create - will create a file, returns an error if the file exist;\n",
        "        a  - Append - will create a file if the specified file does not exist;\n",
        "        w  - Write  - will create a file if the specified file does not exist."
      ],
      "metadata": {
        "id": "Vp08HtUm1mIo"
      }
    },
    {
      "cell_type": "code",
      "source": [
        "# Creating a new file\n",
        "\n",
        "myFirstFile = open( \"myDataFile2.txt\", \"x\" ) # a new and empty file is created\n",
        "myFirstFile = open( \"myDataFile3.txt\", \"w\" ) # if there is no file, it will be created\n",
        "myFirstFile = open( \"myDataFile4.txt\", \"a\" ) # if there is no file, it will be created\n",
        "\n",
        "myFirstFile.close()"
      ],
      "metadata": {
        "id": "5pPLB68H1ju1"
      },
      "execution_count": null,
      "outputs": []
    },
    {
      "cell_type": "code",
      "source": [
        "# To delete the file you need to import the os module\n",
        "\n",
        "import os\n",
        "\n",
        "if os.path.exists(\"myDataFile.txt\"):\n",
        "   os.remove(\"myDataFile.txt\")\n",
        "else:\n",
        "  print(\"This file does not exist\")"
      ],
      "metadata": {
        "id": "IxNAreqU2S12"
      },
      "execution_count": null,
      "outputs": []
    },
    {
      "cell_type": "code",
      "source": [
        "# To delete the entire folder\n",
        "\n",
        "import os\n",
        "\n",
        "os.rmdir(\"myFolder\")"
      ],
      "metadata": {
        "id": "ujyMAxjC2wJR"
      },
      "execution_count": null,
      "outputs": []
    },
    {
      "cell_type": "markdown",
      "source": [
        "Open file with \"with\" option\n",
        "---"
      ],
      "metadata": {
        "id": "1LwBL9NejBpq"
      }
    },
    {
      "cell_type": "markdown",
      "source": [
        "Description:\n",
        "\n",
        "---\n",
        "        Using the open() method requires you to use the close() method to close\n",
        "        the file. \"with\" option allows to open files as it returns a file\n",
        "        object, which has methods and attributes to manipulate the files.\n",
        "\n",
        "---\n",
        "Syntax:\n",
        "\n",
        "        with open(\"myDataFile.txt) as file:\n",
        "\n"
      ],
      "metadata": {
        "id": "QtKPdXsP3maX"
      }
    },
    {
      "cell_type": "code",
      "source": [
        "# Using \"with\" - no explicit closing of a file is required\n",
        "\n",
        "with open(\"myDataFile.txt\", \"a\") as myFirstFile:\n",
        "  myFirstFile.write(\"Hello World!\")\n",
        "\n",
        "# You do not need to close it explicitely"
      ],
      "metadata": {
        "id": "496pG5655Div"
      },
      "execution_count": null,
      "outputs": []
    },
    {
      "cell_type": "markdown",
      "source": [
        "9.3 Print function\n",
        "---\n",
        "Print function is usually used for to print python objects as standard output.\n",
        "\n",
        "---\n",
        "Syntax:\n",
        "\n",
        "        print(objects, sep, end, file, flush)\n",
        "\n",
        "        objects - strings, tuples, lists, etc.\n",
        "        sep - an optional parameter that is used to define a separation.\n",
        "        end - an optional parameter that is used to define an end of a string printed.\n",
        "        file - an optional parameter when writing to the file.\n",
        "        flush - an optional boolean parameter setting flushed or buffered output.\n"
      ],
      "metadata": {
        "id": "Zk_SMAm04wBR"
      }
    },
    {
      "cell_type": "code",
      "source": [
        "# Printing the objects\n",
        "\n",
        "myList   = [ 1, 2, 3, 4, 5 ]\n",
        "\n",
        "myTuple  = ( 1, 2, 3, 4, 5 )\n",
        "\n",
        "myString = \"1, 2, 3, 4, 5\"\n",
        "\n",
        "print(myList, myTuple, myString)"
      ],
      "metadata": {
        "colab": {
          "base_uri": "https://localhost:8080/"
        },
        "id": "5PogbvQP6fF4",
        "outputId": "7ad5ef73-1026-407e-aaf1-23eb39737489"
      },
      "execution_count": null,
      "outputs": [
        {
          "output_type": "stream",
          "name": "stdout",
          "text": [
            "[1, 2, 3, 4, 5] (1, 2, 3, 4, 5) 1, 2, 3, 4, 5\n"
          ]
        }
      ]
    },
    {
      "cell_type": "code",
      "source": [
        "# Printing objects with a separator\n",
        "\n",
        "myList   = [ 1, 2, 3, 4, 5 ]\n",
        "myTuple  = ( 1, 2, 3, 4, 5 )\n",
        "myString = \" 1, 2, 3, 4, 5 \"\n",
        "\n",
        "print(myList, myTuple, myString, sep=\"/\")"
      ],
      "metadata": {
        "colab": {
          "base_uri": "https://localhost:8080/"
        },
        "id": "_m1jkA966-ZC",
        "outputId": "8fa6006c-4d3a-4385-da71-0da0357d62f2"
      },
      "execution_count": null,
      "outputs": [
        {
          "output_type": "stream",
          "name": "stdout",
          "text": [
            "[1, 2, 3, 4, 5]/(1, 2, 3, 4, 5)/ 1, 2, 3, 4, 5 \n"
          ]
        }
      ]
    },
    {
      "cell_type": "code",
      "source": [
        "# Printing objects with a separator and an end\n",
        "\n",
        "myList   = [ 1, 2, 3, 4, 5 ]\n",
        "myTuple  = ( 1, 2, 3, 4, 5 )\n",
        "myString = \" 1, 2, 3, 4, 5 \"\n",
        "\n",
        "print(myList, myTuple, myString, sep=\" ; \", end=\" END\")"
      ],
      "metadata": {
        "colab": {
          "base_uri": "https://localhost:8080/"
        },
        "id": "kRAkXYEC7NRb",
        "outputId": "96ce292a-6c69-4cd8-e572-4e0b673e45eb"
      },
      "execution_count": null,
      "outputs": [
        {
          "output_type": "stream",
          "name": "stdout",
          "text": [
            "[1, 2, 3, 4, 5] ; (1, 2, 3, 4, 5) ;  1, 2, 3, 4, 5  END"
          ]
        }
      ]
    },
    {
      "cell_type": "code",
      "source": [
        "# Using flush command\n",
        "\n",
        "import time\n",
        "countSeconds = 3\n",
        "\n",
        "for i in reversed(range(countSeconds + 1)):\n",
        "  if i> 0:\n",
        "    print(i, end=\"/\", flush=True)  #flush specifies if it is flushed (True) or buffered (False)\n",
        "    time.sleep(1)\n",
        "  else:\n",
        "    print('End of a file')"
      ],
      "metadata": {
        "colab": {
          "base_uri": "https://localhost:8080/"
        },
        "id": "DoHFBSLi8_wx",
        "outputId": "de753511-90b0-41f7-f490-06b8ad7d0e98"
      },
      "execution_count": null,
      "outputs": [
        {
          "output_type": "stream",
          "name": "stdout",
          "text": [
            "3/2/1/End of a file\n"
          ]
        }
      ]
    },
    {
      "cell_type": "markdown",
      "source": [
        "Formating output from print() function\n",
        "---\n",
        "General syntax is listed for a format placeholder.\n",
        "\n",
        "---\n",
        "Syntax:\n",
        "              \n",
        "             ' %d %s ... %.2f '    %         ( 1, 2, ..., n)\n",
        "            |------------------|   %   |-------------------------|\n",
        "                  template      modulus    positional arguments   \n",
        "       print(' %d %s ... %.2f'     %         ( 1, 2, ..., n)     )  \n",
        "\n",
        "\n",
        "            |------------------|.format|-------------------------|\n",
        "                  template       format    positional arguments\n",
        "       print(' {} {} ... {} n'  .format      ( 1, 2, ..., n )    )\n",
        "\n",
        "       print(' {key} ... {} n'  .format     (key = value, ...)   )\n",
        "\n",
        "       print(f'{} {} ... {} n' )"
      ],
      "metadata": {
        "id": "RP6FalHu_XVv"
      }
    },
    {
      "cell_type": "code",
      "source": [
        "# Output formatting in python\n",
        "# This program is showing how to use\n",
        "# string modulo operator(%) to print various data types\n",
        "\n",
        "# print integer and float value\n",
        "print(\"Integer number : %2d, float number : %5.2f\" % (11, 05.333))\n",
        "\n",
        "# print integer value\n",
        "print(\"Total students : %3d, Boys : %2d\" % (240, 120))\n",
        "\n",
        "# print octal value\n",
        "print(\"%7.3o\" % (25))\n",
        "\n",
        "# print integer value\n",
        "print(\"%7.3d\" % (25))\n",
        "\n",
        "# print exponential value\n",
        "print(\"%10.3e\" % (356.08977))"
      ],
      "metadata": {
        "id": "wvwhB3nG-HeZ"
      },
      "execution_count": null,
      "outputs": []
    },
    {
      "cell_type": "code",
      "source": [
        "# Output formatting in python\n",
        "# This program is showing how to use\n",
        "# string modulo operator(%) to print various data types\n",
        "print('%d %s cost $%.2f' % (3, 'oranges', 5.11))"
      ],
      "metadata": {
        "id": "wLuaHaR8F_Y9"
      },
      "execution_count": null,
      "outputs": []
    },
    {
      "cell_type": "code",
      "source": [
        "# Control output using format() method with one argument\n",
        "\n",
        "myString = \"Python language was created in {}\"\n",
        "\n",
        "print(myString.format(1985))"
      ],
      "metadata": {
        "id": "hPiIxPtYrb-z"
      },
      "execution_count": null,
      "outputs": []
    },
    {
      "cell_type": "code",
      "source": [
        "# Python’s string.format() method is used instead\n",
        "print('{0} {1} cost ${2}'.format(3, 'oranges', 5.11))\n",
        "#     |-----------------|.format|--------------------------|\n",
        "#           template     .format    positional arguments"
      ],
      "metadata": {
        "id": "7doVvSOuGnvT"
      },
      "execution_count": null,
      "outputs": []
    },
    {
      "cell_type": "code",
      "source": [
        "# Using keyword parameters instead of positional arguments\n",
        "print('{quantity} {item} cost ${price}'.format(quantity=3,item='oranges',price=5.11))"
      ],
      "metadata": {
        "id": "e38SwInxH-6J"
      },
      "execution_count": null,
      "outputs": []
    },
    {
      "cell_type": "code",
      "source": [
        "# Output formatting in Python\n",
        "# This program is showing how to use\n",
        "# f-string to print various data types\n",
        "\n",
        "quantity = 3\n",
        "item = 'oranges'\n",
        "price = 5.11\n",
        "\n",
        "print(f'{quantity} {item} cost ${price}')"
      ],
      "metadata": {
        "id": "XB9582OjVOqt"
      },
      "execution_count": null,
      "outputs": []
    }
  ]
}